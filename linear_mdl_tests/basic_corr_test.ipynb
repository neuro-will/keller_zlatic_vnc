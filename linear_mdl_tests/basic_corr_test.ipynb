{
 "cells": [
  {
   "cell_type": "markdown",
   "metadata": {},
   "source": [
    "Here we make sure that if we have two highly correlated variables we correctly estimate the uncertainty in their\n",
    "estimated values due to their correlation. \n",
    "\n",
    "The particulars of the simulation are as follows:\n",
    "\n",
    "    1) All variables have a variance of 1 and are normally distributed\n",
    "    2) We simulate a given set of indepenent variabes, each of which is paired with a dependent variable with \n",
    "       some specified correlation to the independent variable\n",
    "    3) The true model simply sums the dependent variables and adds normal noise\n",
    "    4) We seek to estimate the coefficents of a fit model, including uncertainty"
   ]
  },
  {
   "cell_type": "code",
   "execution_count": 1,
   "metadata": {},
   "outputs": [],
   "source": [
    "%load_ext autoreload\n",
    "%autoreload 2"
   ]
  },
  {
   "cell_type": "code",
   "execution_count": 2,
   "metadata": {},
   "outputs": [],
   "source": [
    "import numpy as np\n",
    "import matplotlib.pyplot as plt\n",
    "\n",
    "from janelia_core.stats.regression import grouped_linear_regression_boot_strap\n",
    "from janelia_core.stats.regression import visualize_boot_strap_results"
   ]
  },
  {
   "cell_type": "markdown",
   "metadata": {},
   "source": [
    "## Parameters go here"
   ]
  },
  {
   "cell_type": "code",
   "execution_count": 194,
   "metadata": {},
   "outputs": [],
   "source": [
    "n_indep_vars = 3 # Number of independent variables; each of these will be paired with \n",
    "                  # an another confounding \"dependent\" variable\n",
    "\n",
    "dep_corr = 0 # Target correlation between each independent variable and it's confound\n",
    "\n",
    "# Here we list how many samples we get from each group\n",
    "n_smps = 1000\n",
    "            \n",
    "# Here we specify the noise standard deviation - we assume the same noise statistics\n",
    "# are independent of recording grp\n",
    "noise_std = 5"
   ]
  },
  {
   "cell_type": "markdown",
   "metadata": {},
   "source": [
    "## Simulated data generation"
   ]
  },
  {
   "cell_type": "code",
   "execution_count": 195,
   "metadata": {},
   "outputs": [],
   "source": [
    "# Generate x data\n",
    "x_paired = [np.random.multivariate_normal([0, 0], np.asarray([[1, dep_corr], [dep_corr, 1]]), n_smps)\n",
    "            for v_i in range(n_indep_vars)]\n",
    "x = np.concatenate(x_paired, axis=1)\n",
    "\n",
    "# Generate y data\n",
    "var_inds = np.arange(0, 2*n_indep_vars, 2)\n",
    "y = np.sum(x[:, var_inds], axis=1) + noise_std*np.random.randn(n_smps)\n",
    "\n",
    "var_strs = ['v_' + str(i) for i in range(2*n_indep_vars)]"
   ]
  },
  {
   "cell_type": "markdown",
   "metadata": {},
   "source": [
    "## Run statistics"
   ]
  },
  {
   "cell_type": "code",
   "execution_count": 196,
   "metadata": {},
   "outputs": [],
   "source": [
    "stat_rs = grouped_linear_regression_boot_strap(y=y, x=x, \n",
    "                                               g=np.arange(n_smps), \n",
    "                                               n_bs_smps=1000,\n",
    "                                               include_mean=False,\n",
    "                                               rcond=None)"
   ]
  },
  {
   "cell_type": "code",
   "execution_count": 197,
   "metadata": {},
   "outputs": [
    {
     "data": {
      "text/plain": [
       "<matplotlib.axes._subplots.AxesSubplot at 0x122e22128>"
      ]
     },
     "execution_count": 197,
     "metadata": {},
     "output_type": "execute_result"
    },
    {
     "data": {
      "image/png": "[encoded data removed]",
      "text/plain": [
       "<Figure size 432x288 with 1 Axes>"
      ]
     },
     "metadata": {
      "needs_background": "light"
     },
     "output_type": "display_data"
    }
   ],
   "source": [
    "visualize_boot_strap_results(bs_values=stat_rs[0],\n",
    "                             var_strs=var_strs, alpha=.01)"
   ]
  },
  {
   "cell_type": "code",
   "execution_count": null,
   "metadata": {},
   "outputs": [],
   "source": []
  },
  {
   "cell_type": "code",
   "execution_count": null,
   "metadata": {},
   "outputs": [],
   "source": []
  }
 ],
 "metadata": {
  "kernelspec": {
   "display_name": "Python 3",
   "language": "python",
   "name": "python3"
  },
  "language_info": {
   "codemirror_mode": {
    "name": "ipython",
    "version": 3
   },
   "file_extension": ".py",
   "mimetype": "text/x-python",
   "name": "python",
   "nbconvert_exporter": "python",
   "pygments_lexer": "ipython3",
   "version": "3.7.3"
  }
 },
 "nbformat": 4,
 "nbformat_minor": 2
}
