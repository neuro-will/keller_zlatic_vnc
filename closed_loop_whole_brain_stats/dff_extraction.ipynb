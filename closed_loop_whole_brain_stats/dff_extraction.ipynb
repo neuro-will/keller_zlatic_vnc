{
 "cells": [
  {
   "cell_type": "markdown",
   "metadata": {},
   "source": [
    "Code to extract and save $\\Delta F / F$ for whole making whole brain maps"
   ]
  },
  {
   "cell_type": "code",
   "execution_count": 1,
   "metadata": {},
   "outputs": [],
   "source": [
    "%load_ext autoreload\n",
    "%autoreload 2"
   ]
  },
  {
   "cell_type": "code",
   "execution_count": 2,
   "metadata": {},
   "outputs": [
    {
     "name": "stderr",
     "output_type": "stream",
     "text": [
      "\\\\keller-s13\\shared\\exchange\\will\\bishoplab\\projects\\keller_drive\\janelia_core\\janelia_core\\fileio\\exp_reader.py:21: UserWarning: Unable to locate pyklb module.  Will not be able to read in .klb files.\n",
      "  warnings.warn('Unable to locate pyklb module.  Will not be able to read in .klb files.')\n"
     ]
    }
   ],
   "source": [
    "import copy\n",
    "import glob\n",
    "from pathlib import Path\n",
    "import pickle\n",
    "#import re\n",
    "\n",
    "#import matplotlib.pyplot as plt\n",
    "import numpy as np\n",
    "import pandas as pd\n",
    "\n",
    "import janelia_core\n",
    "from janelia_core.dataprocessing.dataset import ROIDataset\n",
    "#from janelia_core.utils.data_saving import append_ts\n",
    "\n",
    "#from keller_zlatic_vnc.data_processing import extract_transitions\n",
    "from keller_zlatic_vnc.data_processing import calc_dff\n",
    "from keller_zlatic_vnc.data_processing import match_annotation_subject_to_volume_subject\n",
    "from keller_zlatic_vnc.data_processing import read_raw_transitions_from_excel\n",
    "#from keller_zlatic_vnc.data_processing import recode_beh\n",
    "from keller_zlatic_vnc.data_processing import down_select_events\n",
    "from keller_zlatic_vnc.data_processing import find_before_and_after_events\n",
    "from keller_zlatic_vnc.data_processing import generate_standard_id_for_full_annots\n",
    "from keller_zlatic_vnc.data_processing import read_full_annotations\n",
    "from keller_zlatic_vnc.data_processing import whole_brain_extract_dff_with_annotations"
   ]
  },
  {
   "cell_type": "markdown",
   "metadata": {},
   "source": [
    "## Parameters go here"
   ]
  },
  {
   "cell_type": "code",
   "execution_count": 3,
   "metadata": {},
   "outputs": [],
   "source": [
    "ps = dict()\n",
    "\n",
    "# The file specifying which subjects we should include in the analysis\n",
    "ps['subject_file'] = r'Z:\\Exchange\\Will\\bishoplab\\projects\\keller_drive\\keller_vnc\\data\\single_cell\\subjects.csv'\n",
    "\n",
    "# Location of folders containing annotations\n",
    "ps['a4_annot_folder'] = r'Z:\\Exchange\\Will\\bishoplab\\projects\\keller_drive\\keller_vnc\\data\\full_annotations\\behavior_csv_cl_A4'\n",
    "ps['a9_annot_folder'] = r'Z:\\Exchange\\Will\\bishoplab\\projects\\keller_drive\\keller_vnc\\data\\full_annotations\\behavior_csv_cl_A9'\n",
    "\n",
    "# Location of file containing Chen's annotations - we use this to filter down to only good stimulus events\n",
    "ps['chen_file'] = r'Z:\\Exchange\\Will\\bishoplab\\projects\\keller_drive\\keller_vnc\\data\\extracted_dff_v2\\transition_list_CW_11202021.xlsx'\n",
    "\n",
    "# Location of excel file specifying where the data for each experiment is saved relative to the base folder\n",
    "ps['data_loc_file'] = r'Z:\\Exchange\\Will\\bishoplab\\projects\\keller_drive\\keller_vnc\\data\\experiment_data_locations.xlsx'\n",
    "\n",
    "# Base folder where datasets are stored \n",
    "ps['dataset_base_folder'] =r'W:\\\\SV4'\n",
    "\n",
    "# Subfolder containing the dataset for each subject\n",
    "ps['dataset_folder'] = 'extracted'\n",
    "\n",
    "# Parameters for declaring preceeding and succeeding quiet behaviors\n",
    "ps['pre_q_th'] = 50\n",
    "ps['succ_q_th'] = 9\n",
    "\n",
    "# Parameters for determing the location of the marked preceeding and succeeding quiet events\n",
    "ps['pre_q_event_l'] = 3 # Event length for the preceeding quiet event\n",
    "ps['succ_q_event_l'] = 3 # Event length for the succeeding quiet event\n",
    "\n",
    "# Data to calculate Delta F/F for in each dataset\n",
    "ps['f_ts_str'] = 'f_5_25_25'\n",
    "ps['bl_ts_str'] = 'bl_5_25_25_long'\n",
    "\n",
    "# Parameters for calculating Delta F/F\n",
    "ps['dff_calc_params'] = dict()\n",
    "ps['dff_calc_params']['background'] = 100\n",
    "ps['dff_calc_params']['ep'] = 20\n",
    "\n",
    "\n",
    "# Specify where we save our results\n",
    "test_type = 'decision_dependence'\n",
    "ps['save_folder'] = r'Z:\\Exchange\\Will\\bishoplab\\projects\\keller_drive\\keller_vnc\\results\\new_whole_brain_stats\\5_25_25'\n",
    "ps['save_str'] = test_type + '_5_25_25'\n",
    "\n",
    "\n",
    "\n",
    "if test_type == 'after_reporting':\n",
    "    # The type of window we are aligning\n",
    "    ps['dff_window_type'] = 'start_aligned'\n",
    "\n",
    "    # The reference we use for aligning windows\n",
    "    ps['dff_window_ref'] = 'beh_after_start'\n",
    "\n",
    "    # The offset we applying when placing DFF windows\n",
    "    ps['dff_window_offset'] = 0\n",
    "\n",
    "    # The length of the window we calculate DFF in\n",
    "    ps['dff_window_length'] = 3\n",
    "\n",
    "    # The event we align the end of the window to (if not using windows of fixed length)\n",
    "    ps['dff_window_end_ref'] = None\n",
    "\n",
    "    # The offset we use when locating the end of the window (if not using windows of fixed length)\n",
    "    ps['dff_window_end_offset'] = None\n",
    "\n",
    "elif test_type == 'before_reporting':\n",
    "    ps['dff_window_type'] = 'start_aligned'\n",
    "    ps['dff_window_ref'] = 'beh_before_start'\n",
    "    ps['dff_window_offset'] = 0\n",
    "    ps['dff_window_length'] = 3\n",
    "    ps['dff_window_end_ref'] = None\n",
    "    ps['dff_window_end_offset'] = None\n",
    "elif test_type == 'prediction_dependence':\n",
    "    ps['dff_window_type'] = 'start_aligned'\n",
    "    ps['dff_window_ref'] = 'start'\n",
    "    ps['dff_window_offset'] = -3\n",
    "    ps['dff_window_length'] = 3\n",
    "    ps['dff_window_end_ref'] = None\n",
    "    ps['dff_window_end_offset'] = None\n",
    "elif test_type == 'state_dependence':\n",
    "    ps['dff_window_type'] = 'start_aligned'\n",
    "    ps['dff_window_ref'] = 'beh_after_start'\n",
    "    ps['dff_window_offset'] = 0\n",
    "    ps['dff_window_length'] = 3\n",
    "    ps['dff_window_end_ref'] = None\n",
    "    ps['dff_window_end_offset'] = None\n",
    "elif test_type == 'decision_dependence':\n",
    "    ps['dff_window_type'] = 'start_end_aligned'\n",
    "    ps['dff_window_ref'] = 'start'\n",
    "    ps['dff_window_offset'] = 0\n",
    "    ps['dff_window_length'] = None\n",
    "    ps['dff_window_end_ref'] = 'end'\n",
    "    ps['dff_window_end_offset'] = 1 # +1 to include the last point of stimulation\n",
    "else:\n",
    "    raise(ValueError('The test type ' + ps['test_type'] + ' is not recognized.'))\n"
   ]
  },
  {
   "cell_type": "markdown",
   "metadata": {},
   "source": [
    "## Read in excel file specifying location of datasets"
   ]
  },
  {
   "cell_type": "code",
   "execution_count": 4,
   "metadata": {},
   "outputs": [],
   "source": [
    "def c_fcn(str):\n",
    "    return str.replace(\"'\", \"\")\n",
    "converters = {0:c_fcn, 1:c_fcn}\n",
    "\n",
    "data_locs = pd.read_excel(ps['data_loc_file'], header=1, usecols=[1, 2], converters=converters)"
   ]
  },
  {
   "cell_type": "markdown",
   "metadata": {},
   "source": [
    "## Find stimulus events for all subjects"
   ]
  },
  {
   "cell_type": "code",
   "execution_count": 5,
   "metadata": {},
   "outputs": [],
   "source": [
    "# Get list of subjects we have annotations for\n",
    "\n",
    "a4_file_paths = glob.glob(str(Path(ps['a4_annot_folder']) / '*.csv'))\n",
    "a9_file_paths = glob.glob(str(Path(ps['a9_annot_folder']) / '*.csv'))\n",
    "\n",
    "n_annot_files = len(a4_file_paths) + len(a9_file_paths)\n",
    "a4_files = np.zeros(n_annot_files, dtype=bool)\n",
    "a4_files[0:len(a4_file_paths)] = True\n",
    "\n",
    "annot_file_paths = a4_file_paths + a9_file_paths\n",
    "\n",
    "annot_file_names = [Path(p).name for p in annot_file_paths]\n",
    "annot_subjs = [generate_standard_id_for_full_annots(fn) for fn in annot_file_names]\n"
   ]
  },
  {
   "cell_type": "markdown",
   "metadata": {},
   "source": [
    "## Get stimulus events for each subject"
   ]
  },
  {
   "cell_type": "code",
   "execution_count": 6,
   "metadata": {},
   "outputs": [
    {
     "name": "stderr",
     "output_type": "stream",
     "text": [
      "C:\\Users\\SiMView\\AppData\\Local\\Temp\\ipykernel_15000\\1346567246.py:18: FutureWarning: The frame.append method is deprecated and will be removed from pandas in a future version. Use pandas.concat instead.\n",
      "  subj_events = subj_events.append(stim_annots, ignore_index=True)\n",
      "C:\\Users\\SiMView\\AppData\\Local\\Temp\\ipykernel_15000\\1346567246.py:18: FutureWarning: The frame.append method is deprecated and will be removed from pandas in a future version. Use pandas.concat instead.\n",
      "  subj_events = subj_events.append(stim_annots, ignore_index=True)\n",
      "C:\\Users\\SiMView\\AppData\\Local\\Temp\\ipykernel_15000\\1346567246.py:18: FutureWarning: The frame.append method is deprecated and will be removed from pandas in a future version. Use pandas.concat instead.\n",
      "  subj_events = subj_events.append(stim_annots, ignore_index=True)\n",
      "C:\\Users\\SiMView\\AppData\\Local\\Temp\\ipykernel_15000\\1346567246.py:18: FutureWarning: The frame.append method is deprecated and will be removed from pandas in a future version. Use pandas.concat instead.\n",
      "  subj_events = subj_events.append(stim_annots, ignore_index=True)\n",
      "C:\\Users\\SiMView\\AppData\\Local\\Temp\\ipykernel_15000\\1346567246.py:18: FutureWarning: The frame.append method is deprecated and will be removed from pandas in a future version. Use pandas.concat instead.\n",
      "  subj_events = subj_events.append(stim_annots, ignore_index=True)\n",
      "C:\\Users\\SiMView\\AppData\\Local\\Temp\\ipykernel_15000\\1346567246.py:18: FutureWarning: The frame.append method is deprecated and will be removed from pandas in a future version. Use pandas.concat instead.\n",
      "  subj_events = subj_events.append(stim_annots, ignore_index=True)\n",
      "C:\\Users\\SiMView\\AppData\\Local\\Temp\\ipykernel_15000\\1346567246.py:18: FutureWarning: The frame.append method is deprecated and will be removed from pandas in a future version. Use pandas.concat instead.\n",
      "  subj_events = subj_events.append(stim_annots, ignore_index=True)\n",
      "C:\\Users\\SiMView\\AppData\\Local\\Temp\\ipykernel_15000\\1346567246.py:18: FutureWarning: The frame.append method is deprecated and will be removed from pandas in a future version. Use pandas.concat instead.\n",
      "  subj_events = subj_events.append(stim_annots, ignore_index=True)\n",
      "C:\\Users\\SiMView\\AppData\\Local\\Temp\\ipykernel_15000\\1346567246.py:18: FutureWarning: The frame.append method is deprecated and will be removed from pandas in a future version. Use pandas.concat instead.\n",
      "  subj_events = subj_events.append(stim_annots, ignore_index=True)\n",
      "C:\\Users\\SiMView\\AppData\\Local\\Temp\\ipykernel_15000\\1346567246.py:18: FutureWarning: The frame.append method is deprecated and will be removed from pandas in a future version. Use pandas.concat instead.\n",
      "  subj_events = subj_events.append(stim_annots, ignore_index=True)\n",
      "C:\\Users\\SiMView\\AppData\\Local\\Temp\\ipykernel_15000\\1346567246.py:18: FutureWarning: The frame.append method is deprecated and will be removed from pandas in a future version. Use pandas.concat instead.\n",
      "  subj_events = subj_events.append(stim_annots, ignore_index=True)\n",
      "C:\\Users\\SiMView\\AppData\\Local\\Temp\\ipykernel_15000\\1346567246.py:18: FutureWarning: The frame.append method is deprecated and will be removed from pandas in a future version. Use pandas.concat instead.\n",
      "  subj_events = subj_events.append(stim_annots, ignore_index=True)\n",
      "C:\\Users\\SiMView\\AppData\\Local\\Temp\\ipykernel_15000\\1346567246.py:18: FutureWarning: The frame.append method is deprecated and will be removed from pandas in a future version. Use pandas.concat instead.\n",
      "  subj_events = subj_events.append(stim_annots, ignore_index=True)\n",
      "C:\\Users\\SiMView\\AppData\\Local\\Temp\\ipykernel_15000\\1346567246.py:18: FutureWarning: The frame.append method is deprecated and will be removed from pandas in a future version. Use pandas.concat instead.\n",
      "  subj_events = subj_events.append(stim_annots, ignore_index=True)\n",
      "C:\\Users\\SiMView\\AppData\\Local\\Temp\\ipykernel_15000\\1346567246.py:18: FutureWarning: The frame.append method is deprecated and will be removed from pandas in a future version. Use pandas.concat instead.\n",
      "  subj_events = subj_events.append(stim_annots, ignore_index=True)\n",
      "C:\\Users\\SiMView\\AppData\\Local\\Temp\\ipykernel_15000\\1346567246.py:18: FutureWarning: The frame.append method is deprecated and will be removed from pandas in a future version. Use pandas.concat instead.\n",
      "  subj_events = subj_events.append(stim_annots, ignore_index=True)\n",
      "C:\\Users\\SiMView\\AppData\\Local\\Temp\\ipykernel_15000\\1346567246.py:18: FutureWarning: The frame.append method is deprecated and will be removed from pandas in a future version. Use pandas.concat instead.\n",
      "  subj_events = subj_events.append(stim_annots, ignore_index=True)\n",
      "C:\\Users\\SiMView\\AppData\\Local\\Temp\\ipykernel_15000\\1346567246.py:18: FutureWarning: The frame.append method is deprecated and will be removed from pandas in a future version. Use pandas.concat instead.\n",
      "  subj_events = subj_events.append(stim_annots, ignore_index=True)\n",
      "C:\\Users\\SiMView\\AppData\\Local\\Temp\\ipykernel_15000\\1346567246.py:18: FutureWarning: The frame.append method is deprecated and will be removed from pandas in a future version. Use pandas.concat instead.\n",
      "  subj_events = subj_events.append(stim_annots, ignore_index=True)\n",
      "C:\\Users\\SiMView\\AppData\\Local\\Temp\\ipykernel_15000\\1346567246.py:18: FutureWarning: The frame.append method is deprecated and will be removed from pandas in a future version. Use pandas.concat instead.\n",
      "  subj_events = subj_events.append(stim_annots, ignore_index=True)\n",
      "C:\\Users\\SiMView\\AppData\\Local\\Temp\\ipykernel_15000\\1346567246.py:18: FutureWarning: The frame.append method is deprecated and will be removed from pandas in a future version. Use pandas.concat instead.\n",
      "  subj_events = subj_events.append(stim_annots, ignore_index=True)\n",
      "C:\\Users\\SiMView\\AppData\\Local\\Temp\\ipykernel_15000\\1346567246.py:18: FutureWarning: The frame.append method is deprecated and will be removed from pandas in a future version. Use pandas.concat instead.\n",
      "  subj_events = subj_events.append(stim_annots, ignore_index=True)\n",
      "C:\\Users\\SiMView\\AppData\\Local\\Temp\\ipykernel_15000\\1346567246.py:18: FutureWarning: The frame.append method is deprecated and will be removed from pandas in a future version. Use pandas.concat instead.\n",
      "  subj_events = subj_events.append(stim_annots, ignore_index=True)\n",
      "C:\\Users\\SiMView\\AppData\\Local\\Temp\\ipykernel_15000\\1346567246.py:18: FutureWarning: The frame.append method is deprecated and will be removed from pandas in a future version. Use pandas.concat instead.\n",
      "  subj_events = subj_events.append(stim_annots, ignore_index=True)\n",
      "C:\\Users\\SiMView\\AppData\\Local\\Temp\\ipykernel_15000\\1346567246.py:18: FutureWarning: The frame.append method is deprecated and will be removed from pandas in a future version. Use pandas.concat instead.\n",
      "  subj_events = subj_events.append(stim_annots, ignore_index=True)\n",
      "C:\\Users\\SiMView\\AppData\\Local\\Temp\\ipykernel_15000\\1346567246.py:18: FutureWarning: The frame.append method is deprecated and will be removed from pandas in a future version. Use pandas.concat instead.\n",
      "  subj_events = subj_events.append(stim_annots, ignore_index=True)\n",
      "C:\\Users\\SiMView\\AppData\\Local\\Temp\\ipykernel_15000\\1346567246.py:18: FutureWarning: The frame.append method is deprecated and will be removed from pandas in a future version. Use pandas.concat instead.\n",
      "  subj_events = subj_events.append(stim_annots, ignore_index=True)\n",
      "C:\\Users\\SiMView\\AppData\\Local\\Temp\\ipykernel_15000\\1346567246.py:18: FutureWarning: The frame.append method is deprecated and will be removed from pandas in a future version. Use pandas.concat instead.\n",
      "  subj_events = subj_events.append(stim_annots, ignore_index=True)\n",
      "C:\\Users\\SiMView\\AppData\\Local\\Temp\\ipykernel_15000\\1346567246.py:18: FutureWarning: The frame.append method is deprecated and will be removed from pandas in a future version. Use pandas.concat instead.\n",
      "  subj_events = subj_events.append(stim_annots, ignore_index=True)\n",
      "C:\\Users\\SiMView\\AppData\\Local\\Temp\\ipykernel_15000\\1346567246.py:18: FutureWarning: The frame.append method is deprecated and will be removed from pandas in a future version. Use pandas.concat instead.\n",
      "  subj_events = subj_events.append(stim_annots, ignore_index=True)\n",
      "C:\\Users\\SiMView\\AppData\\Local\\Temp\\ipykernel_15000\\1346567246.py:18: FutureWarning: The frame.append method is deprecated and will be removed from pandas in a future version. Use pandas.concat instead.\n",
      "  subj_events = subj_events.append(stim_annots, ignore_index=True)\n",
      "C:\\Users\\SiMView\\AppData\\Local\\Temp\\ipykernel_15000\\1346567246.py:18: FutureWarning: The frame.append method is deprecated and will be removed from pandas in a future version. Use pandas.concat instead.\n",
      "  subj_events = subj_events.append(stim_annots, ignore_index=True)\n",
      "C:\\Users\\SiMView\\AppData\\Local\\Temp\\ipykernel_15000\\1346567246.py:18: FutureWarning: The frame.append method is deprecated and will be removed from pandas in a future version. Use pandas.concat instead.\n",
      "  subj_events = subj_events.append(stim_annots, ignore_index=True)\n",
      "C:\\Users\\SiMView\\AppData\\Local\\Temp\\ipykernel_15000\\1346567246.py:18: FutureWarning: The frame.append method is deprecated and will be removed from pandas in a future version. Use pandas.concat instead.\n",
      "  subj_events = subj_events.append(stim_annots, ignore_index=True)\n",
      "C:\\Users\\SiMView\\AppData\\Local\\Temp\\ipykernel_15000\\1346567246.py:18: FutureWarning: The frame.append method is deprecated and will be removed from pandas in a future version. Use pandas.concat instead.\n",
      "  subj_events = subj_events.append(stim_annots, ignore_index=True)\n",
      "C:\\Users\\SiMView\\AppData\\Local\\Temp\\ipykernel_15000\\1346567246.py:18: FutureWarning: The frame.append method is deprecated and will be removed from pandas in a future version. Use pandas.concat instead.\n",
      "  subj_events = subj_events.append(stim_annots, ignore_index=True)\n",
      "C:\\Users\\SiMView\\AppData\\Local\\Temp\\ipykernel_15000\\1346567246.py:18: FutureWarning: The frame.append method is deprecated and will be removed from pandas in a future version. Use pandas.concat instead.\n",
      "  subj_events = subj_events.append(stim_annots, ignore_index=True)\n",
      "C:\\Users\\SiMView\\AppData\\Local\\Temp\\ipykernel_15000\\1346567246.py:18: FutureWarning: The frame.append method is deprecated and will be removed from pandas in a future version. Use pandas.concat instead.\n",
      "  subj_events = subj_events.append(stim_annots, ignore_index=True)\n",
      "C:\\Users\\SiMView\\AppData\\Local\\Temp\\ipykernel_15000\\1346567246.py:18: FutureWarning: The frame.append method is deprecated and will be removed from pandas in a future version. Use pandas.concat instead.\n",
      "  subj_events = subj_events.append(stim_annots, ignore_index=True)\n",
      "C:\\Users\\SiMView\\AppData\\Local\\Temp\\ipykernel_15000\\1346567246.py:18: FutureWarning: The frame.append method is deprecated and will be removed from pandas in a future version. Use pandas.concat instead.\n",
      "  subj_events = subj_events.append(stim_annots, ignore_index=True)\n",
      "C:\\Users\\SiMView\\AppData\\Local\\Temp\\ipykernel_15000\\1346567246.py:18: FutureWarning: The frame.append method is deprecated and will be removed from pandas in a future version. Use pandas.concat instead.\n",
      "  subj_events = subj_events.append(stim_annots, ignore_index=True)\n",
      "C:\\Users\\SiMView\\AppData\\Local\\Temp\\ipykernel_15000\\1346567246.py:18: FutureWarning: The frame.append method is deprecated and will be removed from pandas in a future version. Use pandas.concat instead.\n",
      "  subj_events = subj_events.append(stim_annots, ignore_index=True)\n",
      "C:\\Users\\SiMView\\AppData\\Local\\Temp\\ipykernel_15000\\1346567246.py:18: FutureWarning: The frame.append method is deprecated and will be removed from pandas in a future version. Use pandas.concat instead.\n",
      "  subj_events = subj_events.append(stim_annots, ignore_index=True)\n",
      "C:\\Users\\SiMView\\AppData\\Local\\Temp\\ipykernel_15000\\1346567246.py:18: FutureWarning: The frame.append method is deprecated and will be removed from pandas in a future version. Use pandas.concat instead.\n",
      "  subj_events = subj_events.append(stim_annots, ignore_index=True)\n",
      "C:\\Users\\SiMView\\AppData\\Local\\Temp\\ipykernel_15000\\1346567246.py:18: FutureWarning: The frame.append method is deprecated and will be removed from pandas in a future version. Use pandas.concat instead.\n",
      "  subj_events = subj_events.append(stim_annots, ignore_index=True)\n",
      "C:\\Users\\SiMView\\AppData\\Local\\Temp\\ipykernel_15000\\1346567246.py:18: FutureWarning: The frame.append method is deprecated and will be removed from pandas in a future version. Use pandas.concat instead.\n",
      "  subj_events = subj_events.append(stim_annots, ignore_index=True)\n",
      "C:\\Users\\SiMView\\AppData\\Local\\Temp\\ipykernel_15000\\1346567246.py:18: FutureWarning: The frame.append method is deprecated and will be removed from pandas in a future version. Use pandas.concat instead.\n",
      "  subj_events = subj_events.append(stim_annots, ignore_index=True)\n",
      "C:\\Users\\SiMView\\AppData\\Local\\Temp\\ipykernel_15000\\1346567246.py:18: FutureWarning: The frame.append method is deprecated and will be removed from pandas in a future version. Use pandas.concat instead.\n",
      "  subj_events = subj_events.append(stim_annots, ignore_index=True)\n",
      "C:\\Users\\SiMView\\AppData\\Local\\Temp\\ipykernel_15000\\1346567246.py:18: FutureWarning: The frame.append method is deprecated and will be removed from pandas in a future version. Use pandas.concat instead.\n",
      "  subj_events = subj_events.append(stim_annots, ignore_index=True)\n",
      "C:\\Users\\SiMView\\AppData\\Local\\Temp\\ipykernel_15000\\1346567246.py:18: FutureWarning: The frame.append method is deprecated and will be removed from pandas in a future version. Use pandas.concat instead.\n",
      "  subj_events = subj_events.append(stim_annots, ignore_index=True)\n",
      "C:\\Users\\SiMView\\AppData\\Local\\Temp\\ipykernel_15000\\1346567246.py:18: FutureWarning: The frame.append method is deprecated and will be removed from pandas in a future version. Use pandas.concat instead.\n",
      "  subj_events = subj_events.append(stim_annots, ignore_index=True)\n",
      "C:\\Users\\SiMView\\AppData\\Local\\Temp\\ipykernel_15000\\1346567246.py:18: FutureWarning: The frame.append method is deprecated and will be removed from pandas in a future version. Use pandas.concat instead.\n",
      "  subj_events = subj_events.append(stim_annots, ignore_index=True)\n",
      "C:\\Users\\SiMView\\AppData\\Local\\Temp\\ipykernel_15000\\1346567246.py:18: FutureWarning: The frame.append method is deprecated and will be removed from pandas in a future version. Use pandas.concat instead.\n",
      "  subj_events = subj_events.append(stim_annots, ignore_index=True)\n",
      "C:\\Users\\SiMView\\AppData\\Local\\Temp\\ipykernel_15000\\1346567246.py:18: FutureWarning: The frame.append method is deprecated and will be removed from pandas in a future version. Use pandas.concat instead.\n",
      "  subj_events = subj_events.append(stim_annots, ignore_index=True)\n",
      "C:\\Users\\SiMView\\AppData\\Local\\Temp\\ipykernel_15000\\1346567246.py:18: FutureWarning: The frame.append method is deprecated and will be removed from pandas in a future version. Use pandas.concat instead.\n",
      "  subj_events = subj_events.append(stim_annots, ignore_index=True)\n",
      "C:\\Users\\SiMView\\AppData\\Local\\Temp\\ipykernel_15000\\1346567246.py:18: FutureWarning: The frame.append method is deprecated and will be removed from pandas in a future version. Use pandas.concat instead.\n",
      "  subj_events = subj_events.append(stim_annots, ignore_index=True)\n",
      "C:\\Users\\SiMView\\AppData\\Local\\Temp\\ipykernel_15000\\1346567246.py:18: FutureWarning: The frame.append method is deprecated and will be removed from pandas in a future version. Use pandas.concat instead.\n",
      "  subj_events = subj_events.append(stim_annots, ignore_index=True)\n",
      "C:\\Users\\SiMView\\AppData\\Local\\Temp\\ipykernel_15000\\1346567246.py:18: FutureWarning: The frame.append method is deprecated and will be removed from pandas in a future version. Use pandas.concat instead.\n",
      "  subj_events = subj_events.append(stim_annots, ignore_index=True)\n",
      "C:\\Users\\SiMView\\AppData\\Local\\Temp\\ipykernel_15000\\1346567246.py:18: FutureWarning: The frame.append method is deprecated and will be removed from pandas in a future version. Use pandas.concat instead.\n",
      "  subj_events = subj_events.append(stim_annots, ignore_index=True)\n",
      "C:\\Users\\SiMView\\AppData\\Local\\Temp\\ipykernel_15000\\1346567246.py:18: FutureWarning: The frame.append method is deprecated and will be removed from pandas in a future version. Use pandas.concat instead.\n",
      "  subj_events = subj_events.append(stim_annots, ignore_index=True)\n",
      "C:\\Users\\SiMView\\AppData\\Local\\Temp\\ipykernel_15000\\1346567246.py:18: FutureWarning: The frame.append method is deprecated and will be removed from pandas in a future version. Use pandas.concat instead.\n",
      "  subj_events = subj_events.append(stim_annots, ignore_index=True)\n",
      "C:\\Users\\SiMView\\AppData\\Local\\Temp\\ipykernel_15000\\1346567246.py:18: FutureWarning: The frame.append method is deprecated and will be removed from pandas in a future version. Use pandas.concat instead.\n",
      "  subj_events = subj_events.append(stim_annots, ignore_index=True)\n",
      "C:\\Users\\SiMView\\AppData\\Local\\Temp\\ipykernel_15000\\1346567246.py:18: FutureWarning: The frame.append method is deprecated and will be removed from pandas in a future version. Use pandas.concat instead.\n",
      "  subj_events = subj_events.append(stim_annots, ignore_index=True)\n",
      "C:\\Users\\SiMView\\AppData\\Local\\Temp\\ipykernel_15000\\1346567246.py:18: FutureWarning: The frame.append method is deprecated and will be removed from pandas in a future version. Use pandas.concat instead.\n",
      "  subj_events = subj_events.append(stim_annots, ignore_index=True)\n",
      "C:\\Users\\SiMView\\AppData\\Local\\Temp\\ipykernel_15000\\1346567246.py:18: FutureWarning: The frame.append method is deprecated and will be removed from pandas in a future version. Use pandas.concat instead.\n",
      "  subj_events = subj_events.append(stim_annots, ignore_index=True)\n",
      "C:\\Users\\SiMView\\AppData\\Local\\Temp\\ipykernel_15000\\1346567246.py:18: FutureWarning: The frame.append method is deprecated and will be removed from pandas in a future version. Use pandas.concat instead.\n",
      "  subj_events = subj_events.append(stim_annots, ignore_index=True)\n"
     ]
    }
   ],
   "source": [
    "subj_events = pd.DataFrame()\n",
    "\n",
    "for ind, subj in enumerate(annot_subjs):\n",
    "\n",
    "    # Load the annotations for this subject\n",
    "    tbl = read_full_annotations(annot_file_paths[ind])\n",
    "\n",
    "    # Pull out stimulus events for this subject, noting what comes before and after\n",
    "    stim_tbl = copy.deepcopy(tbl[tbl['beh'] == 'S'])\n",
    "    stim_tbl.insert(0, 'subject_id', subj)\n",
    "    stim_tbl.insert(1, 'event_id', range(stim_tbl.shape[0]))\n",
    "    if a4_files[ind] == True:\n",
    "        stim_tbl.insert(2, 'manipulation_tgt', 'A4')\n",
    "    else:\n",
    "        stim_tbl.insert(2, 'manipulation_tgt', 'A9')\n",
    "    before_after_tbl = find_before_and_after_events(events=stim_tbl, all_events=tbl)\n",
    "    stim_annots = pd.concat([stim_tbl, before_after_tbl], axis=1)\n",
    "    subj_events = subj_events.append(stim_annots, ignore_index=True)\n"
   ]
  },
  {
   "cell_type": "markdown",
   "metadata": {},
   "source": [
    "## Get rid of any events where we could not classify the type of preceeding or succeeding behavior"
   ]
  },
  {
   "cell_type": "code",
   "execution_count": 7,
   "metadata": {},
   "outputs": [],
   "source": [
    "subj_events = subj_events.dropna()"
   ]
  },
  {
   "cell_type": "markdown",
   "metadata": {},
   "source": [
    "## Get rid of any stimulus events which are not also in Chen's annotations\n",
    "\n",
    "We do this because some of the stimulus events in the full annotations (Nadine's annotations) should be removed because of artefacts. Chen's annotations only include the stimulus events we should analyze."
   ]
  },
  {
   "cell_type": "code",
   "execution_count": 8,
   "metadata": {},
   "outputs": [
    {
     "name": "stdout",
     "output_type": "stream",
     "text": [
      "Removing event from: 4359-4364 for subject CW_17-08-23-L4\n",
      "Removing event from: 6004-6009 for subject CW_17-08-23-L4\n",
      "Removing event from: 267-272 for subject CW_17-09-01-L3\n"
     ]
    }
   ],
   "source": [
    "chen_events = read_raw_transitions_from_excel(file=ps['chen_file'])\n",
    "chen_events = chen_events.rename(columns={'Manipulation Start': 'start', 'Manipulation End': 'end'})\n",
    "subj_events = down_select_events(tbl_1=subj_events, tbl_2=chen_events)"
   ]
  },
  {
   "cell_type": "markdown",
   "metadata": {},
   "source": [
    "## Mark preceeding and succeeding quiet events"
   ]
  },
  {
   "cell_type": "code",
   "execution_count": 9,
   "metadata": {},
   "outputs": [],
   "source": [
    "delta_before = subj_events['start'] - subj_events['beh_before_end']\n",
    "delta_after = subj_events['beh_after_start'] - subj_events['end']\n",
    "\n",
    "before_quiet_inds = delta_before > ps['pre_q_th']\n",
    "after_quiet_inds = delta_after > ps['succ_q_th']\n",
    "\n",
    "subj_events.loc[before_quiet_inds, 'beh_before'] = 'Q'\n",
    "subj_events.loc[after_quiet_inds, 'beh_after'] = 'Q'\n"
   ]
  },
  {
   "cell_type": "markdown",
   "metadata": {},
   "source": [
    "## Mark the start and stop of the marked quiet events"
   ]
  },
  {
   "cell_type": "code",
   "execution_count": 10,
   "metadata": {},
   "outputs": [],
   "source": [
    "new_before_start = (np.ceil((subj_events[before_quiet_inds]['start'] -\n",
    "                             subj_events[before_quiet_inds]['beh_before_end']) / 2) +\n",
    "                             subj_events[before_quiet_inds]['beh_before_end'])\n",
    "\n",
    "new_before_end = new_before_start + ps['pre_q_event_l'] - 1  # Minus 1 for inclusive indexing\n",
    "subj_events.loc[before_quiet_inds, 'beh_before_start'] = new_before_start\n",
    "subj_events.loc[before_quiet_inds, 'beh_before_end'] = new_before_end\n",
    "\n",
    "new_after_start = (np.ceil((subj_events[after_quiet_inds]['beh_after_start'] -\n",
    "                            subj_events[after_quiet_inds]['end']) / 2) +\n",
    "                            subj_events[after_quiet_inds]['end'])\n",
    "new_after_end = new_after_start + ps['succ_q_event_l'] - 1  # Minus 1 for inclusive indexing\n",
    "subj_events.loc[after_quiet_inds, 'beh_after_start'] = new_after_start\n",
    "subj_events.loc[after_quiet_inds, 'beh_after_end'] = new_after_end"
   ]
  },
  {
   "cell_type": "markdown",
   "metadata": {},
   "source": [
    "## Extract dff along with behavior information from each dataset"
   ]
  },
  {
   "cell_type": "code",
   "execution_count": 11,
   "metadata": {},
   "outputs": [
    {
     "name": "stderr",
     "output_type": "stream",
     "text": [
      "\\\\keller-s13\\shared\\exchange\\will\\bishoplab\\projects\\keller_drive\\keller_vnc\\code\\keller_zlatic_vnc\\keller_zlatic_vnc\\data_processing.py:1225: FutureWarning: The frame.append method is deprecated and will be removed from pandas in a future version. Use pandas.concat instead.\n",
      "  full_tbl = full_tbl.append(row_dict, ignore_index=True)\n",
      "\\\\keller-s13\\shared\\exchange\\will\\bishoplab\\projects\\keller_drive\\keller_vnc\\code\\keller_zlatic_vnc\\keller_zlatic_vnc\\data_processing.py:1225: FutureWarning: The frame.append method is deprecated and will be removed from pandas in a future version. Use pandas.concat instead.\n",
      "  full_tbl = full_tbl.append(row_dict, ignore_index=True)\n"
     ]
    },
    {
     "name": "stdout",
     "output_type": "stream",
     "text": [
      "Done processing dataset 1 of 65.\n"
     ]
    },
    {
     "name": "stderr",
     "output_type": "stream",
     "text": [
      "\\\\keller-s13\\shared\\exchange\\will\\bishoplab\\projects\\keller_drive\\keller_vnc\\code\\keller_zlatic_vnc\\keller_zlatic_vnc\\data_processing.py:1225: FutureWarning: The frame.append method is deprecated and will be removed from pandas in a future version. Use pandas.concat instead.\n",
      "  full_tbl = full_tbl.append(row_dict, ignore_index=True)\n",
      "\\\\keller-s13\\shared\\exchange\\will\\bishoplab\\projects\\keller_drive\\keller_vnc\\code\\keller_zlatic_vnc\\keller_zlatic_vnc\\data_processing.py:1225: FutureWarning: The frame.append method is deprecated and will be removed from pandas in a future version. Use pandas.concat instead.\n",
      "  full_tbl = full_tbl.append(row_dict, ignore_index=True)\n",
      "\\\\keller-s13\\shared\\exchange\\will\\bishoplab\\projects\\keller_drive\\keller_vnc\\code\\keller_zlatic_vnc\\keller_zlatic_vnc\\data_processing.py:1225: FutureWarning: The frame.append method is deprecated and will be removed from pandas in a future version. Use pandas.concat instead.\n",
      "  full_tbl = full_tbl.append(row_dict, ignore_index=True)\n"
     ]
    },
    {
     "name": "stdout",
     "output_type": "stream",
     "text": [
      "Done processing dataset 2 of 65.\n"
     ]
    },
    {
     "name": "stderr",
     "output_type": "stream",
     "text": [
      "\\\\keller-s13\\shared\\exchange\\will\\bishoplab\\projects\\keller_drive\\keller_vnc\\code\\keller_zlatic_vnc\\keller_zlatic_vnc\\data_processing.py:1225: FutureWarning: The frame.append method is deprecated and will be removed from pandas in a future version. Use pandas.concat instead.\n",
      "  full_tbl = full_tbl.append(row_dict, ignore_index=True)\n",
      "\\\\keller-s13\\shared\\exchange\\will\\bishoplab\\projects\\keller_drive\\keller_vnc\\code\\keller_zlatic_vnc\\keller_zlatic_vnc\\data_processing.py:1225: FutureWarning: The frame.append method is deprecated and will be removed from pandas in a future version. Use pandas.concat instead.\n",
      "  full_tbl = full_tbl.append(row_dict, ignore_index=True)\n",
      "\\\\keller-s13\\shared\\exchange\\will\\bishoplab\\projects\\keller_drive\\keller_vnc\\code\\keller_zlatic_vnc\\keller_zlatic_vnc\\data_processing.py:1225: FutureWarning: The frame.append method is deprecated and will be removed from pandas in a future version. Use pandas.concat instead.\n",
      "  full_tbl = full_tbl.append(row_dict, ignore_index=True)\n",
      "\\\\keller-s13\\shared\\exchange\\will\\bishoplab\\projects\\keller_drive\\keller_vnc\\code\\keller_zlatic_vnc\\keller_zlatic_vnc\\data_processing.py:1225: FutureWarning: The frame.append method is deprecated and will be removed from pandas in a future version. Use pandas.concat instead.\n",
      "  full_tbl = full_tbl.append(row_dict, ignore_index=True)\n"
     ]
    },
    {
     "name": "stdout",
     "output_type": "stream",
     "text": [
      "Done processing dataset 3 of 65.\n"
     ]
    },
    {
     "name": "stderr",
     "output_type": "stream",
     "text": [
      "\\\\keller-s13\\shared\\exchange\\will\\bishoplab\\projects\\keller_drive\\keller_vnc\\code\\keller_zlatic_vnc\\keller_zlatic_vnc\\data_processing.py:1225: FutureWarning: The frame.append method is deprecated and will be removed from pandas in a future version. Use pandas.concat instead.\n",
      "  full_tbl = full_tbl.append(row_dict, ignore_index=True)\n",
      "\\\\keller-s13\\shared\\exchange\\will\\bishoplab\\projects\\keller_drive\\keller_vnc\\code\\keller_zlatic_vnc\\keller_zlatic_vnc\\data_processing.py:1225: FutureWarning: The frame.append method is deprecated and will be removed from pandas in a future version. Use pandas.concat instead.\n",
      "  full_tbl = full_tbl.append(row_dict, ignore_index=True)\n",
      "\\\\keller-s13\\shared\\exchange\\will\\bishoplab\\projects\\keller_drive\\keller_vnc\\code\\keller_zlatic_vnc\\keller_zlatic_vnc\\data_processing.py:1225: FutureWarning: The frame.append method is deprecated and will be removed from pandas in a future version. Use pandas.concat instead.\n",
      "  full_tbl = full_tbl.append(row_dict, ignore_index=True)\n",
      "\\\\keller-s13\\shared\\exchange\\will\\bishoplab\\projects\\keller_drive\\keller_vnc\\code\\keller_zlatic_vnc\\keller_zlatic_vnc\\data_processing.py:1225: FutureWarning: The frame.append method is deprecated and will be removed from pandas in a future version. Use pandas.concat instead.\n",
      "  full_tbl = full_tbl.append(row_dict, ignore_index=True)\n",
      "\\\\keller-s13\\shared\\exchange\\will\\bishoplab\\projects\\keller_drive\\keller_vnc\\code\\keller_zlatic_vnc\\keller_zlatic_vnc\\data_processing.py:1225: FutureWarning: The frame.append method is deprecated and will be removed from pandas in a future version. Use pandas.concat instead.\n",
      "  full_tbl = full_tbl.append(row_dict, ignore_index=True)\n",
      "\\\\keller-s13\\shared\\exchange\\will\\bishoplab\\projects\\keller_drive\\keller_vnc\\code\\keller_zlatic_vnc\\keller_zlatic_vnc\\data_processing.py:1225: FutureWarning: The frame.append method is deprecated and will be removed from pandas in a future version. Use pandas.concat instead.\n",
      "  full_tbl = full_tbl.append(row_dict, ignore_index=True)\n"
     ]
    },
    {
     "name": "stdout",
     "output_type": "stream",
     "text": [
      "Done processing dataset 4 of 65.\n"
     ]
    },
    {
     "name": "stderr",
     "output_type": "stream",
     "text": [
      "\\\\keller-s13\\shared\\exchange\\will\\bishoplab\\projects\\keller_drive\\keller_vnc\\code\\keller_zlatic_vnc\\keller_zlatic_vnc\\data_processing.py:1225: FutureWarning: The frame.append method is deprecated and will be removed from pandas in a future version. Use pandas.concat instead.\n",
      "  full_tbl = full_tbl.append(row_dict, ignore_index=True)\n",
      "\\\\keller-s13\\shared\\exchange\\will\\bishoplab\\projects\\keller_drive\\keller_vnc\\code\\keller_zlatic_vnc\\keller_zlatic_vnc\\data_processing.py:1225: FutureWarning: The frame.append method is deprecated and will be removed from pandas in a future version. Use pandas.concat instead.\n",
      "  full_tbl = full_tbl.append(row_dict, ignore_index=True)\n"
     ]
    },
    {
     "name": "stdout",
     "output_type": "stream",
     "text": [
      "Done processing dataset 5 of 65.\n"
     ]
    },
    {
     "name": "stderr",
     "output_type": "stream",
     "text": [
      "\\\\keller-s13\\shared\\exchange\\will\\bishoplab\\projects\\keller_drive\\keller_vnc\\code\\keller_zlatic_vnc\\keller_zlatic_vnc\\data_processing.py:1225: FutureWarning: The frame.append method is deprecated and will be removed from pandas in a future version. Use pandas.concat instead.\n",
      "  full_tbl = full_tbl.append(row_dict, ignore_index=True)\n"
     ]
    },
    {
     "name": "stdout",
     "output_type": "stream",
     "text": [
      "Done processing dataset 6 of 65.\n"
     ]
    },
    {
     "name": "stderr",
     "output_type": "stream",
     "text": [
      "\\\\keller-s13\\shared\\exchange\\will\\bishoplab\\projects\\keller_drive\\keller_vnc\\code\\keller_zlatic_vnc\\keller_zlatic_vnc\\data_processing.py:1225: FutureWarning: The frame.append method is deprecated and will be removed from pandas in a future version. Use pandas.concat instead.\n",
      "  full_tbl = full_tbl.append(row_dict, ignore_index=True)\n",
      "\\\\keller-s13\\shared\\exchange\\will\\bishoplab\\projects\\keller_drive\\keller_vnc\\code\\keller_zlatic_vnc\\keller_zlatic_vnc\\data_processing.py:1225: FutureWarning: The frame.append method is deprecated and will be removed from pandas in a future version. Use pandas.concat instead.\n",
      "  full_tbl = full_tbl.append(row_dict, ignore_index=True)\n",
      "\\\\keller-s13\\shared\\exchange\\will\\bishoplab\\projects\\keller_drive\\keller_vnc\\code\\keller_zlatic_vnc\\keller_zlatic_vnc\\data_processing.py:1225: FutureWarning: The frame.append method is deprecated and will be removed from pandas in a future version. Use pandas.concat instead.\n",
      "  full_tbl = full_tbl.append(row_dict, ignore_index=True)\n",
      "\\\\keller-s13\\shared\\exchange\\will\\bishoplab\\projects\\keller_drive\\keller_vnc\\code\\keller_zlatic_vnc\\keller_zlatic_vnc\\data_processing.py:1225: FutureWarning: The frame.append method is deprecated and will be removed from pandas in a future version. Use pandas.concat instead.\n",
      "  full_tbl = full_tbl.append(row_dict, ignore_index=True)\n",
      "\\\\keller-s13\\shared\\exchange\\will\\bishoplab\\projects\\keller_drive\\keller_vnc\\code\\keller_zlatic_vnc\\keller_zlatic_vnc\\data_processing.py:1225: FutureWarning: The frame.append method is deprecated and will be removed from pandas in a future version. Use pandas.concat instead.\n",
      "  full_tbl = full_tbl.append(row_dict, ignore_index=True)\n",
      "\\\\keller-s13\\shared\\exchange\\will\\bishoplab\\projects\\keller_drive\\keller_vnc\\code\\keller_zlatic_vnc\\keller_zlatic_vnc\\data_processing.py:1225: FutureWarning: The frame.append method is deprecated and will be removed from pandas in a future version. Use pandas.concat instead.\n",
      "  full_tbl = full_tbl.append(row_dict, ignore_index=True)\n"
     ]
    },
    {
     "name": "stdout",
     "output_type": "stream",
     "text": [
      "Done processing dataset 7 of 65.\n"
     ]
    },
    {
     "name": "stderr",
     "output_type": "stream",
     "text": [
      "\\\\keller-s13\\shared\\exchange\\will\\bishoplab\\projects\\keller_drive\\keller_vnc\\code\\keller_zlatic_vnc\\keller_zlatic_vnc\\data_processing.py:1225: FutureWarning: The frame.append method is deprecated and will be removed from pandas in a future version. Use pandas.concat instead.\n",
      "  full_tbl = full_tbl.append(row_dict, ignore_index=True)\n",
      "\\\\keller-s13\\shared\\exchange\\will\\bishoplab\\projects\\keller_drive\\keller_vnc\\code\\keller_zlatic_vnc\\keller_zlatic_vnc\\data_processing.py:1225: FutureWarning: The frame.append method is deprecated and will be removed from pandas in a future version. Use pandas.concat instead.\n",
      "  full_tbl = full_tbl.append(row_dict, ignore_index=True)\n",
      "\\\\keller-s13\\shared\\exchange\\will\\bishoplab\\projects\\keller_drive\\keller_vnc\\code\\keller_zlatic_vnc\\keller_zlatic_vnc\\data_processing.py:1225: FutureWarning: The frame.append method is deprecated and will be removed from pandas in a future version. Use pandas.concat instead.\n",
      "  full_tbl = full_tbl.append(row_dict, ignore_index=True)\n",
      "\\\\keller-s13\\shared\\exchange\\will\\bishoplab\\projects\\keller_drive\\keller_vnc\\code\\keller_zlatic_vnc\\keller_zlatic_vnc\\data_processing.py:1225: FutureWarning: The frame.append method is deprecated and will be removed from pandas in a future version. Use pandas.concat instead.\n",
      "  full_tbl = full_tbl.append(row_dict, ignore_index=True)\n",
      "\\\\keller-s13\\shared\\exchange\\will\\bishoplab\\projects\\keller_drive\\keller_vnc\\code\\keller_zlatic_vnc\\keller_zlatic_vnc\\data_processing.py:1225: FutureWarning: The frame.append method is deprecated and will be removed from pandas in a future version. Use pandas.concat instead.\n",
      "  full_tbl = full_tbl.append(row_dict, ignore_index=True)\n",
      "\\\\keller-s13\\shared\\exchange\\will\\bishoplab\\projects\\keller_drive\\keller_vnc\\code\\keller_zlatic_vnc\\keller_zlatic_vnc\\data_processing.py:1225: FutureWarning: The frame.append method is deprecated and will be removed from pandas in a future version. Use pandas.concat instead.\n",
      "  full_tbl = full_tbl.append(row_dict, ignore_index=True)\n",
      "\\\\keller-s13\\shared\\exchange\\will\\bishoplab\\projects\\keller_drive\\keller_vnc\\code\\keller_zlatic_vnc\\keller_zlatic_vnc\\data_processing.py:1225: FutureWarning: The frame.append method is deprecated and will be removed from pandas in a future version. Use pandas.concat instead.\n",
      "  full_tbl = full_tbl.append(row_dict, ignore_index=True)\n"
     ]
    },
    {
     "name": "stdout",
     "output_type": "stream",
     "text": [
      "Done processing dataset 8 of 65.\n"
     ]
    },
    {
     "name": "stderr",
     "output_type": "stream",
     "text": [
      "\\\\keller-s13\\shared\\exchange\\will\\bishoplab\\projects\\keller_drive\\keller_vnc\\code\\keller_zlatic_vnc\\keller_zlatic_vnc\\data_processing.py:1225: FutureWarning: The frame.append method is deprecated and will be removed from pandas in a future version. Use pandas.concat instead.\n",
      "  full_tbl = full_tbl.append(row_dict, ignore_index=True)\n",
      "\\\\keller-s13\\shared\\exchange\\will\\bishoplab\\projects\\keller_drive\\keller_vnc\\code\\keller_zlatic_vnc\\keller_zlatic_vnc\\data_processing.py:1225: FutureWarning: The frame.append method is deprecated and will be removed from pandas in a future version. Use pandas.concat instead.\n",
      "  full_tbl = full_tbl.append(row_dict, ignore_index=True)\n"
     ]
    },
    {
     "name": "stdout",
     "output_type": "stream",
     "text": [
      "Done processing dataset 9 of 65.\n"
     ]
    },
    {
     "name": "stderr",
     "output_type": "stream",
     "text": [
      "\\\\keller-s13\\shared\\exchange\\will\\bishoplab\\projects\\keller_drive\\keller_vnc\\code\\keller_zlatic_vnc\\keller_zlatic_vnc\\data_processing.py:1225: FutureWarning: The frame.append method is deprecated and will be removed from pandas in a future version. Use pandas.concat instead.\n",
      "  full_tbl = full_tbl.append(row_dict, ignore_index=True)\n",
      "\\\\keller-s13\\shared\\exchange\\will\\bishoplab\\projects\\keller_drive\\keller_vnc\\code\\keller_zlatic_vnc\\keller_zlatic_vnc\\data_processing.py:1225: FutureWarning: The frame.append method is deprecated and will be removed from pandas in a future version. Use pandas.concat instead.\n",
      "  full_tbl = full_tbl.append(row_dict, ignore_index=True)\n",
      "\\\\keller-s13\\shared\\exchange\\will\\bishoplab\\projects\\keller_drive\\keller_vnc\\code\\keller_zlatic_vnc\\keller_zlatic_vnc\\data_processing.py:1225: FutureWarning: The frame.append method is deprecated and will be removed from pandas in a future version. Use pandas.concat instead.\n",
      "  full_tbl = full_tbl.append(row_dict, ignore_index=True)\n",
      "\\\\keller-s13\\shared\\exchange\\will\\bishoplab\\projects\\keller_drive\\keller_vnc\\code\\keller_zlatic_vnc\\keller_zlatic_vnc\\data_processing.py:1225: FutureWarning: The frame.append method is deprecated and will be removed from pandas in a future version. Use pandas.concat instead.\n",
      "  full_tbl = full_tbl.append(row_dict, ignore_index=True)\n",
      "\\\\keller-s13\\shared\\exchange\\will\\bishoplab\\projects\\keller_drive\\keller_vnc\\code\\keller_zlatic_vnc\\keller_zlatic_vnc\\data_processing.py:1225: FutureWarning: The frame.append method is deprecated and will be removed from pandas in a future version. Use pandas.concat instead.\n",
      "  full_tbl = full_tbl.append(row_dict, ignore_index=True)\n",
      "\\\\keller-s13\\shared\\exchange\\will\\bishoplab\\projects\\keller_drive\\keller_vnc\\code\\keller_zlatic_vnc\\keller_zlatic_vnc\\data_processing.py:1225: FutureWarning: The frame.append method is deprecated and will be removed from pandas in a future version. Use pandas.concat instead.\n",
      "  full_tbl = full_tbl.append(row_dict, ignore_index=True)\n",
      "\\\\keller-s13\\shared\\exchange\\will\\bishoplab\\projects\\keller_drive\\keller_vnc\\code\\keller_zlatic_vnc\\keller_zlatic_vnc\\data_processing.py:1225: FutureWarning: The frame.append method is deprecated and will be removed from pandas in a future version. Use pandas.concat instead.\n",
      "  full_tbl = full_tbl.append(row_dict, ignore_index=True)\n"
     ]
    },
    {
     "name": "stdout",
     "output_type": "stream",
     "text": [
      "Done processing dataset 10 of 65.\n"
     ]
    },
    {
     "name": "stderr",
     "output_type": "stream",
     "text": [
      "\\\\keller-s13\\shared\\exchange\\will\\bishoplab\\projects\\keller_drive\\keller_vnc\\code\\keller_zlatic_vnc\\keller_zlatic_vnc\\data_processing.py:1225: FutureWarning: The frame.append method is deprecated and will be removed from pandas in a future version. Use pandas.concat instead.\n",
      "  full_tbl = full_tbl.append(row_dict, ignore_index=True)\n",
      "\\\\keller-s13\\shared\\exchange\\will\\bishoplab\\projects\\keller_drive\\keller_vnc\\code\\keller_zlatic_vnc\\keller_zlatic_vnc\\data_processing.py:1225: FutureWarning: The frame.append method is deprecated and will be removed from pandas in a future version. Use pandas.concat instead.\n",
      "  full_tbl = full_tbl.append(row_dict, ignore_index=True)\n"
     ]
    },
    {
     "name": "stdout",
     "output_type": "stream",
     "text": [
      "Done processing dataset 11 of 65.\n"
     ]
    },
    {
     "name": "stderr",
     "output_type": "stream",
     "text": [
      "\\\\keller-s13\\shared\\exchange\\will\\bishoplab\\projects\\keller_drive\\keller_vnc\\code\\keller_zlatic_vnc\\keller_zlatic_vnc\\data_processing.py:1225: FutureWarning: The frame.append method is deprecated and will be removed from pandas in a future version. Use pandas.concat instead.\n",
      "  full_tbl = full_tbl.append(row_dict, ignore_index=True)\n",
      "\\\\keller-s13\\shared\\exchange\\will\\bishoplab\\projects\\keller_drive\\keller_vnc\\code\\keller_zlatic_vnc\\keller_zlatic_vnc\\data_processing.py:1225: FutureWarning: The frame.append method is deprecated and will be removed from pandas in a future version. Use pandas.concat instead.\n",
      "  full_tbl = full_tbl.append(row_dict, ignore_index=True)\n"
     ]
    },
    {
     "name": "stdout",
     "output_type": "stream",
     "text": [
      "Done processing dataset 12 of 65.\n"
     ]
    },
    {
     "name": "stderr",
     "output_type": "stream",
     "text": [
      "\\\\keller-s13\\shared\\exchange\\will\\bishoplab\\projects\\keller_drive\\keller_vnc\\code\\keller_zlatic_vnc\\keller_zlatic_vnc\\data_processing.py:1225: FutureWarning: The frame.append method is deprecated and will be removed from pandas in a future version. Use pandas.concat instead.\n",
      "  full_tbl = full_tbl.append(row_dict, ignore_index=True)\n",
      "\\\\keller-s13\\shared\\exchange\\will\\bishoplab\\projects\\keller_drive\\keller_vnc\\code\\keller_zlatic_vnc\\keller_zlatic_vnc\\data_processing.py:1225: FutureWarning: The frame.append method is deprecated and will be removed from pandas in a future version. Use pandas.concat instead.\n",
      "  full_tbl = full_tbl.append(row_dict, ignore_index=True)\n",
      "\\\\keller-s13\\shared\\exchange\\will\\bishoplab\\projects\\keller_drive\\keller_vnc\\code\\keller_zlatic_vnc\\keller_zlatic_vnc\\data_processing.py:1225: FutureWarning: The frame.append method is deprecated and will be removed from pandas in a future version. Use pandas.concat instead.\n",
      "  full_tbl = full_tbl.append(row_dict, ignore_index=True)\n",
      "\\\\keller-s13\\shared\\exchange\\will\\bishoplab\\projects\\keller_drive\\keller_vnc\\code\\keller_zlatic_vnc\\keller_zlatic_vnc\\data_processing.py:1225: FutureWarning: The frame.append method is deprecated and will be removed from pandas in a future version. Use pandas.concat instead.\n",
      "  full_tbl = full_tbl.append(row_dict, ignore_index=True)\n"
     ]
    },
    {
     "name": "stdout",
     "output_type": "stream",
     "text": [
      "Done processing dataset 14 of 65.\n"
     ]
    },
    {
     "name": "stderr",
     "output_type": "stream",
     "text": [
      "\\\\keller-s13\\shared\\exchange\\will\\bishoplab\\projects\\keller_drive\\keller_vnc\\code\\keller_zlatic_vnc\\keller_zlatic_vnc\\data_processing.py:1225: FutureWarning: The frame.append method is deprecated and will be removed from pandas in a future version. Use pandas.concat instead.\n",
      "  full_tbl = full_tbl.append(row_dict, ignore_index=True)\n",
      "\\\\keller-s13\\shared\\exchange\\will\\bishoplab\\projects\\keller_drive\\keller_vnc\\code\\keller_zlatic_vnc\\keller_zlatic_vnc\\data_processing.py:1225: FutureWarning: The frame.append method is deprecated and will be removed from pandas in a future version. Use pandas.concat instead.\n",
      "  full_tbl = full_tbl.append(row_dict, ignore_index=True)\n",
      "\\\\keller-s13\\shared\\exchange\\will\\bishoplab\\projects\\keller_drive\\keller_vnc\\code\\keller_zlatic_vnc\\keller_zlatic_vnc\\data_processing.py:1225: FutureWarning: The frame.append method is deprecated and will be removed from pandas in a future version. Use pandas.concat instead.\n",
      "  full_tbl = full_tbl.append(row_dict, ignore_index=True)\n",
      "\\\\keller-s13\\shared\\exchange\\will\\bishoplab\\projects\\keller_drive\\keller_vnc\\code\\keller_zlatic_vnc\\keller_zlatic_vnc\\data_processing.py:1225: FutureWarning: The frame.append method is deprecated and will be removed from pandas in a future version. Use pandas.concat instead.\n",
      "  full_tbl = full_tbl.append(row_dict, ignore_index=True)\n",
      "\\\\keller-s13\\shared\\exchange\\will\\bishoplab\\projects\\keller_drive\\keller_vnc\\code\\keller_zlatic_vnc\\keller_zlatic_vnc\\data_processing.py:1225: FutureWarning: The frame.append method is deprecated and will be removed from pandas in a future version. Use pandas.concat instead.\n",
      "  full_tbl = full_tbl.append(row_dict, ignore_index=True)\n",
      "\\\\keller-s13\\shared\\exchange\\will\\bishoplab\\projects\\keller_drive\\keller_vnc\\code\\keller_zlatic_vnc\\keller_zlatic_vnc\\data_processing.py:1225: FutureWarning: The frame.append method is deprecated and will be removed from pandas in a future version. Use pandas.concat instead.\n",
      "  full_tbl = full_tbl.append(row_dict, ignore_index=True)\n",
      "\\\\keller-s13\\shared\\exchange\\will\\bishoplab\\projects\\keller_drive\\keller_vnc\\code\\keller_zlatic_vnc\\keller_zlatic_vnc\\data_processing.py:1225: FutureWarning: The frame.append method is deprecated and will be removed from pandas in a future version. Use pandas.concat instead.\n",
      "  full_tbl = full_tbl.append(row_dict, ignore_index=True)\n"
     ]
    },
    {
     "name": "stdout",
     "output_type": "stream",
     "text": [
      "Done processing dataset 15 of 65.\n"
     ]
    },
    {
     "name": "stderr",
     "output_type": "stream",
     "text": [
      "\\\\keller-s13\\shared\\exchange\\will\\bishoplab\\projects\\keller_drive\\keller_vnc\\code\\keller_zlatic_vnc\\keller_zlatic_vnc\\data_processing.py:1225: FutureWarning: The frame.append method is deprecated and will be removed from pandas in a future version. Use pandas.concat instead.\n",
      "  full_tbl = full_tbl.append(row_dict, ignore_index=True)\n",
      "\\\\keller-s13\\shared\\exchange\\will\\bishoplab\\projects\\keller_drive\\keller_vnc\\code\\keller_zlatic_vnc\\keller_zlatic_vnc\\data_processing.py:1225: FutureWarning: The frame.append method is deprecated and will be removed from pandas in a future version. Use pandas.concat instead.\n",
      "  full_tbl = full_tbl.append(row_dict, ignore_index=True)\n",
      "\\\\keller-s13\\shared\\exchange\\will\\bishoplab\\projects\\keller_drive\\keller_vnc\\code\\keller_zlatic_vnc\\keller_zlatic_vnc\\data_processing.py:1225: FutureWarning: The frame.append method is deprecated and will be removed from pandas in a future version. Use pandas.concat instead.\n",
      "  full_tbl = full_tbl.append(row_dict, ignore_index=True)\n",
      "\\\\keller-s13\\shared\\exchange\\will\\bishoplab\\projects\\keller_drive\\keller_vnc\\code\\keller_zlatic_vnc\\keller_zlatic_vnc\\data_processing.py:1225: FutureWarning: The frame.append method is deprecated and will be removed from pandas in a future version. Use pandas.concat instead.\n",
      "  full_tbl = full_tbl.append(row_dict, ignore_index=True)\n"
     ]
    },
    {
     "name": "stdout",
     "output_type": "stream",
     "text": [
      "Done processing dataset 16 of 65.\n"
     ]
    },
    {
     "name": "stderr",
     "output_type": "stream",
     "text": [
      "\\\\keller-s13\\shared\\exchange\\will\\bishoplab\\projects\\keller_drive\\keller_vnc\\code\\keller_zlatic_vnc\\keller_zlatic_vnc\\data_processing.py:1225: FutureWarning: The frame.append method is deprecated and will be removed from pandas in a future version. Use pandas.concat instead.\n",
      "  full_tbl = full_tbl.append(row_dict, ignore_index=True)\n"
     ]
    },
    {
     "name": "stdout",
     "output_type": "stream",
     "text": [
      "Done processing dataset 17 of 65.\n"
     ]
    },
    {
     "name": "stderr",
     "output_type": "stream",
     "text": [
      "\\\\keller-s13\\shared\\exchange\\will\\bishoplab\\projects\\keller_drive\\keller_vnc\\code\\keller_zlatic_vnc\\keller_zlatic_vnc\\data_processing.py:1225: FutureWarning: The frame.append method is deprecated and will be removed from pandas in a future version. Use pandas.concat instead.\n",
      "  full_tbl = full_tbl.append(row_dict, ignore_index=True)\n",
      "\\\\keller-s13\\shared\\exchange\\will\\bishoplab\\projects\\keller_drive\\keller_vnc\\code\\keller_zlatic_vnc\\keller_zlatic_vnc\\data_processing.py:1225: FutureWarning: The frame.append method is deprecated and will be removed from pandas in a future version. Use pandas.concat instead.\n",
      "  full_tbl = full_tbl.append(row_dict, ignore_index=True)\n",
      "\\\\keller-s13\\shared\\exchange\\will\\bishoplab\\projects\\keller_drive\\keller_vnc\\code\\keller_zlatic_vnc\\keller_zlatic_vnc\\data_processing.py:1225: FutureWarning: The frame.append method is deprecated and will be removed from pandas in a future version. Use pandas.concat instead.\n",
      "  full_tbl = full_tbl.append(row_dict, ignore_index=True)\n"
     ]
    },
    {
     "name": "stdout",
     "output_type": "stream",
     "text": [
      "Done processing dataset 18 of 65.\n"
     ]
    },
    {
     "name": "stderr",
     "output_type": "stream",
     "text": [
      "\\\\keller-s13\\shared\\exchange\\will\\bishoplab\\projects\\keller_drive\\keller_vnc\\code\\keller_zlatic_vnc\\keller_zlatic_vnc\\data_processing.py:1225: FutureWarning: The frame.append method is deprecated and will be removed from pandas in a future version. Use pandas.concat instead.\n",
      "  full_tbl = full_tbl.append(row_dict, ignore_index=True)\n",
      "\\\\keller-s13\\shared\\exchange\\will\\bishoplab\\projects\\keller_drive\\keller_vnc\\code\\keller_zlatic_vnc\\keller_zlatic_vnc\\data_processing.py:1225: FutureWarning: The frame.append method is deprecated and will be removed from pandas in a future version. Use pandas.concat instead.\n",
      "  full_tbl = full_tbl.append(row_dict, ignore_index=True)\n"
     ]
    },
    {
     "name": "stdout",
     "output_type": "stream",
     "text": [
      "Done processing dataset 19 of 65.\n"
     ]
    },
    {
     "name": "stderr",
     "output_type": "stream",
     "text": [
      "\\\\keller-s13\\shared\\exchange\\will\\bishoplab\\projects\\keller_drive\\keller_vnc\\code\\keller_zlatic_vnc\\keller_zlatic_vnc\\data_processing.py:1225: FutureWarning: The frame.append method is deprecated and will be removed from pandas in a future version. Use pandas.concat instead.\n",
      "  full_tbl = full_tbl.append(row_dict, ignore_index=True)\n"
     ]
    },
    {
     "name": "stdout",
     "output_type": "stream",
     "text": [
      "Done processing dataset 20 of 65.\n"
     ]
    },
    {
     "name": "stderr",
     "output_type": "stream",
     "text": [
      "\\\\keller-s13\\shared\\exchange\\will\\bishoplab\\projects\\keller_drive\\keller_vnc\\code\\keller_zlatic_vnc\\keller_zlatic_vnc\\data_processing.py:1225: FutureWarning: The frame.append method is deprecated and will be removed from pandas in a future version. Use pandas.concat instead.\n",
      "  full_tbl = full_tbl.append(row_dict, ignore_index=True)\n",
      "\\\\keller-s13\\shared\\exchange\\will\\bishoplab\\projects\\keller_drive\\keller_vnc\\code\\keller_zlatic_vnc\\keller_zlatic_vnc\\data_processing.py:1225: FutureWarning: The frame.append method is deprecated and will be removed from pandas in a future version. Use pandas.concat instead.\n",
      "  full_tbl = full_tbl.append(row_dict, ignore_index=True)\n",
      "\\\\keller-s13\\shared\\exchange\\will\\bishoplab\\projects\\keller_drive\\keller_vnc\\code\\keller_zlatic_vnc\\keller_zlatic_vnc\\data_processing.py:1225: FutureWarning: The frame.append method is deprecated and will be removed from pandas in a future version. Use pandas.concat instead.\n",
      "  full_tbl = full_tbl.append(row_dict, ignore_index=True)\n"
     ]
    },
    {
     "name": "stdout",
     "output_type": "stream",
     "text": [
      "Done processing dataset 22 of 65.\n"
     ]
    },
    {
     "name": "stderr",
     "output_type": "stream",
     "text": [
      "\\\\keller-s13\\shared\\exchange\\will\\bishoplab\\projects\\keller_drive\\keller_vnc\\code\\keller_zlatic_vnc\\keller_zlatic_vnc\\data_processing.py:1225: FutureWarning: The frame.append method is deprecated and will be removed from pandas in a future version. Use pandas.concat instead.\n",
      "  full_tbl = full_tbl.append(row_dict, ignore_index=True)\n",
      "\\\\keller-s13\\shared\\exchange\\will\\bishoplab\\projects\\keller_drive\\keller_vnc\\code\\keller_zlatic_vnc\\keller_zlatic_vnc\\data_processing.py:1225: FutureWarning: The frame.append method is deprecated and will be removed from pandas in a future version. Use pandas.concat instead.\n",
      "  full_tbl = full_tbl.append(row_dict, ignore_index=True)\n",
      "\\\\keller-s13\\shared\\exchange\\will\\bishoplab\\projects\\keller_drive\\keller_vnc\\code\\keller_zlatic_vnc\\keller_zlatic_vnc\\data_processing.py:1225: FutureWarning: The frame.append method is deprecated and will be removed from pandas in a future version. Use pandas.concat instead.\n",
      "  full_tbl = full_tbl.append(row_dict, ignore_index=True)\n"
     ]
    },
    {
     "name": "stdout",
     "output_type": "stream",
     "text": [
      "Done processing dataset 23 of 65.\n"
     ]
    },
    {
     "name": "stderr",
     "output_type": "stream",
     "text": [
      "\\\\keller-s13\\shared\\exchange\\will\\bishoplab\\projects\\keller_drive\\keller_vnc\\code\\keller_zlatic_vnc\\keller_zlatic_vnc\\data_processing.py:1225: FutureWarning: The frame.append method is deprecated and will be removed from pandas in a future version. Use pandas.concat instead.\n",
      "  full_tbl = full_tbl.append(row_dict, ignore_index=True)\n",
      "\\\\keller-s13\\shared\\exchange\\will\\bishoplab\\projects\\keller_drive\\keller_vnc\\code\\keller_zlatic_vnc\\keller_zlatic_vnc\\data_processing.py:1225: FutureWarning: The frame.append method is deprecated and will be removed from pandas in a future version. Use pandas.concat instead.\n",
      "  full_tbl = full_tbl.append(row_dict, ignore_index=True)\n",
      "\\\\keller-s13\\shared\\exchange\\will\\bishoplab\\projects\\keller_drive\\keller_vnc\\code\\keller_zlatic_vnc\\keller_zlatic_vnc\\data_processing.py:1225: FutureWarning: The frame.append method is deprecated and will be removed from pandas in a future version. Use pandas.concat instead.\n",
      "  full_tbl = full_tbl.append(row_dict, ignore_index=True)\n",
      "\\\\keller-s13\\shared\\exchange\\will\\bishoplab\\projects\\keller_drive\\keller_vnc\\code\\keller_zlatic_vnc\\keller_zlatic_vnc\\data_processing.py:1225: FutureWarning: The frame.append method is deprecated and will be removed from pandas in a future version. Use pandas.concat instead.\n",
      "  full_tbl = full_tbl.append(row_dict, ignore_index=True)\n",
      "\\\\keller-s13\\shared\\exchange\\will\\bishoplab\\projects\\keller_drive\\keller_vnc\\code\\keller_zlatic_vnc\\keller_zlatic_vnc\\data_processing.py:1225: FutureWarning: The frame.append method is deprecated and will be removed from pandas in a future version. Use pandas.concat instead.\n",
      "  full_tbl = full_tbl.append(row_dict, ignore_index=True)\n"
     ]
    },
    {
     "name": "stdout",
     "output_type": "stream",
     "text": [
      "Done processing dataset 24 of 65.\n"
     ]
    },
    {
     "name": "stderr",
     "output_type": "stream",
     "text": [
      "\\\\keller-s13\\shared\\exchange\\will\\bishoplab\\projects\\keller_drive\\keller_vnc\\code\\keller_zlatic_vnc\\keller_zlatic_vnc\\data_processing.py:1225: FutureWarning: The frame.append method is deprecated and will be removed from pandas in a future version. Use pandas.concat instead.\n",
      "  full_tbl = full_tbl.append(row_dict, ignore_index=True)\n",
      "\\\\keller-s13\\shared\\exchange\\will\\bishoplab\\projects\\keller_drive\\keller_vnc\\code\\keller_zlatic_vnc\\keller_zlatic_vnc\\data_processing.py:1225: FutureWarning: The frame.append method is deprecated and will be removed from pandas in a future version. Use pandas.concat instead.\n",
      "  full_tbl = full_tbl.append(row_dict, ignore_index=True)\n",
      "\\\\keller-s13\\shared\\exchange\\will\\bishoplab\\projects\\keller_drive\\keller_vnc\\code\\keller_zlatic_vnc\\keller_zlatic_vnc\\data_processing.py:1225: FutureWarning: The frame.append method is deprecated and will be removed from pandas in a future version. Use pandas.concat instead.\n",
      "  full_tbl = full_tbl.append(row_dict, ignore_index=True)\n"
     ]
    },
    {
     "name": "stdout",
     "output_type": "stream",
     "text": [
      "Done processing dataset 25 of 65.\n"
     ]
    },
    {
     "name": "stderr",
     "output_type": "stream",
     "text": [
      "\\\\keller-s13\\shared\\exchange\\will\\bishoplab\\projects\\keller_drive\\keller_vnc\\code\\keller_zlatic_vnc\\keller_zlatic_vnc\\data_processing.py:1225: FutureWarning: The frame.append method is deprecated and will be removed from pandas in a future version. Use pandas.concat instead.\n",
      "  full_tbl = full_tbl.append(row_dict, ignore_index=True)\n",
      "\\\\keller-s13\\shared\\exchange\\will\\bishoplab\\projects\\keller_drive\\keller_vnc\\code\\keller_zlatic_vnc\\keller_zlatic_vnc\\data_processing.py:1225: FutureWarning: The frame.append method is deprecated and will be removed from pandas in a future version. Use pandas.concat instead.\n",
      "  full_tbl = full_tbl.append(row_dict, ignore_index=True)\n",
      "\\\\keller-s13\\shared\\exchange\\will\\bishoplab\\projects\\keller_drive\\keller_vnc\\code\\keller_zlatic_vnc\\keller_zlatic_vnc\\data_processing.py:1225: FutureWarning: The frame.append method is deprecated and will be removed from pandas in a future version. Use pandas.concat instead.\n",
      "  full_tbl = full_tbl.append(row_dict, ignore_index=True)\n",
      "\\\\keller-s13\\shared\\exchange\\will\\bishoplab\\projects\\keller_drive\\keller_vnc\\code\\keller_zlatic_vnc\\keller_zlatic_vnc\\data_processing.py:1225: FutureWarning: The frame.append method is deprecated and will be removed from pandas in a future version. Use pandas.concat instead.\n",
      "  full_tbl = full_tbl.append(row_dict, ignore_index=True)\n",
      "\\\\keller-s13\\shared\\exchange\\will\\bishoplab\\projects\\keller_drive\\keller_vnc\\code\\keller_zlatic_vnc\\keller_zlatic_vnc\\data_processing.py:1225: FutureWarning: The frame.append method is deprecated and will be removed from pandas in a future version. Use pandas.concat instead.\n",
      "  full_tbl = full_tbl.append(row_dict, ignore_index=True)\n",
      "\\\\keller-s13\\shared\\exchange\\will\\bishoplab\\projects\\keller_drive\\keller_vnc\\code\\keller_zlatic_vnc\\keller_zlatic_vnc\\data_processing.py:1225: FutureWarning: The frame.append method is deprecated and will be removed from pandas in a future version. Use pandas.concat instead.\n",
      "  full_tbl = full_tbl.append(row_dict, ignore_index=True)\n"
     ]
    },
    {
     "name": "stdout",
     "output_type": "stream",
     "text": [
      "Done processing dataset 29 of 65.\n"
     ]
    },
    {
     "name": "stderr",
     "output_type": "stream",
     "text": [
      "\\\\keller-s13\\shared\\exchange\\will\\bishoplab\\projects\\keller_drive\\keller_vnc\\code\\keller_zlatic_vnc\\keller_zlatic_vnc\\data_processing.py:1225: FutureWarning: The frame.append method is deprecated and will be removed from pandas in a future version. Use pandas.concat instead.\n",
      "  full_tbl = full_tbl.append(row_dict, ignore_index=True)\n"
     ]
    },
    {
     "name": "stdout",
     "output_type": "stream",
     "text": [
      "Done processing dataset 30 of 65.\n"
     ]
    },
    {
     "name": "stderr",
     "output_type": "stream",
     "text": [
      "\\\\keller-s13\\shared\\exchange\\will\\bishoplab\\projects\\keller_drive\\keller_vnc\\code\\keller_zlatic_vnc\\keller_zlatic_vnc\\data_processing.py:1225: FutureWarning: The frame.append method is deprecated and will be removed from pandas in a future version. Use pandas.concat instead.\n",
      "  full_tbl = full_tbl.append(row_dict, ignore_index=True)\n"
     ]
    },
    {
     "name": "stdout",
     "output_type": "stream",
     "text": [
      "Done processing dataset 31 of 65.\n"
     ]
    },
    {
     "name": "stderr",
     "output_type": "stream",
     "text": [
      "\\\\keller-s13\\shared\\exchange\\will\\bishoplab\\projects\\keller_drive\\keller_vnc\\code\\keller_zlatic_vnc\\keller_zlatic_vnc\\data_processing.py:1225: FutureWarning: The frame.append method is deprecated and will be removed from pandas in a future version. Use pandas.concat instead.\n",
      "  full_tbl = full_tbl.append(row_dict, ignore_index=True)\n",
      "\\\\keller-s13\\shared\\exchange\\will\\bishoplab\\projects\\keller_drive\\keller_vnc\\code\\keller_zlatic_vnc\\keller_zlatic_vnc\\data_processing.py:1225: FutureWarning: The frame.append method is deprecated and will be removed from pandas in a future version. Use pandas.concat instead.\n",
      "  full_tbl = full_tbl.append(row_dict, ignore_index=True)\n",
      "\\\\keller-s13\\shared\\exchange\\will\\bishoplab\\projects\\keller_drive\\keller_vnc\\code\\keller_zlatic_vnc\\keller_zlatic_vnc\\data_processing.py:1225: FutureWarning: The frame.append method is deprecated and will be removed from pandas in a future version. Use pandas.concat instead.\n",
      "  full_tbl = full_tbl.append(row_dict, ignore_index=True)\n",
      "\\\\keller-s13\\shared\\exchange\\will\\bishoplab\\projects\\keller_drive\\keller_vnc\\code\\keller_zlatic_vnc\\keller_zlatic_vnc\\data_processing.py:1225: FutureWarning: The frame.append method is deprecated and will be removed from pandas in a future version. Use pandas.concat instead.\n",
      "  full_tbl = full_tbl.append(row_dict, ignore_index=True)\n",
      "\\\\keller-s13\\shared\\exchange\\will\\bishoplab\\projects\\keller_drive\\keller_vnc\\code\\keller_zlatic_vnc\\keller_zlatic_vnc\\data_processing.py:1225: FutureWarning: The frame.append method is deprecated and will be removed from pandas in a future version. Use pandas.concat instead.\n",
      "  full_tbl = full_tbl.append(row_dict, ignore_index=True)\n",
      "\\\\keller-s13\\shared\\exchange\\will\\bishoplab\\projects\\keller_drive\\keller_vnc\\code\\keller_zlatic_vnc\\keller_zlatic_vnc\\data_processing.py:1225: FutureWarning: The frame.append method is deprecated and will be removed from pandas in a future version. Use pandas.concat instead.\n",
      "  full_tbl = full_tbl.append(row_dict, ignore_index=True)\n",
      "\\\\keller-s13\\shared\\exchange\\will\\bishoplab\\projects\\keller_drive\\keller_vnc\\code\\keller_zlatic_vnc\\keller_zlatic_vnc\\data_processing.py:1225: FutureWarning: The frame.append method is deprecated and will be removed from pandas in a future version. Use pandas.concat instead.\n",
      "  full_tbl = full_tbl.append(row_dict, ignore_index=True)\n",
      "\\\\keller-s13\\shared\\exchange\\will\\bishoplab\\projects\\keller_drive\\keller_vnc\\code\\keller_zlatic_vnc\\keller_zlatic_vnc\\data_processing.py:1225: FutureWarning: The frame.append method is deprecated and will be removed from pandas in a future version. Use pandas.concat instead.\n",
      "  full_tbl = full_tbl.append(row_dict, ignore_index=True)\n",
      "\\\\keller-s13\\shared\\exchange\\will\\bishoplab\\projects\\keller_drive\\keller_vnc\\code\\keller_zlatic_vnc\\keller_zlatic_vnc\\data_processing.py:1225: FutureWarning: The frame.append method is deprecated and will be removed from pandas in a future version. Use pandas.concat instead.\n",
      "  full_tbl = full_tbl.append(row_dict, ignore_index=True)\n"
     ]
    },
    {
     "name": "stdout",
     "output_type": "stream",
     "text": [
      "Done processing dataset 32 of 65.\n"
     ]
    },
    {
     "name": "stderr",
     "output_type": "stream",
     "text": [
      "\\\\keller-s13\\shared\\exchange\\will\\bishoplab\\projects\\keller_drive\\keller_vnc\\code\\keller_zlatic_vnc\\keller_zlatic_vnc\\data_processing.py:1225: FutureWarning: The frame.append method is deprecated and will be removed from pandas in a future version. Use pandas.concat instead.\n",
      "  full_tbl = full_tbl.append(row_dict, ignore_index=True)\n"
     ]
    },
    {
     "name": "stdout",
     "output_type": "stream",
     "text": [
      "Done processing dataset 36 of 65.\n"
     ]
    },
    {
     "name": "stderr",
     "output_type": "stream",
     "text": [
      "\\\\keller-s13\\shared\\exchange\\will\\bishoplab\\projects\\keller_drive\\keller_vnc\\code\\keller_zlatic_vnc\\keller_zlatic_vnc\\data_processing.py:1225: FutureWarning: The frame.append method is deprecated and will be removed from pandas in a future version. Use pandas.concat instead.\n",
      "  full_tbl = full_tbl.append(row_dict, ignore_index=True)\n",
      "\\\\keller-s13\\shared\\exchange\\will\\bishoplab\\projects\\keller_drive\\keller_vnc\\code\\keller_zlatic_vnc\\keller_zlatic_vnc\\data_processing.py:1225: FutureWarning: The frame.append method is deprecated and will be removed from pandas in a future version. Use pandas.concat instead.\n",
      "  full_tbl = full_tbl.append(row_dict, ignore_index=True)\n",
      "\\\\keller-s13\\shared\\exchange\\will\\bishoplab\\projects\\keller_drive\\keller_vnc\\code\\keller_zlatic_vnc\\keller_zlatic_vnc\\data_processing.py:1225: FutureWarning: The frame.append method is deprecated and will be removed from pandas in a future version. Use pandas.concat instead.\n",
      "  full_tbl = full_tbl.append(row_dict, ignore_index=True)\n"
     ]
    },
    {
     "name": "stdout",
     "output_type": "stream",
     "text": [
      "Done processing dataset 40 of 65.\n"
     ]
    },
    {
     "name": "stderr",
     "output_type": "stream",
     "text": [
      "\\\\keller-s13\\shared\\exchange\\will\\bishoplab\\projects\\keller_drive\\keller_vnc\\code\\keller_zlatic_vnc\\keller_zlatic_vnc\\data_processing.py:1225: FutureWarning: The frame.append method is deprecated and will be removed from pandas in a future version. Use pandas.concat instead.\n",
      "  full_tbl = full_tbl.append(row_dict, ignore_index=True)\n",
      "\\\\keller-s13\\shared\\exchange\\will\\bishoplab\\projects\\keller_drive\\keller_vnc\\code\\keller_zlatic_vnc\\keller_zlatic_vnc\\data_processing.py:1225: FutureWarning: The frame.append method is deprecated and will be removed from pandas in a future version. Use pandas.concat instead.\n",
      "  full_tbl = full_tbl.append(row_dict, ignore_index=True)\n",
      "\\\\keller-s13\\shared\\exchange\\will\\bishoplab\\projects\\keller_drive\\keller_vnc\\code\\keller_zlatic_vnc\\keller_zlatic_vnc\\data_processing.py:1225: FutureWarning: The frame.append method is deprecated and will be removed from pandas in a future version. Use pandas.concat instead.\n",
      "  full_tbl = full_tbl.append(row_dict, ignore_index=True)\n",
      "\\\\keller-s13\\shared\\exchange\\will\\bishoplab\\projects\\keller_drive\\keller_vnc\\code\\keller_zlatic_vnc\\keller_zlatic_vnc\\data_processing.py:1225: FutureWarning: The frame.append method is deprecated and will be removed from pandas in a future version. Use pandas.concat instead.\n",
      "  full_tbl = full_tbl.append(row_dict, ignore_index=True)\n",
      "\\\\keller-s13\\shared\\exchange\\will\\bishoplab\\projects\\keller_drive\\keller_vnc\\code\\keller_zlatic_vnc\\keller_zlatic_vnc\\data_processing.py:1225: FutureWarning: The frame.append method is deprecated and will be removed from pandas in a future version. Use pandas.concat instead.\n",
      "  full_tbl = full_tbl.append(row_dict, ignore_index=True)\n",
      "\\\\keller-s13\\shared\\exchange\\will\\bishoplab\\projects\\keller_drive\\keller_vnc\\code\\keller_zlatic_vnc\\keller_zlatic_vnc\\data_processing.py:1225: FutureWarning: The frame.append method is deprecated and will be removed from pandas in a future version. Use pandas.concat instead.\n",
      "  full_tbl = full_tbl.append(row_dict, ignore_index=True)\n",
      "\\\\keller-s13\\shared\\exchange\\will\\bishoplab\\projects\\keller_drive\\keller_vnc\\code\\keller_zlatic_vnc\\keller_zlatic_vnc\\data_processing.py:1225: FutureWarning: The frame.append method is deprecated and will be removed from pandas in a future version. Use pandas.concat instead.\n",
      "  full_tbl = full_tbl.append(row_dict, ignore_index=True)\n"
     ]
    },
    {
     "name": "stdout",
     "output_type": "stream",
     "text": [
      "Done processing dataset 41 of 65.\n"
     ]
    },
    {
     "name": "stderr",
     "output_type": "stream",
     "text": [
      "\\\\keller-s13\\shared\\exchange\\will\\bishoplab\\projects\\keller_drive\\keller_vnc\\code\\keller_zlatic_vnc\\keller_zlatic_vnc\\data_processing.py:1225: FutureWarning: The frame.append method is deprecated and will be removed from pandas in a future version. Use pandas.concat instead.\n",
      "  full_tbl = full_tbl.append(row_dict, ignore_index=True)\n",
      "\\\\keller-s13\\shared\\exchange\\will\\bishoplab\\projects\\keller_drive\\keller_vnc\\code\\keller_zlatic_vnc\\keller_zlatic_vnc\\data_processing.py:1225: FutureWarning: The frame.append method is deprecated and will be removed from pandas in a future version. Use pandas.concat instead.\n",
      "  full_tbl = full_tbl.append(row_dict, ignore_index=True)\n",
      "\\\\keller-s13\\shared\\exchange\\will\\bishoplab\\projects\\keller_drive\\keller_vnc\\code\\keller_zlatic_vnc\\keller_zlatic_vnc\\data_processing.py:1225: FutureWarning: The frame.append method is deprecated and will be removed from pandas in a future version. Use pandas.concat instead.\n",
      "  full_tbl = full_tbl.append(row_dict, ignore_index=True)\n"
     ]
    },
    {
     "name": "stdout",
     "output_type": "stream",
     "text": [
      "Done processing dataset 42 of 65.\n"
     ]
    },
    {
     "name": "stderr",
     "output_type": "stream",
     "text": [
      "\\\\keller-s13\\shared\\exchange\\will\\bishoplab\\projects\\keller_drive\\keller_vnc\\code\\keller_zlatic_vnc\\keller_zlatic_vnc\\data_processing.py:1225: FutureWarning: The frame.append method is deprecated and will be removed from pandas in a future version. Use pandas.concat instead.\n",
      "  full_tbl = full_tbl.append(row_dict, ignore_index=True)\n",
      "\\\\keller-s13\\shared\\exchange\\will\\bishoplab\\projects\\keller_drive\\keller_vnc\\code\\keller_zlatic_vnc\\keller_zlatic_vnc\\data_processing.py:1225: FutureWarning: The frame.append method is deprecated and will be removed from pandas in a future version. Use pandas.concat instead.\n",
      "  full_tbl = full_tbl.append(row_dict, ignore_index=True)\n",
      "\\\\keller-s13\\shared\\exchange\\will\\bishoplab\\projects\\keller_drive\\keller_vnc\\code\\keller_zlatic_vnc\\keller_zlatic_vnc\\data_processing.py:1225: FutureWarning: The frame.append method is deprecated and will be removed from pandas in a future version. Use pandas.concat instead.\n",
      "  full_tbl = full_tbl.append(row_dict, ignore_index=True)\n",
      "\\\\keller-s13\\shared\\exchange\\will\\bishoplab\\projects\\keller_drive\\keller_vnc\\code\\keller_zlatic_vnc\\keller_zlatic_vnc\\data_processing.py:1225: FutureWarning: The frame.append method is deprecated and will be removed from pandas in a future version. Use pandas.concat instead.\n",
      "  full_tbl = full_tbl.append(row_dict, ignore_index=True)\n"
     ]
    },
    {
     "name": "stdout",
     "output_type": "stream",
     "text": [
      "Done processing dataset 43 of 65.\n"
     ]
    },
    {
     "name": "stderr",
     "output_type": "stream",
     "text": [
      "\\\\keller-s13\\shared\\exchange\\will\\bishoplab\\projects\\keller_drive\\keller_vnc\\code\\keller_zlatic_vnc\\keller_zlatic_vnc\\data_processing.py:1225: FutureWarning: The frame.append method is deprecated and will be removed from pandas in a future version. Use pandas.concat instead.\n",
      "  full_tbl = full_tbl.append(row_dict, ignore_index=True)\n",
      "\\\\keller-s13\\shared\\exchange\\will\\bishoplab\\projects\\keller_drive\\keller_vnc\\code\\keller_zlatic_vnc\\keller_zlatic_vnc\\data_processing.py:1225: FutureWarning: The frame.append method is deprecated and will be removed from pandas in a future version. Use pandas.concat instead.\n",
      "  full_tbl = full_tbl.append(row_dict, ignore_index=True)\n",
      "\\\\keller-s13\\shared\\exchange\\will\\bishoplab\\projects\\keller_drive\\keller_vnc\\code\\keller_zlatic_vnc\\keller_zlatic_vnc\\data_processing.py:1225: FutureWarning: The frame.append method is deprecated and will be removed from pandas in a future version. Use pandas.concat instead.\n",
      "  full_tbl = full_tbl.append(row_dict, ignore_index=True)\n",
      "\\\\keller-s13\\shared\\exchange\\will\\bishoplab\\projects\\keller_drive\\keller_vnc\\code\\keller_zlatic_vnc\\keller_zlatic_vnc\\data_processing.py:1225: FutureWarning: The frame.append method is deprecated and will be removed from pandas in a future version. Use pandas.concat instead.\n",
      "  full_tbl = full_tbl.append(row_dict, ignore_index=True)\n",
      "\\\\keller-s13\\shared\\exchange\\will\\bishoplab\\projects\\keller_drive\\keller_vnc\\code\\keller_zlatic_vnc\\keller_zlatic_vnc\\data_processing.py:1225: FutureWarning: The frame.append method is deprecated and will be removed from pandas in a future version. Use pandas.concat instead.\n",
      "  full_tbl = full_tbl.append(row_dict, ignore_index=True)\n",
      "\\\\keller-s13\\shared\\exchange\\will\\bishoplab\\projects\\keller_drive\\keller_vnc\\code\\keller_zlatic_vnc\\keller_zlatic_vnc\\data_processing.py:1225: FutureWarning: The frame.append method is deprecated and will be removed from pandas in a future version. Use pandas.concat instead.\n",
      "  full_tbl = full_tbl.append(row_dict, ignore_index=True)\n"
     ]
    },
    {
     "name": "stdout",
     "output_type": "stream",
     "text": [
      "Done processing dataset 44 of 65.\n"
     ]
    },
    {
     "name": "stderr",
     "output_type": "stream",
     "text": [
      "\\\\keller-s13\\shared\\exchange\\will\\bishoplab\\projects\\keller_drive\\keller_vnc\\code\\keller_zlatic_vnc\\keller_zlatic_vnc\\data_processing.py:1225: FutureWarning: The frame.append method is deprecated and will be removed from pandas in a future version. Use pandas.concat instead.\n",
      "  full_tbl = full_tbl.append(row_dict, ignore_index=True)\n",
      "\\\\keller-s13\\shared\\exchange\\will\\bishoplab\\projects\\keller_drive\\keller_vnc\\code\\keller_zlatic_vnc\\keller_zlatic_vnc\\data_processing.py:1225: FutureWarning: The frame.append method is deprecated and will be removed from pandas in a future version. Use pandas.concat instead.\n",
      "  full_tbl = full_tbl.append(row_dict, ignore_index=True)\n"
     ]
    },
    {
     "name": "stdout",
     "output_type": "stream",
     "text": [
      "Done processing dataset 45 of 65.\n"
     ]
    },
    {
     "name": "stderr",
     "output_type": "stream",
     "text": [
      "\\\\keller-s13\\shared\\exchange\\will\\bishoplab\\projects\\keller_drive\\keller_vnc\\code\\keller_zlatic_vnc\\keller_zlatic_vnc\\data_processing.py:1225: FutureWarning: The frame.append method is deprecated and will be removed from pandas in a future version. Use pandas.concat instead.\n",
      "  full_tbl = full_tbl.append(row_dict, ignore_index=True)\n",
      "\\\\keller-s13\\shared\\exchange\\will\\bishoplab\\projects\\keller_drive\\keller_vnc\\code\\keller_zlatic_vnc\\keller_zlatic_vnc\\data_processing.py:1225: FutureWarning: The frame.append method is deprecated and will be removed from pandas in a future version. Use pandas.concat instead.\n",
      "  full_tbl = full_tbl.append(row_dict, ignore_index=True)\n",
      "\\\\keller-s13\\shared\\exchange\\will\\bishoplab\\projects\\keller_drive\\keller_vnc\\code\\keller_zlatic_vnc\\keller_zlatic_vnc\\data_processing.py:1225: FutureWarning: The frame.append method is deprecated and will be removed from pandas in a future version. Use pandas.concat instead.\n",
      "  full_tbl = full_tbl.append(row_dict, ignore_index=True)\n"
     ]
    },
    {
     "name": "stdout",
     "output_type": "stream",
     "text": [
      "Done processing dataset 46 of 65.\n"
     ]
    },
    {
     "name": "stderr",
     "output_type": "stream",
     "text": [
      "\\\\keller-s13\\shared\\exchange\\will\\bishoplab\\projects\\keller_drive\\keller_vnc\\code\\keller_zlatic_vnc\\keller_zlatic_vnc\\data_processing.py:1225: FutureWarning: The frame.append method is deprecated and will be removed from pandas in a future version. Use pandas.concat instead.\n",
      "  full_tbl = full_tbl.append(row_dict, ignore_index=True)\n",
      "\\\\keller-s13\\shared\\exchange\\will\\bishoplab\\projects\\keller_drive\\keller_vnc\\code\\keller_zlatic_vnc\\keller_zlatic_vnc\\data_processing.py:1225: FutureWarning: The frame.append method is deprecated and will be removed from pandas in a future version. Use pandas.concat instead.\n",
      "  full_tbl = full_tbl.append(row_dict, ignore_index=True)\n",
      "\\\\keller-s13\\shared\\exchange\\will\\bishoplab\\projects\\keller_drive\\keller_vnc\\code\\keller_zlatic_vnc\\keller_zlatic_vnc\\data_processing.py:1225: FutureWarning: The frame.append method is deprecated and will be removed from pandas in a future version. Use pandas.concat instead.\n",
      "  full_tbl = full_tbl.append(row_dict, ignore_index=True)\n",
      "\\\\keller-s13\\shared\\exchange\\will\\bishoplab\\projects\\keller_drive\\keller_vnc\\code\\keller_zlatic_vnc\\keller_zlatic_vnc\\data_processing.py:1225: FutureWarning: The frame.append method is deprecated and will be removed from pandas in a future version. Use pandas.concat instead.\n",
      "  full_tbl = full_tbl.append(row_dict, ignore_index=True)\n",
      "\\\\keller-s13\\shared\\exchange\\will\\bishoplab\\projects\\keller_drive\\keller_vnc\\code\\keller_zlatic_vnc\\keller_zlatic_vnc\\data_processing.py:1225: FutureWarning: The frame.append method is deprecated and will be removed from pandas in a future version. Use pandas.concat instead.\n",
      "  full_tbl = full_tbl.append(row_dict, ignore_index=True)\n",
      "\\\\keller-s13\\shared\\exchange\\will\\bishoplab\\projects\\keller_drive\\keller_vnc\\code\\keller_zlatic_vnc\\keller_zlatic_vnc\\data_processing.py:1225: FutureWarning: The frame.append method is deprecated and will be removed from pandas in a future version. Use pandas.concat instead.\n",
      "  full_tbl = full_tbl.append(row_dict, ignore_index=True)\n"
     ]
    },
    {
     "name": "stdout",
     "output_type": "stream",
     "text": [
      "Done processing dataset 47 of 65.\n"
     ]
    },
    {
     "name": "stderr",
     "output_type": "stream",
     "text": [
      "\\\\keller-s13\\shared\\exchange\\will\\bishoplab\\projects\\keller_drive\\keller_vnc\\code\\keller_zlatic_vnc\\keller_zlatic_vnc\\data_processing.py:1225: FutureWarning: The frame.append method is deprecated and will be removed from pandas in a future version. Use pandas.concat instead.\n",
      "  full_tbl = full_tbl.append(row_dict, ignore_index=True)\n",
      "\\\\keller-s13\\shared\\exchange\\will\\bishoplab\\projects\\keller_drive\\keller_vnc\\code\\keller_zlatic_vnc\\keller_zlatic_vnc\\data_processing.py:1225: FutureWarning: The frame.append method is deprecated and will be removed from pandas in a future version. Use pandas.concat instead.\n",
      "  full_tbl = full_tbl.append(row_dict, ignore_index=True)\n"
     ]
    },
    {
     "name": "stdout",
     "output_type": "stream",
     "text": [
      "Done processing dataset 48 of 65.\n"
     ]
    },
    {
     "name": "stderr",
     "output_type": "stream",
     "text": [
      "\\\\keller-s13\\shared\\exchange\\will\\bishoplab\\projects\\keller_drive\\keller_vnc\\code\\keller_zlatic_vnc\\keller_zlatic_vnc\\data_processing.py:1225: FutureWarning: The frame.append method is deprecated and will be removed from pandas in a future version. Use pandas.concat instead.\n",
      "  full_tbl = full_tbl.append(row_dict, ignore_index=True)\n",
      "\\\\keller-s13\\shared\\exchange\\will\\bishoplab\\projects\\keller_drive\\keller_vnc\\code\\keller_zlatic_vnc\\keller_zlatic_vnc\\data_processing.py:1225: FutureWarning: The frame.append method is deprecated and will be removed from pandas in a future version. Use pandas.concat instead.\n",
      "  full_tbl = full_tbl.append(row_dict, ignore_index=True)\n",
      "\\\\keller-s13\\shared\\exchange\\will\\bishoplab\\projects\\keller_drive\\keller_vnc\\code\\keller_zlatic_vnc\\keller_zlatic_vnc\\data_processing.py:1225: FutureWarning: The frame.append method is deprecated and will be removed from pandas in a future version. Use pandas.concat instead.\n",
      "  full_tbl = full_tbl.append(row_dict, ignore_index=True)\n",
      "\\\\keller-s13\\shared\\exchange\\will\\bishoplab\\projects\\keller_drive\\keller_vnc\\code\\keller_zlatic_vnc\\keller_zlatic_vnc\\data_processing.py:1225: FutureWarning: The frame.append method is deprecated and will be removed from pandas in a future version. Use pandas.concat instead.\n",
      "  full_tbl = full_tbl.append(row_dict, ignore_index=True)\n",
      "\\\\keller-s13\\shared\\exchange\\will\\bishoplab\\projects\\keller_drive\\keller_vnc\\code\\keller_zlatic_vnc\\keller_zlatic_vnc\\data_processing.py:1225: FutureWarning: The frame.append method is deprecated and will be removed from pandas in a future version. Use pandas.concat instead.\n",
      "  full_tbl = full_tbl.append(row_dict, ignore_index=True)\n",
      "\\\\keller-s13\\shared\\exchange\\will\\bishoplab\\projects\\keller_drive\\keller_vnc\\code\\keller_zlatic_vnc\\keller_zlatic_vnc\\data_processing.py:1225: FutureWarning: The frame.append method is deprecated and will be removed from pandas in a future version. Use pandas.concat instead.\n",
      "  full_tbl = full_tbl.append(row_dict, ignore_index=True)\n",
      "\\\\keller-s13\\shared\\exchange\\will\\bishoplab\\projects\\keller_drive\\keller_vnc\\code\\keller_zlatic_vnc\\keller_zlatic_vnc\\data_processing.py:1225: FutureWarning: The frame.append method is deprecated and will be removed from pandas in a future version. Use pandas.concat instead.\n",
      "  full_tbl = full_tbl.append(row_dict, ignore_index=True)\n"
     ]
    },
    {
     "name": "stdout",
     "output_type": "stream",
     "text": [
      "Done processing dataset 49 of 65.\n"
     ]
    },
    {
     "name": "stderr",
     "output_type": "stream",
     "text": [
      "\\\\keller-s13\\shared\\exchange\\will\\bishoplab\\projects\\keller_drive\\keller_vnc\\code\\keller_zlatic_vnc\\keller_zlatic_vnc\\data_processing.py:1225: FutureWarning: The frame.append method is deprecated and will be removed from pandas in a future version. Use pandas.concat instead.\n",
      "  full_tbl = full_tbl.append(row_dict, ignore_index=True)\n",
      "\\\\keller-s13\\shared\\exchange\\will\\bishoplab\\projects\\keller_drive\\keller_vnc\\code\\keller_zlatic_vnc\\keller_zlatic_vnc\\data_processing.py:1225: FutureWarning: The frame.append method is deprecated and will be removed from pandas in a future version. Use pandas.concat instead.\n",
      "  full_tbl = full_tbl.append(row_dict, ignore_index=True)\n",
      "\\\\keller-s13\\shared\\exchange\\will\\bishoplab\\projects\\keller_drive\\keller_vnc\\code\\keller_zlatic_vnc\\keller_zlatic_vnc\\data_processing.py:1225: FutureWarning: The frame.append method is deprecated and will be removed from pandas in a future version. Use pandas.concat instead.\n",
      "  full_tbl = full_tbl.append(row_dict, ignore_index=True)\n"
     ]
    },
    {
     "name": "stdout",
     "output_type": "stream",
     "text": [
      "Done processing dataset 50 of 65.\n"
     ]
    },
    {
     "name": "stderr",
     "output_type": "stream",
     "text": [
      "\\\\keller-s13\\shared\\exchange\\will\\bishoplab\\projects\\keller_drive\\keller_vnc\\code\\keller_zlatic_vnc\\keller_zlatic_vnc\\data_processing.py:1225: FutureWarning: The frame.append method is deprecated and will be removed from pandas in a future version. Use pandas.concat instead.\n",
      "  full_tbl = full_tbl.append(row_dict, ignore_index=True)\n"
     ]
    },
    {
     "name": "stdout",
     "output_type": "stream",
     "text": [
      "Done processing dataset 51 of 65.\n"
     ]
    },
    {
     "name": "stderr",
     "output_type": "stream",
     "text": [
      "\\\\keller-s13\\shared\\exchange\\will\\bishoplab\\projects\\keller_drive\\keller_vnc\\code\\keller_zlatic_vnc\\keller_zlatic_vnc\\data_processing.py:1225: FutureWarning: The frame.append method is deprecated and will be removed from pandas in a future version. Use pandas.concat instead.\n",
      "  full_tbl = full_tbl.append(row_dict, ignore_index=True)\n"
     ]
    },
    {
     "name": "stdout",
     "output_type": "stream",
     "text": [
      "Done processing dataset 52 of 65.\n"
     ]
    },
    {
     "name": "stderr",
     "output_type": "stream",
     "text": [
      "\\\\keller-s13\\shared\\exchange\\will\\bishoplab\\projects\\keller_drive\\keller_vnc\\code\\keller_zlatic_vnc\\keller_zlatic_vnc\\data_processing.py:1225: FutureWarning: The frame.append method is deprecated and will be removed from pandas in a future version. Use pandas.concat instead.\n",
      "  full_tbl = full_tbl.append(row_dict, ignore_index=True)\n",
      "\\\\keller-s13\\shared\\exchange\\will\\bishoplab\\projects\\keller_drive\\keller_vnc\\code\\keller_zlatic_vnc\\keller_zlatic_vnc\\data_processing.py:1225: FutureWarning: The frame.append method is deprecated and will be removed from pandas in a future version. Use pandas.concat instead.\n",
      "  full_tbl = full_tbl.append(row_dict, ignore_index=True)\n"
     ]
    },
    {
     "name": "stdout",
     "output_type": "stream",
     "text": [
      "Done processing dataset 53 of 65.\n"
     ]
    },
    {
     "name": "stderr",
     "output_type": "stream",
     "text": [
      "\\\\keller-s13\\shared\\exchange\\will\\bishoplab\\projects\\keller_drive\\keller_vnc\\code\\keller_zlatic_vnc\\keller_zlatic_vnc\\data_processing.py:1225: FutureWarning: The frame.append method is deprecated and will be removed from pandas in a future version. Use pandas.concat instead.\n",
      "  full_tbl = full_tbl.append(row_dict, ignore_index=True)\n",
      "\\\\keller-s13\\shared\\exchange\\will\\bishoplab\\projects\\keller_drive\\keller_vnc\\code\\keller_zlatic_vnc\\keller_zlatic_vnc\\data_processing.py:1225: FutureWarning: The frame.append method is deprecated and will be removed from pandas in a future version. Use pandas.concat instead.\n",
      "  full_tbl = full_tbl.append(row_dict, ignore_index=True)\n"
     ]
    },
    {
     "name": "stdout",
     "output_type": "stream",
     "text": [
      "Done processing dataset 54 of 65.\n"
     ]
    },
    {
     "name": "stderr",
     "output_type": "stream",
     "text": [
      "\\\\keller-s13\\shared\\exchange\\will\\bishoplab\\projects\\keller_drive\\keller_vnc\\code\\keller_zlatic_vnc\\keller_zlatic_vnc\\data_processing.py:1225: FutureWarning: The frame.append method is deprecated and will be removed from pandas in a future version. Use pandas.concat instead.\n",
      "  full_tbl = full_tbl.append(row_dict, ignore_index=True)\n",
      "\\\\keller-s13\\shared\\exchange\\will\\bishoplab\\projects\\keller_drive\\keller_vnc\\code\\keller_zlatic_vnc\\keller_zlatic_vnc\\data_processing.py:1225: FutureWarning: The frame.append method is deprecated and will be removed from pandas in a future version. Use pandas.concat instead.\n",
      "  full_tbl = full_tbl.append(row_dict, ignore_index=True)\n",
      "\\\\keller-s13\\shared\\exchange\\will\\bishoplab\\projects\\keller_drive\\keller_vnc\\code\\keller_zlatic_vnc\\keller_zlatic_vnc\\data_processing.py:1225: FutureWarning: The frame.append method is deprecated and will be removed from pandas in a future version. Use pandas.concat instead.\n",
      "  full_tbl = full_tbl.append(row_dict, ignore_index=True)\n",
      "\\\\keller-s13\\shared\\exchange\\will\\bishoplab\\projects\\keller_drive\\keller_vnc\\code\\keller_zlatic_vnc\\keller_zlatic_vnc\\data_processing.py:1225: FutureWarning: The frame.append method is deprecated and will be removed from pandas in a future version. Use pandas.concat instead.\n",
      "  full_tbl = full_tbl.append(row_dict, ignore_index=True)\n",
      "\\\\keller-s13\\shared\\exchange\\will\\bishoplab\\projects\\keller_drive\\keller_vnc\\code\\keller_zlatic_vnc\\keller_zlatic_vnc\\data_processing.py:1225: FutureWarning: The frame.append method is deprecated and will be removed from pandas in a future version. Use pandas.concat instead.\n",
      "  full_tbl = full_tbl.append(row_dict, ignore_index=True)\n",
      "\\\\keller-s13\\shared\\exchange\\will\\bishoplab\\projects\\keller_drive\\keller_vnc\\code\\keller_zlatic_vnc\\keller_zlatic_vnc\\data_processing.py:1225: FutureWarning: The frame.append method is deprecated and will be removed from pandas in a future version. Use pandas.concat instead.\n",
      "  full_tbl = full_tbl.append(row_dict, ignore_index=True)\n"
     ]
    },
    {
     "name": "stdout",
     "output_type": "stream",
     "text": [
      "Done processing dataset 55 of 65.\n"
     ]
    },
    {
     "name": "stderr",
     "output_type": "stream",
     "text": [
      "\\\\keller-s13\\shared\\exchange\\will\\bishoplab\\projects\\keller_drive\\keller_vnc\\code\\keller_zlatic_vnc\\keller_zlatic_vnc\\data_processing.py:1225: FutureWarning: The frame.append method is deprecated and will be removed from pandas in a future version. Use pandas.concat instead.\n",
      "  full_tbl = full_tbl.append(row_dict, ignore_index=True)\n",
      "\\\\keller-s13\\shared\\exchange\\will\\bishoplab\\projects\\keller_drive\\keller_vnc\\code\\keller_zlatic_vnc\\keller_zlatic_vnc\\data_processing.py:1225: FutureWarning: The frame.append method is deprecated and will be removed from pandas in a future version. Use pandas.concat instead.\n",
      "  full_tbl = full_tbl.append(row_dict, ignore_index=True)\n",
      "\\\\keller-s13\\shared\\exchange\\will\\bishoplab\\projects\\keller_drive\\keller_vnc\\code\\keller_zlatic_vnc\\keller_zlatic_vnc\\data_processing.py:1225: FutureWarning: The frame.append method is deprecated and will be removed from pandas in a future version. Use pandas.concat instead.\n",
      "  full_tbl = full_tbl.append(row_dict, ignore_index=True)\n",
      "\\\\keller-s13\\shared\\exchange\\will\\bishoplab\\projects\\keller_drive\\keller_vnc\\code\\keller_zlatic_vnc\\keller_zlatic_vnc\\data_processing.py:1225: FutureWarning: The frame.append method is deprecated and will be removed from pandas in a future version. Use pandas.concat instead.\n",
      "  full_tbl = full_tbl.append(row_dict, ignore_index=True)\n"
     ]
    },
    {
     "name": "stdout",
     "output_type": "stream",
     "text": [
      "Done processing dataset 56 of 65.\n"
     ]
    },
    {
     "name": "stderr",
     "output_type": "stream",
     "text": [
      "\\\\keller-s13\\shared\\exchange\\will\\bishoplab\\projects\\keller_drive\\keller_vnc\\code\\keller_zlatic_vnc\\keller_zlatic_vnc\\data_processing.py:1225: FutureWarning: The frame.append method is deprecated and will be removed from pandas in a future version. Use pandas.concat instead.\n",
      "  full_tbl = full_tbl.append(row_dict, ignore_index=True)\n",
      "\\\\keller-s13\\shared\\exchange\\will\\bishoplab\\projects\\keller_drive\\keller_vnc\\code\\keller_zlatic_vnc\\keller_zlatic_vnc\\data_processing.py:1225: FutureWarning: The frame.append method is deprecated and will be removed from pandas in a future version. Use pandas.concat instead.\n",
      "  full_tbl = full_tbl.append(row_dict, ignore_index=True)\n",
      "\\\\keller-s13\\shared\\exchange\\will\\bishoplab\\projects\\keller_drive\\keller_vnc\\code\\keller_zlatic_vnc\\keller_zlatic_vnc\\data_processing.py:1225: FutureWarning: The frame.append method is deprecated and will be removed from pandas in a future version. Use pandas.concat instead.\n",
      "  full_tbl = full_tbl.append(row_dict, ignore_index=True)\n"
     ]
    },
    {
     "name": "stdout",
     "output_type": "stream",
     "text": [
      "Done processing dataset 57 of 65.\n"
     ]
    },
    {
     "name": "stderr",
     "output_type": "stream",
     "text": [
      "\\\\keller-s13\\shared\\exchange\\will\\bishoplab\\projects\\keller_drive\\keller_vnc\\code\\keller_zlatic_vnc\\keller_zlatic_vnc\\data_processing.py:1225: FutureWarning: The frame.append method is deprecated and will be removed from pandas in a future version. Use pandas.concat instead.\n",
      "  full_tbl = full_tbl.append(row_dict, ignore_index=True)\n",
      "\\\\keller-s13\\shared\\exchange\\will\\bishoplab\\projects\\keller_drive\\keller_vnc\\code\\keller_zlatic_vnc\\keller_zlatic_vnc\\data_processing.py:1225: FutureWarning: The frame.append method is deprecated and will be removed from pandas in a future version. Use pandas.concat instead.\n",
      "  full_tbl = full_tbl.append(row_dict, ignore_index=True)\n",
      "\\\\keller-s13\\shared\\exchange\\will\\bishoplab\\projects\\keller_drive\\keller_vnc\\code\\keller_zlatic_vnc\\keller_zlatic_vnc\\data_processing.py:1225: FutureWarning: The frame.append method is deprecated and will be removed from pandas in a future version. Use pandas.concat instead.\n",
      "  full_tbl = full_tbl.append(row_dict, ignore_index=True)\n",
      "\\\\keller-s13\\shared\\exchange\\will\\bishoplab\\projects\\keller_drive\\keller_vnc\\code\\keller_zlatic_vnc\\keller_zlatic_vnc\\data_processing.py:1225: FutureWarning: The frame.append method is deprecated and will be removed from pandas in a future version. Use pandas.concat instead.\n",
      "  full_tbl = full_tbl.append(row_dict, ignore_index=True)\n"
     ]
    },
    {
     "name": "stdout",
     "output_type": "stream",
     "text": [
      "Done processing dataset 58 of 65.\n"
     ]
    },
    {
     "name": "stderr",
     "output_type": "stream",
     "text": [
      "\\\\keller-s13\\shared\\exchange\\will\\bishoplab\\projects\\keller_drive\\keller_vnc\\code\\keller_zlatic_vnc\\keller_zlatic_vnc\\data_processing.py:1225: FutureWarning: The frame.append method is deprecated and will be removed from pandas in a future version. Use pandas.concat instead.\n",
      "  full_tbl = full_tbl.append(row_dict, ignore_index=True)\n"
     ]
    },
    {
     "name": "stdout",
     "output_type": "stream",
     "text": [
      "Done processing dataset 59 of 65.\n"
     ]
    },
    {
     "name": "stderr",
     "output_type": "stream",
     "text": [
      "\\\\keller-s13\\shared\\exchange\\will\\bishoplab\\projects\\keller_drive\\keller_vnc\\code\\keller_zlatic_vnc\\keller_zlatic_vnc\\data_processing.py:1225: FutureWarning: The frame.append method is deprecated and will be removed from pandas in a future version. Use pandas.concat instead.\n",
      "  full_tbl = full_tbl.append(row_dict, ignore_index=True)\n"
     ]
    },
    {
     "name": "stdout",
     "output_type": "stream",
     "text": [
      "Done processing dataset 60 of 65.\n"
     ]
    },
    {
     "name": "stderr",
     "output_type": "stream",
     "text": [
      "\\\\keller-s13\\shared\\exchange\\will\\bishoplab\\projects\\keller_drive\\keller_vnc\\code\\keller_zlatic_vnc\\keller_zlatic_vnc\\data_processing.py:1225: FutureWarning: The frame.append method is deprecated and will be removed from pandas in a future version. Use pandas.concat instead.\n",
      "  full_tbl = full_tbl.append(row_dict, ignore_index=True)\n",
      "\\\\keller-s13\\shared\\exchange\\will\\bishoplab\\projects\\keller_drive\\keller_vnc\\code\\keller_zlatic_vnc\\keller_zlatic_vnc\\data_processing.py:1225: FutureWarning: The frame.append method is deprecated and will be removed from pandas in a future version. Use pandas.concat instead.\n",
      "  full_tbl = full_tbl.append(row_dict, ignore_index=True)\n",
      "\\\\keller-s13\\shared\\exchange\\will\\bishoplab\\projects\\keller_drive\\keller_vnc\\code\\keller_zlatic_vnc\\keller_zlatic_vnc\\data_processing.py:1225: FutureWarning: The frame.append method is deprecated and will be removed from pandas in a future version. Use pandas.concat instead.\n",
      "  full_tbl = full_tbl.append(row_dict, ignore_index=True)\n",
      "\\\\keller-s13\\shared\\exchange\\will\\bishoplab\\projects\\keller_drive\\keller_vnc\\code\\keller_zlatic_vnc\\keller_zlatic_vnc\\data_processing.py:1225: FutureWarning: The frame.append method is deprecated and will be removed from pandas in a future version. Use pandas.concat instead.\n",
      "  full_tbl = full_tbl.append(row_dict, ignore_index=True)\n"
     ]
    },
    {
     "name": "stdout",
     "output_type": "stream",
     "text": [
      "Done processing dataset 62 of 65.\n"
     ]
    },
    {
     "name": "stderr",
     "output_type": "stream",
     "text": [
      "\\\\keller-s13\\shared\\exchange\\will\\bishoplab\\projects\\keller_drive\\keller_vnc\\code\\keller_zlatic_vnc\\keller_zlatic_vnc\\data_processing.py:1225: FutureWarning: The frame.append method is deprecated and will be removed from pandas in a future version. Use pandas.concat instead.\n",
      "  full_tbl = full_tbl.append(row_dict, ignore_index=True)\n",
      "\\\\keller-s13\\shared\\exchange\\will\\bishoplab\\projects\\keller_drive\\keller_vnc\\code\\keller_zlatic_vnc\\keller_zlatic_vnc\\data_processing.py:1225: FutureWarning: The frame.append method is deprecated and will be removed from pandas in a future version. Use pandas.concat instead.\n",
      "  full_tbl = full_tbl.append(row_dict, ignore_index=True)\n",
      "\\\\keller-s13\\shared\\exchange\\will\\bishoplab\\projects\\keller_drive\\keller_vnc\\code\\keller_zlatic_vnc\\keller_zlatic_vnc\\data_processing.py:1225: FutureWarning: The frame.append method is deprecated and will be removed from pandas in a future version. Use pandas.concat instead.\n",
      "  full_tbl = full_tbl.append(row_dict, ignore_index=True)\n",
      "\\\\keller-s13\\shared\\exchange\\will\\bishoplab\\projects\\keller_drive\\keller_vnc\\code\\keller_zlatic_vnc\\keller_zlatic_vnc\\data_processing.py:1225: FutureWarning: The frame.append method is deprecated and will be removed from pandas in a future version. Use pandas.concat instead.\n",
      "  full_tbl = full_tbl.append(row_dict, ignore_index=True)\n"
     ]
    },
    {
     "name": "stdout",
     "output_type": "stream",
     "text": [
      "Done processing dataset 63 of 65.\n"
     ]
    },
    {
     "name": "stderr",
     "output_type": "stream",
     "text": [
      "\\\\keller-s13\\shared\\exchange\\will\\bishoplab\\projects\\keller_drive\\keller_vnc\\code\\keller_zlatic_vnc\\keller_zlatic_vnc\\data_processing.py:1225: FutureWarning: The frame.append method is deprecated and will be removed from pandas in a future version. Use pandas.concat instead.\n",
      "  full_tbl = full_tbl.append(row_dict, ignore_index=True)\n",
      "\\\\keller-s13\\shared\\exchange\\will\\bishoplab\\projects\\keller_drive\\keller_vnc\\code\\keller_zlatic_vnc\\keller_zlatic_vnc\\data_processing.py:1225: FutureWarning: The frame.append method is deprecated and will be removed from pandas in a future version. Use pandas.concat instead.\n",
      "  full_tbl = full_tbl.append(row_dict, ignore_index=True)\n",
      "\\\\keller-s13\\shared\\exchange\\will\\bishoplab\\projects\\keller_drive\\keller_vnc\\code\\keller_zlatic_vnc\\keller_zlatic_vnc\\data_processing.py:1225: FutureWarning: The frame.append method is deprecated and will be removed from pandas in a future version. Use pandas.concat instead.\n",
      "  full_tbl = full_tbl.append(row_dict, ignore_index=True)\n",
      "\\\\keller-s13\\shared\\exchange\\will\\bishoplab\\projects\\keller_drive\\keller_vnc\\code\\keller_zlatic_vnc\\keller_zlatic_vnc\\data_processing.py:1225: FutureWarning: The frame.append method is deprecated and will be removed from pandas in a future version. Use pandas.concat instead.\n",
      "  full_tbl = full_tbl.append(row_dict, ignore_index=True)\n"
     ]
    },
    {
     "name": "stdout",
     "output_type": "stream",
     "text": [
      "Done processing dataset 64 of 65.\n",
      "Done processing dataset 65 of 65.\n"
     ]
    },
    {
     "name": "stderr",
     "output_type": "stream",
     "text": [
      "\\\\keller-s13\\shared\\exchange\\will\\bishoplab\\projects\\keller_drive\\keller_vnc\\code\\keller_zlatic_vnc\\keller_zlatic_vnc\\data_processing.py:1225: FutureWarning: The frame.append method is deprecated and will be removed from pandas in a future version. Use pandas.concat instead.\n",
      "  full_tbl = full_tbl.append(row_dict, ignore_index=True)\n",
      "\\\\keller-s13\\shared\\exchange\\will\\bishoplab\\projects\\keller_drive\\keller_vnc\\code\\keller_zlatic_vnc\\keller_zlatic_vnc\\data_processing.py:1225: FutureWarning: The frame.append method is deprecated and will be removed from pandas in a future version. Use pandas.concat instead.\n",
      "  full_tbl = full_tbl.append(row_dict, ignore_index=True)\n",
      "\\\\keller-s13\\shared\\exchange\\will\\bishoplab\\projects\\keller_drive\\keller_vnc\\code\\keller_zlatic_vnc\\keller_zlatic_vnc\\data_processing.py:1225: FutureWarning: The frame.append method is deprecated and will be removed from pandas in a future version. Use pandas.concat instead.\n",
      "  full_tbl = full_tbl.append(row_dict, ignore_index=True)\n",
      "\\\\keller-s13\\shared\\exchange\\will\\bishoplab\\projects\\keller_drive\\keller_vnc\\code\\keller_zlatic_vnc\\keller_zlatic_vnc\\data_processing.py:1225: FutureWarning: The frame.append method is deprecated and will be removed from pandas in a future version. Use pandas.concat instead.\n",
      "  full_tbl = full_tbl.append(row_dict, ignore_index=True)\n",
      "\\\\keller-s13\\shared\\exchange\\will\\bishoplab\\projects\\keller_drive\\keller_vnc\\code\\keller_zlatic_vnc\\keller_zlatic_vnc\\data_processing.py:1225: FutureWarning: The frame.append method is deprecated and will be removed from pandas in a future version. Use pandas.concat instead.\n",
      "  full_tbl = full_tbl.append(row_dict, ignore_index=True)\n",
      "\\\\keller-s13\\shared\\exchange\\will\\bishoplab\\projects\\keller_drive\\keller_vnc\\code\\keller_zlatic_vnc\\keller_zlatic_vnc\\data_processing.py:1225: FutureWarning: The frame.append method is deprecated and will be removed from pandas in a future version. Use pandas.concat instead.\n",
      "  full_tbl = full_tbl.append(row_dict, ignore_index=True)\n",
      "\\\\keller-s13\\shared\\exchange\\will\\bishoplab\\projects\\keller_drive\\keller_vnc\\code\\keller_zlatic_vnc\\keller_zlatic_vnc\\data_processing.py:1225: FutureWarning: The frame.append method is deprecated and will be removed from pandas in a future version. Use pandas.concat instead.\n",
      "  full_tbl = full_tbl.append(row_dict, ignore_index=True)\n",
      "\\\\keller-s13\\shared\\exchange\\will\\bishoplab\\projects\\keller_drive\\keller_vnc\\code\\keller_zlatic_vnc\\keller_zlatic_vnc\\data_processing.py:1225: FutureWarning: The frame.append method is deprecated and will be removed from pandas in a future version. Use pandas.concat instead.\n",
      "  full_tbl = full_tbl.append(row_dict, ignore_index=True)\n"
     ]
    }
   ],
   "source": [
    "analysis_subjects = subj_events['subject_id'].unique()\n",
    "n_datasets = len(data_locs)\n",
    "n_analysis_subjs = len(analysis_subjects)\n",
    "matched_analysis_subjs = np.zeros(n_analysis_subjs)\n",
    "matched_data_subjs = np.zeros(n_datasets)\n",
    "\n",
    "subject_event_data = [None]*n_datasets\n",
    "\n",
    "for d_i in range(n_datasets):\n",
    "    \n",
    "    # ===============================================================================\n",
    "    # Find the appropriate annotations for this experiment\n",
    "    data_main_folder = data_locs['Main folder'][d_i]\n",
    "    data_sub_folder = data_locs['Subfolder'][d_i]\n",
    "\n",
    "    # Parse the subject from the subfolder string\n",
    "    match_ind = match_annotation_subject_to_volume_subject(data_main_folder, data_sub_folder, analysis_subjects)\n",
    "    \n",
    "    if match_ind is not None:\n",
    "        match_ind = match_ind.item()\n",
    "        \n",
    "        \n",
    "        # Prevent any double matching\n",
    "        if matched_analysis_subjs[match_ind] == True:\n",
    "            raise(RuntimeError('Found a transition subject we already matched to: d_i=' + str(d_i)))\n",
    "        if matched_data_subjs[d_i] == True:\n",
    "            raise(RuntimeError('Found a volume subject we already matched to.'))\n",
    "            \n",
    "        matched_analysis_subjs[match_ind] = True\n",
    "        matched_data_subjs[d_i] = True\n",
    "         \n",
    "        # ===============================================================================\n",
    "        # Now that we know we have a unique match, we do the rest of our processing\n",
    "\n",
    "        # Read in the data for this subject\n",
    "        dataset_path = (Path(ps['dataset_base_folder']) / data_main_folder / data_sub_folder / \n",
    "                        Path(ps['dataset_folder']))\n",
    "        dataset_file = glob.glob(str(dataset_path/'*.pkl'))[0]\n",
    "\n",
    "        # Load the dataset\n",
    "        with open(dataset_file, 'rb') as f:\n",
    "            dataset = ROIDataset.from_dict(pickle.load(f))\n",
    "        \n",
    "        # Update the NDArrayHandlers within the dataset object, so they know where to load data from\n",
    "        for ts_label in dataset.ts_data.keys():\n",
    "            ts_vls = dataset.ts_data[ts_label]['vls']\n",
    "            if isinstance(ts_vls, janelia_core.fileio.data_handlers.NDArrayHandler):\n",
    "                ts_vls.folder = str(dataset_path / Path(ts_vls.folder).name)\n",
    "        \n",
    "        # Calculate dff\n",
    "        f=dataset.ts_data[ps['f_ts_str']]['vls'][:]\n",
    "        b=dataset.ts_data[ps['bl_ts_str']]['vls'][:]\n",
    "        dff = calc_dff(f=f, b=b, background=ps['dff_calc_params']['background'], ep=ps['dff_calc_params']['ep'])\n",
    "        \n",
    "        # Extract dff for each event\n",
    "        sample_id = analysis_subjects[match_ind]\n",
    "        event_rows = subj_events['subject_id'] == sample_id\n",
    "        sample_events = copy.deepcopy(subj_events[event_rows])\n",
    "        \n",
    "        subject_event_data[d_i] = whole_brain_extract_dff_with_annotations(dff=dff,\n",
    "                                                              event_tbl=sample_events,\n",
    "                                                              align_col=ps['dff_window_ref'],\n",
    "                                                              window_type=ps['dff_window_type'],\n",
    "                                                              ref_offset=ps['dff_window_offset'],\n",
    "                                                              window_l=ps['dff_window_length'],\n",
    "                                                              end_align_col=ps['dff_window_end_ref'],\n",
    "                                                              end_ref_offset=ps['dff_window_end_offset'])\n",
    "        \n",
    "        # Give user some feedback\n",
    "        print('Done processing dataset ' + str(d_i + 1) + ' of ' + str(n_datasets) + '.')"
   ]
  },
  {
   "cell_type": "code",
   "execution_count": 12,
   "metadata": {},
   "outputs": [],
   "source": [
    "subject_event_data = pd.concat(subject_event_data, ignore_index=True)"
   ]
  },
  {
   "cell_type": "code",
   "execution_count": 13,
   "metadata": {},
   "outputs": [],
   "source": [
    "# See what subjects we have transitions for but no registerd volumes\n",
    "ignored_analysis_subjs = analysis_subjects[np.logical_not(matched_analysis_subjs)]\n",
    "\n",
    "# See what subjects we have registered volumes for but no transitions\n",
    "ignored_vol_subjs = data_locs[np.logical_not(matched_data_subjs)]"
   ]
  },
  {
   "cell_type": "code",
   "execution_count": 14,
   "metadata": {},
   "outputs": [
    {
     "name": "stdout",
     "output_type": "stream",
     "text": [
      "Saved results to: Z:\\Exchange\\Will\\bishoplab\\projects\\keller_drive\\keller_vnc\\results\\new_whole_brain_stats\\5_25_25\\decision_dependence_5_25_25.pkl\n"
     ]
    }
   ],
   "source": [
    "## Save results\n",
    "rs = dict()\n",
    "rs['ps'] = ps\n",
    "rs['subject_event_data'] = subject_event_data\n",
    "rs['ignored_analysis_subjs'] = ignored_analysis_subjs\n",
    "rs['ignored_vol_subjs'] = ignored_vol_subjs\n",
    "\n",
    "save_name = ps['save_str'] + '.pkl'\n",
    "save_path = Path(ps['save_folder']) / save_name\n",
    "with open(save_path, 'wb') as f:\n",
    "    pickle.dump(rs, f)\n",
    "    \n",
    "print('Saved results to: ' + str(save_path))"
   ]
  },
  {
   "cell_type": "code",
   "execution_count": 15,
   "metadata": {},
   "outputs": [
    {
     "data": {
      "text/html": [
       "<div>\n",
       "<style scoped>\n",
       "    .dataframe tbody tr th:only-of-type {\n",
       "        vertical-align: middle;\n",
       "    }\n",
       "\n",
       "    .dataframe tbody tr th {\n",
       "        vertical-align: top;\n",
       "    }\n",
       "\n",
       "    .dataframe thead th {\n",
       "        text-align: right;\n",
       "    }\n",
       "</style>\n",
       "<table border=\"1\" class=\"dataframe\">\n",
       "  <thead>\n",
       "    <tr style=\"text-align: right;\">\n",
       "      <th></th>\n",
       "      <th>subject_id</th>\n",
       "      <th>manipulation_tgt</th>\n",
       "      <th>event_id</th>\n",
       "      <th>beh_before</th>\n",
       "      <th>beh_after</th>\n",
       "      <th>beh</th>\n",
       "      <th>dff</th>\n",
       "    </tr>\n",
       "  </thead>\n",
       "  <tbody>\n",
       "    <tr>\n",
       "      <th>0</th>\n",
       "      <td>CW_17-08-23-L1</td>\n",
       "      <td>A4</td>\n",
       "      <td>0</td>\n",
       "      <td>F</td>\n",
       "      <td>P</td>\n",
       "      <td>S</td>\n",
       "      <td>[0.51608485, 0.48427287, 0.39645705, 0.3752432...</td>\n",
       "    </tr>\n",
       "    <tr>\n",
       "      <th>1</th>\n",
       "      <td>CW_17-08-23-L1</td>\n",
       "      <td>A4</td>\n",
       "      <td>1</td>\n",
       "      <td>F</td>\n",
       "      <td>P</td>\n",
       "      <td>S</td>\n",
       "      <td>[0.53802836, 0.50630283, 0.41602746, 0.3865444...</td>\n",
       "    </tr>\n",
       "    <tr>\n",
       "      <th>2</th>\n",
       "      <td>CW_17-08-23-L2</td>\n",
       "      <td>A4</td>\n",
       "      <td>0</td>\n",
       "      <td>F</td>\n",
       "      <td>B</td>\n",
       "      <td>S</td>\n",
       "      <td>[0.5735277, 0.53321326, 0.40003648, 0.38193583...</td>\n",
       "    </tr>\n",
       "    <tr>\n",
       "      <th>3</th>\n",
       "      <td>CW_17-08-23-L2</td>\n",
       "      <td>A4</td>\n",
       "      <td>1</td>\n",
       "      <td>F</td>\n",
       "      <td>B</td>\n",
       "      <td>S</td>\n",
       "      <td>[0.5210747, 0.47617674, 0.35408345, 0.32054883...</td>\n",
       "    </tr>\n",
       "    <tr>\n",
       "      <th>4</th>\n",
       "      <td>CW_17-08-23-L2</td>\n",
       "      <td>A4</td>\n",
       "      <td>2</td>\n",
       "      <td>F</td>\n",
       "      <td>B</td>\n",
       "      <td>S</td>\n",
       "      <td>[0.56831515, 0.52191776, 0.37642595, 0.3361944...</td>\n",
       "    </tr>\n",
       "    <tr>\n",
       "      <th>...</th>\n",
       "      <td>...</td>\n",
       "      <td>...</td>\n",
       "      <td>...</td>\n",
       "      <td>...</td>\n",
       "      <td>...</td>\n",
       "      <td>...</td>\n",
       "      <td>...</td>\n",
       "    </tr>\n",
       "    <tr>\n",
       "      <th>184</th>\n",
       "      <td>CW_17-12-11-L3</td>\n",
       "      <td>A4</td>\n",
       "      <td>3</td>\n",
       "      <td>Q</td>\n",
       "      <td>F</td>\n",
       "      <td>S</td>\n",
       "      <td>[1.9190801, 1.8327557, 1.0687201, 0.8503302, 1...</td>\n",
       "    </tr>\n",
       "    <tr>\n",
       "      <th>185</th>\n",
       "      <td>CW_17-12-11-L3</td>\n",
       "      <td>A4</td>\n",
       "      <td>4</td>\n",
       "      <td>Q</td>\n",
       "      <td>F</td>\n",
       "      <td>S</td>\n",
       "      <td>[1.9736592, 1.841115, 1.0997047, 0.8724971, 1....</td>\n",
       "    </tr>\n",
       "    <tr>\n",
       "      <th>186</th>\n",
       "      <td>CW_17-12-11-L3</td>\n",
       "      <td>A4</td>\n",
       "      <td>5</td>\n",
       "      <td>Q</td>\n",
       "      <td>F</td>\n",
       "      <td>S</td>\n",
       "      <td>[1.9726671, 1.8393914, 1.1119825, 0.86963326, ...</td>\n",
       "    </tr>\n",
       "    <tr>\n",
       "      <th>187</th>\n",
       "      <td>CW_17-12-11-L3</td>\n",
       "      <td>A4</td>\n",
       "      <td>6</td>\n",
       "      <td>Q</td>\n",
       "      <td>F</td>\n",
       "      <td>S</td>\n",
       "      <td>[1.9955611, 1.8517638, 1.1175747, 0.8699227, 1...</td>\n",
       "    </tr>\n",
       "    <tr>\n",
       "      <th>188</th>\n",
       "      <td>CW_17-12-11-L3</td>\n",
       "      <td>A4</td>\n",
       "      <td>7</td>\n",
       "      <td>Q</td>\n",
       "      <td>F</td>\n",
       "      <td>S</td>\n",
       "      <td>[2.015733, 1.8704983, 1.1355824, 0.8865121, 1....</td>\n",
       "    </tr>\n",
       "  </tbody>\n",
       "</table>\n",
       "<p>189 rows × 7 columns</p>\n",
       "</div>"
      ],
      "text/plain": [
       "         subject_id manipulation_tgt event_id beh_before beh_after beh  \\\n",
       "0    CW_17-08-23-L1               A4        0          F         P   S   \n",
       "1    CW_17-08-23-L1               A4        1          F         P   S   \n",
       "2    CW_17-08-23-L2               A4        0          F         B   S   \n",
       "3    CW_17-08-23-L2               A4        1          F         B   S   \n",
       "4    CW_17-08-23-L2               A4        2          F         B   S   \n",
       "..              ...              ...      ...        ...       ...  ..   \n",
       "184  CW_17-12-11-L3               A4        3          Q         F   S   \n",
       "185  CW_17-12-11-L3               A4        4          Q         F   S   \n",
       "186  CW_17-12-11-L3               A4        5          Q         F   S   \n",
       "187  CW_17-12-11-L3               A4        6          Q         F   S   \n",
       "188  CW_17-12-11-L3               A4        7          Q         F   S   \n",
       "\n",
       "                                                   dff  \n",
       "0    [0.51608485, 0.48427287, 0.39645705, 0.3752432...  \n",
       "1    [0.53802836, 0.50630283, 0.41602746, 0.3865444...  \n",
       "2    [0.5735277, 0.53321326, 0.40003648, 0.38193583...  \n",
       "3    [0.5210747, 0.47617674, 0.35408345, 0.32054883...  \n",
       "4    [0.56831515, 0.52191776, 0.37642595, 0.3361944...  \n",
       "..                                                 ...  \n",
       "184  [1.9190801, 1.8327557, 1.0687201, 0.8503302, 1...  \n",
       "185  [1.9736592, 1.841115, 1.0997047, 0.8724971, 1....  \n",
       "186  [1.9726671, 1.8393914, 1.1119825, 0.86963326, ...  \n",
       "187  [1.9955611, 1.8517638, 1.1175747, 0.8699227, 1...  \n",
       "188  [2.015733, 1.8704983, 1.1355824, 0.8865121, 1....  \n",
       "\n",
       "[189 rows x 7 columns]"
      ]
     },
     "execution_count": 15,
     "metadata": {},
     "output_type": "execute_result"
    }
   ],
   "source": [
    "subject_event_data"
   ]
  },
  {
   "cell_type": "code",
   "execution_count": 16,
   "metadata": {},
   "outputs": [
    {
     "data": {
      "text/html": [
       "<div>\n",
       "<style scoped>\n",
       "    .dataframe tbody tr th:only-of-type {\n",
       "        vertical-align: middle;\n",
       "    }\n",
       "\n",
       "    .dataframe tbody tr th {\n",
       "        vertical-align: top;\n",
       "    }\n",
       "\n",
       "    .dataframe thead th {\n",
       "        text-align: right;\n",
       "    }\n",
       "</style>\n",
       "<table border=\"1\" class=\"dataframe\">\n",
       "  <thead>\n",
       "    <tr style=\"text-align: right;\">\n",
       "      <th></th>\n",
       "      <th>subject_id</th>\n",
       "      <th>event_id</th>\n",
       "      <th>manipulation_tgt</th>\n",
       "      <th>start</th>\n",
       "      <th>end</th>\n",
       "      <th>beh</th>\n",
       "      <th>beh_before</th>\n",
       "      <th>beh_before_start</th>\n",
       "      <th>beh_before_end</th>\n",
       "      <th>beh_after</th>\n",
       "      <th>beh_after_start</th>\n",
       "      <th>beh_after_end</th>\n",
       "    </tr>\n",
       "  </thead>\n",
       "  <tbody>\n",
       "    <tr>\n",
       "      <th>0</th>\n",
       "      <td>CW_17-08-23-L1</td>\n",
       "      <td>0</td>\n",
       "      <td>A4</td>\n",
       "      <td>216</td>\n",
       "      <td>220</td>\n",
       "      <td>S</td>\n",
       "      <td>F</td>\n",
       "      <td>192</td>\n",
       "      <td>215</td>\n",
       "      <td>P</td>\n",
       "      <td>228</td>\n",
       "      <td>236</td>\n",
       "    </tr>\n",
       "    <tr>\n",
       "      <th>1</th>\n",
       "      <td>CW_17-08-23-L1</td>\n",
       "      <td>1</td>\n",
       "      <td>A4</td>\n",
       "      <td>1795</td>\n",
       "      <td>1799</td>\n",
       "      <td>S</td>\n",
       "      <td>F</td>\n",
       "      <td>1777</td>\n",
       "      <td>1793</td>\n",
       "      <td>P</td>\n",
       "      <td>1805</td>\n",
       "      <td>1819</td>\n",
       "    </tr>\n",
       "    <tr>\n",
       "      <th>2</th>\n",
       "      <td>CW_17-08-23-L2</td>\n",
       "      <td>0</td>\n",
       "      <td>A4</td>\n",
       "      <td>114</td>\n",
       "      <td>119</td>\n",
       "      <td>S</td>\n",
       "      <td>F</td>\n",
       "      <td>110</td>\n",
       "      <td>113</td>\n",
       "      <td>B</td>\n",
       "      <td>120</td>\n",
       "      <td>128</td>\n",
       "    </tr>\n",
       "    <tr>\n",
       "      <th>3</th>\n",
       "      <td>CW_17-08-23-L2</td>\n",
       "      <td>1</td>\n",
       "      <td>A4</td>\n",
       "      <td>2471</td>\n",
       "      <td>2476</td>\n",
       "      <td>S</td>\n",
       "      <td>F</td>\n",
       "      <td>2452</td>\n",
       "      <td>2467</td>\n",
       "      <td>B</td>\n",
       "      <td>2477</td>\n",
       "      <td>2485</td>\n",
       "    </tr>\n",
       "    <tr>\n",
       "      <th>4</th>\n",
       "      <td>CW_17-08-23-L2</td>\n",
       "      <td>2</td>\n",
       "      <td>A4</td>\n",
       "      <td>4644</td>\n",
       "      <td>4649</td>\n",
       "      <td>S</td>\n",
       "      <td>F</td>\n",
       "      <td>4634</td>\n",
       "      <td>4639</td>\n",
       "      <td>B</td>\n",
       "      <td>4649</td>\n",
       "      <td>4657</td>\n",
       "    </tr>\n",
       "    <tr>\n",
       "      <th>...</th>\n",
       "      <td>...</td>\n",
       "      <td>...</td>\n",
       "      <td>...</td>\n",
       "      <td>...</td>\n",
       "      <td>...</td>\n",
       "      <td>...</td>\n",
       "      <td>...</td>\n",
       "      <td>...</td>\n",
       "      <td>...</td>\n",
       "      <td>...</td>\n",
       "      <td>...</td>\n",
       "      <td>...</td>\n",
       "    </tr>\n",
       "    <tr>\n",
       "      <th>259</th>\n",
       "      <td>CW_17-11-08-L3</td>\n",
       "      <td>1</td>\n",
       "      <td>A9</td>\n",
       "      <td>1797</td>\n",
       "      <td>1802</td>\n",
       "      <td>S</td>\n",
       "      <td>Q</td>\n",
       "      <td>1709</td>\n",
       "      <td>1711</td>\n",
       "      <td>F</td>\n",
       "      <td>1803</td>\n",
       "      <td>1808</td>\n",
       "    </tr>\n",
       "    <tr>\n",
       "      <th>260</th>\n",
       "      <td>CW_17-11-08-L3</td>\n",
       "      <td>2</td>\n",
       "      <td>A9</td>\n",
       "      <td>2695</td>\n",
       "      <td>2700</td>\n",
       "      <td>S</td>\n",
       "      <td>Q</td>\n",
       "      <td>2621</td>\n",
       "      <td>2623</td>\n",
       "      <td>F</td>\n",
       "      <td>2701</td>\n",
       "      <td>2707</td>\n",
       "    </tr>\n",
       "    <tr>\n",
       "      <th>261</th>\n",
       "      <td>CW_17-11-08-L3</td>\n",
       "      <td>3</td>\n",
       "      <td>A9</td>\n",
       "      <td>3482</td>\n",
       "      <td>3487</td>\n",
       "      <td>S</td>\n",
       "      <td>Q</td>\n",
       "      <td>3290</td>\n",
       "      <td>3292</td>\n",
       "      <td>F</td>\n",
       "      <td>3488</td>\n",
       "      <td>3494</td>\n",
       "    </tr>\n",
       "    <tr>\n",
       "      <th>262</th>\n",
       "      <td>CW_17-11-08-L3</td>\n",
       "      <td>4</td>\n",
       "      <td>A9</td>\n",
       "      <td>4181</td>\n",
       "      <td>4186</td>\n",
       "      <td>S</td>\n",
       "      <td>Q</td>\n",
       "      <td>4012</td>\n",
       "      <td>4014</td>\n",
       "      <td>F</td>\n",
       "      <td>4187</td>\n",
       "      <td>4195</td>\n",
       "    </tr>\n",
       "    <tr>\n",
       "      <th>264</th>\n",
       "      <td>CW_17-11-08-L3</td>\n",
       "      <td>6</td>\n",
       "      <td>A9</td>\n",
       "      <td>5953</td>\n",
       "      <td>5958</td>\n",
       "      <td>S</td>\n",
       "      <td>Q</td>\n",
       "      <td>5679</td>\n",
       "      <td>5681</td>\n",
       "      <td>F</td>\n",
       "      <td>5959</td>\n",
       "      <td>5968</td>\n",
       "    </tr>\n",
       "  </tbody>\n",
       "</table>\n",
       "<p>228 rows × 12 columns</p>\n",
       "</div>"
      ],
      "text/plain": [
       "         subject_id  event_id manipulation_tgt  start   end beh beh_before  \\\n",
       "0    CW_17-08-23-L1         0               A4    216   220   S          F   \n",
       "1    CW_17-08-23-L1         1               A4   1795  1799   S          F   \n",
       "2    CW_17-08-23-L2         0               A4    114   119   S          F   \n",
       "3    CW_17-08-23-L2         1               A4   2471  2476   S          F   \n",
       "4    CW_17-08-23-L2         2               A4   4644  4649   S          F   \n",
       "..              ...       ...              ...    ...   ...  ..        ...   \n",
       "259  CW_17-11-08-L3         1               A9   1797  1802   S          Q   \n",
       "260  CW_17-11-08-L3         2               A9   2695  2700   S          Q   \n",
       "261  CW_17-11-08-L3         3               A9   3482  3487   S          Q   \n",
       "262  CW_17-11-08-L3         4               A9   4181  4186   S          Q   \n",
       "264  CW_17-11-08-L3         6               A9   5953  5958   S          Q   \n",
       "\n",
       "     beh_before_start  beh_before_end beh_after  beh_after_start  \\\n",
       "0                 192             215         P              228   \n",
       "1                1777            1793         P             1805   \n",
       "2                 110             113         B              120   \n",
       "3                2452            2467         B             2477   \n",
       "4                4634            4639         B             4649   \n",
       "..                ...             ...       ...              ...   \n",
       "259              1709            1711         F             1803   \n",
       "260              2621            2623         F             2701   \n",
       "261              3290            3292         F             3488   \n",
       "262              4012            4014         F             4187   \n",
       "264              5679            5681         F             5959   \n",
       "\n",
       "     beh_after_end  \n",
       "0              236  \n",
       "1             1819  \n",
       "2              128  \n",
       "3             2485  \n",
       "4             4657  \n",
       "..             ...  \n",
       "259           1808  \n",
       "260           2707  \n",
       "261           3494  \n",
       "262           4195  \n",
       "264           5968  \n",
       "\n",
       "[228 rows x 12 columns]"
      ]
     },
     "execution_count": 16,
     "metadata": {},
     "output_type": "execute_result"
    }
   ],
   "source": [
    "subj_events"
   ]
  },
  {
   "cell_type": "code",
   "execution_count": null,
   "metadata": {},
   "outputs": [],
   "source": [
    "   \n"
   ]
  }
 ],
 "metadata": {
  "kernelspec": {
   "display_name": "Python 3 (ipykernel)",
   "language": "python",
   "name": "python3"
  },
  "language_info": {
   "codemirror_mode": {
    "name": "ipython",
    "version": 3
   },
   "file_extension": ".py",
   "mimetype": "text/x-python",
   "name": "python",
   "nbconvert_exporter": "python",
   "pygments_lexer": "ipython3",
   "version": "3.11.8"
  }
 },
 "nbformat": 4,
 "nbformat_minor": 4
}
