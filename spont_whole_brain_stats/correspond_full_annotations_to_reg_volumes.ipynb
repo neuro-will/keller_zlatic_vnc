{
 "cells": [
  {
   "cell_type": "markdown",
   "metadata": {},
   "source": [
    "A notebook to see which subjects for which we have registered volumes we also have full annotations for. \n",
    "\n",
    "There may also be some full annotations for which we do not have registered volumes for, but we do not care about this as much, since we have no imaging data to analyze for these subjects."
   ]
  },
  {
   "cell_type": "code",
   "execution_count": 1,
   "metadata": {},
   "outputs": [],
   "source": [
    "%load_ext autoreload\n",
    "%autoreload 2"
   ]
  },
  {
   "cell_type": "code",
   "execution_count": 2,
   "metadata": {},
   "outputs": [],
   "source": [
    "import glob\n",
    "from pathlib import Path\n",
    "\n",
    "import numpy as np\n",
    "import pandas as pd\n",
    "\n",
    "from keller_zlatic_vnc.data_processing import generate_standard_id_for_full_annots\n",
    "from keller_zlatic_vnc.data_processing import generate_standard_id_for_volume\n",
    "from keller_zlatic_vnc.data_processing import match_standard_subject_ids\n"
   ]
  },
  {
   "cell_type": "markdown",
   "metadata": {},
   "source": [
    "## Parameters go here"
   ]
  },
  {
   "cell_type": "code",
   "execution_count": 3,
   "metadata": {},
   "outputs": [],
   "source": [
    "# Folders containing a4 and a9 annotation data\n",
    "a4_annot_folder = r'A:\\projects\\keller_vnc\\data\\full_annotations\\behavior_csv_cl_A4'\n",
    "a9_annot_folder = r'A:\\projects\\keller_vnc\\data\\full_annotations\\behavior_csv_cl_A9'\n",
    "spont_only_annot_folder = r'A:\\projects\\keller_vnc\\data\\full_annotations\\spontaneous_only_annotations'\n",
    "\n",
    "# File containing locations to registered volumes\n",
    "volume_loc_file = r'A:\\projects\\keller_vnc\\data\\experiment_data_locations.xlsx'"
   ]
  },
  {
   "cell_type": "markdown",
   "metadata": {},
   "source": [
    "## Get list of all annotation files"
   ]
  },
  {
   "cell_type": "code",
   "execution_count": 4,
   "metadata": {},
   "outputs": [],
   "source": [
    "annot_file_paths = (glob.glob(str(Path(a4_annot_folder) / '*.csv')) + glob.glob(str(Path(a9_annot_folder) / '*.csv')) +\n",
    "                    glob.glob(str(Path(spont_only_annot_folder) / '*.csv')))\n",
    "annot_file_names = [Path(p).name for p in annot_file_paths]"
   ]
  },
  {
   "cell_type": "code",
   "execution_count": 5,
   "metadata": {},
   "outputs": [
    {
     "data": {
      "text/plain": [
       "73"
      ]
     },
     "execution_count": 5,
     "metadata": {},
     "output_type": "execute_result"
    }
   ],
   "source": [
    "len(set(annot_file_names))"
   ]
  },
  {
   "cell_type": "code",
   "execution_count": null,
   "metadata": {},
   "outputs": [],
   "source": []
  },
  {
   "cell_type": "markdown",
   "metadata": {},
   "source": [
    "## Read in locations of all registered volumes"
   ]
  },
  {
   "cell_type": "code",
   "execution_count": 6,
   "metadata": {},
   "outputs": [],
   "source": [
    "def c_fcn(str):\n",
    "    return str.replace(\"'\", \"\")\n",
    "converters = {0:c_fcn, 1:c_fcn}\n",
    "\n",
    "volume_locs = pd.read_excel(volume_loc_file, header=1, usecols=[1, 2], converters=converters)"
   ]
  },
  {
   "cell_type": "markdown",
   "metadata": {},
   "source": [
    "## See what volumes we also have full annotations for"
   ]
  },
  {
   "cell_type": "code",
   "execution_count": 7,
   "metadata": {},
   "outputs": [],
   "source": [
    "volume_subjs = [generate_standard_id_for_volume(volume_locs.loc[i,'Main folder'], \n",
    "                                                       volume_locs.loc[i,'Subfolder'])  for i in volume_locs.index]"
   ]
  },
  {
   "cell_type": "code",
   "execution_count": 8,
   "metadata": {},
   "outputs": [],
   "source": [
    "annot_subjs = [generate_standard_id_for_full_annots(fn) for fn in annot_file_names]"
   ]
  },
  {
   "cell_type": "code",
   "execution_count": 9,
   "metadata": {},
   "outputs": [],
   "source": [
    "matched_volume_s_ids = [s_id for s_id in volume_subjs if match_standard_subject_ids(s_id, annot_subjs) is not None]"
   ]
  },
  {
   "cell_type": "markdown",
   "metadata": {},
   "source": [
    "## Now do some basic checks on the matches"
   ]
  },
  {
   "cell_type": "code",
   "execution_count": 10,
   "metadata": {},
   "outputs": [],
   "source": [
    "# Verify we have a unique set of matches\n",
    "if len(set(matched_volume_s_ids)) != len(matched_volume_s_ids):\n",
    "    print('Non-unique matches found')"
   ]
  },
  {
   "cell_type": "markdown",
   "metadata": {},
   "source": [
    "## Now see which volumes have matches and non-matched"
   ]
  },
  {
   "cell_type": "code",
   "execution_count": 11,
   "metadata": {},
   "outputs": [
    {
     "name": "stdout",
     "output_type": "stream",
     "text": [
      "Matched Volumes:\n",
      "CW_17-08-23-L1\n",
      "CW_17-08-23-L2\n",
      "CW_17-08-23-L4\n",
      "CW_17-08-24-L4\n",
      "CW_17-08-24-L5\n",
      "CW_17-08-26-L1\n",
      "CW_17-08-26-L2\n",
      "CW_17-08-26-L4\n",
      "CW_17-08-26-L5\n",
      "CW_17-08-26-L6\n",
      "CW_17-08-27-L1\n",
      "CW_17-08-27-L2\n",
      "CW_17-08-27-L4\n",
      "CW_17-08-27-L5\n",
      "CW_17-08-28-L1\n",
      "CW_17-08-28-L2\n",
      "CW_17-08-29-L2\n",
      "CW_17-08-31-L1\n",
      "CW_17-09-01-L1\n",
      "CW_17-09-01-L2\n",
      "CW_17-09-01-L3\n",
      "CW_17-11-02-L3\n",
      "CW_17-11-03-L1\n",
      "CW_17-11-03-L2\n",
      "CW_17-11-03-L3\n",
      "CW_17-11-03-L5\n",
      "CW_17-11-03-L7\n",
      "CW_17-11-04-L1\n",
      "CW_17-11-04-L2\n",
      "CW_17-11-04-L3\n",
      "CW_17-11-04-L4\n",
      "CW_17-11-05-L6\n",
      "CW_17-11-05-L7\n",
      "CW_17-11-06-L1\n",
      "CW_17-11-06-L2\n",
      "CW_17-11-06-L3\n",
      "CW_17-11-07-L3\n",
      "CW_17-11-07-L4\n",
      "CW_17-11-07-L5\n",
      "CW_17-11-08-L1\n",
      "CW_17-11-08-L2\n",
      "CW_17-11-08-L3\n",
      "CW_17-11-26-L1\n",
      "CW_17-11-26-L2\n",
      "CW_17-11-26-L3\n",
      "CW_17-11-26-L4\n",
      "CW_17-11-26-L5\n",
      "CW_17-11-27-L1\n",
      "CW_17-11-27-L2\n",
      "CW_17-11-27-L3\n",
      "CW_17-11-27-L4\n",
      "CW_17-11-27-L5\n",
      "CW_17-11-28-L2\n",
      "CW_17-11-28-L4\n",
      "CW_17-11-28-L6\n",
      "CW_17-11-29-L1\n",
      "CW_17-11-29-L2\n",
      "CW_17-11-29-L3\n",
      "CW_17-11-29-L4\n",
      "CW_17-11-29-L5\n",
      "CW_17-11-29-L6\n",
      "CW_17-11-30-L2\n",
      "CW_17-12-11-L3\n"
     ]
    }
   ],
   "source": [
    "print('Matched Volumes:')\n",
    "for s_id in matched_volume_s_ids:\n",
    "    print(s_id)"
   ]
  },
  {
   "cell_type": "code",
   "execution_count": 12,
   "metadata": {},
   "outputs": [
    {
     "name": "stdout",
     "output_type": "stream",
     "text": [
      "Non-matched volume subjects\n",
      "CW_17-11-03-L6\n",
      "CW_17-11-07-L2\n"
     ]
    }
   ],
   "source": [
    "non_matched_s_ids = np.sort(list(set(volume_subjs) - set(matched_volume_s_ids)))\n",
    "print('Non-matched volume subjects')\n",
    "for s_id in non_matched_s_ids:\n",
    "    print(s_id)"
   ]
  },
  {
   "cell_type": "code",
   "execution_count": 13,
   "metadata": {},
   "outputs": [
    {
     "name": "stdout",
     "output_type": "stream",
     "text": [
      "Non-matched annotation subjects\n",
      "CW_17-08-24-L1\n",
      "CW_17-08-24-L2-1\n",
      "CW_17-08-24-L2-2\n",
      "CW_17-08-27-L3\n",
      "CW_17-08-28-L3\n",
      "CW_17-11-03-L6-1\n",
      "CW_17-11-03-L6-2\n",
      "CW_17-11-28-L3\n",
      "CW_17-11-30-L3\n",
      "CW_17-12-11-L2\n"
     ]
    }
   ],
   "source": [
    "non_matched_annot_s_ids = np.sort(list(set(annot_subjs) - set(matched_volume_s_ids)))\n",
    "print('Non-matched annotation subjects')\n",
    "for s_id in non_matched_annot_s_ids:\n",
    "    print(s_id)"
   ]
  },
  {
   "cell_type": "code",
   "execution_count": null,
   "metadata": {},
   "outputs": [],
   "source": []
  }
 ],
 "metadata": {
  "kernelspec": {
   "display_name": "Python 3",
   "language": "python",
   "name": "python3"
  },
  "language_info": {
   "codemirror_mode": {
    "name": "ipython",
    "version": 3
   },
   "file_extension": ".py",
   "mimetype": "text/x-python",
   "name": "python",
   "nbconvert_exporter": "python",
   "pygments_lexer": "ipython3",
   "version": "3.7.3"
  }
 },
 "nbformat": 4,
 "nbformat_minor": 4
}
