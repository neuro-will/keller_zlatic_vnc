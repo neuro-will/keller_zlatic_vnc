{
 "cells": [
  {
   "cell_type": "markdown",
   "id": "d55b51a3",
   "metadata": {},
   "source": [
    "Given a pickle file with parameters saved by the function fit_init_models, this will load those parameters and rerun the analysis for those exact parameters.  It will then save a list of all events that went into the analysis as well as a collection of files with calculated dff for the full volume at each time point."
   ]
  },
  {
   "cell_type": "markdown",
   "id": "65c245af",
   "metadata": {},
   "source": [
    "# Imports"
   ]
  },
  {
   "cell_type": "code",
   "execution_count": 1,
   "id": "2c89e9a6",
   "metadata": {},
   "outputs": [],
   "source": [
    "import pathlib\n",
    "import pickle\n",
    "\n",
    "import imageio\n",
    "import numpy as np\n",
    "import os\n",
    "\n",
    "from janelia_core.dataprocessing.dataset import ROIDataset\n",
    "from keller_zlatic_vnc.whole_brain.spontaneous import fit_init_models"
   ]
  },
  {
   "cell_type": "markdown",
   "id": "2c444494",
   "metadata": {},
   "source": [
    "## Parameters go here"
   ]
  },
  {
   "cell_type": "code",
   "execution_count": 2,
   "id": "f870a96d",
   "metadata": {},
   "outputs": [],
   "source": [
    "# Provide the parameters that uniquely identifying the analysis we want to rerun\n",
    "\n",
    "# Directory of the collection of results\n",
    "results_dir = r'C:\\Users\\SiMView\\Desktop'\n",
    "\n",
    "# Folder with the saved parameters for the analysis we want to run again.\n",
    "parameters_folder = r'parameters_map_type_orig_fit_window_length_1_window_offset_-1_pool_succeeding_turns_False_pool_preceeding_turns_False_co_th_3_q_end_offset_1'\n",
    "\n",
    "# Update data read and write locations\n",
    "annot_folders = [r'U:\\bishoplab\\projects\\keller_drive\\keller_vnc\\data\\full_annotations\\em_volume_behavior_csv']\n",
    "volume_loc_file = r'U:\\bishoplab\\projects\\keller_drive\\keller_vnc\\data\\EM_volume_experiment_data_locations.xlsx'\n",
    "save_folder = r'U:\\bishoplab\\projects\\keller_drive\\data_transfer\\CW_18-02-15_events_and_dff'\n",
    "\n",
    "# Location of the original dataset holding the processed data\n",
    "orig_dataset = r'W:\\SV4\\CW_18-02-15\\L1-561nm-openLoop_20180215_163233.corrected\\extracted\\dataset.pkl'\n",
    "\n",
    "# Name of ROI group in the original dataset that was analyzed\n",
    "roi_group = 'brain_rois_1_5_5'\n",
    "\n",
    "# Subject we want to save dff for\n",
    "dff_subject = 'CW_18-02-15-L1'"
   ]
  },
  {
   "cell_type": "markdown",
   "id": "1906c4ee",
   "metadata": {},
   "source": [
    "## Now we find the parameters for that analsysis"
   ]
  },
  {
   "cell_type": "code",
   "execution_count": 3,
   "id": "683a6471",
   "metadata": {},
   "outputs": [],
   "source": [
    "with open(pathlib.Path(results_dir) / parameters_folder / 'mdl_fitting_params.pkl', 'rb') as f:\n",
    "    params = pickle.load(f)\n",
    "    \n",
    "# Overwrite the parameters for data read and write locations\n",
    "params['annot_folders'] = annot_folders\n",
    "params['volume_loc_file'] = volume_loc_file\n",
    "params['save_folder'] = save_folder\n",
    "params['save_name'] = 'verification.pkl'"
   ]
  },
  {
   "cell_type": "markdown",
   "id": "bd542036",
   "metadata": {},
   "source": [
    "## Now we rerun the analysis"
   ]
  },
  {
   "cell_type": "code",
   "execution_count": 4,
   "id": "f1d7c51b",
   "metadata": {},
   "outputs": [
    {
     "name": "stdout",
     "output_type": "stream",
     "text": [
      "Gathering neural data for subject CW_18-02-15-L1\n",
      "Performing stats for only one subject.\n"
     ]
    }
   ],
   "source": [
    "rs, analyze_annots, dff = fit_init_models(params, return_dff=True)"
   ]
  },
  {
   "cell_type": "markdown",
   "id": "0d73aef5",
   "metadata": {},
   "source": [
    "## Save annotation output"
   ]
  },
  {
   "cell_type": "code",
   "execution_count": 5,
   "id": "6302a4d0",
   "metadata": {},
   "outputs": [],
   "source": [
    "# Save csv file of annotation information (stripping dff values)\n",
    "\n",
    "annotation_files = pathlib.Path(save_folder) / 'included_event_annotations.csv'\n",
    "\n",
    "save_annots = analyze_annots.drop(columns='dff')\n",
    "with open(annotation_files, 'wb') as f:\n",
    "    save_annots.to_csv(f)"
   ]
  },
  {
   "cell_type": "markdown",
   "id": "b895dbfc",
   "metadata": {},
   "source": [
    "## Save tiff files of dff"
   ]
  },
  {
   "cell_type": "code",
   "execution_count": 6,
   "id": "d438f648",
   "metadata": {},
   "outputs": [],
   "source": [
    "with open(orig_dataset, 'rb') as f:\n",
    "    dataset = ROIDataset.from_dict(pickle.load(f))"
   ]
  },
  {
   "cell_type": "markdown",
   "id": "41d02d7c",
   "metadata": {},
   "source": [
    "## Save collection of dff volumes"
   ]
  },
  {
   "cell_type": "code",
   "execution_count": 7,
   "id": "73547447",
   "metadata": {},
   "outputs": [],
   "source": [
    "dff_folder = pathlib.Path(save_folder) / 'dff'\n",
    "os.mkdir(dff_folder)"
   ]
  },
  {
   "cell_type": "code",
   "execution_count": 8,
   "id": "1d330729",
   "metadata": {
    "scrolled": true
   },
   "outputs": [
    {
     "ename": "IndexError",
     "evalue": "index 10367 is out of bounds for axis 0 with size 10367",
     "output_type": "error",
     "traceback": [
      "\u001b[1;31m---------------------------------------------------------------------------\u001b[0m",
      "\u001b[1;31mIndexError\u001b[0m                                Traceback (most recent call last)",
      "\u001b[1;32m<ipython-input-8-4b2fbcf1de1c>\u001b[0m in \u001b[0;36m<module>\u001b[1;34m\u001b[0m\n\u001b[0;32m     10\u001b[0m     \u001b[1;32mfor\u001b[0m \u001b[0mr_i\u001b[0m \u001b[1;32min\u001b[0m \u001b[0mrange\u001b[0m\u001b[1;33m(\u001b[0m\u001b[0mn_rois\u001b[0m\u001b[1;33m)\u001b[0m\u001b[1;33m:\u001b[0m\u001b[1;33m\u001b[0m\u001b[1;33m\u001b[0m\u001b[0m\n\u001b[0;32m     11\u001b[0m         \u001b[0mcur_voxel_inds\u001b[0m \u001b[1;33m=\u001b[0m \u001b[0mrois\u001b[0m\u001b[1;33m[\u001b[0m\u001b[0mr_i\u001b[0m\u001b[1;33m]\u001b[0m\u001b[1;33m.\u001b[0m\u001b[0mvoxel_inds\u001b[0m\u001b[1;33m\u001b[0m\u001b[1;33m\u001b[0m\u001b[0m\n\u001b[1;32m---> 12\u001b[1;33m         \u001b[0mdff_image\u001b[0m\u001b[1;33m[\u001b[0m\u001b[0mcur_voxel_inds\u001b[0m\u001b[1;33m]\u001b[0m \u001b[1;33m=\u001b[0m \u001b[0msubject_dff\u001b[0m\u001b[1;33m[\u001b[0m\u001b[0mt\u001b[0m\u001b[1;33m,\u001b[0m \u001b[0mr_i\u001b[0m\u001b[1;33m]\u001b[0m\u001b[1;33m\u001b[0m\u001b[1;33m\u001b[0m\u001b[0m\n\u001b[0m\u001b[0;32m     13\u001b[0m \u001b[1;33m\u001b[0m\u001b[0m\n\u001b[0;32m     14\u001b[0m     \u001b[0mdff_image_file\u001b[0m \u001b[1;33m=\u001b[0m \u001b[0mdff_folder\u001b[0m \u001b[1;33m/\u001b[0m \u001b[1;34m't_{:d}.tiff'\u001b[0m\u001b[1;33m.\u001b[0m\u001b[0mformat\u001b[0m\u001b[1;33m(\u001b[0m\u001b[0mt\u001b[0m\u001b[1;33m)\u001b[0m\u001b[1;33m\u001b[0m\u001b[1;33m\u001b[0m\u001b[0m\n",
      "\u001b[1;31mIndexError\u001b[0m: index 10367 is out of bounds for axis 0 with size 10367"
     ]
    }
   ],
   "source": [
    "rois = dataset.roi_groups[roi_group]['rois']\n",
    "n_rois = len(rois)\n",
    "\n",
    "mn_img = dataset.stats['mean']\n",
    "im_shape = mn_img.shape\n",
    "subject_dff = dff[dff_subject]\n",
    "n_time_pts = subject_dff.shape[0]\n",
    "for t in range(n_rois):\n",
    "    dff_image = np.zeros(im_shape, dtype=np.float32)\n",
    "    for r_i in range(n_rois):\n",
    "        cur_voxel_inds = rois[r_i].voxel_inds\n",
    "        dff_image[cur_voxel_inds] = subject_dff[t, r_i]\n",
    "        \n",
    "    dff_image_file = dff_folder / 't_{:d}.tiff'.format(t)\n",
    "    imageio.mimwrite(dff_image_file, dff_image)\n",
    "    "
   ]
  },
  {
   "cell_type": "code",
   "execution_count": null,
   "id": "30d67ca1",
   "metadata": {},
   "outputs": [],
   "source": []
  }
 ],
 "metadata": {
  "kernelspec": {
   "display_name": "Python 3",
   "language": "python",
   "name": "python3"
  },
  "language_info": {
   "codemirror_mode": {
    "name": "ipython",
    "version": 3
   },
   "file_extension": ".py",
   "mimetype": "text/x-python",
   "name": "python",
   "nbconvert_exporter": "python",
   "pygments_lexer": "ipython3",
   "version": "3.7.3"
  }
 },
 "nbformat": 4,
 "nbformat_minor": 5
}
