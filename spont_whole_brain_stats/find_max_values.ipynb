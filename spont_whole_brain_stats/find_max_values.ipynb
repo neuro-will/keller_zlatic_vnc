{
 "cells": [
  {
   "cell_type": "markdown",
   "metadata": {},
   "source": [
    "Given a set of basic statistical results, which give coefficients for individual transitions, we search for coefficients which have the larget coefficient for transitions from each behavior.  That is we don't look for the largest single coefficient, but we first group coefficients by the behavior they transition from and then search for the largest coefficient in each of these groups. \n",
    "\n",
    "This will save results in a format that is conducive for working with existing plotting code. "
   ]
  },
  {
   "cell_type": "code",
   "execution_count": 1,
   "metadata": {},
   "outputs": [],
   "source": [
    "%load_ext autoreload\n",
    "%autoreload 2"
   ]
  },
  {
   "cell_type": "code",
   "execution_count": 2,
   "metadata": {},
   "outputs": [],
   "source": [
    "from pathlib import Path\n",
    "import pickle\n",
    "import re\n",
    "\n",
    "import numpy as np\n",
    "\n",
    "from keller_zlatic_vnc.whole_brain.whole_brain_stat_functions import test_for_largest_amplitude_beta"
   ]
  },
  {
   "cell_type": "markdown",
   "metadata": {},
   "source": [
    "## Parameters go here"
   ]
  },
  {
   "cell_type": "code",
   "execution_count": 3,
   "metadata": {},
   "outputs": [],
   "source": [
    "ps = dict()\n",
    "ps['save_folder'] = r'\\\\dm11\\bishoplab\\projects\\keller_vnc\\results\\whole_brain_spont_stats'\n",
    "ps['basic_rs_file'] = 'spont_4_20_20_long_bl_co_21.pkl'"
   ]
  },
  {
   "cell_type": "markdown",
   "metadata": {},
   "source": [
    "## Load the basic results"
   ]
  },
  {
   "cell_type": "code",
   "execution_count": 4,
   "metadata": {},
   "outputs": [],
   "source": [
    "with open(Path(ps['save_folder']) / ps['basic_rs_file'], 'rb') as f:\n",
    "    basic_rs = pickle.load(f)"
   ]
  },
  {
   "cell_type": "code",
   "execution_count": 5,
   "metadata": {},
   "outputs": [],
   "source": [
    "beh_trans = basic_rs['beh_trans']"
   ]
  },
  {
   "cell_type": "markdown",
   "metadata": {},
   "source": [
    "## Search for max values"
   ]
  },
  {
   "cell_type": "code",
   "execution_count": 6,
   "metadata": {},
   "outputs": [],
   "source": [
    "def find_max_vls(stats, beh_trans):\n",
    "    \"\"\" This is a helper function which searches for the largest coefficient in each group, testing statistical significance.\n",
    "    \n",
    "    For a given group, we find the largest estimated coefficient.  We define the p-value for any coefficient that is not\n",
    "    the largest to be 1 (to denote we have no evidence it is largest).  For the largest coefficient, we set its p-value\n",
    "    to be equal to the largest p-value of all pair-wise tests we apply to see if there are significant differences between\n",
    "    coefficients (see test_for_largest_amplitude_beta for more information).  \n",
    "    \n",
    "    Further, if there is only one transition in a group (e.g., for a given start behavior, we only have transitions into\n",
    "    a single end behavior, we also set the p-value of these coefficients to 1.)\n",
    "    \n",
    "    We return all p-values in a single vector, for ease of integration with plotting code, but it should be remembered\n",
    "    that coefficinets were compared within groups. \n",
    "    \n",
    "    \"\"\"\n",
    "    \n",
    "    n_coefs = len(beh_trans)\n",
    "    p_vls = np.zeros(n_coefs)\n",
    "    \n",
    "    unique_grp_behs = set([t[0] for t in beh_trans])\n",
    "    \n",
    "    # Process results for each group\n",
    "    for grp_b in unique_grp_behs:\n",
    "        keep_cols = np.asarray(np.argwhere([1 if b[0] == grp_b else 0 for b in beh_trans])).squeeze()\n",
    "\n",
    "        p_vls[keep_cols] = 1 # Initially set all p-values to this group to 1, we will set the p-value \n",
    "                             # for the largest coefficient in the code below, but do denote that the \n",
    "                             # coefficients which are not largest are not to be considered, we set their\n",
    "                             # p-values to 1. \n",
    "\n",
    "        if keep_cols.ndim > 0: # Means we have more than one coefficient\n",
    "            grp_beta = stats['beta'][keep_cols]\n",
    "            grp_acm = stats['acm'][np.ix_(keep_cols, keep_cols)]\n",
    "            n_grps = stats['n_grps']\n",
    "            # Note: alpha below is not important for this function, since we record p-values \n",
    "            largest_ind, detect, grp_p_vls = test_for_largest_amplitude_beta(beta=grp_beta, acm=grp_acm, n_grps=n_grps, \n",
    "                                                                         alpha=.05, test_for_largest=True)\n",
    "            p_vls[keep_cols[largest_ind]] = np.nanmax(grp_p_vls)\n",
    "        else:\n",
    "            pass\n",
    "            # We don't need to do anything - because we already set all p_vls for this group to 1\n",
    "    \n",
    "    new_stats = dict()\n",
    "    new_stats['beta'] = stats['beta']\n",
    "    new_stats['non_max_p'] = p_vls\n",
    "    \n",
    "    return new_stats\n",
    "    \n",
    "    "
   ]
  },
  {
   "cell_type": "code",
   "execution_count": 7,
   "metadata": {},
   "outputs": [],
   "source": [
    "all_max_stats = [find_max_vls(s, basic_rs['beh_trans']) for s in basic_rs['full_stats']]"
   ]
  },
  {
   "cell_type": "markdown",
   "metadata": {},
   "source": [
    "## Now save our results"
   ]
  },
  {
   "cell_type": "code",
   "execution_count": 8,
   "metadata": {},
   "outputs": [],
   "source": [
    "rs = {'ps': ps, 'full_stats': all_max_stats, 'beh_trans': basic_rs['beh_trans']}\n",
    "\n",
    "save_folder = ps['save_folder']\n",
    "save_name = ps['basic_rs_file'].split('.')[0] + '_max_stats.pkl'\n",
    "\n",
    "save_path = Path(save_folder) / save_name\n",
    "with open(save_path, 'wb') as f:\n",
    "    pickle.dump(rs, f)"
   ]
  },
  {
   "cell_type": "markdown",
   "metadata": {},
   "source": [
    "## Debug code"
   ]
  },
  {
   "cell_type": "code",
   "execution_count": 10,
   "metadata": {},
   "outputs": [
    {
     "data": {
      "text/plain": [
       "{'beta': array([0.08350296, 0.12266931, 0.12176802, 0.1006147 , 0.07221072,\n",
       "        0.09850796, 0.08834876, 0.09639469, 0.07644295, 0.11504698,\n",
       "        0.09191699, 0.07144067, 0.1008051 , 0.1133689 , 0.09172334,\n",
       "        0.06459704, 0.08376919, 0.08145411, 0.10048368, 0.07738923,\n",
       "        0.07644632, 0.10791501, 0.07793585, 0.06050442, 0.05841707,\n",
       "        0.03375159, 0.04098482, 0.08825726, 0.09024919, 0.06437009,\n",
       "        0.11945482, 0.10000496, 0.10937092, 0.10980646, 0.09684939,\n",
       "        0.09450957, 0.09807218, 0.07735601, 0.09319493, 0.09509638,\n",
       "        0.10469987, 0.08157013]),\n",
       " 'non_max_p': array([1.        , 0.92188128, 1.        , 1.        , 1.        ,\n",
       "        0.84316507, 1.        , 1.        , 1.        , 0.91154208,\n",
       "        1.        , 1.        , 1.        , 1.        , 1.        ,\n",
       "        1.        , 1.        , 1.        , 1.        , 1.        ,\n",
       "        1.        , 0.59152258, 1.        , 1.        , 1.        ,\n",
       "        1.        , 1.        , 1.        , 0.87426505, 1.        ,\n",
       "        0.55619711, 1.        , 1.        , 1.        , 1.        ,\n",
       "        1.        , 1.        , 1.        , 1.        , 1.        ,\n",
       "        0.43866144, 1.        ])}"
      ]
     },
     "execution_count": 10,
     "metadata": {},
     "output_type": "execute_result"
    }
   ],
   "source": [
    "rs['full_stats'][1]"
   ]
  },
  {
   "cell_type": "code",
   "execution_count": null,
   "metadata": {},
   "outputs": [],
   "source": []
  }
 ],
 "metadata": {
  "kernelspec": {
   "display_name": "Python 3",
   "language": "python",
   "name": "python3"
  },
  "language_info": {
   "codemirror_mode": {
    "name": "ipython",
    "version": 3
   },
   "file_extension": ".py",
   "mimetype": "text/x-python",
   "name": "python",
   "nbconvert_exporter": "python",
   "pygments_lexer": "ipython3",
   "version": "3.7.3"
  }
 },
 "nbformat": 4,
 "nbformat_minor": 2
}
