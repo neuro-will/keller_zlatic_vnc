{
 "cells": [
  {
   "cell_type": "markdown",
   "id": "c529ac6a",
   "metadata": {},
   "source": [
    "This is a notebook showing how to load the raw data and calculate the key quantities that were used for producing the statistical results of the single-specimen, whole-brain spontaneous activity analysis. "
   ]
  },
  {
   "cell_type": "code",
   "execution_count": 9,
   "id": "ca0c2b56",
   "metadata": {},
   "outputs": [
    {
     "ename": "ModuleNotFoundError",
     "evalue": "No module named 'janelia_core'",
     "output_type": "error",
     "traceback": [
      "\u001b[1;31m---------------------------------------------------------------------------\u001b[0m",
      "\u001b[1;31mModuleNotFoundError\u001b[0m                       Traceback (most recent call last)",
      "\u001b[1;32m<ipython-input-9-f00b1521eebd>\u001b[0m in \u001b[0;36m<module>\u001b[1;34m\u001b[0m\n\u001b[0;32m      1\u001b[0m \u001b[1;32mfrom\u001b[0m \u001b[0mpathlib\u001b[0m \u001b[1;32mimport\u001b[0m \u001b[0mPath\u001b[0m\u001b[1;33m\u001b[0m\u001b[1;33m\u001b[0m\u001b[0m\n\u001b[0;32m      2\u001b[0m \u001b[1;33m\u001b[0m\u001b[0m\n\u001b[1;32m----> 3\u001b[1;33m \u001b[1;32mfrom\u001b[0m \u001b[0mjanelia_core\u001b[0m\u001b[1;33m.\u001b[0m\u001b[0mdataprocessing\u001b[0m\u001b[1;33m.\u001b[0m\u001b[0mdataset\u001b[0m \u001b[1;32mimport\u001b[0m \u001b[0mROIDataset\u001b[0m\u001b[1;33m\u001b[0m\u001b[1;33m\u001b[0m\u001b[0m\n\u001b[0m",
      "\u001b[1;31mModuleNotFoundError\u001b[0m: No module named 'janelia_core'"
     ]
    }
   ],
   "source": [
    "from pathlib import Path\n",
    "\n",
    "from janelia_core.dataprocessing.dataset import ROIDataset"
   ]
  },
  {
   "cell_type": "markdown",
   "id": "3e63b8ef",
   "metadata": {},
   "source": [
    "## Parameters go here "
   ]
  },
  {
   "cell_type": "code",
   "execution_count": 3,
   "id": "eb21d8e1",
   "metadata": {},
   "outputs": [],
   "source": [
    "ps = dict()\n",
    "\n",
    "# Location of folder holding the extracted dataset - the extracted datasets are produced from the raw imaging data and\n",
    "# contain the quantities needed for calculating DFF in different super-voxels & cell-bodies. \n",
    "ps['extracted_data_folder'] = r'W:\\SV4\\CW_18-02-15\\L1-561nm-openLoop_20180215_163233.corrected\\extracted'\n",
    "\n",
    "# Specify the extracted dataset we want to load. \n",
    "ps['dataset'] = r'rois_1_5_5'"
   ]
  },
  {
   "cell_type": "markdown",
   "id": "8af844aa",
   "metadata": {},
   "source": [
    "## Load the extracted dataset"
   ]
  },
  {
   "cell_type": "code",
   "execution_count": 6,
   "id": "8f3bcd7e",
   "metadata": {},
   "outputs": [],
   "source": [
    "extracted_dataset = Path(ps['extracted_data_folder']) / Path(ps['dataset']) / 'dataset.pkl'\n",
    "\n",
    "with open(extracted_dataset, 'rb') as f:\n",
    "            extracted_dataset = ROIDataset.from_dict(pickle.load(f))"
   ]
  },
  {
   "cell_type": "code",
   "execution_count": 7,
   "id": "0cee0448",
   "metadata": {},
   "outputs": [
    {
     "data": {
      "text/plain": [
       "WindowsPath('W:/SV4/CW_18-02-15/L1-561nm-openLoop_20180215_163233.corrected/extracted/rois_1_5_5/dataset.pkl')"
      ]
     },
     "execution_count": 7,
     "metadata": {},
     "output_type": "execute_result"
    }
   ],
   "source": [
    "extracted_dataset"
   ]
  },
  {
   "cell_type": "code",
   "execution_count": null,
   "id": "79b774f6",
   "metadata": {},
   "outputs": [],
   "source": []
  }
 ],
 "metadata": {
  "kernelspec": {
   "display_name": "Python 3",
   "language": "python",
   "name": "python3"
  },
  "language_info": {
   "codemirror_mode": {
    "name": "ipython",
    "version": 3
   },
   "file_extension": ".py",
   "mimetype": "text/x-python",
   "name": "python",
   "nbconvert_exporter": "python",
   "pygments_lexer": "ipython3",
   "version": "3.7.3"
  }
 },
 "nbformat": 4,
 "nbformat_minor": 5
}
