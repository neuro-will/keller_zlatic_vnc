{
 "cells": [
  {
   "cell_type": "markdown",
   "id": "c529ac6a",
   "metadata": {},
   "source": [
    "This is a notebook showing how to load the raw data and calculate the key quantities that were used for producing the statistical results of the single-specimen, whole-brain spontaneous activity analysis. "
   ]
  },
  {
   "cell_type": "code",
   "execution_count": 1,
   "id": "ca0c2b56",
   "metadata": {},
   "outputs": [],
   "source": [
    "from pathlib import Path\n",
    "import pickle\n",
    "import re\n",
    "\n",
    "from matplotlib import pyplot as plt\n",
    "import numpy as np\n",
    "import pandas as pd\n",
    "\n",
    "import janelia_core\n",
    "from janelia_core.dataprocessing.dataset import ROIDataset\n",
    "from keller_zlatic_vnc.data_processing import apply_cutoff_times\n",
    "from keller_zlatic_vnc.data_processing import calc_dff\n",
    "from keller_zlatic_vnc.data_processing import find_quiet_periods\n",
    "from keller_zlatic_vnc.data_processing import get_basic_clean_annotations_from_full\n",
    "from keller_zlatic_vnc.data_processing import read_full_annotations"
   ]
  },
  {
   "cell_type": "markdown",
   "id": "3e63b8ef",
   "metadata": {},
   "source": [
    "## Parameters go here "
   ]
  },
  {
   "cell_type": "markdown",
   "id": "8f0f26ab",
   "metadata": {},
   "source": [
    "Specify where we find pre-processed data and event annotations"
   ]
  },
  {
   "cell_type": "code",
   "execution_count": 2,
   "id": "eb21d8e1",
   "metadata": {},
   "outputs": [],
   "source": [
    "ps = dict()\n",
    "\n",
    "# Location of folder holding the extracted dataset - the extracted datasets are produced from the raw imaging data and\n",
    "# contain the quantities needed for calculating DFF in different super-voxels & cell-bodies. \n",
    "ps['extracted_data_folder'] = r'W:\\SV4\\CW_18-02-15\\L1-561nm-openLoop_20180215_163233.corrected\\extracted'\n",
    "\n",
    "# File with annotations\n",
    "ps['annotation_file'] = r'Z:\\bishoplab\\projects\\keller_drive\\keller_vnc\\data\\full_annotations\\em_volume_behavior_csv\\18-02-15L1-behavior-ol.csv'\n"
   ]
  },
  {
   "cell_type": "markdown",
   "id": "f9ba6c04",
   "metadata": {},
   "source": [
    "Specify parameters for calculating Delta F/F"
   ]
  },
  {
   "cell_type": "code",
   "execution_count": 3,
   "id": "7e5d23cb",
   "metadata": {},
   "outputs": [],
   "source": [
    "# Background value used for calculating DF/F - a value of 100 was always used \n",
    "ps['background'] = 100\n",
    "\n",
    "# Epsilon value used for calculating DF/F - a value of 20 was always used\n",
    "ps['ep'] = 20\n"
   ]
  },
  {
   "cell_type": "markdown",
   "id": "269ed460",
   "metadata": {},
   "source": [
    "Parameters for how we determine which events to include in the analysis"
   ]
  },
  {
   "cell_type": "code",
   "execution_count": 4,
   "id": "f800d546",
   "metadata": {},
   "outputs": [],
   "source": [
    "# The defintion we use for clean events\n",
    "ps['clean_event_def'] = 'po'  # 'dj' for disjoint or 'po' for partial overlap\n",
    "\n",
    "# Specify the threshold we use (in number of stacks) to determine when a quiet period has occurred\n",
    "ps['q_th'] = 21\n",
    "\n",
    "# Specify the offset (in number of stacks) to determine the marked start of a quiet period relative to the end of\n",
    "# a preceeding behavior; must be >= 1\n",
    "ps['q_start_offset'] = 3\n",
    "\n",
    "# Specify the offset (in number of stacks) to determine the marked end of a quiet period relative to the start of\n",
    "# a succeeding behavior; must be >= 1\n",
    "ps['q_end_offset'] = 3\n",
    "\n",
    "# Specify the cut off threshold we use (in number of stacks) to determine when a real transition has occurred\n",
    "ps['co_th'] = 3\n",
    "\n",
    "# Specify the set of acceptable behaviors transitioned into for events we analyze\n",
    "ps['acc_behs'] = ['Q', 'B', 'F', 'TL', 'TR', 'H']\n",
    "\n",
    "# Specify the acceptable preceding behaviors for events we analyze\n",
    "ps['acc_pre_behs'] = ['Q', 'B', 'F', 'TL', 'TR', 'H']\n",
    "\n",
    "# True if we want to pool preceding left and right turns into one category (only applies if pool_preceeding_behaviors\n",
    "# is false)\n",
    "ps['pool_preceeding_turns'] = True\n",
    "\n",
    "# True if we want to pool succeeding left and right turns into one category\n",
    "ps['pool_succeeding_turns'] = True\n",
    "\n",
    "# True if we should remove self transitions\n",
    "ps['remove_st'] = False\n"
   ]
  },
  {
   "cell_type": "markdown",
   "id": "8af844aa",
   "metadata": {},
   "source": [
    "## Load the extracted dataset"
   ]
  },
  {
   "cell_type": "code",
   "execution_count": 5,
   "id": "8f3bcd7e",
   "metadata": {},
   "outputs": [],
   "source": [
    "extracted_dataset = Path(ps['extracted_data_folder']) / 'dataset.pkl'\n",
    "\n",
    "with open(extracted_dataset, 'rb') as f:\n",
    "            extracted_dataset = ROIDataset.from_dict(pickle.load(f))"
   ]
  },
  {
   "cell_type": "markdown",
   "id": "247db74c",
   "metadata": {},
   "source": [
    "Update the NDArrayHandlers within the dataset object, so they know where to load data matrices from"
   ]
  },
  {
   "cell_type": "code",
   "execution_count": 6,
   "id": "8668d0bd",
   "metadata": {},
   "outputs": [],
   "source": [
    "for ts_label in extracted_dataset.ts_data.keys():\n",
    "    ts_vls = extracted_dataset.ts_data[ts_label]['vls']\n",
    "    if isinstance(ts_vls, janelia_core.fileio.data_handlers.NDArrayHandler):\n",
    "        ts_vls.folder = str(Path(ps['extracted_data_folder']) / Path(ts_vls.folder).name)\n",
    "    "
   ]
  },
  {
   "cell_type": "markdown",
   "id": "9a511ff3",
   "metadata": {},
   "source": [
    "## See all the different sizes and types (e.g. super-voxel vs cell body) of ROIs that are represented in the extracted data"
   ]
  },
  {
   "cell_type": "code",
   "execution_count": 7,
   "id": "0cee0448",
   "metadata": {},
   "outputs": [
    {
     "name": "stdout",
     "output_type": "stream",
     "text": [
      "The following ROI groups are present in the extracted data:\n",
      "************************************************************\n",
      "brain_rois_1_5_5\n",
      "brain_rois_2_10_10\n",
      "brain_rois_4_20_20\n",
      "rois_1_5_5\n",
      "rois_2_10_10\n",
      "rois_4_20_20\n",
      "roi_segments_3_13_13\n",
      "roi_segments_4_17_17\n",
      "roi_segments_cell_bodies_20200610\n"
     ]
    }
   ],
   "source": [
    "print('The following ROI groups are present in the extracted data:')\n",
    "print('************************************************************')\n",
    "for key in extracted_dataset.roi_groups:\n",
    "    print(key)"
   ]
  },
  {
   "cell_type": "markdown",
   "id": "6df9aba7",
   "metadata": {},
   "source": [
    "## Get a list of all ROIs for one of the groups\n",
    "\n",
    "The order that rois are listed in the roi groups corresponds to the ordering of data in the columns of matrices of neural activity (e.g., the matrix we calculate below of $\\Delta F / F$ values)."
   ]
  },
  {
   "cell_type": "code",
   "execution_count": 8,
   "id": "e0037c4c",
   "metadata": {},
   "outputs": [],
   "source": [
    "roi_group = 'brain_rois_1_5_5' # The roi group we want to examine"
   ]
  },
  {
   "cell_type": "code",
   "execution_count": 9,
   "id": "5c4e37b9",
   "metadata": {},
   "outputs": [],
   "source": [
    "rois = extracted_dataset.roi_groups[roi_group]['rois']"
   ]
  },
  {
   "cell_type": "markdown",
   "id": "04bb453b",
   "metadata": {},
   "source": [
    "Here we show how to find what voxels an example ROI covers"
   ]
  },
  {
   "cell_type": "code",
   "execution_count": 10,
   "id": "b891e33e",
   "metadata": {},
   "outputs": [],
   "source": [
    "ex_roi_index = 1000"
   ]
  },
  {
   "cell_type": "code",
   "execution_count": 11,
   "id": "269110aa",
   "metadata": {},
   "outputs": [
    {
     "name": "stdout",
     "output_type": "stream",
     "text": [
      "The following specifies the voxels which make up ROI 1000: (slice(5, 6, 1), slice(425, 430, 1), slice(152, 157, 1))\n"
     ]
    }
   ],
   "source": [
    "print('The following specifies the voxels which make up ROI ' + str(ex_roi_index) + ': ' + str(rois[ex_roi_index].voxel_inds))"
   ]
  },
  {
   "cell_type": "markdown",
   "id": "b8266c0c",
   "metadata": {},
   "source": [
    "## Now we calculate $\\Delta F/F$ for all rois in the group"
   ]
  },
  {
   "cell_type": "code",
   "execution_count": 12,
   "id": "7cb9a8cd",
   "metadata": {},
   "outputs": [],
   "source": [
    "# Get a list of all the data matrices that are associated with this ROI group\n",
    "roi_ts_labels = extracted_dataset.roi_groups[roi_group]['ts_labels']\n",
    "\n",
    "# Find the data matrix holding the floursence value time series for the rois\n",
    "f_ts_label = roi_ts_labels[\n",
    "    np.squeeze(np.where([re.match('f_*', ts) is not None for ts in roi_ts_labels])).item()\n",
    "]\n",
    "\n",
    "# Find the data matrix holding the baselines calculated with long sliding windows (all results were calculated with \n",
    "# long sliding windows)\n",
    "\n",
    "bl_ts_label = roi_ts_labels[\n",
    "    np.squeeze(np.where([re.match('bl.*long', ts) is not None for ts in roi_ts_labels])).item()\n",
    "]"
   ]
  },
  {
   "cell_type": "code",
   "execution_count": 13,
   "id": "5ebb091f",
   "metadata": {},
   "outputs": [],
   "source": [
    "# Load matrices holding flourescence and baselines values that were pre-calculated and stored in the extracted data\n",
    "f = extracted_dataset.ts_data[f_ts_label]['vls'][:]\n",
    "b = extracted_dataset.ts_data[bl_ts_label]['vls'][:]"
   ]
  },
  {
   "cell_type": "code",
   "execution_count": 14,
   "id": "071f2cb0",
   "metadata": {},
   "outputs": [],
   "source": [
    "# Calculate $DFF$ values for all ROIs\n",
    "dff = calc_dff(f=f, b=b, background=ps['background'], ep=ps['ep'])"
   ]
  },
  {
   "cell_type": "markdown",
   "id": "6859443a",
   "metadata": {},
   "source": [
    "## Plot $\\Delta F/F$ for one example ROI"
   ]
  },
  {
   "cell_type": "code",
   "execution_count": 15,
   "id": "d288a217",
   "metadata": {},
   "outputs": [
    {
     "data": {
      "text/plain": [
       "Text(0.5, 0, 'Time index')"
      ]
     },
     "execution_count": 15,
     "metadata": {},
     "output_type": "execute_result"
    },
    {
     "data": {
      "image/png": "[encoded data removed]",
      "text/plain": [
       "<Figure size 432x288 with 1 Axes>"
      ]
     },
     "metadata": {
      "needs_background": "light"
     },
     "output_type": "display_data"
    }
   ],
   "source": [
    "plt.plot(dff[:, ex_roi_index])\n",
    "plt.title('Delta F/F for ROI ' + str(ex_roi_index))\n",
    "plt.ylabel('Delta F/F')\n",
    "plt.xlabel('Time index')"
   ]
  },
  {
   "cell_type": "markdown",
   "id": "405306a6",
   "metadata": {},
   "source": [
    "## Now we apply various criteria to get the list of events we analyze"
   ]
  },
  {
   "cell_type": "code",
   "execution_count": 16,
   "id": "ed387e57",
   "metadata": {},
   "outputs": [],
   "source": [
    "# Load the raw annotations\n",
    "annotations = read_full_annotations(ps['annotation_file'])\n",
    "\n",
    "# Mark quiet periods\n",
    "quiet_annotations = find_quiet_periods(annots=annotations, \n",
    "                                       q_th=ps['q_th'], \n",
    "                                       q_start_offset=ps['q_start_offset'],\n",
    "                                       q_end_offset=ps['q_end_offset'])\n",
    "    \n",
    "# Add the marked quiet periods to events in the raw annotations\n",
    "annotations = pd.concat([annotations, quiet_annotations], ignore_index=True)\n",
    "\n",
    "# Filter down to \"clean\" events\n",
    "annotations = get_basic_clean_annotations_from_full(annotations, clean_def=ps['clean_event_def'])\n",
    "\n",
    "# Apply the cut off time threshold\n",
    "annotations = apply_cutoff_times(annots=annotations, co_th=ps['co_th'])\n",
    "\n",
    "# Filter events by the behavior transitioned into or from if we are suppose to\n",
    "if ps['acc_behs'] is not None:\n",
    "    keep_inds = [i for i in annotations.index if annotations['beh'][i] in ps['acc_behs']]\n",
    "    annotations = annotations.loc[keep_inds]\n",
    "\n",
    "if ps['acc_pre_behs'] is not None:\n",
    "    keep_inds = [i for i in annotations.index if annotations['beh_before'][i] in ps['acc_pre_behs']]\n",
    "    annotations = annotations.loc[keep_inds]\n",
    "    \n",
    "# Pool preceeding turns if requested\n",
    "if ps['pool_preceeding_turns']:\n",
    "    turn_rows = (annotations['beh_before'] == 'TL') | (annotations['beh_before'] == 'TR')\n",
    "    annotations.loc[turn_rows, 'beh_before'] = 'TC'\n",
    " \n",
    "# Pool succeeding turns if requested\n",
    "if ps['pool_succeeding_turns']:\n",
    "    turn_rows = (annotations['beh'] == 'TL') | (annotations['beh'] == 'TR')\n",
    "    annotations.loc[turn_rows, 'beh'] = 'TC'\n",
    "\n",
    "if ps['remove_st']:\n",
    "    self_trans = annotations['beh_before'] == annotations['beh']\n",
    "    annotations = annotations.loc[~self_trans]\n"
   ]
  },
  {
   "cell_type": "markdown",
   "id": "54ea1991",
   "metadata": {},
   "source": [
    "## Display table of filtered-down event annotations"
   ]
  },
  {
   "cell_type": "code",
   "execution_count": 17,
   "id": "cb14036a",
   "metadata": {},
   "outputs": [
    {
     "data": {
      "text/html": [
       "<div>\n",
       "<style scoped>\n",
       "    .dataframe tbody tr th:only-of-type {\n",
       "        vertical-align: middle;\n",
       "    }\n",
       "\n",
       "    .dataframe tbody tr th {\n",
       "        vertical-align: top;\n",
       "    }\n",
       "\n",
       "    .dataframe thead th {\n",
       "        text-align: right;\n",
       "    }\n",
       "</style>\n",
       "<table border=\"1\" class=\"dataframe\">\n",
       "  <thead>\n",
       "    <tr style=\"text-align: right;\">\n",
       "      <th></th>\n",
       "      <th>start</th>\n",
       "      <th>end</th>\n",
       "      <th>beh</th>\n",
       "      <th>beh_before</th>\n",
       "      <th>beh_before_start</th>\n",
       "      <th>beh_before_end</th>\n",
       "      <th>beh_after</th>\n",
       "      <th>beh_after_start</th>\n",
       "      <th>beh_after_end</th>\n",
       "    </tr>\n",
       "  </thead>\n",
       "  <tbody>\n",
       "    <tr>\n",
       "      <th>3</th>\n",
       "      <td>13</td>\n",
       "      <td>22</td>\n",
       "      <td>TC</td>\n",
       "      <td>H</td>\n",
       "      <td>11</td>\n",
       "      <td>12</td>\n",
       "      <td>B</td>\n",
       "      <td>23</td>\n",
       "      <td>33</td>\n",
       "    </tr>\n",
       "    <tr>\n",
       "      <th>8</th>\n",
       "      <td>59</td>\n",
       "      <td>62</td>\n",
       "      <td>TC</td>\n",
       "      <td>F</td>\n",
       "      <td>51</td>\n",
       "      <td>57</td>\n",
       "      <td>H</td>\n",
       "      <td>63</td>\n",
       "      <td>69</td>\n",
       "    </tr>\n",
       "    <tr>\n",
       "      <th>19</th>\n",
       "      <td>149</td>\n",
       "      <td>167</td>\n",
       "      <td>F</td>\n",
       "      <td>F</td>\n",
       "      <td>134</td>\n",
       "      <td>150</td>\n",
       "      <td>P</td>\n",
       "      <td>168</td>\n",
       "      <td>174</td>\n",
       "    </tr>\n",
       "    <tr>\n",
       "      <th>35</th>\n",
       "      <td>324</td>\n",
       "      <td>327</td>\n",
       "      <td>TC</td>\n",
       "      <td>F</td>\n",
       "      <td>306</td>\n",
       "      <td>324</td>\n",
       "      <td>TL</td>\n",
       "      <td>330</td>\n",
       "      <td>338</td>\n",
       "    </tr>\n",
       "    <tr>\n",
       "      <th>36</th>\n",
       "      <td>330</td>\n",
       "      <td>338</td>\n",
       "      <td>TC</td>\n",
       "      <td>TC</td>\n",
       "      <td>324</td>\n",
       "      <td>327</td>\n",
       "      <td>H</td>\n",
       "      <td>340</td>\n",
       "      <td>342</td>\n",
       "    </tr>\n",
       "    <tr>\n",
       "      <th>...</th>\n",
       "      <td>...</td>\n",
       "      <td>...</td>\n",
       "      <td>...</td>\n",
       "      <td>...</td>\n",
       "      <td>...</td>\n",
       "      <td>...</td>\n",
       "      <td>...</td>\n",
       "      <td>...</td>\n",
       "      <td>...</td>\n",
       "    </tr>\n",
       "    <tr>\n",
       "      <th>536</th>\n",
       "      <td>8927</td>\n",
       "      <td>9088</td>\n",
       "      <td>Q</td>\n",
       "      <td>F</td>\n",
       "      <td>8911</td>\n",
       "      <td>8924</td>\n",
       "      <td>TR</td>\n",
       "      <td>9091</td>\n",
       "      <td>9095</td>\n",
       "    </tr>\n",
       "    <tr>\n",
       "      <th>538</th>\n",
       "      <td>9451</td>\n",
       "      <td>9481</td>\n",
       "      <td>Q</td>\n",
       "      <td>F</td>\n",
       "      <td>9427</td>\n",
       "      <td>9448</td>\n",
       "      <td>P</td>\n",
       "      <td>9484</td>\n",
       "      <td>9493</td>\n",
       "    </tr>\n",
       "    <tr>\n",
       "      <th>541</th>\n",
       "      <td>10062</td>\n",
       "      <td>10079</td>\n",
       "      <td>Q</td>\n",
       "      <td>H</td>\n",
       "      <td>10052</td>\n",
       "      <td>10059</td>\n",
       "      <td>P</td>\n",
       "      <td>10082</td>\n",
       "      <td>10089</td>\n",
       "    </tr>\n",
       "    <tr>\n",
       "      <th>542</th>\n",
       "      <td>10105</td>\n",
       "      <td>10125</td>\n",
       "      <td>Q</td>\n",
       "      <td>F</td>\n",
       "      <td>10090</td>\n",
       "      <td>10102</td>\n",
       "      <td>P</td>\n",
       "      <td>10128</td>\n",
       "      <td>10136</td>\n",
       "    </tr>\n",
       "    <tr>\n",
       "      <th>543</th>\n",
       "      <td>10159</td>\n",
       "      <td>10227</td>\n",
       "      <td>Q</td>\n",
       "      <td>F</td>\n",
       "      <td>10146</td>\n",
       "      <td>10156</td>\n",
       "      <td>F</td>\n",
       "      <td>10230</td>\n",
       "      <td>10237</td>\n",
       "    </tr>\n",
       "  </tbody>\n",
       "</table>\n",
       "<p>113 rows × 9 columns</p>\n",
       "</div>"
      ],
      "text/plain": [
       "     start    end beh beh_before  beh_before_start  beh_before_end beh_after  \\\n",
       "3       13     22  TC          H                11              12         B   \n",
       "8       59     62  TC          F                51              57         H   \n",
       "19     149    167   F          F               134             150         P   \n",
       "35     324    327  TC          F               306             324        TL   \n",
       "36     330    338  TC         TC               324             327         H   \n",
       "..     ...    ...  ..        ...               ...             ...       ...   \n",
       "536   8927   9088   Q          F              8911            8924        TR   \n",
       "538   9451   9481   Q          F              9427            9448         P   \n",
       "541  10062  10079   Q          H             10052           10059         P   \n",
       "542  10105  10125   Q          F             10090           10102         P   \n",
       "543  10159  10227   Q          F             10146           10156         F   \n",
       "\n",
       "     beh_after_start  beh_after_end  \n",
       "3                 23             33  \n",
       "8                 63             69  \n",
       "19               168            174  \n",
       "35               330            338  \n",
       "36               340            342  \n",
       "..               ...            ...  \n",
       "536             9091           9095  \n",
       "538             9484           9493  \n",
       "541            10082          10089  \n",
       "542            10128          10136  \n",
       "543            10230          10237  \n",
       "\n",
       "[113 rows x 9 columns]"
      ]
     },
     "execution_count": 17,
     "metadata": {},
     "output_type": "execute_result"
    }
   ],
   "source": [
    "annotations"
   ]
  },
  {
   "cell_type": "markdown",
   "id": "c6bc0211",
   "metadata": {},
   "source": [
    "## Plot DFF for an example ROI with start and end of each event marked (in green and red respectively)"
   ]
  },
  {
   "cell_type": "code",
   "execution_count": 18,
   "id": "1cb354da",
   "metadata": {},
   "outputs": [
    {
     "data": {
      "text/plain": [
       "Text(0.5, 0, 'Time index')"
      ]
     },
     "execution_count": 18,
     "metadata": {},
     "output_type": "execute_result"
    },
    {
     "data": {
      "image/png": "[encoded data removed]",
      "text/plain": [
       "<Figure size 432x288 with 1 Axes>"
      ]
     },
     "metadata": {
      "needs_background": "light"
     },
     "output_type": "display_data"
    }
   ],
   "source": [
    "plt.plot(dff[:, ex_roi_index])\n",
    "\n",
    "for start in annotations['start']:\n",
    "    plt.plot([start, start], [0, 1], 'g-')\n",
    "\n",
    "for start in annotations['end']:\n",
    "    plt.plot([start, start], [0, 1], 'r-')\n",
    "    \n",
    "plt.title('Delta F/F for ROI ' + str(ex_roi_index))\n",
    "plt.ylabel('Delta F/F')\n",
    "plt.xlabel('Time index')"
   ]
  },
  {
   "cell_type": "code",
   "execution_count": null,
   "id": "a96a3454",
   "metadata": {},
   "outputs": [],
   "source": []
  }
 ],
 "metadata": {
  "kernelspec": {
   "display_name": "Python 3",
   "language": "python",
   "name": "python3"
  },
  "language_info": {
   "codemirror_mode": {
    "name": "ipython",
    "version": 3
   },
   "file_extension": ".py",
   "mimetype": "text/x-python",
   "name": "python",
   "nbconvert_exporter": "python",
   "pygments_lexer": "ipython3",
   "version": "3.7.3"
  }
 },
 "nbformat": 4,
 "nbformat_minor": 5
}
