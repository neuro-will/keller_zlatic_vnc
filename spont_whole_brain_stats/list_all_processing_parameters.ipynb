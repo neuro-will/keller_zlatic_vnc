{
 "cells": [
  {
   "cell_type": "markdown",
   "metadata": {},
   "source": [
    "This is a notebook to exhuastively list all the processing parameters that went into making a map. "
   ]
  },
  {
   "cell_type": "code",
   "execution_count": 1,
   "metadata": {},
   "outputs": [],
   "source": [
    "from pathlib import Path\n",
    "import pickle"
   ]
  },
  {
   "cell_type": "markdown",
   "metadata": {},
   "source": [
    "# Parameters go here"
   ]
  },
  {
   "cell_type": "code",
   "execution_count": 2,
   "metadata": {},
   "outputs": [],
   "source": [
    "results_folder_1 = r'/Volumes/bishoplab/projects/keller_vnc/results/single_subject/new_model_maps_v1/segments_3_13_13'\n",
    "results_file_1 = r'segments_3_13_13_20220801163428401239_mean_cmp_stats.pkl'\n",
    "\n",
    "results_folder_2 = r'/Volumes/bishoplab/projects/keller_vnc/results/single_subject/new_model_maps_v1/cell_bodies'\n",
    "results_file_2 = r'cell_bodies_20220630162920343986_mean_cmp_stats.pkl'"
   ]
  },
  {
   "cell_type": "markdown",
   "metadata": {},
   "source": [
    "## Code is below"
   ]
  },
  {
   "cell_type": "code",
   "execution_count": 3,
   "metadata": {},
   "outputs": [],
   "source": [
    "with open(Path(results_folder_1) / results_file_1, 'rb') as f:\n",
    "    rs_1 = pickle.load(f)"
   ]
  },
  {
   "cell_type": "code",
   "execution_count": 4,
   "metadata": {},
   "outputs": [],
   "source": [
    "with open(Path(results_folder_2) / results_file_2, 'rb') as f:\n",
    "    rs_2 = pickle.load(f)"
   ]
  },
  {
   "cell_type": "code",
   "execution_count": 5,
   "metadata": {},
   "outputs": [
    {
     "data": {
      "text/plain": [
       "{'save_folder': 'A:\\\\projects\\\\keller_vnc\\\\results\\\\single_subject\\\\new_model_maps_v1\\\\segments_3_13_13',\n",
       " 'basic_rs_file': 'segments_3_13_13_20220801163428401239.pkl'}"
      ]
     },
     "execution_count": 5,
     "metadata": {},
     "output_type": "execute_result"
    }
   ],
   "source": [
    "rs_1['ps']"
   ]
  },
  {
   "cell_type": "code",
   "execution_count": 6,
   "metadata": {},
   "outputs": [
    {
     "data": {
      "text/plain": [
       "{'save_folder': 'A:\\\\projects\\\\keller_vnc\\\\results\\\\single_subject\\\\new_model_maps_v1\\\\cell_bodies',\n",
       " 'basic_rs_file': 'cell_bodies_20220630162920343986.pkl'}"
      ]
     },
     "execution_count": 6,
     "metadata": {},
     "output_type": "execute_result"
    }
   ],
   "source": [
    "rs_2['ps']"
   ]
  },
  {
   "cell_type": "code",
   "execution_count": null,
   "metadata": {},
   "outputs": [],
   "source": []
  }
 ],
 "metadata": {
  "kernelspec": {
   "display_name": "Python 3",
   "language": "python",
   "name": "python3"
  },
  "language_info": {
   "codemirror_mode": {
    "name": "ipython",
    "version": 3
   },
   "file_extension": ".py",
   "mimetype": "text/x-python",
   "name": "python",
   "nbconvert_exporter": "python",
   "pygments_lexer": "ipython3",
   "version": "3.7.3"
  }
 },
 "nbformat": 4,
 "nbformat_minor": 4
}
