{
 "cells": [
  {
   "cell_type": "markdown",
   "metadata": {},
   "source": [
    "This is a notebook to exhuastively list all the processing parameters that went into making a map. "
   ]
  },
  {
   "cell_type": "code",
   "execution_count": 1,
   "metadata": {},
   "outputs": [],
   "source": [
    "from pathlib import Path\n",
    "import pickle"
   ]
  },
  {
   "cell_type": "markdown",
   "metadata": {},
   "source": [
    "# Parameters go here"
   ]
  },
  {
   "cell_type": "code",
   "execution_count": 19,
   "metadata": {},
   "outputs": [],
   "source": [
    "results_folder_1 = r'A:\\projects\\keller_vnc\\results\\single_subject\\new_model_maps_v1\\segments_3_13_13'\n",
    "results_file_1 = r'segments_3_13_13_20220801163428401239.pkl'\n",
    "\n",
    "results_folder_2 = r'A:\\projects\\keller_vnc\\results\\single_subject\\new_model_maps_v1\\cell_bodies'\n",
    "results_file_2 = r'cell_bodies_20220630162920343986.pkl'"
   ]
  },
  {
   "cell_type": "markdown",
   "metadata": {},
   "source": [
    "## Code is below"
   ]
  },
  {
   "cell_type": "code",
   "execution_count": 20,
   "metadata": {},
   "outputs": [],
   "source": [
    "with open(Path(results_folder_1) / results_file_1, 'rb') as f:\n",
    "    rs_1 = pickle.load(f)"
   ]
  },
  {
   "cell_type": "code",
   "execution_count": 21,
   "metadata": {},
   "outputs": [],
   "source": [
    "with open(Path(results_folder_2) / results_file_2, 'rb') as f:\n",
    "    rs_2 = pickle.load(f)"
   ]
  },
  {
   "cell_type": "code",
   "execution_count": 26,
   "metadata": {},
   "outputs": [
    {
     "data": {
      "text/plain": [
       "4864"
      ]
     },
     "execution_count": 26,
     "metadata": {},
     "output_type": "execute_result"
    }
   ],
   "source": [
    "len(rs_1['full_stats'])"
   ]
  },
  {
   "cell_type": "code",
   "execution_count": 27,
   "metadata": {},
   "outputs": [
    {
     "data": {
      "text/plain": [
       "1533"
      ]
     },
     "execution_count": 27,
     "metadata": {},
     "output_type": "execute_result"
    }
   ],
   "source": [
    "len(rs_2['full_stats'])"
   ]
  },
  {
   "cell_type": "markdown",
   "metadata": {},
   "source": [
    "## Now look at extraction parameters"
   ]
  },
  {
   "cell_type": "code",
   "execution_count": 14,
   "metadata": {},
   "outputs": [],
   "source": [
    "extraction_folder_1 = r'W:\\SV4\\CW_18-02-15\\L1-561nm-openLoop_20180215_163233.corrected\\extracted\\roi_segments_3_13_13'\n",
    "extraction_params_file_1 = r'long_baseline_extract_params.pkl' #r'extraction_params.pkl'\n",
    "\n",
    "extraction_folder_2 = r'W:\\SV4\\CW_18-02-15\\L1-561nm-openLoop_20180215_163233.corrected\\extracted\\roi_segments_cell_bodies_20200610'\n",
    "extraction_params_file_2 = r'long_baseline_extract_params.pkl' #r'extraction_params.pkl'"
   ]
  },
  {
   "cell_type": "code",
   "execution_count": 15,
   "metadata": {},
   "outputs": [],
   "source": [
    "with open(Path(extraction_folder_1) / extraction_params_file_1, 'rb') as f:\n",
    "    ep_1 = pickle.load(f)"
   ]
  },
  {
   "cell_type": "code",
   "execution_count": 16,
   "metadata": {},
   "outputs": [],
   "source": [
    "with open(Path(extraction_folder_2) / extraction_params_file_2, 'rb') as f:\n",
    "    ep_2 = pickle.load(f)"
   ]
  },
  {
   "cell_type": "code",
   "execution_count": 17,
   "metadata": {},
   "outputs": [
    {
     "data": {
      "text/plain": [
       "{'data_loc_file': 'A:\\\\projects\\\\keller_vnc\\\\data\\\\EM_volume_experiment_data_locations.xlsx',\n",
       " 'base_folder': 'W:\\\\\\\\SV4',\n",
       " 'dataset_folder': 'extracted',\n",
       " 'baseline_calc_opts': {'window_length': 3001,\n",
       "  'filter_start': -1500,\n",
       "  'write_offset': 1500,\n",
       "  'p': 0.1,\n",
       "  'n_processes': 80},\n",
       " 'extract_params_file_name': 'long_baseline_extract_params.pkl',\n",
       " 'new_comps': [{'f_filename': 'extracted_f.h5',\n",
       "   'new_bl_filename': 'baseline_f_long.h5',\n",
       "   'baseline_save_folder': 'brain_rois_1_5_5'},\n",
       "  {'f_filename': 'extracted_f.h5',\n",
       "   'new_bl_filename': 'baseline_f_long.h5',\n",
       "   'baseline_save_folder': 'brain_rois_2_10_10'},\n",
       "  {'f_filename': 'extracted_f.h5',\n",
       "   'new_bl_filename': 'baseline_f_long.h5',\n",
       "   'baseline_save_folder': 'brain_rois_4_20_20'},\n",
       "  {'f_filename': 'extracted_f.h5',\n",
       "   'new_bl_filename': 'baseline_f_long.h5',\n",
       "   'baseline_save_folder': 'roi_segments_3_13_13'},\n",
       "  {'f_filename': 'extracted_f.h5',\n",
       "   'new_bl_filename': 'baseline_f_long.h5',\n",
       "   'baseline_save_folder': 'roi_segments_4_17_17'},\n",
       "  {'f_filename': 'extracted_f.h5',\n",
       "   'new_bl_filename': 'baseline_f_long.h5',\n",
       "   'baseline_save_folder': 'rois_1_5_5'},\n",
       "  {'f_filename': 'extracted_f.h5',\n",
       "   'new_bl_filename': 'baseline_f_long.h5',\n",
       "   'baseline_save_folder': 'rois_2_10_10'},\n",
       "  {'f_filename': 'extracted_f.h5',\n",
       "   'new_bl_filename': 'baseline_f_long.h5',\n",
       "   'baseline_save_folder': 'rois_4_20_20'}]}"
      ]
     },
     "execution_count": 17,
     "metadata": {},
     "output_type": "execute_result"
    }
   ],
   "source": [
    "ep_1"
   ]
  },
  {
   "cell_type": "code",
   "execution_count": 18,
   "metadata": {},
   "outputs": [
    {
     "data": {
      "text/plain": [
       "{'data_loc_file': 'A:\\\\projects\\\\keller_vnc\\\\data\\\\EM_volume_experiment_data_locations.xlsx',\n",
       " 'base_folder': 'W:\\\\\\\\SV4',\n",
       " 'dataset_folder': 'extracted',\n",
       " 'baseline_calc_opts': {'window_length': 3001,\n",
       "  'filter_start': -1500,\n",
       "  'write_offset': 1500,\n",
       "  'p': 0.1,\n",
       "  'n_processes': 80},\n",
       " 'extract_params_file_name': 'long_baseline_extract_params.pkl',\n",
       " 'new_comps': [{'f_filename': 'extracted_f.h5',\n",
       "   'new_bl_filename': 'baseline_f_long.h5',\n",
       "   'baseline_save_folder': 'roi_segments_cell_bodies_20200610'}]}"
      ]
     },
     "execution_count": 18,
     "metadata": {},
     "output_type": "execute_result"
    }
   ],
   "source": [
    "ep_2"
   ]
  },
  {
   "cell_type": "code",
   "execution_count": null,
   "metadata": {},
   "outputs": [],
   "source": []
  }
 ],
 "metadata": {
  "kernelspec": {
   "display_name": "Python 3",
   "language": "python",
   "name": "python3"
  },
  "language_info": {
   "codemirror_mode": {
    "name": "ipython",
    "version": 3
   },
   "file_extension": ".py",
   "mimetype": "text/x-python",
   "name": "python",
   "nbconvert_exporter": "python",
   "pygments_lexer": "ipython3",
   "version": "3.7.3"
  }
 },
 "nbformat": 4,
 "nbformat_minor": 4
}
