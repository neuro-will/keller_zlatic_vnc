{
 "cells": [
  {
   "cell_type": "markdown",
   "metadata": {},
   "source": [
    "This is a notebook to examine annotations for spontaneous behaviors.  It is not involved in processing data for any publication results, but is meant only for data exploration. "
   ]
  },
  {
   "cell_type": "code",
   "execution_count": 1,
   "metadata": {},
   "outputs": [],
   "source": [
    "%load_ext autoreload\n",
    "%autoreload 2"
   ]
  },
  {
   "cell_type": "code",
   "execution_count": 2,
   "metadata": {},
   "outputs": [
    {
     "name": "stderr",
     "output_type": "stream",
     "text": [
      "/Users/bishopw/Documents/Janelia_Research/Projects/janelia_core/janelia_core/fileio/exp_reader.py:21: UserWarning: Unable to locate pyklb module.  Will not be able to read in .klb files.\n",
      "  warnings.warn('Unable to locate pyklb module.  Will not be able to read in .klb files.')\n"
     ]
    }
   ],
   "source": [
    "import glob\n",
    "import itertools\n",
    "from pathlib import Path\n",
    "\n",
    "import pandas as pd\n",
    "\n",
    "from keller_zlatic_vnc.data_processing import apply_quiet_and_cutoff_times\n",
    "from keller_zlatic_vnc.data_processing import generate_standard_id_for_full_annots\n",
    "from keller_zlatic_vnc.data_processing import get_basic_clean_annotations_from_full\n",
    "from keller_zlatic_vnc.data_processing import read_full_annotations"
   ]
  },
  {
   "cell_type": "markdown",
   "metadata": {},
   "source": [
    "## Parameters go here "
   ]
  },
  {
   "cell_type": "code",
   "execution_count": 3,
   "metadata": {},
   "outputs": [],
   "source": [
    "ps = dict()\n",
    "\n",
    "# Give locations of folders with annotations\n",
    "ps['annot_folders'] = [r'/Users/bishopw/Desktop/full_annotations/behavior_csv_cl_A4', \n",
    "                       r'/Users/bishopw/Desktop/full_annotations/behavior_csv_cl_A9']\n",
    "\n",
    "# Specify the definition for clean events we use \n",
    "ps['clean_event_def'] = 'po'\n",
    "\n",
    "# Specify the threshold we use (in number of stacks) to determine when a quiet transition has occurred\n",
    "ps['q_th'] = 55\n",
    "\n",
    "# Specify the cut off threshold we use (in number of stacks) to determine when a real transition has occurred\n",
    "ps['co_th'] = 3\n",
    "\n",
    "# Specify the length of events we mark new quiet events as \n",
    "ps['q_length'] = 3"
   ]
  },
  {
   "cell_type": "markdown",
   "metadata": {},
   "source": [
    "## Get list of all subjects we have annotations for "
   ]
  },
  {
   "cell_type": "code",
   "execution_count": 4,
   "metadata": {},
   "outputs": [],
   "source": [
    "annot_file_paths = list(itertools.chain(*[glob.glob(str(Path(folder) / '*.csv')) for folder in ps['annot_folders']]))\n",
    "annot_file_names = [Path(p).name for p in annot_file_paths]\n",
    "annot_subjs = [generate_standard_id_for_full_annots(fn) for fn in annot_file_names]\n"
   ]
  },
  {
   "cell_type": "markdown",
   "metadata": {},
   "source": [
    "## Read in basic annotations for all subjects "
   ]
  },
  {
   "cell_type": "code",
   "execution_count": 5,
   "metadata": {},
   "outputs": [],
   "source": [
    "annotations = []\n",
    "for s_id, s_annot_file in zip(annot_subjs, annot_file_paths):\n",
    "    tbl = read_full_annotations(s_annot_file)\n",
    "    tbl['subject_id'] = s_id\n",
    "    annotations.append(tbl)"
   ]
  },
  {
   "cell_type": "markdown",
   "metadata": {},
   "source": [
    "## Filter down to only \"clean\" events "
   ]
  },
  {
   "cell_type": "code",
   "execution_count": 6,
   "metadata": {},
   "outputs": [],
   "source": [
    "annotations = [get_basic_clean_annotations_from_full(annot, clean_def=ps['clean_event_def'])\n",
    "                   for annot in annotations]"
   ]
  },
  {
   "cell_type": "markdown",
   "metadata": {},
   "source": [
    "## Put all events into the same table "
   ]
  },
  {
   "cell_type": "code",
   "execution_count": 7,
   "metadata": {},
   "outputs": [],
   "source": [
    "annotations = pd.concat(annotations, ignore_index=True)"
   ]
  },
  {
   "cell_type": "markdown",
   "metadata": {},
   "source": [
    "## Mark preceding and succeeding behaviors as known, quiet or unknown "
   ]
  },
  {
   "cell_type": "code",
   "execution_count": 8,
   "metadata": {},
   "outputs": [],
   "source": [
    "annotations = apply_quiet_and_cutoff_times(annotations, quiet_th=ps['q_th'], co_th=ps['co_th'], q_length=ps['q_length'])"
   ]
  },
  {
   "cell_type": "markdown",
   "metadata": {},
   "source": [
    "## View annotations"
   ]
  },
  {
   "cell_type": "code",
   "execution_count": 9,
   "metadata": {},
   "outputs": [
    {
     "data": {
      "text/html": [
       "<div>\n",
       "<style scoped>\n",
       "    .dataframe tbody tr th:only-of-type {\n",
       "        vertical-align: middle;\n",
       "    }\n",
       "\n",
       "    .dataframe tbody tr th {\n",
       "        vertical-align: top;\n",
       "    }\n",
       "\n",
       "    .dataframe thead th {\n",
       "        text-align: right;\n",
       "    }\n",
       "</style>\n",
       "<table border=\"1\" class=\"dataframe\">\n",
       "  <thead>\n",
       "    <tr style=\"text-align: right;\">\n",
       "      <th></th>\n",
       "      <th>start</th>\n",
       "      <th>end</th>\n",
       "      <th>beh</th>\n",
       "      <th>subject_id</th>\n",
       "      <th>beh_before</th>\n",
       "      <th>beh_before_start</th>\n",
       "      <th>beh_before_end</th>\n",
       "      <th>beh_after</th>\n",
       "      <th>beh_after_start</th>\n",
       "      <th>beh_after_end</th>\n",
       "    </tr>\n",
       "  </thead>\n",
       "  <tbody>\n",
       "    <tr>\n",
       "      <th>29</th>\n",
       "      <td>1474</td>\n",
       "      <td>1490</td>\n",
       "      <td>F</td>\n",
       "      <td>CW_17-08-27-L2</td>\n",
       "      <td>U</td>\n",
       "      <td>1457</td>\n",
       "      <td>1460</td>\n",
       "      <td>Q</td>\n",
       "      <td>2069</td>\n",
       "      <td>2071</td>\n",
       "    </tr>\n",
       "    <tr>\n",
       "      <th>54</th>\n",
       "      <td>3153</td>\n",
       "      <td>3176</td>\n",
       "      <td>F</td>\n",
       "      <td>CW_17-08-27-L2</td>\n",
       "      <td>U</td>\n",
       "      <td>3116</td>\n",
       "      <td>3134</td>\n",
       "      <td>Q</td>\n",
       "      <td>4161</td>\n",
       "      <td>4163</td>\n",
       "    </tr>\n",
       "    <tr>\n",
       "      <th>118</th>\n",
       "      <td>887</td>\n",
       "      <td>912</td>\n",
       "      <td>F</td>\n",
       "      <td>CW_17-11-26-L4</td>\n",
       "      <td>F</td>\n",
       "      <td>864</td>\n",
       "      <td>884</td>\n",
       "      <td>Q</td>\n",
       "      <td>1728</td>\n",
       "      <td>1730</td>\n",
       "    </tr>\n",
       "    <tr>\n",
       "      <th>132</th>\n",
       "      <td>2911</td>\n",
       "      <td>2925</td>\n",
       "      <td>F</td>\n",
       "      <td>CW_17-11-26-L4</td>\n",
       "      <td>U</td>\n",
       "      <td>2878</td>\n",
       "      <td>2892</td>\n",
       "      <td>Q</td>\n",
       "      <td>3627</td>\n",
       "      <td>3629</td>\n",
       "    </tr>\n",
       "    <tr>\n",
       "      <th>188</th>\n",
       "      <td>579</td>\n",
       "      <td>590</td>\n",
       "      <td>F</td>\n",
       "      <td>CW_17-11-27-L3</td>\n",
       "      <td>U</td>\n",
       "      <td>558</td>\n",
       "      <td>568</td>\n",
       "      <td>Q</td>\n",
       "      <td>1443</td>\n",
       "      <td>1445</td>\n",
       "    </tr>\n",
       "    <tr>\n",
       "      <th>...</th>\n",
       "      <td>...</td>\n",
       "      <td>...</td>\n",
       "      <td>...</td>\n",
       "      <td>...</td>\n",
       "      <td>...</td>\n",
       "      <td>...</td>\n",
       "      <td>...</td>\n",
       "      <td>...</td>\n",
       "      <td>...</td>\n",
       "      <td>...</td>\n",
       "    </tr>\n",
       "    <tr>\n",
       "      <th>6662</th>\n",
       "      <td>176</td>\n",
       "      <td>184</td>\n",
       "      <td>B</td>\n",
       "      <td>CW_17-11-03-L3</td>\n",
       "      <td>U</td>\n",
       "      <td>167</td>\n",
       "      <td>172</td>\n",
       "      <td>Q</td>\n",
       "      <td>1063</td>\n",
       "      <td>1065</td>\n",
       "    </tr>\n",
       "    <tr>\n",
       "      <th>6693</th>\n",
       "      <td>2513</td>\n",
       "      <td>2522</td>\n",
       "      <td>B</td>\n",
       "      <td>CW_17-11-03-L3</td>\n",
       "      <td>U</td>\n",
       "      <td>2502</td>\n",
       "      <td>2509</td>\n",
       "      <td>Q</td>\n",
       "      <td>3091</td>\n",
       "      <td>3093</td>\n",
       "    </tr>\n",
       "    <tr>\n",
       "      <th>6713</th>\n",
       "      <td>4064</td>\n",
       "      <td>4072</td>\n",
       "      <td>P</td>\n",
       "      <td>CW_17-11-03-L3</td>\n",
       "      <td>F</td>\n",
       "      <td>4033</td>\n",
       "      <td>4061</td>\n",
       "      <td>Q</td>\n",
       "      <td>4597</td>\n",
       "      <td>4599</td>\n",
       "    </tr>\n",
       "    <tr>\n",
       "      <th>6738</th>\n",
       "      <td>664</td>\n",
       "      <td>683</td>\n",
       "      <td>P</td>\n",
       "      <td>CW_17-11-07-L4</td>\n",
       "      <td>U</td>\n",
       "      <td>634</td>\n",
       "      <td>659</td>\n",
       "      <td>Q</td>\n",
       "      <td>1222</td>\n",
       "      <td>1224</td>\n",
       "    </tr>\n",
       "    <tr>\n",
       "      <th>6752</th>\n",
       "      <td>2060</td>\n",
       "      <td>2077</td>\n",
       "      <td>P</td>\n",
       "      <td>CW_17-11-07-L4</td>\n",
       "      <td>U</td>\n",
       "      <td>2038</td>\n",
       "      <td>2056</td>\n",
       "      <td>Q</td>\n",
       "      <td>3237</td>\n",
       "      <td>3239</td>\n",
       "    </tr>\n",
       "  </tbody>\n",
       "</table>\n",
       "<p>259 rows × 10 columns</p>\n",
       "</div>"
      ],
      "text/plain": [
       "      start   end beh      subject_id beh_before  beh_before_start  \\\n",
       "29     1474  1490   F  CW_17-08-27-L2          U              1457   \n",
       "54     3153  3176   F  CW_17-08-27-L2          U              3116   \n",
       "118     887   912   F  CW_17-11-26-L4          F               864   \n",
       "132    2911  2925   F  CW_17-11-26-L4          U              2878   \n",
       "188     579   590   F  CW_17-11-27-L3          U               558   \n",
       "...     ...   ...  ..             ...        ...               ...   \n",
       "6662    176   184   B  CW_17-11-03-L3          U               167   \n",
       "6693   2513  2522   B  CW_17-11-03-L3          U              2502   \n",
       "6713   4064  4072   P  CW_17-11-03-L3          F              4033   \n",
       "6738    664   683   P  CW_17-11-07-L4          U               634   \n",
       "6752   2060  2077   P  CW_17-11-07-L4          U              2038   \n",
       "\n",
       "      beh_before_end beh_after  beh_after_start  beh_after_end  \n",
       "29              1460         Q             2069           2071  \n",
       "54              3134         Q             4161           4163  \n",
       "118              884         Q             1728           1730  \n",
       "132             2892         Q             3627           3629  \n",
       "188              568         Q             1443           1445  \n",
       "...              ...       ...              ...            ...  \n",
       "6662             172         Q             1063           1065  \n",
       "6693            2509         Q             3091           3093  \n",
       "6713            4061         Q             4597           4599  \n",
       "6738             659         Q             1222           1224  \n",
       "6752            2056         Q             3237           3239  \n",
       "\n",
       "[259 rows x 10 columns]"
      ]
     },
     "execution_count": 9,
     "metadata": {},
     "output_type": "execute_result"
    }
   ],
   "source": [
    "annotations[annotations['beh_after'] == 'Q']"
   ]
  }
 ],
 "metadata": {
  "kernelspec": {
   "display_name": "Python 3",
   "language": "python",
   "name": "python3"
  },
  "language_info": {
   "codemirror_mode": {
    "name": "ipython",
    "version": 3
   },
   "file_extension": ".py",
   "mimetype": "text/x-python",
   "name": "python",
   "nbconvert_exporter": "python",
   "pygments_lexer": "ipython3",
   "version": "3.7.3"
  }
 },
 "nbformat": 4,
 "nbformat_minor": 4
}
