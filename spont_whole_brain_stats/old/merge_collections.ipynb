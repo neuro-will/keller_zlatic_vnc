{
 "cells": [
  {
   "cell_type": "markdown",
   "metadata": {},
   "source": [
    "# A notebook for merging individual collections into one"
   ]
  },
  {
   "cell_type": "code",
   "execution_count": 1,
   "metadata": {},
   "outputs": [],
   "source": [
    "%load_ext autoreload\n",
    "%autoreload 2\n",
    "\n",
    "from keller_zlatic_vnc.collections import merge_collections"
   ]
  },
  {
   "cell_type": "code",
   "execution_count": 2,
   "metadata": {},
   "outputs": [],
   "source": [
    "from pathlib import Path"
   ]
  },
  {
   "cell_type": "markdown",
   "metadata": {},
   "source": [
    "## Parameters go here"
   ]
  },
  {
   "cell_type": "code",
   "execution_count": 3,
   "metadata": {},
   "outputs": [],
   "source": [
    "original_collections = [r'\\\\dm11\\bishoplab\\projects\\keller_vnc\\results\\initial_single_subject_small_window_sweep\\ind_collections\\beh_stats_neg_3_3_turns_broken_out_mean_cmp_stats_images', \n",
    "                       r'\\\\dm11\\bishoplab\\projects\\keller_vnc\\results\\initial_single_subject_small_window_sweep\\ind_collections\\beh_stats_neg_6_3_turns_broken_out_mean_cmp_stats_images', \n",
    "                       r'\\\\dm11\\bishoplab\\projects\\keller_vnc\\results\\initial_single_subject_small_window_sweep\\ind_collections\\beh_stats_neg_9_3_turns_broken_out_mean_cmp_stats_images', \n",
    "                       r'\\\\dm11\\bishoplab\\projects\\keller_vnc\\results\\initial_single_subject_small_window_sweep\\ind_collections\\beh_stats_neg_12_3_turns_broken_out_mean_cmp_stats_images', \n",
    "                       r'\\\\dm11\\bishoplab\\projects\\keller_vnc\\results\\initial_single_subject_small_window_sweep\\ind_collections\\beh_stats_neg_15_3_turns_broken_out_mean_cmp_stats_images', \n",
    "                       r'\\\\dm11\\bishoplab\\projects\\keller_vnc\\results\\initial_single_subject_small_window_sweep\\ind_collections\\beh_stats_neg_18_3_turns_broken_out_mean_cmp_stats_images', \n",
    "                       ]\n",
    "\n",
    "tgt_folder = r'\\\\dm11\\bishoplab\\projects\\keller_vnc\\results\\initial_single_subject_small_window_sweep\\initial_single_subject_small_window_sweep'\n",
    "                       \n",
    "\n",
    "new_desc = ('This is part of an initial analysis performed to generate a set of maps that can serve as a testbed for ' + \n",
    "               'integrating statistical maps with EM. This particular analysis contains results for a statistical analysis ' + \n",
    "               'of the single specimen for which we also have an EM volumen for, and we look for voxels which encode an ' + \n",
    "               'upcoming behavior.  ' + \n",
    "               'Note that because the actual statistical results were performed before we ' + \n",
    "               'determined how we were going to record metadata for the collections, the GIT hashes in this metadata ' + \n",
    "               'are only approximate, as the exact hashes were not recorded at the time the statistical testing was done. ' + \n",
    "               'The key notebooks and scripts to run the statistical tests used to produce these maps are ' + \n",
    "               'spont_events_initial_stats_calculation.ipynb and find_vls_different_than_other_mean.py.  The script ' + \n",
    "               'make_spont_whole_brain_movies_and_images.py was then used to render the actual maps.')"
   ]
  },
  {
   "cell_type": "markdown",
   "metadata": {},
   "source": [
    "## Merge the collections"
   ]
  },
  {
   "cell_type": "code",
   "execution_count": 4,
   "metadata": {},
   "outputs": [
    {
     "name": "stdout",
     "output_type": "stream",
     "text": [
      "<class 'tuple'>\n"
     ]
    }
   ],
   "source": [
    "merge_collections(original_collections, tgt_folder, new_desc=new_desc, ignore_extensions=['.png'])"
   ]
  },
  {
   "cell_type": "code",
   "execution_count": null,
   "metadata": {},
   "outputs": [],
   "source": []
  }
 ],
 "metadata": {
  "kernelspec": {
   "display_name": "Python 3",
   "language": "python",
   "name": "python3"
  },
  "language_info": {
   "codemirror_mode": {
    "name": "ipython",
    "version": 3
   },
   "file_extension": ".py",
   "mimetype": "text/x-python",
   "name": "python",
   "nbconvert_exporter": "python",
   "pygments_lexer": "ipython3",
   "version": "3.7.3"
  }
 },
 "nbformat": 4,
 "nbformat_minor": 2
}
