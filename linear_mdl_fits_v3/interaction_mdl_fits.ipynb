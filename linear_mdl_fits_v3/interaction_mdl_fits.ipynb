{
 "cells": [
  {
   "cell_type": "markdown",
   "metadata": {},
   "source": [
    "Here we fit linear models with only interaction terms"
   ]
  },
  {
   "cell_type": "code",
   "execution_count": 1,
   "metadata": {},
   "outputs": [],
   "source": [
    "%load_ext autoreload\n",
    "%autoreload 2"
   ]
  },
  {
   "cell_type": "code",
   "execution_count": 2,
   "metadata": {},
   "outputs": [],
   "source": [
    "%matplotlib qt"
   ]
  },
  {
   "cell_type": "code",
   "execution_count": 3,
   "metadata": {},
   "outputs": [
    {
     "name": "stderr",
     "output_type": "stream",
     "text": [
      "/Users/williambishop/Documents/Janelia_Research/Projects/janelia_core/janelia_core/fileio/exp_reader.py:21: UserWarning: Unable to locate pyklb module.  Will not be able to read in .klb files.\n",
      "  warnings.warn('Unable to locate pyklb module.  Will not be able to read in .klb files.')\n"
     ]
    }
   ],
   "source": [
    "import pathlib\n",
    "\n",
    "import matplotlib.pyplot as plt\n",
    "import numpy as np\n",
    "import pandas as pd\n",
    "import scipy.io\n",
    "\n",
    "from keller_zlatic_vnc.data_processing import count_unique_subjs_per_transition\n",
    "from keller_zlatic_vnc.data_processing import extract_transitions\n",
    "from keller_zlatic_vnc.data_processing import generate_transition_dff_table\n",
    "from keller_zlatic_vnc.data_processing import read_raw_transitions_from_excel\n",
    "from keller_zlatic_vnc.data_processing import recode_beh\n",
    "from keller_zlatic_vnc.linear_modeling import one_hot_from_table\n",
    "from keller_zlatic_vnc.linear_modeling import order_and_color_interaction_terms\n",
    "from keller_zlatic_vnc.linear_modeling import reference_one_hot_to_beh\n",
    "\n",
    "\n",
    "from janelia_core.stats.regression import grouped_linear_regression_ols_estimator\n",
    "from janelia_core.stats.regression import grouped_linear_regression_acm_stats\n",
    "from janelia_core.stats.regression import visualize_coefficient_stats"
   ]
  },
  {
   "cell_type": "code",
   "execution_count": 4,
   "metadata": {},
   "outputs": [],
   "source": [
    "pd.set_option('display.max_rows', None)\n",
    "pd.set_option('display.max_columns', None)"
   ]
  },
  {
   "cell_type": "code",
   "execution_count": 5,
   "metadata": {},
   "outputs": [],
   "source": [
    "font = {'family' : 'arial',\n",
    "        'weight' : 'normal',\n",
    "        'size'   : 15}\n",
    "\n",
    "plt.rc('font', **font)"
   ]
  },
  {
   "cell_type": "markdown",
   "metadata": {},
   "source": [
    "## Options for analysis"
   ]
  },
  {
   "cell_type": "code",
   "execution_count": 6,
   "metadata": {},
   "outputs": [],
   "source": [
    "# Type of cells we fit models to\n",
    "cell_type = 'handle' \n",
    "\n",
    "# If we fit data to perturbations targeted at 'A4', 'A9' or 'both'\n",
    "manip_type = 'A4'\n",
    "\n",
    "# Define the cutoff time we use to define quiet behaviors following stimulation\n",
    "cut_off_time = 9.0034#3.656 #9.0034\n",
    "\n",
    "# Specify if we predict dff 'before' or 'after' the manipulation\n",
    "period = 'before'\n",
    "\n",
    "# Define how many subjects we need to observe a transition from to include in the model\n",
    "min_n_trans_subjs = 2\n",
    "\n",
    "# Colors to assoicate with behaviors\n",
    "clrs = {'F': np.asarray([255, 128, 0])/255,\n",
    "        'B': np.asarray([0, 0, 153])/255,\n",
    "        'Q': np.asarray([255, 51, 153])/255,\n",
    "        'O': np.asarray([204, 153, 255])/255,\n",
    "        'T': np.asarray([0, 204, 0])/255,\n",
    "        'P': np.asarray([0, 153, 153])/255,\n",
    "        'H': np.asarray([52, 225, 235])/255}"
   ]
  },
  {
   "cell_type": "markdown",
   "metadata": {},
   "source": [
    "## Location of the data"
   ]
  },
  {
   "cell_type": "code",
   "execution_count": 7,
   "metadata": {},
   "outputs": [],
   "source": [
    "#data_folder = r'/Volumes/bishoplab/projects/keller_vnc/data/extracted_dff_v2'\n",
    "data_folder = r'/Users/williambishop/Desktop/extracted_dff_v2'\n",
    "transition_file = 'transition_list.xlsx'\n",
    "\n",
    "a00c_a4_act_data_file = 'A00c_activity_A4.mat'\n",
    "a00c_a9_act_data_file = 'A00c_activity_A9.mat'\n",
    "\n",
    "basin_a4_act_data_file = 'Basin_activity_A4.mat'\n",
    "basin_a9_act_data_file = 'Basin_activity_A9.mat'\n",
    "\n",
    "handle_a4_act_data_file = 'Handle_activity_A4.mat'\n",
    "handle_a9_act_data_file = 'Handle_activity_A9.mat'"
   ]
  },
  {
   "cell_type": "markdown",
   "metadata": {},
   "source": [
    "## Specify some parameters we use in the code below"
   ]
  },
  {
   "cell_type": "code",
   "execution_count": 8,
   "metadata": {},
   "outputs": [],
   "source": [
    "if cell_type == 'a00c':\n",
    "    a4_act_file = a00c_a4_act_data_file\n",
    "    a9_act_file = a00c_a9_act_data_file\n",
    "elif cell_type == 'basin':\n",
    "    a4_act_file = basin_a4_act_data_file\n",
    "    a9_act_file = basin_a9_act_data_file\n",
    "elif cell_type == 'handle':\n",
    "    a4_act_file = handle_a4_act_data_file\n",
    "    a9_act_file = handle_a9_act_data_file\n",
    "else:\n",
    "    raise(ValueError('The cell type ' + cell_type + ' is not recogonized.'))"
   ]
  },
  {
   "cell_type": "markdown",
   "metadata": {},
   "source": [
    "## Load data"
   ]
  },
  {
   "cell_type": "code",
   "execution_count": 9,
   "metadata": {},
   "outputs": [],
   "source": [
    "# Read in raw transitions\n",
    "raw_trans = read_raw_transitions_from_excel(pathlib.Path(data_folder) / transition_file)\n",
    "\n",
    "# Read in activity\n",
    "a4_act = scipy.io.loadmat(pathlib.Path(data_folder) / a4_act_file, squeeze_me=True)\n",
    "a9_act = scipy.io.loadmat(pathlib.Path(data_folder) / a9_act_file, squeeze_me=True)\n",
    "\n",
    "# Correct mistake in labeling if we need to\n",
    "if cell_type == 'basin' or cell_type == 'handle':\n",
    "    ind = np.argwhere(a4_act['newTransitions'] == '0824L2CL')[1][0]\n",
    "    a4_act['newTransitions'][ind] = '0824L2-2CL'\n",
    "\n",
    "# Recode behavioral annotations\n",
    "raw_trans = recode_beh(raw_trans, 'Beh Before')\n",
    "raw_trans = recode_beh(raw_trans, 'Beh After')\n",
    "\n",
    "# Extract transitions\n",
    "trans = extract_transitions(raw_trans, cut_off_time)\n",
    "\n",
    "# Generate table of data \n",
    "a4table = generate_transition_dff_table(act_data=a4_act, trans=trans)\n",
    "a9table = generate_transition_dff_table(act_data=a9_act, trans=trans)\n",
    "\n",
    "# Put the tables together\n",
    "a4table['man_tgt'] = 'A4'\n",
    "a9table['man_tgt'] = 'A9'\n",
    "data = a4table.append(a9table, ignore_index=True)"
   ]
  },
  {
   "cell_type": "markdown",
   "metadata": {},
   "source": [
    "## Down select for manipulation target"
   ]
  },
  {
   "cell_type": "code",
   "execution_count": 10,
   "metadata": {},
   "outputs": [
    {
     "name": "stdout",
     "output_type": "stream",
     "text": [
      "Analyzing only A4 manipulation events.\n"
     ]
    }
   ],
   "source": [
    "if manip_type == 'A4' or manip_type == 'a4':\n",
    "    print('Analyzing only A4 manipulation events.')\n",
    "    data = data[data['man_tgt'] == 'A4']\n",
    "elif manip_type == 'A9' or manip_type == 'a9':\n",
    "    print('Analyzing only A9 manipulation events.')\n",
    "    data = data[data['man_tgt'] == 'A9']\n",
    "else:\n",
    "    print('Analyzing all manipulation events.')"
   ]
  },
  {
   "cell_type": "markdown",
   "metadata": {},
   "source": [
    "## See how many subjects we have for each type of behavioral transition"
   ]
  },
  {
   "cell_type": "code",
   "execution_count": 11,
   "metadata": {},
   "outputs": [],
   "source": [
    "trans_subj_cnts = count_unique_subjs_per_transition(data)"
   ]
  },
  {
   "cell_type": "code",
   "execution_count": 12,
   "metadata": {},
   "outputs": [
    {
     "data": {
      "text/html": [
       "<div>\n",
       "<style scoped>\n",
       "    .dataframe tbody tr th:only-of-type {\n",
       "        vertical-align: middle;\n",
       "    }\n",
       "\n",
       "    .dataframe tbody tr th {\n",
       "        vertical-align: top;\n",
       "    }\n",
       "\n",
       "    .dataframe thead th {\n",
       "        text-align: right;\n",
       "    }\n",
       "</style>\n",
       "<table border=\"1\" class=\"dataframe\">\n",
       "  <thead>\n",
       "    <tr style=\"text-align: right;\">\n",
       "      <th></th>\n",
       "      <th>B</th>\n",
       "      <th>F</th>\n",
       "      <th>H</th>\n",
       "      <th>O</th>\n",
       "      <th>P</th>\n",
       "      <th>Q</th>\n",
       "      <th>T</th>\n",
       "    </tr>\n",
       "  </thead>\n",
       "  <tbody>\n",
       "    <tr>\n",
       "      <td>B</td>\n",
       "      <td>4.0</td>\n",
       "      <td>13.0</td>\n",
       "      <td>0.0</td>\n",
       "      <td>1.0</td>\n",
       "      <td>1.0</td>\n",
       "      <td>2.0</td>\n",
       "      <td>3.0</td>\n",
       "    </tr>\n",
       "    <tr>\n",
       "      <td>F</td>\n",
       "      <td>1.0</td>\n",
       "      <td>10.0</td>\n",
       "      <td>0.0</td>\n",
       "      <td>0.0</td>\n",
       "      <td>1.0</td>\n",
       "      <td>0.0</td>\n",
       "      <td>1.0</td>\n",
       "    </tr>\n",
       "    <tr>\n",
       "      <td>H</td>\n",
       "      <td>0.0</td>\n",
       "      <td>1.0</td>\n",
       "      <td>0.0</td>\n",
       "      <td>0.0</td>\n",
       "      <td>0.0</td>\n",
       "      <td>0.0</td>\n",
       "      <td>0.0</td>\n",
       "    </tr>\n",
       "    <tr>\n",
       "      <td>O</td>\n",
       "      <td>1.0</td>\n",
       "      <td>4.0</td>\n",
       "      <td>0.0</td>\n",
       "      <td>0.0</td>\n",
       "      <td>0.0</td>\n",
       "      <td>0.0</td>\n",
       "      <td>0.0</td>\n",
       "    </tr>\n",
       "    <tr>\n",
       "      <td>P</td>\n",
       "      <td>0.0</td>\n",
       "      <td>0.0</td>\n",
       "      <td>0.0</td>\n",
       "      <td>0.0</td>\n",
       "      <td>0.0</td>\n",
       "      <td>0.0</td>\n",
       "      <td>0.0</td>\n",
       "    </tr>\n",
       "    <tr>\n",
       "      <td>Q</td>\n",
       "      <td>1.0</td>\n",
       "      <td>7.0</td>\n",
       "      <td>1.0</td>\n",
       "      <td>4.0</td>\n",
       "      <td>0.0</td>\n",
       "      <td>5.0</td>\n",
       "      <td>0.0</td>\n",
       "    </tr>\n",
       "    <tr>\n",
       "      <td>T</td>\n",
       "      <td>4.0</td>\n",
       "      <td>6.0</td>\n",
       "      <td>0.0</td>\n",
       "      <td>0.0</td>\n",
       "      <td>1.0</td>\n",
       "      <td>1.0</td>\n",
       "      <td>1.0</td>\n",
       "    </tr>\n",
       "  </tbody>\n",
       "</table>\n",
       "</div>"
      ],
      "text/plain": [
       "     B     F    H    O    P    Q    T\n",
       "B  4.0  13.0  0.0  1.0  1.0  2.0  3.0\n",
       "F  1.0  10.0  0.0  0.0  1.0  0.0  1.0\n",
       "H  0.0   1.0  0.0  0.0  0.0  0.0  0.0\n",
       "O  1.0   4.0  0.0  0.0  0.0  0.0  0.0\n",
       "P  0.0   0.0  0.0  0.0  0.0  0.0  0.0\n",
       "Q  1.0   7.0  1.0  4.0  0.0  5.0  0.0\n",
       "T  4.0   6.0  0.0  0.0  1.0  1.0  1.0"
      ]
     },
     "execution_count": 12,
     "metadata": {},
     "output_type": "execute_result"
    }
   ],
   "source": [
    "trans_subj_cnts"
   ]
  },
  {
   "cell_type": "markdown",
   "metadata": {},
   "source": [
    "## Get list of transitions with the minimum number of subjects"
   ]
  },
  {
   "cell_type": "code",
   "execution_count": 13,
   "metadata": {},
   "outputs": [],
   "source": [
    "mdl_trans = []\n",
    "for from_beh in trans_subj_cnts.index:\n",
    "    for to_beh in trans_subj_cnts.columns:\n",
    "        if trans_subj_cnts[to_beh][from_beh] >= min_n_trans_subjs:\n",
    "            mdl_trans.append((from_beh, to_beh))"
   ]
  },
  {
   "cell_type": "markdown",
   "metadata": {},
   "source": [
    "## Remove any events that do not display one of the transitions we include in the model"
   ]
  },
  {
   "cell_type": "code",
   "execution_count": 14,
   "metadata": {},
   "outputs": [],
   "source": [
    "l_data = len(data)\n",
    "keep_rows = np.zeros(l_data, dtype=np.bool)\n",
    "for r_i, r_index in enumerate(data.index):\n",
    "    row_trans = (data['beh_before'][r_index], data['beh_after'][r_index])\n",
    "    if row_trans in mdl_trans:\n",
    "        keep_rows[r_i] = True\n",
    "        \n",
    "data = data[keep_rows]"
   ]
  },
  {
   "cell_type": "markdown",
   "metadata": {},
   "source": [
    "## Pull out $\\Delta F/F$"
   ]
  },
  {
   "cell_type": "code",
   "execution_count": 15,
   "metadata": {},
   "outputs": [],
   "source": [
    "if period == 'before':\n",
    "    dff = data['dff_before'].to_numpy()\n",
    "elif period == 'after':\n",
    "    dff = data['dff_after'].to_numpy()\n",
    "else:\n",
    "    raise(ValueError('The period ' + ' period is not recogonized.'))"
   ]
  },
  {
   "cell_type": "markdown",
   "metadata": {},
   "source": [
    "## Find grouping of data by subject"
   ]
  },
  {
   "cell_type": "code",
   "execution_count": 16,
   "metadata": {},
   "outputs": [],
   "source": [
    "unique_ids = data['subject_id'].unique()\n",
    "g = np.zeros(len(data))\n",
    "for u_i, u_id in enumerate(unique_ids):\n",
    "    g[data['subject_id'] == u_id] = u_i"
   ]
  },
  {
   "cell_type": "markdown",
   "metadata": {},
   "source": [
    "## Calculate stats"
   ]
  },
  {
   "cell_type": "code",
   "execution_count": 17,
   "metadata": {},
   "outputs": [],
   "source": [
    "one_hot_data, one_hot_vars = one_hot_from_table(data, beh_before=[], beh_after=[], \n",
    "                                         enc_subjects=False, enc_beh_interactions=False, \n",
    "                                         beh_interactions=mdl_trans)"
   ]
  },
  {
   "cell_type": "code",
   "execution_count": 18,
   "metadata": {},
   "outputs": [
    {
     "name": "stdout",
     "output_type": "stream",
     "text": [
      "[22.11334439 19.57038579 17.34935157 17.17556404 14.17744688 12.40967365\n",
      " 10.29563014  8.77496439  7.81024968  7.14142843  5.74456265]\n"
     ]
    }
   ],
   "source": [
    "_, v, _ = np.linalg.svd(one_hot_data)\n",
    "print(v)\n",
    "if np.min(v) < .001:\n",
    "    raise(RuntimeError('regressors are nearly co-linear'))"
   ]
  },
  {
   "cell_type": "code",
   "execution_count": 19,
   "metadata": {},
   "outputs": [],
   "source": [
    "beta, acm, n_gprs = grouped_linear_regression_ols_estimator(x=one_hot_data, y=dff, g=g)\n",
    "stats = grouped_linear_regression_acm_stats(beta=beta, acm=acm, n_grps=n_gprs, alpha=.05)"
   ]
  },
  {
   "cell_type": "markdown",
   "metadata": {},
   "source": [
    "## View results in table form"
   ]
  },
  {
   "cell_type": "code",
   "execution_count": 20,
   "metadata": {},
   "outputs": [],
   "source": [
    "rs = pd.DataFrame(data=np.stack([beta, stats['non_zero_p']]).transpose(), index=one_hot_vars, \n",
    "                  columns=['beta', 'p'])"
   ]
  },
  {
   "cell_type": "code",
   "execution_count": 21,
   "metadata": {},
   "outputs": [],
   "source": [
    "def color_small_p(val):\n",
    "    color = 'red' if val < .05 else 'black'\n",
    "    return 'color: %s' % color"
   ]
  },
  {
   "cell_type": "code",
   "execution_count": 22,
   "metadata": {},
   "outputs": [
    {
     "data": {
      "text/html": [
       "<style  type=\"text/css\" >\n",
       "    #T_4edaf9e4_cebf_11ea_bfb9_8c8590bad028row0_col1 {\n",
       "            color:  red;\n",
       "        }    #T_4edaf9e4_cebf_11ea_bfb9_8c8590bad028row1_col1 {\n",
       "            color:  red;\n",
       "        }    #T_4edaf9e4_cebf_11ea_bfb9_8c8590bad028row2_col1 {\n",
       "            color:  red;\n",
       "        }    #T_4edaf9e4_cebf_11ea_bfb9_8c8590bad028row3_col1 {\n",
       "            color:  red;\n",
       "        }    #T_4edaf9e4_cebf_11ea_bfb9_8c8590bad028row4_col1 {\n",
       "            color:  red;\n",
       "        }    #T_4edaf9e4_cebf_11ea_bfb9_8c8590bad028row5_col1 {\n",
       "            color:  red;\n",
       "        }    #T_4edaf9e4_cebf_11ea_bfb9_8c8590bad028row6_col1 {\n",
       "            color:  red;\n",
       "        }    #T_4edaf9e4_cebf_11ea_bfb9_8c8590bad028row7_col1 {\n",
       "            color:  red;\n",
       "        }    #T_4edaf9e4_cebf_11ea_bfb9_8c8590bad028row8_col1 {\n",
       "            color:  red;\n",
       "        }    #T_4edaf9e4_cebf_11ea_bfb9_8c8590bad028row9_col1 {\n",
       "            color:  red;\n",
       "        }    #T_4edaf9e4_cebf_11ea_bfb9_8c8590bad028row10_col1 {\n",
       "            color:  red;\n",
       "        }</style><table id=\"T_4edaf9e4_cebf_11ea_bfb9_8c8590bad028\" ><thead>    <tr>        <th class=\"blank level0\" ></th>        <th class=\"col_heading level0 col0\" >beta</th>        <th class=\"col_heading level0 col1\" >p</th>    </tr></thead><tbody>\n",
       "                <tr>\n",
       "                        <th id=\"T_4edaf9e4_cebf_11ea_bfb9_8c8590bad028level0_row0\" class=\"row_heading level0 row0\" >beh_interact_BB</th>\n",
       "                        <td id=\"T_4edaf9e4_cebf_11ea_bfb9_8c8590bad028row0_col0\" class=\"data row0 col0\" >0.0764013</td>\n",
       "                        <td id=\"T_4edaf9e4_cebf_11ea_bfb9_8c8590bad028row0_col1\" class=\"data row0 col1\" >5.10916e-07</td>\n",
       "            </tr>\n",
       "            <tr>\n",
       "                        <th id=\"T_4edaf9e4_cebf_11ea_bfb9_8c8590bad028level0_row1\" class=\"row_heading level0 row1\" >beh_interact_BF</th>\n",
       "                        <td id=\"T_4edaf9e4_cebf_11ea_bfb9_8c8590bad028row1_col0\" class=\"data row1 col0\" >0.0763019</td>\n",
       "                        <td id=\"T_4edaf9e4_cebf_11ea_bfb9_8c8590bad028row1_col1\" class=\"data row1 col1\" >7.82785e-06</td>\n",
       "            </tr>\n",
       "            <tr>\n",
       "                        <th id=\"T_4edaf9e4_cebf_11ea_bfb9_8c8590bad028level0_row2\" class=\"row_heading level0 row2\" >beh_interact_BQ</th>\n",
       "                        <td id=\"T_4edaf9e4_cebf_11ea_bfb9_8c8590bad028row2_col0\" class=\"data row2 col0\" >0.0942642</td>\n",
       "                        <td id=\"T_4edaf9e4_cebf_11ea_bfb9_8c8590bad028row2_col1\" class=\"data row2 col1\" >0.00345968</td>\n",
       "            </tr>\n",
       "            <tr>\n",
       "                        <th id=\"T_4edaf9e4_cebf_11ea_bfb9_8c8590bad028level0_row3\" class=\"row_heading level0 row3\" >beh_interact_BT</th>\n",
       "                        <td id=\"T_4edaf9e4_cebf_11ea_bfb9_8c8590bad028row3_col0\" class=\"data row3 col0\" >0.101603</td>\n",
       "                        <td id=\"T_4edaf9e4_cebf_11ea_bfb9_8c8590bad028row3_col1\" class=\"data row3 col1\" >0.0134278</td>\n",
       "            </tr>\n",
       "            <tr>\n",
       "                        <th id=\"T_4edaf9e4_cebf_11ea_bfb9_8c8590bad028level0_row4\" class=\"row_heading level0 row4\" >beh_interact_FF</th>\n",
       "                        <td id=\"T_4edaf9e4_cebf_11ea_bfb9_8c8590bad028row4_col0\" class=\"data row4 col0\" >0.05494</td>\n",
       "                        <td id=\"T_4edaf9e4_cebf_11ea_bfb9_8c8590bad028row4_col1\" class=\"data row4 col1\" >1.4631e-05</td>\n",
       "            </tr>\n",
       "            <tr>\n",
       "                        <th id=\"T_4edaf9e4_cebf_11ea_bfb9_8c8590bad028level0_row5\" class=\"row_heading level0 row5\" >beh_interact_OF</th>\n",
       "                        <td id=\"T_4edaf9e4_cebf_11ea_bfb9_8c8590bad028row5_col0\" class=\"data row5 col0\" >0.113146</td>\n",
       "                        <td id=\"T_4edaf9e4_cebf_11ea_bfb9_8c8590bad028row5_col1\" class=\"data row5 col1\" >0.0216872</td>\n",
       "            </tr>\n",
       "            <tr>\n",
       "                        <th id=\"T_4edaf9e4_cebf_11ea_bfb9_8c8590bad028level0_row6\" class=\"row_heading level0 row6\" >beh_interact_QF</th>\n",
       "                        <td id=\"T_4edaf9e4_cebf_11ea_bfb9_8c8590bad028row6_col0\" class=\"data row6 col0\" >0.0229929</td>\n",
       "                        <td id=\"T_4edaf9e4_cebf_11ea_bfb9_8c8590bad028row6_col1\" class=\"data row6 col1\" >0.000135727</td>\n",
       "            </tr>\n",
       "            <tr>\n",
       "                        <th id=\"T_4edaf9e4_cebf_11ea_bfb9_8c8590bad028level0_row7\" class=\"row_heading level0 row7\" >beh_interact_QO</th>\n",
       "                        <td id=\"T_4edaf9e4_cebf_11ea_bfb9_8c8590bad028row7_col0\" class=\"data row7 col0\" >0.0151849</td>\n",
       "                        <td id=\"T_4edaf9e4_cebf_11ea_bfb9_8c8590bad028row7_col1\" class=\"data row7 col1\" >8.41199e-22</td>\n",
       "            </tr>\n",
       "            <tr>\n",
       "                        <th id=\"T_4edaf9e4_cebf_11ea_bfb9_8c8590bad028level0_row8\" class=\"row_heading level0 row8\" >beh_interact_QQ</th>\n",
       "                        <td id=\"T_4edaf9e4_cebf_11ea_bfb9_8c8590bad028row8_col0\" class=\"data row8 col0\" >0.0157179</td>\n",
       "                        <td id=\"T_4edaf9e4_cebf_11ea_bfb9_8c8590bad028row8_col1\" class=\"data row8 col1\" >5.84271e-13</td>\n",
       "            </tr>\n",
       "            <tr>\n",
       "                        <th id=\"T_4edaf9e4_cebf_11ea_bfb9_8c8590bad028level0_row9\" class=\"row_heading level0 row9\" >beh_interact_TB</th>\n",
       "                        <td id=\"T_4edaf9e4_cebf_11ea_bfb9_8c8590bad028row9_col0\" class=\"data row9 col0\" >0.0677486</td>\n",
       "                        <td id=\"T_4edaf9e4_cebf_11ea_bfb9_8c8590bad028row9_col1\" class=\"data row9 col1\" >1.5092e-05</td>\n",
       "            </tr>\n",
       "            <tr>\n",
       "                        <th id=\"T_4edaf9e4_cebf_11ea_bfb9_8c8590bad028level0_row10\" class=\"row_heading level0 row10\" >beh_interact_TF</th>\n",
       "                        <td id=\"T_4edaf9e4_cebf_11ea_bfb9_8c8590bad028row10_col0\" class=\"data row10 col0\" >0.116891</td>\n",
       "                        <td id=\"T_4edaf9e4_cebf_11ea_bfb9_8c8590bad028row10_col1\" class=\"data row10 col1\" >0.00246019</td>\n",
       "            </tr>\n",
       "    </tbody></table>"
      ],
      "text/plain": [
       "<pandas.io.formats.style.Styler at 0x12c613470>"
      ]
     },
     "execution_count": 22,
     "metadata": {},
     "output_type": "execute_result"
    }
   ],
   "source": [
    "rs.style.applymap(color_small_p, subset=['p'])"
   ]
  },
  {
   "cell_type": "markdown",
   "metadata": {},
   "source": [
    "## View results in plot form"
   ]
  },
  {
   "cell_type": "markdown",
   "metadata": {},
   "source": [
    "#### Group and color coefficents by behavior before manipulation"
   ]
  },
  {
   "cell_type": "code",
   "execution_count": 23,
   "metadata": {},
   "outputs": [],
   "source": [
    "before_order, before_clrs = order_and_color_interaction_terms(terms=[t[-2:] for t in one_hot_vars], \n",
    "                                                              colors=clrs, sort_by_before=True)"
   ]
  },
  {
   "cell_type": "code",
   "execution_count": 24,
   "metadata": {},
   "outputs": [],
   "source": [
    "visualize_coefficient_stats(var_strs=[one_hot_vars[i] for i in before_order], \n",
    "                            theta=beta[before_order], c_ints=stats['c_ints'][:, before_order],\n",
    "                            sig=stats['non_zero'][before_order],\n",
    "                            var_clrs=before_clrs)\n",
    "\n",
    "plt.tight_layout()\n",
    "plt.ylabel('$\\Delta F / F$')\n",
    "plt.title('Grouped by Preceeding Behavior')\n",
    "fig = plt.gcf()\n",
    "fig.set_size_inches(8, 6)"
   ]
  },
  {
   "cell_type": "markdown",
   "metadata": {},
   "source": [
    "#### Group and color coefficents by behavior after manipulation"
   ]
  },
  {
   "cell_type": "code",
   "execution_count": 25,
   "metadata": {},
   "outputs": [],
   "source": [
    "after_order, after_clrs = order_and_color_interaction_terms(terms=[t[-2:] for t in one_hot_vars], \n",
    "                                                            colors=clrs, sort_by_before=False)"
   ]
  },
  {
   "cell_type": "code",
   "execution_count": 26,
   "metadata": {},
   "outputs": [],
   "source": [
    "visualize_coefficient_stats(var_strs=[one_hot_vars[i] for i in after_order], \n",
    "                            theta=beta[after_order], c_ints=stats['c_ints'][:, after_order], \n",
    "                            sig=stats['non_zero'][after_order],\n",
    "                            var_clrs=after_clrs)\n",
    "plt.ylabel('$\\Delta F / F$')\n",
    "plt.title('Grouped by Succeeding Behavior')\n",
    "plt.tight_layout()\n",
    "fig = plt.gcf()\n",
    "fig.set_size_inches(8, 6)"
   ]
  },
  {
   "cell_type": "code",
   "execution_count": 27,
   "metadata": {},
   "outputs": [
    {
     "data": {
      "text/plain": [
       "[('B', 'B'),\n",
       " ('B', 'F'),\n",
       " ('B', 'Q'),\n",
       " ('B', 'T'),\n",
       " ('F', 'F'),\n",
       " ('O', 'F'),\n",
       " ('Q', 'F'),\n",
       " ('Q', 'O'),\n",
       " ('Q', 'Q'),\n",
       " ('T', 'B'),\n",
       " ('T', 'F')]"
      ]
     },
     "execution_count": 27,
     "metadata": {},
     "output_type": "execute_result"
    }
   ],
   "source": [
    "mdl_trans"
   ]
  },
  {
   "cell_type": "code",
   "execution_count": 28,
   "metadata": {},
   "outputs": [],
   "source": [
    "interactions = [term[0] + term [1] for term in mdl_trans]"
   ]
  },
  {
   "cell_type": "code",
   "execution_count": 29,
   "metadata": {},
   "outputs": [
    {
     "data": {
      "text/plain": [
       "['BB', 'BF', 'BQ', 'BT', 'FF', 'OF', 'QF', 'QO', 'QQ', 'TB', 'TF']"
      ]
     },
     "execution_count": 29,
     "metadata": {},
     "output_type": "execute_result"
    }
   ],
   "source": [
    "interactions"
   ]
  },
  {
   "cell_type": "code",
   "execution_count": null,
   "metadata": {},
   "outputs": [],
   "source": []
  }
 ],
 "metadata": {
  "kernelspec": {
   "display_name": "Python 3",
   "language": "python",
   "name": "python3"
  },
  "language_info": {
   "codemirror_mode": {
    "name": "ipython",
    "version": 3
   },
   "file_extension": ".py",
   "mimetype": "text/x-python",
   "name": "python",
   "nbconvert_exporter": "python",
   "pygments_lexer": "ipython3",
   "version": "3.7.3"
  }
 },
 "nbformat": 4,
 "nbformat_minor": 2
}
