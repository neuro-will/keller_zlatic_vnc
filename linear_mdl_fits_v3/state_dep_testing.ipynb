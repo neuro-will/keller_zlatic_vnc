{
 "cells": [
  {
   "cell_type": "markdown",
   "metadata": {},
   "source": [
    "Tests for state dependency, which we define as $\\Delta F/F$ after the perturbation which encodes behavior before, for a particular behavior vs. all other behaviors. When testing, we include dependence in our model on specifici behaviors after the manipulation, to control for correlation between before and after behaviors."
   ]
  },
  {
   "cell_type": "code",
   "execution_count": 1,
   "metadata": {},
   "outputs": [],
   "source": [
    "%load_ext autoreload\n",
    "%autoreload 2"
   ]
  },
  {
   "cell_type": "code",
   "execution_count": 2,
   "metadata": {},
   "outputs": [],
   "source": [
    "#%matplotlib qt"
   ]
  },
  {
   "cell_type": "code",
   "execution_count": 3,
   "metadata": {},
   "outputs": [
    {
     "name": "stderr",
     "output_type": "stream",
     "text": [
      "/Users/williambishop/Documents/Janelia_Research/Projects/janelia_core/janelia_core/fileio/exp_reader.py:21: UserWarning: Unable to locate pyklb module.  Will not be able to read in .klb files.\n",
      "  warnings.warn('Unable to locate pyklb module.  Will not be able to read in .klb files.')\n"
     ]
    }
   ],
   "source": [
    "import pathlib\n",
    "\n",
    "import matplotlib.pyplot as plt\n",
    "import numpy as np\n",
    "import pandas as pd\n",
    "import scipy.io\n",
    "\n",
    "from keller_zlatic_vnc.data_processing import count_unique_subjs_per_transition\n",
    "from keller_zlatic_vnc.data_processing import extract_transitions\n",
    "from keller_zlatic_vnc.data_processing import generate_transition_dff_table\n",
    "from keller_zlatic_vnc.data_processing import read_raw_transitions_from_excel\n",
    "from keller_zlatic_vnc.data_processing import recode_beh\n",
    "from keller_zlatic_vnc.linear_modeling import one_hot_from_table\n",
    "from keller_zlatic_vnc.linear_modeling import order_and_color_interaction_terms\n",
    "from keller_zlatic_vnc.linear_modeling import reference_one_hot_to_beh\n",
    "\n",
    "\n",
    "from janelia_core.stats.regression import grouped_linear_regression_ols_estimator\n",
    "from janelia_core.stats.regression import grouped_linear_regression_acm_stats\n",
    "from janelia_core.stats.regression import visualize_coefficient_stats"
   ]
  },
  {
   "cell_type": "code",
   "execution_count": 4,
   "metadata": {},
   "outputs": [],
   "source": [
    "plt.rc('font', family='arial', weight='normal', size=15)"
   ]
  },
  {
   "cell_type": "markdown",
   "metadata": {},
   "source": [
    "## Options for analysis"
   ]
  },
  {
   "cell_type": "code",
   "execution_count": 5,
   "metadata": {},
   "outputs": [],
   "source": [
    "# Type of cells we fit models to\n",
    "cell_type = 'handle' \n",
    "\n",
    "# If we fit data to perturbations targeted at 'A4', 'A9' or 'both'\n",
    "manip_type = 'both'\n",
    "\n",
    "# Define the cutoff time we use to define quiet behaviors following stimulation\n",
    "cut_off_time = 3.656#3.656 #9.0034\n",
    "\n",
    "# Behavior that activity after the stimulus is referened to\n",
    "after_beh_ref = 'F'"
   ]
  },
  {
   "cell_type": "markdown",
   "metadata": {},
   "source": [
    "## Location of the data"
   ]
  },
  {
   "cell_type": "code",
   "execution_count": 6,
   "metadata": {},
   "outputs": [],
   "source": [
    "data_folder = r'/Users/williambishop/Desktop/extracted_dff_v2'\n",
    "transition_file = 'transition_list.xlsx'\n",
    "\n",
    "a00c_a4_act_data_file = 'A00c_activity_A4.mat'\n",
    "a00c_a9_act_data_file = 'A00c_activity_A9.mat'\n",
    "\n",
    "basin_a4_act_data_file = 'Basin_activity_A4.mat'\n",
    "basin_a9_act_data_file = 'Basin_activity_A9.mat'\n",
    "\n",
    "handle_a4_act_data_file = 'Handle_activity_A4.mat'\n",
    "handle_a9_act_data_file = 'Handle_activity_A9.mat'"
   ]
  },
  {
   "cell_type": "markdown",
   "metadata": {},
   "source": [
    "## Specify some parameters we use in the code below"
   ]
  },
  {
   "cell_type": "code",
   "execution_count": 7,
   "metadata": {},
   "outputs": [],
   "source": [
    "if cell_type == 'a00c':\n",
    "    a4_act_file = a00c_a4_act_data_file\n",
    "    a9_act_file = a00c_a9_act_data_file\n",
    "elif cell_type == 'basin':\n",
    "    a4_act_file = basin_a4_act_data_file\n",
    "    a9_act_file = basin_a9_act_data_file\n",
    "elif cell_type == 'handle':\n",
    "    a4_act_file = handle_a4_act_data_file\n",
    "    a9_act_file = handle_a9_act_data_file\n",
    "else:\n",
    "    raise(ValueError('The cell type ' + cell_type + ' is not recogonized.'))"
   ]
  },
  {
   "cell_type": "markdown",
   "metadata": {},
   "source": [
    "## Load data"
   ]
  },
  {
   "cell_type": "code",
   "execution_count": 8,
   "metadata": {},
   "outputs": [],
   "source": [
    "# Read in raw transitions\n",
    "raw_trans = read_raw_transitions_from_excel(pathlib.Path(data_folder) / transition_file)\n",
    "\n",
    "# Read in activity\n",
    "a4_act = scipy.io.loadmat(pathlib.Path(data_folder) / a4_act_file, squeeze_me=True)\n",
    "a9_act = scipy.io.loadmat(pathlib.Path(data_folder) / a9_act_file, squeeze_me=True)\n",
    "\n",
    "# Correct mistake in labeling if we need to\n",
    "if cell_type == 'basin' or cell_type == 'handle':\n",
    "    ind = np.argwhere(a4_act['newTransitions'] == '0824L2CL')[1][0]\n",
    "    a4_act['newTransitions'][ind] = '0824L2-2CL'\n",
    "\n",
    "# Recode behavioral annotations\n",
    "raw_trans = recode_beh(raw_trans, 'Beh Before')\n",
    "raw_trans = recode_beh(raw_trans, 'Beh After')\n",
    "\n",
    "# Extract transitions\n",
    "trans = extract_transitions(raw_trans, cut_off_time)\n",
    "\n",
    "# Generate table of data \n",
    "a4table = generate_transition_dff_table(act_data=a4_act, trans=trans)\n",
    "a9table = generate_transition_dff_table(act_data=a9_act, trans=trans)\n",
    "\n",
    "# Put the tables together\n",
    "a4table['man_tgt'] = 'A4'\n",
    "a9table['man_tgt'] = 'A9'\n",
    "data = a4table.append(a9table, ignore_index=True)"
   ]
  },
  {
   "cell_type": "markdown",
   "metadata": {},
   "source": [
    "## Down select for manipulation target"
   ]
  },
  {
   "cell_type": "code",
   "execution_count": 9,
   "metadata": {},
   "outputs": [
    {
     "name": "stdout",
     "output_type": "stream",
     "text": [
      "Analyzing all manipulation events.\n"
     ]
    }
   ],
   "source": [
    "if manip_type == 'A4' or manip_type == 'a4':\n",
    "    print('Analyzing only A4 manipulation events.')\n",
    "    data = data[data['man_tgt'] == 'A4']\n",
    "elif manip_type == 'A9' or manip_type == 'a9':\n",
    "    print('Analyzing only A9 manipulation events.')\n",
    "    data = data[data['man_tgt'] == 'A9']\n",
    "else:\n",
    "    print('Analyzing all manipulation events.')"
   ]
  },
  {
   "cell_type": "markdown",
   "metadata": {},
   "source": [
    "## Determine which behaviors are present before and after the manipulation"
   ]
  },
  {
   "cell_type": "code",
   "execution_count": 10,
   "metadata": {},
   "outputs": [],
   "source": [
    "trans_subj_cnts = count_unique_subjs_per_transition(data)"
   ]
  },
  {
   "cell_type": "code",
   "execution_count": 11,
   "metadata": {},
   "outputs": [
    {
     "data": {
      "text/html": [
       "<div>\n",
       "<style scoped>\n",
       "    .dataframe tbody tr th:only-of-type {\n",
       "        vertical-align: middle;\n",
       "    }\n",
       "\n",
       "    .dataframe tbody tr th {\n",
       "        vertical-align: top;\n",
       "    }\n",
       "\n",
       "    .dataframe thead th {\n",
       "        text-align: right;\n",
       "    }\n",
       "</style>\n",
       "<table border=\"1\" class=\"dataframe\">\n",
       "  <thead>\n",
       "    <tr style=\"text-align: right;\">\n",
       "      <th></th>\n",
       "      <th>subject_id</th>\n",
       "      <th>cell_id</th>\n",
       "      <th>event_id</th>\n",
       "      <th>beh_before</th>\n",
       "      <th>beh_after</th>\n",
       "      <th>dff_before</th>\n",
       "      <th>dff_during</th>\n",
       "      <th>dff_after</th>\n",
       "      <th>man_tgt</th>\n",
       "    </tr>\n",
       "  </thead>\n",
       "  <tbody>\n",
       "    <tr>\n",
       "      <td>0</td>\n",
       "      <td>CW_17-08-23-L2</td>\n",
       "      <td>11.0</td>\n",
       "      <td>0</td>\n",
       "      <td>F</td>\n",
       "      <td>B</td>\n",
       "      <td>0.005696</td>\n",
       "      <td>0.274746</td>\n",
       "      <td>0.589443</td>\n",
       "      <td>A4</td>\n",
       "    </tr>\n",
       "    <tr>\n",
       "      <td>1</td>\n",
       "      <td>CW_17-08-23-L2</td>\n",
       "      <td>11.0</td>\n",
       "      <td>1</td>\n",
       "      <td>F</td>\n",
       "      <td>B</td>\n",
       "      <td>-0.004324</td>\n",
       "      <td>0.108657</td>\n",
       "      <td>0.383802</td>\n",
       "      <td>A4</td>\n",
       "    </tr>\n",
       "    <tr>\n",
       "      <td>2</td>\n",
       "      <td>CW_17-08-23-L2</td>\n",
       "      <td>11.0</td>\n",
       "      <td>2</td>\n",
       "      <td>F</td>\n",
       "      <td>B</td>\n",
       "      <td>-0.023979</td>\n",
       "      <td>0.152021</td>\n",
       "      <td>0.332981</td>\n",
       "      <td>A4</td>\n",
       "    </tr>\n",
       "    <tr>\n",
       "      <td>3</td>\n",
       "      <td>CW_17-08-23-L2</td>\n",
       "      <td>11.0</td>\n",
       "      <td>0</td>\n",
       "      <td>F</td>\n",
       "      <td>B</td>\n",
       "      <td>-0.001543</td>\n",
       "      <td>0.515289</td>\n",
       "      <td>0.923596</td>\n",
       "      <td>A4</td>\n",
       "    </tr>\n",
       "    <tr>\n",
       "      <td>4</td>\n",
       "      <td>CW_17-08-23-L2</td>\n",
       "      <td>11.0</td>\n",
       "      <td>1</td>\n",
       "      <td>F</td>\n",
       "      <td>B</td>\n",
       "      <td>0.017293</td>\n",
       "      <td>0.119278</td>\n",
       "      <td>0.294427</td>\n",
       "      <td>A4</td>\n",
       "    </tr>\n",
       "    <tr>\n",
       "      <td>...</td>\n",
       "      <td>...</td>\n",
       "      <td>...</td>\n",
       "      <td>...</td>\n",
       "      <td>...</td>\n",
       "      <td>...</td>\n",
       "      <td>...</td>\n",
       "      <td>...</td>\n",
       "      <td>...</td>\n",
       "      <td>...</td>\n",
       "    </tr>\n",
       "    <tr>\n",
       "      <td>3208</td>\n",
       "      <td>CW_17-11-08-L3</td>\n",
       "      <td>4.0</td>\n",
       "      <td>2</td>\n",
       "      <td>Q</td>\n",
       "      <td>F</td>\n",
       "      <td>0.028811</td>\n",
       "      <td>0.403325</td>\n",
       "      <td>0.842192</td>\n",
       "      <td>A9</td>\n",
       "    </tr>\n",
       "    <tr>\n",
       "      <td>3209</td>\n",
       "      <td>CW_17-11-08-L3</td>\n",
       "      <td>4.0</td>\n",
       "      <td>3</td>\n",
       "      <td>Q</td>\n",
       "      <td>F</td>\n",
       "      <td>0.006838</td>\n",
       "      <td>0.398595</td>\n",
       "      <td>0.730813</td>\n",
       "      <td>A9</td>\n",
       "    </tr>\n",
       "    <tr>\n",
       "      <td>3210</td>\n",
       "      <td>CW_17-11-08-L3</td>\n",
       "      <td>4.0</td>\n",
       "      <td>4</td>\n",
       "      <td>Q</td>\n",
       "      <td>F</td>\n",
       "      <td>0.007750</td>\n",
       "      <td>0.222275</td>\n",
       "      <td>0.528680</td>\n",
       "      <td>A9</td>\n",
       "    </tr>\n",
       "    <tr>\n",
       "      <td>3211</td>\n",
       "      <td>CW_17-11-08-L3</td>\n",
       "      <td>4.0</td>\n",
       "      <td>5</td>\n",
       "      <td>Q</td>\n",
       "      <td>P</td>\n",
       "      <td>0.002588</td>\n",
       "      <td>0.208364</td>\n",
       "      <td>0.350184</td>\n",
       "      <td>A9</td>\n",
       "    </tr>\n",
       "    <tr>\n",
       "      <td>3212</td>\n",
       "      <td>CW_17-11-08-L3</td>\n",
       "      <td>4.0</td>\n",
       "      <td>6</td>\n",
       "      <td>Q</td>\n",
       "      <td>F</td>\n",
       "      <td>0.007424</td>\n",
       "      <td>0.246851</td>\n",
       "      <td>0.495553</td>\n",
       "      <td>A9</td>\n",
       "    </tr>\n",
       "  </tbody>\n",
       "</table>\n",
       "<p>3213 rows × 9 columns</p>\n",
       "</div>"
      ],
      "text/plain": [
       "          subject_id  cell_id event_id beh_before beh_after  dff_before  \\\n",
       "0     CW_17-08-23-L2     11.0        0          F         B    0.005696   \n",
       "1     CW_17-08-23-L2     11.0        1          F         B   -0.004324   \n",
       "2     CW_17-08-23-L2     11.0        2          F         B   -0.023979   \n",
       "3     CW_17-08-23-L2     11.0        0          F         B   -0.001543   \n",
       "4     CW_17-08-23-L2     11.0        1          F         B    0.017293   \n",
       "...              ...      ...      ...        ...       ...         ...   \n",
       "3208  CW_17-11-08-L3      4.0        2          Q         F    0.028811   \n",
       "3209  CW_17-11-08-L3      4.0        3          Q         F    0.006838   \n",
       "3210  CW_17-11-08-L3      4.0        4          Q         F    0.007750   \n",
       "3211  CW_17-11-08-L3      4.0        5          Q         P    0.002588   \n",
       "3212  CW_17-11-08-L3      4.0        6          Q         F    0.007424   \n",
       "\n",
       "      dff_during  dff_after man_tgt  \n",
       "0       0.274746   0.589443      A4  \n",
       "1       0.108657   0.383802      A4  \n",
       "2       0.152021   0.332981      A4  \n",
       "3       0.515289   0.923596      A4  \n",
       "4       0.119278   0.294427      A4  \n",
       "...          ...        ...     ...  \n",
       "3208    0.403325   0.842192      A9  \n",
       "3209    0.398595   0.730813      A9  \n",
       "3210    0.222275   0.528680      A9  \n",
       "3211    0.208364   0.350184      A9  \n",
       "3212    0.246851   0.495553      A9  \n",
       "\n",
       "[3213 rows x 9 columns]"
      ]
     },
     "execution_count": 11,
     "metadata": {},
     "output_type": "execute_result"
    }
   ],
   "source": [
    "data"
   ]
  },
  {
   "cell_type": "code",
   "execution_count": 38,
   "metadata": {},
   "outputs": [],
   "source": [
    "before_keep_rows = data['beh_before'].apply(lambda x: x in set(['F', 'Q']))\n",
    "after_keep_rows = data['beh_after'].apply(lambda x: x in set(['P', 'B']))"
   ]
  },
  {
   "cell_type": "code",
   "execution_count": 39,
   "metadata": {},
   "outputs": [
    {
     "data": {
      "text/html": [
       "<div>\n",
       "<style scoped>\n",
       "    .dataframe tbody tr th:only-of-type {\n",
       "        vertical-align: middle;\n",
       "    }\n",
       "\n",
       "    .dataframe tbody tr th {\n",
       "        vertical-align: top;\n",
       "    }\n",
       "\n",
       "    .dataframe thead th {\n",
       "        text-align: right;\n",
       "    }\n",
       "</style>\n",
       "<table border=\"1\" class=\"dataframe\">\n",
       "  <thead>\n",
       "    <tr style=\"text-align: right;\">\n",
       "      <th></th>\n",
       "      <th>subject_id</th>\n",
       "      <th>cell_id</th>\n",
       "      <th>event_id</th>\n",
       "      <th>beh_before</th>\n",
       "      <th>beh_after</th>\n",
       "      <th>dff_before</th>\n",
       "      <th>dff_during</th>\n",
       "      <th>dff_after</th>\n",
       "      <th>man_tgt</th>\n",
       "    </tr>\n",
       "  </thead>\n",
       "  <tbody>\n",
       "    <tr>\n",
       "      <td>0</td>\n",
       "      <td>CW_17-08-23-L2</td>\n",
       "      <td>11.0</td>\n",
       "      <td>0</td>\n",
       "      <td>F</td>\n",
       "      <td>B</td>\n",
       "      <td>0.005696</td>\n",
       "      <td>0.274746</td>\n",
       "      <td>0.589443</td>\n",
       "      <td>A4</td>\n",
       "    </tr>\n",
       "    <tr>\n",
       "      <td>1</td>\n",
       "      <td>CW_17-08-23-L2</td>\n",
       "      <td>11.0</td>\n",
       "      <td>1</td>\n",
       "      <td>F</td>\n",
       "      <td>B</td>\n",
       "      <td>-0.004324</td>\n",
       "      <td>0.108657</td>\n",
       "      <td>0.383802</td>\n",
       "      <td>A4</td>\n",
       "    </tr>\n",
       "    <tr>\n",
       "      <td>2</td>\n",
       "      <td>CW_17-08-23-L2</td>\n",
       "      <td>11.0</td>\n",
       "      <td>2</td>\n",
       "      <td>F</td>\n",
       "      <td>B</td>\n",
       "      <td>-0.023979</td>\n",
       "      <td>0.152021</td>\n",
       "      <td>0.332981</td>\n",
       "      <td>A4</td>\n",
       "    </tr>\n",
       "    <tr>\n",
       "      <td>3</td>\n",
       "      <td>CW_17-08-23-L2</td>\n",
       "      <td>11.0</td>\n",
       "      <td>0</td>\n",
       "      <td>F</td>\n",
       "      <td>B</td>\n",
       "      <td>-0.001543</td>\n",
       "      <td>0.515289</td>\n",
       "      <td>0.923596</td>\n",
       "      <td>A4</td>\n",
       "    </tr>\n",
       "    <tr>\n",
       "      <td>4</td>\n",
       "      <td>CW_17-08-23-L2</td>\n",
       "      <td>11.0</td>\n",
       "      <td>1</td>\n",
       "      <td>F</td>\n",
       "      <td>B</td>\n",
       "      <td>0.017293</td>\n",
       "      <td>0.119278</td>\n",
       "      <td>0.294427</td>\n",
       "      <td>A4</td>\n",
       "    </tr>\n",
       "    <tr>\n",
       "      <td>...</td>\n",
       "      <td>...</td>\n",
       "      <td>...</td>\n",
       "      <td>...</td>\n",
       "      <td>...</td>\n",
       "      <td>...</td>\n",
       "      <td>...</td>\n",
       "      <td>...</td>\n",
       "      <td>...</td>\n",
       "      <td>...</td>\n",
       "    </tr>\n",
       "    <tr>\n",
       "      <td>3183</td>\n",
       "      <td>CW_17-11-08-L3</td>\n",
       "      <td>1.0</td>\n",
       "      <td>5</td>\n",
       "      <td>Q</td>\n",
       "      <td>P</td>\n",
       "      <td>0.009342</td>\n",
       "      <td>0.092434</td>\n",
       "      <td>0.250846</td>\n",
       "      <td>A9</td>\n",
       "    </tr>\n",
       "    <tr>\n",
       "      <td>3190</td>\n",
       "      <td>CW_17-11-08-L3</td>\n",
       "      <td>5.0</td>\n",
       "      <td>5</td>\n",
       "      <td>Q</td>\n",
       "      <td>P</td>\n",
       "      <td>0.018738</td>\n",
       "      <td>0.061997</td>\n",
       "      <td>0.054916</td>\n",
       "      <td>A9</td>\n",
       "    </tr>\n",
       "    <tr>\n",
       "      <td>3197</td>\n",
       "      <td>CW_17-11-08-L3</td>\n",
       "      <td>8.0</td>\n",
       "      <td>5</td>\n",
       "      <td>Q</td>\n",
       "      <td>P</td>\n",
       "      <td>-0.007937</td>\n",
       "      <td>0.485015</td>\n",
       "      <td>0.264182</td>\n",
       "      <td>A9</td>\n",
       "    </tr>\n",
       "    <tr>\n",
       "      <td>3204</td>\n",
       "      <td>CW_17-11-08-L3</td>\n",
       "      <td>4.0</td>\n",
       "      <td>5</td>\n",
       "      <td>Q</td>\n",
       "      <td>P</td>\n",
       "      <td>0.001380</td>\n",
       "      <td>0.132986</td>\n",
       "      <td>0.171090</td>\n",
       "      <td>A9</td>\n",
       "    </tr>\n",
       "    <tr>\n",
       "      <td>3211</td>\n",
       "      <td>CW_17-11-08-L3</td>\n",
       "      <td>4.0</td>\n",
       "      <td>5</td>\n",
       "      <td>Q</td>\n",
       "      <td>P</td>\n",
       "      <td>0.002588</td>\n",
       "      <td>0.208364</td>\n",
       "      <td>0.350184</td>\n",
       "      <td>A9</td>\n",
       "    </tr>\n",
       "  </tbody>\n",
       "</table>\n",
       "<p>203 rows × 9 columns</p>\n",
       "</div>"
      ],
      "text/plain": [
       "          subject_id  cell_id event_id beh_before beh_after  dff_before  \\\n",
       "0     CW_17-08-23-L2     11.0        0          F         B    0.005696   \n",
       "1     CW_17-08-23-L2     11.0        1          F         B   -0.004324   \n",
       "2     CW_17-08-23-L2     11.0        2          F         B   -0.023979   \n",
       "3     CW_17-08-23-L2     11.0        0          F         B   -0.001543   \n",
       "4     CW_17-08-23-L2     11.0        1          F         B    0.017293   \n",
       "...              ...      ...      ...        ...       ...         ...   \n",
       "3183  CW_17-11-08-L3      1.0        5          Q         P    0.009342   \n",
       "3190  CW_17-11-08-L3      5.0        5          Q         P    0.018738   \n",
       "3197  CW_17-11-08-L3      8.0        5          Q         P   -0.007937   \n",
       "3204  CW_17-11-08-L3      4.0        5          Q         P    0.001380   \n",
       "3211  CW_17-11-08-L3      4.0        5          Q         P    0.002588   \n",
       "\n",
       "      dff_during  dff_after man_tgt  \n",
       "0       0.274746   0.589443      A4  \n",
       "1       0.108657   0.383802      A4  \n",
       "2       0.152021   0.332981      A4  \n",
       "3       0.515289   0.923596      A4  \n",
       "4       0.119278   0.294427      A4  \n",
       "...          ...        ...     ...  \n",
       "3183    0.092434   0.250846      A9  \n",
       "3190    0.061997   0.054916      A9  \n",
       "3197    0.485015   0.264182      A9  \n",
       "3204    0.132986   0.171090      A9  \n",
       "3211    0.208364   0.350184      A9  \n",
       "\n",
       "[203 rows x 9 columns]"
      ]
     },
     "execution_count": 39,
     "metadata": {},
     "output_type": "execute_result"
    }
   ],
   "source": [
    "data[after_keep_rows & before_keep_rows]"
   ]
  },
  {
   "cell_type": "code",
   "execution_count": null,
   "metadata": {},
   "outputs": [],
   "source": [
    "after_beh_sum = trans_subj_cnts.sum()\n",
    "after_behs = [b for b in after_beh_sum[after_beh_sum > 0].index]\n",
    "\n",
    "before_beh_sum = trans_subj_cnts.sum(1)\n",
    "before_behs = [b for b in before_beh_sum[before_beh_sum > 0].index]"
   ]
  },
  {
   "cell_type": "markdown",
   "metadata": {},
   "source": [
    "## Pull out $\\Delta F/F$"
   ]
  },
  {
   "cell_type": "code",
   "execution_count": null,
   "metadata": {},
   "outputs": [],
   "source": [
    "dff = data['dff_after'].to_numpy()"
   ]
  },
  {
   "cell_type": "markdown",
   "metadata": {},
   "source": [
    "## Find grouping of data by subject"
   ]
  },
  {
   "cell_type": "code",
   "execution_count": null,
   "metadata": {},
   "outputs": [],
   "source": [
    "unique_ids = data['subject_id'].unique()\n",
    "g = np.zeros(len(data))\n",
    "for u_i, u_id in enumerate(unique_ids):\n",
    "    g[data['subject_id'] == u_id] = u_i"
   ]
  },
  {
   "cell_type": "markdown",
   "metadata": {},
   "source": [
    "## Fit models and calculate stats"
   ]
  },
  {
   "cell_type": "code",
   "execution_count": null,
   "metadata": {},
   "outputs": [],
   "source": [
    "after_behs_ref = list(set(after_behs).difference(after_beh_ref))"
   ]
  },
  {
   "cell_type": "code",
   "execution_count": null,
   "metadata": {},
   "outputs": [],
   "source": [
    "n_before_behs = len(before_behs)\n",
    "before_betas = np.zeros(n_before_behs)\n",
    "before_c_ints = np.zeros([2, n_before_behs])\n",
    "before_sig = np.zeros(n_before_behs, dtype=np.bool)\n",
    "for b_i, b in enumerate(before_behs):\n",
    "    one_hot_data_ref, one_hot_vars_ref = one_hot_from_table(data, beh_before=[b], beh_after=after_behs_ref)\n",
    "    one_hot_data_ref = np.concatenate([one_hot_data_ref, np.ones([one_hot_data_ref.shape[0], 1])], axis=1)\n",
    "    one_hot_vars_ref = one_hot_vars_ref + ['ref'] \n",
    "    \n",
    "    _, v, _ = np.linalg.svd(one_hot_data_ref)\n",
    "    if np.min(v) < .001:\n",
    "        raise(RuntimeError('regressors are nearly co-linear'))\n",
    "        \n",
    "    beta, acm, n_gprs = grouped_linear_regression_ols_estimator(x=one_hot_data_ref, y=dff, g=g)\n",
    "    stats = grouped_linear_regression_acm_stats(beta=beta, acm=acm, n_grps=n_gprs, alpha=.05)\n",
    "    \n",
    "    before_betas[b_i] = beta[0]\n",
    "    before_c_ints[:, b_i] = stats['c_ints'][:,0]\n",
    "    before_sig[b_i] = stats['non_zero'][0]"
   ]
  },
  {
   "cell_type": "markdown",
   "metadata": {},
   "source": [
    "## Visualize stats"
   ]
  },
  {
   "cell_type": "code",
   "execution_count": null,
   "metadata": {},
   "outputs": [],
   "source": [
    "visualize_coefficient_stats(var_strs=before_behs, theta=before_betas, c_ints=before_c_ints, sig=before_sig,\n",
    "                            x_axis_rot=0)\n",
    "plt.ylabel('$\\Delta F / F$')\n",
    "plt.xlabel('Behavior Before Manipulation')\n",
    "plt.tight_layout()\n",
    "fig = plt.gcf()\n",
    "fig.set_size_inches(8, 6)"
   ]
  },
  {
   "cell_type": "code",
   "execution_count": null,
   "metadata": {},
   "outputs": [],
   "source": []
  }
 ],
 "metadata": {
  "kernelspec": {
   "display_name": "Python 3",
   "language": "python",
   "name": "python3"
  },
  "language_info": {
   "codemirror_mode": {
    "name": "ipython",
    "version": 3
   },
   "file_extension": ".py",
   "mimetype": "text/x-python",
   "name": "python",
   "nbconvert_exporter": "python",
   "pygments_lexer": "ipython3",
   "version": "3.7.3"
  }
 },
 "nbformat": 4,
 "nbformat_minor": 2
}
