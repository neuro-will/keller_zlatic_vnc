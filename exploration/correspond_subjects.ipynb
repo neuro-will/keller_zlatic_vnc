{
 "cells": [
  {
   "cell_type": "markdown",
   "metadata": {},
   "source": [
    "This is a notebook to see what specimens we have in different forms of data. "
   ]
  },
  {
   "cell_type": "code",
   "execution_count": 1,
   "metadata": {},
   "outputs": [],
   "source": [
    "%load_ext autoreload\n",
    "%autoreload 2"
   ]
  },
  {
   "cell_type": "code",
   "execution_count": 2,
   "metadata": {},
   "outputs": [
    {
     "name": "stderr",
     "output_type": "stream",
     "text": [
      "/Users/bishopw/Documents/Janelia_Research/Projects/janelia_core/janelia_core/fileio/exp_reader.py:21: UserWarning: Unable to locate pyklb module.  Will not be able to read in .klb files.\n",
      "  warnings.warn('Unable to locate pyklb module.  Will not be able to read in .klb files.')\n"
     ]
    }
   ],
   "source": [
    "from pathlib import Path\n",
    "import glob\n",
    "import itertools \n",
    "\n",
    "import numpy as np\n",
    "import scipy.io\n",
    "\n",
    "from keller_zlatic_vnc.data_processing import generate_standard_id_for_full_annots\n",
    "from keller_zlatic_vnc.data_processing import generate_standard_id_for_trace_subject\n",
    "from keller_zlatic_vnc.data_processing import generate_standard_id_from_matlab_id\n",
    "from keller_zlatic_vnc.data_processing import read_raw_transitions_from_excel\n"
   ]
  },
  {
   "cell_type": "markdown",
   "metadata": {},
   "source": [
    "## Parameters go here "
   ]
  },
  {
   "cell_type": "code",
   "execution_count": 3,
   "metadata": {},
   "outputs": [],
   "source": [
    "# Location of file Chen originally provided with events for the single cell, closed-loop analysis\n",
    "sc_cl_events_file = r'/Users/bishopw/Documents/Janelia_Research/Projects/keller_zlatic_vnc/data/extracted_dff_v2/transition_list.xlsx'\n",
    "\n",
    "# Locations of files Chen provided with the original single cell, closed loop activity\n",
    "sc_cl_activity_folder = r'/Users/bishopw/Documents/Janelia_Research/Projects/keller_zlatic_vnc/data/extracted_dff_v2/'\n",
    "\n",
    "a00c_cl_act_data_files = ['A00c_activity_A4.mat', 'A00c_activity_A9.mat']\n",
    "\n",
    "basin_cl_act_data_files = ['Basin_activity_A4.mat', 'Basin_activity_A9.mat']\n",
    "\n",
    "handle_cl_act_data_files = ['Handle_activity_A4.mat', 'Handle_activity_A9.mat']\n",
    "\n",
    "# Folder containing annotations of all events\n",
    "all_a4_events_annot_folder = r'/Volumes/bishoplab/projects/keller_vnc/data/full_annotations/behavior_csv_cl_A4'\n",
    "all_a9_events_annot_folder = r'/Volumes/bishoplab/projects/keller_vnc/data/full_annotations/behavior_csv_cl_A9'\n",
    "\n",
    "# Location of files provided by Chen containing the raw fluorescence traces for the single cells\n",
    "trace_base_folder = r'/Volumes/bishoplab/projects/keller_vnc/data/single_cell/single_cell_traces'\n",
    "a00c_trace_folder = 'A00c'\n",
    "basin_trace_folder = 'Basin'\n",
    "handle_trace_folder = 'Handle'"
   ]
  },
  {
   "cell_type": "markdown",
   "metadata": {},
   "source": [
    "## Compare subjects with annotated events in the original single-cell closed loop data to those with activity.  Both forms of data were provided by Chen.   \n",
    "\n",
    "What we should see here is that all subjects we have activity for we also have annotated events for.  However, we may have some subjects for which we have annotated events, but no activity.  That is fine because we used the subjects we have activity for as the set of analyzed subjects in the original analysis. "
   ]
  },
  {
   "cell_type": "code",
   "execution_count": 4,
   "metadata": {},
   "outputs": [],
   "source": [
    "sc_cl_events = read_raw_transitions_from_excel(sc_cl_events_file)\n",
    "sc_cl_subjects = sc_cl_events['subject_id'].unique()"
   ]
  },
  {
   "cell_type": "markdown",
   "metadata": {},
   "source": [
    "Make a small correction"
   ]
  },
  {
   "cell_type": "code",
   "execution_count": 5,
   "metadata": {},
   "outputs": [],
   "source": [
    "ind = np.argwhere(sc_cl_subjects == 'CW_17-11-03-L6')[0][0]\n",
    "sc_cl_subjects[ind] = 'CW_17-11-03-L6-2'"
   ]
  },
  {
   "cell_type": "markdown",
   "metadata": {},
   "source": [
    "See which specimens Chen originally provided activity for in the single cell, closed-loop analysis"
   ]
  },
  {
   "cell_type": "code",
   "execution_count": 6,
   "metadata": {},
   "outputs": [],
   "source": [
    "type_strings = ['a00c', 'handle', 'basin']\n",
    "cl_act_subjects = [None]*3\n",
    "for i, files in enumerate([a00c_cl_act_data_files, handle_cl_act_data_files, basin_cl_act_data_files]):\n",
    "    \n",
    "    a4_act = scipy.io.loadmat(Path(sc_cl_activity_folder) / files[0], squeeze_me=True)\n",
    "    a9_act = scipy.io.loadmat(Path(sc_cl_activity_folder) / files[1], squeeze_me=True)\n",
    "    \n",
    "    # Correct mistakes in labeling\n",
    "    if type_strings[i] == 'basin' or type_strings[i] == 'handle':\n",
    "        ind = np.argwhere(a4_act['newTransitions'] == '0824L2CL')[1][0]\n",
    "        a4_act['newTransitions'][ind] = '0824L2-2CL'\n",
    "\n",
    "    a4_subjects = list(a4_act['newTransitions'])\n",
    "    a9_subjects = list(a9_act['newTransitions'])\n",
    "    a4_a9_subjects = list(set(a4_subjects + a9_subjects))\n",
    "    a4_a9_subjects = [generate_standard_id_from_matlab_id(id) for id in a4_a9_subjects]\n",
    "    a4_a9_subjects.sort()\n",
    "    cl_act_subjects[i] = a4_a9_subjects"
   ]
  },
  {
   "cell_type": "markdown",
   "metadata": {},
   "source": [
    "Make a small correction to labels"
   ]
  },
  {
   "cell_type": "code",
   "execution_count": 7,
   "metadata": {},
   "outputs": [],
   "source": [
    "for subjs in cl_act_subjects:\n",
    "    ind = np.argwhere(np.asarray(subjs) == 'CW_17-11-03-L6')[0][0]\n",
    "    subjs[ind] = 'CW_17-11-03-L6-2'"
   ]
  },
  {
   "cell_type": "markdown",
   "metadata": {},
   "source": [
    "For each cell type, compare the lists of subjects we have event annotations for to those we have activity for"
   ]
  },
  {
   "cell_type": "code",
   "execution_count": 8,
   "metadata": {},
   "outputs": [
    {
     "name": "stdout",
     "output_type": "stream",
     "text": [
      "***  For a00c cell types ***\n",
      "Subjects with activity but no annotations:\n",
      "set()\n",
      "Subjects with annotations but no activity:\n",
      "{'CW_17-11-07-L2'}\n",
      "***  For handle cell types ***\n",
      "Subjects with activity but no annotations:\n",
      "set()\n",
      "Subjects with annotations but no activity:\n",
      "{'CW_17-11-28-L2', 'CW_17-11-03-L2', 'CW_17-09-01-L1', 'CW_17-08-23-L1', 'CW_17-08-27-L3', 'CW_17-11-30-L3', 'CW_17-11-07-L2', 'CW_17-11-02-L3', 'CW_17-08-31-L1'}\n",
      "***  For basin cell types ***\n",
      "Subjects with activity but no annotations:\n",
      "set()\n",
      "Subjects with annotations but no activity:\n",
      "{'CW_17-11-07-L2'}\n"
     ]
    }
   ],
   "source": [
    "for type_str, act_subjects in zip(type_strings, cl_act_subjects):\n",
    "    print('***  For ' + type_str + ' cell types ***')\n",
    "    print('Subjects with activity but no annotations:')\n",
    "    print(set(act_subjects) - set(sc_cl_subjects))\n",
    "    print('Subjects with annotations but no activity:')\n",
    "    print(set(sc_cl_subjects) - set(act_subjects))"
   ]
  },
  {
   "cell_type": "markdown",
   "metadata": {},
   "source": [
    "## Now we ask if there are full annotations (provided by Nadine) for every subject that we originally analyzed in the single cell, closed loop analysis.\n",
    "\n"
   ]
  },
  {
   "cell_type": "markdown",
   "metadata": {},
   "source": [
    "See which specimens are provided in the annotated events Nadine provided "
   ]
  },
  {
   "cell_type": "code",
   "execution_count": 9,
   "metadata": {},
   "outputs": [],
   "source": [
    "annot_file_paths = list(itertools.chain(*[glob.glob(str(Path(folder) / '*.csv')) for folder in \n",
    "                                          [all_a4_events_annot_folder, all_a9_events_annot_folder]]))\n",
    "\n",
    "annot_file_names = [Path(p).name for p in annot_file_paths]\n",
    "annot_subjs = [generate_standard_id_for_full_annots(fn) for fn in annot_file_names]\n",
    "annot_subjs.sort()"
   ]
  },
  {
   "cell_type": "markdown",
   "metadata": {},
   "source": [
    "Do the comparison for each cell type here "
   ]
  },
  {
   "cell_type": "code",
   "execution_count": 10,
   "metadata": {},
   "outputs": [
    {
     "name": "stdout",
     "output_type": "stream",
     "text": [
      "***  For a00c cell types ***\n",
      "Subjects with activity but no annotations:\n",
      "set()\n",
      "Subjects with annotations but no activity:\n",
      "{'CW_17-11-03-L6-1', 'CW_17-09-01-L3'}\n",
      "***  For handle cell types ***\n",
      "Subjects with activity but no annotations:\n",
      "set()\n",
      "Subjects with annotations but no activity:\n",
      "{'CW_17-11-28-L2', 'CW_17-11-03-L2', 'CW_17-09-01-L1', 'CW_17-11-03-L6-1', 'CW_17-08-23-L1', 'CW_17-08-27-L3', 'CW_17-11-30-L3', 'CW_17-09-01-L3', 'CW_17-11-02-L3', 'CW_17-08-31-L1'}\n",
      "***  For basin cell types ***\n",
      "Subjects with activity but no annotations:\n",
      "set()\n",
      "Subjects with annotations but no activity:\n",
      "{'CW_17-11-03-L6-1', 'CW_17-09-01-L3'}\n"
     ]
    }
   ],
   "source": [
    "for type_str, act_subjects in zip(type_strings, cl_act_subjects):\n",
    "    print('***  For ' + type_str + ' cell types ***')\n",
    "    print('Subjects with activity but no annotations:')\n",
    "    print(set(act_subjects) - set(annot_subjs))\n",
    "    print('Subjects with annotations but no activity:')\n",
    "    print(set(annot_subjs) - set(act_subjects))"
   ]
  },
  {
   "cell_type": "markdown",
   "metadata": {},
   "source": [
    "## Now we ask if there are raw fluorescence traces (provided by Chen) for every subject that we originally analyzed in the single cell, closed loop analysis"
   ]
  },
  {
   "cell_type": "markdown",
   "metadata": {},
   "source": [
    "Get a list of all subjects we have traces for"
   ]
  },
  {
   "cell_type": "code",
   "execution_count": 23,
   "metadata": {},
   "outputs": [],
   "source": [
    "trace_subjects = [None]*3\n",
    "for i, trace_folder in enumerate([a00c_trace_folder, handle_trace_folder, basin_trace_folder]):\n",
    "    type_trace_folder = Path(trace_base_folder) / trace_folder\n",
    "    cell_folders = glob.glob(str(type_trace_folder / '*.traces'))\n",
    "    cell_folder_names = [Path(folder).name for folder in cell_folders]\n",
    "    trace_subjects[i] = [generate_standard_id_for_trace_subject(id) for id in cell_folder_names]\n",
    "    trace_subjects[i].sort()\n",
    "    \n",
    "    # Apply correction \n",
    "    ind = np.argwhere(np.asarray(trace_subjects[i]) == 'CW_17-11-03-L6-Q')\n",
    "    if len(ind) > 0:\n",
    "        ind = ind[0][0]\n",
    "        trace_subjects[i][ind] = 'CW_17-11-03-L6-2'"
   ]
  },
  {
   "cell_type": "markdown",
   "metadata": {},
   "source": [
    "Do the comparison for each cell type here "
   ]
  },
  {
   "cell_type": "code",
   "execution_count": 24,
   "metadata": {},
   "outputs": [
    {
     "name": "stdout",
     "output_type": "stream",
     "text": [
      "***  For a00c cell types ***\n",
      "Subjects which were included in original closed loop analysis but we have no traces for:\n",
      "set()\n",
      "***  For handle cell types ***\n",
      "Subjects which were included in original closed loop analysis but we have no traces for:\n",
      "set()\n",
      "***  For basin cell types ***\n",
      "Subjects which were included in original closed loop analysis but we have no traces for:\n",
      "set()\n"
     ]
    }
   ],
   "source": [
    "for type_str, cl_subjects, tr_subjects in zip(type_strings, cl_act_subjects, trace_subjects):\n",
    "    print('***  For ' + type_str + ' cell types ***')\n",
    "    print('Subjects which were included in original closed loop analysis but we have no traces for:')\n",
    "    print(set(cl_subjects) - set(tr_subjects))"
   ]
  },
  {
   "cell_type": "code",
   "execution_count": null,
   "metadata": {},
   "outputs": [],
   "source": []
  }
 ],
 "metadata": {
  "kernelspec": {
   "display_name": "Python 3",
   "language": "python",
   "name": "python3"
  },
  "language_info": {
   "codemirror_mode": {
    "name": "ipython",
    "version": 3
   },
   "file_extension": ".py",
   "mimetype": "text/x-python",
   "name": "python",
   "nbconvert_exporter": "python",
   "pygments_lexer": "ipython3",
   "version": "3.7.3"
  }
 },
 "nbformat": 4,
 "nbformat_minor": 4
}
