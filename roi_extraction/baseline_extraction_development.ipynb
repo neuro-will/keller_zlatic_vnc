{
 "cells": [
  {
   "cell_type": "markdown",
   "metadata": {},
   "source": [
    "This is a notebook to test different ways of calculating baselines"
   ]
  },
  {
   "cell_type": "code",
   "execution_count": 1,
   "metadata": {},
   "outputs": [],
   "source": [
    "%load_ext autoreload\n",
    "%autoreload 2"
   ]
  },
  {
   "cell_type": "code",
   "execution_count": 2,
   "metadata": {},
   "outputs": [],
   "source": [
    "import glob\n",
    "from pathlib import Path\n",
    "import pickle\n",
    "\n",
    "import matplotlib.pyplot as plt\n",
    "import numpy as np\n",
    "import pandas as pd\n",
    "\n",
    "from janelia_core.dataprocessing.baseline import percentile_filter_multi_d\n",
    "from janelia_core.dataprocessing.dataset import ROIDataset\n",
    "from janelia_core.visualization.volume_visualization import visualize_projs"
   ]
  },
  {
   "cell_type": "code",
   "execution_count": 3,
   "metadata": {},
   "outputs": [],
   "source": [
    "%matplotlib qt"
   ]
  },
  {
   "cell_type": "markdown",
   "metadata": {},
   "source": [
    "## Parameters go here"
   ]
  },
  {
   "cell_type": "code",
   "execution_count": 5,
   "metadata": {},
   "outputs": [],
   "source": [
    "ps = dict()\n",
    "\n",
    "# Location of excel file specifying where the data for each experiment is saved relative to the base folder\n",
    "ps['data_loc_file'] = r'A:\\projects\\keller_vnc\\data\\experiment_data_locations.xlsx'\n",
    "\n",
    "# Specify number of datasets to load\n",
    "ps['n_datasets'] = 5\n",
    "\n",
    "# Base folder where datasets are stored \n",
    "ps['dataset_base_folder'] =r'K:\\\\SV4'\n",
    "\n",
    "# Subfolder containing the dataset for each subject\n",
    "ps['dataset_folder'] = 'extracted'\n",
    "\n",
    "# Specify fields for the flourescence and original baslines we work with\n",
    "ps['f_ts_str'] = 'f_4_20_20'\n",
    "ps['bl_ts_strs'] = ['bl_4_20_20', 'bl_4_20_20_long']\n",
    "\n",
    "# Specify if we are recalculating baselines\n",
    "ps['recalc_baselines'] = False"
   ]
  },
  {
   "cell_type": "markdown",
   "metadata": {},
   "source": [
    "## Read in excel file specifying location of datasets"
   ]
  },
  {
   "cell_type": "code",
   "execution_count": 6,
   "metadata": {},
   "outputs": [],
   "source": [
    "def c_fcn(str):\n",
    "    return str.replace(\"'\", \"\")\n",
    "converters = {0:c_fcn, 1:c_fcn}\n",
    "\n",
    "data_locs = pd.read_excel(ps['data_loc_file'], header=1, usecols=[1, 2], converters=converters)"
   ]
  },
  {
   "cell_type": "code",
   "execution_count": 7,
   "metadata": {},
   "outputs": [
    {
     "name": "stdout",
     "output_type": "stream",
     "text": [
      "Done loading dataset 1 of 5.\n",
      "Done loading dataset 2 of 5.\n",
      "Done loading dataset 3 of 5.\n",
      "Done loading dataset 4 of 5.\n",
      "Done loading dataset 5 of 5.\n"
     ]
    }
   ],
   "source": [
    "datasets = [None]*ps['n_datasets']\n",
    "f_means = [None]*ps['n_datasets']\n",
    "old_baselines = [None]*ps['n_datasets']\n",
    "old_baseline_means = [None]*ps['n_datasets']\n",
    "new_baslines = [None]*ps['n_datasets']\n",
    "new_bl_means = [None]*ps['n_datasets']\n",
    "\n",
    "for d_i in range(ps['n_datasets']):\n",
    "    \n",
    "    # Read in the data for this subject\n",
    "    data_main_folder = data_locs['Main folder'][d_i]\n",
    "    data_sub_folder = data_locs['Subfolder'][d_i]\n",
    "    \n",
    "    dataset_path = (Path(ps['dataset_base_folder']) / data_main_folder / data_sub_folder / \n",
    "                    Path(ps['dataset_folder']) / '*.pkl')\n",
    "    dataset_file = glob.glob(str(dataset_path))[0]\n",
    "\n",
    "    # Load the dataset\n",
    "    with open(dataset_file, 'rb') as f:\n",
    "            datasets[d_i] = ROIDataset.from_dict(pickle.load(f))\n",
    "            \n",
    "    # Calculate mean flourescence\n",
    "    f_means[d_i] = np.mean(datasets[d_i].ts_data[ps['f_ts_str']]['vls'][:], axis=1)\n",
    "    \n",
    "    subj_old_baselines = [None]*len(ps['bl_ts_strs'])\n",
    "    subj_old_baseline_means = [None]*len(ps['bl_ts_strs'])\n",
    "    for b_i, old_bl_label in enumerate(ps['bl_ts_strs']):\n",
    "        subj_old_baselines[b_i] = datasets[d_i].ts_data[old_bl_label]['vls'][:]\n",
    "        subj_old_baseline_means[b_i] = np.mean(subj_old_baselines[b_i], axis=1)\n",
    "        \n",
    "    old_baselines[d_i] = subj_old_baselines\n",
    "    old_baseline_means[d_i] = subj_old_baseline_means\n",
    "    \n",
    "    \n",
    "    # Load old baselines and calculate their means\n",
    "    \n",
    "    # Recalculate baselines\n",
    "    if ps['recalc_baselines']:\n",
    "        new_baslines[d_i] = percentile_filter_multi_d(datasets[d_i].ts_data[ps['f_ts_str']]['vls'][:],\n",
    "                                                      window_length=3001, \n",
    "                                                      filter_start=-1500, \n",
    "                                                      write_offset=1500, \n",
    "                                                      p=.1, n_processes=40)\n",
    "    \n",
    "        new_bl_means[d_i] = np.mean(new_baslines[d_i], axis=1)\n",
    "    \n",
    "    print('Done loading dataset ' + str(d_i+1) + ' of ' + str(ps['n_datasets']) + '.')\n",
    "    "
   ]
  },
  {
   "cell_type": "code",
   "execution_count": 8,
   "metadata": {},
   "outputs": [],
   "source": [
    "plt.figure()\n",
    "for d_i in range(ps['n_datasets']):\n",
    "    plt.subplot(ps['n_datasets'], 1, d_i+1)\n",
    "    \n",
    "    # Plot mean flourescence\n",
    "    plt.plot(f_means[d_i])\n",
    "    \n",
    "    # Plot old baselines\n",
    "    for bl_mean in old_baseline_means[d_i]:\n",
    "        plt.plot(bl_mean)\n",
    "    \n",
    "    if ps['recalc_baselines']:\n",
    "        plt.plot(new_bl_means[d_i] )"
   ]
  },
  {
   "cell_type": "markdown",
   "metadata": {},
   "source": [
    "## Look at some example rois"
   ]
  },
  {
   "cell_type": "code",
   "execution_count": 43,
   "metadata": {},
   "outputs": [],
   "source": [
    "roi_i = 5100 # Brain\n",
    "roi_i = 1007 # VNC 1\n",
    "#roi_i = 0 # VNC 2"
   ]
  },
  {
   "cell_type": "code",
   "execution_count": 44,
   "metadata": {},
   "outputs": [],
   "source": [
    "plt.figure()\n",
    "for d_i in range(ps['n_datasets']):\n",
    "    plt.subplot(ps['n_datasets'], 1, d_i+1)\n",
    "    plt.plot(datasets[d_i].ts_data[ps['f_ts_str']]['vls'][:, roi_i])\n",
    "    \n",
    "    for old_bl in old_baselines[d_i]:\n",
    "        plt.plot(old_bl[:, roi_i])\n",
    "    \n",
    "    if ps['recalc_baselines']:\n",
    "        plt.plot(new_baslines[d_i][:, roi_i])"
   ]
  },
  {
   "cell_type": "markdown",
   "metadata": {},
   "source": [
    "## Visualize the location of the ROI we are visualizing activity for"
   ]
  },
  {
   "cell_type": "code",
   "execution_count": 45,
   "metadata": {},
   "outputs": [],
   "source": [
    "roi_locs = [roi.voxel_inds for roi in datasets[0].roi_groups['rois_4_20_20']['rois']]\n",
    "roi_loc = roi_locs[roi_i]"
   ]
  },
  {
   "cell_type": "code",
   "execution_count": 46,
   "metadata": {},
   "outputs": [],
   "source": [
    "mn_image = datasets[0].stats['mean']"
   ]
  },
  {
   "cell_type": "code",
   "execution_count": 47,
   "metadata": {},
   "outputs": [],
   "source": [
    "roi_image = np.nan*np.zeros_like(mn_image)\n",
    "roi_image[roi_loc[0], roi_loc[1], roi_loc[2]] = 1"
   ]
  },
  {
   "cell_type": "code",
   "execution_count": 48,
   "metadata": {},
   "outputs": [],
   "source": [
    "axial_mn_im = np.mean(datasets[0].stats['mean'], 0)\n",
    "axial_roi_im = np.nanmean(roi_image, 0)\n",
    "\n",
    "coronal_mn_im = np.fliplr(np.mean(datasets[0].stats['mean'], 1).transpose())\n",
    "coronal_roi_im = np.fliplr(np.nanmean(roi_image, 1).transpose())\n",
    "\n",
    "sag_mn_im = np.mean(datasets[0].stats['mean'], 2).transpose()\n",
    "sag_roi_im = np.nanmean(roi_image, 2).transpose()"
   ]
  },
  {
   "cell_type": "code",
   "execution_count": 51,
   "metadata": {},
   "outputs": [],
   "source": [
    "visualize_projs(horz_projs=[axial_mn_im, axial_roi_im], \n",
    "                sag_projs=[sag_mn_im, sag_roi_im], \n",
    "                cor_projs=[coronal_mn_im, coronal_roi_im], \n",
    "                cmaps=['gray', 'Blues'], clims=[[0, 130], [0, .5]], dim_m=[1, 1, 3], \n",
    "                buffer=0.0, tgt_h=5)"
   ]
  },
  {
   "cell_type": "code",
   "execution_count": 42,
   "metadata": {},
   "outputs": [
    {
     "data": {
      "text/plain": [
       "(86, 851, 509)"
      ]
     },
     "execution_count": 42,
     "metadata": {},
     "output_type": "execute_result"
    }
   ],
   "source": [
    "mn_image.shape"
   ]
  },
  {
   "cell_type": "code",
   "execution_count": null,
   "metadata": {},
   "outputs": [],
   "source": []
  }
 ],
 "metadata": {
  "kernelspec": {
   "display_name": "Python 3",
   "language": "python",
   "name": "python3"
  },
  "language_info": {
   "codemirror_mode": {
    "name": "ipython",
    "version": 3
   },
   "file_extension": ".py",
   "mimetype": "text/x-python",
   "name": "python",
   "nbconvert_exporter": "python",
   "pygments_lexer": "ipython3",
   "version": "3.7.3"
  }
 },
 "nbformat": 4,
 "nbformat_minor": 2
}
