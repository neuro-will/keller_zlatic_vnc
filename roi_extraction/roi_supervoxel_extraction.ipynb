{
 "cells": [
  {
   "cell_type": "markdown",
   "metadata": {},
   "source": [
    "Code for extracting super-voxel ROIS from the Keller/Zlatic data"
   ]
  },
  {
   "cell_type": "code",
   "execution_count": 1,
   "metadata": {},
   "outputs": [],
   "source": [
    "%load_ext autoreload\n",
    "%autoreload 2"
   ]
  },
  {
   "cell_type": "code",
   "execution_count": 2,
   "metadata": {},
   "outputs": [],
   "source": [
    "import copy\n",
    "from pathlib import Path\n",
    "\n",
    "import numpy as np\n",
    "import pandas as pd\n",
    "import pyspark\n",
    "\n",
    "from janelia_core.fileio.exp_reader import read_img_file\n",
    "from keller_zlatic_vnc.raw_data_processing import video_to_roi_baselines"
   ]
  },
  {
   "cell_type": "markdown",
   "metadata": {},
   "source": [
    "## Parameters go here"
   ]
  },
  {
   "cell_type": "code",
   "execution_count": 3,
   "metadata": {},
   "outputs": [],
   "source": [
    "ps = dict()\n",
    "\n",
    "# Location of excel file specifying where the data for each experiment is saved relative to the base folder\n",
    "ps['data_loc_file'] = r'A:\\projects\\keller_vnc\\data\\EM_volume_experiment_data_locations.xlsx'\n",
    "\n",
    "# Specify if we use a brain mask\n",
    "ps['use_brain_mask'] = True\n",
    "\n",
    "# Specify size of images (if brain mask if not used)\n",
    "ps['image_size'] = (86, 851, 509)\n",
    "\n",
    "# Parameters for where the brain mask is located\n",
    "ps['brain_mask_file'] = r'A:\\projects\\keller_vnc\\data\\l1_brain_masks\\1099-lsm-ttc-mask-ilastik-20210626-postprocess_brain_only.tiff'\n",
    "\n",
    "# Name of the subfolder we create under the [Main Folder]\\[Subfolder]\\ directory to save extracted results\n",
    "ps['extracted_folder'] = 'extracted\\\\brain_rois_1_5_5'\n",
    "\n",
    "# Additional parameters (constant for all datasets) specifying where the data is stored\n",
    "ps['image_base_folder'] =r'W:\\\\SV4'\n",
    "ps['image_processed_folder'] = 'Results\\\\WeightFused'\n",
    "ps['image_ext'] = r'weightFused.TimeRegistration.klb'\n",
    "\n",
    "# Parameters for how we preprocess each image\n",
    "ps['0_sub_value'] = 100.0\n",
    "\n",
    "# Parameters for how we extract supervoxels\n",
    "ps['roi_extract_opts'] = {'voxel_size_per_dim':[1, 5, 5], 'brain_mask_perc': .75}\n",
    "\n",
    "# Parameters for calculating baseline\n",
    "ps['baseline_calc_opts'] = {'window_length': 41, 'filter_start': -20, 'write_offset': 20, 'p': .1, 'n_processes': 80}"
   ]
  },
  {
   "cell_type": "markdown",
   "metadata": {},
   "source": [
    "## Read in excel file specifying location of each dataset"
   ]
  },
  {
   "cell_type": "code",
   "execution_count": 4,
   "metadata": {},
   "outputs": [],
   "source": [
    "def c_fcn(str):\n",
    "    return str.replace(\"'\", \"\")\n",
    "converters = {0:c_fcn, 1:c_fcn}\n",
    "\n",
    "data_locs = pd.read_excel(ps['data_loc_file'], header=1, usecols=[1, 2], converters=converters)"
   ]
  },
  {
   "cell_type": "markdown",
   "metadata": {},
   "source": [
    "## Load the brain mask"
   ]
  },
  {
   "cell_type": "code",
   "execution_count": 5,
   "metadata": {},
   "outputs": [],
   "source": [
    "if ps['use_brain_mask']:\n",
    "    brain_mask_file = Path(ps['brain_mask_file'])\n",
    "    brain_mask = read_img_file(brain_mask_file)\n",
    "else:\n",
    "    brain_mask = np.ones(ps['image_size'], dtype='uint16')"
   ]
  },
  {
   "cell_type": "markdown",
   "metadata": {},
   "source": [
    "## Create a spark Context"
   ]
  },
  {
   "cell_type": "code",
   "execution_count": 6,
   "metadata": {},
   "outputs": [],
   "source": [
    "conf = pyspark.SparkConf().setMaster('local[20]').setAll([\n",
    "    ('spark.executor.memory', '10g'), ('spark.driver.memory','400g'), ('spark.driver.maxResultSize', '300g')])\n",
    "sc = pyspark.SparkContext(conf=conf)"
   ]
  },
  {
   "cell_type": "markdown",
   "metadata": {},
   "source": [
    "## Process each dataset"
   ]
  },
  {
   "cell_type": "code",
   "execution_count": 7,
   "metadata": {},
   "outputs": [],
   "source": [
    "def preprocess_f(x):\n",
    "    x[x==0] = ps['0_sub_value'] \n",
    "    return x"
   ]
  },
  {
   "cell_type": "code",
   "execution_count": 8,
   "metadata": {},
   "outputs": [],
   "source": [
    "roi_extract_opts = copy.copy(ps['roi_extract_opts'])\n",
    "roi_extract_opts['brain_mask'] = brain_mask\n",
    "roi_extract_opts['preprocess_f'] = preprocess_f"
   ]
  },
  {
   "cell_type": "code",
   "execution_count": 9,
   "metadata": {},
   "outputs": [
    {
     "name": "stdout",
     "output_type": "stream",
     "text": [
      "**********************************************************************************************\n",
      "Processing subject 1 of 1\n",
      "Save directory does not already exist.  Creating: W:\\SV4\\CW_18-02-15\\L1-561nm-openLoop_20180215_163233.corrected\\extracted\\brain_rois_1_5_5\n",
      "==================================================================\n",
      "Beginning supervoxel extraction.\n",
      "==================================================================\n",
      "Searching for image files...\n",
      "Found 10367 images.\n",
      "Extracting: 136544 super voxels from 10367 images.\n",
      "Extracted 136544 ROIS in 1210.9018800258636 seconds.\n",
      "==================================================================\n",
      "Beginning baseline calculation.\n",
      "==================================================================\n",
      "Baselines calculated in 1679.777075767517 seconds.\n"
     ]
    }
   ],
   "source": [
    "n_subjects = len(data_locs)\n",
    "for d_i in range(n_subjects):\n",
    "    print('**********************************************************************************************')\n",
    "    print('Processing subject ' + str(d_i + 1) + ' of ' + str(n_subjects))\n",
    "    \n",
    "    base_data_dir = Path(ps['image_base_folder']) / data_locs['Main folder'][d_i] / data_locs['Subfolder'][d_i] / ps['image_processed_folder']\n",
    "    save_dir =  Path(ps['image_base_folder']) / data_locs['Main folder'][d_i] / data_locs['Subfolder'][d_i] / Path(ps['extracted_folder'])\n",
    "    \n",
    "    roi_info = video_to_roi_baselines(base_data_dir=base_data_dir, save_dir=save_dir, \n",
    "                                             roi_extract_opts=roi_extract_opts, extract_params=ps,\n",
    "                                             img_file_ext=ps['image_ext'],\n",
    "                                             baseline_calc_opts=ps['baseline_calc_opts'], new_comp=False, sc=sc)"
   ]
  },
  {
   "cell_type": "code",
   "execution_count": null,
   "metadata": {},
   "outputs": [],
   "source": []
  }
 ],
 "metadata": {
  "kernelspec": {
   "display_name": "Python 3",
   "language": "python",
   "name": "python3"
  },
  "language_info": {
   "codemirror_mode": {
    "name": "ipython",
    "version": 3
   },
   "file_extension": ".py",
   "mimetype": "text/x-python",
   "name": "python",
   "nbconvert_exporter": "python",
   "pygments_lexer": "ipython3",
   "version": "3.7.3"
  }
 },
 "nbformat": 4,
 "nbformat_minor": 2
}
