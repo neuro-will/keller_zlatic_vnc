{
 "cells": [
  {
   "cell_type": "markdown",
   "metadata": {},
   "source": [
    "This is a notebook for recalculating baselines after fluorescence has been extracted for specified super voxels"
   ]
  },
  {
   "cell_type": "code",
   "execution_count": 1,
   "metadata": {},
   "outputs": [],
   "source": [
    "%load_ext autoreload\n",
    "%autoreload 2"
   ]
  },
  {
   "cell_type": "code",
   "execution_count": 2,
   "metadata": {},
   "outputs": [],
   "source": [
    "import os.path\n",
    "from pathlib import Path\n",
    "import pickle\n",
    "\n",
    "import h5py\n",
    "import pandas as pd\n",
    "import pyspark\n",
    "\n",
    "from janelia_core.dataprocessing.baseline import percentile_filter_multi_d\n",
    "from janelia_core.dataprocessing.dataset import ROIDataset\n",
    "from janelia_core.fileio.data_handlers import NDArrayHandler\n"
   ]
  },
  {
   "cell_type": "markdown",
   "metadata": {},
   "source": [
    "## Parameters go here"
   ]
  },
  {
   "cell_type": "code",
   "execution_count": 3,
   "metadata": {},
   "outputs": [],
   "source": [
    "ps = dict()\n",
    "\n",
    "# Location of excel file specifying where the data for each experiment is saved relative to the base folder\n",
    "ps['data_loc_file'] = r'A:\\projects\\keller_vnc\\data\\experiment_data_locations.xlsx'\n",
    "\n",
    "# Additional parameters (constant for all datasets) specifying where the data is stored\n",
    "ps['base_folder'] =r'K:\\\\SV4'\n",
    "ps['dataset_folder'] = 'extracted'\n",
    "ps['dataset_file_name'] = 'dataset.pkl'\n",
    "\n",
    "# Options for calculating new baselines\n",
    "ps['baseline_calc_opts'] =  {'window_length': 3001, 'filter_start': -1500, 'write_offset': 1500, 'p': .1, 'n_processes': 80}\n",
    "ps['extract_params_file_name'] = 'long_baseline_extract_params.pkl'\n",
    "\n",
    "\n",
    "# Specify the roi groups we compute baselines for\n",
    "ps['new_comps'] = [{'f_filename': 'extracted_f.h5',\n",
    "                   'new_bl_filename': 'baseline_f_long.h5',\n",
    "                   'baseline_save_folder': 'rois_12_60_60'}] \n",
    "\n",
    "ps['new_comps'] = [{'f_filename': 'extracted_f.h5',\n",
    "                   'new_bl_filename': 'baseline_f_long.h5',\n",
    "                   'baseline_save_folder': 'rois_1_5_5'}] "
   ]
  },
  {
   "cell_type": "markdown",
   "metadata": {},
   "source": [
    "## Read in excel file specifying location of each dataset"
   ]
  },
  {
   "cell_type": "code",
   "execution_count": 4,
   "metadata": {},
   "outputs": [],
   "source": [
    "def c_fcn(str):\n",
    "    return str.replace(\"'\", \"\")\n",
    "converters = {0:c_fcn, 1:c_fcn}\n",
    "\n",
    "data_locs = pd.read_excel(ps['data_loc_file'], header=1, usecols=[1, 2], converters=converters)"
   ]
  },
  {
   "cell_type": "markdown",
   "metadata": {},
   "source": [
    "## Recalculate baselines for each dataset"
   ]
  },
  {
   "cell_type": "code",
   "execution_count": 5,
   "metadata": {},
   "outputs": [
    {
     "name": "stdout",
     "output_type": "stream",
     "text": [
      "Done calculating new baselines for K:\\SV4\\CW_17-08-23\\L1-561nm-ROIMonitoring_20170823_145226.corrected\\extracted\\rois_1_5_5\\extracted_f.h5\n",
      "Done with dataset 1 of 65.\n",
      "Done calculating new baselines for K:\\SV4\\CW_17-08-23\\L2-561nm-ROIMonitoring_20170823_161308.corrected\\extracted\\rois_1_5_5\\extracted_f.h5\n",
      "Done with dataset 2 of 65.\n",
      "Done calculating new baselines for K:\\SV4\\CW_17-08-23\\L4-561nm-ROIMonitoring_20170823_193101.corrected\\extracted\\rois_1_5_5\\extracted_f.h5\n",
      "Done with dataset 3 of 65.\n",
      "Done calculating new baselines for K:\\SV4\\CW_17-08-24\\L4-561nm-ROImonitoring_20170824_184800.corrected\\extracted\\rois_1_5_5\\extracted_f.h5\n",
      "Done with dataset 4 of 65.\n",
      "Done calculating new baselines for K:\\SV4\\CW_17-08-24\\L5-561nm_ROImonitoring_20170824_202312.corrected\\extracted\\rois_1_5_5\\extracted_f.h5\n",
      "Done with dataset 5 of 65.\n",
      "Done calculating new baselines for K:\\SV4\\CW_17-08-26\\L1-561nm-ROIMonitoring_20170826_112040.corrected\\extracted\\rois_1_5_5\\extracted_f.h5\n",
      "Done with dataset 6 of 65.\n",
      "Done calculating new baselines for K:\\SV4\\CW_17-08-26\\L2-561nm-ROIMonitoring_20170826_131101.corrected\\extracted\\rois_1_5_5\\extracted_f.h5\n",
      "Done with dataset 7 of 65.\n",
      "Done calculating new baselines for K:\\SV4\\CW_17-08-26\\L4-561nm-ROIMonitoring_20170826_154851.corrected\\extracted\\rois_1_5_5\\extracted_f.h5\n",
      "Done with dataset 8 of 65.\n",
      "Done calculating new baselines for K:\\SV4\\CW_17-08-26\\L5-561nm-ROIMonitoring_20170826_170833.corrected\\extracted\\rois_1_5_5\\extracted_f.h5\n",
      "Done with dataset 9 of 65.\n",
      "Done calculating new baselines for K:\\SV4\\CW_17-08-26\\L6-561nm-ROIMonitoring_20170826_183354.corrected\\extracted\\rois_1_5_5\\extracted_f.h5\n",
      "Done with dataset 10 of 65.\n",
      "Done calculating new baselines for K:\\SV4\\CW_17-08-27\\L1-561nm-ROIMonitoring_20170827_112137.corrected\\extracted\\rois_1_5_5\\extracted_f.h5\n",
      "Done with dataset 11 of 65.\n",
      "Done calculating new baselines for K:\\SV4\\CW_17-08-27\\L2-561nm-ROIMonitoring_20170827_131630.corrected\\extracted\\rois_1_5_5\\extracted_f.h5\n",
      "Done with dataset 12 of 65.\n",
      "Done calculating new baselines for K:\\SV4\\CW_17-08-27\\L4-561nm-ROIMonitoring_20170827_161429.corrected\\extracted\\rois_1_5_5\\extracted_f.h5\n",
      "Done with dataset 13 of 65.\n",
      "Done calculating new baselines for K:\\SV4\\CW_17-08-27\\L5-561nm_ROIMonitoring_20170827_173754.corrected\\extracted\\rois_1_5_5\\extracted_f.h5\n",
      "Done with dataset 14 of 65.\n",
      "Done calculating new baselines for K:\\SV4\\CW_17-08-28\\L1-561nm-ROIMonitoring_20170828_173043.corrected\\extracted\\rois_1_5_5\\extracted_f.h5\n",
      "Done with dataset 15 of 65.\n",
      "Done calculating new baselines for K:\\SV4\\CW_17-08-28\\L2-561nm-ROIMonitoring_20170828_190245.corrected\\extracted\\rois_1_5_5\\extracted_f.h5\n",
      "Done with dataset 16 of 65.\n",
      "Done calculating new baselines for K:\\SV4\\CW_17-08-29\\L2-561nm-ROI_20170829_114455.corrected\\extracted\\rois_1_5_5\\extracted_f.h5\n",
      "Done with dataset 17 of 65.\n",
      "Done calculating new baselines for K:\\SV4\\CW_17-08-31\\L1-561nm-ROI_20170831_150243.corrected\\extracted\\rois_1_5_5\\extracted_f.h5\n",
      "Done with dataset 18 of 65.\n",
      "Done calculating new baselines for K:\\SV4\\CW_17-09-01\\L1-561nm-ROI_20170901_110456.corrected\\extracted\\rois_1_5_5\\extracted_f.h5\n",
      "Done with dataset 19 of 65.\n",
      "Done calculating new baselines for K:\\SV4\\CW_17-09-01\\L2-561nm-ROI_20170901_122419.corrected\\extracted\\rois_1_5_5\\extracted_f.h5\n",
      "Done with dataset 20 of 65.\n",
      "Done calculating new baselines for K:\\SV4\\CW_17-09-01\\L3-561nm-ROI_20170901_162644.corrected\\extracted\\rois_1_5_5\\extracted_f.h5\n",
      "Done with dataset 21 of 65.\n",
      "Done calculating new baselines for K:\\SV4\\CW_17-11-02\\L3-561nm-ROImonitoring_20171102_181633.corrected\\extracted\\rois_1_5_5\\extracted_f.h5\n",
      "Done with dataset 22 of 65.\n",
      "Done calculating new baselines for K:\\SV4\\CW_17-11-03\\L1-561nm-ROImonitoring_20171103_105014.corrected\\extracted\\rois_1_5_5\\extracted_f.h5\n",
      "Done with dataset 23 of 65.\n",
      "Done calculating new baselines for K:\\SV4\\CW_17-11-03\\L2-561nm-ROImonitoring_20171103_122307.corrected\\extracted\\rois_1_5_5\\extracted_f.h5\n",
      "Done with dataset 24 of 65.\n",
      "Done calculating new baselines for K:\\SV4\\CW_17-11-03\\L3-561nm-ROImonitoring_20171103_140738.corrected\\extracted\\rois_1_5_5\\extracted_f.h5\n",
      "Done with dataset 25 of 65.\n",
      "Done calculating new baselines for K:\\SV4\\CW_17-11-03\\L5-561nm-ROImonitoring_20171103_164908.corrected\\extracted\\rois_1_5_5\\extracted_f.h5\n",
      "Done with dataset 26 of 65.\n",
      "Done calculating new baselines for K:\\SV4\\CW_17-11-03\\L6-561nm-ROImonitoring_20171103_185224-identifyQuiet.corrected\\extracted\\rois_1_5_5\\extracted_f.h5\n",
      "Done with dataset 27 of 65.\n",
      "Done calculating new baselines for K:\\SV4\\CW_17-11-03\\L7-561nm-ROImonitoring_20171103_201021.corrected\\extracted\\rois_1_5_5\\extracted_f.h5\n",
      "Done with dataset 28 of 65.\n",
      "Done calculating new baselines for K:\\SV4\\CW_17-11-04\\L1-561nm-ROImonitoring_20171104_111139.corrected\\extracted\\rois_1_5_5\\extracted_f.h5\n",
      "Done with dataset 29 of 65.\n",
      "Done calculating new baselines for K:\\SV4\\CW_17-11-04\\L2-561nm-ROImonitoring_20171104_125048.corrected\\extracted\\rois_1_5_5\\extracted_f.h5\n",
      "Done with dataset 30 of 65.\n",
      "Done calculating new baselines for K:\\SV4\\CW_17-11-04\\L3-561nm-ROImonitoring_20171104_144129.corrected\\extracted\\rois_1_5_5\\extracted_f.h5\n",
      "Done with dataset 31 of 65.\n",
      "Done calculating new baselines for K:\\SV4\\CW_17-11-04\\L4-561nm-ROImonitoring_20171104_161924.corrected\\extracted\\rois_1_5_5\\extracted_f.h5\n",
      "Done with dataset 32 of 65.\n",
      "Done calculating new baselines for K:\\SV4\\CW_17-11-05\\L6-561nm-ROImonitoring_20171105_163422.corrected\\extracted\\rois_1_5_5\\extracted_f.h5\n",
      "Done with dataset 33 of 65.\n",
      "Done calculating new baselines for K:\\SV4\\CW_17-11-05\\L7-561nm-ROImonitoring_20171105_180850.corrected\\extracted\\rois_1_5_5\\extracted_f.h5\n",
      "Done with dataset 34 of 65.\n",
      "Done calculating new baselines for K:\\SV4\\CW_17-11-06\\L1-561nm-ROImonitoring_20171106_141140.corrected\\extracted\\rois_1_5_5\\extracted_f.h5\n",
      "Done with dataset 35 of 65.\n",
      "Done calculating new baselines for K:\\SV4\\CW_17-11-06\\L2-561nm-ROImonitoring_20171106_154314.corrected\\extracted\\rois_1_5_5\\extracted_f.h5\n",
      "Done with dataset 36 of 65.\n",
      "Done calculating new baselines for K:\\SV4\\CW_17-11-06\\L3-561nm-ROImonitoring_20171106_174549.corrected\\extracted\\rois_1_5_5\\extracted_f.h5\n",
      "Done with dataset 37 of 65.\n",
      "Done calculating new baselines for K:\\SV4\\CW_17-11-07\\L2-561nm-ROImonitoring_20171107_124623.corrected\\extracted\\rois_1_5_5\\extracted_f.h5\n",
      "Done with dataset 38 of 65.\n",
      "Done calculating new baselines for K:\\SV4\\CW_17-11-07\\L3-561nm-ROImonitoring_20171107_134028.corrected\\extracted\\rois_1_5_5\\extracted_f.h5\n",
      "Done with dataset 39 of 65.\n",
      "Done calculating new baselines for K:\\SV4\\CW_17-11-07\\L4-561nm-ROImonitoring_20171107_154602.corrected\\extracted\\rois_1_5_5\\extracted_f.h5\n",
      "Done with dataset 40 of 65.\n",
      "Done calculating new baselines for K:\\SV4\\CW_17-11-07\\L5-561nm-ROImonitoring_20171107_171555.corrected\\extracted\\rois_1_5_5\\extracted_f.h5\n",
      "Done with dataset 41 of 65.\n",
      "Done calculating new baselines for K:\\SV4\\CW_17-11-08\\L1-561nm-ROImonitoring_20171108_103329.corrected\\extracted\\rois_1_5_5\\extracted_f.h5\n",
      "Done with dataset 42 of 65.\n",
      "Done calculating new baselines for K:\\SV4\\CW_17-11-08\\L2-561nm-ROImonitoring_20171108_121057.corrected\\extracted\\rois_1_5_5\\extracted_f.h5\n",
      "Done with dataset 43 of 65.\n",
      "Done calculating new baselines for K:\\SV4\\CW_17-11-08\\L3-561nm-ROImonitoring_20171108_135509.corrected\\extracted\\rois_1_5_5\\extracted_f.h5\n",
      "Done with dataset 44 of 65.\n",
      "Done calculating new baselines for K:\\SV4\\CW_17-11-26\\L1-561nm-ROImonitoring_20171126_114352.corrected\\extracted\\rois_1_5_5\\extracted_f.h5\n",
      "Done with dataset 45 of 65.\n",
      "Done calculating new baselines for K:\\SV4\\CW_17-11-26\\L2-561nm-ROImonitoring_20171126_131543.corrected\\extracted\\rois_1_5_5\\extracted_f.h5\n",
      "Done with dataset 46 of 65.\n",
      "Done calculating new baselines for K:\\SV4\\CW_17-11-26\\L3-561nm-ROImonitoring_20171126_145211.corrected\\extracted\\rois_1_5_5\\extracted_f.h5\n",
      "Done with dataset 47 of 65.\n",
      "Done calculating new baselines for K:\\SV4\\CW_17-11-26\\L4-561nm-ROImonitoring_20171126_162233.corrected\\extracted\\rois_1_5_5\\extracted_f.h5\n",
      "Done with dataset 48 of 65.\n",
      "Done calculating new baselines for K:\\SV4\\CW_17-11-26\\L5-561nm-ROImonitoring_20171126_180053.corrected\\extracted\\rois_1_5_5\\extracted_f.h5\n",
      "Done with dataset 49 of 65.\n",
      "Done calculating new baselines for K:\\SV4\\CW_17-11-27\\L1-561nm-ROImonitoring_20171127_110404.corrected\\extracted\\rois_1_5_5\\extracted_f.h5\n",
      "Done with dataset 50 of 65.\n"
     ]
    },
    {
     "name": "stdout",
     "output_type": "stream",
     "text": [
      "Done calculating new baselines for K:\\SV4\\CW_17-11-27\\L2-561nm-ROImonitoring_20171127_123823.corrected\\extracted\\rois_1_5_5\\extracted_f.h5\n",
      "Done with dataset 51 of 65.\n",
      "Done calculating new baselines for K:\\SV4\\CW_17-11-27\\L3-561nm-ROImonitoring_20171127_140753.corrected\\extracted\\rois_1_5_5\\extracted_f.h5\n",
      "Done with dataset 52 of 65.\n",
      "Done calculating new baselines for K:\\SV4\\CW_17-11-27\\L4-561nm-ROImonitoring_20171127_153407.corrected\\extracted\\rois_1_5_5\\extracted_f.h5\n",
      "Done with dataset 53 of 65.\n",
      "Done calculating new baselines for K:\\SV4\\CW_17-11-27\\L5-561nm-ROImonitoring_20171127_171108.corrected\\extracted\\rois_1_5_5\\extracted_f.h5\n",
      "Done with dataset 54 of 65.\n",
      "Done calculating new baselines for K:\\SV4\\CW_17-11-28\\L2-561nm-ROImonitoring_20171128_113021.corrected\\extracted\\rois_1_5_5\\extracted_f.h5\n",
      "Done with dataset 55 of 65.\n",
      "Done calculating new baselines for K:\\SV4\\CW_17-11-28\\L4-561nm-ROImonitoring_20171128_144322.corrected\\extracted\\rois_1_5_5\\extracted_f.h5\n",
      "Done with dataset 56 of 65.\n",
      "Done calculating new baselines for K:\\SV4\\CW_17-11-28\\L6-561nm-ROImonitoring_20171128_175702.corrected\\extracted\\rois_1_5_5\\extracted_f.h5\n",
      "Done with dataset 57 of 65.\n",
      "Done calculating new baselines for K:\\SV4\\CW_17-11-29\\L1-561nm-ROImonitoring_20171129_102421.corrected\\extracted\\rois_1_5_5\\extracted_f.h5\n",
      "Done with dataset 58 of 65.\n",
      "Done calculating new baselines for K:\\SV4\\CW_17-11-29\\L2-561nm-ROImonitoring_20171129_120810.corrected\\extracted\\rois_1_5_5\\extracted_f.h5\n",
      "Done with dataset 59 of 65.\n",
      "Done calculating new baselines for K:\\SV4\\CW_17-11-29\\L3-561nm-ROImonitoring_20171129_145527.corrected\\extracted\\rois_1_5_5\\extracted_f.h5\n",
      "Done with dataset 60 of 65.\n",
      "Done calculating new baselines for K:\\SV4\\CW_17-11-29\\L4-561nm-ROImonitoring_20171129_163149.corrected\\extracted\\rois_1_5_5\\extracted_f.h5\n",
      "Done with dataset 61 of 65.\n",
      "Done calculating new baselines for K:\\SV4\\CW_17-11-29\\L5-561nm-ROImonitoring_20171129_181314.corrected\\extracted\\rois_1_5_5\\extracted_f.h5\n",
      "Done with dataset 62 of 65.\n",
      "Done calculating new baselines for K:\\SV4\\CW_17-11-29\\L6-561nm-ROImonitoring_20171129_194722.corrected\\extracted\\rois_1_5_5\\extracted_f.h5\n",
      "Done with dataset 63 of 65.\n",
      "Done calculating new baselines for K:\\SV4\\CW_17-11-30\\L2-561nm-ROImonitoring_20171130_165056.corrected\\extracted\\rois_1_5_5\\extracted_f.h5\n",
      "Done with dataset 64 of 65.\n",
      "Done calculating new baselines for K:\\SV4\\CW_17-12-11\\L3-561nm-ROImonitoring_20171211_191024.corrected\\extracted\\rois_1_5_5\\extracted_f.h5\n",
      "Done with dataset 65 of 65.\n"
     ]
    }
   ],
   "source": [
    "n_datasets = len(data_locs)\n",
    "for d_i in range(n_datasets):\n",
    "    \n",
    "    # Get relevant paths\n",
    "    data_main_folder = data_locs['Main folder'][d_i]\n",
    "    data_sub_folder = data_locs['Subfolder'][d_i]\n",
    "    \n",
    "    # Base save path - this is the one which holds the subfolders holding the flourescence and baseline data\n",
    "    base_save_dir =  Path(ps['base_folder']) / data_main_folder / data_sub_folder / Path(ps['dataset_folder'])\n",
    "\n",
    "    for grp_specs in ps['new_comps']:\n",
    " \n",
    "        # Form path to where we will save the new baseline data\n",
    "        fluoresence_file =  base_save_dir / grp_specs['baseline_save_folder'] / grp_specs['f_filename']\n",
    "        baseline_file = base_save_dir / grp_specs['baseline_save_folder'] / grp_specs['new_bl_filename']\n",
    "        \n",
    "        skip_baseline_calcs = False #os.path.exists(baseline_file)\n",
    "        \n",
    "        # Get the fluouresence data\n",
    "        if not skip_baseline_calcs:\n",
    "            \n",
    "            with h5py.File(fluoresence_file, 'r') as file_h:\n",
    "                f = file_h['data'][:]\n",
    "\n",
    "            # Calculate baselines\n",
    "            baseline_vls = percentile_filter_multi_d(f, **ps['baseline_calc_opts'])\n",
    "            baseline_vls = baseline_vls.astype('float32')\n",
    "\n",
    "            # Save extracted baseline information\n",
    "            with h5py.File(baseline_file, 'w') as f:\n",
    "                f.create_dataset('data', data=baseline_vls)\n",
    "\n",
    "            # Now we save extraction parameters\n",
    "            param_save_file = base_save_dir / grp_specs['baseline_save_folder'] / ps['extract_params_file_name'] \n",
    "            with open(param_save_file, 'wb') as f:\n",
    "                pickle.dump(ps, f)\n",
    "        \n",
    "            print('Done calculating new baselines for ' + str(fluoresence_file))\n",
    "        else:\n",
    "            print('Baselines already calculated for ' + str(fluoresence_file))\n",
    "        \n",
    "    print('Done with dataset ' + str(d_i+1) + ' of ' + str(n_datasets) + '.')"
   ]
  },
  {
   "cell_type": "code",
   "execution_count": 6,
   "metadata": {},
   "outputs": [
    {
     "ename": "AttributeError",
     "evalue": "'_io.BufferedWriter' object has no attribute 'shape'",
     "traceback": [
      "\u001b[1;31m---------------------------------------------------------------------------\u001b[0m",
      "\u001b[1;31mAttributeError\u001b[0m                            Traceback (most recent call last)",
      "\u001b[1;32m<ipython-input-6-b1c3cc7a906c>\u001b[0m in \u001b[0;36m<module>\u001b[1;34m\u001b[0m\n\u001b[1;32m----> 1\u001b[1;33m \u001b[0mf\u001b[0m\u001b[1;33m.\u001b[0m\u001b[0mshape\u001b[0m\u001b[1;33m\u001b[0m\u001b[1;33m\u001b[0m\u001b[0m\n\u001b[0m",
      "\u001b[1;31mAttributeError\u001b[0m: '_io.BufferedWriter' object has no attribute 'shape'"
     ],
     "output_type": "error"
    }
   ],
   "source": [
    "f.shape"
   ]
  },
  {
   "cell_type": "code",
   "execution_count": null,
   "metadata": {},
   "outputs": [],
   "source": [
    "grp_specs"
   ]
  },
  {
   "cell_type": "code",
   "execution_count": null,
   "metadata": {},
   "outputs": [],
   "source": []
  }
 ],
 "metadata": {
  "kernelspec": {
   "display_name": "Python 3",
   "language": "python",
   "name": "python3"
  },
  "language_info": {
   "codemirror_mode": {
    "name": "ipython",
    "version": 3
   },
   "file_extension": ".py",
   "mimetype": "text/x-python",
   "name": "python",
   "nbconvert_exporter": "python",
   "pygments_lexer": "ipython3",
   "version": "3.7.3"
  }
 },
 "nbformat": 4,
 "nbformat_minor": 2
}
