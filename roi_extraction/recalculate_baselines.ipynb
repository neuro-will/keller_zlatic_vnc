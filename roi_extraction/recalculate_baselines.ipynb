{
 "cells": [
  {
   "cell_type": "markdown",
   "metadata": {},
   "source": [
    "This is a notebook for recalculating baselines after fluorescence has been extracted for specified super voxels"
   ]
  },
  {
   "cell_type": "code",
   "execution_count": 1,
   "metadata": {},
   "outputs": [],
   "source": [
    "%load_ext autoreload\n",
    "%autoreload 2"
   ]
  },
  {
   "cell_type": "code",
   "execution_count": 2,
   "metadata": {},
   "outputs": [],
   "source": [
    "import os.path\n",
    "from pathlib import Path\n",
    "import pickle\n",
    "\n",
    "import h5py\n",
    "import pandas as pd\n",
    "import pyspark\n",
    "\n",
    "from janelia_core.dataprocessing.baseline import percentile_filter_multi_d\n",
    "from janelia_core.dataprocessing.dataset import ROIDataset\n",
    "from janelia_core.fileio.data_handlers import NDArrayHandler\n"
   ]
  },
  {
   "cell_type": "markdown",
   "metadata": {},
   "source": [
    "## Parameters go here"
   ]
  },
  {
   "cell_type": "code",
   "execution_count": 4,
   "metadata": {},
   "outputs": [],
   "source": [
    "ps = dict()\n",
    "\n",
    "# Location of excel file specifying where the data for each experiment is saved relative to the base folder\n",
    "ps['data_loc_file'] = r'A:\\projects\\keller_vnc\\data\\EM_volume_experiment_data_locations.xlsx'\n",
    "\n",
    "# Additional parameters (constant for all datasets) specifying where the data is stored\n",
    "ps['base_folder'] =r'W:\\\\SV4'\n",
    "ps['dataset_folder'] = 'extracted'\n",
    "\n",
    "# Options for calculating new baselines\n",
    "ps['baseline_calc_opts'] =  {'window_length': 3001, 'filter_start': -1500, 'write_offset': 1500, 'p': .1, 'n_processes': 80}\n",
    "ps['extract_params_file_name'] = 'long_baseline_extract_params.pkl'\n",
    "\n",
    "# Specify the roi groups we compute baselines for\n",
    "# ps['new_comps'] = [{'f_filename': 'extracted_f.h5',\n",
    "#                   'new_bl_filename': 'baseline_f_long.h5',\n",
    "#                   'baseline_save_folder': 'brain_rois_1_5_5'},\n",
    "#                   {'f_filename': 'extracted_f.h5',\n",
    "#                   'new_bl_filename': 'baseline_f_long.h5',\n",
    "#                   'baseline_save_folder': 'brain_rois_2_10_10'},\n",
    "#                   {'f_filename': 'extracted_f.h5',\n",
    "#                   'new_bl_filename': 'baseline_f_long.h5',\n",
    "#                   'baseline_save_folder': 'brain_rois_4_20_20'},\n",
    "#                   {'f_filename': 'extracted_f.h5',\n",
    "#                   'new_bl_filename': 'baseline_f_long.h5',\n",
    "#                   'baseline_save_folder': 'roi_segments_3_13_13'},\n",
    "#                   {'f_filename': 'extracted_f.h5',\n",
    "#                   'new_bl_filename': 'baseline_f_long.h5',\n",
    "#                   'baseline_save_folder': 'roi_segments_4_17_17'},\n",
    "#                   {'f_filename': 'extracted_f.h5',\n",
    "#                   'new_bl_filename': 'baseline_f_long.h5',\n",
    "#                   'baseline_save_folder': 'rois_1_5_5'},\n",
    "#                   {'f_filename': 'extracted_f.h5',\n",
    "#                   'new_bl_filename': 'baseline_f_long.h5',\n",
    "#                   'baseline_save_folder': 'rois_2_10_10'},\n",
    "#                   {'f_filename': 'extracted_f.h5',\n",
    "#                   'new_bl_filename': 'baseline_f_long.h5',\n",
    "#                   'baseline_save_folder': 'rois_4_20_20'}]\n",
    "\n",
    "ps['new_comps'] = [{'f_filename': 'extracted_f.h5',\n",
    "                   'new_bl_filename': 'baseline_f_long.h5',\n",
    "                   'baseline_save_folder': 'roi_segments_cell_bodies_20200610'}]"
   ]
  },
  {
   "cell_type": "markdown",
   "metadata": {},
   "source": [
    "## Read in excel file specifying location of each dataset"
   ]
  },
  {
   "cell_type": "code",
   "execution_count": 5,
   "metadata": {},
   "outputs": [],
   "source": [
    "def c_fcn(str):\n",
    "    return str.replace(\"'\", \"\")\n",
    "converters = {0:c_fcn, 1:c_fcn}\n",
    "\n",
    "data_locs = pd.read_excel(ps['data_loc_file'], header=1, usecols=[1, 2], converters=converters)"
   ]
  },
  {
   "cell_type": "markdown",
   "metadata": {},
   "source": [
    "## Recalculate baselines for each dataset"
   ]
  },
  {
   "cell_type": "code",
   "execution_count": 6,
   "metadata": {},
   "outputs": [
    {
     "name": "stdout",
     "output_type": "stream",
     "text": [
      "Done calculating new baselines for W:\\SV4\\CW_18-02-15\\L1-561nm-openLoop_20180215_163233.corrected\\extracted\\roi_segments_cell_bodies_20200610\\extracted_f.h5\n",
      "Done with dataset 1 of 1.\n"
     ]
    }
   ],
   "source": [
    "n_datasets = len(data_locs)\n",
    "for d_i in range(n_datasets):\n",
    "    \n",
    "    # Get relevant paths\n",
    "    data_main_folder = data_locs['Main folder'][d_i]\n",
    "    data_sub_folder = data_locs['Subfolder'][d_i]\n",
    "    \n",
    "    # Base save path - this is the one which holds the subfolders holding the flourescence and baseline data\n",
    "    base_save_dir =  Path(ps['base_folder']) / data_main_folder / data_sub_folder / Path(ps['dataset_folder'])\n",
    "\n",
    "    for grp_specs in ps['new_comps']:\n",
    " \n",
    "        # Form path to where we will save the new baseline data\n",
    "        fluoresence_file =  base_save_dir / grp_specs['baseline_save_folder'] / grp_specs['f_filename']\n",
    "        baseline_file = base_save_dir / grp_specs['baseline_save_folder'] / grp_specs['new_bl_filename']\n",
    "        \n",
    "        skip_baseline_calcs =os.path.exists(baseline_file)\n",
    "        \n",
    "        # Get the fluouresence data\n",
    "        if not skip_baseline_calcs:\n",
    "            \n",
    "            with h5py.File(fluoresence_file, 'r') as file_h:\n",
    "                f = file_h['data'][:]\n",
    "\n",
    "            # Calculate baselines\n",
    "            baseline_vls = percentile_filter_multi_d(f, **ps['baseline_calc_opts'])\n",
    "            baseline_vls = baseline_vls.astype('float32')\n",
    "\n",
    "            # Save extracted baseline information\n",
    "            with h5py.File(baseline_file, 'w') as f:\n",
    "                f.create_dataset('data', data=baseline_vls)\n",
    "\n",
    "            # Now we save extraction parameters\n",
    "            param_save_file = base_save_dir / grp_specs['baseline_save_folder'] / ps['extract_params_file_name'] \n",
    "            with open(param_save_file, 'wb') as f:\n",
    "                pickle.dump(ps, f)\n",
    "        \n",
    "            print('Done calculating new baselines for ' + str(fluoresence_file))\n",
    "        else:\n",
    "            print('Baselines already calculated for ' + str(fluoresence_file))\n",
    "        \n",
    "    print('Done with dataset ' + str(d_i+1) + ' of ' + str(n_datasets) + '.')"
   ]
  },
  {
   "cell_type": "code",
   "execution_count": null,
   "metadata": {},
   "outputs": [],
   "source": []
  }
 ],
 "metadata": {
  "kernelspec": {
   "display_name": "Python 3",
   "language": "python",
   "name": "python3"
  },
  "language_info": {
   "codemirror_mode": {
    "name": "ipython",
    "version": 3
   },
   "file_extension": ".py",
   "mimetype": "text/x-python",
   "name": "python",
   "nbconvert_exporter": "python",
   "pygments_lexer": "ipython3",
   "version": "3.7.3"
  }
 },
 "nbformat": 4,
 "nbformat_minor": 2
}
