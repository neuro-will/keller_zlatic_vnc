{
 "cells": [
  {
   "cell_type": "markdown",
   "metadata": {},
   "source": [
    "A script to prototype supervoxel extraction of the Keller data"
   ]
  },
  {
   "cell_type": "code",
   "execution_count": 1,
   "metadata": {},
   "outputs": [],
   "source": [
    "%load_ext autoreload\n",
    "%autoreload 2"
   ]
  },
  {
   "cell_type": "code",
   "execution_count": 2,
   "metadata": {},
   "outputs": [],
   "source": [
    "from pathlib import Path\n",
    "from time import time\n",
    "\n",
    "import matplotlib.pyplot as plt\n",
    "import numpy as np\n",
    "import pyqtgraph as pg\n",
    "import pyspark\n",
    "\n",
    "from janelia_core.cell_extraction.super_voxels import extract_super_voxels_in_brain\n",
    "from janelia_core.dataprocessing.baseline import percentile_filter_multi_d\n",
    "from janelia_core.fileio.exp_reader import find_images\n",
    "from janelia_core.fileio.exp_reader import read_img_file"
   ]
  },
  {
   "cell_type": "code",
   "execution_count": 3,
   "metadata": {},
   "outputs": [],
   "source": [
    "%matplotlib qt"
   ]
  },
  {
   "cell_type": "markdown",
   "metadata": {},
   "source": [
    "## Parameters go here"
   ]
  },
  {
   "cell_type": "code",
   "execution_count": 5,
   "metadata": {},
   "outputs": [],
   "source": [
    "# Parameters for where the images are located\n",
    "image_base_folder = r'K:\\\\SV4'\n",
    "image_main_folder = 'CW_17-08-23'\n",
    "image_sub_folder = 'L4-561nm-ROIMonitoring_20170823_193101.corrected'\n",
    "image_processed_folder = 'Results\\\\WeightFused'\n",
    "image_ext = r'weightFused.TimeRegistration.templateSpace.klb'\n",
    "\n",
    "# Parameters for where the brain mask is located\n",
    "brain_mask_folder = r'A:\\\\projects\\\\keller_vnc\\\\data\\\\registered_brain_mask'\n",
    "brain_mask_file = 'thresholdedVoxelMapSmooth.klb'\n",
    "\n",
    "# Parameters for how we extract supervoxels\n",
    "voxel_size_per_dim = [1, 5, 5]\n",
    "brain_mask_perc = .75 # Percentage of a super voxel which must be in the brain mask to be processed\n",
    "\n",
    "# Parameters for baseline extraction\n",
    "window_length = 1201\n",
    "filter_start = -600\n",
    "write_offset = 600"
   ]
  },
  {
   "cell_type": "markdown",
   "metadata": {},
   "source": [
    "## Create a pyspark context"
   ]
  },
  {
   "cell_type": "code",
   "execution_count": 6,
   "metadata": {},
   "outputs": [],
   "source": [
    "conf = pyspark.SparkConf().setMaster('local[20]').setAll([\n",
    "    ('spark.executor.memory', '10g'), ('spark.driver.memory','400g'), ('spark.driver.maxResultSize', '300g')])\n",
    "sc = pyspark.SparkContext(conf=conf)"
   ]
  },
  {
   "cell_type": "markdown",
   "metadata": {},
   "source": [
    "## Find the images"
   ]
  },
  {
   "cell_type": "code",
   "execution_count": 7,
   "metadata": {},
   "outputs": [
    {
     "name": "stdout",
     "output_type": "stream",
     "text": [
      "Searching for image files...\n",
      "Found 7208 images.\n"
     ]
    }
   ],
   "source": [
    "image_folder = Path(image_base_folder) / image_main_folder / image_sub_folder / image_processed_folder\n",
    "imgs = find_images(image_folder=image_folder, image_ext=image_ext, image_folder_depth=1)"
   ]
  },
  {
   "cell_type": "markdown",
   "metadata": {},
   "source": [
    "## Load the brain mask"
   ]
  },
  {
   "cell_type": "code",
   "execution_count": 8,
   "metadata": {},
   "outputs": [],
   "source": [
    "brain_mask_file = Path(brain_mask_folder) / brain_mask_file"
   ]
  },
  {
   "cell_type": "code",
   "execution_count": 9,
   "metadata": {},
   "outputs": [],
   "source": [
    "brain_mask = read_img_file(brain_mask_file)"
   ]
  },
  {
   "cell_type": "markdown",
   "metadata": {},
   "source": [
    "## Extract super voxels"
   ]
  },
  {
   "cell_type": "code",
   "execution_count": 1,
   "metadata": {},
   "outputs": [
    {
     "ename": "NameError",
     "evalue": "name 'time' is not defined",
     "output_type": "error",
     "traceback": [
      "\u001b[1;31m---------------------------------------------------------------------------\u001b[0m",
      "\u001b[1;31mNameError\u001b[0m                                 Traceback (most recent call last)",
      "\u001b[1;32m<ipython-input-1-98995906e2dc>\u001b[0m in \u001b[0;36m<module>\u001b[1;34m\u001b[0m\n\u001b[1;32m----> 1\u001b[1;33m \u001b[0mextract_t0\u001b[0m \u001b[1;33m=\u001b[0m \u001b[0mtime\u001b[0m\u001b[1;33m(\u001b[0m\u001b[1;33m)\u001b[0m\u001b[1;33m\u001b[0m\u001b[1;33m\u001b[0m\u001b[0m\n\u001b[0m\u001b[0;32m      2\u001b[0m roi_vls, rois = extract_super_voxels_in_brain(images=imgs, voxel_size_per_dim=voxel_size_per_dim, brain_mask=brain_mask,\n\u001b[0;32m      3\u001b[0m                                               brain_mask_perc=brain_mask_perc, sc=sc)\n\u001b[0;32m      4\u001b[0m \u001b[0mextract_t1\u001b[0m \u001b[1;33m=\u001b[0m \u001b[0mtime\u001b[0m\u001b[1;33m(\u001b[0m\u001b[1;33m)\u001b[0m\u001b[1;33m\u001b[0m\u001b[1;33m\u001b[0m\u001b[0m\n\u001b[0;32m      5\u001b[0m \u001b[1;33m\u001b[0m\u001b[0m\n",
      "\u001b[1;31mNameError\u001b[0m: name 'time' is not defined"
     ]
    }
   ],
   "source": [
    "extract_t0 = time()\n",
    "roi_vls, rois = extract_super_voxels_in_brain(images=imgs, voxel_size_per_dim=voxel_size_per_dim, brain_mask=brain_mask,\n",
    "                                              brain_mask_perc=brain_mask_perc, sc=sc)\n",
    "extract_t1 = time()\n",
    "\n",
    "print('ROI Extraction time: ' + str(extract_t1 - extract_t0))"
   ]
  },
  {
   "cell_type": "markdown",
   "metadata": {},
   "source": [
    "## Calculate Baselines"
   ]
  },
  {
   "cell_type": "code",
   "execution_count": null,
   "metadata": {},
   "outputs": [],
   "source": [
    "baseline_t0 = time()\n",
    "baseline = percentile_filter_multi_d(roi_vls, window_length=window_length, filter_start=filter_start, write_offset=write_offset, \n",
    "                                     p = .01, n_processes=80)\n",
    "baseline_t1 = time()\n",
    "print('Baseline calculation time: ' + str(baseline_t1 - baseline_t0))"
   ]
  },
  {
   "cell_type": "markdown",
   "metadata": {},
   "source": [
    "## Calculate \\Delta F/F"
   ]
  },
  {
   "cell_type": "code",
   "execution_count": null,
   "metadata": {},
   "outputs": [],
   "source": [
    "dff_t0 = time()\n",
    "dff = roi_vls/(baseline + .01)\n",
    "dff_t1 = time()\n",
    "print('DFF calculation time: ' + str(dff_t1 - dff_t0))"
   ]
  },
  {
   "cell_type": "code",
   "execution_count": null,
   "metadata": {},
   "outputs": [],
   "source": [
    "plt.plot(roi_vls[:,100])\n",
    "plt.plot(baseline[:,100])"
   ]
  },
  {
   "cell_type": "code",
   "execution_count": null,
   "metadata": {},
   "outputs": [],
   "source": [
    "roi_vls.shape"
   ]
  },
  {
   "cell_type": "code",
   "execution_count": null,
   "metadata": {},
   "outputs": [],
   "source": [
    "np.mean(baseline)"
   ]
  },
  {
   "cell_type": "code",
   "execution_count": null,
   "metadata": {},
   "outputs": [],
   "source": []
  },
  {
   "cell_type": "code",
   "execution_count": null,
   "metadata": {},
   "outputs": [],
   "source": [
    "1/2"
   ]
  },
  {
   "cell_type": "code",
   "execution_count": null,
   "metadata": {},
   "outputs": [],
   "source": []
  }
 ],
 "metadata": {
  "kernelspec": {
   "display_name": "Python 3",
   "language": "python",
   "name": "python3"
  },
  "language_info": {
   "codemirror_mode": {
    "name": "ipython",
    "version": 3
   },
   "file_extension": ".py",
   "mimetype": "text/x-python",
   "name": "python",
   "nbconvert_exporter": "python",
   "pygments_lexer": "ipython3",
   "version": "3.7.3"
  }
 },
 "nbformat": 4,
 "nbformat_minor": 2
}
