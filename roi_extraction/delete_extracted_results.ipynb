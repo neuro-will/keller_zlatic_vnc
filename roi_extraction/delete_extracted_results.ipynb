{
 "cells": [
  {
   "cell_type": "markdown",
   "metadata": {},
   "source": [
    "Notebook for deleting extracted rois from the Keller lab server. This also allows for datasets to be deleted as well. "
   ]
  },
  {
   "cell_type": "code",
   "execution_count": 1,
   "metadata": {},
   "outputs": [],
   "source": [
    "%load_ext autoreload\n",
    "%autoreload 2"
   ]
  },
  {
   "cell_type": "code",
   "execution_count": 2,
   "metadata": {},
   "outputs": [],
   "source": [
    "import glob\n",
    "import os\n",
    "from pathlib import Path\n",
    "import shutil\n",
    "\n",
    "import pandas as pd"
   ]
  },
  {
   "cell_type": "markdown",
   "metadata": {},
   "source": [
    "## Parameters go here"
   ]
  },
  {
   "cell_type": "code",
   "execution_count": 3,
   "metadata": {},
   "outputs": [],
   "source": [
    "# Location of excel file specifying where the data for each experiment is saved relative to the base folder\n",
    "data_loc_file = r'A:\\projects\\keller_vnc\\data\\experiment_data_locations.xlsx'\n",
    "\n",
    "# Say if we are going to delete extracted roi data and give the name of the folder extracted roi\n",
    "# data is saved under for each subject\n",
    "delete_rois = False \n",
    "roi_folder = 'rois_5_25_25'\n",
    "\n",
    "# Say if we are going to delete datasets as well\n",
    "delete_datasets = True\n",
    "\n",
    "# Additional parameters (constant for all datasets) specifying where the data is stored\n",
    "image_base_folder = r'K:\\\\SV4'\n",
    "extracted_folder = 'extracted'"
   ]
  },
  {
   "cell_type": "markdown",
   "metadata": {},
   "source": [
    "## Read in the data locations"
   ]
  },
  {
   "cell_type": "code",
   "execution_count": 4,
   "metadata": {},
   "outputs": [],
   "source": [
    "def c_fcn(str):\n",
    "    return str.replace(\"'\", \"\")\n",
    "converters = {0:c_fcn, 1:c_fcn}\n",
    "\n",
    "data_locs = pd.read_excel(data_loc_file, header=1, usecols=[1, 2], converters=converters)"
   ]
  },
  {
   "cell_type": "markdown",
   "metadata": {},
   "source": [
    "## Now we get a list of all roi folders that will be deleted"
   ]
  },
  {
   "cell_type": "code",
   "execution_count": 5,
   "metadata": {},
   "outputs": [],
   "source": [
    "n_subjects = len(data_locs)\n",
    "roi_folders_to_del = []\n",
    "datasets_to_del = []\n",
    "for s_i in range(n_subjects):\n",
    "    base_folder = Path(image_base_folder) / data_locs['Main folder'][s_i] / data_locs['Subfolder'][s_i] / extracted_folder\n",
    "    \n",
    "    if delete_rois:\n",
    "        subject_roi_folder = base_folder / roi_folder\n",
    "        if os.path.exists(subject_roi_folder):\n",
    "            roi_folders_to_del.append(subject_roi_folder)\n",
    "            \n",
    "    if delete_datasets:\n",
    "        dataset_file = glob.glob(str(base_folder / '*_dataset.pkl'))\n",
    "        if len(dataset_file) == 1: \n",
    "            datasets_to_del.append(dataset_file[0])"
   ]
  },
  {
   "cell_type": "markdown",
   "metadata": {},
   "source": [
    "## Print list of files that we will delete"
   ]
  },
  {
   "cell_type": "code",
   "execution_count": 6,
   "metadata": {},
   "outputs": [
    {
     "name": "stdout",
     "output_type": "stream",
     "text": [
      "*******************************************************************************************************************\n",
      " The following roi folders will be deleted.  Before going fruther, please make sure each folder is an roi folder.\n",
      "*******************************************************************************************************************\n"
     ]
    }
   ],
   "source": [
    "print('*******************************************************************************************************************')\n",
    "print(' The following roi folders will be deleted.  Before going fruther, please make sure each folder is an roi folder.')\n",
    "print('*******************************************************************************************************************')\n",
    "for f in roi_folders_to_del:\n",
    "    print(f)"
   ]
  },
  {
   "cell_type": "markdown",
   "metadata": {},
   "source": [
    "## Delete extracted rois"
   ]
  },
  {
   "cell_type": "code",
   "execution_count": null,
   "metadata": {},
   "outputs": [],
   "source": [
    "for f in roi_folders_to_del:\n",
    "    shutil.rmtree(f)"
   ]
  },
  {
   "cell_type": "markdown",
   "metadata": {},
   "source": [
    "## Print list of datasets that will be deleted"
   ]
  },
  {
   "cell_type": "code",
   "execution_count": 7,
   "metadata": {},
   "outputs": [
    {
     "name": "stdout",
     "output_type": "stream",
     "text": [
      "*******************************************************************************************************************\n",
      " The following datasets will be deleted.  Before going fruther, please make sure each file listed is a dataset.\n",
      "*******************************************************************************************************************\n",
      "K:\\SV4\\CW_17-08-23\\L1-561nm-ROIMonitoring_20170823_145226.corrected\\extracted\\CW_17-08-23-L1_dataset.pkl\n",
      "K:\\SV4\\CW_17-08-23\\L2-561nm-ROIMonitoring_20170823_161308.corrected\\extracted\\CW_17-08-23-L2_dataset.pkl\n",
      "K:\\SV4\\CW_17-08-23\\L4-561nm-ROIMonitoring_20170823_193101.corrected\\extracted\\CW_17-08-23-L4_dataset.pkl\n",
      "K:\\SV4\\CW_17-08-24\\L4-561nm-ROImonitoring_20170824_184800.corrected\\extracted\\CW_17-08-24-L4_dataset.pkl\n",
      "K:\\SV4\\CW_17-08-24\\L5-561nm_ROImonitoring_20170824_202312.corrected\\extracted\\CW_17-08-24-L5_dataset.pkl\n",
      "K:\\SV4\\CW_17-08-26\\L1-561nm-ROIMonitoring_20170826_112040.corrected\\extracted\\CW_17-08-26-L1_dataset.pkl\n",
      "K:\\SV4\\CW_17-08-26\\L2-561nm-ROIMonitoring_20170826_131101.corrected\\extracted\\CW_17-08-26-L2_dataset.pkl\n",
      "K:\\SV4\\CW_17-08-26\\L4-561nm-ROIMonitoring_20170826_154851.corrected\\extracted\\CW_17-08-26-L4_dataset.pkl\n",
      "K:\\SV4\\CW_17-08-26\\L5-561nm-ROIMonitoring_20170826_170833.corrected\\extracted\\CW_17-08-26-L5_dataset.pkl\n",
      "K:\\SV4\\CW_17-08-26\\L6-561nm-ROIMonitoring_20170826_183354.corrected\\extracted\\CW_17-08-26-L6_dataset.pkl\n",
      "K:\\SV4\\CW_17-08-27\\L1-561nm-ROIMonitoring_20170827_112137.corrected\\extracted\\CW_17-08-27-L1_dataset.pkl\n",
      "K:\\SV4\\CW_17-08-27\\L2-561nm-ROIMonitoring_20170827_131630.corrected\\extracted\\CW_17-08-27-L2_dataset.pkl\n",
      "K:\\SV4\\CW_17-08-27\\L4-561nm-ROIMonitoring_20170827_161429.corrected\\extracted\\CW_17-08-27-L4_dataset.pkl\n",
      "K:\\SV4\\CW_17-08-27\\L5-561nm_ROIMonitoring_20170827_173754.corrected\\extracted\\CW_17-08-27-L5_dataset.pkl\n",
      "K:\\SV4\\CW_17-08-28\\L1-561nm-ROIMonitoring_20170828_173043.corrected\\extracted\\CW_17-08-28-L1_dataset.pkl\n",
      "K:\\SV4\\CW_17-08-28\\L2-561nm-ROIMonitoring_20170828_190245.corrected\\extracted\\CW_17-08-28-L2_dataset.pkl\n",
      "K:\\SV4\\CW_17-08-29\\L2-561nm-ROI_20170829_114455.corrected\\extracted\\CW_17-08-29-L2_dataset.pkl\n",
      "K:\\SV4\\CW_17-08-31\\L1-561nm-ROI_20170831_150243.corrected\\extracted\\CW_17-08-31-L1_dataset.pkl\n",
      "K:\\SV4\\CW_17-09-01\\L1-561nm-ROI_20170901_110456.corrected\\extracted\\CW_17-09-01-L1_dataset.pkl\n",
      "K:\\SV4\\CW_17-09-01\\L3-561nm-ROI_20170901_162644.corrected\\extracted\\CW_17-09-01-L3_dataset.pkl\n",
      "K:\\SV4\\CW_17-11-02\\L3-561nm-ROImonitoring_20171102_181633.corrected\\extracted\\CW_17-11-02-L3_dataset.pkl\n",
      "K:\\SV4\\CW_17-11-03\\L1-561nm-ROImonitoring_20171103_105014.corrected\\extracted\\CW_17-11-03-L1_dataset.pkl\n",
      "K:\\SV4\\CW_17-11-03\\L2-561nm-ROImonitoring_20171103_122307.corrected\\extracted\\CW_17-11-03-L2_dataset.pkl\n",
      "K:\\SV4\\CW_17-11-03\\L3-561nm-ROImonitoring_20171103_140738.corrected\\extracted\\CW_17-11-03-L3_dataset.pkl\n",
      "K:\\SV4\\CW_17-11-03\\L6-561nm-ROImonitoring_20171103_183252-IdentifyBackward.corrected\\extracted\\CW_17-11-03-L6_dataset.pkl\n",
      "K:\\SV4\\CW_17-11-03\\L6-561nm-ROImonitoring_20171103_185224-identifyQuiet.corrected\\extracted\\CW_17-11-03-L6_dataset.pkl\n",
      "K:\\SV4\\CW_17-11-03\\L7-561nm-ROImonitoring_20171103_201021.corrected\\extracted\\CW_17-11-03-L7_dataset.pkl\n",
      "K:\\SV4\\CW_17-11-04\\L1-561nm-ROImonitoring_20171104_111139.corrected\\extracted\\CW_17-11-04-L1_dataset.pkl\n",
      "K:\\SV4\\CW_17-11-04\\L2-561nm-ROImonitoring_20171104_125048.corrected\\extracted\\CW_17-11-04-L2_dataset.pkl\n",
      "K:\\SV4\\CW_17-11-04\\L3-561nm-ROImonitoring_20171104_144129.corrected\\extracted\\CW_17-11-04-L3_dataset.pkl\n",
      "K:\\SV4\\CW_17-11-04\\L4-561nm-ROImonitoring_20171104_161924.corrected\\extracted\\CW_17-11-04-L4_dataset.pkl\n",
      "K:\\SV4\\CW_17-11-05\\L6-561nm-ROImonitoring_20171105_163422.corrected\\extracted\\CW_17-11-05-L6_dataset.pkl\n",
      "K:\\SV4\\CW_17-11-06\\L2-561nm-ROImonitoring_20171106_154314.corrected\\extracted\\CW_17-11-06-L2_dataset.pkl\n",
      "K:\\SV4\\CW_17-11-06\\L3-561nm-ROImonitoring_20171106_174549.corrected\\extracted\\CW_17-11-06-L3_dataset.pkl\n",
      "K:\\SV4\\CW_17-11-07\\L2-561nm-ROImonitoring_20171107_124623.corrected\\extracted\\CW_17-11-07-L2_dataset.pkl\n",
      "K:\\SV4\\CW_17-11-07\\L3-561nm-ROImonitoring_20171107_134028.corrected\\extracted\\CW_17-11-07-L3_dataset.pkl\n",
      "K:\\SV4\\CW_17-11-07\\L4-561nm-ROImonitoring_20171107_154602.corrected\\extracted\\CW_17-11-07-L4_dataset.pkl\n",
      "K:\\SV4\\CW_17-11-07\\L5-561nm-ROImonitoring_20171107_171555.corrected\\extracted\\CW_17-11-07-L5_dataset.pkl\n",
      "K:\\SV4\\CW_17-11-08\\L1-561nm-ROImonitoring_20171108_103329.corrected\\extracted\\CW_17-11-08-L1_dataset.pkl\n",
      "K:\\SV4\\CW_17-11-08\\L2-561nm-ROImonitoring_20171108_121057.corrected\\extracted\\CW_17-11-08-L2_dataset.pkl\n",
      "K:\\SV4\\CW_17-11-08\\L3-561nm-ROImonitoring_20171108_135509.corrected\\extracted\\CW_17-11-08-L3_dataset.pkl\n",
      "K:\\SV4\\CW_17-11-26\\L1-561nm-ROImonitoring_20171126_114352.corrected\\extracted\\CW_17-11-26-L1_dataset.pkl\n",
      "K:\\SV4\\CW_17-11-26\\L2-561nm-ROImonitoring_20171126_131543.corrected\\extracted\\CW_17-11-26-L2_dataset.pkl\n",
      "K:\\SV4\\CW_17-11-26\\L3-561nm-ROImonitoring_20171126_145211.corrected\\extracted\\CW_17-11-26-L3_dataset.pkl\n",
      "K:\\SV4\\CW_17-11-26\\L4-561nm-ROImonitoring_20171126_162233.corrected\\extracted\\CW_17-11-26-L4_dataset.pkl\n",
      "K:\\SV4\\CW_17-11-26\\L5-561nm-ROImonitoring_20171126_180053.corrected\\extracted\\CW_17-11-26-L5_dataset.pkl\n",
      "K:\\SV4\\CW_17-11-27\\L1-561nm-ROImonitoring_20171127_110404.corrected\\extracted\\CW_17-11-27-L1_dataset.pkl\n",
      "K:\\SV4\\CW_17-11-27\\L2-561nm-ROImonitoring_20171127_123823.corrected\\extracted\\CW_17-11-27-L2_dataset.pkl\n",
      "K:\\SV4\\CW_17-11-27\\L3-561nm-ROImonitoring_20171127_140753.corrected\\extracted\\CW_17-11-27-L3_dataset.pkl\n",
      "K:\\SV4\\CW_17-11-27\\L4-561nm-ROImonitoring_20171127_153407.corrected\\extracted\\CW_17-11-27-L4_dataset.pkl\n",
      "K:\\SV4\\CW_17-11-27\\L5-561nm-ROImonitoring_20171127_171108.corrected\\extracted\\CW_17-11-27-L5_dataset.pkl\n",
      "K:\\SV4\\CW_17-11-28\\L2-561nm-ROImonitoring_20171128_113021.corrected\\extracted\\CW_17-11-28-L2_dataset.pkl\n",
      "K:\\SV4\\CW_17-11-28\\L4-561nm-ROImonitoring_20171128_144322.corrected\\extracted\\CW_17-11-28-L4_dataset.pkl\n",
      "K:\\SV4\\CW_17-11-28\\L6-561nm-ROImonitoring_20171128_175702.corrected\\extracted\\CW_17-11-28-L6_dataset.pkl\n",
      "K:\\SV4\\CW_17-11-29\\L1-561nm-ROImonitoring_20171129_102421.corrected\\extracted\\CW_17-11-29-L1_dataset.pkl\n",
      "K:\\SV4\\CW_17-11-29\\L2-561nm-ROImonitoring_20171129_120810.corrected\\extracted\\CW_17-11-29-L2_dataset.pkl\n",
      "K:\\SV4\\CW_17-11-29\\L3-561nm-ROImonitoring_20171129_145527.corrected\\extracted\\CW_17-11-29-L3_dataset.pkl\n",
      "K:\\SV4\\CW_17-11-29\\L4-561nm-ROImonitoring_20171129_163149.corrected\\extracted\\CW_17-11-29-L4_dataset.pkl\n",
      "K:\\SV4\\CW_17-11-29\\L5-561nm-ROImonitoring_20171129_181314.corrected\\extracted\\CW_17-11-29-L5_dataset.pkl\n",
      "K:\\SV4\\CW_17-11-29\\L6-561nm-ROImonitoring_20171129_194722.corrected\\extracted\\CW_17-11-29-L6_dataset.pkl\n",
      "K:\\SV4\\CW_17-11-30\\L2-561nm-ROImonitoring_20171130_165056.corrected\\extracted\\CW_17-11-30-L2_dataset.pkl\n",
      "K:\\SV4\\CW_17-12-11\\L3-561nm-ROImonitoring_20171211_191024.corrected\\extracted\\CW_17-12-11-L3_dataset.pkl\n"
     ]
    }
   ],
   "source": [
    "print('*******************************************************************************************************************')\n",
    "print(' The following datasets will be deleted.  Before going fruther, please make sure each file listed is a dataset.')\n",
    "print('*******************************************************************************************************************')\n",
    "for f in datasets_to_del:\n",
    "    print(f)"
   ]
  },
  {
   "cell_type": "markdown",
   "metadata": {},
   "source": [
    "## Delete datasets"
   ]
  },
  {
   "cell_type": "code",
   "execution_count": 8,
   "metadata": {},
   "outputs": [],
   "source": [
    "for f in datasets_to_del:\n",
    "    os.remove(f)"
   ]
  },
  {
   "cell_type": "code",
   "execution_count": null,
   "metadata": {},
   "outputs": [],
   "source": []
  }
 ],
 "metadata": {
  "kernelspec": {
   "display_name": "Python 3",
   "language": "python",
   "name": "python3"
  },
  "language_info": {
   "codemirror_mode": {
    "name": "ipython",
    "version": 3
   },
   "file_extension": ".py",
   "mimetype": "text/x-python",
   "name": "python",
   "nbconvert_exporter": "python",
   "pygments_lexer": "ipython3",
   "version": "3.7.3"
  }
 },
 "nbformat": 4,
 "nbformat_minor": 2
}
