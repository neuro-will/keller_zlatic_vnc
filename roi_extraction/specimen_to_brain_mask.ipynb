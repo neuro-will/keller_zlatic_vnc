{
 "cells": [
  {
   "cell_type": "markdown",
   "id": "8e477091",
   "metadata": {},
   "source": [
    "This is a notebook for taking a mask of a whole specimen and removing portions posterior to the brain. "
   ]
  },
  {
   "cell_type": "code",
   "execution_count": 1,
   "id": "2b2a3081",
   "metadata": {},
   "outputs": [],
   "source": [
    "import copy\n",
    "\n",
    "import matplotlib.pyplot as plt\n",
    "import tifffile"
   ]
  },
  {
   "cell_type": "markdown",
   "id": "be1684f7",
   "metadata": {},
   "source": [
    "## Parameters go here "
   ]
  },
  {
   "cell_type": "code",
   "execution_count": 8,
   "id": "be8addde",
   "metadata": {},
   "outputs": [],
   "source": [
    "# Location of the file containing the whole-specimen mask\n",
    "specimen_mask = r'A:\\projects\\keller_vnc\\data\\l1_brain_masks\\1099-lsm-ttc-mask-ilastik-20210626-postprocess.tiff'\n",
    "\n",
    "# The anterior-posterior coordinate to cut the specimen mask at\n",
    "cut_coordinate = 340\n",
    "\n",
    "# The saginal plane to visualize\n",
    "vis_coordinate = 180\n",
    "\n",
    "# Location to save the file containing the brain mask\n",
    "brain_mask_file = r'A:\\projects\\keller_vnc\\data\\l1_brain_masks\\1099-lsm-ttc-mask-ilastik-20210626-postprocess_brain_only.tiff'"
   ]
  },
  {
   "cell_type": "markdown",
   "id": "dca26c03",
   "metadata": {},
   "source": [
    "## Load and visualize the specimen mask"
   ]
  },
  {
   "cell_type": "code",
   "execution_count": 9,
   "id": "e40f0d57",
   "metadata": {},
   "outputs": [],
   "source": [
    "spec_mask = tifffile.imread(specimen_mask)"
   ]
  },
  {
   "cell_type": "code",
   "execution_count": 10,
   "id": "e44973bb",
   "metadata": {},
   "outputs": [
    {
     "data": {
      "text/plain": [
       "<matplotlib.image.AxesImage at 0x14008fb5cc0>"
      ]
     },
     "execution_count": 10,
     "metadata": {},
     "output_type": "execute_result"
    },
    {
     "data": {
      "image/png": "[encoded data removed]",
      "text/plain": [
       "<Figure size 432x288 with 1 Axes>"
      ]
     },
     "metadata": {
      "needs_background": "light"
     },
     "output_type": "display_data"
    }
   ],
   "source": [
    "plt.imshow(spec_mask[:, :, 180])"
   ]
  },
  {
   "cell_type": "markdown",
   "id": "ad8cd694",
   "metadata": {},
   "source": [
    "## Create brain mask"
   ]
  },
  {
   "cell_type": "code",
   "execution_count": 11,
   "id": "c2ea15ce",
   "metadata": {},
   "outputs": [],
   "source": [
    "brain_mask = copy.deepcopy(spec_mask)\n",
    "brain_mask[:,0:cut_coordinate,:] = 0"
   ]
  },
  {
   "cell_type": "markdown",
   "id": "e699287c",
   "metadata": {},
   "source": [
    "## Visualize brain mask"
   ]
  },
  {
   "cell_type": "code",
   "execution_count": 12,
   "id": "fc250183",
   "metadata": {},
   "outputs": [
    {
     "data": {
      "text/plain": [
       "<matplotlib.image.AxesImage at 0x14009021dd8>"
      ]
     },
     "execution_count": 12,
     "metadata": {},
     "output_type": "execute_result"
    },
    {
     "data": {
      "image/png": "[encoded data removed]",
      "text/plain": [
       "<Figure size 432x288 with 1 Axes>"
      ]
     },
     "metadata": {
      "needs_background": "light"
     },
     "output_type": "display_data"
    }
   ],
   "source": [
    "plt.imshow(brain_mask[:,  :, 180])"
   ]
  },
  {
   "cell_type": "code",
   "execution_count": 13,
   "id": "3e0370d1",
   "metadata": {},
   "outputs": [],
   "source": [
    "## Save the brain mask\n",
    "tifffile.imwrite(brain_mask_file, brain_mask)"
   ]
  },
  {
   "cell_type": "code",
   "execution_count": null,
   "id": "22610b49",
   "metadata": {},
   "outputs": [],
   "source": []
  },
  {
   "cell_type": "code",
   "execution_count": null,
   "id": "9141fdb9",
   "metadata": {},
   "outputs": [],
   "source": []
  }
 ],
 "metadata": {
  "kernelspec": {
   "display_name": "Python 3",
   "language": "python",
   "name": "python3"
  },
  "language_info": {
   "codemirror_mode": {
    "name": "ipython",
    "version": 3
   },
   "file_extension": ".py",
   "mimetype": "text/x-python",
   "name": "python",
   "nbconvert_exporter": "python",
   "pygments_lexer": "ipython3",
   "version": "3.7.3"
  }
 },
 "nbformat": 4,
 "nbformat_minor": 5
}
