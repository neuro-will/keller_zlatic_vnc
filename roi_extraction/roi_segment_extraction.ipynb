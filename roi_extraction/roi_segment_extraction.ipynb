{
 "cells": [
  {
   "cell_type": "markdown",
   "metadata": {},
   "source": [
    "Code for extracting segment based ROIS from the Keller/Zlatic data"
   ]
  },
  {
   "cell_type": "code",
   "execution_count": 1,
   "metadata": {},
   "outputs": [],
   "source": [
    "%load_ext autoreload\n",
    "%autoreload 2"
   ]
  },
  {
   "cell_type": "code",
   "execution_count": 2,
   "metadata": {},
   "outputs": [
    {
     "name": "stderr",
     "output_type": "stream",
     "text": [
      "a:\\keller_drive\\projects\\janelia_core\\janelia_core\\fileio\\exp_reader.py:21: UserWarning: Unable to locate pyklb module.  Will not be able to read in .klb files.\n",
      "  warnings.warn('Unable to locate pyklb module.  Will not be able to read in .klb files.')\n"
     ]
    }
   ],
   "source": [
    "import copy\n",
    "from pathlib import Path\n",
    "\n",
    "import numpy as np\n",
    "import pandas as pd\n",
    "import pyspark\n",
    "import tifffile\n",
    "\n",
    "from janelia_core.fileio.exp_reader import read_img_file\n",
    "from keller_zlatic_vnc.raw_data_processing import generate_rois_from_segments\n",
    "from keller_zlatic_vnc.raw_data_processing import video_to_roi_baselines"
   ]
  },
  {
   "cell_type": "markdown",
   "metadata": {},
   "source": [
    "## Parameters go here"
   ]
  },
  {
   "cell_type": "code",
   "execution_count": 3,
   "metadata": {},
   "outputs": [],
   "source": [
    "ps = dict()\n",
    "\n",
    "# Location of file defining segments\n",
    "ps['segmentation_file'] = r'A:\\projects\\keller_vnc\\data\\segmentations\\1099-20210627-nuclei_label_filtered_expanded_masked_warp.tif'\n",
    "\n",
    "# Location of excel file specifying where the data for each experiment is saved relative to the base folder\n",
    "ps['data_loc_file'] = r'A:\\projects\\keller_vnc\\data\\EM_volume_experiment_data_locations.xlsx'\n",
    "\n",
    "# Specify size of images\n",
    "ps['image_size'] = (86, 851, 509)\n",
    "\n",
    "# Name of the subfolder we create under the [Main Folder]\\[Subfolder]\\ directory to save extracted results\n",
    "ps['extracted_folder'] = 'extracted\\\\rois_segments'\n",
    "\n",
    "# Additional parameters (constant for all datasets) specifying where the data is stored\n",
    "ps['image_base_folder'] =r'K:\\\\SV4'\n",
    "ps['image_processed_folder'] = 'Results\\\\WeightFused'\n",
    "ps['image_ext'] = r'weightFused.TimeRegistration.klb'\n",
    "\n",
    "# Parameters for how we preprocess each image\n",
    "ps['0_sub_value'] = 100.0\n",
    "\n",
    "# Parameters for calculating baseline\n",
    "ps['baseline_calc_opts'] = {'window_length': 41, 'filter_start': -20, 'write_offset': 20, 'p': .1, 'n_processes': 80}"
   ]
  },
  {
   "cell_type": "markdown",
   "metadata": {},
   "source": [
    "## Read in excel file specifying location of each dataset"
   ]
  },
  {
   "cell_type": "code",
   "execution_count": 4,
   "metadata": {},
   "outputs": [],
   "source": [
    "def c_fcn(str):\n",
    "    return str.replace(\"'\", \"\")\n",
    "converters = {0:c_fcn, 1:c_fcn}\n",
    "\n",
    "data_locs = pd.read_excel(ps['data_loc_file'], header=1, usecols=[1, 2], converters=converters)"
   ]
  },
  {
   "cell_type": "markdown",
   "metadata": {},
   "source": [
    "## Load the segmentation file"
   ]
  },
  {
   "cell_type": "code",
   "execution_count": 5,
   "metadata": {},
   "outputs": [],
   "source": [
    "seg_image = tifffile.imread(ps['segmentation_file'])\n",
    "rois = generate_rois_from_segments(seg_image)"
   ]
  },
  {
   "cell_type": "markdown",
   "metadata": {},
   "source": [
    "## Create a spark Context"
   ]
  },
  {
   "cell_type": "code",
   "execution_count": 6,
   "metadata": {},
   "outputs": [],
   "source": [
    "conf = pyspark.SparkConf().setMaster('local[20]').setAll([\n",
    "    ('spark.executor.memory', '10g'), ('spark.driver.memory','400g'), ('spark.driver.maxResultSize', '300g')])\n",
    "sc = pyspark.SparkContext(conf=conf)"
   ]
  },
  {
   "cell_type": "markdown",
   "metadata": {},
   "source": [
    "## Process each dataset"
   ]
  },
  {
   "cell_type": "code",
   "execution_count": 7,
   "metadata": {},
   "outputs": [],
   "source": [
    "def preprocess_f(x):\n",
    "    x[x==0] = ps['0_sub_value'] \n",
    "    return x"
   ]
  },
  {
   "cell_type": "code",
   "execution_count": 8,
   "metadata": {},
   "outputs": [],
   "source": [
    "roi_extract_opts = {'preprocess_f': preprocess_f}"
   ]
  },
  {
   "cell_type": "code",
   "execution_count": 11,
   "metadata": {},
   "outputs": [
    {
     "data": {
      "text/plain": [
       "WindowsPath('K:/SV4/CW_18-02-15/L1-561nm-openLoop_20180215_163233.corrected/Results/WeightFused')"
      ]
     },
     "execution_count": 11,
     "metadata": {},
     "output_type": "execute_result"
    }
   ],
   "source": [
    "base_data_dir"
   ]
  },
  {
   "cell_type": "code",
   "execution_count": 10,
   "metadata": {},
   "outputs": [
    {
     "name": "stdout",
     "output_type": "stream",
     "text": [
      "**********************************************************************************************\n",
      "Processing subject 1 of 1\n",
      "Save directory does not already exist.  Creating: K:\\SV4\\CW_18-02-15\\L1-561nm-openLoop_20180215_163233.corrected\\extracted\\rois_segments\n",
      "==================================================================\n",
      "Beginning supervoxel extraction.\n",
      "==================================================================\n",
      "Searching for image files...\n",
      "Found 10367 images.\n",
      "Extracting: 11958 ROIs from 10367 images.\n",
      "Extracted 11958 ROIS in 630.0572121143341 seconds.\n",
      "==================================================================\n",
      "Beginning baseline calculation.\n",
      "==================================================================\n",
      "Baselines calculated in 99.68912553787231 seconds.\n"
     ]
    }
   ],
   "source": [
    "n_subjects = len(data_locs)\n",
    "for d_i in range(n_subjects):\n",
    "    print('**********************************************************************************************')\n",
    "    print('Processing subject ' + str(d_i + 1) + ' of ' + str(n_subjects))\n",
    "    \n",
    "    base_data_dir = Path(ps['image_base_folder']) / data_locs['Main folder'][d_i] / data_locs['Subfolder'][d_i] / ps['image_processed_folder']\n",
    "    save_dir =  Path(ps['image_base_folder']) / data_locs['Main folder'][d_i] / data_locs['Subfolder'][d_i] / Path(ps['extracted_folder'])\n",
    "    \n",
    "    roi_info = video_to_roi_baselines(base_data_dir=base_data_dir, save_dir=save_dir, \n",
    "                                             roi_extract_opts=roi_extract_opts, extract_params=ps,\n",
    "                                             img_file_ext=ps['image_ext'],\n",
    "                                             baseline_calc_opts=ps['baseline_calc_opts'], new_comp=False, sc=sc, \n",
    "                                             rois=rois)"
   ]
  },
  {
   "cell_type": "code",
   "execution_count": null,
   "metadata": {},
   "outputs": [],
   "source": []
  }
 ],
 "metadata": {
  "kernelspec": {
   "display_name": "Python 3",
   "language": "python",
   "name": "python3"
  },
  "language_info": {
   "codemirror_mode": {
    "name": "ipython",
    "version": 3
   },
   "file_extension": ".py",
   "mimetype": "text/x-python",
   "name": "python",
   "nbconvert_exporter": "python",
   "pygments_lexer": "ipython3",
   "version": "3.7.3"
  }
 },
 "nbformat": 4,
 "nbformat_minor": 2
}
