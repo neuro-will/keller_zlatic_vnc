{
 "cells": [
  {
   "cell_type": "markdown",
   "metadata": {},
   "source": [
    "This is a script meant only for development of code to generate datasets"
   ]
  },
  {
   "cell_type": "code",
   "execution_count": 1,
   "metadata": {},
   "outputs": [],
   "source": [
    "%load_ext autoreload\n",
    "%autoreload 2"
   ]
  },
  {
   "cell_type": "code",
   "execution_count": 12,
   "metadata": {},
   "outputs": [],
   "source": [
    "import copy\n",
    "from pathlib import Path\n",
    "import pickle\n",
    "import re \n",
    "\n",
    "import matplotlib.pyplot as plt\n",
    "import numpy as np\n",
    "import pandas as pd\n",
    "import pyqtgraph as pg\n",
    "import pyspark\n",
    "\n",
    "from janelia_core.dataprocessing.utils import get_processed_image_data\n",
    "from janelia_core.fileio.exp_reader import read_img_file\n",
    "from janelia_core.visualization.roi_exploration import StaticROIViewer\n",
    "\n",
    "from keller_zlatic_vnc.data_processing import generate_roi_dataset"
   ]
  },
  {
   "cell_type": "code",
   "execution_count": 3,
   "metadata": {},
   "outputs": [],
   "source": [
    "%matplotlib qt"
   ]
  },
  {
   "cell_type": "markdown",
   "metadata": {},
   "source": [
    "## Parameters go here"
   ]
  },
  {
   "cell_type": "code",
   "execution_count": 4,
   "metadata": {},
   "outputs": [],
   "source": [
    "# Location of excel file specifying where the data for each experiment is saved relative to the base folder\n",
    "data_loc_file = r'A:\\projects\\keller_vnc\\data\\experiment_data_locations.xlsx'\n",
    "exp_index = 0 # Row of experiment in the table of data locations to create a dataset from\n",
    "\n",
    "# Location of excel file holding experimental annotations \n",
    "ann_file = r'A:\\projects\\keller_vnc\\data\\manip_event_annotations.xlsx'\n",
    "\n",
    "\n",
    "# Additional parameters (constant for all datasets) specifying where the data is stored\n",
    "image_base_folder =r'K:\\\\SV4'\n",
    "image_processed_folder = 'Results\\\\WeightFused'\n",
    "img_ext = r'weightFused.TimeRegistration.templateSpace.klb'\n",
    "extracted_folder = 'extracted\\\\rois_5_25_25'"
   ]
  },
  {
   "cell_type": "markdown",
   "metadata": {},
   "source": [
    "## Read in excel file specifying location of each dataset"
   ]
  },
  {
   "cell_type": "code",
   "execution_count": 5,
   "metadata": {},
   "outputs": [],
   "source": [
    "def c_fcn(str):\n",
    "    return str.replace(\"'\", \"\")\n",
    "converters = {0:c_fcn, 1:c_fcn}\n",
    "\n",
    "data_locs = pd.read_excel(data_loc_file, header=1, usecols=[1, 2], converters=converters)"
   ]
  },
  {
   "cell_type": "markdown",
   "metadata": {},
   "source": [
    "## Read in excel file with annotations"
   ]
  },
  {
   "cell_type": "code",
   "execution_count": 6,
   "metadata": {},
   "outputs": [],
   "source": [
    "annotations = pd.read_excel(ann_file, header=0)"
   ]
  },
  {
   "cell_type": "markdown",
   "metadata": {},
   "source": [
    "## Find the appropriate annotations for this experiment"
   ]
  },
  {
   "cell_type": "code",
   "execution_count": 7,
   "metadata": {},
   "outputs": [],
   "source": [
    "data_main_folder = data_locs['Main folder'][exp_index]\n",
    "data_sub_folder = data_locs['Subfolder'][exp_index]\n",
    "\n",
    "match = re.search('(?P<subject>.+)-561nm.+', data_sub_folder)\n",
    "if not match:\n",
    "    raise(RuntimeError('Unable to parse experiment sub-folder name.'))\n",
    "else:\n",
    "    subject = match['subject']\n",
    "    annot_match_str = data_main_folder + '-' + subject\n",
    "    \n",
    "annot_rows = annotations['Date and sample'] == annot_match_str\n",
    "exp_annotations = copy.deepcopy(annotations[annot_rows])\n",
    "\n",
    "metadata = {'manip_event_annotations': exp_annotations}\n",
    "frame_rate = 1/exp_annotations['Interval Time'][0]"
   ]
  },
  {
   "cell_type": "code",
   "execution_count": 8,
   "metadata": {},
   "outputs": [],
   "source": [
    "# Adjust annotations of manipulation start and stop frames for 0 indexing\n",
    "exp_annotations['Manipulation Start']  = exp_annotations['Manipulation Start'] - 1\n",
    "exp_annotations['Manipulation End']  = exp_annotations['Manipulation End'] - 1"
   ]
  },
  {
   "cell_type": "markdown",
   "metadata": {},
   "source": [
    "## Determine where images and extracted data is"
   ]
  },
  {
   "cell_type": "code",
   "execution_count": 10,
   "metadata": {},
   "outputs": [],
   "source": [
    "img_folder = Path(image_base_folder) / data_main_folder / data_sub_folder / image_processed_folder\n",
    "extracted_dir =  Path(image_base_folder) / data_main_folder / data_sub_folder / Path(extracted_folder) "
   ]
  },
  {
   "cell_type": "markdown",
   "metadata": {},
   "source": [
    "## Read in the file with parameter settings for roi extraction and baseline calculations"
   ]
  },
  {
   "cell_type": "code",
   "execution_count": 13,
   "metadata": {},
   "outputs": [],
   "source": [
    "with open(extracted_dir / 'extraction_params.pkl', 'rb') as f:\n",
    "    extract_params = pickle.load(f)"
   ]
  },
  {
   "cell_type": "markdown",
   "metadata": {},
   "source": [
    "## Create the dataset"
   ]
  },
  {
   "cell_type": "code",
   "execution_count": 29,
   "metadata": {},
   "outputs": [],
   "source": [
    "roi_values = [{'file': Path(extracted_dir) / 'extracted_f.h5', 'name': 'f_1_10_10'},\n",
    "              {'file': Path(extracted_dir) / 'baseline_f.h5', 'name': 'baseline_1_10_10'}]\n",
    "roi_dicts = [{'group_name': '5_25_25', \n",
    "              'roi_locs_file': Path(extracted_dir) / 'roi_locs.pkl', \n",
    "              'roi_values': roi_values,\n",
    "              'extra_attributes': {'extract_params': extract_params}}]"
   ]
  },
  {
   "cell_type": "code",
   "execution_count": 30,
   "metadata": {},
   "outputs": [
    {
     "name": "stdout",
     "output_type": "stream",
     "text": [
      "Searching for image files...\n",
      "Found 5416 images.\n"
     ]
    }
   ],
   "source": [
    "dataset = generate_roi_dataset(img_folder=img_folder, img_ext=img_ext, frame_rate=frame_rate, roi_dicts=roi_dicts, \n",
    "                               metadata=metadata)"
   ]
  },
  {
   "cell_type": "code",
   "execution_count": 33,
   "metadata": {},
   "outputs": [],
   "source": [
    "e_rois = dataset.extract_rois(roi_group='5_25_25', roi_inds=range(1000), labels=dataset.roi_groups['5_25_25']['ts_labels'])"
   ]
  },
  {
   "cell_type": "code",
   "execution_count": 35,
   "metadata": {},
   "outputs": [
    {
     "data": {
      "text/plain": [
       "[<matplotlib.lines.Line2D at 0x139691ee160>]"
      ]
     },
     "execution_count": 35,
     "metadata": {},
     "output_type": "execute_result"
    }
   ],
   "source": [
    "plot_i = 900\n",
    "plt.plot(e_rois[plot_i].f_1_10_10)\n",
    "plt.plot(e_rois[plot_i].baseline_1_10_10)"
   ]
  },
  {
   "cell_type": "markdown",
   "metadata": {},
   "source": [
    "## Look at videos"
   ]
  },
  {
   "cell_type": "code",
   "execution_count": 36,
   "metadata": {},
   "outputs": [],
   "source": [
    "conf = pyspark.SparkConf().setMaster('local[20]').setAll([\n",
    "    ('spark.executor.memory', '10g'), ('spark.driver.memory','400g'), ('spark.driver.maxResultSize', '300g')])\n",
    "sc = pyspark.SparkContext(conf=conf)"
   ]
  },
  {
   "cell_type": "code",
   "execution_count": 39,
   "metadata": {},
   "outputs": [],
   "source": [
    "image_inds = slice(200, 300)\n",
    "video_images = [d['file'] for d in dataset.ts_data['imgs']['vls'][image_inds]]"
   ]
  },
  {
   "cell_type": "code",
   "execution_count": 40,
   "metadata": {},
   "outputs": [],
   "source": [
    "def max_proj(img):\n",
    "    return np.max(img, 0)\n",
    "\n",
    "max_projs = np.asarray(get_processed_image_data(video_images, max_proj, sc=sc))"
   ]
  },
  {
   "cell_type": "code",
   "execution_count": 41,
   "metadata": {},
   "outputs": [
    {
     "name": "stderr",
     "output_type": "stream",
     "text": [
      "C:\\Users\\bishopw\\AppData\\Local\\Continuum\\anaconda3\\envs\\keller_zlatic_vnc\\lib\\site-packages\\pyqtgraph-0.10.0-py3.7.egg\\pyqtgraph\\imageview\\ImageView.py:588: FutureWarning: Using a non-tuple sequence for multidimensional indexing is deprecated; use `arr[tuple(seq)]` instead of `arr[seq]`. In the future this will be interpreted as an array index, `arr[np.array(seq)]`, which will result either in an error or a different result.\n",
      "  data = data[sl]\n"
     ]
    },
    {
     "data": {
      "text/plain": [
       "<pyqtgraph.graphicsWindows.ImageWindow at 0x13959f351f8>"
      ]
     },
     "execution_count": 41,
     "metadata": {},
     "output_type": "execute_result"
    }
   ],
   "source": [
    "pg.image(max_projs)"
   ]
  },
  {
   "cell_type": "markdown",
   "metadata": {},
   "source": [
    "## Look at rois - make sure they are in the right places"
   ]
  },
  {
   "cell_type": "code",
   "execution_count": 59,
   "metadata": {},
   "outputs": [],
   "source": [
    "annot_img = read_img_file(Path(dataset.ts_data['imgs']['vls'][0]['file']))\n",
    "rois = dataset.roi_groups['5_25_25']['rois'][0:500]"
   ]
  },
  {
   "cell_type": "code",
   "execution_count": 60,
   "metadata": {},
   "outputs": [],
   "source": [
    "static_viewer = StaticROIViewer(bg_image=annot_img, rois=rois)"
   ]
  },
  {
   "cell_type": "code",
   "execution_count": 61,
   "metadata": {},
   "outputs": [],
   "source": [
    "static_viewer.init_ui()"
   ]
  },
  {
   "cell_type": "code",
   "execution_count": null,
   "metadata": {},
   "outputs": [],
   "source": []
  }
 ],
 "metadata": {
  "kernelspec": {
   "display_name": "Python 3",
   "language": "python",
   "name": "python3"
  },
  "language_info": {
   "codemirror_mode": {
    "name": "ipython",
    "version": 3
   },
   "file_extension": ".py",
   "mimetype": "text/x-python",
   "name": "python",
   "nbconvert_exporter": "python",
   "pygments_lexer": "ipython3",
   "version": "3.7.3"
  }
 },
 "nbformat": 4,
 "nbformat_minor": 2
}
