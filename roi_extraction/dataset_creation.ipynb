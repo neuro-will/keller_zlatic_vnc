{
 "cells": [
  {
   "cell_type": "markdown",
   "metadata": {},
   "source": [
    "Scrpt to generate datasets from extracted ro data"
   ]
  },
  {
   "cell_type": "code",
   "execution_count": 1,
   "metadata": {},
   "outputs": [],
   "source": [
    "%load_ext autoreload\n",
    "%autoreload 2"
   ]
  },
  {
   "cell_type": "code",
   "execution_count": 2,
   "metadata": {},
   "outputs": [],
   "source": [
    "import copy\n",
    "import re\n",
    "from pathlib import Path\n",
    "import pickle\n",
    "import warnings\n",
    "\n",
    "import numpy as np\n",
    "import pandas as pd\n",
    "\n",
    "from keller_zlatic_vnc.data_processing import generate_roi_dataset"
   ]
  },
  {
   "cell_type": "markdown",
   "metadata": {},
   "source": [
    "## Parameters go here"
   ]
  },
  {
   "cell_type": "code",
   "execution_count": 3,
   "metadata": {},
   "outputs": [],
   "source": [
    "ps = dict()\n",
    "\n",
    "# Location of excel file specifying where the data for each experiment is saved relative to the base folder\n",
    "#ps['data_loc_file'] = r'A:\\projects\\keller_vnc\\data\\experiment_data_locations.xlsx'\n",
    "ps['data_loc_file'] = r'A:\\projects\\keller_vnc\\data\\EM_Volume_experiment_data_locations.xlsx'\n",
    "\n",
    "# Additional parameters (constant for all datasets) specifying where the data is stored\n",
    "ps['image_base_folder'] =r'K:\\\\SV4'\n",
    "ps['image_processed_folder'] = 'Results\\\\WeightFused'\n",
    "#ps['img_ext'] = r'weightFused.TimeRegistration.templateSpace.klb'\n",
    "ps['img_ext'] = r'weightFused.TimeRegistration.klb'\n",
    "#ps['extracted_folder'] = 'extracted\\\\rois_5_25_25'\n",
    "\n",
    "\n",
    "\n",
    "\n",
    "\n",
    "# Specify groups of extracted roi information \n",
    "roi_group_info = [{'group_name': 'rois_1_5_5', \n",
    "                   'folder': 'extracted\\\\rois_1_5_5',\n",
    "                   'param_filenames': ['extraction_params.pkl', 'long_baseline_extract_params.pkl'],\n",
    "                   'f_filename': 'extracted_f.h5',\n",
    "                   'f_ts_data_str': 'f_1_5_5',\n",
    "                   'baseline_filenames': ['baseline_f.h5', 'baseline_f_long.h5'],\n",
    "                   'baseline_ts_data_strs': ['bl_1_5_5', 'bl_1_5_5_long'],\n",
    "                   'locs_filename': 'roi_locs.pkl'},\n",
    "                  {'group_name': 'rois_2_10_10', \n",
    "                   'folder': 'extracted\\\\rois_2_10_10',\n",
    "                   'param_filenames': ['extraction_params.pkl', 'long_baseline_extract_params.pkl'],\n",
    "                   'f_filename': 'extracted_f.h5',\n",
    "                   'f_ts_data_str': 'f_2_10_10',\n",
    "                   'baseline_filenames': ['baseline_f.h5', 'baseline_f_long.h5'],\n",
    "                   'baseline_ts_data_strs': ['bl_2_10_10', 'bl_2_10_10_long'],\n",
    "                   'locs_filename': 'roi_locs.pkl'},\n",
    "                  {'group_name': 'rois_4_20_20', \n",
    "                   'folder': 'extracted\\\\rois_4_20_20',\n",
    "                   'param_filenames': ['extraction_params.pkl', 'long_baseline_extract_params.pkl'], \n",
    "                   'f_filename': 'extracted_f.h5',\n",
    "                   'f_ts_data_str': 'f_4_20_20',\n",
    "                   'baseline_filenames': ['baseline_f.h5', 'baseline_f_long.h5'],\n",
    "                   'baseline_ts_data_strs': ['bl_4_20_20', 'bl_4_20_20_long'],\n",
    "                   'locs_filename': 'roi_locs.pkl'}]\n",
    "\n",
    "# Specify where we will save the dataset relative the subfolder for each dataset\n",
    "ps['save_folder'] = 'extracted'"
   ]
  },
  {
   "cell_type": "markdown",
   "metadata": {},
   "source": [
    "## Read in excel file specifying location of each dataset"
   ]
  },
  {
   "cell_type": "code",
   "execution_count": 4,
   "metadata": {},
   "outputs": [],
   "source": [
    "def c_fcn(str):\n",
    "    return str.replace(\"'\", \"\")\n",
    "converters = {0:c_fcn, 1:c_fcn}\n",
    "\n",
    "data_locs = pd.read_excel(ps['data_loc_file'], header=1, usecols=[1, 2], converters=converters)"
   ]
  },
  {
   "cell_type": "markdown",
   "metadata": {},
   "source": [
    "## Define this function, which must exist in the namespace for unpickling of results\n",
    "\n",
    "We remove this in the dataset, so we no longer have this pickling issue going forward"
   ]
  },
  {
   "cell_type": "code",
   "execution_count": 5,
   "metadata": {},
   "outputs": [],
   "source": [
    "#def preprocess_f(x):\n",
    "#    x[x==0] = ps['0_sub_value'] \n",
    "#    return x"
   ]
  },
  {
   "cell_type": "markdown",
   "metadata": {},
   "source": [
    "## Process each dataset"
   ]
  },
  {
   "cell_type": "code",
   "execution_count": 6,
   "metadata": {},
   "outputs": [],
   "source": [
    "n_datasets = len(data_locs)"
   ]
  },
  {
   "cell_type": "code",
   "execution_count": 7,
   "metadata": {},
   "outputs": [
    {
     "name": "stdout",
     "output_type": "stream",
     "text": [
      "Searching for image files...\n",
      "Found 10367 images.\n",
      "Done processing subject CW_18-02-15/L1-561nm-openLoop_20180215_163233.corrected\n",
      "Dataset saved to: K:\\SV4\\CW_18-02-15\\L1-561nm-openLoop_20180215_163233.corrected\\extracted\\dataset.pkl\n"
     ]
    }
   ],
   "source": [
    "for d_i in range(n_datasets):\n",
    "\n",
    "    frame_rate = np.nan   \n",
    " \n",
    "    # Determine locations of images\n",
    "    data_main_folder = data_locs['Main folder'][d_i]\n",
    "    data_sub_folder = data_locs['Subfolder'][d_i]\n",
    "    img_folder = Path(ps['image_base_folder']) / data_main_folder / data_sub_folder / ps['image_processed_folder']\n",
    "        \n",
    "    # Prepare information for each group of rois\n",
    "    roi_dicts = []\n",
    "    for g_info in roi_group_info:\n",
    "        extracted_dir =  Path(ps['image_base_folder']) / data_main_folder / data_sub_folder / Path(g_info['folder']) \n",
    "        \n",
    "        # Read in the files with parameter settings for roi extraction and baseline calculations\n",
    "        extract_params = list()\n",
    "        for p_file in g_info['param_filenames']:\n",
    "            with open(extracted_dir / p_file, 'rb') as f:\n",
    "                e_params = pickle.load(f)\n",
    "                #e_params['roi_extract_opts']['preprocess_f'] = 'not_recorded'\n",
    "                #extract_params.append(e_params)\n",
    "            \n",
    "        # Create the roi dict\n",
    "        roi_values = [{'file': Path(extracted_dir) / g_info['f_filename'], 'name': g_info['f_ts_data_str']}]\n",
    "        for bl_file, bl_label in zip(g_info['baseline_filenames'], g_info['baseline_ts_data_strs']):\n",
    "            roi_values.append({'file': Path(extracted_dir) / bl_file, 'name': bl_label})\n",
    "        \n",
    "        roi_dict = {'group_name': g_info['group_name'], \n",
    "                    'roi_locs_file': Path(extracted_dir) / g_info['locs_filename'], \n",
    "                    'roi_values': roi_values,\n",
    "                    'extra_attributes': {'extract_params': extract_params}}\n",
    "        roi_dicts.append(roi_dict)\n",
    "        \n",
    "    dataset = generate_roi_dataset(img_folder=img_folder, img_ext=ps['img_ext'], frame_rate=frame_rate, roi_dicts=roi_dicts, \n",
    "                                    metadata=dict(), run_checks=False, add_images=True)\n",
    "        \n",
    "    # Save the dataset\n",
    "    dataset_file_name = 'dataset.pkl'\n",
    "    save_file = Path(ps['image_base_folder']) / data_main_folder / data_sub_folder / Path(ps['save_folder']) / dataset_file_name\n",
    "    with open(save_file, 'wb') as f:\n",
    "        pickle.dump(dataset.to_dict(), f)\n",
    "        \n",
    "    print('Done processing subject ' + data_main_folder + '/' + data_sub_folder)\n",
    "    print('Dataset saved to: ' + str(save_file))"
   ]
  },
  {
   "cell_type": "code",
   "execution_count": 8,
   "metadata": {},
   "outputs": [],
   "source": [
    "with open(extracted_dir / p_file, 'rb') as f:\n",
    "        e_params = pickle.load(f)"
   ]
  }
 ],
 "metadata": {
  "kernelspec": {
   "display_name": "Python 3",
   "language": "python",
   "name": "python3"
  },
  "language_info": {
   "codemirror_mode": {
    "name": "ipython",
    "version": 3
   },
   "file_extension": ".py",
   "mimetype": "text/x-python",
   "name": "python",
   "nbconvert_exporter": "python",
   "pygments_lexer": "ipython3",
   "version": "3.7.3"
  }
 },
 "nbformat": 4,
 "nbformat_minor": 2
}
