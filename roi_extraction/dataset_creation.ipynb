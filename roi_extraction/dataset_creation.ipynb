{
 "cells": [
  {
   "cell_type": "markdown",
   "metadata": {},
   "source": [
    "Scrpt to generate datasets from extracted ro data"
   ]
  },
  {
   "cell_type": "code",
   "execution_count": 1,
   "metadata": {},
   "outputs": [],
   "source": [
    "%load_ext autoreload\n",
    "%autoreload 2"
   ]
  },
  {
   "cell_type": "code",
   "execution_count": 2,
   "metadata": {},
   "outputs": [],
   "source": [
    "import copy\n",
    "import re\n",
    "from pathlib import Path\n",
    "import pickle\n",
    "import warnings\n",
    "\n",
    "import pandas as pd\n",
    "\n",
    "from keller_zlatic_vnc.data_processing import generate_roi_dataset"
   ]
  },
  {
   "cell_type": "markdown",
   "metadata": {},
   "source": [
    "## Parameters go here"
   ]
  },
  {
   "cell_type": "code",
   "execution_count": 3,
   "metadata": {},
   "outputs": [],
   "source": [
    "ps = dict()\n",
    "\n",
    "# Location of excel file specifying where the data for each experiment is saved relative to the base folder\n",
    "ps['data_loc_file'] = r'A:\\projects\\keller_vnc\\data\\experiment_data_locations.xlsx'\n",
    "\n",
    "# Location of excel file holding experimental annotations \n",
    "ps['annotation_file'] = r'A:\\projects\\keller_vnc\\data\\manip_event_annotations.xlsx'\n",
    "\n",
    "# Additional parameters (constant for all datasets) specifying where the data is stored\n",
    "ps['image_base_folder'] =r'K:\\\\SV4'\n",
    "ps['image_processed_folder'] = 'Results\\\\WeightFused'\n",
    "ps['img_ext'] = r'weightFused.TimeRegistration.templateSpace.klb'\n",
    "ps['extracted_folder'] = 'extracted\\\\rois_5_25_25'\n",
    "\n",
    "# Specify groups of extracted roi information \n",
    "roi_group_info = [{'group_name': 'rois_5_25_25', \n",
    "                   'folder': 'extracted\\\\rois_5_25_25',\n",
    "                   'param_filename': 'extraction_params.pkl', \n",
    "                   'f_filename': 'extracted_f.h5',\n",
    "                   'f_ts_data_str': 'f_5_25_25',\n",
    "                   'baseline_filename': 'baseline_f.h5',\n",
    "                   'baseline_ts_data_str': 'bl_5_25_25',\n",
    "                   'locs_filename': 'roi_locs.pkl'}]\n",
    "\n",
    "# Specify where we will save the dataset relative the subfolder for each dataset\n",
    "ps['save_folder'] = 'extracted'"
   ]
  },
  {
   "cell_type": "markdown",
   "metadata": {},
   "source": [
    "## Read in excel file specifying location of each dataset"
   ]
  },
  {
   "cell_type": "code",
   "execution_count": 4,
   "metadata": {},
   "outputs": [],
   "source": [
    "def c_fcn(str):\n",
    "    return str.replace(\"'\", \"\")\n",
    "converters = {0:c_fcn, 1:c_fcn}\n",
    "\n",
    "data_locs = pd.read_excel(ps['data_loc_file'], header=1, usecols=[1, 2], converters=converters)"
   ]
  },
  {
   "cell_type": "markdown",
   "metadata": {},
   "source": [
    "## Read in excel file with annotations"
   ]
  },
  {
   "cell_type": "code",
   "execution_count": 5,
   "metadata": {},
   "outputs": [],
   "source": [
    "annotations = pd.read_excel(ps['annotation_file'], header=0)"
   ]
  },
  {
   "cell_type": "markdown",
   "metadata": {},
   "source": [
    "## Process each dataset"
   ]
  },
  {
   "cell_type": "code",
   "execution_count": null,
   "metadata": {},
   "outputs": [],
   "source": [
    "n_datasets = len(data_locs)"
   ]
  },
  {
   "cell_type": "code",
   "execution_count": null,
   "metadata": {},
   "outputs": [],
   "source": [
    "for d_i in range(n_datasets):\n",
    "    \n",
    "    # Find the appropriate annotations for this experiment\n",
    "    data_main_folder = data_locs['Main folder'][d_i]\n",
    "    data_sub_folder = data_locs['Subfolder'][d_i]\n",
    "\n",
    "    # Parse the subject from the subfolder string\n",
    "    match = re.search('(?P<subject>.+)-561nm.+', data_sub_folder)\n",
    "    if not match:\n",
    "        raise(RuntimeError('Unable to parse experiment sub-folder name.'))\n",
    "    else:\n",
    "        subject = match['subject']\n",
    "        annot_match_str = data_main_folder + '-' + subject\n",
    "    \n",
    "    annot_rows = annotations['Date and sample'] == annot_match_str\n",
    "    exp_annotations = copy.deepcopy(annotations[annot_rows]).reindex()\n",
    "    \n",
    "    proc_subj = True\n",
    "    if len(exp_annotations) > 0:\n",
    "\n",
    "        metadata = {'manip_event_annotations': exp_annotations}\n",
    "        frame_rate = 1/exp_annotations['Interval Time'].to_numpy()[0]    \n",
    "    else:\n",
    "        warnings.warn('Unable to find any annotations for subject ' + annot_match_str)\n",
    "        proc_subj = False\n",
    "        \n",
    "    if proc_subj:\n",
    "        \n",
    "        # Adjust annotations of manipulation start and stop frames for 0 indexing\n",
    "        exp_annotations['Manipulation Start']  = exp_annotations['Manipulation Start'] - 1\n",
    "        exp_annotations['Manipulation End']  = exp_annotations['Manipulation End'] - 1\n",
    "        \n",
    "        # Determine locations of images\n",
    "        img_folder = Path(ps['image_base_folder']) / data_main_folder / data_sub_folder / ps['image_processed_folder']\n",
    "        \n",
    "        # Prepare information for each group of rois\n",
    "        roi_dicts = []\n",
    "        for g_info in roi_group_info:\n",
    "            extracted_dir =  Path(ps['image_base_folder']) / data_main_folder / data_sub_folder / Path(g_info['folder']) \n",
    "        \n",
    "            # Read in the file with parameter settings for roi extraction and baseline calculations\n",
    "            with open(extracted_dir / g_info['param_filename'], 'rb') as f:\n",
    "                extract_params = pickle.load(f)\n",
    "            \n",
    "            # Create the dataset\n",
    "            roi_values = [{'file': Path(extracted_dir) / g_info['f_filename'], 'name': g_info['f_ts_data_str']},\n",
    "                          {'file': Path(extracted_dir) / g_info['baseline_filename'], 'name': g_info['baseline_ts_data_str']}]\n",
    "            roi_dict = {'group_name': g_info['group_name'], \n",
    "                          'roi_locs_file': Path(extracted_dir) / g_info['locs_filename'], \n",
    "                          'roi_values': roi_values,\n",
    "                          'extra_attributes': {'extract_params': extract_params}}\n",
    "            roi_dicts.append(roi_dict)\n",
    "        \n",
    "        dataset = generate_roi_dataset(img_folder=img_folder, img_ext=ps['img_ext'], frame_rate=frame_rate, roi_dicts=roi_dicts, \n",
    "                                       metadata=metadata)\n",
    "        \n",
    "        # Save the dataset\n",
    "        dataset_file_name = annot_match_str + '_dataset.pkl'\n",
    "        save_file = Path(ps['image_base_folder']) / data_main_folder / data_sub_folder / Path(ps['save_folder']) / dataset_file_name\n",
    "        with open(save_file, 'wb') as f:\n",
    "            pickle.dump(dataset.to_dict(), f)\n",
    "        \n",
    "        print('Done processing subject ' + annot_match_str + '.')\n",
    "        print('Dataset saved to: ' + str(save_file))\n",
    "        \n",
    "        \n",
    "    "
   ]
  }
 ],
 "metadata": {
  "kernelspec": {
   "display_name": "Python 3",
   "language": "python",
   "name": "python3"
  },
  "language_info": {
   "codemirror_mode": {
    "name": "ipython",
    "version": 3
   },
   "file_extension": ".py",
   "mimetype": "text/x-python",
   "name": "python",
   "nbconvert_exporter": "python",
   "pygments_lexer": "ipython3",
   "version": "3.7.3"
  }
 },
 "nbformat": 4,
 "nbformat_minor": 2
}
