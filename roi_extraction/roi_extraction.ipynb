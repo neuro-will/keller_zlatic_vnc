{
 "cells": [
  {
   "cell_type": "markdown",
   "metadata": {},
   "source": [
    "Code for extracting super-voxel ROIS from the Keller/Zlatic data"
   ]
  },
  {
   "cell_type": "code",
   "execution_count": 1,
   "metadata": {},
   "outputs": [],
   "source": [
    "%load_ext autoreload\n",
    "%autoreload 2"
   ]
  },
  {
   "cell_type": "code",
   "execution_count": 2,
   "metadata": {},
   "outputs": [],
   "source": [
    "from pathlib import Path\n",
    "\n",
    "import pandas as pd\n",
    "import pyspark\n",
    "\n",
    "from janelia_core.fileio.exp_reader import read_img_file\n",
    "from keller_zlatic_vnc.raw_data_processing import video_to_supervoxel_baselines"
   ]
  },
  {
   "cell_type": "markdown",
   "metadata": {},
   "source": [
    "## Parameters go here"
   ]
  },
  {
   "cell_type": "code",
   "execution_count": 3,
   "metadata": {},
   "outputs": [],
   "source": [
    "# Location of excel file specifying where the data for each experiment is saved relative to the base folder\n",
    "data_loc_file = r'A:\\projects\\keller_vnc\\data\\experiment_data_locations.xlsx'\n",
    "\n",
    "# Parameters for where the brain mask is located\n",
    "brain_mask_folder = r'A:\\\\projects\\\\keller_vnc\\\\data\\\\registered_brain_mask'\n",
    "brain_mask_file = 'thresholdedVoxelMapSmooth.klb'\n",
    "\n",
    "# Name of the subfolder we create under the [Main Folder]\\[Subfolder]\\ directory to save extracted results\n",
    "extracted_folder = 'extracted\\\\rois'\n",
    "\n",
    "# Additional parameters (constant for all datasets) specifying where the data is stored\n",
    "image_base_folder =r'K:\\\\SV4'\n",
    "image_processed_folder = 'Results\\\\WeightFused'\n",
    "image_ext = r'weightFused.TimeRegistration.templateSpace.klb'\n",
    "\n",
    "# Parameters for how we extract supervoxels\n",
    "roi_extract_opts = {'voxel_size_per_dim':[1, 10, 10], 'brain_mask_perc': .75}\n",
    "\n",
    "# Parameters for calculating baseline\n",
    "baseline_calc_opts = {'window_length': 41, 'filter_start': -20, 'write_offset': 20, 'p': .1, 'n_processes': 80}"
   ]
  },
  {
   "cell_type": "markdown",
   "metadata": {},
   "source": [
    "## Read in excel file specifying location of each dataset"
   ]
  },
  {
   "cell_type": "code",
   "execution_count": 4,
   "metadata": {},
   "outputs": [],
   "source": [
    "def c_fcn(str):\n",
    "    return str.replace(\"'\", \"\")\n",
    "converters = {0:c_fcn, 1:c_fcn}\n",
    "\n",
    "data_locs = pd.read_excel(data_loc_file, header=1, usecols=[1, 2], converters=converters)"
   ]
  },
  {
   "cell_type": "markdown",
   "metadata": {},
   "source": [
    "## Load the brain mask"
   ]
  },
  {
   "cell_type": "code",
   "execution_count": 5,
   "metadata": {},
   "outputs": [],
   "source": [
    "brain_mask_file = Path(brain_mask_folder) / brain_mask_file\n",
    "brain_mask = read_img_file(brain_mask_file)"
   ]
  },
  {
   "cell_type": "markdown",
   "metadata": {},
   "source": [
    "## Create a spark Context"
   ]
  },
  {
   "cell_type": "code",
   "execution_count": 6,
   "metadata": {},
   "outputs": [],
   "source": [
    "conf = pyspark.SparkConf().setMaster('local[20]').setAll([\n",
    "    ('spark.executor.memory', '10g'), ('spark.driver.memory','400g'), ('spark.driver.maxResultSize', '300g')])\n",
    "sc = pyspark.SparkContext(conf=conf)"
   ]
  },
  {
   "cell_type": "markdown",
   "metadata": {},
   "source": [
    "## Process each dataset"
   ]
  },
  {
   "cell_type": "code",
   "execution_count": 7,
   "metadata": {},
   "outputs": [],
   "source": [
    "roi_extract_opts['brain_mask'] = brain_mask"
   ]
  },
  {
   "cell_type": "code",
   "execution_count": 10,
   "metadata": {},
   "outputs": [
    {
     "name": "stdout",
     "output_type": "stream",
     "text": [
      "**********************************************************************************************\n",
      "Processing subject\n",
      "Save directory already exists: K:\\SV4\\CW_17-08-23\\L1-561nm-ROIMonitoring_20170823_145226.corrected\\extracted\\rois\n",
      "==================================================================\n",
      "Beginning supervoxel extraction.\n",
      "==================================================================\n",
      "Searching for image files...\n",
      "Found 5416 images.\n",
      "Extracting: 94914 super voxels from 5416 images.\n",
      "Extracted 94914 ROIS in 776.4003269672394 seconds.\n",
      "==================================================================\n",
      "Beginning baseline calculation.\n",
      "==================================================================\n",
      "Baselines calculated in 384.95537877082825 seconds.\n"
     ]
    }
   ],
   "source": [
    "for d_i in range(1):\n",
    "    print('**********************************************************************************************')\n",
    "    print('Processing subject')\n",
    "    \n",
    "    base_data_dir = Path(image_base_folder) / data_locs['Main folder'][d_i] / data_locs['Subfolder'][d_i] / image_processed_folder\n",
    "    save_dir =  Path(image_base_folder) / data_locs['Main folder'][d_i] / data_locs['Subfolder'][d_i] / Path(extracted_folder)\n",
    "    \n",
    "    roi_info = video_to_supervoxel_baselines(base_data_dir=base_data_dir, save_dir=save_dir, roi_extract_opts=roi_extract_opts, \n",
    "                                       baseline_calc_opts=baseline_calc_opts, new_comp=False, sc=sc)"
   ]
  }
 ],
 "metadata": {
  "kernelspec": {
   "display_name": "Python 3",
   "language": "python",
   "name": "python3"
  },
  "language_info": {
   "codemirror_mode": {
    "name": "ipython",
    "version": 3
   },
   "file_extension": ".py",
   "mimetype": "text/x-python",
   "name": "python",
   "nbconvert_exporter": "python",
   "pygments_lexer": "ipython3",
   "version": "3.7.3"
  }
 },
 "nbformat": 4,
 "nbformat_minor": 2
}
