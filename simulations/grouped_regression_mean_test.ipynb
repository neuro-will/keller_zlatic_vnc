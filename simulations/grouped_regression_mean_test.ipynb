{
 "cells": [
  {
   "cell_type": "markdown",
   "metadata": {},
   "source": [
    "A notebook for verifying the statistics computed for grouped regression, when we are testing to see if one coefficient is different than the average of the rest. \n",
    "\n",
    "Here we consider the setting where we have $S$ subjects and $N_s$ samples from each subject pulled from a model with the following form: \n",
    "\n",
    "$y_{i,s} = c'x_{i,s} + u_i + \\epsilon_{x},$\n",
    "\n",
    "where $y_{i,s}$ is the $i^{th}$ observation for subject $s$, $x_{i,s}$ is a one-hot vector encoding input, $u_i \\sim \\mathcal{N}(0, \\phi)$ is a subject-specific error term and $\\epsilon_i{x} \\sim \\mathcal{N}(0, \\sigma^2_{{x_{i,s}}})$ is a \n",
    "noise term that depends on $x_{i,s}$ (there is a different noise standard deviation depending on the column of x that is active). Intuitively, this is a model where observations take on the mean value of a variable (the coefficents in $c$, depending on which variable is active) and there is also subject-specific offsets that get assigned to the observation. \n",
    "\n",
    "The goal of this script is to generate data from this type of model many times, always keeping $c$ fixed.  We then test to see if each entry in c is different from the mean of the other coefficients. "
   ]
  },
  {
   "cell_type": "code",
   "execution_count": 1,
   "metadata": {},
   "outputs": [],
   "source": [
    "%load_ext autoreload\n",
    "%autoreload 2"
   ]
  },
  {
   "cell_type": "code",
   "execution_count": 2,
   "metadata": {},
   "outputs": [],
   "source": [
    "import matplotlib.pyplot as plt\n",
    "import numpy as np\n",
    "\n",
    "from janelia_core.stats.regression import grouped_linear_regression_ols_estimator\n",
    "from janelia_core.stats.regression import grouped_linear_regression_acm_stats\n",
    "\n",
    "from keller_zlatic_vnc.whole_brain.whole_brain_stat_functions import test_for_different_than_avg_beta"
   ]
  },
  {
   "cell_type": "markdown",
   "metadata": {},
   "source": [
    "# Parameters go here"
   ]
  },
  {
   "cell_type": "code",
   "execution_count": 3,
   "metadata": {},
   "outputs": [],
   "source": [
    "coefs = np.asarray([-2.0, 1.0, -0.5]) # List average actual values for each variable\n",
    "\n",
    "coef_stds = np.asarray([.1, .1, .1]) # List standard deviation of noise associated with observation for each variable\n",
    "\n",
    "corr_err_std = 2.0 # Standard deviation of error that is added to each subject's values \n",
    "\n",
    "n_smps_per_subj = [10, 15] # Range of the number of samples we can observe per subject\n",
    "\n",
    "n_subjs = 100 # Number of subjects we simulate data from \n",
    "\n",
    "n_sims = 1000 # Number of simulations we run to get distributions of p-values"
   ]
  },
  {
   "cell_type": "markdown",
   "metadata": {},
   "source": [
    "## Define some helper functions "
   ]
  },
  {
   "cell_type": "code",
   "execution_count": 4,
   "metadata": {},
   "outputs": [],
   "source": [
    "def gen_subj_data():\n",
    "    \n",
    "    n_coefs = len(coefs)\n",
    "    n_smps = np.random.randint(n_smps_per_subj[0], n_smps_per_subj[1] + 1)\n",
    "    \n",
    "    y = np.zeros(n_smps)\n",
    "    x = np.zeros([n_smps, n_coefs])\n",
    "    \n",
    "    for s_i in range(n_smps):\n",
    "        coef_i = np.random.randint(0, n_coefs)\n",
    "        y[s_i] = coef_stds[coef_i]*np.random.randn() + coefs[coef_i]\n",
    "        x[s_i, coef_i] = 1\n",
    "        \n",
    "    y = y + corr_err_std*np.random.randn()\n",
    "        \n",
    "    return y, x\n",
    "\n",
    "def gen_data():\n",
    "    y = list()\n",
    "    x = list()\n",
    "    g = list()\n",
    "    for subj_i in range(n_subjs):\n",
    "        y_i, x_i = gen_subj_data()\n",
    "        g_i = subj_i*np.ones_like(y_i)\n",
    "        y.append(y_i)\n",
    "        x.append(x_i)\n",
    "        g.append(g_i)\n",
    "        \n",
    "    y = np.concatenate(y, axis=0)\n",
    "    x = np.concatenate(x, axis=0)\n",
    "    g = np.concatenate(g, axis=0)\n",
    "    \n",
    "    return y, x, g"
   ]
  },
  {
   "cell_type": "markdown",
   "metadata": {},
   "source": [
    "## Do a whole bunch of simulations and get distribution of p-values for each coefficient"
   ]
  },
  {
   "cell_type": "code",
   "execution_count": 5,
   "metadata": {},
   "outputs": [],
   "source": [
    "n_coefs = len(coefs)\n",
    "p_vls = np.zeros([n_sims,  n_coefs])\n",
    "for sim_i in range(n_sims):\n",
    "    y_i, x_i, g_i = gen_data()\n",
    "    beta, acm, n_grps = grouped_linear_regression_ols_estimator(x=x_i, y=y_i, g=g_i)\n",
    "    p_vls[sim_i,:], _ = test_for_different_than_avg_beta(beta=beta, acm=acm, n_grps=n_grps, alpha=.05)"
   ]
  },
  {
   "cell_type": "markdown",
   "metadata": {},
   "source": [
    "## Now look at our performance"
   ]
  },
  {
   "cell_type": "code",
   "execution_count": 6,
   "metadata": {},
   "outputs": [
    {
     "data": {
      "image/png": "[encoded data removed]",
      "text/plain": [
       "<Figure size 432x288 with 3 Axes>"
      ]
     },
     "metadata": {
      "needs_background": "light"
     },
     "output_type": "display_data"
    }
   ],
   "source": [
    "plt.figure()\n",
    "for c_i in range(3):\n",
    "    plt.subplot(1,3,c_i+1)\n",
    "    plt.hist(p_vls[:,c_i], bins=np.linspace(0, 1, 10))"
   ]
  }
 ],
 "metadata": {
  "kernelspec": {
   "display_name": "Python 3",
   "language": "python",
   "name": "python3"
  },
  "language_info": {
   "codemirror_mode": {
    "name": "ipython",
    "version": 3
   },
   "file_extension": ".py",
   "mimetype": "text/x-python",
   "name": "python",
   "nbconvert_exporter": "python",
   "pygments_lexer": "ipython3",
   "version": "3.7.3"
  }
 },
 "nbformat": 4,
 "nbformat_minor": 2
}
