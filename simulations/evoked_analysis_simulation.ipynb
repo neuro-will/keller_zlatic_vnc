{
 "cells": [
  {
   "cell_type": "markdown",
   "metadata": {},
   "source": [
    "Simulation, allowing us to validate our models describing how different behaviors are encoded in neural activity.  \n",
    "\n",
    "In particular, these models are designed to describe how a preceeding behavior and succeeding behavior (e.g., behaviors observed before and after optogenetic stimulation is applied) are both encoded in neural activity at any point in time.  \n",
    "\n",
    "We simulate data with a particular eye to the challenges that arise in our experimental setting.  These are: \n",
    "\n",
    "    1) We may only record from individual subjects performing one of the possible set of preceeding behaviors\n",
    "    \n",
    "    2) Each subject may only record a subset of the possible succeeding behaviors\n",
    "    \n",
    "    3) Neural activity recorded from individual subjects may have subject-specific offsets\n",
    "    \n",
    "    4) There is also noise in the recorded neural activity\n",
    "\n",
    "We simulate ground-truth data from models of the following form: $y^s_e = c^\\text{before}_e + c^\\text{after}_e + \\text{ref} + o^s + \\epsilon^s_e$, where: $y^s_e$ is recorded neural activity subject $s$ and event $e$, $\\text{ref}$ is the baseline neural activity for the \"reference\" condition (nominally Quiet -> Quiet), $c^\\text{before}_e$ and $c^\\text{after}_e$ are changes in neural activity if the preceding behavior or succeeding behaviors are non-quiet (there are specific coefficients for each different non-quiet behavior), $o^s$ is subject specific offset and $\\epsilon^s_e$ is noise.\n",
    "\n",
    "We seek to learn the values of $c^\\text{before}_e$ and $c^\\text{after}_e$ for all non-quiet behaviors and to determine when they are significantly different than zero. To do this, we fit models of the following form $y^s_e = c^\\text{before}_e + c^\\text{after}_e + \\text{ref} + \\epsilon_e^s$, where we have dropped the subject-specific offsets.  The reason for this is we are unable to identify them, and as long as they are not correlated with the behaviors we observe in each subject, they essentially just add more noise to the problem. \n",
    "\n",
    "Below we simulate data and fit models and then plot the 95% confidence intervals of the different behavior coefficients and compare these to the ground-truth values.  We want to see that most of the time the 95% confidence intrvals contain the true values.  We use statistical methods that take into account that we see non-independent observations from each subject (due to the subject specific offset). "
   ]
  },
  {
   "cell_type": "code",
   "execution_count": 1,
   "metadata": {},
   "outputs": [],
   "source": [
    "%load_ext autoreload\n",
    "%autoreload 2"
   ]
  },
  {
   "cell_type": "code",
   "execution_count": 2,
   "metadata": {},
   "outputs": [],
   "source": [
    "import numpy as np\n",
    "\n",
    "from janelia_core.stats.regression import grouped_linear_regression_ols_estimator\n",
    "from janelia_core.stats.regression import grouped_linear_regression_acm_stats\n",
    "from janelia_core.stats.regression import visualize_coefficient_stats"
   ]
  },
  {
   "cell_type": "markdown",
   "metadata": {},
   "source": [
    "## Parameters go here "
   ]
  },
  {
   "cell_type": "code",
   "execution_count": 3,
   "metadata": {},
   "outputs": [],
   "source": [
    "# Specify the mean value of the ref, Q->Q, transition\n",
    "ref_coef = .2\n",
    "\n",
    "# Specify the before behaviors and how they are encoded in DFF relative to the ref condition\n",
    "before_behs = ['F', 'B', 'H']\n",
    "before_coefs = [.3, .1, 0.0]\n",
    "\n",
    "# Specify the after behaviors and how they are encoded in DFF relative to the ref condition\n",
    "after_behs = ['F', 'B', 'H']\n",
    "after_coefs = [.7, 0.0, .5]\n",
    "\n",
    "# Specify the standard deviation of subject-specific offsets \n",
    "subj_offset_std = .5\n",
    "\n",
    "# Specify the range that noise standard deviations can take on for different subjects\n",
    "subj_noise_std_range = [.2, .5]\n",
    "\n",
    "# Specify the range of number of events we see per subject.  Bounds are inclusive. \n",
    "subj_n_events_range = [5, 10]\n",
    "\n",
    "# Specify the max number of different after behaviors we can see per subject\n",
    "subj_max_n_after_behs = 2\n",
    "\n",
    "# Specify the number of subjects we record from\n",
    "n_subjs = 250\n",
    "\n",
    "# Alpha value for statistical testing\n",
    "alpha = .05"
   ]
  },
  {
   "cell_type": "markdown",
   "metadata": {},
   "source": [
    "## Generate data "
   ]
  },
  {
   "cell_type": "code",
   "execution_count": 4,
   "metadata": {},
   "outputs": [],
   "source": [
    "subj_noise_std_span = subj_noise_std_range[1] - subj_noise_std_range[0]\n",
    "n_before_behs = len(before_behs) + 1\n",
    "n_after_behs = len(before_behs) + 1"
   ]
  },
  {
   "cell_type": "code",
   "execution_count": 5,
   "metadata": {},
   "outputs": [],
   "source": [
    "x = []\n",
    "y = []\n",
    "g = []\n",
    "for s_n in range(n_subjs):\n",
    "    \n",
    "    # Pick the subject-specific offset for this subject\n",
    "    subj_offset = subj_offset_std*np.random.randn(1)\n",
    "    \n",
    "    # Pick the subject-specific noise std for this subject \n",
    "    subj_noise_std = subj_noise_std_span*np.random.rand(1) + subj_noise_std_range[0]\n",
    "    \n",
    "    # Pick the preceeding behavior - we simulate things so that all subjects have a single class of preceeding \n",
    "    # behavior.  \n",
    "    before_index = np.random.randint(n_before_behs)\n",
    "    if before_index == 0:\n",
    "        before_beh = 'Q'\n",
    "        before_coef = 0.0\n",
    "    else:\n",
    "        before_beh = before_behs[before_index-1]\n",
    "        before_coef = before_coefs[before_index-1]\n",
    "    \n",
    "    # Pick the subset of after behaviors we observe for this subject\n",
    "    n_subj_after_behs = np.random.randint(subj_max_n_after_behs) + 1\n",
    "    after_beh_inds = np.random.choice(n_after_behs, n_subj_after_behs, replace=False)\n",
    "    \n",
    "    # Pick the number of events we see for this subject \n",
    "    n_events = np.random.randint(low=subj_n_events_range[0], high=subj_n_events_range[1]+1, size=1)[0]\n",
    "    \n",
    "\n",
    "    # Generate x, y and g data for this subject:\n",
    "    #     x is a 1-hot encoding of the behavior for an event\n",
    "    #     y is the recorded dff for an event\n",
    "    #     g is the id of the subject \n",
    "    \n",
    "    subj_y = np.zeros(n_events)\n",
    "    subj_x = np.zeros([n_events, n_before_behs + n_after_behs - 2]) # -2 because we don't encode quiet behaviors \n",
    "    subj_g = s_n + np.ones(n_events)\n",
    "    for e_i in range(n_events):\n",
    "        \n",
    "        # Encode the before behavior\n",
    "        if before_index > 0:\n",
    "            subj_x[e_i, before_index-1] = 1\n",
    "        \n",
    "        # Pick the after behavior for this event \n",
    "        after_index = after_beh_inds[np.random.choice(len(after_beh_inds))]\n",
    "        if after_index == 0:\n",
    "            after_beh = 'Q'\n",
    "            after_coef = 0.0\n",
    "        else:\n",
    "            after_beh = after_behs[after_index-1]\n",
    "            after_coef = after_coefs[after_index-1]\n",
    "            subj_x[e_i, n_before_behs + after_index - 2] = 1\n",
    "            \n",
    "        # Generate simulated dff for this event \n",
    "        subj_y[e_i] = ref_coef + before_coef + after_coef + subj_offset + subj_noise_std*np.random.randn(1)\n",
    "        \n",
    "    # Append data for this subject to our collection\n",
    "    y.append(subj_y)\n",
    "    x.append(subj_x)\n",
    "    g.append(subj_g)\n",
    "    \n",
    "# Put all of our data for all subjects into single numpy arrays\n",
    "y = np.concatenate(y, axis=0)\n",
    "x = np.concatenate(x, axis=0)\n",
    "g = np.concatenate(g, axis=0)"
   ]
  },
  {
   "cell_type": "markdown",
   "metadata": {},
   "source": [
    "## Run statistics "
   ]
  },
  {
   "cell_type": "code",
   "execution_count": 6,
   "metadata": {},
   "outputs": [],
   "source": [
    "# Add offset term to x\n",
    "x = np.concatenate([x, np.ones([x.shape[0], 1])], axis=1)\n",
    "\n",
    "# Fit models\n",
    "beta, acm, n_gprs = grouped_linear_regression_ols_estimator(x=x, y=y, g=g)\n",
    "\n",
    "# Calculate statistics\n",
    "mdl_stats = grouped_linear_regression_acm_stats(beta=beta, acm=acm, n_grps=n_gprs, alpha=alpha)"
   ]
  },
  {
   "cell_type": "markdown",
   "metadata": {},
   "source": [
    "## Visualize results\n",
    "\n",
    "The dots indicate the true coefficient values, whereas the error bars indicate the 95% confidence intervals from the modeling results"
   ]
  },
  {
   "cell_type": "code",
   "execution_count": 7,
   "metadata": {},
   "outputs": [],
   "source": [
    "var_strs = ['before_' + beh for beh in before_behs] + ['after_' + beh for beh in after_behs] + ['QQ']"
   ]
  },
  {
   "cell_type": "code",
   "execution_count": 8,
   "metadata": {},
   "outputs": [],
   "source": [
    "true_beta = np.asarray(before_coefs + after_coefs + [ref_coef])"
   ]
  },
  {
   "cell_type": "code",
   "execution_count": 9,
   "metadata": {},
   "outputs": [
    {
     "data": {
      "text/plain": [
       "<AxesSubplot:>"
      ]
     },
     "execution_count": 9,
     "metadata": {},
     "output_type": "execute_result"
    },
    {
     "data": {
      "image/png": "[encoded data removed]",
      "text/plain": [
       "<Figure size 432x288 with 1 Axes>"
      ]
     },
     "metadata": {
      "needs_background": "light"
     },
     "output_type": "display_data"
    }
   ],
   "source": [
    "visualize_coefficient_stats(var_strs=var_strs, theta=true_beta, c_ints=mdl_stats['c_ints'], \n",
    "                            sig=mdl_stats['non_zero'], x_axis_rot=90)"
   ]
  }
 ],
 "metadata": {
  "kernelspec": {
   "display_name": "Python 3",
   "language": "python",
   "name": "python3"
  },
  "language_info": {
   "codemirror_mode": {
    "name": "ipython",
    "version": 3
   },
   "file_extension": ".py",
   "mimetype": "text/x-python",
   "name": "python",
   "nbconvert_exporter": "python",
   "pygments_lexer": "ipython3",
   "version": "3.7.3"
  }
 },
 "nbformat": 4,
 "nbformat_minor": 4
}
