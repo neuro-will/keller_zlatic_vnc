{
 "cells": [
  {
   "cell_type": "code",
   "execution_count": null,
   "metadata": {},
   "outputs": [],
   "source": []
  },
  {
   "cell_type": "code",
   "execution_count": 1,
   "metadata": {},
   "outputs": [],
   "source": [
    "%load_ext autoreload\n",
    "%autoreload 2"
   ]
  },
  {
   "cell_type": "code",
   "execution_count": 53,
   "metadata": {},
   "outputs": [],
   "source": [
    "import numpy as np\n",
    "\n",
    "from janelia_core.stats.regression import linear_regression_ols_estimator"
   ]
  },
  {
   "cell_type": "markdown",
   "metadata": {},
   "source": [
    "## Parameters go here"
   ]
  },
  {
   "cell_type": "code",
   "execution_count": 66,
   "metadata": {},
   "outputs": [],
   "source": [
    "before_behs = ['Q', 'F', 'B']\n",
    "before_coefs = [1.0, 1.5, 1.3]\n",
    "after_behs = ['F', 'B', 'T']\n",
    "after_coefs = [2.3, 2.1, 1.7]\n",
    "\n",
    "noise_std = .01\n",
    "\n",
    "n_smps = 10000\n",
    "\n",
    "before_ref_beh = 'Q'"
   ]
  },
  {
   "cell_type": "markdown",
   "metadata": {},
   "source": [
    "## Generate data "
   ]
  },
  {
   "cell_type": "code",
   "execution_count": 67,
   "metadata": {},
   "outputs": [],
   "source": [
    "n_before_behs = len(before_behs)\n",
    "n_after_behs = len(after_behs)\n",
    "n_behs = n_before_behs + n_after_behs\n",
    "\n",
    "before_beh_inds = np.random.randint(0, n_before_behs, n_smps)\n",
    "after_beh_inds = np.random.randint(0, n_after_behs, n_smps)\n",
    "\n",
    "x_basic = np.zeros([n_smps, n_behs])\n",
    "for s_i in range(n_smps):\n",
    "    x_basic[s_i, before_beh_inds[s_i]] = 1.0\n",
    "    x_basic[s_i, n_before_behs + after_beh_inds[s_i]] = 1.0\n",
    "\n",
    "all_coefs = np.asarray(before_coefs + after_coefs)\n",
    "y = np.matmul(x_basic, all_coefs) + noise_std*np.random.randn(n_smps)"
   ]
  },
  {
   "cell_type": "markdown",
   "metadata": {},
   "source": [
    "## Fit a model and compute statistics "
   ]
  },
  {
   "cell_type": "code",
   "execution_count": 68,
   "metadata": {},
   "outputs": [],
   "source": [
    "fit_cols = np.ones(n_behs, dtype='bool')\n",
    "fit_cols[np.argwhere(np.asarray(before_behs) == before_ref_beh)[0][0]] = False\n",
    "x_fit = x_basic[:, fit_cols]"
   ]
  },
  {
   "cell_type": "code",
   "execution_count": 73,
   "metadata": {},
   "outputs": [],
   "source": [
    "mdl = linear_regression_ols_estimator(x=x_fit, y=y)"
   ]
  },
  {
   "cell_type": "code",
   "execution_count": 81,
   "metadata": {},
   "outputs": [
    {
     "data": {
      "text/plain": [
       "(array([0.5001536 , 0.29984442, 3.29999933, 3.10009064, 2.69992306]),\n",
       " array([[ 5.94162011e-08,  2.95368143e-08, -2.96423008e-08,\n",
       "         -2.92288141e-08, -2.97324371e-08],\n",
       "        [ 2.95368143e-08,  6.00924249e-08, -2.98314696e-08,\n",
       "         -2.92853695e-08, -2.94876534e-08],\n",
       "        [-2.96423008e-08, -2.98314696e-08,  4.96044490e-08,\n",
       "          1.94872480e-08,  1.97225196e-08],\n",
       "        [-2.92288141e-08, -2.92853695e-08,  1.94872480e-08,\n",
       "          4.94952391e-08,  1.94053097e-08],\n",
       "        [-2.97324371e-08, -2.94876534e-08,  1.97225196e-08,\n",
       "          1.94053097e-08,  4.94750399e-08]]))"
      ]
     },
     "execution_count": 81,
     "metadata": {},
     "output_type": "execute_result"
    }
   ],
   "source": [
    "mdl"
   ]
  },
  {
   "cell_type": "code",
   "execution_count": null,
   "metadata": {},
   "outputs": [],
   "source": []
  }
 ],
 "metadata": {
  "kernelspec": {
   "display_name": "Python 3",
   "language": "python",
   "name": "python3"
  },
  "language_info": {
   "codemirror_mode": {
    "name": "ipython",
    "version": 3
   },
   "file_extension": ".py",
   "mimetype": "text/x-python",
   "name": "python",
   "nbconvert_exporter": "python",
   "pygments_lexer": "ipython3",
   "version": "3.7.3"
  }
 },
 "nbformat": 4,
 "nbformat_minor": 4
}
