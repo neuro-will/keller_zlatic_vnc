{
 "cells": [
  {
   "cell_type": "markdown",
   "metadata": {},
   "source": [
    "This is a notebook to check the correspondance between stimulus annotations in Chen and Nadines records of annotations."
   ]
  },
  {
   "cell_type": "code",
   "execution_count": 1,
   "metadata": {},
   "outputs": [
    {
     "name": "stderr",
     "output_type": "stream",
     "text": [
      "/Users/bishopw/Documents/Janelia_Research/Projects/janelia_core/janelia_core/fileio/exp_reader.py:21: UserWarning: Unable to locate pyklb module.  Will not be able to read in .klb files.\n",
      "  warnings.warn('Unable to locate pyklb module.  Will not be able to read in .klb files.')\n"
     ]
    }
   ],
   "source": [
    "import copy\n",
    "import glob \n",
    "from pathlib import Path\n",
    "\n",
    "import matplotlib.pyplot as plt\n",
    "import numpy as np\n",
    "import pandas as pd\n",
    "\n",
    "from keller_zlatic_vnc.data_processing import find_before_and_after_events\n",
    "from keller_zlatic_vnc.data_processing import generate_standard_id_for_full_annots\n",
    "from keller_zlatic_vnc.data_processing import read_full_annotations\n",
    "from keller_zlatic_vnc.data_processing import read_trace_data\n",
    "from keller_zlatic_vnc.data_processing import read_raw_transitions_from_excel"
   ]
  },
  {
   "cell_type": "code",
   "execution_count": 2,
   "metadata": {},
   "outputs": [],
   "source": [
    "%load_ext autoreload\n",
    "%autoreload 2"
   ]
  },
  {
   "cell_type": "code",
   "execution_count": 3,
   "metadata": {},
   "outputs": [],
   "source": [
    "%matplotlib notebook"
   ]
  },
  {
   "cell_type": "markdown",
   "metadata": {},
   "source": [
    "## Parameters go here"
   ]
  },
  {
   "cell_type": "code",
   "execution_count": 4,
   "metadata": {},
   "outputs": [],
   "source": [
    "ps = dict()\n",
    "\n",
    "# The file specifying which subjects we should include in the analysis\n",
    "ps['subject_file'] = r'/Volumes/bishoplab/projects/keller_vnc/data/single_cell/subjects.csv'\n",
    "\n",
    "# Location of files provided by Chen containing the raw fluorescence traces for the single cells\n",
    "#ps['trace_base_folder'] = r'/Volumes/bishoplab/projects/keller_vnc/data/single_cell/single_cell_traces'\n",
    "#ps['a00c_trace_folder'] = 'A00c'\n",
    "#ps['basin_trace_folder'] = 'Basin'\n",
    "#ps['handle_trace_folder'] = 'Handle'\n",
    "\n",
    "# Location of folders containing annotations from Nadine\n",
    "#ps['a4_annot_folder'] = r'/Volumes/bishoplab/projects/keller_vnc/data/full_annotations/behavior_csv_cl_A4'\n",
    "#ps['a9_annot_folder'] = r'/Volumes/bishoplab/projects/keller_vnc/data/full_annotations/behavior_csv_cl_A9'\n",
    "\n",
    "ps['a4_annot_folder'] = r'/Volumes/bishoplab/projects/keller_vnc/data/full_annotations/behavior_csv_cl_A4'\n",
    "ps['a9_annot_folder'] = r'/Volumes/bishoplab/projects/keller_vnc/data/full_annotations/behavior_csv_cl_A9'\n",
    "\n",
    "\n",
    "# Location of file containing annotations from Chen\n",
    "#ps['chen_file'] = r'/Volumes/bishoplab/projects/keller_vnc/data/extracted_dff_v2/transition_list.xlsx'\n",
    "ps['chen_file'] = r'/Volumes/bishoplab/projects/keller_vnc/data/extracted_dff_v2/transition_list_CW_11202021.xlsx'\n",
    "\n",
    "# Parameters for declaring preceeding quiet behaviors\n",
    "ps['pre_q_th'] = 50\n"
   ]
  },
  {
   "cell_type": "markdown",
   "metadata": {},
   "source": [
    "## Read in Nadine's version of annotations for stimulations"
   ]
  },
  {
   "cell_type": "code",
   "execution_count": 5,
   "metadata": {},
   "outputs": [],
   "source": [
    "# Get the list of all subjects we need to process\n",
    "subjects = list(pd.read_csv(ps['subject_file'])['Subject'])"
   ]
  },
  {
   "cell_type": "code",
   "execution_count": 6,
   "metadata": {},
   "outputs": [],
   "source": [
    "# Get list of subjects we have annotations for\n",
    "a4_file_paths = glob.glob(str(Path(ps['a4_annot_folder']) / '*.csv'))\n",
    "a9_file_paths = glob.glob(str(Path(ps['a9_annot_folder']) / '*.csv'))\n",
    "\n",
    "n_annot_files = len(a4_file_paths) + len(a9_file_paths)\n",
    "a4_files = np.zeros(n_annot_files, dtype=np.bool)\n",
    "a4_files[0:len(a4_file_paths)] = True\n",
    "\n",
    "annot_file_paths = a4_file_paths + a9_file_paths\n",
    "\n",
    "annot_file_names = [Path(p).name for p in annot_file_paths]\n",
    "annot_subjs = [generate_standard_id_for_full_annots(fn) for fn in annot_file_names]"
   ]
  },
  {
   "cell_type": "code",
   "execution_count": 7,
   "metadata": {},
   "outputs": [],
   "source": [
    "# Get stimulus events for each subject we analyze\n",
    "nadine_events = pd.DataFrame()\n",
    "\n",
    "for subj in subjects:\n",
    "    \n",
    "    # Find the annotations for this subject\n",
    "    ind = np.argwhere(np.asarray(annot_subjs) == subj)\n",
    "    ind = ind[0][0]\n",
    "        \n",
    "    # Load the annotations for this subject\n",
    "    tbl = read_full_annotations(annot_file_paths[ind])\n",
    "    \n",
    "    # Pull out stimulus events for this subject, noting what comes before and after\n",
    "    stim_tbl = copy.deepcopy(tbl[tbl['beh'] == 'S'])\n",
    "    stim_tbl.insert(0, 'subject_id', subj)\n",
    "    stim_tbl.insert(1, 'event_id', range(stim_tbl.shape[0]))\n",
    "    if a4_files[ind] == True:\n",
    "        stim_tbl.insert(2, 'manipulation_tgt', 'A4')\n",
    "    else:\n",
    "        stim_tbl.insert(2, 'manipulation_tgt', 'A9')\n",
    "    before_after_tbl = find_before_and_after_events(events=stim_tbl, all_events=tbl)\n",
    "    stim_annots = pd.concat([stim_tbl, before_after_tbl], axis=1)\n",
    "    nadine_events = nadine_events.append(stim_annots, ignore_index=True)\n"
   ]
  },
  {
   "cell_type": "markdown",
   "metadata": {},
   "source": [
    "## Read in Chen's version of annotations for stimulations"
   ]
  },
  {
   "cell_type": "code",
   "execution_count": 8,
   "metadata": {},
   "outputs": [],
   "source": [
    "chen_events = read_raw_transitions_from_excel(file=ps['chen_file'])\n",
    "chen_events = chen_events.rename(columns={'Manipulation Start': 'start', 'Manipulation End': 'end'})"
   ]
  },
  {
   "cell_type": "code",
   "execution_count": 9,
   "metadata": {},
   "outputs": [],
   "source": [
    "nadine_events['start'] += 1\n",
    "nadine_events['end'] += 1\n",
    "chen_events['start'] += 1\n",
    "chen_events['end'] += 1"
   ]
  },
  {
   "cell_type": "markdown",
   "metadata": {},
   "source": [
    "## Check for correspondance subject by subject"
   ]
  },
  {
   "cell_type": "code",
   "execution_count": 10,
   "metadata": {},
   "outputs": [],
   "source": [
    "def tbls_match(tbl1, tbl2):\n",
    "    \"\"\" Check if every event in tabe 1 has a match in table 2\"\"\"\n",
    "    for row_i, row in tbl1.iterrows():\n",
    "        start_match = (tbl2['start'] == row['start']).to_numpy()\n",
    "        end_match = (tbl2['end'] == row['end']).to_numpy()\n",
    "        \n",
    "        if np.sum(start_match) == 1 and np.sum(end_match) == 1:\n",
    "            if not np.all(start_match == end_match):\n",
    "                return False\n",
    "        else:\n",
    "            return False\n",
    "    \n",
    "    return True"
   ]
  },
  {
   "cell_type": "code",
   "execution_count": 11,
   "metadata": {},
   "outputs": [],
   "source": [
    "startrow = 0\n",
    "with pd.ExcelWriter('/Users/bishopw/Desktop/compare_events/comparisons.xlsx') as writer:\n",
    "    for subj in subjects:\n",
    "        nadine_tbl = nadine_events[nadine_events['subject_id'] == subj]\n",
    "        chen_tbl = chen_events[chen_events['subject_id'] == subj]\n",
    "    \n",
    "        if not (tbls_match(nadine_tbl, chen_tbl) and tbls_match(chen_tbl, nadine_tbl)):\n",
    "        \n",
    "            nadine_tbl[['subject_id', 'start', 'end']].to_excel(writer, startrow=startrow)\n",
    "            chen_tbl[['subject_id', 'start', 'end']].to_excel(writer, startrow=startrow, startcol=5)\n",
    "            startrow += nadine_tbl.shape[0] + 3"
   ]
  },
  {
   "cell_type": "code",
   "execution_count": null,
   "metadata": {},
   "outputs": [],
   "source": []
  }
 ],
 "metadata": {
  "kernelspec": {
   "display_name": "Python 3",
   "language": "python",
   "name": "python3"
  },
  "language_info": {
   "codemirror_mode": {
    "name": "ipython",
    "version": 3
   },
   "file_extension": ".py",
   "mimetype": "text/x-python",
   "name": "python",
   "nbconvert_exporter": "python",
   "pygments_lexer": "ipython3",
   "version": "3.7.3"
  }
 },
 "nbformat": 4,
 "nbformat_minor": 4
}
