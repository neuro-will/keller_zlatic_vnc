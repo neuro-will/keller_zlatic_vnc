{
 "cells": [
  {
   "cell_type": "markdown",
   "metadata": {},
   "source": [
    "A notebook for generating tables of single cell results when we break things out by segment for specific cell types"
   ]
  },
  {
   "cell_type": "code",
   "execution_count": 1,
   "metadata": {},
   "outputs": [],
   "source": [
    "%load_ext autoreload\n",
    "%autoreload 2"
   ]
  },
  {
   "cell_type": "code",
   "execution_count": 2,
   "metadata": {},
   "outputs": [],
   "source": [
    "import glob\n",
    "import itertools\n",
    "from pathlib import Path\n",
    "import pickle\n",
    "\n",
    "import matplotlib.pyplot as plt\n",
    "import numpy as np\n",
    "import pandas as pd\n",
    "\n",
    "from janelia_core.stats.multiple_comparisons import apply_by\n",
    "from janelia_core.stats.multiple_comparisons import apply_bonferroni\n",
    "from janelia_core.stats.regression import visualize_coefficient_stats"
   ]
  },
  {
   "cell_type": "code",
   "execution_count": 3,
   "metadata": {},
   "outputs": [],
   "source": [
    "%matplotlib notebook"
   ]
  },
  {
   "cell_type": "markdown",
   "metadata": {},
   "source": [
    "### Parameters go here "
   ]
  },
  {
   "cell_type": "code",
   "execution_count": 4,
   "metadata": {},
   "outputs": [],
   "source": [
    "# Specify folders where raw results for all analyses are\n",
    "base_folders = [r'/Volumes/bishoplab/projects/keller_vnc/results/single_cell/publication_results_v1/a00c']#, \n",
    "               #r'/Volumes/bishoplab/projects/keller_vnc/results/single_cell/publication_results_v1/basin']#,\n",
    "               #r'/Volumes/bishoplab/projects/keller_vnc/results/single_cell/publication_results_v2/handle']\n",
    "                \n",
    "# File where table should be saved\n",
    "save_file= r'/Volumes/bishoplab/projects/keller_vnc/results/single_cell/publication_results_v2/a00c_segment_results.xlsx'\n",
    "\n",
    "# The regex pattern for results files\n",
    "rs_file_str = 'rs_*.pkl'\n",
    "\n",
    "# Specify the results that will go in the table\n",
    "# Determine how we will populate the table\n",
    "man_tgt = 'A4' # None corresponds to both A4 and A9 manipulations\n",
    "\n",
    "# Specify if we look at results for pooled turns or not\n",
    "pool_turns = True\n",
    "\n",
    "# Specify the type of test we want results for, and how we abbreivate them \n",
    "test_types = {'SDAR': 'after_reporting', \n",
    "              'DD': 'decision_dependence',\n",
    "              'PD': 'prediction_dependence',\n",
    "              'BR': 'before_reporting'}\n",
    "\n",
    "# Specify the cell type and segments we want results for and how we abbreviate them \n",
    "if True:\n",
    "    cell_type = 'a00c'\n",
    "    segment_ids = {'ant': ['antL', 'antR'],\n",
    "                   'mid': ['midL', 'midR'],\n",
    "                   'post': ['postL', 'postR']}\n",
    "if False:\n",
    "    cell_type = 'basin'\n",
    "    segment_ids = {'A1': ['A1R', 'A1L', '1AL', '1AR'],\n",
    "                   'A2': ['A2L', 'A2R', '2AL', '2AR'],\n",
    "                   'A3': ['A3R', 'A3L', '3AL', '3AR'],\n",
    "                   'A4': ['A4R', 'A4L', '4AL', '4AR'],\n",
    "                   'A5': ['A5R', '5AL', '5AR', 'A5L '],\n",
    "                   'A6': ['A6L','A6R', '6AL', '6AR'],\n",
    "                   'A7': ['A7L', 'A7R', '7AL', '7AR'],\n",
    "                   'A8': ['A8L', 'A8R', '8AL', '8AR'],\n",
    "                   'A9': ['A9R', 'A9L', '9AL', '9AR'],\n",
    "                   'T1': ['T1L', '1TL', 'T1R'],\n",
    "                   'T2': ['T2R', 'T2L', '2TL', '2TR'],\n",
    "                   'T3': ['T3L', 'T3R', '3TL', '3TR']}\n",
    "\n",
    "if False:\n",
    "    cell_type = 'handle'\n",
    "    segment_ids = {'A1': ['A1'],\n",
    "                   'A2': ['A2'],\n",
    "                   'A3': ['A3'],\n",
    "                   'A4': ['A4'],\n",
    "                   'A5': ['A5', 'A5  '],\n",
    "                   'A6': ['A6'],\n",
    "                   'A7': ['A7'],\n",
    "                   'A8': ['A8'],\n",
    "                   'A9': ['A9'],\n",
    "                   'T1': ['T1'],\n",
    "                   'T2': ['T2'],\n",
    "                   'T3': ['T3']}\n",
    "    \n",
    "# Generate table filter\n",
    "tbl_filter = {}\n",
    "for test_type_ab, test_type in test_types.items():\n",
    "    for segment_id_ab, cell_ids in segment_ids.items():\n",
    "        tbl_filter[test_type_ab + '_' + cell_type + '_' + segment_id_ab] = {'cell_type': cell_type, \n",
    "                                                                           'man_tgt': man_tgt,\n",
    "                                                                           'test_type': test_type,\n",
    "                                                                           'cell_ids': cell_ids, \n",
    "                                                                           'pool_turns': pool_turns}\n",
    "\n",
    "# Specify if we show stats for the original models or the the mean comparisons\n",
    "stats_type = 'orig_fit' # 'orig_fit' or 'mean_cmp'\n",
    "\n",
    "# Level to control for multiple comparisons at \n",
    "mc_alpha = .05"
   ]
  },
  {
   "cell_type": "markdown",
   "metadata": {},
   "source": [
    "## Load base results"
   ]
  },
  {
   "cell_type": "code",
   "execution_count": 5,
   "metadata": {},
   "outputs": [],
   "source": [
    "all_files = []\n",
    "for folder in base_folders:\n",
    "    all_files.append(glob.glob(str(Path(folder) / rs_file_str)))\n",
    "all_files = list(itertools.chain(*all_files))"
   ]
  },
  {
   "cell_type": "code",
   "execution_count": 6,
   "metadata": {},
   "outputs": [],
   "source": [
    "all_rs = []\n",
    "for f in all_files:\n",
    "    with open(f, 'rb') as fl: \n",
    "        all_rs.append(pickle.load(fl))"
   ]
  },
  {
   "cell_type": "markdown",
   "metadata": {},
   "source": [
    "## Filter results"
   ]
  },
  {
   "cell_type": "code",
   "execution_count": 7,
   "metadata": {},
   "outputs": [],
   "source": [
    "def match(rs_l, match_dict):\n",
    "    match = True\n",
    "    for k in match_dict:\n",
    "        if match_dict[k] is None:\n",
    "            if rs_l['ps'][k] is not None:\n",
    "                match = False\n",
    "        else:\n",
    "            if rs_l['ps'][k] != match_dict[k]:\n",
    "                match = False\n",
    "    return match"
   ]
  },
  {
   "cell_type": "code",
   "execution_count": 8,
   "metadata": {},
   "outputs": [
    {
     "data": {
      "text/plain": [
       "{'SDAR_a00c_ant': {'cell_type': 'a00c',\n",
       "  'man_tgt': 'A4',\n",
       "  'test_type': 'after_reporting',\n",
       "  'cell_ids': ['antL', 'antR'],\n",
       "  'pool_turns': True},\n",
       " 'SDAR_a00c_mid': {'cell_type': 'a00c',\n",
       "  'man_tgt': 'A4',\n",
       "  'test_type': 'after_reporting',\n",
       "  'cell_ids': ['midL', 'midR'],\n",
       "  'pool_turns': True},\n",
       " 'SDAR_a00c_post': {'cell_type': 'a00c',\n",
       "  'man_tgt': 'A4',\n",
       "  'test_type': 'after_reporting',\n",
       "  'cell_ids': ['postL', 'postR'],\n",
       "  'pool_turns': True},\n",
       " 'DD_a00c_ant': {'cell_type': 'a00c',\n",
       "  'man_tgt': 'A4',\n",
       "  'test_type': 'decision_dependence',\n",
       "  'cell_ids': ['antL', 'antR'],\n",
       "  'pool_turns': True},\n",
       " 'DD_a00c_mid': {'cell_type': 'a00c',\n",
       "  'man_tgt': 'A4',\n",
       "  'test_type': 'decision_dependence',\n",
       "  'cell_ids': ['midL', 'midR'],\n",
       "  'pool_turns': True},\n",
       " 'DD_a00c_post': {'cell_type': 'a00c',\n",
       "  'man_tgt': 'A4',\n",
       "  'test_type': 'decision_dependence',\n",
       "  'cell_ids': ['postL', 'postR'],\n",
       "  'pool_turns': True},\n",
       " 'PD_a00c_ant': {'cell_type': 'a00c',\n",
       "  'man_tgt': 'A4',\n",
       "  'test_type': 'prediction_dependence',\n",
       "  'cell_ids': ['antL', 'antR'],\n",
       "  'pool_turns': True},\n",
       " 'PD_a00c_mid': {'cell_type': 'a00c',\n",
       "  'man_tgt': 'A4',\n",
       "  'test_type': 'prediction_dependence',\n",
       "  'cell_ids': ['midL', 'midR'],\n",
       "  'pool_turns': True},\n",
       " 'PD_a00c_post': {'cell_type': 'a00c',\n",
       "  'man_tgt': 'A4',\n",
       "  'test_type': 'prediction_dependence',\n",
       "  'cell_ids': ['postL', 'postR'],\n",
       "  'pool_turns': True},\n",
       " 'BR_a00c_ant': {'cell_type': 'a00c',\n",
       "  'man_tgt': 'A4',\n",
       "  'test_type': 'before_reporting',\n",
       "  'cell_ids': ['antL', 'antR'],\n",
       "  'pool_turns': True},\n",
       " 'BR_a00c_mid': {'cell_type': 'a00c',\n",
       "  'man_tgt': 'A4',\n",
       "  'test_type': 'before_reporting',\n",
       "  'cell_ids': ['midL', 'midR'],\n",
       "  'pool_turns': True},\n",
       " 'BR_a00c_post': {'cell_type': 'a00c',\n",
       "  'man_tgt': 'A4',\n",
       "  'test_type': 'before_reporting',\n",
       "  'cell_ids': ['postL', 'postR'],\n",
       "  'pool_turns': True}}"
      ]
     },
     "execution_count": 8,
     "metadata": {},
     "output_type": "execute_result"
    }
   ],
   "source": [
    "tbl_filter"
   ]
  },
  {
   "cell_type": "code",
   "execution_count": 9,
   "metadata": {},
   "outputs": [],
   "source": [
    "tbl_matches = dict()\n",
    "for k in tbl_filter.keys():\n",
    "    matches = np.argwhere([match(rs_i, tbl_filter[k]) for rs_i in all_rs])\n",
    "    if  len(matches) > 1:\n",
    "        raise(RuntimeError('Found multiple matches for key ' + k + '.'))\n",
    "    if len(matches) != 0:\n",
    "        tbl_matches[k] = matches[0][0]\n",
    "    else:\n",
    "        print('Unable to find match for ' + k)\n"
   ]
  },
  {
   "cell_type": "markdown",
   "metadata": {},
   "source": [
    "## Get statistical results "
   ]
  },
  {
   "cell_type": "code",
   "execution_count": 10,
   "metadata": {},
   "outputs": [],
   "source": [
    "tbl_stats = dict()\n",
    "for k in tbl_matches.keys():\n",
    "    rs_k = all_rs[tbl_matches[k]]\n",
    "    if stats_type == 'orig_fit':\n",
    "        behs = rs_k['rs']['one_hot_vars_ref'][0:-1]\n",
    "        p_vls = rs_k['rs']['init_fit_stats']['non_zero_p'][0:-1]\n",
    "        beta = rs_k['rs']['init_fit']['beta'][0:-1]\n",
    "        \n",
    "        \n",
    "        # Save extra information that is not necessary for making the table but useful for visualizing stats for\n",
    "        # an original fit\n",
    "        all_behs = rs_k['rs']['one_hot_vars_ref']\n",
    "        all_p_vls = rs_k['rs']['init_fit_stats']['non_zero_p']\n",
    "        all_beta = rs_k['rs']['init_fit']['beta']\n",
    "        all_c_ints = rs_k['rs']['init_fit_stats']['c_ints']\n",
    "        \n",
    "        \n",
    "        \n",
    "        tbl_stats[k] = {'behs': behs, 'beta': beta, 'p_vls': p_vls, \n",
    "                        'all_behs': all_behs, 'all_p_vls': all_p_vls, 'all_beta': all_beta, 'all_c_ints': all_c_ints}\n",
    "        \n",
    "        \n",
    "        \n",
    "    elif stats_type == 'mean_cmp':\n",
    "        tbl_stats[k] = {'behs': rs_k['rs']['cmp_stats']['cmp_vars'], \n",
    "                        'beta': np.ones(len(rs_k['rs']['cmp_stats']['cmp_vars'])),\n",
    "                        'p_vls': rs_k['rs']['cmp_stats']['cmp_p_vls']}\n",
    "    else:\n",
    "        raise(ValueError('stats_type must be orig_fit or mean_cmp'))\n"
   ]
  },
  {
   "cell_type": "markdown",
   "metadata": {},
   "source": [
    "## Apply multiple comparisons adjustment"
   ]
  },
  {
   "cell_type": "code",
   "execution_count": 11,
   "metadata": {},
   "outputs": [],
   "source": [
    "all_p_vls = []\n",
    "map_back_inds = dict()\n",
    "cur_ind = 0\n",
    "for k in tbl_stats.keys():\n",
    "    all_p_vls.append(tbl_stats[k]['p_vls'])\n",
    "    map_back_inds[k] = np.arange(len(tbl_stats[k]['p_vls'])) + cur_ind\n",
    "    cur_ind += len(tbl_stats[k]['p_vls'])\n",
    "    \n",
    "all_p_vls = np.concatenate(all_p_vls)"
   ]
  },
  {
   "cell_type": "code",
   "execution_count": 12,
   "metadata": {},
   "outputs": [],
   "source": [
    "_, adjusted_p_vls = apply_by(all_p_vls, mc_alpha)\n",
    "for k in tbl_stats.keys():\n",
    "    tbl_stats[k]['adjusted_p_vls'] = adjusted_p_vls[map_back_inds[k]]"
   ]
  },
  {
   "cell_type": "markdown",
   "metadata": {},
   "source": [
    "## Put results in tables"
   ]
  },
  {
   "cell_type": "code",
   "execution_count": 13,
   "metadata": {},
   "outputs": [],
   "source": [
    "def create_p_vl_tbl(stats, p_vl_str):\n",
    "    \n",
    "    rows = list(stats.keys())\n",
    "    n_rows = len(rows)\n",
    "    \n",
    "    all_behs = list(set(list(itertools.chain(*[stats[k]['behs'] for k in rows]))))\n",
    "    all_behs.sort()\n",
    "    all_behs = [all_behs[i] for i in range(len(all_behs)-1, -1, -1)]\n",
    "    n_behs = len(all_behs)\n",
    "    \n",
    "    \n",
    "    tbl = pd.DataFrame(np.zeros([n_rows, n_behs]), index=rows, columns=all_behs)\n",
    "    \n",
    "    for row in rows:\n",
    "        for beh in all_behs:\n",
    "            if beh in stats[row]['behs']:\n",
    "                beh_i = np.argwhere(np.asarray(stats[row]['behs']) == beh)[0][0]\n",
    "                sign = np.sign(stats[row]['beta'][beh_i])\n",
    "                tbl[beh][row] = sign*stats[row][p_vl_str][beh_i]\n",
    "            else:\n",
    "                tbl[beh][row] = np.nan\n",
    "    \n",
    "    return tbl"
   ]
  },
  {
   "cell_type": "code",
   "execution_count": 14,
   "metadata": {},
   "outputs": [],
   "source": [
    "def create_conf_int_tbl(stats):\n",
    "    \n",
    "    rows = list(stats.keys())\n",
    "    n_rows = len(rows)\n",
    "    \n",
    "    all_behs = list(set(list(itertools.chain(*[stats[k]['behs'] for k in rows]))))\n",
    "    all_behs.sort()\n",
    "    all_behs = [all_behs[i] for i in range(len(all_behs)-1, -1, -1)]\n",
    "    n_behs = len(all_behs)\n",
    "    \n",
    "    row_indices = list(itertools.chain(*[[r + '_ub', r + '_lb'] for r in rows]))\n",
    "    tbl = pd.DataFrame(np.zeros([2*n_rows, n_behs]), index=row_indices, columns=all_behs)\n",
    "    \n",
    "    for row in rows:\n",
    "        for beh in all_behs:\n",
    "            if beh in stats[row]['behs']:\n",
    "                beh_i = np.argwhere(np.asarray(stats[row]['behs']) == beh)[0][0]\n",
    "                tbl[beh][row + '_lb'] = stats[row]['all_c_ints'][0][beh_i]\n",
    "                tbl[beh][row + '_ub'] = stats[row]['all_c_ints'][1][beh_i]\n",
    "            else:\n",
    "                tbl[beh][row + '_lb'] = np.nan\n",
    "                tbl[beh][row + '_ub'] = np.nan\n",
    "    \n",
    "    return tbl"
   ]
  },
  {
   "cell_type": "code",
   "execution_count": 15,
   "metadata": {},
   "outputs": [],
   "source": [
    "def create_beta_tbl(stats):\n",
    "    \n",
    "    rows = list(stats.keys())\n",
    "    n_rows = len(rows)\n",
    "    \n",
    "    all_behs = list(set(list(itertools.chain(*[stats[k]['behs'] for k in rows]))))\n",
    "    all_behs.sort()\n",
    "    all_behs = [all_behs[i] for i in range(len(all_behs)-1, -1, -1)]\n",
    "    n_behs = len(all_behs)\n",
    "    \n",
    "    \n",
    "    tbl = pd.DataFrame(np.zeros([n_rows, n_behs]), index=rows, columns=all_behs)\n",
    "    \n",
    "    for row in rows:\n",
    "        for beh in all_behs:\n",
    "            if beh in stats[row]['behs']:\n",
    "                beh_i = np.argwhere(np.asarray(stats[row]['behs']) == beh)[0][0]\n",
    "                tbl[beh][row] = stats[row]['beta'][beh_i]\n",
    "            else:\n",
    "                tbl[beh][row] = np.nan\n",
    "    \n",
    "    return tbl"
   ]
  },
  {
   "cell_type": "code",
   "execution_count": 16,
   "metadata": {},
   "outputs": [],
   "source": [
    "p_vl_tbl = create_p_vl_tbl(tbl_stats, 'p_vls')\n",
    "adj_p_vl_tbl = create_p_vl_tbl(tbl_stats, 'adjusted_p_vls')\n",
    "\n",
    "beta_tbl = create_beta_tbl(tbl_stats)\n",
    "\n",
    "c_int_tbl = create_conf_int_tbl(tbl_stats)"
   ]
  },
  {
   "cell_type": "markdown",
   "metadata": {},
   "source": [
    "## Visualize tables"
   ]
  },
  {
   "cell_type": "code",
   "execution_count": 17,
   "metadata": {},
   "outputs": [],
   "source": [
    "def style_negative(v):\n",
    "    return 'color:red;' if v < 0 else None\n",
    "def fade_non_sig(v):\n",
    "    return 'opacity: 10%;' if (np.abs(v) > mc_alpha) else None"
   ]
  },
  {
   "cell_type": "code",
   "execution_count": 18,
   "metadata": {},
   "outputs": [],
   "source": [
    "styled_p_vl_tbl = p_vl_tbl.style.applymap(style_negative).applymap(fade_non_sig)\n",
    "styled_adj_p_vl_tbl = adj_p_vl_tbl.style.applymap(style_negative).applymap(fade_non_sig)"
   ]
  },
  {
   "cell_type": "code",
   "execution_count": 19,
   "metadata": {},
   "outputs": [],
   "source": [
    "#styled_p_vl_tbl"
   ]
  },
  {
   "cell_type": "code",
   "execution_count": 20,
   "metadata": {},
   "outputs": [
    {
     "data": {
      "text/html": [
       "<style  type=\"text/css\" >\n",
       "#T_3d503e64_7f94_11ec_9cf9_acde48001122row0_col0,#T_3d503e64_7f94_11ec_9cf9_acde48001122row0_col1,#T_3d503e64_7f94_11ec_9cf9_acde48001122row0_col2,#T_3d503e64_7f94_11ec_9cf9_acde48001122row0_col5,#T_3d503e64_7f94_11ec_9cf9_acde48001122row1_col0,#T_3d503e64_7f94_11ec_9cf9_acde48001122row1_col2,#T_3d503e64_7f94_11ec_9cf9_acde48001122row2_col1,#T_3d503e64_7f94_11ec_9cf9_acde48001122row2_col2,#T_3d503e64_7f94_11ec_9cf9_acde48001122row2_col4,#T_3d503e64_7f94_11ec_9cf9_acde48001122row3_col0,#T_3d503e64_7f94_11ec_9cf9_acde48001122row3_col3,#T_3d503e64_7f94_11ec_9cf9_acde48001122row3_col4,#T_3d503e64_7f94_11ec_9cf9_acde48001122row3_col5,#T_3d503e64_7f94_11ec_9cf9_acde48001122row4_col0,#T_3d503e64_7f94_11ec_9cf9_acde48001122row4_col1,#T_3d503e64_7f94_11ec_9cf9_acde48001122row4_col2,#T_3d503e64_7f94_11ec_9cf9_acde48001122row4_col3,#T_3d503e64_7f94_11ec_9cf9_acde48001122row4_col4,#T_3d503e64_7f94_11ec_9cf9_acde48001122row5_col0,#T_3d503e64_7f94_11ec_9cf9_acde48001122row5_col1,#T_3d503e64_7f94_11ec_9cf9_acde48001122row5_col2,#T_3d503e64_7f94_11ec_9cf9_acde48001122row5_col3,#T_3d503e64_7f94_11ec_9cf9_acde48001122row5_col4,#T_3d503e64_7f94_11ec_9cf9_acde48001122row6_col0,#T_3d503e64_7f94_11ec_9cf9_acde48001122row8_col0,#T_3d503e64_7f94_11ec_9cf9_acde48001122row9_col0,#T_3d503e64_7f94_11ec_9cf9_acde48001122row11_col0,#T_3d503e64_7f94_11ec_9cf9_acde48001122row11_col4{\n",
       "            opacity:  10%;\n",
       "        }#T_3d503e64_7f94_11ec_9cf9_acde48001122row0_col3,#T_3d503e64_7f94_11ec_9cf9_acde48001122row1_col3,#T_3d503e64_7f94_11ec_9cf9_acde48001122row1_col5,#T_3d503e64_7f94_11ec_9cf9_acde48001122row2_col0,#T_3d503e64_7f94_11ec_9cf9_acde48001122row2_col3,#T_3d503e64_7f94_11ec_9cf9_acde48001122row2_col5,#T_3d503e64_7f94_11ec_9cf9_acde48001122row3_col1,#T_3d503e64_7f94_11ec_9cf9_acde48001122row3_col2,#T_3d503e64_7f94_11ec_9cf9_acde48001122row4_col5,#T_3d503e64_7f94_11ec_9cf9_acde48001122row5_col5,#T_3d503e64_7f94_11ec_9cf9_acde48001122row6_col3,#T_3d503e64_7f94_11ec_9cf9_acde48001122row6_col4,#T_3d503e64_7f94_11ec_9cf9_acde48001122row6_col5,#T_3d503e64_7f94_11ec_9cf9_acde48001122row7_col3,#T_3d503e64_7f94_11ec_9cf9_acde48001122row7_col4,#T_3d503e64_7f94_11ec_9cf9_acde48001122row7_col5,#T_3d503e64_7f94_11ec_9cf9_acde48001122row8_col3,#T_3d503e64_7f94_11ec_9cf9_acde48001122row8_col4,#T_3d503e64_7f94_11ec_9cf9_acde48001122row8_col5,#T_3d503e64_7f94_11ec_9cf9_acde48001122row9_col3,#T_3d503e64_7f94_11ec_9cf9_acde48001122row9_col4,#T_3d503e64_7f94_11ec_9cf9_acde48001122row9_col5,#T_3d503e64_7f94_11ec_9cf9_acde48001122row10_col3,#T_3d503e64_7f94_11ec_9cf9_acde48001122row10_col4,#T_3d503e64_7f94_11ec_9cf9_acde48001122row10_col5,#T_3d503e64_7f94_11ec_9cf9_acde48001122row11_col3,#T_3d503e64_7f94_11ec_9cf9_acde48001122row11_col5{\n",
       "            color: red;\n",
       "            opacity:  10%;\n",
       "        }</style><table id=\"T_3d503e64_7f94_11ec_9cf9_acde48001122\" ><thead>    <tr>        <th class=\"blank level0\" ></th>        <th class=\"col_heading level0 col0\" >beh_before_TC</th>        <th class=\"col_heading level0 col1\" >beh_before_F</th>        <th class=\"col_heading level0 col2\" >beh_before_B</th>        <th class=\"col_heading level0 col3\" >beh_after_TC</th>        <th class=\"col_heading level0 col4\" >beh_after_F</th>        <th class=\"col_heading level0 col5\" >beh_after_B</th>    </tr></thead><tbody>\n",
       "                <tr>\n",
       "                        <th id=\"T_3d503e64_7f94_11ec_9cf9_acde48001122level0_row0\" class=\"row_heading level0 row0\" >SDAR_a00c_ant</th>\n",
       "                        <td id=\"T_3d503e64_7f94_11ec_9cf9_acde48001122row0_col0\" class=\"data row0 col0\" >1.000000</td>\n",
       "                        <td id=\"T_3d503e64_7f94_11ec_9cf9_acde48001122row0_col1\" class=\"data row0 col1\" >0.186191</td>\n",
       "                        <td id=\"T_3d503e64_7f94_11ec_9cf9_acde48001122row0_col2\" class=\"data row0 col2\" >1.000000</td>\n",
       "                        <td id=\"T_3d503e64_7f94_11ec_9cf9_acde48001122row0_col3\" class=\"data row0 col3\" >-1.000000</td>\n",
       "                        <td id=\"T_3d503e64_7f94_11ec_9cf9_acde48001122row0_col4\" class=\"data row0 col4\" >0.000067</td>\n",
       "                        <td id=\"T_3d503e64_7f94_11ec_9cf9_acde48001122row0_col5\" class=\"data row0 col5\" >1.000000</td>\n",
       "            </tr>\n",
       "            <tr>\n",
       "                        <th id=\"T_3d503e64_7f94_11ec_9cf9_acde48001122level0_row1\" class=\"row_heading level0 row1\" >SDAR_a00c_mid</th>\n",
       "                        <td id=\"T_3d503e64_7f94_11ec_9cf9_acde48001122row1_col0\" class=\"data row1 col0\" >1.000000</td>\n",
       "                        <td id=\"T_3d503e64_7f94_11ec_9cf9_acde48001122row1_col1\" class=\"data row1 col1\" >0.015150</td>\n",
       "                        <td id=\"T_3d503e64_7f94_11ec_9cf9_acde48001122row1_col2\" class=\"data row1 col2\" >0.501214</td>\n",
       "                        <td id=\"T_3d503e64_7f94_11ec_9cf9_acde48001122row1_col3\" class=\"data row1 col3\" >-1.000000</td>\n",
       "                        <td id=\"T_3d503e64_7f94_11ec_9cf9_acde48001122row1_col4\" class=\"data row1 col4\" >0.000901</td>\n",
       "                        <td id=\"T_3d503e64_7f94_11ec_9cf9_acde48001122row1_col5\" class=\"data row1 col5\" >-1.000000</td>\n",
       "            </tr>\n",
       "            <tr>\n",
       "                        <th id=\"T_3d503e64_7f94_11ec_9cf9_acde48001122level0_row2\" class=\"row_heading level0 row2\" >SDAR_a00c_post</th>\n",
       "                        <td id=\"T_3d503e64_7f94_11ec_9cf9_acde48001122row2_col0\" class=\"data row2 col0\" >-1.000000</td>\n",
       "                        <td id=\"T_3d503e64_7f94_11ec_9cf9_acde48001122row2_col1\" class=\"data row2 col1\" >1.000000</td>\n",
       "                        <td id=\"T_3d503e64_7f94_11ec_9cf9_acde48001122row2_col2\" class=\"data row2 col2\" >1.000000</td>\n",
       "                        <td id=\"T_3d503e64_7f94_11ec_9cf9_acde48001122row2_col3\" class=\"data row2 col3\" >-1.000000</td>\n",
       "                        <td id=\"T_3d503e64_7f94_11ec_9cf9_acde48001122row2_col4\" class=\"data row2 col4\" >0.151834</td>\n",
       "                        <td id=\"T_3d503e64_7f94_11ec_9cf9_acde48001122row2_col5\" class=\"data row2 col5\" >-1.000000</td>\n",
       "            </tr>\n",
       "            <tr>\n",
       "                        <th id=\"T_3d503e64_7f94_11ec_9cf9_acde48001122level0_row3\" class=\"row_heading level0 row3\" >DD_a00c_ant</th>\n",
       "                        <td id=\"T_3d503e64_7f94_11ec_9cf9_acde48001122row3_col0\" class=\"data row3 col0\" >1.000000</td>\n",
       "                        <td id=\"T_3d503e64_7f94_11ec_9cf9_acde48001122row3_col1\" class=\"data row3 col1\" >-1.000000</td>\n",
       "                        <td id=\"T_3d503e64_7f94_11ec_9cf9_acde48001122row3_col2\" class=\"data row3 col2\" >-1.000000</td>\n",
       "                        <td id=\"T_3d503e64_7f94_11ec_9cf9_acde48001122row3_col3\" class=\"data row3 col3\" >1.000000</td>\n",
       "                        <td id=\"T_3d503e64_7f94_11ec_9cf9_acde48001122row3_col4\" class=\"data row3 col4\" >0.725978</td>\n",
       "                        <td id=\"T_3d503e64_7f94_11ec_9cf9_acde48001122row3_col5\" class=\"data row3 col5\" >1.000000</td>\n",
       "            </tr>\n",
       "            <tr>\n",
       "                        <th id=\"T_3d503e64_7f94_11ec_9cf9_acde48001122level0_row4\" class=\"row_heading level0 row4\" >DD_a00c_mid</th>\n",
       "                        <td id=\"T_3d503e64_7f94_11ec_9cf9_acde48001122row4_col0\" class=\"data row4 col0\" >1.000000</td>\n",
       "                        <td id=\"T_3d503e64_7f94_11ec_9cf9_acde48001122row4_col1\" class=\"data row4 col1\" >1.000000</td>\n",
       "                        <td id=\"T_3d503e64_7f94_11ec_9cf9_acde48001122row4_col2\" class=\"data row4 col2\" >1.000000</td>\n",
       "                        <td id=\"T_3d503e64_7f94_11ec_9cf9_acde48001122row4_col3\" class=\"data row4 col3\" >1.000000</td>\n",
       "                        <td id=\"T_3d503e64_7f94_11ec_9cf9_acde48001122row4_col4\" class=\"data row4 col4\" >1.000000</td>\n",
       "                        <td id=\"T_3d503e64_7f94_11ec_9cf9_acde48001122row4_col5\" class=\"data row4 col5\" >-1.000000</td>\n",
       "            </tr>\n",
       "            <tr>\n",
       "                        <th id=\"T_3d503e64_7f94_11ec_9cf9_acde48001122level0_row5\" class=\"row_heading level0 row5\" >DD_a00c_post</th>\n",
       "                        <td id=\"T_3d503e64_7f94_11ec_9cf9_acde48001122row5_col0\" class=\"data row5 col0\" >1.000000</td>\n",
       "                        <td id=\"T_3d503e64_7f94_11ec_9cf9_acde48001122row5_col1\" class=\"data row5 col1\" >1.000000</td>\n",
       "                        <td id=\"T_3d503e64_7f94_11ec_9cf9_acde48001122row5_col2\" class=\"data row5 col2\" >0.654252</td>\n",
       "                        <td id=\"T_3d503e64_7f94_11ec_9cf9_acde48001122row5_col3\" class=\"data row5 col3\" >1.000000</td>\n",
       "                        <td id=\"T_3d503e64_7f94_11ec_9cf9_acde48001122row5_col4\" class=\"data row5 col4\" >0.185857</td>\n",
       "                        <td id=\"T_3d503e64_7f94_11ec_9cf9_acde48001122row5_col5\" class=\"data row5 col5\" >-0.851939</td>\n",
       "            </tr>\n",
       "            <tr>\n",
       "                        <th id=\"T_3d503e64_7f94_11ec_9cf9_acde48001122level0_row6\" class=\"row_heading level0 row6\" >PD_a00c_ant</th>\n",
       "                        <td id=\"T_3d503e64_7f94_11ec_9cf9_acde48001122row6_col0\" class=\"data row6 col0\" >0.055723</td>\n",
       "                        <td id=\"T_3d503e64_7f94_11ec_9cf9_acde48001122row6_col1\" class=\"data row6 col1\" >0.000000</td>\n",
       "                        <td id=\"T_3d503e64_7f94_11ec_9cf9_acde48001122row6_col2\" class=\"data row6 col2\" >0.000151</td>\n",
       "                        <td id=\"T_3d503e64_7f94_11ec_9cf9_acde48001122row6_col3\" class=\"data row6 col3\" >-1.000000</td>\n",
       "                        <td id=\"T_3d503e64_7f94_11ec_9cf9_acde48001122row6_col4\" class=\"data row6 col4\" >-1.000000</td>\n",
       "                        <td id=\"T_3d503e64_7f94_11ec_9cf9_acde48001122row6_col5\" class=\"data row6 col5\" >-1.000000</td>\n",
       "            </tr>\n",
       "            <tr>\n",
       "                        <th id=\"T_3d503e64_7f94_11ec_9cf9_acde48001122level0_row7\" class=\"row_heading level0 row7\" >PD_a00c_mid</th>\n",
       "                        <td id=\"T_3d503e64_7f94_11ec_9cf9_acde48001122row7_col0\" class=\"data row7 col0\" >0.015928</td>\n",
       "                        <td id=\"T_3d503e64_7f94_11ec_9cf9_acde48001122row7_col1\" class=\"data row7 col1\" >0.000037</td>\n",
       "                        <td id=\"T_3d503e64_7f94_11ec_9cf9_acde48001122row7_col2\" class=\"data row7 col2\" >0.000057</td>\n",
       "                        <td id=\"T_3d503e64_7f94_11ec_9cf9_acde48001122row7_col3\" class=\"data row7 col3\" >-1.000000</td>\n",
       "                        <td id=\"T_3d503e64_7f94_11ec_9cf9_acde48001122row7_col4\" class=\"data row7 col4\" >-1.000000</td>\n",
       "                        <td id=\"T_3d503e64_7f94_11ec_9cf9_acde48001122row7_col5\" class=\"data row7 col5\" >-0.578768</td>\n",
       "            </tr>\n",
       "            <tr>\n",
       "                        <th id=\"T_3d503e64_7f94_11ec_9cf9_acde48001122level0_row8\" class=\"row_heading level0 row8\" >PD_a00c_post</th>\n",
       "                        <td id=\"T_3d503e64_7f94_11ec_9cf9_acde48001122row8_col0\" class=\"data row8 col0\" >0.129211</td>\n",
       "                        <td id=\"T_3d503e64_7f94_11ec_9cf9_acde48001122row8_col1\" class=\"data row8 col1\" >0.001064</td>\n",
       "                        <td id=\"T_3d503e64_7f94_11ec_9cf9_acde48001122row8_col2\" class=\"data row8 col2\" >0.000127</td>\n",
       "                        <td id=\"T_3d503e64_7f94_11ec_9cf9_acde48001122row8_col3\" class=\"data row8 col3\" >-0.812645</td>\n",
       "                        <td id=\"T_3d503e64_7f94_11ec_9cf9_acde48001122row8_col4\" class=\"data row8 col4\" >-1.000000</td>\n",
       "                        <td id=\"T_3d503e64_7f94_11ec_9cf9_acde48001122row8_col5\" class=\"data row8 col5\" >-0.534780</td>\n",
       "            </tr>\n",
       "            <tr>\n",
       "                        <th id=\"T_3d503e64_7f94_11ec_9cf9_acde48001122level0_row9\" class=\"row_heading level0 row9\" >BR_a00c_ant</th>\n",
       "                        <td id=\"T_3d503e64_7f94_11ec_9cf9_acde48001122row9_col0\" class=\"data row9 col0\" >0.068676</td>\n",
       "                        <td id=\"T_3d503e64_7f94_11ec_9cf9_acde48001122row9_col1\" class=\"data row9 col1\" >0.000048</td>\n",
       "                        <td id=\"T_3d503e64_7f94_11ec_9cf9_acde48001122row9_col2\" class=\"data row9 col2\" >0.000127</td>\n",
       "                        <td id=\"T_3d503e64_7f94_11ec_9cf9_acde48001122row9_col3\" class=\"data row9 col3\" >-1.000000</td>\n",
       "                        <td id=\"T_3d503e64_7f94_11ec_9cf9_acde48001122row9_col4\" class=\"data row9 col4\" >-1.000000</td>\n",
       "                        <td id=\"T_3d503e64_7f94_11ec_9cf9_acde48001122row9_col5\" class=\"data row9 col5\" >-1.000000</td>\n",
       "            </tr>\n",
       "            <tr>\n",
       "                        <th id=\"T_3d503e64_7f94_11ec_9cf9_acde48001122level0_row10\" class=\"row_heading level0 row10\" >BR_a00c_mid</th>\n",
       "                        <td id=\"T_3d503e64_7f94_11ec_9cf9_acde48001122row10_col0\" class=\"data row10 col0\" >0.018977</td>\n",
       "                        <td id=\"T_3d503e64_7f94_11ec_9cf9_acde48001122row10_col1\" class=\"data row10 col1\" >0.000001</td>\n",
       "                        <td id=\"T_3d503e64_7f94_11ec_9cf9_acde48001122row10_col2\" class=\"data row10 col2\" >0.000162</td>\n",
       "                        <td id=\"T_3d503e64_7f94_11ec_9cf9_acde48001122row10_col3\" class=\"data row10 col3\" >-1.000000</td>\n",
       "                        <td id=\"T_3d503e64_7f94_11ec_9cf9_acde48001122row10_col4\" class=\"data row10 col4\" >-1.000000</td>\n",
       "                        <td id=\"T_3d503e64_7f94_11ec_9cf9_acde48001122row10_col5\" class=\"data row10 col5\" >-1.000000</td>\n",
       "            </tr>\n",
       "            <tr>\n",
       "                        <th id=\"T_3d503e64_7f94_11ec_9cf9_acde48001122level0_row11\" class=\"row_heading level0 row11\" >BR_a00c_post</th>\n",
       "                        <td id=\"T_3d503e64_7f94_11ec_9cf9_acde48001122row11_col0\" class=\"data row11 col0\" >0.174158</td>\n",
       "                        <td id=\"T_3d503e64_7f94_11ec_9cf9_acde48001122row11_col1\" class=\"data row11 col1\" >0.000463</td>\n",
       "                        <td id=\"T_3d503e64_7f94_11ec_9cf9_acde48001122row11_col2\" class=\"data row11 col2\" >0.000738</td>\n",
       "                        <td id=\"T_3d503e64_7f94_11ec_9cf9_acde48001122row11_col3\" class=\"data row11 col3\" >-1.000000</td>\n",
       "                        <td id=\"T_3d503e64_7f94_11ec_9cf9_acde48001122row11_col4\" class=\"data row11 col4\" >1.000000</td>\n",
       "                        <td id=\"T_3d503e64_7f94_11ec_9cf9_acde48001122row11_col5\" class=\"data row11 col5\" >-0.910703</td>\n",
       "            </tr>\n",
       "    </tbody></table>"
      ],
      "text/plain": [
       "<pandas.io.formats.style.Styler at 0x7f8fb84e2390>"
      ]
     },
     "execution_count": 20,
     "metadata": {},
     "output_type": "execute_result"
    }
   ],
   "source": [
    "styled_adj_p_vl_tbl"
   ]
  },
  {
   "cell_type": "markdown",
   "metadata": {},
   "source": [
    "## Save results out in excel format - this is to enable sharing with Chen"
   ]
  },
  {
   "cell_type": "code",
   "execution_count": 21,
   "metadata": {},
   "outputs": [],
   "source": [
    "with pd.ExcelWriter(save_file, engine='openpyxl') as writer: \n",
    "    beta_tbl.to_excel(writer, sheet_name='all_tests_coefs')\n",
    "    abs(adj_p_vl_tbl).to_excel(writer, sheet_name='all_tests_p_values')\n",
    "    c_int_tbl.to_excel(writer, 'all_tests_confidence_intervals')"
   ]
  },
  {
   "cell_type": "code",
   "execution_count": null,
   "metadata": {},
   "outputs": [],
   "source": []
  }
 ],
 "metadata": {
  "kernelspec": {
   "display_name": "Python 3",
   "language": "python",
   "name": "python3"
  },
  "language_info": {
   "codemirror_mode": {
    "name": "ipython",
    "version": 3
   },
   "file_extension": ".py",
   "mimetype": "text/x-python",
   "name": "python",
   "nbconvert_exporter": "python",
   "pygments_lexer": "ipython3",
   "version": "3.7.3"
  }
 },
 "nbformat": 4,
 "nbformat_minor": 4
}
