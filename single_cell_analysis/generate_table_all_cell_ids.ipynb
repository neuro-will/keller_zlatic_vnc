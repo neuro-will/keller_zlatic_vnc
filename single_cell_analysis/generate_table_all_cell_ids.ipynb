{
 "cells": [
  {
   "cell_type": "markdown",
   "metadata": {},
   "source": [
    "A notebook for generating tables of single cell results when we group all cells of a single type together"
   ]
  },
  {
   "cell_type": "code",
   "execution_count": 1,
   "metadata": {},
   "outputs": [],
   "source": [
    "%load_ext autoreload\n",
    "%autoreload 2"
   ]
  },
  {
   "cell_type": "code",
   "execution_count": 2,
   "metadata": {},
   "outputs": [],
   "source": [
    "import glob\n",
    "import itertools\n",
    "from pathlib import Path\n",
    "import pickle\n",
    "\n",
    "import matplotlib.pyplot as plt\n",
    "import numpy as np\n",
    "import pandas as pd\n",
    "\n",
    "from janelia_core.stats.multiple_comparisons import apply_by\n",
    "from janelia_core.stats.multiple_comparisons import apply_bonferroni\n",
    "from janelia_core.stats.regression import visualize_coefficient_stats"
   ]
  },
  {
   "cell_type": "markdown",
   "metadata": {},
   "source": [
    "### Parameters go here "
   ]
  },
  {
   "cell_type": "code",
   "execution_count": 3,
   "metadata": {},
   "outputs": [],
   "source": [
    "# Specify folders where raw results for all analyses are\n",
    "base_folders = [r'/Volumes/bishoplab/projects/keller_vnc/results/single_cell/publication_results_v0/a00c', \n",
    "                r'/Volumes/bishoplab/projects/keller_vnc/results/single_cell/publication_results_v0/basin',\n",
    "                r'/Volumes/bishoplab/projects/keller_vnc/results/single_cell/publication_results_v0/handle']\n",
    "                \n",
    "\n",
    "# The regex pattern for results files\n",
    "rs_file_str = 'rs_*.pkl'\n",
    "\n",
    "# Determine how we will populate the table\n",
    "man_tgt = 'A4' # None corresponds to both A4 and A9 manipulations\n",
    "\n",
    "# Specify if we look at results for pooled turns or not\n",
    "pool_turns = True\n",
    "\n",
    "\n",
    "tbl_filter = {'SDAR_a00c': {'cell_type': 'a00c', \n",
    "                            'man_tgt': man_tgt, \n",
    "                            'test_type': 'after_reporting',\n",
    "                            'cell_ids': None,\n",
    "                            'pool_turns': pool_turns}, \n",
    "              'SDAR_basin': {'cell_type': 'basin', \n",
    "                            'man_tgt': man_tgt, \n",
    "                            'test_type': 'after_reporting',\n",
    "                            'cell_ids': None,\n",
    "                            'pool_turns': pool_turns}, \n",
    "              'SDAR_handle': {'cell_type': 'handle', \n",
    "                            'man_tgt': man_tgt, \n",
    "                            'test_type': 'after_reporting',\n",
    "                            'cell_ids': None,\n",
    "                            'pool_turns': pool_turns}, \n",
    "              'DD_a00c': {'cell_type': 'a00c', \n",
    "                            'man_tgt': man_tgt, \n",
    "                            'test_type': 'decision_dependence',\n",
    "                            'cell_ids': None,\n",
    "                            'pool_turns': pool_turns}, \n",
    "              'DD_basin': {'cell_type': 'basin', \n",
    "                            'man_tgt': man_tgt, \n",
    "                            'test_type': 'decision_dependence',\n",
    "                            'cell_ids': None,\n",
    "                            'pool_turns': pool_turns}, \n",
    "              'DD_handle': {'cell_type': 'handle', \n",
    "                            'man_tgt': man_tgt, \n",
    "                            'test_type': 'decision_dependence',\n",
    "                            'cell_ids': None,\n",
    "                            'pool_turns': pool_turns}, \n",
    "              'PD_a00c': {'cell_type': 'a00c', \n",
    "                            'man_tgt': man_tgt, \n",
    "                            'test_type': 'prediction_dependence',\n",
    "                            'cell_ids': None,\n",
    "                            'pool_turns': pool_turns}, \n",
    "              'PD_basin': {'cell_type': 'basin', \n",
    "                            'man_tgt': man_tgt, \n",
    "                            'test_type': 'prediction_dependence',\n",
    "                            'cell_ids': None,\n",
    "                            'pool_turns': pool_turns}, \n",
    "              'PD_handle': {'cell_type': 'handle', \n",
    "                            'man_tgt': man_tgt, \n",
    "                            'test_type': 'prediction_dependence',\n",
    "                            'cell_ids': None,\n",
    "                            'pool_turns': pool_turns},\n",
    "              'BR_a00c': {'cell_type': 'a00c', \n",
    "                            'man_tgt': man_tgt, \n",
    "                            'test_type': 'before_reporting',\n",
    "                            'cell_ids': None,\n",
    "                            'pool_turns': pool_turns}, \n",
    "              'BR_basin': {'cell_type': 'basin', \n",
    "                            'man_tgt': man_tgt, \n",
    "                            'test_type': 'before_reporting',\n",
    "                            'cell_ids': None,\n",
    "                            'pool_turns': pool_turns},\n",
    "              'BR_handle': {'cell_type': 'handle', \n",
    "                            'man_tgt': man_tgt, \n",
    "                            'test_type': 'before_reporting',\n",
    "                            'cell_ids': None,\n",
    "                            'pool_turns': pool_turns}\n",
    "             }\n",
    "\n",
    "# Specify if we show stats for the original models or the the mean comparisons\n",
    "stats_type = 'orig_fit' # 'orig_fit' or 'mean_cmp'\n",
    "\n",
    "# Level to control for multiple comparisons at \n",
    "mc_alpha = .05"
   ]
  },
  {
   "cell_type": "markdown",
   "metadata": {},
   "source": [
    "## Load base results"
   ]
  },
  {
   "cell_type": "code",
   "execution_count": 4,
   "metadata": {},
   "outputs": [],
   "source": [
    "all_files = []\n",
    "for folder in base_folders:\n",
    "    all_files.append(glob.glob(str(Path(folder) / rs_file_str)))\n",
    "all_files = list(itertools.chain(*all_files))"
   ]
  },
  {
   "cell_type": "code",
   "execution_count": 5,
   "metadata": {},
   "outputs": [],
   "source": [
    "all_rs = []\n",
    "for f in all_files:\n",
    "    with open(f, 'rb') as fl: \n",
    "        all_rs.append(pickle.load(fl))"
   ]
  },
  {
   "cell_type": "markdown",
   "metadata": {},
   "source": [
    "## Filter results"
   ]
  },
  {
   "cell_type": "code",
   "execution_count": 6,
   "metadata": {},
   "outputs": [],
   "source": [
    "def match(rs_l, match_dict):\n",
    "    match = True\n",
    "    for k in match_dict:\n",
    "        if match_dict[k] is None:\n",
    "            if rs_l['ps'][k] is not None:\n",
    "                match = False\n",
    "        else:\n",
    "            if rs_l['ps'][k] != match_dict[k]:\n",
    "                match = False\n",
    "    return match"
   ]
  },
  {
   "cell_type": "code",
   "execution_count": 7,
   "metadata": {},
   "outputs": [],
   "source": [
    "tbl_matches = dict()\n",
    "for k in tbl_filter.keys():\n",
    "    matches = np.argwhere([match(rs_i, tbl_filter[k]) for rs_i in all_rs])\n",
    "    if  len(matches) != 1:\n",
    "        print(matches)\n",
    "        raise(RuntimeError('Found multiple matches for key ' + k + '.'))\n",
    "    tbl_matches[k] = matches[0][0]"
   ]
  },
  {
   "cell_type": "markdown",
   "metadata": {},
   "source": [
    "## Get statistical results "
   ]
  },
  {
   "cell_type": "code",
   "execution_count": 8,
   "metadata": {},
   "outputs": [],
   "source": [
    "tbl_stats = dict()\n",
    "for k in tbl_matches.keys():\n",
    "    rs_k = all_rs[tbl_matches[k]]\n",
    "    if stats_type == 'orig_fit':\n",
    "        behs = rs_k['rs']['one_hot_vars_ref'][0:-1]\n",
    "        p_vls = rs_k['rs']['init_fit_stats']['non_zero_p'][0:-1]\n",
    "        beta = rs_k['rs']['init_fit']['beta'][0:-1]\n",
    "        \n",
    "        \n",
    "        # Save extra information that is not necessary for making the table but useful for visualizing stats for\n",
    "        # an original fit\n",
    "        all_behs = rs_k['rs']['one_hot_vars_ref']\n",
    "        all_p_vls = rs_k['rs']['init_fit_stats']['non_zero_p']\n",
    "        all_beta = rs_k['rs']['init_fit']['beta']\n",
    "        all_c_ints = rs_k['rs']['init_fit_stats']['c_ints']\n",
    "        \n",
    "        \n",
    "        \n",
    "        tbl_stats[k] = {'behs': behs, 'beta': beta, 'p_vls': p_vls, \n",
    "                        'all_behs': all_behs, 'all_p_vls': all_p_vls, 'all_beta': all_beta, 'all_c_ints': all_c_ints}\n",
    "        \n",
    "        \n",
    "        \n",
    "    elif stats_type == 'mean_cmp':\n",
    "        tbl_stats[k] = {'behs': rs_k['rs']['cmp_stats']['cmp_vars'], \n",
    "                        'beta': np.ones(len(rs_k['rs']['cmp_stats']['cmp_vars'])),\n",
    "                        'p_vls': rs_k['rs']['cmp_stats']['cmp_p_vls']}\n",
    "    else:\n",
    "        raise(ValueError('stats_type must be orig_fit or mean_cmp'))\n"
   ]
  },
  {
   "cell_type": "markdown",
   "metadata": {},
   "source": [
    "## Apply multiple comparisons adjustment"
   ]
  },
  {
   "cell_type": "code",
   "execution_count": 9,
   "metadata": {},
   "outputs": [],
   "source": [
    "all_p_vls = []\n",
    "map_back_inds = dict()\n",
    "cur_ind = 0\n",
    "for k in tbl_stats.keys():\n",
    "    all_p_vls.append(tbl_stats[k]['p_vls'])\n",
    "    map_back_inds[k] = np.arange(len(tbl_stats[k]['p_vls'])) + cur_ind\n",
    "    cur_ind += len(tbl_stats[k]['p_vls'])\n",
    "    \n",
    "all_p_vls = np.concatenate(all_p_vls)"
   ]
  },
  {
   "cell_type": "code",
   "execution_count": 10,
   "metadata": {},
   "outputs": [],
   "source": [
    "_, adjusted_p_vls = apply_by(all_p_vls, mc_alpha)\n",
    "for k in tbl_stats.keys():\n",
    "    tbl_stats[k]['adjusted_p_vls'] = adjusted_p_vls[map_back_inds[k]]"
   ]
  },
  {
   "cell_type": "markdown",
   "metadata": {},
   "source": [
    "## Put results in tables"
   ]
  },
  {
   "cell_type": "code",
   "execution_count": 11,
   "metadata": {},
   "outputs": [],
   "source": [
    "def create_p_vl_tbl(stats, p_vl_str):\n",
    "    \n",
    "    rows = list(stats.keys())\n",
    "    n_rows = len(rows)\n",
    "    \n",
    "    all_behs = list(set(list(itertools.chain(*[stats[k]['behs'] for k in rows]))))\n",
    "    all_behs.sort()\n",
    "    all_behs = [all_behs[i] for i in range(len(all_behs)-1, -1, -1)]\n",
    "    n_behs = len(all_behs)\n",
    "    \n",
    "    \n",
    "    tbl = pd.DataFrame(np.zeros([n_rows, n_behs]), index=rows, columns=all_behs)\n",
    "    \n",
    "    for row in rows:\n",
    "        for beh in all_behs:\n",
    "            if beh in stats[row]['behs']:\n",
    "                beh_i = np.argwhere(np.asarray(stats[row]['behs']) == beh)[0][0]\n",
    "                sign = np.sign(stats[row]['beta'][beh_i])\n",
    "                tbl[beh][row] = sign*stats[row][p_vl_str][beh_i]\n",
    "            else:\n",
    "                tbl[beh][row] = np.nan\n",
    "    \n",
    "    return tbl"
   ]
  },
  {
   "cell_type": "code",
   "execution_count": 12,
   "metadata": {},
   "outputs": [],
   "source": [
    "p_vl_tbl = create_p_vl_tbl(tbl_stats, 'p_vls')\n",
    "adj_p_vl_tbl = create_p_vl_tbl(tbl_stats, 'adjusted_p_vls')"
   ]
  },
  {
   "cell_type": "markdown",
   "metadata": {},
   "source": [
    "## Visualize tables"
   ]
  },
  {
   "cell_type": "code",
   "execution_count": 13,
   "metadata": {},
   "outputs": [],
   "source": [
    "def style_negative(v):\n",
    "    return 'color:red;' if v < 0 else None\n",
    "def fade_non_sig(v):\n",
    "    return 'opacity: 10%;' if (np.abs(v) > mc_alpha) else None"
   ]
  },
  {
   "cell_type": "code",
   "execution_count": 14,
   "metadata": {},
   "outputs": [],
   "source": [
    "styled_p_vl_tbl = p_vl_tbl.style.applymap(style_negative).applymap(fade_non_sig)\n",
    "styled_adj_p_vl_tbl = adj_p_vl_tbl.style.applymap(style_negative).applymap(fade_non_sig)"
   ]
  },
  {
   "cell_type": "code",
   "execution_count": 15,
   "metadata": {},
   "outputs": [
    {
     "data": {
      "text/html": [
       "<style  type=\"text/css\" >\n",
       "#T_6ee45dba_3d82_11ec_8c33_3e22fb3d6423row0_col0,#T_6ee45dba_3d82_11ec_8c33_3e22fb3d6423row0_col2,#T_6ee45dba_3d82_11ec_8c33_3e22fb3d6423row1_col0,#T_6ee45dba_3d82_11ec_8c33_3e22fb3d6423row1_col2,#T_6ee45dba_3d82_11ec_8c33_3e22fb3d6423row1_col3,#T_6ee45dba_3d82_11ec_8c33_3e22fb3d6423row1_col5,#T_6ee45dba_3d82_11ec_8c33_3e22fb3d6423row2_col0,#T_6ee45dba_3d82_11ec_8c33_3e22fb3d6423row2_col3,#T_6ee45dba_3d82_11ec_8c33_3e22fb3d6423row2_col5,#T_6ee45dba_3d82_11ec_8c33_3e22fb3d6423row3_col0,#T_6ee45dba_3d82_11ec_8c33_3e22fb3d6423row3_col1,#T_6ee45dba_3d82_11ec_8c33_3e22fb3d6423row3_col2,#T_6ee45dba_3d82_11ec_8c33_3e22fb3d6423row3_col3,#T_6ee45dba_3d82_11ec_8c33_3e22fb3d6423row4_col0,#T_6ee45dba_3d82_11ec_8c33_3e22fb3d6423row4_col3,#T_6ee45dba_3d82_11ec_8c33_3e22fb3d6423row4_col4,#T_6ee45dba_3d82_11ec_8c33_3e22fb3d6423row4_col5,#T_6ee45dba_3d82_11ec_8c33_3e22fb3d6423row5_col3,#T_6ee45dba_3d82_11ec_8c33_3e22fb3d6423row5_col5,#T_6ee45dba_3d82_11ec_8c33_3e22fb3d6423row7_col4,#T_6ee45dba_3d82_11ec_8c33_3e22fb3d6423row8_col3,#T_6ee45dba_3d82_11ec_8c33_3e22fb3d6423row8_col4,#T_6ee45dba_3d82_11ec_8c33_3e22fb3d6423row8_col5,#T_6ee45dba_3d82_11ec_8c33_3e22fb3d6423row9_col4,#T_6ee45dba_3d82_11ec_8c33_3e22fb3d6423row10_col4,#T_6ee45dba_3d82_11ec_8c33_3e22fb3d6423row11_col3,#T_6ee45dba_3d82_11ec_8c33_3e22fb3d6423row11_col4,#T_6ee45dba_3d82_11ec_8c33_3e22fb3d6423row11_col5{\n",
       "            opacity:  10%;\n",
       "        }#T_6ee45dba_3d82_11ec_8c33_3e22fb3d6423row0_col3,#T_6ee45dba_3d82_11ec_8c33_3e22fb3d6423row0_col5,#T_6ee45dba_3d82_11ec_8c33_3e22fb3d6423row3_col5,#T_6ee45dba_3d82_11ec_8c33_3e22fb3d6423row6_col3,#T_6ee45dba_3d82_11ec_8c33_3e22fb3d6423row6_col4,#T_6ee45dba_3d82_11ec_8c33_3e22fb3d6423row6_col5,#T_6ee45dba_3d82_11ec_8c33_3e22fb3d6423row7_col3,#T_6ee45dba_3d82_11ec_8c33_3e22fb3d6423row7_col5,#T_6ee45dba_3d82_11ec_8c33_3e22fb3d6423row9_col3,#T_6ee45dba_3d82_11ec_8c33_3e22fb3d6423row9_col5,#T_6ee45dba_3d82_11ec_8c33_3e22fb3d6423row10_col3,#T_6ee45dba_3d82_11ec_8c33_3e22fb3d6423row10_col5{\n",
       "            color: red;\n",
       "            opacity:  10%;\n",
       "        }</style><table id=\"T_6ee45dba_3d82_11ec_8c33_3e22fb3d6423\" ><thead>    <tr>        <th class=\"blank level0\" ></th>        <th class=\"col_heading level0 col0\" >beh_before_TC</th>        <th class=\"col_heading level0 col1\" >beh_before_F</th>        <th class=\"col_heading level0 col2\" >beh_before_B</th>        <th class=\"col_heading level0 col3\" >beh_after_TC</th>        <th class=\"col_heading level0 col4\" >beh_after_F</th>        <th class=\"col_heading level0 col5\" >beh_after_B</th>    </tr></thead><tbody>\n",
       "                <tr>\n",
       "                        <th id=\"T_6ee45dba_3d82_11ec_8c33_3e22fb3d6423level0_row0\" class=\"row_heading level0 row0\" >SDAR_a00c</th>\n",
       "                        <td id=\"T_6ee45dba_3d82_11ec_8c33_3e22fb3d6423row0_col0\" class=\"data row0 col0\" >0.325168</td>\n",
       "                        <td id=\"T_6ee45dba_3d82_11ec_8c33_3e22fb3d6423row0_col1\" class=\"data row0 col1\" >0.012264</td>\n",
       "                        <td id=\"T_6ee45dba_3d82_11ec_8c33_3e22fb3d6423row0_col2\" class=\"data row0 col2\" >0.220561</td>\n",
       "                        <td id=\"T_6ee45dba_3d82_11ec_8c33_3e22fb3d6423row0_col3\" class=\"data row0 col3\" >-0.377321</td>\n",
       "                        <td id=\"T_6ee45dba_3d82_11ec_8c33_3e22fb3d6423row0_col4\" class=\"data row0 col4\" >0.000014</td>\n",
       "                        <td id=\"T_6ee45dba_3d82_11ec_8c33_3e22fb3d6423row0_col5\" class=\"data row0 col5\" >-0.927449</td>\n",
       "            </tr>\n",
       "            <tr>\n",
       "                        <th id=\"T_6ee45dba_3d82_11ec_8c33_3e22fb3d6423level0_row1\" class=\"row_heading level0 row1\" >SDAR_basin</th>\n",
       "                        <td id=\"T_6ee45dba_3d82_11ec_8c33_3e22fb3d6423row1_col0\" class=\"data row1 col0\" >0.382189</td>\n",
       "                        <td id=\"T_6ee45dba_3d82_11ec_8c33_3e22fb3d6423row1_col1\" class=\"data row1 col1\" >0.016472</td>\n",
       "                        <td id=\"T_6ee45dba_3d82_11ec_8c33_3e22fb3d6423row1_col2\" class=\"data row1 col2\" >0.070748</td>\n",
       "                        <td id=\"T_6ee45dba_3d82_11ec_8c33_3e22fb3d6423row1_col3\" class=\"data row1 col3\" >0.714902</td>\n",
       "                        <td id=\"T_6ee45dba_3d82_11ec_8c33_3e22fb3d6423row1_col4\" class=\"data row1 col4\" >0.002611</td>\n",
       "                        <td id=\"T_6ee45dba_3d82_11ec_8c33_3e22fb3d6423row1_col5\" class=\"data row1 col5\" >0.417679</td>\n",
       "            </tr>\n",
       "            <tr>\n",
       "                        <th id=\"T_6ee45dba_3d82_11ec_8c33_3e22fb3d6423level0_row2\" class=\"row_heading level0 row2\" >SDAR_handle</th>\n",
       "                        <td id=\"T_6ee45dba_3d82_11ec_8c33_3e22fb3d6423row2_col0\" class=\"data row2 col0\" >0.076299</td>\n",
       "                        <td id=\"T_6ee45dba_3d82_11ec_8c33_3e22fb3d6423row2_col1\" class=\"data row2 col1\" >0.000013</td>\n",
       "                        <td id=\"T_6ee45dba_3d82_11ec_8c33_3e22fb3d6423row2_col2\" class=\"data row2 col2\" >0.000753</td>\n",
       "                        <td id=\"T_6ee45dba_3d82_11ec_8c33_3e22fb3d6423row2_col3\" class=\"data row2 col3\" >0.817776</td>\n",
       "                        <td id=\"T_6ee45dba_3d82_11ec_8c33_3e22fb3d6423row2_col4\" class=\"data row2 col4\" >0.000000</td>\n",
       "                        <td id=\"T_6ee45dba_3d82_11ec_8c33_3e22fb3d6423row2_col5\" class=\"data row2 col5\" >0.299616</td>\n",
       "            </tr>\n",
       "            <tr>\n",
       "                        <th id=\"T_6ee45dba_3d82_11ec_8c33_3e22fb3d6423level0_row3\" class=\"row_heading level0 row3\" >DD_a00c</th>\n",
       "                        <td id=\"T_6ee45dba_3d82_11ec_8c33_3e22fb3d6423row3_col0\" class=\"data row3 col0\" >0.329096</td>\n",
       "                        <td id=\"T_6ee45dba_3d82_11ec_8c33_3e22fb3d6423row3_col1\" class=\"data row3 col1\" >0.496924</td>\n",
       "                        <td id=\"T_6ee45dba_3d82_11ec_8c33_3e22fb3d6423row3_col2\" class=\"data row3 col2\" >0.410726</td>\n",
       "                        <td id=\"T_6ee45dba_3d82_11ec_8c33_3e22fb3d6423row3_col3\" class=\"data row3 col3\" >0.230249</td>\n",
       "                        <td id=\"T_6ee45dba_3d82_11ec_8c33_3e22fb3d6423row3_col4\" class=\"data row3 col4\" >0.022722</td>\n",
       "                        <td id=\"T_6ee45dba_3d82_11ec_8c33_3e22fb3d6423row3_col5\" class=\"data row3 col5\" >-0.818017</td>\n",
       "            </tr>\n",
       "            <tr>\n",
       "                        <th id=\"T_6ee45dba_3d82_11ec_8c33_3e22fb3d6423level0_row4\" class=\"row_heading level0 row4\" >DD_basin</th>\n",
       "                        <td id=\"T_6ee45dba_3d82_11ec_8c33_3e22fb3d6423row4_col0\" class=\"data row4 col0\" >0.190331</td>\n",
       "                        <td id=\"T_6ee45dba_3d82_11ec_8c33_3e22fb3d6423row4_col1\" class=\"data row4 col1\" >0.015238</td>\n",
       "                        <td id=\"T_6ee45dba_3d82_11ec_8c33_3e22fb3d6423row4_col2\" class=\"data row4 col2\" >0.046871</td>\n",
       "                        <td id=\"T_6ee45dba_3d82_11ec_8c33_3e22fb3d6423row4_col3\" class=\"data row4 col3\" >0.470401</td>\n",
       "                        <td id=\"T_6ee45dba_3d82_11ec_8c33_3e22fb3d6423row4_col4\" class=\"data row4 col4\" >0.168043</td>\n",
       "                        <td id=\"T_6ee45dba_3d82_11ec_8c33_3e22fb3d6423row4_col5\" class=\"data row4 col5\" >0.779610</td>\n",
       "            </tr>\n",
       "            <tr>\n",
       "                        <th id=\"T_6ee45dba_3d82_11ec_8c33_3e22fb3d6423level0_row5\" class=\"row_heading level0 row5\" >DD_handle</th>\n",
       "                        <td id=\"T_6ee45dba_3d82_11ec_8c33_3e22fb3d6423row5_col0\" class=\"data row5 col0\" >0.031792</td>\n",
       "                        <td id=\"T_6ee45dba_3d82_11ec_8c33_3e22fb3d6423row5_col1\" class=\"data row5 col1\" >0.000046</td>\n",
       "                        <td id=\"T_6ee45dba_3d82_11ec_8c33_3e22fb3d6423row5_col2\" class=\"data row5 col2\" >0.000676</td>\n",
       "                        <td id=\"T_6ee45dba_3d82_11ec_8c33_3e22fb3d6423row5_col3\" class=\"data row5 col3\" >0.448920</td>\n",
       "                        <td id=\"T_6ee45dba_3d82_11ec_8c33_3e22fb3d6423row5_col4\" class=\"data row5 col4\" >0.000090</td>\n",
       "                        <td id=\"T_6ee45dba_3d82_11ec_8c33_3e22fb3d6423row5_col5\" class=\"data row5 col5\" >0.906094</td>\n",
       "            </tr>\n",
       "            <tr>\n",
       "                        <th id=\"T_6ee45dba_3d82_11ec_8c33_3e22fb3d6423level0_row6\" class=\"row_heading level0 row6\" >PD_a00c</th>\n",
       "                        <td id=\"T_6ee45dba_3d82_11ec_8c33_3e22fb3d6423row6_col0\" class=\"data row6 col0\" >0.001894</td>\n",
       "                        <td id=\"T_6ee45dba_3d82_11ec_8c33_3e22fb3d6423row6_col1\" class=\"data row6 col1\" >0.000000</td>\n",
       "                        <td id=\"T_6ee45dba_3d82_11ec_8c33_3e22fb3d6423row6_col2\" class=\"data row6 col2\" >0.000000</td>\n",
       "                        <td id=\"T_6ee45dba_3d82_11ec_8c33_3e22fb3d6423row6_col3\" class=\"data row6 col3\" >-0.233179</td>\n",
       "                        <td id=\"T_6ee45dba_3d82_11ec_8c33_3e22fb3d6423row6_col4\" class=\"data row6 col4\" >-0.592340</td>\n",
       "                        <td id=\"T_6ee45dba_3d82_11ec_8c33_3e22fb3d6423row6_col5\" class=\"data row6 col5\" >-0.058236</td>\n",
       "            </tr>\n",
       "            <tr>\n",
       "                        <th id=\"T_6ee45dba_3d82_11ec_8c33_3e22fb3d6423level0_row7\" class=\"row_heading level0 row7\" >PD_basin</th>\n",
       "                        <td id=\"T_6ee45dba_3d82_11ec_8c33_3e22fb3d6423row7_col0\" class=\"data row7 col0\" >0.002846</td>\n",
       "                        <td id=\"T_6ee45dba_3d82_11ec_8c33_3e22fb3d6423row7_col1\" class=\"data row7 col1\" >0.000000</td>\n",
       "                        <td id=\"T_6ee45dba_3d82_11ec_8c33_3e22fb3d6423row7_col2\" class=\"data row7 col2\" >0.000001</td>\n",
       "                        <td id=\"T_6ee45dba_3d82_11ec_8c33_3e22fb3d6423row7_col3\" class=\"data row7 col3\" >-0.218566</td>\n",
       "                        <td id=\"T_6ee45dba_3d82_11ec_8c33_3e22fb3d6423row7_col4\" class=\"data row7 col4\" >0.789776</td>\n",
       "                        <td id=\"T_6ee45dba_3d82_11ec_8c33_3e22fb3d6423row7_col5\" class=\"data row7 col5\" >-0.103262</td>\n",
       "            </tr>\n",
       "            <tr>\n",
       "                        <th id=\"T_6ee45dba_3d82_11ec_8c33_3e22fb3d6423level0_row8\" class=\"row_heading level0 row8\" >PD_handle</th>\n",
       "                        <td id=\"T_6ee45dba_3d82_11ec_8c33_3e22fb3d6423row8_col0\" class=\"data row8 col0\" >0.000085</td>\n",
       "                        <td id=\"T_6ee45dba_3d82_11ec_8c33_3e22fb3d6423row8_col1\" class=\"data row8 col1\" >0.000011</td>\n",
       "                        <td id=\"T_6ee45dba_3d82_11ec_8c33_3e22fb3d6423row8_col2\" class=\"data row8 col2\" >0.000000</td>\n",
       "                        <td id=\"T_6ee45dba_3d82_11ec_8c33_3e22fb3d6423row8_col3\" class=\"data row8 col3\" >0.362955</td>\n",
       "                        <td id=\"T_6ee45dba_3d82_11ec_8c33_3e22fb3d6423row8_col4\" class=\"data row8 col4\" >0.159042</td>\n",
       "                        <td id=\"T_6ee45dba_3d82_11ec_8c33_3e22fb3d6423row8_col5\" class=\"data row8 col5\" >0.917773</td>\n",
       "            </tr>\n",
       "            <tr>\n",
       "                        <th id=\"T_6ee45dba_3d82_11ec_8c33_3e22fb3d6423level0_row9\" class=\"row_heading level0 row9\" >BR_a00c</th>\n",
       "                        <td id=\"T_6ee45dba_3d82_11ec_8c33_3e22fb3d6423row9_col0\" class=\"data row9 col0\" >0.002995</td>\n",
       "                        <td id=\"T_6ee45dba_3d82_11ec_8c33_3e22fb3d6423row9_col1\" class=\"data row9 col1\" >0.000000</td>\n",
       "                        <td id=\"T_6ee45dba_3d82_11ec_8c33_3e22fb3d6423row9_col2\" class=\"data row9 col2\" >0.000002</td>\n",
       "                        <td id=\"T_6ee45dba_3d82_11ec_8c33_3e22fb3d6423row9_col3\" class=\"data row9 col3\" >-0.445373</td>\n",
       "                        <td id=\"T_6ee45dba_3d82_11ec_8c33_3e22fb3d6423row9_col4\" class=\"data row9 col4\" >0.852677</td>\n",
       "                        <td id=\"T_6ee45dba_3d82_11ec_8c33_3e22fb3d6423row9_col5\" class=\"data row9 col5\" >-0.249668</td>\n",
       "            </tr>\n",
       "            <tr>\n",
       "                        <th id=\"T_6ee45dba_3d82_11ec_8c33_3e22fb3d6423level0_row10\" class=\"row_heading level0 row10\" >BR_basin</th>\n",
       "                        <td id=\"T_6ee45dba_3d82_11ec_8c33_3e22fb3d6423row10_col0\" class=\"data row10 col0\" >0.002000</td>\n",
       "                        <td id=\"T_6ee45dba_3d82_11ec_8c33_3e22fb3d6423row10_col1\" class=\"data row10 col1\" >0.000000</td>\n",
       "                        <td id=\"T_6ee45dba_3d82_11ec_8c33_3e22fb3d6423row10_col2\" class=\"data row10 col2\" >0.000002</td>\n",
       "                        <td id=\"T_6ee45dba_3d82_11ec_8c33_3e22fb3d6423row10_col3\" class=\"data row10 col3\" >-0.253974</td>\n",
       "                        <td id=\"T_6ee45dba_3d82_11ec_8c33_3e22fb3d6423row10_col4\" class=\"data row10 col4\" >0.818374</td>\n",
       "                        <td id=\"T_6ee45dba_3d82_11ec_8c33_3e22fb3d6423row10_col5\" class=\"data row10 col5\" >-0.110848</td>\n",
       "            </tr>\n",
       "            <tr>\n",
       "                        <th id=\"T_6ee45dba_3d82_11ec_8c33_3e22fb3d6423level0_row11\" class=\"row_heading level0 row11\" >BR_handle</th>\n",
       "                        <td id=\"T_6ee45dba_3d82_11ec_8c33_3e22fb3d6423row11_col0\" class=\"data row11 col0\" >0.000179</td>\n",
       "                        <td id=\"T_6ee45dba_3d82_11ec_8c33_3e22fb3d6423row11_col1\" class=\"data row11 col1\" >0.000017</td>\n",
       "                        <td id=\"T_6ee45dba_3d82_11ec_8c33_3e22fb3d6423row11_col2\" class=\"data row11 col2\" >0.000001</td>\n",
       "                        <td id=\"T_6ee45dba_3d82_11ec_8c33_3e22fb3d6423row11_col3\" class=\"data row11 col3\" >0.385140</td>\n",
       "                        <td id=\"T_6ee45dba_3d82_11ec_8c33_3e22fb3d6423row11_col4\" class=\"data row11 col4\" >0.164331</td>\n",
       "                        <td id=\"T_6ee45dba_3d82_11ec_8c33_3e22fb3d6423row11_col5\" class=\"data row11 col5\" >0.816942</td>\n",
       "            </tr>\n",
       "    </tbody></table>"
      ],
      "text/plain": [
       "<pandas.io.formats.style.Styler at 0x7fb230e3acc0>"
      ]
     },
     "execution_count": 15,
     "metadata": {},
     "output_type": "execute_result"
    }
   ],
   "source": [
    "styled_p_vl_tbl"
   ]
  },
  {
   "cell_type": "code",
   "execution_count": 16,
   "metadata": {},
   "outputs": [
    {
     "data": {
      "text/html": [
       "<style  type=\"text/css\" >\n",
       "#T_6eea481a_3d82_11ec_8c33_3e22fb3d6423row0_col0,#T_6eea481a_3d82_11ec_8c33_3e22fb3d6423row0_col1,#T_6eea481a_3d82_11ec_8c33_3e22fb3d6423row0_col2,#T_6eea481a_3d82_11ec_8c33_3e22fb3d6423row1_col0,#T_6eea481a_3d82_11ec_8c33_3e22fb3d6423row1_col1,#T_6eea481a_3d82_11ec_8c33_3e22fb3d6423row1_col2,#T_6eea481a_3d82_11ec_8c33_3e22fb3d6423row1_col3,#T_6eea481a_3d82_11ec_8c33_3e22fb3d6423row1_col5,#T_6eea481a_3d82_11ec_8c33_3e22fb3d6423row2_col0,#T_6eea481a_3d82_11ec_8c33_3e22fb3d6423row2_col3,#T_6eea481a_3d82_11ec_8c33_3e22fb3d6423row2_col5,#T_6eea481a_3d82_11ec_8c33_3e22fb3d6423row3_col0,#T_6eea481a_3d82_11ec_8c33_3e22fb3d6423row3_col1,#T_6eea481a_3d82_11ec_8c33_3e22fb3d6423row3_col2,#T_6eea481a_3d82_11ec_8c33_3e22fb3d6423row3_col3,#T_6eea481a_3d82_11ec_8c33_3e22fb3d6423row3_col4,#T_6eea481a_3d82_11ec_8c33_3e22fb3d6423row4_col0,#T_6eea481a_3d82_11ec_8c33_3e22fb3d6423row4_col1,#T_6eea481a_3d82_11ec_8c33_3e22fb3d6423row4_col2,#T_6eea481a_3d82_11ec_8c33_3e22fb3d6423row4_col3,#T_6eea481a_3d82_11ec_8c33_3e22fb3d6423row4_col4,#T_6eea481a_3d82_11ec_8c33_3e22fb3d6423row4_col5,#T_6eea481a_3d82_11ec_8c33_3e22fb3d6423row5_col0,#T_6eea481a_3d82_11ec_8c33_3e22fb3d6423row5_col3,#T_6eea481a_3d82_11ec_8c33_3e22fb3d6423row5_col5,#T_6eea481a_3d82_11ec_8c33_3e22fb3d6423row7_col4,#T_6eea481a_3d82_11ec_8c33_3e22fb3d6423row8_col3,#T_6eea481a_3d82_11ec_8c33_3e22fb3d6423row8_col4,#T_6eea481a_3d82_11ec_8c33_3e22fb3d6423row8_col5,#T_6eea481a_3d82_11ec_8c33_3e22fb3d6423row9_col4,#T_6eea481a_3d82_11ec_8c33_3e22fb3d6423row10_col4,#T_6eea481a_3d82_11ec_8c33_3e22fb3d6423row11_col3,#T_6eea481a_3d82_11ec_8c33_3e22fb3d6423row11_col4,#T_6eea481a_3d82_11ec_8c33_3e22fb3d6423row11_col5{\n",
       "            opacity:  10%;\n",
       "        }#T_6eea481a_3d82_11ec_8c33_3e22fb3d6423row0_col3,#T_6eea481a_3d82_11ec_8c33_3e22fb3d6423row0_col5,#T_6eea481a_3d82_11ec_8c33_3e22fb3d6423row3_col5,#T_6eea481a_3d82_11ec_8c33_3e22fb3d6423row6_col3,#T_6eea481a_3d82_11ec_8c33_3e22fb3d6423row6_col4,#T_6eea481a_3d82_11ec_8c33_3e22fb3d6423row6_col5,#T_6eea481a_3d82_11ec_8c33_3e22fb3d6423row7_col3,#T_6eea481a_3d82_11ec_8c33_3e22fb3d6423row7_col5,#T_6eea481a_3d82_11ec_8c33_3e22fb3d6423row9_col3,#T_6eea481a_3d82_11ec_8c33_3e22fb3d6423row9_col5,#T_6eea481a_3d82_11ec_8c33_3e22fb3d6423row10_col3,#T_6eea481a_3d82_11ec_8c33_3e22fb3d6423row10_col5{\n",
       "            color: red;\n",
       "            opacity:  10%;\n",
       "        }</style><table id=\"T_6eea481a_3d82_11ec_8c33_3e22fb3d6423\" ><thead>    <tr>        <th class=\"blank level0\" ></th>        <th class=\"col_heading level0 col0\" >beh_before_TC</th>        <th class=\"col_heading level0 col1\" >beh_before_F</th>        <th class=\"col_heading level0 col2\" >beh_before_B</th>        <th class=\"col_heading level0 col3\" >beh_after_TC</th>        <th class=\"col_heading level0 col4\" >beh_after_F</th>        <th class=\"col_heading level0 col5\" >beh_after_B</th>    </tr></thead><tbody>\n",
       "                <tr>\n",
       "                        <th id=\"T_6eea481a_3d82_11ec_8c33_3e22fb3d6423level0_row0\" class=\"row_heading level0 row0\" >SDAR_a00c</th>\n",
       "                        <td id=\"T_6eea481a_3d82_11ec_8c33_3e22fb3d6423row0_col0\" class=\"data row0 col0\" >1.000000</td>\n",
       "                        <td id=\"T_6eea481a_3d82_11ec_8c33_3e22fb3d6423row0_col1\" class=\"data row0 col1\" >0.158963</td>\n",
       "                        <td id=\"T_6eea481a_3d82_11ec_8c33_3e22fb3d6423row0_col2\" class=\"data row0 col2\" >1.000000</td>\n",
       "                        <td id=\"T_6eea481a_3d82_11ec_8c33_3e22fb3d6423row0_col3\" class=\"data row0 col3\" >-1.000000</td>\n",
       "                        <td id=\"T_6eea481a_3d82_11ec_8c33_3e22fb3d6423row0_col4\" class=\"data row0 col4\" >0.000362</td>\n",
       "                        <td id=\"T_6eea481a_3d82_11ec_8c33_3e22fb3d6423row0_col5\" class=\"data row0 col5\" >-1.000000</td>\n",
       "            </tr>\n",
       "            <tr>\n",
       "                        <th id=\"T_6eea481a_3d82_11ec_8c33_3e22fb3d6423level0_row1\" class=\"row_heading level0 row1\" >SDAR_basin</th>\n",
       "                        <td id=\"T_6eea481a_3d82_11ec_8c33_3e22fb3d6423row1_col0\" class=\"data row1 col0\" >1.000000</td>\n",
       "                        <td id=\"T_6eea481a_3d82_11ec_8c33_3e22fb3d6423row1_col1\" class=\"data row1 col1\" >0.198792</td>\n",
       "                        <td id=\"T_6eea481a_3d82_11ec_8c33_3e22fb3d6423row1_col2\" class=\"data row1 col2\" >0.728241</td>\n",
       "                        <td id=\"T_6eea481a_3d82_11ec_8c33_3e22fb3d6423row1_col3\" class=\"data row1 col3\" >1.000000</td>\n",
       "                        <td id=\"T_6eea481a_3d82_11ec_8c33_3e22fb3d6423row1_col4\" class=\"data row1 col4\" >0.038080</td>\n",
       "                        <td id=\"T_6eea481a_3d82_11ec_8c33_3e22fb3d6423row1_col5\" class=\"data row1 col5\" >1.000000</td>\n",
       "            </tr>\n",
       "            <tr>\n",
       "                        <th id=\"T_6eea481a_3d82_11ec_8c33_3e22fb3d6423level0_row2\" class=\"row_heading level0 row2\" >SDAR_handle</th>\n",
       "                        <td id=\"T_6eea481a_3d82_11ec_8c33_3e22fb3d6423row2_col0\" class=\"data row2 col0\" >0.762943</td>\n",
       "                        <td id=\"T_6eea481a_3d82_11ec_8c33_3e22fb3d6423row2_col1\" class=\"data row2 col1\" >0.000350</td>\n",
       "                        <td id=\"T_6eea481a_3d82_11ec_8c33_3e22fb3d6423row2_col2\" class=\"data row2 col2\" >0.012545</td>\n",
       "                        <td id=\"T_6eea481a_3d82_11ec_8c33_3e22fb3d6423row2_col3\" class=\"data row2 col3\" >1.000000</td>\n",
       "                        <td id=\"T_6eea481a_3d82_11ec_8c33_3e22fb3d6423row2_col4\" class=\"data row2 col4\" >0.000003</td>\n",
       "                        <td id=\"T_6eea481a_3d82_11ec_8c33_3e22fb3d6423row2_col5\" class=\"data row2 col5\" >1.000000</td>\n",
       "            </tr>\n",
       "            <tr>\n",
       "                        <th id=\"T_6eea481a_3d82_11ec_8c33_3e22fb3d6423level0_row3\" class=\"row_heading level0 row3\" >DD_a00c</th>\n",
       "                        <td id=\"T_6eea481a_3d82_11ec_8c33_3e22fb3d6423row3_col0\" class=\"data row3 col0\" >1.000000</td>\n",
       "                        <td id=\"T_6eea481a_3d82_11ec_8c33_3e22fb3d6423row3_col1\" class=\"data row3 col1\" >1.000000</td>\n",
       "                        <td id=\"T_6eea481a_3d82_11ec_8c33_3e22fb3d6423row3_col2\" class=\"data row3 col2\" >1.000000</td>\n",
       "                        <td id=\"T_6eea481a_3d82_11ec_8c33_3e22fb3d6423row3_col3\" class=\"data row3 col3\" >1.000000</td>\n",
       "                        <td id=\"T_6eea481a_3d82_11ec_8c33_3e22fb3d6423row3_col4\" class=\"data row3 col4\" >0.265068</td>\n",
       "                        <td id=\"T_6eea481a_3d82_11ec_8c33_3e22fb3d6423row3_col5\" class=\"data row3 col5\" >-1.000000</td>\n",
       "            </tr>\n",
       "            <tr>\n",
       "                        <th id=\"T_6eea481a_3d82_11ec_8c33_3e22fb3d6423level0_row4\" class=\"row_heading level0 row4\" >DD_basin</th>\n",
       "                        <td id=\"T_6eea481a_3d82_11ec_8c33_3e22fb3d6423row4_col0\" class=\"data row4 col0\" >1.000000</td>\n",
       "                        <td id=\"T_6eea481a_3d82_11ec_8c33_3e22fb3d6423row4_col1\" class=\"data row4 col1\" >0.190466</td>\n",
       "                        <td id=\"T_6eea481a_3d82_11ec_8c33_3e22fb3d6423row4_col2\" class=\"data row4 col2\" >0.512623</td>\n",
       "                        <td id=\"T_6eea481a_3d82_11ec_8c33_3e22fb3d6423row4_col3\" class=\"data row4 col3\" >1.000000</td>\n",
       "                        <td id=\"T_6eea481a_3d82_11ec_8c33_3e22fb3d6423row4_col4\" class=\"data row4 col4\" >1.000000</td>\n",
       "                        <td id=\"T_6eea481a_3d82_11ec_8c33_3e22fb3d6423row4_col5\" class=\"data row4 col5\" >1.000000</td>\n",
       "            </tr>\n",
       "            <tr>\n",
       "                        <th id=\"T_6eea481a_3d82_11ec_8c33_3e22fb3d6423level0_row5\" class=\"row_heading level0 row5\" >DD_handle</th>\n",
       "                        <td id=\"T_6eea481a_3d82_11ec_8c33_3e22fb3d6423row5_col0\" class=\"data row5 col0\" >0.358923</td>\n",
       "                        <td id=\"T_6eea481a_3d82_11ec_8c33_3e22fb3d6423row5_col1\" class=\"data row5 col1\" >0.001000</td>\n",
       "                        <td id=\"T_6eea481a_3d82_11ec_8c33_3e22fb3d6423row5_col2\" class=\"data row5 col2\" >0.011826</td>\n",
       "                        <td id=\"T_6eea481a_3d82_11ec_8c33_3e22fb3d6423row5_col3\" class=\"data row5 col3\" >1.000000</td>\n",
       "                        <td id=\"T_6eea481a_3d82_11ec_8c33_3e22fb3d6423row5_col4\" class=\"data row5 col4\" >0.001751</td>\n",
       "                        <td id=\"T_6eea481a_3d82_11ec_8c33_3e22fb3d6423row5_col5\" class=\"data row5 col5\" >1.000000</td>\n",
       "            </tr>\n",
       "            <tr>\n",
       "                        <th id=\"T_6eea481a_3d82_11ec_8c33_3e22fb3d6423level0_row6\" class=\"row_heading level0 row6\" >PD_a00c</th>\n",
       "                        <td id=\"T_6eea481a_3d82_11ec_8c33_3e22fb3d6423row6_col0\" class=\"data row6 col0\" >0.030136</td>\n",
       "                        <td id=\"T_6eea481a_3d82_11ec_8c33_3e22fb3d6423row6_col1\" class=\"data row6 col1\" >0.000000</td>\n",
       "                        <td id=\"T_6eea481a_3d82_11ec_8c33_3e22fb3d6423row6_col2\" class=\"data row6 col2\" >0.000022</td>\n",
       "                        <td id=\"T_6eea481a_3d82_11ec_8c33_3e22fb3d6423row6_col3\" class=\"data row6 col3\" >-1.000000</td>\n",
       "                        <td id=\"T_6eea481a_3d82_11ec_8c33_3e22fb3d6423row6_col4\" class=\"data row6 col4\" >-1.000000</td>\n",
       "                        <td id=\"T_6eea481a_3d82_11ec_8c33_3e22fb3d6423row6_col5\" class=\"data row6 col5\" >-0.617615</td>\n",
       "            </tr>\n",
       "            <tr>\n",
       "                        <th id=\"T_6eea481a_3d82_11ec_8c33_3e22fb3d6423level0_row7\" class=\"row_heading level0 row7\" >PD_basin</th>\n",
       "                        <td id=\"T_6eea481a_3d82_11ec_8c33_3e22fb3d6423row7_col0\" class=\"data row7 col0\" >0.039838</td>\n",
       "                        <td id=\"T_6eea481a_3d82_11ec_8c33_3e22fb3d6423row7_col1\" class=\"data row7 col1\" >0.000000</td>\n",
       "                        <td id=\"T_6eea481a_3d82_11ec_8c33_3e22fb3d6423row7_col2\" class=\"data row7 col2\" >0.000057</td>\n",
       "                        <td id=\"T_6eea481a_3d82_11ec_8c33_3e22fb3d6423row7_col3\" class=\"data row7 col3\" >-1.000000</td>\n",
       "                        <td id=\"T_6eea481a_3d82_11ec_8c33_3e22fb3d6423row7_col4\" class=\"data row7 col4\" >1.000000</td>\n",
       "                        <td id=\"T_6eea481a_3d82_11ec_8c33_3e22fb3d6423row7_col5\" class=\"data row7 col5\" >-1.000000</td>\n",
       "            </tr>\n",
       "            <tr>\n",
       "                        <th id=\"T_6eea481a_3d82_11ec_8c33_3e22fb3d6423level0_row8\" class=\"row_heading level0 row8\" >PD_handle</th>\n",
       "                        <td id=\"T_6eea481a_3d82_11ec_8c33_3e22fb3d6423row8_col0\" class=\"data row8 col0\" >0.001749</td>\n",
       "                        <td id=\"T_6eea481a_3d82_11ec_8c33_3e22fb3d6423row8_col1\" class=\"data row8 col1\" >0.000310</td>\n",
       "                        <td id=\"T_6eea481a_3d82_11ec_8c33_3e22fb3d6423row8_col2\" class=\"data row8 col2\" >0.000019</td>\n",
       "                        <td id=\"T_6eea481a_3d82_11ec_8c33_3e22fb3d6423row8_col3\" class=\"data row8 col3\" >1.000000</td>\n",
       "                        <td id=\"T_6eea481a_3d82_11ec_8c33_3e22fb3d6423row8_col4\" class=\"data row8 col4\" >1.000000</td>\n",
       "                        <td id=\"T_6eea481a_3d82_11ec_8c33_3e22fb3d6423row8_col5\" class=\"data row8 col5\" >1.000000</td>\n",
       "            </tr>\n",
       "            <tr>\n",
       "                        <th id=\"T_6eea481a_3d82_11ec_8c33_3e22fb3d6423level0_row9\" class=\"row_heading level0 row9\" >BR_a00c</th>\n",
       "                        <td id=\"T_6eea481a_3d82_11ec_8c33_3e22fb3d6423row9_col0\" class=\"data row9 col0\" >0.040312</td>\n",
       "                        <td id=\"T_6eea481a_3d82_11ec_8c33_3e22fb3d6423row9_col1\" class=\"data row9 col1\" >0.000001</td>\n",
       "                        <td id=\"T_6eea481a_3d82_11ec_8c33_3e22fb3d6423row9_col2\" class=\"data row9 col2\" >0.000064</td>\n",
       "                        <td id=\"T_6eea481a_3d82_11ec_8c33_3e22fb3d6423row9_col3\" class=\"data row9 col3\" >-1.000000</td>\n",
       "                        <td id=\"T_6eea481a_3d82_11ec_8c33_3e22fb3d6423row9_col4\" class=\"data row9 col4\" >1.000000</td>\n",
       "                        <td id=\"T_6eea481a_3d82_11ec_8c33_3e22fb3d6423row9_col5\" class=\"data row9 col5\" >-1.000000</td>\n",
       "            </tr>\n",
       "            <tr>\n",
       "                        <th id=\"T_6eea481a_3d82_11ec_8c33_3e22fb3d6423level0_row10\" class=\"row_heading level0 row10\" >BR_basin</th>\n",
       "                        <td id=\"T_6eea481a_3d82_11ec_8c33_3e22fb3d6423row10_col0\" class=\"data row10 col0\" >0.030433</td>\n",
       "                        <td id=\"T_6eea481a_3d82_11ec_8c33_3e22fb3d6423row10_col1\" class=\"data row10 col1\" >0.000000</td>\n",
       "                        <td id=\"T_6eea481a_3d82_11ec_8c33_3e22fb3d6423row10_col2\" class=\"data row10 col2\" >0.000061</td>\n",
       "                        <td id=\"T_6eea481a_3d82_11ec_8c33_3e22fb3d6423row10_col3\" class=\"data row10 col3\" >-1.000000</td>\n",
       "                        <td id=\"T_6eea481a_3d82_11ec_8c33_3e22fb3d6423row10_col4\" class=\"data row10 col4\" >1.000000</td>\n",
       "                        <td id=\"T_6eea481a_3d82_11ec_8c33_3e22fb3d6423row10_col5\" class=\"data row10 col5\" >-1.000000</td>\n",
       "            </tr>\n",
       "            <tr>\n",
       "                        <th id=\"T_6eea481a_3d82_11ec_8c33_3e22fb3d6423level0_row11\" class=\"row_heading level0 row11\" >BR_handle</th>\n",
       "                        <td id=\"T_6eea481a_3d82_11ec_8c33_3e22fb3d6423row11_col0\" class=\"data row11 col0\" >0.003304</td>\n",
       "                        <td id=\"T_6eea481a_3d82_11ec_8c33_3e22fb3d6423row11_col1\" class=\"data row11 col1\" >0.000400</td>\n",
       "                        <td id=\"T_6eea481a_3d82_11ec_8c33_3e22fb3d6423row11_col2\" class=\"data row11 col2\" >0.000046</td>\n",
       "                        <td id=\"T_6eea481a_3d82_11ec_8c33_3e22fb3d6423row11_col3\" class=\"data row11 col3\" >1.000000</td>\n",
       "                        <td id=\"T_6eea481a_3d82_11ec_8c33_3e22fb3d6423row11_col4\" class=\"data row11 col4\" >1.000000</td>\n",
       "                        <td id=\"T_6eea481a_3d82_11ec_8c33_3e22fb3d6423row11_col5\" class=\"data row11 col5\" >1.000000</td>\n",
       "            </tr>\n",
       "    </tbody></table>"
      ],
      "text/plain": [
       "<pandas.io.formats.style.Styler at 0x7fb230e3a898>"
      ]
     },
     "execution_count": 16,
     "metadata": {},
     "output_type": "execute_result"
    }
   ],
   "source": [
    "styled_adj_p_vl_tbl"
   ]
  },
  {
   "cell_type": "markdown",
   "metadata": {},
   "source": [
    "## Visualize the coefficients of one model"
   ]
  },
  {
   "cell_type": "code",
   "execution_count": 17,
   "metadata": {},
   "outputs": [],
   "source": [
    "vis_stats = tbl_stats['BR_handle']"
   ]
  },
  {
   "cell_type": "code",
   "execution_count": 18,
   "metadata": {},
   "outputs": [],
   "source": [
    "adjusted_sa_sig, _ = apply_bonferroni(vis_stats['all_p_vls'], alpha=.05)"
   ]
  },
  {
   "cell_type": "code",
   "execution_count": 19,
   "metadata": {},
   "outputs": [
    {
     "data": {
      "image/png": "[encoded data removed]",
      "text/plain": [
       "<Figure size 576x432 with 1 Axes>"
      ]
     },
     "metadata": {
      "needs_background": "light"
     },
     "output_type": "display_data"
    }
   ],
   "source": [
    "visualize_coefficient_stats(var_strs=vis_stats['all_behs'], theta=vis_stats['all_beta'], \n",
    "                            c_ints=vis_stats['all_c_ints'], sig=adjusted_sa_sig,\n",
    "                            x_axis_rot=90)\n",
    "plt.ylabel('$\\Delta F / F$')\n",
    "plt.xlabel('Behavior')\n",
    "plt.tight_layout()\n",
    "fig = plt.gcf()\n",
    "fig.set_size_inches(8, 6)"
   ]
  },
  {
   "cell_type": "code",
   "execution_count": null,
   "metadata": {},
   "outputs": [],
   "source": []
  }
 ],
 "metadata": {
  "kernelspec": {
   "display_name": "Python 3",
   "language": "python",
   "name": "python3"
  },
  "language_info": {
   "codemirror_mode": {
    "name": "ipython",
    "version": 3
   },
   "file_extension": ".py",
   "mimetype": "text/x-python",
   "name": "python",
   "nbconvert_exporter": "python",
   "pygments_lexer": "ipython3",
   "version": "3.7.3"
  }
 },
 "nbformat": 4,
 "nbformat_minor": 4
}
