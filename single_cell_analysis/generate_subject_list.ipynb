{
 "cells": [
  {
   "cell_type": "markdown",
   "metadata": {},
   "source": [
    "Generates a list of subjects that should be included in the single-cell analysis.  This list is based on those subjects we included in the early analyses (which were the subjects Chen provided that we happened to have data for). "
   ]
  },
  {
   "cell_type": "code",
   "execution_count": 16,
   "metadata": {},
   "outputs": [],
   "source": [
    "from pathlib import Path\n",
    "\n",
    "import numpy as np\n",
    "import pandas as pd\n",
    "import scipy.io\n",
    "\n",
    "from keller_zlatic_vnc.data_processing import generate_standard_id_from_matlab_id"
   ]
  },
  {
   "cell_type": "markdown",
   "metadata": {},
   "source": [
    "## Parameters go here "
   ]
  },
  {
   "cell_type": "code",
   "execution_count": 25,
   "metadata": {},
   "outputs": [],
   "source": [
    "# Locations of files Chen provided with the original single cell, closed loop activity\n",
    "sc_cl_activity_folder = r'/Users/bishopw/Documents/Janelia_Research/Projects/keller_zlatic_vnc/data/extracted_dff_v2/'\n",
    "\n",
    "a00c_cl_act_data_files = ['A00c_activity_A4.mat', 'A00c_activity_A9.mat']\n",
    "\n",
    "basin_cl_act_data_files = ['Basin_activity_A4.mat', 'Basin_activity_A9.mat']\n",
    "\n",
    "handle_cl_act_data_files = ['Handle_activity_A4.mat', 'Handle_activity_A9.mat']\n",
    "\n",
    "# Specify the file to save the list in\n",
    "save_file = r'/Volumes/bishoplab/projects/keller_vnc/data/single_cell/subjects.csv'\n"
   ]
  },
  {
   "cell_type": "markdown",
   "metadata": {},
   "source": [
    "## See which specimens Chen originally provided activity for in the single cell, closed-loop analysis"
   ]
  },
  {
   "cell_type": "code",
   "execution_count": 11,
   "metadata": {},
   "outputs": [],
   "source": [
    "type_strings = ['a00c', 'handle', 'basin']\n",
    "cl_act_subjects = [None]*3\n",
    "for i, files in enumerate([a00c_cl_act_data_files, handle_cl_act_data_files, basin_cl_act_data_files]):\n",
    "    \n",
    "    a4_act = scipy.io.loadmat(Path(sc_cl_activity_folder) / files[0], squeeze_me=True)\n",
    "    a9_act = scipy.io.loadmat(Path(sc_cl_activity_folder) / files[1], squeeze_me=True)\n",
    "    \n",
    "    # Correct mistake in labeling if we need to\n",
    "    if type_strings[i] == 'basin' or type_strings[i] == 'handle':\n",
    "        ind = np.argwhere(a4_act['newTransitions'] == '0824L2CL')[1][0]\n",
    "        a4_act['newTransitions'][ind] = '0824L2-2CL'\n",
    "\n",
    "    a4_subjects = list(a4_act['newTransitions'])\n",
    "    a9_subjects = list(a9_act['newTransitions'])\n",
    "    a4_a9_subjects = list(set(a4_subjects + a9_subjects))\n",
    "    a4_a9_subjects = [generate_standard_id_from_matlab_id(id) for id in a4_a9_subjects]\n",
    "    a4_a9_subjects.sort()\n",
    "    cl_act_subjects[i] = a4_a9_subjects"
   ]
  },
  {
   "cell_type": "code",
   "execution_count": 27,
   "metadata": {},
   "outputs": [],
   "source": [
    "all_subjects = list(set(cl_act_subjects[0] + cl_act_subjects[1] + cl_act_subjects[2]))\n",
    "all_subjects.sort()\n",
    "all_subjcts = pd.DataFrame(all_subjects, columns=['Subject'])"
   ]
  },
  {
   "cell_type": "markdown",
   "metadata": {},
   "source": [
    "## Save the list of subjects"
   ]
  },
  {
   "cell_type": "code",
   "execution_count": 28,
   "metadata": {},
   "outputs": [],
   "source": [
    "all_subjcts.to_csv(save_file)"
   ]
  },
  {
   "cell_type": "code",
   "execution_count": null,
   "metadata": {},
   "outputs": [],
   "source": []
  }
 ],
 "metadata": {
  "kernelspec": {
   "display_name": "Python 3",
   "language": "python",
   "name": "python3"
  },
  "language_info": {
   "codemirror_mode": {
    "name": "ipython",
    "version": 3
   },
   "file_extension": ".py",
   "mimetype": "text/x-python",
   "name": "python",
   "nbconvert_exporter": "python",
   "pygments_lexer": "ipython3",
   "version": "3.7.3"
  }
 },
 "nbformat": 4,
 "nbformat_minor": 4
}
