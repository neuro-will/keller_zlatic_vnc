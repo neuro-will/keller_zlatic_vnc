{
 "cells": [
  {
   "cell_type": "markdown",
   "id": "3cd0c2d0",
   "metadata": {},
   "source": [
    "For developing and testing the function spont_beh_one_hot_encoding"
   ]
  },
  {
   "cell_type": "code",
   "execution_count": 1,
   "id": "ae634638",
   "metadata": {},
   "outputs": [],
   "source": [
    "import pandas as pd\n",
    "\n",
    "from keller_zlatic_vnc.linear_modeling import spont_beh_one_hot_encoding"
   ]
  },
  {
   "cell_type": "code",
   "execution_count": 2,
   "id": "78fb7b2c",
   "metadata": {},
   "outputs": [],
   "source": [
    "table = pd.DataFrame({'beh_before': ['F', 'Q', 'B'], \n",
    "                      'beh_after': ['F', 'H', 'F']}, \n",
    "                     index=[4, 1, 2])"
   ]
  },
  {
   "cell_type": "code",
   "execution_count": 3,
   "id": "4012d017",
   "metadata": {},
   "outputs": [
    {
     "data": {
      "text/plain": [
       "(array([[1., 0., 1., 0.],\n",
       "        [0., 0., 0., 1.],\n",
       "        [0., 1., 1., 0.]]),\n",
       " ['before_F', 'before_B', 'after_F', 'after_H'])"
      ]
     },
     "execution_count": 3,
     "metadata": {},
     "output_type": "execute_result"
    }
   ],
   "source": [
    "spont_beh_one_hot_encoding(tbl=table, prev_str = 'beh_before', suc_str='beh_after', prev_ref = 'Q')"
   ]
  }
 ],
 "metadata": {
  "kernelspec": {
   "display_name": "Python 3",
   "language": "python",
   "name": "python3"
  },
  "language_info": {
   "codemirror_mode": {
    "name": "ipython",
    "version": 3
   },
   "file_extension": ".py",
   "mimetype": "text/x-python",
   "name": "python",
   "nbconvert_exporter": "python",
   "pygments_lexer": "ipython3",
   "version": "3.7.3"
  }
 },
 "nbformat": 4,
 "nbformat_minor": 5
}
