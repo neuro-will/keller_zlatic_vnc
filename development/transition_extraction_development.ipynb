{
 "cells": [
  {
   "cell_type": "markdown",
   "metadata": {},
   "source": [
    "Code for developing and testing the function for extracting transition information from an excel spreadsheet"
   ]
  },
  {
   "cell_type": "code",
   "execution_count": 1,
   "metadata": {},
   "outputs": [],
   "source": [
    "%load_ext autoreload\n",
    "%autoreload 2"
   ]
  },
  {
   "cell_type": "code",
   "execution_count": 2,
   "metadata": {},
   "outputs": [],
   "source": [
    "import pathlib\n",
    "\n",
    "import numpy as np\n",
    "import pandas as pd\n",
    "import scipy.io\n",
    "\n",
    "from keller_zlatic_vnc.data_processing import generate_excel_id_from_matlab_id\n",
    "from keller_zlatic_vnc.data_processing import extract_transitions\n",
    "from keller_zlatic_vnc.data_processing import read_raw_transitions_from_excel\n",
    "from keller_zlatic_vnc.data_processing import recode_beh"
   ]
  },
  {
   "cell_type": "markdown",
   "metadata": {},
   "source": [
    "## Parameters go here"
   ]
  },
  {
   "cell_type": "code",
   "execution_count": null,
   "metadata": {},
   "outputs": [],
   "source": [
    "data_folder = r'/Volumes/bishoplab/projects/keller_vnc/data/extracted_dff_v2'\n",
    "transition_file = 'transition_list.xlsx'\n",
    "\n",
    "\n",
    "a4_trans_data_file = 'A00c-transition-A4.mat'\n",
    "a9_trans_data_file = 'A00c-transition-A9.mat'"
   ]
  },
  {
   "cell_type": "markdown",
   "metadata": {},
   "source": [
    "## Read in the transitions"
   ]
  },
  {
   "cell_type": "code",
   "execution_count": null,
   "metadata": {},
   "outputs": [],
   "source": [
    "df = read_raw_transitions_from_excel(pathlib.Path(data_folder) / transition_file)"
   ]
  },
  {
   "cell_type": "markdown",
   "metadata": {},
   "source": [
    "## Recode the behavior to use standard abbreviations"
   ]
  },
  {
   "cell_type": "code",
   "execution_count": null,
   "metadata": {},
   "outputs": [],
   "source": [
    "df = recode_beh(df, 'Beh Before')\n",
    "df = recode_beh(df, 'Beh After')"
   ]
  },
  {
   "cell_type": "markdown",
   "metadata": {},
   "source": [
    "## Extract transitions"
   ]
  },
  {
   "cell_type": "code",
   "execution_count": null,
   "metadata": {},
   "outputs": [],
   "source": [
    "trans = extract_transitions(df, np.inf)"
   ]
  },
  {
   "cell_type": "markdown",
   "metadata": {},
   "source": [
    "## Compare extracted transitions to the transitions that Chen has marked"
   ]
  },
  {
   "cell_type": "code",
   "execution_count": null,
   "metadata": {},
   "outputs": [],
   "source": [
    "a4_trans = scipy.io.loadmat(pathlib.Path(data_folder) / a4_trans_data_file, squeeze_me=True)\n",
    "a9_trans = scipy.io.loadmat(pathlib.Path(data_folder) / a9_trans_data_file, squeeze_me=True)\n",
    "\n",
    "a4_trans = a4_trans['newTransitions']\n",
    "a9_trans = a9_trans['newTransitions']"
   ]
  },
  {
   "cell_type": "code",
   "execution_count": null,
   "metadata": {},
   "outputs": [],
   "source": [
    "for t_row in a4_trans:\n",
    "    chen_id = generate_excel_id_from_matlab_id(t_row[1])\n",
    "    chen_trans = t_row[0]\n",
    "    if isinstance(chen_trans, str):\n",
    "        chen_trans = [chen_trans]\n",
    "    \n",
    "    new_trans = trans[chen_id]\n",
    "    for t_i, t in enumerate(new_trans):\n",
    "        pred_str = t[0] + t[1]\n",
    "        assert pred_str == chen_trans[t_i], 'Caught bad match for specimen ' + chen_id \n",
    "    "
   ]
  }
 ],
 "metadata": {
  "kernelspec": {
   "display_name": "Python 3",
   "language": "python",
   "name": "python3"
  },
  "language_info": {
   "codemirror_mode": {
    "name": "ipython",
    "version": 3
   },
   "file_extension": ".py",
   "mimetype": "text/x-python",
   "name": "python",
   "nbconvert_exporter": "python",
   "pygments_lexer": "ipython3",
   "version": "3.7.3"
  }
 },
 "nbformat": 4,
 "nbformat_minor": 2
}
