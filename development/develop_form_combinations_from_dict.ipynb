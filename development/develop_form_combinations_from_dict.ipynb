{
 "cells": [
  {
   "cell_type": "markdown",
   "metadata": {},
   "source": [
    "For testing the function form_combinations_from_dict"
   ]
  },
  {
   "cell_type": "code",
   "execution_count": 1,
   "metadata": {},
   "outputs": [],
   "source": [
    "%load_ext autoreload\n",
    "%autoreload 2"
   ]
  },
  {
   "cell_type": "code",
   "execution_count": 2,
   "metadata": {},
   "outputs": [],
   "source": [
    "from keller_zlatic_vnc.utils import form_combinations_from_dict"
   ]
  },
  {
   "cell_type": "code",
   "execution_count": 43,
   "metadata": {},
   "outputs": [],
   "source": [
    "base_dict = {'k0': ['ds', 0, 1, 2], 'k1': [0, 1, 2], 'k2': [['ds', 0, 1], ['ds', 3, 4]]}"
   ]
  },
  {
   "cell_type": "code",
   "execution_count": 44,
   "metadata": {},
   "outputs": [
    {
     "name": "stdout",
     "output_type": "stream",
     "text": [
      "comb_keys: ['k0', 'k1', 'k2']\n",
      "dont_split_keys: ['k0']\n",
      "split_keys: ['k1', 'k2']\n",
      "comb_keys: ['k0', 'k2']\n",
      "dont_split_keys: ['k0']\n",
      "split_keys: ['k2']\n",
      "comb_keys: ['k0', 'k2']\n",
      "dont_split_keys: ['k0', 'k2']\n",
      "split_keys: []\n",
      "['k0', 'k2']\n",
      "comb_keys: ['k0', 'k2']\n",
      "dont_split_keys: ['k0', 'k2']\n",
      "split_keys: []\n",
      "['k0', 'k2']\n",
      "comb_keys: ['k0', 'k2']\n",
      "dont_split_keys: ['k0']\n",
      "split_keys: ['k2']\n",
      "comb_keys: ['k0', 'k2']\n",
      "dont_split_keys: ['k0', 'k2']\n",
      "split_keys: []\n",
      "['k0', 'k2']\n",
      "comb_keys: ['k0', 'k2']\n",
      "dont_split_keys: ['k0', 'k2']\n",
      "split_keys: []\n",
      "['k0', 'k2']\n",
      "comb_keys: ['k0', 'k2']\n",
      "dont_split_keys: ['k0']\n",
      "split_keys: ['k2']\n",
      "comb_keys: ['k0', 'k2']\n",
      "dont_split_keys: ['k0', 'k2']\n",
      "split_keys: []\n",
      "['k0', 'k2']\n",
      "comb_keys: ['k0', 'k2']\n",
      "dont_split_keys: ['k0', 'k2']\n",
      "split_keys: []\n",
      "['k0', 'k2']\n"
     ]
    }
   ],
   "source": [
    "dicts = form_combinations_from_dict(base_dict)"
   ]
  },
  {
   "cell_type": "code",
   "execution_count": 45,
   "metadata": {},
   "outputs": [
    {
     "data": {
      "text/plain": [
       "[{'k0': [0, 1, 2], 'k1': 0, 'k2': [0, 1]},\n",
       " {'k0': [0, 1, 2], 'k1': 0, 'k2': [3, 4]},\n",
       " {'k0': [0, 1, 2], 'k1': 1, 'k2': [0, 1]},\n",
       " {'k0': [0, 1, 2], 'k1': 1, 'k2': [3, 4]},\n",
       " {'k0': [0, 1, 2], 'k1': 2, 'k2': [0, 1]},\n",
       " {'k0': [0, 1, 2], 'k1': 2, 'k2': [3, 4]}]"
      ]
     },
     "execution_count": 45,
     "metadata": {},
     "output_type": "execute_result"
    }
   ],
   "source": [
    "dicts"
   ]
  },
  {
   "cell_type": "code",
   "execution_count": null,
   "metadata": {},
   "outputs": [],
   "source": []
  },
  {
   "cell_type": "code",
   "execution_count": null,
   "metadata": {},
   "outputs": [],
   "source": []
  }
 ],
 "metadata": {
  "kernelspec": {
   "display_name": "Python 3",
   "language": "python",
   "name": "python3"
  },
  "language_info": {
   "codemirror_mode": {
    "name": "ipython",
    "version": 3
   },
   "file_extension": ".py",
   "mimetype": "text/x-python",
   "name": "python",
   "nbconvert_exporter": "python",
   "pygments_lexer": "ipython3",
   "version": "3.7.3"
  }
 },
 "nbformat": 4,
 "nbformat_minor": 4
}
