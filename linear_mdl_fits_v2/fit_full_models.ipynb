{
 "cells": [
  {
   "cell_type": "code",
   "execution_count": 1,
   "metadata": {},
   "outputs": [],
   "source": [
    "%load_ext autoreload\n",
    "%autoreload 2"
   ]
  },
  {
   "cell_type": "code",
   "execution_count": 2,
   "metadata": {},
   "outputs": [
    {
     "name": "stderr",
     "output_type": "stream",
     "text": [
      "/Users/williambishop/Documents/Janelia_Research/Projects/janelia_core/janelia_core/fileio/exp_reader.py:21: UserWarning: Unable to locate pyklb module.  Will not be able to read in .klb files.\n",
      "  warnings.warn('Unable to locate pyklb module.  Will not be able to read in .klb files.')\n"
     ]
    }
   ],
   "source": [
    "import pathlib\n",
    "\n",
    "import numpy as np\n",
    "import pandas as pd\n",
    "import scipy.io\n",
    "\n",
    "from keller_zlatic_vnc.data_processing import count_unique_subjs_per_transition\n",
    "from keller_zlatic_vnc.data_processing import extract_transitions\n",
    "from keller_zlatic_vnc.data_processing import generate_transition_dff_table\n",
    "from keller_zlatic_vnc.data_processing import read_raw_transitions_from_excel\n",
    "from keller_zlatic_vnc.data_processing import recode_beh\n",
    "from keller_zlatic_vnc.linear_modeling import one_hot_from_table\n",
    "from keller_zlatic_vnc.linear_modeling import reference_one_hot_to_beh\n",
    "\n",
    "from janelia_core.stats.regression import grouped_linear_regression_ols_estimator\n",
    "from janelia_core.stats.regression import grouped_linear_regression_acm_stats"
   ]
  },
  {
   "cell_type": "code",
   "execution_count": 3,
   "metadata": {},
   "outputs": [],
   "source": [
    "pd.set_option('display.max_rows', None)\n",
    "pd.set_option('display.max_columns', None)"
   ]
  },
  {
   "cell_type": "markdown",
   "metadata": {},
   "source": [
    "## Options for analysis"
   ]
  },
  {
   "cell_type": "code",
   "execution_count": 4,
   "metadata": {},
   "outputs": [],
   "source": [
    "# Type of cells we fit models to\n",
    "cell_type = 'a00c' \n",
    "\n",
    "# If we fit data to perturbations targeted at 'A4', 'A9' or 'both'\n",
    "manip_type = 'both'\n",
    "\n",
    "# Define the cutoff time we use to define quiet behaviors following stimulation\n",
    "cut_off_time = 9.0034 #3.656 #9.0034\n",
    "\n",
    "# Specify if we enforce closure\n",
    "enforce_closure = True\n",
    "\n",
    "# Specify if we predict dff 'before' or 'after' the manipulation\n",
    "period = 'after'\n",
    "\n",
    "# Specify how we setup the models\n",
    "\n",
    "beh_before = ['B', 'F', 'O', 'Q', 'T']\n",
    "beh_after = ['B', 'F', 'O', 'P', 'Q', 'T']\n",
    "\n",
    "# For no cutoff\n",
    "beh_interactions = [('B', 'B'), ('B', 'F'), ('F', 'F'), ('F', 'P'), \n",
    "                    ('Q', 'F'), ('Q', 'O'),  ('T', 'F'), ('Q', 'Q')]\n",
    "\n",
    "beh_ref = 'Q'"
   ]
  },
  {
   "cell_type": "markdown",
   "metadata": {},
   "source": [
    "## Location of the data"
   ]
  },
  {
   "cell_type": "code",
   "execution_count": 5,
   "metadata": {},
   "outputs": [],
   "source": [
    "data_folder = r'/Volumes/bishoplab/projects/keller_vnc/data/extracted_dff_v2'\n",
    "transition_file = 'transition_list.xlsx'\n",
    "\n",
    "a00c_a4_act_data_file = 'A00c_activity_A4.mat'\n",
    "a00c_a9_act_data_file = 'A00c_activity_A9.mat'\n",
    "\n",
    "basin_a4_act_data_file = 'Basin_activity_A4.mat'\n",
    "basin_a9_act_data_file = 'Basin_activity_A9.mat'\n",
    "\n",
    "handle_a4_act_data_file = 'Handle_activity_A4.mat'\n",
    "handle_a9_act_data_file = 'Handle_activity_A9.mat'"
   ]
  },
  {
   "cell_type": "markdown",
   "metadata": {},
   "source": [
    "## Specify some parameters we use in the code below"
   ]
  },
  {
   "cell_type": "code",
   "execution_count": 6,
   "metadata": {},
   "outputs": [],
   "source": [
    "if cell_type == 'a00c':\n",
    "    a4_act_file = a00c_a4_act_data_file\n",
    "    a9_act_file = a00c_a9_act_data_file\n",
    "elif cell_type == 'basin':\n",
    "    a4_act_file = basin_a4_act_data_file\n",
    "    a9_act_file = basin_a9_act_data_file\n",
    "elif cell_type == 'handle':\n",
    "    a4_act_file = handle_a4_act_data_file\n",
    "    a9_act_file = handle_a9_act_data_file\n",
    "else:\n",
    "    raise(ValueError('The cell type ' + cell_type + ' is not recogonized.'))"
   ]
  },
  {
   "cell_type": "markdown",
   "metadata": {},
   "source": [
    "## Load data"
   ]
  },
  {
   "cell_type": "code",
   "execution_count": 7,
   "metadata": {},
   "outputs": [],
   "source": [
    "# Read in raw transitions\n",
    "raw_trans = read_raw_transitions_from_excel(pathlib.Path(data_folder) / transition_file)\n",
    "\n",
    "# Read in activity\n",
    "a4_act = scipy.io.loadmat(pathlib.Path(data_folder) / a4_act_file, squeeze_me=True)\n",
    "a9_act = scipy.io.loadmat(pathlib.Path(data_folder) / a9_act_file, squeeze_me=True)\n",
    "\n",
    "# Correct mistake in labeling if we need to\n",
    "if cell_type == 'basin' or cell_type == 'handle':\n",
    "    ind = np.argwhere(a4_act['newTransitions'] == '0824L2CL')[1][0]\n",
    "    a4_act['newTransitions'][ind] = '0824L2-2CL'\n",
    "\n",
    "# Recode behavioral annotations\n",
    "raw_trans = recode_beh(raw_trans, 'Beh Before')\n",
    "raw_trans = recode_beh(raw_trans, 'Beh After')\n",
    "\n",
    "# Extract transitions\n",
    "trans = extract_transitions(raw_trans, cut_off_time)\n",
    "\n",
    "# Generate table of data \n",
    "a4table = generate_transition_dff_table(act_data=a4_act, trans=trans)\n",
    "a9table = generate_transition_dff_table(act_data=a9_act, trans=trans)\n",
    "\n",
    "# Put the tables together\n",
    "a4table['man_tgt'] = 'A4'\n",
    "a9table['man_tgt'] = 'A9'\n",
    "data = a4table.append(a9table, ignore_index=True)"
   ]
  },
  {
   "cell_type": "markdown",
   "metadata": {},
   "source": [
    "## Down select for manipulation target"
   ]
  },
  {
   "cell_type": "code",
   "execution_count": 8,
   "metadata": {},
   "outputs": [
    {
     "name": "stdout",
     "output_type": "stream",
     "text": [
      "Analyzing all manipulation events.\n"
     ]
    }
   ],
   "source": [
    "if manip_type == 'A4' or manip_type == 'a4':\n",
    "    print('Analyzing only A4 manipulation events.')\n",
    "    data = data[data['man_tgt'] == 'A4']\n",
    "elif manip_type == 'A9' or manip_type == 'a9':\n",
    "    print('Analyzing only A9 manipulation events.')\n",
    "    data = data[data['man_tgt'] == 'A9']\n",
    "else:\n",
    "    print('Analyzing all manipulation events.')"
   ]
  },
  {
   "cell_type": "markdown",
   "metadata": {},
   "source": [
    "## Enforce closure if needed"
   ]
  },
  {
   "cell_type": "code",
   "execution_count": 9,
   "metadata": {},
   "outputs": [
    {
     "name": "stdout",
     "output_type": "stream",
     "text": [
      "Enforcing closure.\n"
     ]
    }
   ],
   "source": [
    "if enforce_closure:\n",
    "    print('Enforcing closure.')\n",
    "    before_closure = np.asarray([b in set(beh_before) for b in data['beh_before']], \n",
    "                                dtype=bool)\n",
    "    after_closure = np.asarray([b in set(beh_after) for b in data['beh_after']], \n",
    "                                dtype=bool)\n",
    "    closure = np.logical_and(before_closure, after_closure)\n",
    "    \n",
    "    data = data[closure]"
   ]
  },
  {
   "cell_type": "markdown",
   "metadata": {},
   "source": [
    "## Get rid of rows of data that have no behavior of interest"
   ]
  },
  {
   "cell_type": "code",
   "execution_count": 10,
   "metadata": {},
   "outputs": [],
   "source": [
    "before_ignore = np.asarray([b not in set(beh_before) for b in data['beh_before']], \n",
    "                                dtype=bool)\n",
    "after_ignore = np.asarray([b not in set(beh_after) for b in data['beh_after']], \n",
    "                                dtype=bool)\n",
    "\n",
    "ignore_rows = np.logical_and(before_ignore, after_ignore)\n",
    "\n",
    "data = data[np.logical_not(ignore_rows)]"
   ]
  },
  {
   "cell_type": "markdown",
   "metadata": {},
   "source": [
    "## See how many subjects we have for each transition"
   ]
  },
  {
   "cell_type": "code",
   "execution_count": 11,
   "metadata": {},
   "outputs": [
    {
     "data": {
      "text/html": [
       "<div>\n",
       "<style scoped>\n",
       "    .dataframe tbody tr th:only-of-type {\n",
       "        vertical-align: middle;\n",
       "    }\n",
       "\n",
       "    .dataframe tbody tr th {\n",
       "        vertical-align: top;\n",
       "    }\n",
       "\n",
       "    .dataframe thead th {\n",
       "        text-align: right;\n",
       "    }\n",
       "</style>\n",
       "<table border=\"1\" class=\"dataframe\">\n",
       "  <thead>\n",
       "    <tr style=\"text-align: right;\">\n",
       "      <th></th>\n",
       "      <th>B</th>\n",
       "      <th>F</th>\n",
       "      <th>O</th>\n",
       "      <th>P</th>\n",
       "      <th>Q</th>\n",
       "      <th>T</th>\n",
       "    </tr>\n",
       "  </thead>\n",
       "  <tbody>\n",
       "    <tr>\n",
       "      <td>B</td>\n",
       "      <td>4.0</td>\n",
       "      <td>16.0</td>\n",
       "      <td>1.0</td>\n",
       "      <td>3.0</td>\n",
       "      <td>2.0</td>\n",
       "      <td>5.0</td>\n",
       "    </tr>\n",
       "    <tr>\n",
       "      <td>F</td>\n",
       "      <td>1.0</td>\n",
       "      <td>14.0</td>\n",
       "      <td>2.0</td>\n",
       "      <td>8.0</td>\n",
       "      <td>1.0</td>\n",
       "      <td>1.0</td>\n",
       "    </tr>\n",
       "    <tr>\n",
       "      <td>O</td>\n",
       "      <td>1.0</td>\n",
       "      <td>4.0</td>\n",
       "      <td>0.0</td>\n",
       "      <td>0.0</td>\n",
       "      <td>0.0</td>\n",
       "      <td>0.0</td>\n",
       "    </tr>\n",
       "    <tr>\n",
       "      <td>P</td>\n",
       "      <td>0.0</td>\n",
       "      <td>0.0</td>\n",
       "      <td>0.0</td>\n",
       "      <td>0.0</td>\n",
       "      <td>0.0</td>\n",
       "      <td>0.0</td>\n",
       "    </tr>\n",
       "    <tr>\n",
       "      <td>Q</td>\n",
       "      <td>1.0</td>\n",
       "      <td>10.0</td>\n",
       "      <td>4.0</td>\n",
       "      <td>1.0</td>\n",
       "      <td>10.0</td>\n",
       "      <td>0.0</td>\n",
       "    </tr>\n",
       "    <tr>\n",
       "      <td>T</td>\n",
       "      <td>4.0</td>\n",
       "      <td>7.0</td>\n",
       "      <td>0.0</td>\n",
       "      <td>4.0</td>\n",
       "      <td>1.0</td>\n",
       "      <td>2.0</td>\n",
       "    </tr>\n",
       "  </tbody>\n",
       "</table>\n",
       "</div>"
      ],
      "text/plain": [
       "     B     F    O    P     Q    T\n",
       "B  4.0  16.0  1.0  3.0   2.0  5.0\n",
       "F  1.0  14.0  2.0  8.0   1.0  1.0\n",
       "O  1.0   4.0  0.0  0.0   0.0  0.0\n",
       "P  0.0   0.0  0.0  0.0   0.0  0.0\n",
       "Q  1.0  10.0  4.0  1.0  10.0  0.0\n",
       "T  4.0   7.0  0.0  4.0   1.0  2.0"
      ]
     },
     "execution_count": 11,
     "metadata": {},
     "output_type": "execute_result"
    }
   ],
   "source": [
    "count_unique_subjs_per_transition(data)"
   ]
  },
  {
   "cell_type": "markdown",
   "metadata": {},
   "source": [
    "## Pull out $\\Delta F/F$"
   ]
  },
  {
   "cell_type": "code",
   "execution_count": 12,
   "metadata": {},
   "outputs": [],
   "source": [
    "if period == 'before':\n",
    "    dff = data['dff_before'].to_numpy()\n",
    "elif period == 'after':\n",
    "    dff = data['dff_after'].to_numpy()\n",
    "else:\n",
    "    raise(ValueError('The period ' + ' period is not recogonized.'))"
   ]
  },
  {
   "cell_type": "markdown",
   "metadata": {},
   "source": [
    "## Find grouping of data by subject"
   ]
  },
  {
   "cell_type": "code",
   "execution_count": 13,
   "metadata": {},
   "outputs": [],
   "source": [
    "unique_ids = data['subject_id'].unique()\n",
    "g = np.zeros(len(data))\n",
    "for u_i, u_id in enumerate(unique_ids):\n",
    "    g[data['subject_id'] == u_id] = u_i"
   ]
  },
  {
   "cell_type": "markdown",
   "metadata": {},
   "source": [
    "## Calculate stats"
   ]
  },
  {
   "cell_type": "code",
   "execution_count": 14,
   "metadata": {},
   "outputs": [
    {
     "name": "stdout",
     "output_type": "stream",
     "text": [
      "del_inds: [3, 9]\n"
     ]
    }
   ],
   "source": [
    "one_hot_data, one_hot_vars = one_hot_from_table(data, beh_before=beh_before, beh_after=beh_after, \n",
    "                                         enc_subjects=False, enc_beh_interactions=False, \n",
    "                                         beh_interactions=beh_interactions)\n",
    "\n",
    "one_hot_data_ref, one_hot_vars_ref = reference_one_hot_to_beh(one_hot_data=one_hot_data, \n",
    "                                                              one_hot_vars=one_hot_vars, \n",
    "                                                              beh=beh_ref, \n",
    "                                                              remove_interaction_term=False)\n",
    "\n",
    "one_hot_data_ref = np.concatenate([one_hot_data_ref, np.ones([one_hot_data_ref.shape[0], 1])], axis=1)\n",
    "one_hot_vars_ref.append('ref')"
   ]
  },
  {
   "cell_type": "code",
   "execution_count": 15,
   "metadata": {},
   "outputs": [
    {
     "name": "stdout",
     "output_type": "stream",
     "text": [
      "[47.80452654 23.29198131 21.74269026 17.84916954 15.85475207 14.4669744\n",
      " 13.64636363 11.78368595  8.25425918  6.51914049  6.02172691  5.92958718\n",
      "  3.97078767  3.1856338   2.90412716  1.94949347  1.09602185  0.85091877]\n"
     ]
    }
   ],
   "source": [
    "_, v, _ = np.linalg.svd(one_hot_data_ref)\n",
    "print(v)\n",
    "if np.min(v) < .001:\n",
    "    raise(RuntimeError('regressors are nearly co-linear'))"
   ]
  },
  {
   "cell_type": "code",
   "execution_count": 16,
   "metadata": {},
   "outputs": [],
   "source": [
    "beta, acm, n_gprs = grouped_linear_regression_ols_estimator(x=one_hot_data_ref, y=dff, g=g)\n",
    "stats = grouped_linear_regression_acm_stats(beta=beta, acm=acm, n_grps=n_gprs, alpha=.05)"
   ]
  },
  {
   "cell_type": "markdown",
   "metadata": {},
   "source": [
    "## View results"
   ]
  },
  {
   "cell_type": "code",
   "execution_count": 17,
   "metadata": {},
   "outputs": [],
   "source": [
    "rs = pd.DataFrame(data=np.stack([beta, stats['non_zero_p']]).transpose(), index=one_hot_vars_ref, \n",
    "                  columns=['beta', 'p'])"
   ]
  },
  {
   "cell_type": "code",
   "execution_count": 18,
   "metadata": {},
   "outputs": [],
   "source": [
    "def color_small_p(val):\n",
    "    color = 'red' if val < .05 else 'black'\n",
    "    return 'color: %s' % color"
   ]
  },
  {
   "cell_type": "code",
   "execution_count": 19,
   "metadata": {},
   "outputs": [
    {
     "data": {
      "text/html": [
       "<style  type=\"text/css\" >\n",
       "    #T_1f887b50_ada7_11ea_86e5_8c8590bad028row0_col1 {\n",
       "            color:  red;\n",
       "        }    #T_1f887b50_ada7_11ea_86e5_8c8590bad028row1_col1 {\n",
       "            color:  red;\n",
       "        }    #T_1f887b50_ada7_11ea_86e5_8c8590bad028row2_col1 {\n",
       "            color:  red;\n",
       "        }    #T_1f887b50_ada7_11ea_86e5_8c8590bad028row3_col1 {\n",
       "            color:  red;\n",
       "        }    #T_1f887b50_ada7_11ea_86e5_8c8590bad028row4_col1 {\n",
       "            color:  black;\n",
       "        }    #T_1f887b50_ada7_11ea_86e5_8c8590bad028row5_col1 {\n",
       "            color:  black;\n",
       "        }    #T_1f887b50_ada7_11ea_86e5_8c8590bad028row6_col1 {\n",
       "            color:  black;\n",
       "        }    #T_1f887b50_ada7_11ea_86e5_8c8590bad028row7_col1 {\n",
       "            color:  black;\n",
       "        }    #T_1f887b50_ada7_11ea_86e5_8c8590bad028row8_col1 {\n",
       "            color:  black;\n",
       "        }    #T_1f887b50_ada7_11ea_86e5_8c8590bad028row9_col1 {\n",
       "            color:  black;\n",
       "        }    #T_1f887b50_ada7_11ea_86e5_8c8590bad028row10_col1 {\n",
       "            color:  black;\n",
       "        }    #T_1f887b50_ada7_11ea_86e5_8c8590bad028row11_col1 {\n",
       "            color:  black;\n",
       "        }    #T_1f887b50_ada7_11ea_86e5_8c8590bad028row12_col1 {\n",
       "            color:  black;\n",
       "        }    #T_1f887b50_ada7_11ea_86e5_8c8590bad028row13_col1 {\n",
       "            color:  red;\n",
       "        }    #T_1f887b50_ada7_11ea_86e5_8c8590bad028row14_col1 {\n",
       "            color:  black;\n",
       "        }    #T_1f887b50_ada7_11ea_86e5_8c8590bad028row15_col1 {\n",
       "            color:  black;\n",
       "        }    #T_1f887b50_ada7_11ea_86e5_8c8590bad028row16_col1 {\n",
       "            color:  red;\n",
       "        }    #T_1f887b50_ada7_11ea_86e5_8c8590bad028row17_col1 {\n",
       "            color:  red;\n",
       "        }</style><table id=\"T_1f887b50_ada7_11ea_86e5_8c8590bad028\" ><thead>    <tr>        <th class=\"blank level0\" ></th>        <th class=\"col_heading level0 col0\" >beta</th>        <th class=\"col_heading level0 col1\" >p</th>    </tr></thead><tbody>\n",
       "                <tr>\n",
       "                        <th id=\"T_1f887b50_ada7_11ea_86e5_8c8590bad028level0_row0\" class=\"row_heading level0 row0\" >beh_before_B</th>\n",
       "                        <td id=\"T_1f887b50_ada7_11ea_86e5_8c8590bad028row0_col0\" class=\"data row0 col0\" >-0.396345</td>\n",
       "                        <td id=\"T_1f887b50_ada7_11ea_86e5_8c8590bad028row0_col1\" class=\"data row0 col1\" >0.000208065</td>\n",
       "            </tr>\n",
       "            <tr>\n",
       "                        <th id=\"T_1f887b50_ada7_11ea_86e5_8c8590bad028level0_row1\" class=\"row_heading level0 row1\" >beh_before_F</th>\n",
       "                        <td id=\"T_1f887b50_ada7_11ea_86e5_8c8590bad028row1_col0\" class=\"data row1 col0\" >-0.277198</td>\n",
       "                        <td id=\"T_1f887b50_ada7_11ea_86e5_8c8590bad028row1_col1\" class=\"data row1 col1\" >0.0283546</td>\n",
       "            </tr>\n",
       "            <tr>\n",
       "                        <th id=\"T_1f887b50_ada7_11ea_86e5_8c8590bad028level0_row2\" class=\"row_heading level0 row2\" >beh_before_O</th>\n",
       "                        <td id=\"T_1f887b50_ada7_11ea_86e5_8c8590bad028row2_col0\" class=\"data row2 col0\" >-0.47429</td>\n",
       "                        <td id=\"T_1f887b50_ada7_11ea_86e5_8c8590bad028row2_col1\" class=\"data row2 col1\" >6.14945e-07</td>\n",
       "            </tr>\n",
       "            <tr>\n",
       "                        <th id=\"T_1f887b50_ada7_11ea_86e5_8c8590bad028level0_row3\" class=\"row_heading level0 row3\" >beh_before_T</th>\n",
       "                        <td id=\"T_1f887b50_ada7_11ea_86e5_8c8590bad028row3_col0\" class=\"data row3 col0\" >-0.418422</td>\n",
       "                        <td id=\"T_1f887b50_ada7_11ea_86e5_8c8590bad028row3_col1\" class=\"data row3 col1\" >2.49377e-05</td>\n",
       "            </tr>\n",
       "            <tr>\n",
       "                        <th id=\"T_1f887b50_ada7_11ea_86e5_8c8590bad028level0_row4\" class=\"row_heading level0 row4\" >beh_after_B</th>\n",
       "                        <td id=\"T_1f887b50_ada7_11ea_86e5_8c8590bad028row4_col0\" class=\"data row4 col0\" >-0.0678887</td>\n",
       "                        <td id=\"T_1f887b50_ada7_11ea_86e5_8c8590bad028row4_col1\" class=\"data row4 col1\" >0.677525</td>\n",
       "            </tr>\n",
       "            <tr>\n",
       "                        <th id=\"T_1f887b50_ada7_11ea_86e5_8c8590bad028level0_row5\" class=\"row_heading level0 row5\" >beh_after_F</th>\n",
       "                        <td id=\"T_1f887b50_ada7_11ea_86e5_8c8590bad028row5_col0\" class=\"data row5 col0\" >0.233922</td>\n",
       "                        <td id=\"T_1f887b50_ada7_11ea_86e5_8c8590bad028row5_col1\" class=\"data row5 col1\" >0.179664</td>\n",
       "            </tr>\n",
       "            <tr>\n",
       "                        <th id=\"T_1f887b50_ada7_11ea_86e5_8c8590bad028level0_row6\" class=\"row_heading level0 row6\" >beh_after_O</th>\n",
       "                        <td id=\"T_1f887b50_ada7_11ea_86e5_8c8590bad028row6_col0\" class=\"data row6 col0\" >-0.0151647</td>\n",
       "                        <td id=\"T_1f887b50_ada7_11ea_86e5_8c8590bad028row6_col1\" class=\"data row6 col1\" >0.927077</td>\n",
       "            </tr>\n",
       "            <tr>\n",
       "                        <th id=\"T_1f887b50_ada7_11ea_86e5_8c8590bad028level0_row7\" class=\"row_heading level0 row7\" >beh_after_P</th>\n",
       "                        <td id=\"T_1f887b50_ada7_11ea_86e5_8c8590bad028row7_col0\" class=\"data row7 col0\" >-0.154132</td>\n",
       "                        <td id=\"T_1f887b50_ada7_11ea_86e5_8c8590bad028row7_col1\" class=\"data row7 col1\" >0.29068</td>\n",
       "            </tr>\n",
       "            <tr>\n",
       "                        <th id=\"T_1f887b50_ada7_11ea_86e5_8c8590bad028level0_row8\" class=\"row_heading level0 row8\" >beh_after_T</th>\n",
       "                        <td id=\"T_1f887b50_ada7_11ea_86e5_8c8590bad028row8_col0\" class=\"data row8 col0\" >-0.176178</td>\n",
       "                        <td id=\"T_1f887b50_ada7_11ea_86e5_8c8590bad028row8_col1\" class=\"data row8 col1\" >0.248953</td>\n",
       "            </tr>\n",
       "            <tr>\n",
       "                        <th id=\"T_1f887b50_ada7_11ea_86e5_8c8590bad028level0_row9\" class=\"row_heading level0 row9\" >beh_interact_BB</th>\n",
       "                        <td id=\"T_1f887b50_ada7_11ea_86e5_8c8590bad028row9_col0\" class=\"data row9 col0\" >-0.119532</td>\n",
       "                        <td id=\"T_1f887b50_ada7_11ea_86e5_8c8590bad028row9_col1\" class=\"data row9 col1\" >0.208516</td>\n",
       "            </tr>\n",
       "            <tr>\n",
       "                        <th id=\"T_1f887b50_ada7_11ea_86e5_8c8590bad028level0_row10\" class=\"row_heading level0 row10\" >beh_interact_BF</th>\n",
       "                        <td id=\"T_1f887b50_ada7_11ea_86e5_8c8590bad028row10_col0\" class=\"data row10 col0\" >-0.0250612</td>\n",
       "                        <td id=\"T_1f887b50_ada7_11ea_86e5_8c8590bad028row10_col1\" class=\"data row10 col1\" >0.866709</td>\n",
       "            </tr>\n",
       "            <tr>\n",
       "                        <th id=\"T_1f887b50_ada7_11ea_86e5_8c8590bad028level0_row11\" class=\"row_heading level0 row11\" >beh_interact_FF</th>\n",
       "                        <td id=\"T_1f887b50_ada7_11ea_86e5_8c8590bad028row11_col0\" class=\"data row11 col0\" >-0.145031</td>\n",
       "                        <td id=\"T_1f887b50_ada7_11ea_86e5_8c8590bad028row11_col1\" class=\"data row11 col1\" >0.333599</td>\n",
       "            </tr>\n",
       "            <tr>\n",
       "                        <th id=\"T_1f887b50_ada7_11ea_86e5_8c8590bad028level0_row12\" class=\"row_heading level0 row12\" >beh_interact_FP</th>\n",
       "                        <td id=\"T_1f887b50_ada7_11ea_86e5_8c8590bad028row12_col0\" class=\"data row12 col0\" >-0.00967673</td>\n",
       "                        <td id=\"T_1f887b50_ada7_11ea_86e5_8c8590bad028row12_col1\" class=\"data row12 col1\" >0.924013</td>\n",
       "            </tr>\n",
       "            <tr>\n",
       "                        <th id=\"T_1f887b50_ada7_11ea_86e5_8c8590bad028level0_row13\" class=\"row_heading level0 row13\" >beh_interact_QF</th>\n",
       "                        <td id=\"T_1f887b50_ada7_11ea_86e5_8c8590bad028row13_col0\" class=\"data row13 col0\" >-0.352781</td>\n",
       "                        <td id=\"T_1f887b50_ada7_11ea_86e5_8c8590bad028row13_col1\" class=\"data row13 col1\" >0.0134455</td>\n",
       "            </tr>\n",
       "            <tr>\n",
       "                        <th id=\"T_1f887b50_ada7_11ea_86e5_8c8590bad028level0_row14\" class=\"row_heading level0 row14\" >beh_interact_QO</th>\n",
       "                        <td id=\"T_1f887b50_ada7_11ea_86e5_8c8590bad028row14_col0\" class=\"data row14 col0\" >-0.223488</td>\n",
       "                        <td id=\"T_1f887b50_ada7_11ea_86e5_8c8590bad028row14_col1\" class=\"data row14 col1\" >0.181956</td>\n",
       "            </tr>\n",
       "            <tr>\n",
       "                        <th id=\"T_1f887b50_ada7_11ea_86e5_8c8590bad028level0_row15\" class=\"row_heading level0 row15\" >beh_interact_TF</th>\n",
       "                        <td id=\"T_1f887b50_ada7_11ea_86e5_8c8590bad028row15_col0\" class=\"data row15 col0\" >-0.104111</td>\n",
       "                        <td id=\"T_1f887b50_ada7_11ea_86e5_8c8590bad028row15_col1\" class=\"data row15 col1\" >0.42952</td>\n",
       "            </tr>\n",
       "            <tr>\n",
       "                        <th id=\"T_1f887b50_ada7_11ea_86e5_8c8590bad028level0_row16\" class=\"row_heading level0 row16\" >beh_interact_QQ</th>\n",
       "                        <td id=\"T_1f887b50_ada7_11ea_86e5_8c8590bad028row16_col0\" class=\"data row16 col0\" >-0.464608</td>\n",
       "                        <td id=\"T_1f887b50_ada7_11ea_86e5_8c8590bad028row16_col1\" class=\"data row16 col1\" >0.00731806</td>\n",
       "            </tr>\n",
       "            <tr>\n",
       "                        <th id=\"T_1f887b50_ada7_11ea_86e5_8c8590bad028level0_row17\" class=\"row_heading level0 row17\" >ref</th>\n",
       "                        <td id=\"T_1f887b50_ada7_11ea_86e5_8c8590bad028row17_col0\" class=\"data row17 col0\" >0.805122</td>\n",
       "                        <td id=\"T_1f887b50_ada7_11ea_86e5_8c8590bad028row17_col1\" class=\"data row17 col1\" >1.32935e-05</td>\n",
       "            </tr>\n",
       "    </tbody></table>"
      ],
      "text/plain": [
       "<pandas.io.formats.style.Styler at 0x125e5a1d0>"
      ]
     },
     "execution_count": 19,
     "metadata": {},
     "output_type": "execute_result"
    }
   ],
   "source": [
    "rs.style.applymap(color_small_p, subset=['p'])"
   ]
  },
  {
   "cell_type": "code",
   "execution_count": null,
   "metadata": {},
   "outputs": [],
   "source": []
  }
 ],
 "metadata": {
  "kernelspec": {
   "display_name": "Python 3",
   "language": "python",
   "name": "python3"
  },
  "language_info": {
   "codemirror_mode": {
    "name": "ipython",
    "version": 3
   },
   "file_extension": ".py",
   "mimetype": "text/x-python",
   "name": "python",
   "nbconvert_exporter": "python",
   "pygments_lexer": "ipython3",
   "version": "3.7.3"
  }
 },
 "nbformat": 4,
 "nbformat_minor": 2
}
