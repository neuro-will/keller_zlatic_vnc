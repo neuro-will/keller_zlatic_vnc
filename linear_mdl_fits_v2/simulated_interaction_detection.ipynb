{
 "cells": [
  {
   "cell_type": "markdown",
   "metadata": {},
   "source": [
    "The purpose of this notebook is to simulate recording the same neuron across different subjects, where we specify the ground-truth encoding model of preceeding and suceeding behavior for the neuron, and see if we can correctly detect the presence of an interaction term.\n",
    "\n",
    "We seek to include potentially confounding factors in the simulations that may also be present in the real data.  In particular, we want to include:\n",
    "\n",
    "    1) Offsets for each subject (random, independent of behavior)\n",
    "\n",
    "    2) Correlations between preceeding and succeeding behaviors (we do this through 1st order Markov dependence) \n",
    "    \n",
    "    3) Recordings where we only record transitions starting with a given behavior for each subject\n",
    "    \n",
    "    4) Varying amounts of noise from subject to subject\n"
   ]
  },
  {
   "cell_type": "code",
   "execution_count": 1,
   "metadata": {},
   "outputs": [],
   "source": [
    "%load_ext autoreload\n",
    "%autoreload 2"
   ]
  },
  {
   "cell_type": "code",
   "execution_count": 2,
   "metadata": {},
   "outputs": [
    {
     "name": "stderr",
     "output_type": "stream",
     "text": [
      "/Users/williambishop/Documents/Janelia_Research/Projects/janelia_core/janelia_core/fileio/exp_reader.py:21: UserWarning: Unable to locate pyklb module.  Will not be able to read in .klb files.\n",
      "  warnings.warn('Unable to locate pyklb module.  Will not be able to read in .klb files.')\n"
     ]
    }
   ],
   "source": [
    "import numpy as np\n",
    "import pandas as pd\n",
    "\n",
    "from keller_zlatic_vnc.data_processing import count_unique_subjs_per_transition\n",
    "from keller_zlatic_vnc.linear_modeling import one_hot_from_table\n",
    "from keller_zlatic_vnc.linear_modeling import reference_one_hot_to_beh\n",
    "\n",
    "from janelia_core.stats.regression import grouped_linear_regression_ols_estimator\n",
    "from janelia_core.stats.regression import grouped_linear_regression_acm_stats"
   ]
  },
  {
   "cell_type": "code",
   "execution_count": 3,
   "metadata": {},
   "outputs": [],
   "source": [
    "pd.set_option('display.max_rows', None)"
   ]
  },
  {
   "cell_type": "markdown",
   "metadata": {},
   "source": [
    "## Specifications for the simulation"
   ]
  },
  {
   "cell_type": "code",
   "execution_count": 4,
   "metadata": {},
   "outputs": [],
   "source": [
    "# Labels for behaviors\n",
    "beh_lbls = ['B', 'F', 'Q'] \n",
    "\n",
    "# Give probability of transition from (rows) each behavior to (cols) each behavior \n",
    "beh_trans_probs = np.asarray([[.4, .2, .4], \n",
    "                              [.1, .8, .1], \n",
    "                              [.1, .5, .4]])\n",
    "\n",
    "#beh_trans_probs = np.ones([3, 3])/3\n",
    "\n",
    "# Specify true encoding \n",
    "# Encoding of each preceeding behavior \n",
    "before_c =[1.2, 1.2, 1.2] \n",
    "# Encoding of each suceeding behavior\n",
    "after_c = [.1, .1, .1] \n",
    "# Encoding of interaction\n",
    "interact_c = np.asarray([[0.0, 1.0, .0], \n",
    "                         [.0, .0, .0], \n",
    "                         [.0, .0, 1.0]])\n",
    "\n",
    "# Range that standard deviation of noise terms can be pulled from - each subject gets its own amount of noise\n",
    "noise_std_range = [.5, 1.5]\n",
    "\n",
    "# Standard deviation of normal distribution offsets are pulled from\n",
    "offset_std = .1\n",
    "\n",
    "# Range of number of trials we record per subject\n",
    "n_trials_range = [5, 25]\n",
    "\n",
    "# Number of subject we simulate recording from\n",
    "n_subjs = 100\n",
    "\n",
    "# List the candidate interactions we want to test\n",
    "\n",
    "beh_before = ['B', 'F', 'Q']\n",
    "beh_after = ['B', 'F', 'Q']\n",
    "\n",
    "beh_interactions = [('B', 'F'), ('F', 'F'), ('Q', 'Q')]\n",
    "\n",
    "beh_ref = 'Q'"
   ]
  },
  {
   "cell_type": "markdown",
   "metadata": {},
   "source": [
    "## Generate simulated data"
   ]
  },
  {
   "cell_type": "code",
   "execution_count": 5,
   "metadata": {},
   "outputs": [],
   "source": [
    "def generate_subject_data(start_beh_ind, n_trials, sub_n):\n",
    "    \n",
    "    n_behs = len(beh_lbls)\n",
    "    \n",
    "    offset = np.random.randn()*offset_std\n",
    "    noise_std = np.random.uniform(low=noise_std_range[0], high=noise_std_range[1])\n",
    "    \n",
    "    dff = np.zeros(n_trials)\n",
    "    beh_after = [None]*n_trials\n",
    "    for t_i in range(n_trials):\n",
    "        end_beh_i = np.random.choice(n_behs, p=beh_trans_probs[start_beh_ind, :])\n",
    "        \n",
    "        beh_after[t_i] = beh_lbls[end_beh_i]\n",
    "        \n",
    "        dff[t_i] = before_c[start_beh_ind] + after_c[end_beh_i] + interact_c[start_beh_ind, end_beh_i]\n",
    "        dff[t_i] += offset + np.random.randn()*noise_std\n",
    "    \n",
    "    data = pd.DataFrame(data={'subject_id': 'subj_' + str(sub_n),\n",
    "                              'beh_before': beh_lbls[start_beh_ind],\n",
    "                              'beh_after': beh_after,\n",
    "                              'dff': dff})\n",
    "    \n",
    "    return [data, offset, noise_std]\n",
    "    "
   ]
  },
  {
   "cell_type": "code",
   "execution_count": 6,
   "metadata": {},
   "outputs": [],
   "source": [
    "n_behs = len(beh_lbls)\n",
    "subj_data = [None]*n_subjs\n",
    "for s_i in range(n_subjs):\n",
    "    n_trials_i = np.random.randint(low=n_trials_range[0], high=n_trials_range[1]+1)\n",
    "    start_beh_i = np.random.randint(low=0, high=len(beh_lbls))\n",
    "    subj_data[s_i], _, _ = generate_subject_data(start_beh_ind=np.random.randint(low=0, high=n_behs), \n",
    "                                                 n_trials=n_trials_i, sub_n=s_i)\n",
    "    \n",
    "data = pd.concat(subj_data, ignore_index=True)"
   ]
  },
  {
   "cell_type": "markdown",
   "metadata": {},
   "source": [
    "## See how many subjects we recorded for each type of behavior transition"
   ]
  },
  {
   "cell_type": "code",
   "execution_count": 7,
   "metadata": {},
   "outputs": [
    {
     "data": {
      "text/html": [
       "<div>\n",
       "<style scoped>\n",
       "    .dataframe tbody tr th:only-of-type {\n",
       "        vertical-align: middle;\n",
       "    }\n",
       "\n",
       "    .dataframe tbody tr th {\n",
       "        vertical-align: top;\n",
       "    }\n",
       "\n",
       "    .dataframe thead th {\n",
       "        text-align: right;\n",
       "    }\n",
       "</style>\n",
       "<table border=\"1\" class=\"dataframe\">\n",
       "  <thead>\n",
       "    <tr style=\"text-align: right;\">\n",
       "      <th></th>\n",
       "      <th>B</th>\n",
       "      <th>F</th>\n",
       "      <th>Q</th>\n",
       "    </tr>\n",
       "  </thead>\n",
       "  <tbody>\n",
       "    <tr>\n",
       "      <td>B</td>\n",
       "      <td>31.0</td>\n",
       "      <td>28.0</td>\n",
       "      <td>31.0</td>\n",
       "    </tr>\n",
       "    <tr>\n",
       "      <td>F</td>\n",
       "      <td>27.0</td>\n",
       "      <td>35.0</td>\n",
       "      <td>32.0</td>\n",
       "    </tr>\n",
       "    <tr>\n",
       "      <td>Q</td>\n",
       "      <td>24.0</td>\n",
       "      <td>34.0</td>\n",
       "      <td>33.0</td>\n",
       "    </tr>\n",
       "  </tbody>\n",
       "</table>\n",
       "</div>"
      ],
      "text/plain": [
       "      B     F     Q\n",
       "B  31.0  28.0  31.0\n",
       "F  27.0  35.0  32.0\n",
       "Q  24.0  34.0  33.0"
      ]
     },
     "execution_count": 7,
     "metadata": {},
     "output_type": "execute_result"
    }
   ],
   "source": [
    "count_unique_subjs_per_transition(data)"
   ]
  },
  {
   "cell_type": "markdown",
   "metadata": {},
   "source": [
    "## Pull out $\\Delta F/F$"
   ]
  },
  {
   "cell_type": "code",
   "execution_count": 8,
   "metadata": {},
   "outputs": [],
   "source": [
    "dff = data['dff']"
   ]
  },
  {
   "cell_type": "markdown",
   "metadata": {},
   "source": [
    "## Find grouping of data by subject"
   ]
  },
  {
   "cell_type": "code",
   "execution_count": 9,
   "metadata": {},
   "outputs": [],
   "source": [
    "unique_ids = data['subject_id'].unique()\n",
    "g = np.zeros(len(data))\n",
    "for u_i, u_id in enumerate(unique_ids):\n",
    "    g[data['subject_id'] == u_id] = u_i"
   ]
  },
  {
   "cell_type": "markdown",
   "metadata": {},
   "source": [
    "## Calculate stats"
   ]
  },
  {
   "cell_type": "code",
   "execution_count": 10,
   "metadata": {},
   "outputs": [],
   "source": [
    "one_hot_data, one_hot_vars = one_hot_from_table(data, beh_before=beh_before, beh_after=beh_after, \n",
    "                                         enc_subjects=False, enc_beh_interactions=False, \n",
    "                                         beh_interactions=beh_interactions)\n",
    "\n",
    "one_hot_data_ref, one_hot_vars_ref = reference_one_hot_to_beh(one_hot_data=one_hot_data, \n",
    "                                                              one_hot_vars=one_hot_vars, \n",
    "                                                              beh=beh_ref, \n",
    "                                                              remove_interaction_term=False)\n",
    "\n",
    "one_hot_data_ref = np.concatenate([one_hot_data_ref, np.ones([one_hot_data_ref.shape[0], 1])], axis=1)\n",
    "one_hot_vars_ref.append('ref_'+ beh_ref)"
   ]
  },
  {
   "cell_type": "code",
   "execution_count": 11,
   "metadata": {},
   "outputs": [
    {
     "name": "stdout",
     "output_type": "stream",
     "text": [
      "[52.21416658 28.31779181 18.03123105 17.29154293 11.98023242  8.37623082\n",
      "  7.87976198  2.20972051]\n"
     ]
    }
   ],
   "source": [
    "_, v, _ = np.linalg.svd(one_hot_data_ref)\n",
    "print(v)\n",
    "if np.min(v) < .001:\n",
    "    raise(RuntimeError('regressors are nearly co-linear'))"
   ]
  },
  {
   "cell_type": "code",
   "execution_count": 12,
   "metadata": {},
   "outputs": [],
   "source": [
    "beta, acm, n_gprs = grouped_linear_regression_ols_estimator(x=one_hot_data_ref, y=dff, g=g)\n",
    "stats = grouped_linear_regression_acm_stats(beta=beta, acm=acm, n_grps=n_gprs, alpha=.05)"
   ]
  },
  {
   "cell_type": "markdown",
   "metadata": {},
   "source": [
    "## View results"
   ]
  },
  {
   "cell_type": "code",
   "execution_count": 13,
   "metadata": {},
   "outputs": [],
   "source": [
    "rs = pd.DataFrame(data=np.stack([beta, stats['non_zero_p']]).transpose(), index=one_hot_vars_ref, \n",
    "                  columns=['beta', 'p'])"
   ]
  },
  {
   "cell_type": "code",
   "execution_count": 14,
   "metadata": {},
   "outputs": [],
   "source": [
    "def color_small_p(val):\n",
    "    color = 'red' if val < .05 else 'black'\n",
    "    return 'color: %s' % color"
   ]
  },
  {
   "cell_type": "code",
   "execution_count": 15,
   "metadata": {},
   "outputs": [
    {
     "data": {
      "text/html": [
       "<style  type=\"text/css\" >\n",
       "    #T_737b4e96_acf7_11ea_ba6b_8c8590bad028row0_col1 {\n",
       "            color:  black;\n",
       "        }    #T_737b4e96_acf7_11ea_ba6b_8c8590bad028row1_col1 {\n",
       "            color:  black;\n",
       "        }    #T_737b4e96_acf7_11ea_ba6b_8c8590bad028row2_col1 {\n",
       "            color:  black;\n",
       "        }    #T_737b4e96_acf7_11ea_ba6b_8c8590bad028row3_col1 {\n",
       "            color:  black;\n",
       "        }    #T_737b4e96_acf7_11ea_ba6b_8c8590bad028row4_col1 {\n",
       "            color:  red;\n",
       "        }    #T_737b4e96_acf7_11ea_ba6b_8c8590bad028row5_col1 {\n",
       "            color:  black;\n",
       "        }    #T_737b4e96_acf7_11ea_ba6b_8c8590bad028row6_col1 {\n",
       "            color:  red;\n",
       "        }    #T_737b4e96_acf7_11ea_ba6b_8c8590bad028row7_col1 {\n",
       "            color:  red;\n",
       "        }</style><table id=\"T_737b4e96_acf7_11ea_ba6b_8c8590bad028\" ><thead>    <tr>        <th class=\"blank level0\" ></th>        <th class=\"col_heading level0 col0\" >beta</th>        <th class=\"col_heading level0 col1\" >p</th>    </tr></thead><tbody>\n",
       "                <tr>\n",
       "                        <th id=\"T_737b4e96_acf7_11ea_ba6b_8c8590bad028level0_row0\" class=\"row_heading level0 row0\" >beh_before_B</th>\n",
       "                        <td id=\"T_737b4e96_acf7_11ea_ba6b_8c8590bad028row0_col0\" class=\"data row0 col0\" >-0.192945</td>\n",
       "                        <td id=\"T_737b4e96_acf7_11ea_ba6b_8c8590bad028row0_col1\" class=\"data row0 col1\" >0.242065</td>\n",
       "            </tr>\n",
       "            <tr>\n",
       "                        <th id=\"T_737b4e96_acf7_11ea_ba6b_8c8590bad028level0_row1\" class=\"row_heading level0 row1\" >beh_before_F</th>\n",
       "                        <td id=\"T_737b4e96_acf7_11ea_ba6b_8c8590bad028row1_col0\" class=\"data row1 col0\" >-0.315698</td>\n",
       "                        <td id=\"T_737b4e96_acf7_11ea_ba6b_8c8590bad028row1_col1\" class=\"data row1 col1\" >0.0778001</td>\n",
       "            </tr>\n",
       "            <tr>\n",
       "                        <th id=\"T_737b4e96_acf7_11ea_ba6b_8c8590bad028level0_row2\" class=\"row_heading level0 row2\" >beh_after_B</th>\n",
       "                        <td id=\"T_737b4e96_acf7_11ea_ba6b_8c8590bad028row2_col0\" class=\"data row2 col0\" >-0.102607</td>\n",
       "                        <td id=\"T_737b4e96_acf7_11ea_ba6b_8c8590bad028row2_col1\" class=\"data row2 col1\" >0.250188</td>\n",
       "            </tr>\n",
       "            <tr>\n",
       "                        <th id=\"T_737b4e96_acf7_11ea_ba6b_8c8590bad028level0_row3\" class=\"row_heading level0 row3\" >beh_after_F</th>\n",
       "                        <td id=\"T_737b4e96_acf7_11ea_ba6b_8c8590bad028row3_col0\" class=\"data row3 col0\" >-0.220581</td>\n",
       "                        <td id=\"T_737b4e96_acf7_11ea_ba6b_8c8590bad028row3_col1\" class=\"data row3 col1\" >0.243092</td>\n",
       "            </tr>\n",
       "            <tr>\n",
       "                        <th id=\"T_737b4e96_acf7_11ea_ba6b_8c8590bad028level0_row4\" class=\"row_heading level0 row4\" >beh_interact_BF</th>\n",
       "                        <td id=\"T_737b4e96_acf7_11ea_ba6b_8c8590bad028row4_col0\" class=\"data row4 col0\" >1.25398</td>\n",
       "                        <td id=\"T_737b4e96_acf7_11ea_ba6b_8c8590bad028row4_col1\" class=\"data row4 col1\" >4.07494e-08</td>\n",
       "            </tr>\n",
       "            <tr>\n",
       "                        <th id=\"T_737b4e96_acf7_11ea_ba6b_8c8590bad028level0_row5\" class=\"row_heading level0 row5\" >beh_interact_FF</th>\n",
       "                        <td id=\"T_737b4e96_acf7_11ea_ba6b_8c8590bad028row5_col0\" class=\"data row5 col0\" >0.384553</td>\n",
       "                        <td id=\"T_737b4e96_acf7_11ea_ba6b_8c8590bad028row5_col1\" class=\"data row5 col1\" >0.0635856</td>\n",
       "            </tr>\n",
       "            <tr>\n",
       "                        <th id=\"T_737b4e96_acf7_11ea_ba6b_8c8590bad028level0_row6\" class=\"row_heading level0 row6\" >beh_interact_QQ</th>\n",
       "                        <td id=\"T_737b4e96_acf7_11ea_ba6b_8c8590bad028row6_col0\" class=\"data row6 col0\" >0.728576</td>\n",
       "                        <td id=\"T_737b4e96_acf7_11ea_ba6b_8c8590bad028row6_col1\" class=\"data row6 col1\" >0.000303389</td>\n",
       "            </tr>\n",
       "            <tr>\n",
       "                        <th id=\"T_737b4e96_acf7_11ea_ba6b_8c8590bad028level0_row7\" class=\"row_heading level0 row7\" >ref_Q</th>\n",
       "                        <td id=\"T_737b4e96_acf7_11ea_ba6b_8c8590bad028row7_col0\" class=\"data row7 col0\" >1.51854</td>\n",
       "                        <td id=\"T_737b4e96_acf7_11ea_ba6b_8c8590bad028row7_col1\" class=\"data row7 col1\" >9.99076e-15</td>\n",
       "            </tr>\n",
       "    </tbody></table>"
      ],
      "text/plain": [
       "<pandas.io.formats.style.Styler at 0x1296953c8>"
      ]
     },
     "execution_count": 15,
     "metadata": {},
     "output_type": "execute_result"
    }
   ],
   "source": [
    "rs.style.applymap(color_small_p, subset=['p'])"
   ]
  },
  {
   "cell_type": "code",
   "execution_count": null,
   "metadata": {},
   "outputs": [],
   "source": []
  },
  {
   "cell_type": "code",
   "execution_count": null,
   "metadata": {},
   "outputs": [],
   "source": []
  }
 ],
 "metadata": {
  "kernelspec": {
   "display_name": "Python 3",
   "language": "python",
   "name": "python3"
  },
  "language_info": {
   "codemirror_mode": {
    "name": "ipython",
    "version": 3
   },
   "file_extension": ".py",
   "mimetype": "text/x-python",
   "name": "python",
   "nbconvert_exporter": "python",
   "pygments_lexer": "ipython3",
   "version": "3.7.3"
  }
 },
 "nbformat": 4,
 "nbformat_minor": 2
}
