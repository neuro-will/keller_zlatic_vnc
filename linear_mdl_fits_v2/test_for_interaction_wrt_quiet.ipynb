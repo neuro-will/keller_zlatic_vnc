{
 "cells": [
  {
   "cell_type": "markdown",
   "metadata": {},
   "source": [
    "Here we ask if there is a significant interaction term in a model predicting the encoding of neural activity where the reference (base) activity is for QQ"
   ]
  },
  {
   "cell_type": "code",
   "execution_count": 1,
   "metadata": {},
   "outputs": [],
   "source": [
    "%load_ext autoreload\n",
    "%autoreload 2"
   ]
  },
  {
   "cell_type": "code",
   "execution_count": 2,
   "metadata": {},
   "outputs": [
    {
     "name": "stderr",
     "output_type": "stream",
     "text": [
      "/Users/williambishop/Documents/Janelia_Research/Projects/janelia_core/janelia_core/fileio/exp_reader.py:21: UserWarning: Unable to locate pyklb module.  Will not be able to read in .klb files.\n",
      "  warnings.warn('Unable to locate pyklb module.  Will not be able to read in .klb files.')\n"
     ]
    }
   ],
   "source": [
    "import pathlib\n",
    "\n",
    "import numpy as np\n",
    "import pandas as pd\n",
    "import scipy.io\n",
    "\n",
    "from keller_zlatic_vnc.data_processing import count_unique_subjs_per_transition\n",
    "from keller_zlatic_vnc.data_processing import extract_transitions\n",
    "from keller_zlatic_vnc.data_processing import generate_transition_dff_table\n",
    "from keller_zlatic_vnc.data_processing import read_raw_transitions_from_excel\n",
    "from keller_zlatic_vnc.data_processing import recode_beh\n",
    "from keller_zlatic_vnc.linear_modeling import one_hot_from_table\n",
    "\n",
    "from janelia_core.stats.regression import grouped_linear_regression_ols_estimator\n",
    "from janelia_core.stats.regression import grouped_linear_regression_acm_stats"
   ]
  },
  {
   "cell_type": "markdown",
   "metadata": {},
   "source": [
    "## Options for analysis"
   ]
  },
  {
   "cell_type": "code",
   "execution_count": 3,
   "metadata": {},
   "outputs": [],
   "source": [
    "# Type of cells we fit models to\n",
    "cell_type = 'basin' \n",
    "\n",
    "# If we fit data to perturbations targeted at 'A4', 'A9' or 'both'\n",
    "manip_type = 'A4'\n",
    "\n",
    "# Define the cutoff time we use to define quiet behaviors following stimulation\n",
    "cut_off_time = 3.656 #3.656 #9.0034\n",
    "\n",
    "# Specify if we predict dff 'before' or 'after' the manipulation\n",
    "period = 'before'\n",
    "\n",
    "# Give min number of subjects that need to be present for each transition type\n",
    "min_n_subjs = 2"
   ]
  },
  {
   "cell_type": "markdown",
   "metadata": {},
   "source": [
    "## Location of data"
   ]
  },
  {
   "cell_type": "code",
   "execution_count": 4,
   "metadata": {},
   "outputs": [],
   "source": [
    "#data_folder = r'/Volumes/bishoplab/projects/keller_vnc/data/extracted_dff_v2'\n",
    "data_folder = r'/Users/williambishop/Desktop/extracted_dff_v2'\n",
    "transition_file = 'transition_list.xlsx'\n",
    "\n",
    "a00c_a4_act_data_file = 'A00c_activity_A4.mat'\n",
    "a00c_a9_act_data_file = 'A00c_activity_A9.mat'\n",
    "\n",
    "basin_a4_act_data_file = 'Basin_activity_A4.mat'\n",
    "basin_a9_act_data_file = 'Basin_activity_A9.mat'\n",
    "\n",
    "handle_a4_act_data_file = 'Handle_activity_A4.mat'\n",
    "handle_a9_act_data_file = 'Handle_activity_A9.mat'"
   ]
  },
  {
   "cell_type": "markdown",
   "metadata": {},
   "source": [
    "## Specify some parameters we use in the code below"
   ]
  },
  {
   "cell_type": "code",
   "execution_count": 5,
   "metadata": {},
   "outputs": [],
   "source": [
    "if cell_type == 'a00c':\n",
    "    a4_act_file = a00c_a4_act_data_file\n",
    "    a9_act_file = a00c_a9_act_data_file\n",
    "elif cell_type == 'basin':\n",
    "    a4_act_file = basin_a4_act_data_file\n",
    "    a9_act_file = basin_a9_act_data_file\n",
    "elif cell_type == 'handle':\n",
    "    a4_act_file = handle_a4_act_data_file\n",
    "    a9_act_file = handle_a9_act_data_file\n",
    "else:\n",
    "    raise(ValueError('The cell type ' + cell_type + ' is not recogonized.'))"
   ]
  },
  {
   "cell_type": "markdown",
   "metadata": {},
   "source": [
    "## Load data"
   ]
  },
  {
   "cell_type": "code",
   "execution_count": 6,
   "metadata": {},
   "outputs": [],
   "source": [
    "# Read in raw transitions\n",
    "raw_trans = read_raw_transitions_from_excel(pathlib.Path(data_folder) / transition_file)\n",
    "\n",
    "# Read in activity\n",
    "a4_act = scipy.io.loadmat(pathlib.Path(data_folder) / a4_act_file, squeeze_me=True)\n",
    "a9_act = scipy.io.loadmat(pathlib.Path(data_folder) / a9_act_file, squeeze_me=True)\n",
    "\n",
    "# Correct mistake in labeling if we need to\n",
    "if cell_type == 'basin' or cell_type == 'handle':\n",
    "    ind = np.argwhere(a4_act['newTransitions'] == '0824L2CL')[1][0]\n",
    "    a4_act['newTransitions'][ind] = '0824L2-2CL'\n",
    "\n",
    "# Recode behavioral annotations\n",
    "raw_trans = recode_beh(raw_trans, 'Beh Before')\n",
    "raw_trans = recode_beh(raw_trans, 'Beh After')\n",
    "\n",
    "# Extract transitions\n",
    "trans = extract_transitions(raw_trans, cut_off_time)\n",
    "\n",
    "# Generate table of data \n",
    "a4table = generate_transition_dff_table(act_data=a4_act, trans=trans)\n",
    "a9table = generate_transition_dff_table(act_data=a9_act, trans=trans)\n",
    "\n",
    "# Put the tables together\n",
    "a4table['man_tgt'] = 'A4'\n",
    "a9table['man_tgt'] = 'A9'\n",
    "data = a4table.append(a9table, ignore_index=True)"
   ]
  },
  {
   "cell_type": "markdown",
   "metadata": {},
   "source": [
    "## Down select for manipulation target"
   ]
  },
  {
   "cell_type": "code",
   "execution_count": 7,
   "metadata": {},
   "outputs": [
    {
     "name": "stdout",
     "output_type": "stream",
     "text": [
      "Analyzing only A4 manipulation events.\n"
     ]
    }
   ],
   "source": [
    "if manip_type == 'A4':\n",
    "    print('Analyzing only A4 manipulation events.')\n",
    "    data = data[data['man_tgt'] == 'A4']\n",
    "elif manip_type == 'A9':\n",
    "    print('Analyzing only A9 manipulation events.')\n",
    "    data = data[data['man_tgt'] == 'A9']\n",
    "else:\n",
    "    print('Analyzing all manipulation events.')"
   ]
  },
  {
   "cell_type": "markdown",
   "metadata": {},
   "source": [
    "## Look at number of subjects we have for each type of transition"
   ]
  },
  {
   "cell_type": "code",
   "execution_count": 8,
   "metadata": {},
   "outputs": [],
   "source": [
    "trans_counts = count_unique_subjs_per_transition(data)"
   ]
  },
  {
   "cell_type": "markdown",
   "metadata": {},
   "source": [
    "## Determine which interactions we can test for"
   ]
  },
  {
   "cell_type": "code",
   "execution_count": 9,
   "metadata": {},
   "outputs": [
    {
     "data": {
      "text/html": [
       "<div>\n",
       "<style scoped>\n",
       "    .dataframe tbody tr th:only-of-type {\n",
       "        vertical-align: middle;\n",
       "    }\n",
       "\n",
       "    .dataframe tbody tr th {\n",
       "        vertical-align: top;\n",
       "    }\n",
       "\n",
       "    .dataframe thead th {\n",
       "        text-align: right;\n",
       "    }\n",
       "</style>\n",
       "<table border=\"1\" class=\"dataframe\">\n",
       "  <thead>\n",
       "    <tr style=\"text-align: right;\">\n",
       "      <th></th>\n",
       "      <th>B</th>\n",
       "      <th>F</th>\n",
       "      <th>H</th>\n",
       "      <th>O</th>\n",
       "      <th>P</th>\n",
       "      <th>Q</th>\n",
       "      <th>T</th>\n",
       "    </tr>\n",
       "  </thead>\n",
       "  <tbody>\n",
       "    <tr>\n",
       "      <td>B</td>\n",
       "      <td>3.0</td>\n",
       "      <td>14.0</td>\n",
       "      <td>0.0</td>\n",
       "      <td>1.0</td>\n",
       "      <td>1.0</td>\n",
       "      <td>6.0</td>\n",
       "      <td>2.0</td>\n",
       "    </tr>\n",
       "    <tr>\n",
       "      <td>F</td>\n",
       "      <td>1.0</td>\n",
       "      <td>11.0</td>\n",
       "      <td>0.0</td>\n",
       "      <td>1.0</td>\n",
       "      <td>2.0</td>\n",
       "      <td>6.0</td>\n",
       "      <td>1.0</td>\n",
       "    </tr>\n",
       "    <tr>\n",
       "      <td>H</td>\n",
       "      <td>0.0</td>\n",
       "      <td>0.0</td>\n",
       "      <td>0.0</td>\n",
       "      <td>0.0</td>\n",
       "      <td>0.0</td>\n",
       "      <td>1.0</td>\n",
       "      <td>0.0</td>\n",
       "    </tr>\n",
       "    <tr>\n",
       "      <td>O</td>\n",
       "      <td>1.0</td>\n",
       "      <td>3.0</td>\n",
       "      <td>0.0</td>\n",
       "      <td>0.0</td>\n",
       "      <td>0.0</td>\n",
       "      <td>1.0</td>\n",
       "      <td>0.0</td>\n",
       "    </tr>\n",
       "    <tr>\n",
       "      <td>P</td>\n",
       "      <td>0.0</td>\n",
       "      <td>0.0</td>\n",
       "      <td>0.0</td>\n",
       "      <td>0.0</td>\n",
       "      <td>0.0</td>\n",
       "      <td>0.0</td>\n",
       "      <td>0.0</td>\n",
       "    </tr>\n",
       "    <tr>\n",
       "      <td>Q</td>\n",
       "      <td>0.0</td>\n",
       "      <td>7.0</td>\n",
       "      <td>0.0</td>\n",
       "      <td>4.0</td>\n",
       "      <td>0.0</td>\n",
       "      <td>8.0</td>\n",
       "      <td>0.0</td>\n",
       "    </tr>\n",
       "    <tr>\n",
       "      <td>T</td>\n",
       "      <td>2.0</td>\n",
       "      <td>5.0</td>\n",
       "      <td>0.0</td>\n",
       "      <td>0.0</td>\n",
       "      <td>1.0</td>\n",
       "      <td>5.0</td>\n",
       "      <td>0.0</td>\n",
       "    </tr>\n",
       "  </tbody>\n",
       "</table>\n",
       "</div>"
      ],
      "text/plain": [
       "     B     F    H    O    P    Q    T\n",
       "B  3.0  14.0  0.0  1.0  1.0  6.0  2.0\n",
       "F  1.0  11.0  0.0  1.0  2.0  6.0  1.0\n",
       "H  0.0   0.0  0.0  0.0  0.0  1.0  0.0\n",
       "O  1.0   3.0  0.0  0.0  0.0  1.0  0.0\n",
       "P  0.0   0.0  0.0  0.0  0.0  0.0  0.0\n",
       "Q  0.0   7.0  0.0  4.0  0.0  8.0  0.0\n",
       "T  2.0   5.0  0.0  0.0  1.0  5.0  0.0"
      ]
     },
     "execution_count": 9,
     "metadata": {},
     "output_type": "execute_result"
    }
   ],
   "source": [
    "trans_counts"
   ]
  },
  {
   "cell_type": "code",
   "execution_count": 10,
   "metadata": {},
   "outputs": [],
   "source": [
    "all_behs = set(trans_counts.index).difference(['Q'])\n",
    "interactions = []\n",
    "for before_beh in all_behs:\n",
    "    for after_beh in all_behs:\n",
    "        n_trans = trans_counts[after_beh][before_beh]\n",
    "        n_before = trans_counts['Q'][before_beh]\n",
    "        n_after = trans_counts[after_beh]['Q']\n",
    "        if n_trans >= min_n_subjs and n_before >= min_n_subjs and n_after >= min_n_subjs:\n",
    "            interactions.append(before_beh + after_beh)"
   ]
  },
  {
   "cell_type": "markdown",
   "metadata": {},
   "source": [
    "## Get stats for each interaction"
   ]
  },
  {
   "cell_type": "code",
   "execution_count": 11,
   "metadata": {},
   "outputs": [],
   "source": [
    "n_interactions = len(interactions)\n",
    "p_vls = np.zeros([4, n_interactions])\n",
    "beta_vls = np.zeros([4, n_interactions])\n",
    "\n",
    "for i, int_behs in enumerate(interactions):\n",
    "    \n",
    "    # Get rid of rows that don't have the correct behavior\n",
    "    before_rows = data['beh_before'].isin([int_behs[0], 'Q'])\n",
    "    after_rows = data['beh_after'].isin([int_behs[1], 'Q'])\n",
    "    selected_data = data[before_rows & after_rows]\n",
    "    \n",
    "    # Pull out Delta F/F\n",
    "    if period == 'before':\n",
    "        dff = selected_data['dff_before'].to_numpy()\n",
    "    elif period == 'after':\n",
    "        dff = selected_data['dff_after'].to_numpy()\n",
    "    else:\n",
    "        raise(ValueError('The period ' + ' period is not recogonized.'))\n",
    "    \n",
    "    # Find grouping of data by subject\n",
    "    unique_ids = selected_data['subject_id'].unique()\n",
    "    g = np.zeros(len(selected_data))\n",
    "    for u_i, u_id in enumerate(unique_ids):\n",
    "        g[selected_data['subject_id'] == u_id] = u_i\n",
    "    \n",
    "    # One hot encode data\n",
    "    one_hot_data, _ = one_hot_from_table(selected_data, beh_before=[int_behs[0]], beh_after=[int_behs[1]], \n",
    "                                         enc_subjects=False, enc_beh_interactions=True)\n",
    "    one_hot_data = np.concatenate([one_hot_data, np.ones([one_hot_data.shape[0], 1])], axis=1)\n",
    "    \n",
    "    \n",
    "    # Calculate stats\n",
    "    beta, acm, n_gprs = grouped_linear_regression_ols_estimator(x=one_hot_data, y=dff, g=g)\n",
    "    beta_vls[:, i] = beta\n",
    "    \n",
    "    stats = grouped_linear_regression_acm_stats(beta=beta, acm=acm, n_grps=n_gprs, alpha=.05)\n",
    "    p_vls[:, i] =  stats['non_zero_p']\n",
    "    \n",
    "p_vls = pd.DataFrame(data=p_vls, columns=interactions, index=['Before', 'After', 'Interaction', 'Reference'])\n",
    "beta_vls = pd.DataFrame(data=beta_vls, columns=interactions, index=['Before', 'After', 'Interaction', 'Reference'])\n"
   ]
  },
  {
   "cell_type": "markdown",
   "metadata": {},
   "source": [
    "## Look at p-values and beta"
   ]
  },
  {
   "cell_type": "code",
   "execution_count": 12,
   "metadata": {},
   "outputs": [],
   "source": [
    "def apply_color(val):\n",
    "    color = 'red' if val < .05 else 'black'\n",
    "    return 'color: %s' % color"
   ]
  },
  {
   "cell_type": "code",
   "execution_count": 13,
   "metadata": {},
   "outputs": [
    {
     "data": {
      "text/html": [
       "<style  type=\"text/css\" >\n",
       "    #T_469017b4_ca8d_11ea_b7a8_8c8590bad028row0_col0 {\n",
       "            color:  red;\n",
       "        }    #T_469017b4_ca8d_11ea_b7a8_8c8590bad028row0_col1 {\n",
       "            color:  red;\n",
       "        }    #T_469017b4_ca8d_11ea_b7a8_8c8590bad028row0_col2 {\n",
       "            color:  red;\n",
       "        }    #T_469017b4_ca8d_11ea_b7a8_8c8590bad028row1_col0 {\n",
       "            color:  black;\n",
       "        }    #T_469017b4_ca8d_11ea_b7a8_8c8590bad028row1_col1 {\n",
       "            color:  black;\n",
       "        }    #T_469017b4_ca8d_11ea_b7a8_8c8590bad028row1_col2 {\n",
       "            color:  black;\n",
       "        }    #T_469017b4_ca8d_11ea_b7a8_8c8590bad028row2_col0 {\n",
       "            color:  black;\n",
       "        }    #T_469017b4_ca8d_11ea_b7a8_8c8590bad028row2_col1 {\n",
       "            color:  black;\n",
       "        }    #T_469017b4_ca8d_11ea_b7a8_8c8590bad028row2_col2 {\n",
       "            color:  black;\n",
       "        }    #T_469017b4_ca8d_11ea_b7a8_8c8590bad028row3_col0 {\n",
       "            color:  red;\n",
       "        }    #T_469017b4_ca8d_11ea_b7a8_8c8590bad028row3_col1 {\n",
       "            color:  red;\n",
       "        }    #T_469017b4_ca8d_11ea_b7a8_8c8590bad028row3_col2 {\n",
       "            color:  red;\n",
       "        }</style><table id=\"T_469017b4_ca8d_11ea_b7a8_8c8590bad028\" ><thead>    <tr>        <th class=\"blank level0\" ></th>        <th class=\"col_heading level0 col0\" >BF</th>        <th class=\"col_heading level0 col1\" >FF</th>        <th class=\"col_heading level0 col2\" >TF</th>    </tr></thead><tbody>\n",
       "                <tr>\n",
       "                        <th id=\"T_469017b4_ca8d_11ea_b7a8_8c8590bad028level0_row0\" class=\"row_heading level0 row0\" >Before</th>\n",
       "                        <td id=\"T_469017b4_ca8d_11ea_b7a8_8c8590bad028row0_col0\" class=\"data row0 col0\" >0.0106739</td>\n",
       "                        <td id=\"T_469017b4_ca8d_11ea_b7a8_8c8590bad028row0_col1\" class=\"data row0 col1\" >0.00133589</td>\n",
       "                        <td id=\"T_469017b4_ca8d_11ea_b7a8_8c8590bad028row0_col2\" class=\"data row0 col2\" >0.0452167</td>\n",
       "            </tr>\n",
       "            <tr>\n",
       "                        <th id=\"T_469017b4_ca8d_11ea_b7a8_8c8590bad028level0_row1\" class=\"row_heading level0 row1\" >After</th>\n",
       "                        <td id=\"T_469017b4_ca8d_11ea_b7a8_8c8590bad028row1_col0\" class=\"data row1 col0\" >0.862515</td>\n",
       "                        <td id=\"T_469017b4_ca8d_11ea_b7a8_8c8590bad028row1_col1\" class=\"data row1 col1\" >0.86283</td>\n",
       "                        <td id=\"T_469017b4_ca8d_11ea_b7a8_8c8590bad028row1_col2\" class=\"data row1 col2\" >0.863671</td>\n",
       "            </tr>\n",
       "            <tr>\n",
       "                        <th id=\"T_469017b4_ca8d_11ea_b7a8_8c8590bad028level0_row2\" class=\"row_heading level0 row2\" >Interaction</th>\n",
       "                        <td id=\"T_469017b4_ca8d_11ea_b7a8_8c8590bad028row2_col0\" class=\"data row2 col0\" >0.404975</td>\n",
       "                        <td id=\"T_469017b4_ca8d_11ea_b7a8_8c8590bad028row2_col1\" class=\"data row2 col1\" >0.374431</td>\n",
       "                        <td id=\"T_469017b4_ca8d_11ea_b7a8_8c8590bad028row2_col2\" class=\"data row2 col2\" >0.190056</td>\n",
       "            </tr>\n",
       "            <tr>\n",
       "                        <th id=\"T_469017b4_ca8d_11ea_b7a8_8c8590bad028level0_row3\" class=\"row_heading level0 row3\" >Reference</th>\n",
       "                        <td id=\"T_469017b4_ca8d_11ea_b7a8_8c8590bad028row3_col0\" class=\"data row3 col0\" >1.08718e-10</td>\n",
       "                        <td id=\"T_469017b4_ca8d_11ea_b7a8_8c8590bad028row3_col1\" class=\"data row3 col1\" >2.70666e-10</td>\n",
       "                        <td id=\"T_469017b4_ca8d_11ea_b7a8_8c8590bad028row3_col2\" class=\"data row3 col2\" >2.0289e-09</td>\n",
       "            </tr>\n",
       "    </tbody></table>"
      ],
      "text/plain": [
       "<pandas.io.formats.style.Styler at 0x12ed80e80>"
      ]
     },
     "execution_count": 13,
     "metadata": {},
     "output_type": "execute_result"
    }
   ],
   "source": [
    "p_vls.style.applymap(apply_color)"
   ]
  },
  {
   "cell_type": "code",
   "execution_count": 14,
   "metadata": {},
   "outputs": [
    {
     "data": {
      "text/html": [
       "<div>\n",
       "<style scoped>\n",
       "    .dataframe tbody tr th:only-of-type {\n",
       "        vertical-align: middle;\n",
       "    }\n",
       "\n",
       "    .dataframe tbody tr th {\n",
       "        vertical-align: top;\n",
       "    }\n",
       "\n",
       "    .dataframe thead th {\n",
       "        text-align: right;\n",
       "    }\n",
       "</style>\n",
       "<table border=\"1\" class=\"dataframe\">\n",
       "  <thead>\n",
       "    <tr style=\"text-align: right;\">\n",
       "      <th></th>\n",
       "      <th>BF</th>\n",
       "      <th>FF</th>\n",
       "      <th>TF</th>\n",
       "    </tr>\n",
       "  </thead>\n",
       "  <tbody>\n",
       "    <tr>\n",
       "      <td>Before</td>\n",
       "      <td>0.043563</td>\n",
       "      <td>0.026093</td>\n",
       "      <td>0.019518</td>\n",
       "    </tr>\n",
       "    <tr>\n",
       "      <td>After</td>\n",
       "      <td>-0.000290</td>\n",
       "      <td>-0.000290</td>\n",
       "      <td>-0.000290</td>\n",
       "    </tr>\n",
       "    <tr>\n",
       "      <td>Interaction</td>\n",
       "      <td>-0.008204</td>\n",
       "      <td>-0.006265</td>\n",
       "      <td>0.022063</td>\n",
       "    </tr>\n",
       "    <tr>\n",
       "      <td>Reference</td>\n",
       "      <td>0.016650</td>\n",
       "      <td>0.016650</td>\n",
       "      <td>0.016650</td>\n",
       "    </tr>\n",
       "  </tbody>\n",
       "</table>\n",
       "</div>"
      ],
      "text/plain": [
       "                   BF        FF        TF\n",
       "Before       0.043563  0.026093  0.019518\n",
       "After       -0.000290 -0.000290 -0.000290\n",
       "Interaction -0.008204 -0.006265  0.022063\n",
       "Reference    0.016650  0.016650  0.016650"
      ]
     },
     "execution_count": 14,
     "metadata": {},
     "output_type": "execute_result"
    }
   ],
   "source": [
    "beta_vls"
   ]
  },
  {
   "cell_type": "code",
   "execution_count": 15,
   "metadata": {},
   "outputs": [
    {
     "data": {
      "text/plain": [
       "['BF', 'FF', 'TF']"
      ]
     },
     "execution_count": 15,
     "metadata": {},
     "output_type": "execute_result"
    }
   ],
   "source": [
    "interactions"
   ]
  },
  {
   "cell_type": "code",
   "execution_count": null,
   "metadata": {},
   "outputs": [],
   "source": []
  }
 ],
 "metadata": {
  "kernelspec": {
   "display_name": "Python 3",
   "language": "python",
   "name": "python3"
  },
  "language_info": {
   "codemirror_mode": {
    "name": "ipython",
    "version": 3
   },
   "file_extension": ".py",
   "mimetype": "text/x-python",
   "name": "python",
   "nbconvert_exporter": "python",
   "pygments_lexer": "ipython3",
   "version": "3.7.3"
  }
 },
 "nbformat": 4,
 "nbformat_minor": 2
}
