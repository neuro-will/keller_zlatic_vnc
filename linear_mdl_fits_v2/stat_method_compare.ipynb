{
 "cells": [
  {
   "cell_type": "markdown",
   "metadata": {},
   "source": [
    "Here we compare statistics for significant coefficients of linear models fit to Keller/Zlatic VNC data (A00c, basin or handle cells) computed with three different methods. "
   ]
  },
  {
   "cell_type": "code",
   "execution_count": 1,
   "metadata": {},
   "outputs": [],
   "source": [
    "%load_ext autoreload\n",
    "%autoreload 2"
   ]
  },
  {
   "cell_type": "code",
   "execution_count": 2,
   "metadata": {},
   "outputs": [
    {
     "name": "stderr",
     "output_type": "stream",
     "text": [
      "/Users/williambishop/Documents/Janelia_Research/Projects/janelia_core/janelia_core/fileio/exp_reader.py:21: UserWarning: Unable to locate pyklb module.  Will not be able to read in .klb files.\n",
      "  warnings.warn('Unable to locate pyklb module.  Will not be able to read in .klb files.')\n"
     ]
    }
   ],
   "source": [
    "import copy\n",
    "import pathlib\n",
    "\n",
    "import matplotlib.pyplot as plt\n",
    "import numpy as np\n",
    "import scipy.io\n",
    "\n",
    "from keller_zlatic_vnc.data_processing import extract_transitions\n",
    "from keller_zlatic_vnc.data_processing import generate_transition_dff_table\n",
    "from keller_zlatic_vnc.data_processing import read_raw_transitions_from_excel\n",
    "from keller_zlatic_vnc.data_processing import recode_beh\n",
    "from keller_zlatic_vnc.linear_modeling import one_hot_from_table\n",
    "from keller_zlatic_vnc.linear_modeling import reference_one_hot_to_beh\n",
    "\n",
    "from janelia_core.stats.regression import grouped_linear_regression_boot_strap\n",
    "from janelia_core.stats.regression import grouped_linear_regression_boot_strap_stats\n",
    "from janelia_core.stats.regression import grouped_linear_regression_wild_bootstrap\n",
    "from janelia_core.stats.regression import grouped_linear_regression_within_estimator\n",
    "from janelia_core.stats.regression import grouped_linear_regression_within_estimator_stats"
   ]
  },
  {
   "cell_type": "markdown",
   "metadata": {},
   "source": [
    "## Parameters go here"
   ]
  },
  {
   "cell_type": "markdown",
   "metadata": {},
   "source": [
    "#### Location of data"
   ]
  },
  {
   "cell_type": "code",
   "execution_count": 3,
   "metadata": {},
   "outputs": [],
   "source": [
    "data_folder = r'/Volumes/bishoplab/projects/keller_vnc/data/extracted_dff_v2'\n",
    "transition_file = 'transition_list.xlsx'\n",
    "\n",
    "a00c_a4_act_data_file = 'A00c_activity_A4.mat'\n",
    "a00c_a9_act_data_file = 'A00c_activity_A9.mat'"
   ]
  },
  {
   "cell_type": "markdown",
   "metadata": {},
   "source": [
    "#### Options for analysis"
   ]
  },
  {
   "cell_type": "code",
   "execution_count": 4,
   "metadata": {},
   "outputs": [],
   "source": [
    "# Type of cells we fit models to\n",
    "cell_type = 'a00c' \n",
    "\n",
    "# If we fit data to perturbations targeted at 'A4', 'A9' or 'both'\n",
    "manip_type = 'A4' \n",
    "\n",
    "# Define the cutoff time we use to define quiet behaviors following stimulation\n",
    "cut_off_time = np.inf\n",
    "\n",
    "# Specify if we predict dff 'before' or 'after' the manipulation\n",
    "period = 'before'\n",
    "\n",
    "# Specify variables that we predict from\n",
    "beh_before = ['Q', 'F', 'B']\n",
    "beh_after = ['Q', 'F', 'B']\n",
    "beh_reference = 'Q'\n",
    "\n",
    "enc_beh_interactions = False\n",
    "closure = True # True if the only events we consider must start with a before_beh \n",
    "               # behavior and end with an beh_after behavior\n",
    "    \n",
    "# Specify number of bootstrap samples we perform with bootstrap methods\n",
    "n_bs_smps = 1000"
   ]
  },
  {
   "cell_type": "markdown",
   "metadata": {},
   "source": [
    "## Specify some parameters we use in the code below"
   ]
  },
  {
   "cell_type": "code",
   "execution_count": 5,
   "metadata": {},
   "outputs": [],
   "source": [
    "if cell_type == 'a00c':\n",
    "    a4_act_file = a00c_a4_act_data_file\n",
    "    a9_act_file = a00c_a9_act_data_file\n",
    "else:\n",
    "    raise(ValueError('The cell type ' + cell_type + ' is not recogonized.'))"
   ]
  },
  {
   "cell_type": "markdown",
   "metadata": {},
   "source": [
    "## Load data"
   ]
  },
  {
   "cell_type": "code",
   "execution_count": 6,
   "metadata": {},
   "outputs": [],
   "source": [
    "# Read in raw transitions\n",
    "raw_trans = read_raw_transitions_from_excel(pathlib.Path(data_folder) / transition_file)\n",
    "\n",
    "# Read in activity\n",
    "a4_act = scipy.io.loadmat(pathlib.Path(data_folder) / a4_act_file, squeeze_me=True)\n",
    "a9_act = scipy.io.loadmat(pathlib.Path(data_folder) / a9_act_file, squeeze_me=True)\n",
    "\n",
    "# Recode behavioral annotations\n",
    "raw_trans = recode_beh(raw_trans, 'Beh Before')\n",
    "raw_trans = recode_beh(raw_trans, 'Beh After')\n",
    "\n",
    "# Extract transitions\n",
    "trans = extract_transitions(raw_trans, cut_off_time)\n",
    "\n",
    "# Generate table of data \n",
    "a4table = generate_transition_dff_table(act_data=a4_act, trans=trans)\n",
    "a9table = generate_transition_dff_table(act_data=a9_act, trans=trans)\n",
    "\n",
    "# Put the tables together\n",
    "a4table['man_tgt'] = 'A4'\n",
    "a9table['man_tgt'] = 'A9'\n",
    "data = a4table.append(a9table, ignore_index=True)"
   ]
  },
  {
   "cell_type": "markdown",
   "metadata": {},
   "source": [
    "## Down select to only the manipulation events we want to consider"
   ]
  },
  {
   "cell_type": "code",
   "execution_count": 7,
   "metadata": {},
   "outputs": [
    {
     "name": "stdout",
     "output_type": "stream",
     "text": [
      "Analyzing only A4 manipulation events.\n"
     ]
    }
   ],
   "source": [
    "if manip_type == 'A4':\n",
    "    print('Analyzing only A4 manipulation events.')\n",
    "    data = data[data['man_tgt'] == 'A4']\n",
    "elif manip_type == 'A9':\n",
    "    print('Analyzing only A9 manipulation events.')\n",
    "    data = data[data['man_tgt'] == 'A9']\n",
    "else:\n",
    "    print('Analyzing all manipulation events.')"
   ]
  },
  {
   "cell_type": "markdown",
   "metadata": {},
   "source": [
    "## Enforce closure if needed"
   ]
  },
  {
   "cell_type": "code",
   "execution_count": 8,
   "metadata": {},
   "outputs": [
    {
     "name": "stdout",
     "output_type": "stream",
     "text": [
      "Enforcing closure.\n"
     ]
    }
   ],
   "source": [
    "if closure:\n",
    "    print('Enforcing closure.')\n",
    "    before_closure = np.asarray([b in set(beh_before) for b in data['beh_before']], \n",
    "                                dtype=bool)\n",
    "    after_closure = np.asarray([b in set(beh_after) for b in data['beh_after']], \n",
    "                                dtype=bool)\n",
    "    closure = np.logical_and(before_closure, after_closure)\n",
    "    \n",
    "    data = data[closure]"
   ]
  },
  {
   "cell_type": "markdown",
   "metadata": {},
   "source": [
    "## Get rid of rows of data that have no behavior of interest"
   ]
  },
  {
   "cell_type": "code",
   "execution_count": 9,
   "metadata": {},
   "outputs": [],
   "source": [
    "before_ignore = np.asarray([b not in set(beh_before) for b in data['beh_before']], \n",
    "                                dtype=bool)\n",
    "after_ignore = np.asarray([b not in set(beh_after) for b in data['beh_after']], \n",
    "                                dtype=bool)\n",
    "\n",
    "ignore_rows = np.logical_and(before_ignore, after_ignore)\n",
    "\n",
    "data = data[np.logical_not(ignore_rows)]"
   ]
  },
  {
   "cell_type": "markdown",
   "metadata": {},
   "source": [
    "## Get groups of data (a group corresponds to each subject)"
   ]
  },
  {
   "cell_type": "code",
   "execution_count": 10,
   "metadata": {},
   "outputs": [],
   "source": [
    "unique_ids = data['subject_id'].unique()\n",
    "g = np.zeros(len(data))\n",
    "for u_i, u_id in enumerate(unique_ids):\n",
    "    g[data['subject_id'] == u_id] = u_i"
   ]
  },
  {
   "cell_type": "markdown",
   "metadata": {},
   "source": [
    "## Pull out $\\Delta F / F$"
   ]
  },
  {
   "cell_type": "code",
   "execution_count": 11,
   "metadata": {},
   "outputs": [],
   "source": [
    "if period == 'before':\n",
    "    dff = data['dff_before'].to_numpy()\n",
    "elif period == 'after':\n",
    "    dff = data['dff_after'].to_numpy()\n",
    "else:\n",
    "    raise(ValueError('The period ' + ' period is not recogonized.'))"
   ]
  },
  {
   "cell_type": "markdown",
   "metadata": {},
   "source": [
    "## Get dummy variable representation of the data"
   ]
  },
  {
   "cell_type": "code",
   "execution_count": 12,
   "metadata": {},
   "outputs": [],
   "source": [
    "one_hot_data, one_hot_vars = one_hot_from_table(data, \n",
    "                                                beh_before=beh_before, \n",
    "                                                beh_after=beh_after,\n",
    "                                                enc_subjects=True, \n",
    "                                                enc_beh_interactions=enc_beh_interactions)\n",
    "\n",
    "n_subjects = len(unique_ids)\n",
    "one_hot_data_wo_subjs = one_hot_data[:, 0:-n_subjects]"
   ]
  },
  {
   "cell_type": "markdown",
   "metadata": {},
   "source": [
    "#### Reference one hot data to requested behavior"
   ]
  },
  {
   "cell_type": "code",
   "execution_count": 13,
   "metadata": {},
   "outputs": [],
   "source": [
    "one_hot_data_ref, one_hot_vars_ref = reference_one_hot_to_beh(one_hot_data=one_hot_data, \n",
    "                                                              one_hot_vars=one_hot_vars,\n",
    "                                                              beh=beh_reference)"
   ]
  },
  {
   "cell_type": "markdown",
   "metadata": {},
   "source": [
    "#### Get version of one hot data without subjects"
   ]
  },
  {
   "cell_type": "code",
   "execution_count": 14,
   "metadata": {},
   "outputs": [],
   "source": [
    "one_hot_data_ref_wo_subjs = copy.deepcopy(one_hot_data_ref)\n",
    "one_hot_data_ref_wo_subjs = one_hot_data_ref_wo_subjs[:, 0:-n_subjects]"
   ]
  },
  {
   "cell_type": "markdown",
   "metadata": {},
   "source": [
    "## Get stats with different methods"
   ]
  },
  {
   "cell_type": "markdown",
   "metadata": {},
   "source": [
    "#### Pairs bootstrap"
   ]
  },
  {
   "cell_type": "code",
   "execution_count": 15,
   "metadata": {},
   "outputs": [],
   "source": [
    "pairs_bs_results = grouped_linear_regression_boot_strap(x=one_hot_data_ref, \n",
    "                                                        y=dff, \n",
    "                                                        g=g, \n",
    "                                                        n_bs_smps=n_bs_smps, \n",
    "                                                        include_mean=False)\n",
    "\n",
    "pairs_bs_stats = grouped_linear_regression_boot_strap_stats(pairs_bs_results[0])"
   ]
  },
  {
   "cell_type": "markdown",
   "metadata": {},
   "source": [
    "#### Wild bootstap"
   ]
  },
  {
   "cell_type": "code",
   "execution_count": 16,
   "metadata": {},
   "outputs": [],
   "source": [
    "wild_bs_stats = grouped_linear_regression_wild_bootstrap(x=one_hot_data_ref_wo_subjs,\n",
    "                                                         y=dff,\n",
    "                                                         g=g,\n",
    "                                                         n_bs_smps=n_bs_smps)"
   ]
  },
  {
   "cell_type": "code",
   "execution_count": 17,
   "metadata": {},
   "outputs": [
    {
     "data": {
      "text/plain": [
       "array([0.514, 0.626, 0.31 , 0.453])"
      ]
     },
     "execution_count": 17,
     "metadata": {},
     "output_type": "execute_result"
    }
   ],
   "source": [
    "wild_bs_stats"
   ]
  },
  {
   "cell_type": "markdown",
   "metadata": {},
   "source": [
    "## Within estimator"
   ]
  },
  {
   "cell_type": "code",
   "execution_count": 25,
   "metadata": {},
   "outputs": [],
   "source": [
    "(within_estimator_beta, \n",
    " within_estimator_avm, \n",
    " within_estimator_offsets, \n",
    " within_estimator_n_gprs) = grouped_linear_regression_within_estimator(x=one_hot_data_ref_wo_subjs, \n",
    "                                                                       y=dff, g=g)"
   ]
  },
  {
   "cell_type": "code",
   "execution_count": 36,
   "metadata": {},
   "outputs": [],
   "source": [
    "within_estimator_stats = grouped_linear_regression_within_estimator_stats(beta=within_estimator_beta,\n",
    "                                                                          avm=within_estimator_avm,\n",
    "                                                                          n_grps=within_estimator_n_gprs,\n",
    "                                                                          alpha=.05)"
   ]
  },
  {
   "cell_type": "code",
   "execution_count": 37,
   "metadata": {},
   "outputs": [
    {
     "data": {
      "text/plain": [
       "{'alpha': 0.05,\n",
       " 'c_ints': array([[ 0.02797476,  0.02507035, -0.00090862, -0.01027774],\n",
       "        [ 0.02797476,  0.02507035,  0.00391376, -0.00016166]]),\n",
       " 'non_zero_p': array([0.        , 0.        , 0.21480716, 0.04344837]),\n",
       " 'non_zero': array([ True,  True, False,  True])}"
      ]
     },
     "execution_count": 37,
     "metadata": {},
     "output_type": "execute_result"
    }
   ],
   "source": [
    "within_estimator_stats"
   ]
  },
  {
   "cell_type": "code",
   "execution_count": 42,
   "metadata": {},
   "outputs": [
    {
     "data": {
      "text/plain": [
       "<matplotlib.image.AxesImage at 0x1321bc9e8>"
      ]
     },
     "execution_count": 42,
     "metadata": {},
     "output_type": "execute_result"
    },
    {
     "data": {
      "image/png": "[encoded data removed]",
      "text/plain": [
       "<Figure size 432x288 with 1 Axes>"
      ]
     },
     "metadata": {
      "needs_background": "light"
     },
     "output_type": "display_data"
    }
   ],
   "source": [
    "plt.imshow(one_hot_data_ref_wo_subjs, aspect='auto')"
   ]
  },
  {
   "cell_type": "code",
   "execution_count": 43,
   "metadata": {},
   "outputs": [],
   "source": [
    "_, s, _ = np.linalg.svd(one_hot_data_ref_wo_subjs)"
   ]
  },
  {
   "cell_type": "code",
   "execution_count": 44,
   "metadata": {},
   "outputs": [
    {
     "data": {
      "text/plain": [
       "array([26.38219272, 13.70541401, 10.36404588,  5.72084671])"
      ]
     },
     "execution_count": 44,
     "metadata": {},
     "output_type": "execute_result"
    }
   ],
   "source": [
    "s"
   ]
  },
  {
   "cell_type": "code",
   "execution_count": null,
   "metadata": {},
   "outputs": [],
   "source": []
  }
 ],
 "metadata": {
  "kernelspec": {
   "display_name": "Python 3",
   "language": "python",
   "name": "python3"
  },
  "language_info": {
   "codemirror_mode": {
    "name": "ipython",
    "version": 3
   },
   "file_extension": ".py",
   "mimetype": "text/x-python",
   "name": "python",
   "nbconvert_exporter": "python",
   "pygments_lexer": "ipython3",
   "version": "3.7.3"
  }
 },
 "nbformat": 4,
 "nbformat_minor": 2
}
