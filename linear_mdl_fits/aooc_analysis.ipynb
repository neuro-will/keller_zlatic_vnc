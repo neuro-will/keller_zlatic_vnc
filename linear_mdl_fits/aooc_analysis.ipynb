{
 "cells": [
  {
   "cell_type": "markdown",
   "metadata": {},
   "source": [
    "Notebook to look at encoding models of A00c Activity; here we consider all A00c cells together (without regard for where manipulations were delivered or cell identity)"
   ]
  },
  {
   "cell_type": "code",
   "execution_count": 1,
   "metadata": {},
   "outputs": [],
   "source": [
    "%load_ext autoreload\n",
    "%autoreload 2"
   ]
  },
  {
   "cell_type": "code",
   "execution_count": 2,
   "metadata": {},
   "outputs": [],
   "source": [
    "import copy\n",
    "import matplotlib.pyplot as plt\n",
    "import numpy as np\n",
    "import pandas as pd\n",
    "from pathlib import Path\n",
    "import pickle\n",
    "\n",
    "from janelia_core.stats.regression import grouped_linear_regression_boot_strap\n",
    "from janelia_core.stats.regression import visualize_boot_strap_results\n",
    "\n",
    "from keller_zlatic_vnc.linear_modeling import one_hot_from_table\n",
    "from keller_zlatic_vnc.linear_modeling import color_grp_vars"
   ]
  },
  {
   "cell_type": "code",
   "execution_count": 3,
   "metadata": {},
   "outputs": [],
   "source": [
    "%matplotlib qt"
   ]
  },
  {
   "cell_type": "code",
   "execution_count": 4,
   "metadata": {},
   "outputs": [],
   "source": [
    "# Helps make sure our plots will have the same size\n",
    "plt.rcParams['figure.constrained_layout.use'] = True"
   ]
  },
  {
   "cell_type": "markdown",
   "metadata": {},
   "source": [
    "## Parameters go here"
   ]
  },
  {
   "cell_type": "code",
   "execution_count": 5,
   "metadata": {},
   "outputs": [],
   "source": [
    "data_dir = r'/Users/williambishop/Desktop'\n",
    "data_file = 'A00c_activity.pkl'\n",
    "\n",
    "# Behavior before and after consider\n",
    "beh_before = ['Q', 'F', 'B']\n",
    "beh_after = ['Q', 'F', 'B']\n",
    "enc_beh_interactions = True\n",
    "enc_subjects = True\n",
    "closure = True # True if the only events we consider must start with a before_beh \n",
    "               # behavior and end with an beh_after before\n",
    "\n",
    "# How many boot strap samples we use in each analysis\n",
    "n_bs_smps = 1000\n",
    "\n",
    "# Determine how we will display results\n",
    "font_size = 15\n",
    "alpha = .01\n",
    "\n",
    "# Determine what type of manipulation events we look at\n",
    "manip_type = 'A9' # 'both', 'A4' or 'A9'\n",
    "\n",
    "# Determine which variables we are going to display results for\n",
    "show_subj_coefs = True"
   ]
  },
  {
   "cell_type": "markdown",
   "metadata": {},
   "source": [
    "## Load the data"
   ]
  },
  {
   "cell_type": "code",
   "execution_count": 6,
   "metadata": {},
   "outputs": [],
   "source": [
    "data_path = Path(data_dir) / data_file\n",
    "with open(data_path, 'rb') as f:\n",
    "    data = pickle.load(f)\n",
    "data = pd.DataFrame(data)"
   ]
  },
  {
   "cell_type": "markdown",
   "metadata": {},
   "source": [
    "## Down select to only the manipulation events we want to consider"
   ]
  },
  {
   "cell_type": "code",
   "execution_count": 7,
   "metadata": {},
   "outputs": [
    {
     "name": "stdout",
     "output_type": "stream",
     "text": [
      "Analyzing only A9 manipulation events.\n"
     ]
    }
   ],
   "source": [
    "if manip_type == 'A4':\n",
    "    print('Analyzing only A4 manipulation events.')\n",
    "    data = data[data['man_tgt'] == 'A4']\n",
    "elif manip_type == 'A9':\n",
    "    print('Analyzing only A9 manipulation events.')\n",
    "    data = data[data['man_tgt'] == 'A9']\n",
    "else:\n",
    "    print('Analyzing all manipulation events.')"
   ]
  },
  {
   "cell_type": "markdown",
   "metadata": {},
   "source": [
    "## Enforce closure if needed"
   ]
  },
  {
   "cell_type": "code",
   "execution_count": 8,
   "metadata": {},
   "outputs": [
    {
     "name": "stdout",
     "output_type": "stream",
     "text": [
      "Enforcing closure.\n"
     ]
    }
   ],
   "source": [
    "if closure:\n",
    "    print('Enforcing closure.')\n",
    "    before_closure = np.asarray([b in set(beh_before) for b in data['beh_before']], \n",
    "                                dtype=bool)\n",
    "    after_closure = np.asarray([b in set(beh_after) for b in data['beh_after']], \n",
    "                                dtype=bool)\n",
    "    closure = np.logical_and(before_closure, after_closure)\n",
    "    \n",
    "    data = data[closure]"
   ]
  },
  {
   "cell_type": "markdown",
   "metadata": {},
   "source": [
    "## Get rid of rows of data that have no behavior of interest"
   ]
  },
  {
   "cell_type": "code",
   "execution_count": 9,
   "metadata": {},
   "outputs": [],
   "source": [
    "before_ignore = np.asarray([b not in set(beh_before) for b in data['beh_before']], \n",
    "                                dtype=bool)\n",
    "after_ignore = np.asarray([b not in set(beh_after) for b in data['beh_after']], \n",
    "                                dtype=bool)\n",
    "\n",
    "ignore_rows = np.logical_and(before_ignore, after_ignore)\n",
    "\n",
    "data = data[np.logical_not(ignore_rows)]"
   ]
  },
  {
   "cell_type": "markdown",
   "metadata": {},
   "source": [
    "## Get groups of data (a group corresponds to each subject)"
   ]
  },
  {
   "cell_type": "code",
   "execution_count": 10,
   "metadata": {},
   "outputs": [],
   "source": [
    "unique_ids = data['subject_id'].unique()\n",
    "g = np.zeros(len(data))\n",
    "for u_i, u_id in enumerate(unique_ids):\n",
    "    g[data['subject_id'] == u_id] = u_i"
   ]
  },
  {
   "cell_type": "markdown",
   "metadata": {},
   "source": [
    "## Pull out $\\Delta F / F$"
   ]
  },
  {
   "cell_type": "code",
   "execution_count": 11,
   "metadata": {},
   "outputs": [],
   "source": [
    "dff_before = data['dff_before'].to_numpy()\n",
    "dff_after = data['dff_after'].to_numpy()"
   ]
  },
  {
   "cell_type": "markdown",
   "metadata": {},
   "source": [
    "## Now we fit linear models with user specified options"
   ]
  },
  {
   "cell_type": "code",
   "execution_count": 12,
   "metadata": {},
   "outputs": [],
   "source": [
    "one_hot_data, one_hot_vars = one_hot_from_table(data, \n",
    "                                                beh_before=beh_before, \n",
    "                                                beh_after=beh_after,\n",
    "                                                enc_subjects=enc_subjects, \n",
    "                                                enc_beh_interactions=enc_beh_interactions)\n",
    "if not enc_subjects:\n",
    "    one_hot_vars.append('mean')"
   ]
  },
  {
   "cell_type": "code",
   "execution_count": null,
   "metadata": {},
   "outputs": [],
   "source": [
    "pre_reg_rs = grouped_linear_regression_boot_strap(x=one_hot_data, \n",
    "                                                  y=dff_before, \n",
    "                                                  g=g, \n",
    "                                                  n_bs_smps=n_bs_smps, \n",
    "                                                  include_mean=(not enc_subjects))"
   ]
  },
  {
   "cell_type": "code",
   "execution_count": null,
   "metadata": {},
   "outputs": [],
   "source": [
    "post_reg_rs = grouped_linear_regression_boot_strap(x=one_hot_data, \n",
    "                                                  y=dff_after, \n",
    "                                                  g=g, \n",
    "                                                  n_bs_smps=n_bs_smps, \n",
    "                                                  include_mean=(not enc_subjects))"
   ]
  },
  {
   "cell_type": "markdown",
   "metadata": {},
   "source": [
    "### Wrapper function for plotting"
   ]
  },
  {
   "cell_type": "code",
   "execution_count": null,
   "metadata": {},
   "outputs": [],
   "source": [
    "def display_results(rs, var_strs, ylim, title_str):\n",
    "    \n",
    "    sig_y = .05*(ylim[1] - ylim[0]) + ylim[0]\n",
    "    \n",
    "    ax = visualize_boot_strap_results(bs_values=rs[0],\n",
    "                                      var_strs=var_strs, \n",
    "                                      theta = rs[1],\n",
    "                                      var_clrs=color_grp_vars(var_strs),\n",
    "                                      violin_plots=True,\n",
    "                                      alpha=alpha, \n",
    "                                      sig_y_vl=sig_y)\n",
    " \n",
    "    ph = plt.ylabel('Coef Vls', fontsize=font_size)\n",
    "    ax.tick_params(axis=\"x\", labelsize=font_size)\n",
    "    ax.tick_params(axis=\"y\", labelsize=font_size)\n",
    "    ax.set_ylim(ylim)\n",
    "\n",
    "    plt.title(title_str, fontsize=font_size, pad=50)\n",
    "    fig = plt.gcf()\n",
    "    fig.set_size_inches(12, 8)"
   ]
  },
  {
   "cell_type": "markdown",
   "metadata": {},
   "source": [
    "## Figure out how many subjects went into the analysis"
   ]
  },
  {
   "cell_type": "code",
   "execution_count": null,
   "metadata": {},
   "outputs": [],
   "source": [
    "n_subjects = len(np.unique(g))\n",
    "print('Number of subjects in analysis: ' + str(n_subjects))"
   ]
  },
  {
   "cell_type": "markdown",
   "metadata": {},
   "source": [
    "### Figure out how we are going to end our titles"
   ]
  },
  {
   "cell_type": "code",
   "execution_count": null,
   "metadata": {},
   "outputs": [],
   "source": [
    "if manip_type == 'both':\n",
    "    title_end_str = ', both A4 & A9'\n",
    "else:\n",
    "    title_end_str = ', ' + manip_type"
   ]
  },
  {
   "cell_type": "markdown",
   "metadata": {},
   "source": [
    "### Figure out which vars we are going to show"
   ]
  },
  {
   "cell_type": "code",
   "execution_count": null,
   "metadata": {},
   "outputs": [],
   "source": [
    "if not show_subj_coefs and enc_subjects:\n",
    "    last_ind = len(one_hot_vars) - n_subjects\n",
    "    var_inds = slice(0, last_ind)\n",
    "else:\n",
    "    var_inds = slice(0, len(one_hot_vars))"
   ]
  },
  {
   "cell_type": "code",
   "execution_count": null,
   "metadata": {},
   "outputs": [],
   "source": [
    "plot_pre_reg_rs = copy.deepcopy(pre_reg_rs)\n",
    "plot_pre_reg_rs[0] = plot_pre_reg_rs[0][:, var_inds]\n",
    "\n",
    "plot_post_reg_rs = copy.deepcopy(post_reg_rs)\n",
    "plot_post_reg_rs[0] = plot_post_reg_rs[0][:, var_inds]\n",
    "\n",
    "plot_one_hot_vars = one_hot_vars[var_inds]"
   ]
  },
  {
   "cell_type": "markdown",
   "metadata": {},
   "source": [
    "## Display pre-manipulation $\\Delta F/F$ Results"
   ]
  },
  {
   "cell_type": "code",
   "execution_count": null,
   "metadata": {},
   "outputs": [],
   "source": [
    "title_str = 'Encoding for Pre Manipulation $\\Delta F /F$ Activity' + title_end_str\n",
    "display_results(rs=plot_pre_reg_rs, var_strs=plot_one_hot_vars, ylim=[-.05, .05], \n",
    "                title_str=title_str)"
   ]
  },
  {
   "cell_type": "markdown",
   "metadata": {},
   "source": [
    "## Display post-manipulation $\\Delta F/F$ Results"
   ]
  },
  {
   "cell_type": "code",
   "execution_count": null,
   "metadata": {},
   "outputs": [],
   "source": [
    "title_str = 'Encoding for Post Manipulation $\\Delta F /F$ Activity' + title_end_str\n",
    "display_results(rs=plot_post_reg_rs, var_strs=plot_one_hot_vars, ylim=[-.5, .5], \n",
    "                title_str=title_str)"
   ]
  },
  {
   "cell_type": "code",
   "execution_count": null,
   "metadata": {},
   "outputs": [],
   "source": []
  }
 ],
 "metadata": {
  "kernelspec": {
   "display_name": "Python 3",
   "language": "python",
   "name": "python3"
  },
  "language_info": {
   "codemirror_mode": {
    "name": "ipython",
    "version": 3
   },
   "file_extension": ".py",
   "mimetype": "text/x-python",
   "name": "python",
   "nbconvert_exporter": "python",
   "pygments_lexer": "ipython3",
   "version": "3.7.3"
  }
 },
 "nbformat": 4,
 "nbformat_minor": 2
}
