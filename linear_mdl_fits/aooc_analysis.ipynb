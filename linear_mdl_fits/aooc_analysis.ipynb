{
 "cells": [
  {
   "cell_type": "markdown",
   "metadata": {},
   "source": [
    "Notebook to look at encoding models of A00c Activity; here we consider all A00c cells together (without regard for where manipulations were delivered or cell identity)"
   ]
  },
  {
   "cell_type": "code",
   "execution_count": null,
   "metadata": {},
   "outputs": [],
   "source": [
    "%load_ext autoreload\n",
    "%autoreload 2"
   ]
  },
  {
   "cell_type": "code",
   "execution_count": null,
   "metadata": {},
   "outputs": [],
   "source": [
    "import matplotlib.pyplot as plt\n",
    "import numpy as np\n",
    "import pandas as pd\n",
    "from pathlib import Path\n",
    "import pickle\n",
    "\n",
    "from janelia_core.stats.regression import grouped_linear_regression_boot_strap\n",
    "from janelia_core.stats.regression import visualize_boot_strap_results\n",
    "\n",
    "from keller_zlatic_vnc.linear_modeling import one_hot_from_table\n",
    "from keller_zlatic_vnc.linear_modeling import color_grp_vars"
   ]
  },
  {
   "cell_type": "code",
   "execution_count": null,
   "metadata": {},
   "outputs": [],
   "source": [
    "%matplotlib qt"
   ]
  },
  {
   "cell_type": "code",
   "execution_count": null,
   "metadata": {},
   "outputs": [],
   "source": [
    "# Helps make sure our plots will have the same size\n",
    "plt.rcParams['figure.constrained_layout.use'] = True"
   ]
  },
  {
   "cell_type": "markdown",
   "metadata": {},
   "source": [
    "## Parameters go here"
   ]
  },
  {
   "cell_type": "code",
   "execution_count": null,
   "metadata": {},
   "outputs": [],
   "source": [
    "data_dir = r'/Users/williambishop/Desktop'\n",
    "data_file = 'A00c_activity.pkl'\n",
    "\n",
    "# Behavior before and after consider\n",
    "beh_before = ['Q', 'F', 'B']\n",
    "beh_after = ['Q', 'F', 'B']\n",
    "interaction_terms = True\n",
    "\n",
    "# How many boot strap samples we use in each analysis\n",
    "n_bs_smps = 1000\n",
    "\n",
    "# Determine how we will display results\n",
    "font_size = 15\n",
    "alpha = .01\n",
    "\n",
    "# Determine what type of manipulation events we look at\n",
    "manip_type = 'both' # 'both', 'A4' or 'A9'"
   ]
  },
  {
   "cell_type": "markdown",
   "metadata": {},
   "source": [
    "## Load the data"
   ]
  },
  {
   "cell_type": "code",
   "execution_count": null,
   "metadata": {},
   "outputs": [],
   "source": [
    "data_path = Path(data_dir) / data_file\n",
    "with open(data_path, 'rb') as f:\n",
    "    data = pickle.load(f)\n",
    "data = pd.DataFrame(data)"
   ]
  },
  {
   "cell_type": "markdown",
   "metadata": {},
   "source": [
    "## Down select to only the manipulation events we want to consider"
   ]
  },
  {
   "cell_type": "code",
   "execution_count": null,
   "metadata": {},
   "outputs": [],
   "source": [
    "if manip_type == 'A4':\n",
    "    print('Analyzing only A4 manipulation events.')\n",
    "    data = data[data['man_tgt'] == 'A4']\n",
    "elif manip_type == 'A9':\n",
    "    print('Analyzing only A9 manipulation events.')\n",
    "    data = data[data['man_tgt'] == 'A9']\n",
    "else:\n",
    "    print('Analyzing all manipulation events.')"
   ]
  },
  {
   "cell_type": "markdown",
   "metadata": {},
   "source": [
    "## Get groups of data (a group corresponds to each subject)"
   ]
  },
  {
   "cell_type": "code",
   "execution_count": null,
   "metadata": {},
   "outputs": [],
   "source": [
    "unique_ids = data['subject_id'].unique()\n",
    "g = np.zeros(len(data))\n",
    "for u_i, u_id in enumerate(unique_ids):\n",
    "    g[data['subject_id'] == u_id] = u_i"
   ]
  },
  {
   "cell_type": "markdown",
   "metadata": {},
   "source": [
    "## Pull out $\\Delta F / F$"
   ]
  },
  {
   "cell_type": "code",
   "execution_count": null,
   "metadata": {},
   "outputs": [],
   "source": [
    "dff_before = data['dff_before'].to_numpy()\n",
    "dff_after = data['dff_after'].to_numpy()"
   ]
  },
  {
   "cell_type": "markdown",
   "metadata": {},
   "source": [
    "## First, we look at linear models without accounting for subject identity of manipulation type"
   ]
  },
  {
   "cell_type": "markdown",
   "metadata": {},
   "source": [
    "### Perform the regression and bootstrap computations"
   ]
  },
  {
   "cell_type": "code",
   "execution_count": null,
   "metadata": {},
   "outputs": [],
   "source": [
    "basic_enc_data, basic_enc_vars = one_hot_from_table(data, beh_before=beh_before, beh_after=beh_after,\n",
    "                                        enc_subjects=False, enc_beh_interactions=interaction_terms) \n",
    "basic_enc_vars.append('mean')"
   ]
  },
  {
   "cell_type": "code",
   "execution_count": null,
   "metadata": {},
   "outputs": [],
   "source": [
    "n_beh_cols = len(beh_before) + len(beh_after) + interaction_terms*len(beh_before)*len(beh_after)\n",
    "basic_keep_rows =  np.logical_not(np.all(basic_enc_data[:, 0:n_beh_cols] == 0, axis=1))\n",
    "\n",
    "basic_enc_data = basic_enc_data[basic_keep_rows, :]\n",
    "basic_dff_before = dff_before[basic_keep_rows]\n",
    "basic_dff_after = dff_after[basic_keep_rows]\n",
    "basic_g = g[basic_keep_rows]\n"
   ]
  },
  {
   "cell_type": "code",
   "execution_count": null,
   "metadata": {},
   "outputs": [],
   "source": [
    "basic_dff_before_bs_results = grouped_linear_regression_boot_strap(x=basic_enc_data, \n",
    "                                                                   y=basic_dff_before, \n",
    "                                                                   g=basic_g, \n",
    "                                                                   n_bs_smps=n_bs_smps, \n",
    "                                                                   include_mean=True)"
   ]
  },
  {
   "cell_type": "code",
   "execution_count": null,
   "metadata": {},
   "outputs": [],
   "source": [
    "basic_dff_after_bs_results = grouped_linear_regression_boot_strap(x=basic_enc_data, \n",
    "                                                                  y=basic_dff_after, \n",
    "                                                                  g=basic_g, \n",
    "                                                                  n_bs_smps=n_bs_smps, \n",
    "                                                                  include_mean=True)"
   ]
  },
  {
   "cell_type": "markdown",
   "metadata": {},
   "source": [
    "### Display results"
   ]
  },
  {
   "cell_type": "code",
   "execution_count": null,
   "metadata": {},
   "outputs": [],
   "source": [
    "ax = visualize_boot_strap_results(bs_values=basic_dff_before_bs_results[0], \n",
    "                                  var_strs=basic_enc_vars, \n",
    "                                  theta = basic_dff_before_bs_results[1],\n",
    "                                  var_clrs=color_grp_vars(basic_enc_vars),\n",
    "                                  violin_plots=True,\n",
    "                                  alpha=alpha)\n",
    "\n",
    "ph = plt.ylabel('Coef Vls', fontsize=font_size)\n",
    "ax.tick_params(axis=\"x\", labelsize=font_size)\n",
    "ax.tick_params(axis=\"y\", labelsize=font_size)\n",
    "\n",
    "title = 'Encoding for Pre Manipulation $\\Delta F /F$ Activity'\n",
    "if manip_type == 'both':\n",
    "    title = title + ', both A4 & A9'\n",
    "else:\n",
    "    title = title + ', ' + manip_type\n",
    "\n",
    "plt.title(title, fontsize=font_size, pad=50)\n",
    "fig = plt.gcf()\n",
    "fig.set_size_inches(12, 8)\n"
   ]
  },
  {
   "cell_type": "code",
   "execution_count": null,
   "metadata": {
    "scrolled": true
   },
   "outputs": [],
   "source": [
    "ax = visualize_boot_strap_results(bs_values=basic_dff_after_bs_results[0], \n",
    "                                  var_strs=basic_enc_vars, \n",
    "                                  theta = basic_dff_after_bs_results[1],\n",
    "                                  var_clrs=color_grp_vars(basic_enc_vars),\n",
    "                                  violin_plots=True,\n",
    "                                  alpha=alpha)\n",
    "\n",
    "ph = plt.ylabel('Coef Vls', fontsize=font_size)\n",
    "ax.tick_params(axis=\"x\", labelsize=font_size)\n",
    "ax.tick_params(axis=\"y\", labelsize=font_size)\n",
    "\n",
    "title = 'Encoding for Post Manipulation $\\Delta F /F$ Activity'\n",
    "\n",
    "if manip_type == 'both':\n",
    "    title = title + ', both A4 & A9'\n",
    "else:\n",
    "    title = title + ', ' + manip_type\n",
    "    \n",
    "plt.title(title, fontsize=font_size, pad=50)\n",
    "fig = plt.gcf()\n",
    "fig.set_size_inches(12, 8)"
   ]
  },
  {
   "cell_type": "markdown",
   "metadata": {},
   "source": [
    "### Look at correlation of regressors "
   ]
  },
  {
   "cell_type": "code",
   "execution_count": null,
   "metadata": {},
   "outputs": [],
   "source": [
    "#plt.imshow(np.corrcoef(basic_enc_data.transpose()), cmap='PiYG', vmin=-1, vmax=1)\n",
    "#plt.colorbar()"
   ]
  },
  {
   "cell_type": "markdown",
   "metadata": {},
   "source": [
    "## Now we account for subject identity"
   ]
  },
  {
   "cell_type": "markdown",
   "metadata": {},
   "source": [
    "### Perform regression and bootstrap computations"
   ]
  },
  {
   "cell_type": "code",
   "execution_count": null,
   "metadata": {},
   "outputs": [],
   "source": [
    "sub_enc_data, sub_enc_vars = one_hot_from_table(data, beh_before=beh_before, beh_after=beh_after,\n",
    "                                        enc_subjects=True, enc_beh_interactions=interaction_terms) "
   ]
  },
  {
   "cell_type": "code",
   "execution_count": null,
   "metadata": {},
   "outputs": [],
   "source": [
    "sub_keep_rows =  np.logical_not(np.all(sub_enc_data[:, 0:n_beh_cols] == 0, axis=1))\n",
    "\n",
    "sub_enc_data = sub_enc_data[sub_keep_rows, :]\n",
    "sub_dff_before = dff_before[sub_keep_rows]\n",
    "sub_dff_after = dff_after[sub_keep_rows]\n",
    "sub_g = g[sub_keep_rows]"
   ]
  },
  {
   "cell_type": "code",
   "execution_count": null,
   "metadata": {},
   "outputs": [],
   "source": [
    "sub_dff_before_bs_results = grouped_linear_regression_boot_strap(x=sub_enc_data, \n",
    "                                                                   y=sub_dff_before, \n",
    "                                                                   g=sub_g, \n",
    "                                                                   n_bs_smps=n_bs_smps, \n",
    "                                                                   include_mean=False)"
   ]
  },
  {
   "cell_type": "code",
   "execution_count": null,
   "metadata": {},
   "outputs": [],
   "source": [
    "sub_dff_after_bs_results = grouped_linear_regression_boot_strap(x=sub_enc_data, \n",
    "                                                                  y=sub_dff_after, \n",
    "                                                                  g=sub_g, \n",
    "                                                                  n_bs_smps=n_bs_smps, \n",
    "                                                                  include_mean=False)"
   ]
  },
  {
   "cell_type": "code",
   "execution_count": null,
   "metadata": {},
   "outputs": [],
   "source": [
    "len(np.unique(sub_g))"
   ]
  },
  {
   "cell_type": "markdown",
   "metadata": {},
   "source": [
    "### Display results"
   ]
  },
  {
   "cell_type": "code",
   "execution_count": null,
   "metadata": {},
   "outputs": [],
   "source": [
    "ax = visualize_boot_strap_results(bs_values=sub_dff_before_bs_results[0][:, 0:n_beh_cols], \n",
    "                                  var_strs=sub_enc_vars[0:n_beh_cols], \n",
    "                                  theta = sub_dff_before_bs_results[1][0:n_beh_cols],\n",
    "                                  var_clrs=color_grp_vars(sub_enc_vars[0:n_beh_cols]),\n",
    "                                  violin_plots=True,\n",
    "                                  alpha=alpha, \n",
    "                                  sig_y_vl=-.18)\n",
    "\n",
    "\n",
    "ph = plt.ylabel('Coef Vls', fontsize=font_size)\n",
    "ax.tick_params(axis=\"x\", labelsize=font_size)\n",
    "ax.tick_params(axis=\"y\", labelsize=font_size)\n",
    "ax.set_ylim([-.2, .2])\n",
    "\n",
    "title = 'Encoding for Pre Manipulation $\\Delta F /F$ Activity'\n",
    "if manip_type == 'both':\n",
    "    title = title + ', both A4 & A9'\n",
    "else:\n",
    "    title = title + ', ' + manip_type\n",
    "\n",
    "plt.title(title, fontsize=font_size, pad=50)\n",
    "fig = plt.gcf()\n",
    "fig.set_size_inches(12, 8)"
   ]
  },
  {
   "cell_type": "code",
   "execution_count": null,
   "metadata": {},
   "outputs": [],
   "source": [
    "ax = visualize_boot_strap_results(bs_values=sub_dff_after_bs_results[0][:, 0:n_beh_cols], \n",
    "                                  var_strs=sub_enc_vars[0:n_beh_cols], \n",
    "                                  theta = sub_dff_after_bs_results[1][0:n_beh_cols],\n",
    "                                  var_clrs=color_grp_vars(sub_enc_vars[0:n_beh_cols]),\n",
    "                                  violin_plots=True,\n",
    "                                  alpha=alpha, \n",
    "                                  sig_y_vl = -.9)\n",
    "\n",
    "ph = plt.ylabel('Coef Vls', fontsize=font_size)\n",
    "\n",
    "ax.tick_params(axis=\"x\", labelsize=font_size)\n",
    "ax.tick_params(axis=\"y\", labelsize=font_size)\n",
    "ax.set_ylim([-1, 1])\n",
    "\n",
    "title = 'Encoding for Post Manipulation $\\Delta F /F$ Activity'\n",
    "\n",
    "if manip_type == 'both':\n",
    "    title = title + ', both A4 & A9'\n",
    "else:\n",
    "    title = title + ', ' + manip_type\n",
    "    \n",
    "plt.title(title, fontsize=font_size, pad=50)\n",
    "fig = plt.gcf()\n",
    "fig.set_size_inches(12, 8)"
   ]
  },
  {
   "cell_type": "markdown",
   "metadata": {},
   "source": [
    "### Look at correlation of regressors"
   ]
  },
  {
   "cell_type": "code",
   "execution_count": null,
   "metadata": {},
   "outputs": [],
   "source": [
    "plt.imshow(np.corrcoef(sub_enc_data.transpose()), cmap='PiYG', vmin=-1, vmax=1)\n",
    "plt.colorbar()"
   ]
  }
 ],
 "metadata": {
  "kernelspec": {
   "display_name": "Python 3",
   "language": "python",
   "name": "python3"
  },
  "language_info": {
   "codemirror_mode": {
    "name": "ipython",
    "version": 3
   },
   "file_extension": ".py",
   "mimetype": "text/x-python",
   "name": "python",
   "nbconvert_exporter": "python",
   "pygments_lexer": "ipython3",
   "version": "3.7.3"
  }
 },
 "nbformat": 4,
 "nbformat_minor": 2
}
