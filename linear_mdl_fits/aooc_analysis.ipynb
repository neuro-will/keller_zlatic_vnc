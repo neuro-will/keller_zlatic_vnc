{
 "cells": [
  {
   "cell_type": "markdown",
   "metadata": {},
   "source": [
    "Notebook to look at encoding models of A00c Activity; here we consider all A00c cells together (without regard for where manipulations were delivered or cell identity)"
   ]
  },
  {
   "cell_type": "code",
   "execution_count": 1,
   "metadata": {},
   "outputs": [],
   "source": [
    "%load_ext autoreload\n",
    "%autoreload 2"
   ]
  },
  {
   "cell_type": "code",
   "execution_count": 2,
   "metadata": {},
   "outputs": [],
   "source": [
    "import copy\n",
    "import matplotlib.pyplot as plt\n",
    "import numpy as np\n",
    "import pandas as pd\n",
    "from pathlib import Path\n",
    "import pickle\n",
    "\n",
    "from janelia_core.stats.regression import grouped_linear_regression_boot_strap\n",
    "from janelia_core.stats.regression import visualize_boot_strap_results\n",
    "\n",
    "from keller_zlatic_vnc.linear_modeling import one_hot_from_table\n",
    "from keller_zlatic_vnc.linear_modeling import color_grp_vars"
   ]
  },
  {
   "cell_type": "code",
   "execution_count": 3,
   "metadata": {},
   "outputs": [],
   "source": [
    "%matplotlib qt"
   ]
  },
  {
   "cell_type": "code",
   "execution_count": 4,
   "metadata": {},
   "outputs": [],
   "source": [
    "# Helps make sure our plots will have the same size\n",
    "plt.rcParams['figure.constrained_layout.use'] = True"
   ]
  },
  {
   "cell_type": "markdown",
   "metadata": {},
   "source": [
    "## Parameters go here"
   ]
  },
  {
   "cell_type": "code",
   "execution_count": 7,
   "metadata": {},
   "outputs": [],
   "source": [
    "data_dir = r'\\\\dm11\\bishoplab\\projects\\keller_vnc\\data\\extracted_dff'\n",
    "data_file = 'A00c_activity.pkl'\n",
    "\n",
    "# Specify variables that we predict from\n",
    "beh_before = ['Q', 'F', 'B']\n",
    "beh_after = ['Q', 'F', 'B']\n",
    "enc_beh_interactions = True\n",
    "enc_subjects = True\n",
    "closure = True # True if the only events we consider must start with a before_beh \n",
    "               # behavior and end with an beh_after behavior\n",
    "\n",
    "# How many boot strap samples we use in each analysis\n",
    "n_bs_smps = 1000\n",
    "\n",
    "# Determine how we will display results\n",
    "font_size = 15\n",
    "alpha = .01\n",
    "\n",
    "# Determine what type of manipulation events we look at\n",
    "manip_type = 'A9' # 'both', 'A4' or 'A9'\n",
    "\n",
    "# Determine which variables we are going to display results for\n",
    "show_subj_coefs = True"
   ]
  },
  {
   "cell_type": "markdown",
   "metadata": {},
   "source": [
    "## Load the data"
   ]
  },
  {
   "cell_type": "code",
   "execution_count": 8,
   "metadata": {},
   "outputs": [],
   "source": [
    "data_path = Path(data_dir) / data_file\n",
    "with open(data_path, 'rb') as f:\n",
    "    data = pickle.load(f)\n",
    "data = pd.DataFrame(data)"
   ]
  },
  {
   "cell_type": "code",
   "execution_count": 10,
   "metadata": {},
   "outputs": [
    {
     "data": {
      "text/html": [
       "<div>\n",
       "<style scoped>\n",
       "    .dataframe tbody tr th:only-of-type {\n",
       "        vertical-align: middle;\n",
       "    }\n",
       "\n",
       "    .dataframe tbody tr th {\n",
       "        vertical-align: top;\n",
       "    }\n",
       "\n",
       "    .dataframe thead th {\n",
       "        text-align: right;\n",
       "    }\n",
       "</style>\n",
       "<table border=\"1\" class=\"dataframe\">\n",
       "  <thead>\n",
       "    <tr style=\"text-align: right;\">\n",
       "      <th></th>\n",
       "      <th>subject_id</th>\n",
       "      <th>cell_id</th>\n",
       "      <th>event_id</th>\n",
       "      <th>beh_before</th>\n",
       "      <th>beh_after</th>\n",
       "      <th>dff_before</th>\n",
       "      <th>dff_during</th>\n",
       "      <th>dff_after</th>\n",
       "      <th>man_tgt</th>\n",
       "    </tr>\n",
       "  </thead>\n",
       "  <tbody>\n",
       "    <tr>\n",
       "      <td>1121</td>\n",
       "      <td>1102L3CL</td>\n",
       "      <td>2.0</td>\n",
       "      <td>0</td>\n",
       "      <td>B</td>\n",
       "      <td>B</td>\n",
       "      <td>0.022125</td>\n",
       "      <td>0.006751</td>\n",
       "      <td>-0.001554</td>\n",
       "      <td>A9</td>\n",
       "    </tr>\n",
       "    <tr>\n",
       "      <td>1122</td>\n",
       "      <td>1102L3CL</td>\n",
       "      <td>2.0</td>\n",
       "      <td>1</td>\n",
       "      <td>F</td>\n",
       "      <td>T</td>\n",
       "      <td>0.001597</td>\n",
       "      <td>0.112738</td>\n",
       "      <td>0.273001</td>\n",
       "      <td>A9</td>\n",
       "    </tr>\n",
       "    <tr>\n",
       "      <td>1123</td>\n",
       "      <td>1102L3CL</td>\n",
       "      <td>2.0</td>\n",
       "      <td>2</td>\n",
       "      <td>F</td>\n",
       "      <td>F</td>\n",
       "      <td>0.044350</td>\n",
       "      <td>0.033995</td>\n",
       "      <td>0.028438</td>\n",
       "      <td>A9</td>\n",
       "    </tr>\n",
       "    <tr>\n",
       "      <td>1124</td>\n",
       "      <td>1102L3CL</td>\n",
       "      <td>2.0</td>\n",
       "      <td>3</td>\n",
       "      <td>F</td>\n",
       "      <td>T</td>\n",
       "      <td>0.001753</td>\n",
       "      <td>0.029739</td>\n",
       "      <td>0.032805</td>\n",
       "      <td>A9</td>\n",
       "    </tr>\n",
       "    <tr>\n",
       "      <td>1125</td>\n",
       "      <td>1102L3CL</td>\n",
       "      <td>3.0</td>\n",
       "      <td>0</td>\n",
       "      <td>B</td>\n",
       "      <td>B</td>\n",
       "      <td>0.028357</td>\n",
       "      <td>0.043027</td>\n",
       "      <td>0.015061</td>\n",
       "      <td>A9</td>\n",
       "    </tr>\n",
       "    <tr>\n",
       "      <td>...</td>\n",
       "      <td>...</td>\n",
       "      <td>...</td>\n",
       "      <td>...</td>\n",
       "      <td>...</td>\n",
       "      <td>...</td>\n",
       "      <td>...</td>\n",
       "      <td>...</td>\n",
       "      <td>...</td>\n",
       "      <td>...</td>\n",
       "    </tr>\n",
       "    <tr>\n",
       "      <td>1537</td>\n",
       "      <td>1108L3</td>\n",
       "      <td>6.0</td>\n",
       "      <td>2</td>\n",
       "      <td>Q</td>\n",
       "      <td>F</td>\n",
       "      <td>0.016744</td>\n",
       "      <td>0.791211</td>\n",
       "      <td>0.939961</td>\n",
       "      <td>A9</td>\n",
       "    </tr>\n",
       "    <tr>\n",
       "      <td>1538</td>\n",
       "      <td>1108L3</td>\n",
       "      <td>6.0</td>\n",
       "      <td>3</td>\n",
       "      <td>Q</td>\n",
       "      <td>F</td>\n",
       "      <td>0.011291</td>\n",
       "      <td>0.725406</td>\n",
       "      <td>0.856928</td>\n",
       "      <td>A9</td>\n",
       "    </tr>\n",
       "    <tr>\n",
       "      <td>1539</td>\n",
       "      <td>1108L3</td>\n",
       "      <td>6.0</td>\n",
       "      <td>4</td>\n",
       "      <td>Q</td>\n",
       "      <td>F</td>\n",
       "      <td>0.016901</td>\n",
       "      <td>0.705781</td>\n",
       "      <td>0.782500</td>\n",
       "      <td>A9</td>\n",
       "    </tr>\n",
       "    <tr>\n",
       "      <td>1540</td>\n",
       "      <td>1108L3</td>\n",
       "      <td>6.0</td>\n",
       "      <td>5</td>\n",
       "      <td>Q</td>\n",
       "      <td>P</td>\n",
       "      <td>0.009434</td>\n",
       "      <td>0.648214</td>\n",
       "      <td>0.664910</td>\n",
       "      <td>A9</td>\n",
       "    </tr>\n",
       "    <tr>\n",
       "      <td>1541</td>\n",
       "      <td>1108L3</td>\n",
       "      <td>6.0</td>\n",
       "      <td>6</td>\n",
       "      <td>Q</td>\n",
       "      <td>F</td>\n",
       "      <td>0.018229</td>\n",
       "      <td>0.650885</td>\n",
       "      <td>0.633518</td>\n",
       "      <td>A9</td>\n",
       "    </tr>\n",
       "  </tbody>\n",
       "</table>\n",
       "<p>421 rows × 9 columns</p>\n",
       "</div>"
      ],
      "text/plain": [
       "     subject_id  cell_id  event_id beh_before beh_after  dff_before  \\\n",
       "1121   1102L3CL      2.0         0          B         B    0.022125   \n",
       "1122   1102L3CL      2.0         1          F         T    0.001597   \n",
       "1123   1102L3CL      2.0         2          F         F    0.044350   \n",
       "1124   1102L3CL      2.0         3          F         T    0.001753   \n",
       "1125   1102L3CL      3.0         0          B         B    0.028357   \n",
       "...         ...      ...       ...        ...       ...         ...   \n",
       "1537     1108L3      6.0         2          Q         F    0.016744   \n",
       "1538     1108L3      6.0         3          Q         F    0.011291   \n",
       "1539     1108L3      6.0         4          Q         F    0.016901   \n",
       "1540     1108L3      6.0         5          Q         P    0.009434   \n",
       "1541     1108L3      6.0         6          Q         F    0.018229   \n",
       "\n",
       "      dff_during  dff_after man_tgt  \n",
       "1121    0.006751  -0.001554      A9  \n",
       "1122    0.112738   0.273001      A9  \n",
       "1123    0.033995   0.028438      A9  \n",
       "1124    0.029739   0.032805      A9  \n",
       "1125    0.043027   0.015061      A9  \n",
       "...          ...        ...     ...  \n",
       "1537    0.791211   0.939961      A9  \n",
       "1538    0.725406   0.856928      A9  \n",
       "1539    0.705781   0.782500      A9  \n",
       "1540    0.648214   0.664910      A9  \n",
       "1541    0.650885   0.633518      A9  \n",
       "\n",
       "[421 rows x 9 columns]"
      ]
     },
     "execution_count": 10,
     "metadata": {},
     "output_type": "execute_result"
    }
   ],
   "source": [
    "data"
   ]
  },
  {
   "cell_type": "markdown",
   "metadata": {},
   "source": [
    "## Down select to only the manipulation events we want to consider"
   ]
  },
  {
   "cell_type": "code",
   "execution_count": 9,
   "metadata": {},
   "outputs": [
    {
     "name": "stdout",
     "output_type": "stream",
     "text": [
      "Analyzing only A9 manipulation events.\n"
     ]
    }
   ],
   "source": [
    "if manip_type == 'A4':\n",
    "    print('Analyzing only A4 manipulation events.')\n",
    "    data = data[data['man_tgt'] == 'A4']\n",
    "elif manip_type == 'A9':\n",
    "    print('Analyzing only A9 manipulation events.')\n",
    "    data = data[data['man_tgt'] == 'A9']\n",
    "else:\n",
    "    print('Analyzing all manipulation events.')"
   ]
  },
  {
   "cell_type": "markdown",
   "metadata": {},
   "source": [
    "## Enforce closure if needed"
   ]
  },
  {
   "cell_type": "code",
   "execution_count": 8,
   "metadata": {},
   "outputs": [
    {
     "name": "stdout",
     "output_type": "stream",
     "text": [
      "Enforcing closure.\n"
     ]
    }
   ],
   "source": [
    "if closure:\n",
    "    print('Enforcing closure.')\n",
    "    before_closure = np.asarray([b in set(beh_before) for b in data['beh_before']], \n",
    "                                dtype=bool)\n",
    "    after_closure = np.asarray([b in set(beh_after) for b in data['beh_after']], \n",
    "                                dtype=bool)\n",
    "    closure = np.logical_and(before_closure, after_closure)\n",
    "    \n",
    "    data = data[closure]"
   ]
  },
  {
   "cell_type": "markdown",
   "metadata": {},
   "source": [
    "## Get rid of rows of data that have no behavior of interest"
   ]
  },
  {
   "cell_type": "code",
   "execution_count": 9,
   "metadata": {},
   "outputs": [],
   "source": [
    "before_ignore = np.asarray([b not in set(beh_before) for b in data['beh_before']], \n",
    "                                dtype=bool)\n",
    "after_ignore = np.asarray([b not in set(beh_after) for b in data['beh_after']], \n",
    "                                dtype=bool)\n",
    "\n",
    "ignore_rows = np.logical_and(before_ignore, after_ignore)\n",
    "\n",
    "data = data[np.logical_not(ignore_rows)]"
   ]
  },
  {
   "cell_type": "markdown",
   "metadata": {},
   "source": [
    "## Get groups of data (a group corresponds to each subject)"
   ]
  },
  {
   "cell_type": "code",
   "execution_count": 10,
   "metadata": {},
   "outputs": [],
   "source": [
    "unique_ids = data['subject_id'].unique()\n",
    "g = np.zeros(len(data))\n",
    "for u_i, u_id in enumerate(unique_ids):\n",
    "    g[data['subject_id'] == u_id] = u_i"
   ]
  },
  {
   "cell_type": "markdown",
   "metadata": {},
   "source": [
    "## Pull out $\\Delta F / F$"
   ]
  },
  {
   "cell_type": "code",
   "execution_count": 11,
   "metadata": {},
   "outputs": [],
   "source": [
    "dff_before = data['dff_before'].to_numpy()\n",
    "dff_after = data['dff_after'].to_numpy()"
   ]
  },
  {
   "cell_type": "markdown",
   "metadata": {},
   "source": [
    "## Now we fit linear models with user specified options"
   ]
  },
  {
   "cell_type": "code",
   "execution_count": 12,
   "metadata": {},
   "outputs": [],
   "source": [
    "one_hot_data, one_hot_vars = one_hot_from_table(data, \n",
    "                                                beh_before=beh_before, \n",
    "                                                beh_after=beh_after,\n",
    "                                                enc_subjects=enc_subjects, \n",
    "                                                enc_beh_interactions=enc_beh_interactions)\n",
    "if not enc_subjects:\n",
    "    one_hot_vars.append('mean')"
   ]
  },
  {
   "cell_type": "code",
   "execution_count": null,
   "metadata": {},
   "outputs": [],
   "source": [
    "pre_reg_rs = grouped_linear_regression_boot_strap(x=one_hot_data, \n",
    "                                                  y=dff_before, \n",
    "                                                  g=g, \n",
    "                                                  n_bs_smps=n_bs_smps, \n",
    "                                                  include_mean=(not enc_subjects))"
   ]
  },
  {
   "cell_type": "code",
   "execution_count": null,
   "metadata": {},
   "outputs": [],
   "source": [
    "post_reg_rs = grouped_linear_regression_boot_strap(x=one_hot_data, \n",
    "                                                  y=dff_after, \n",
    "                                                  g=g, \n",
    "                                                  n_bs_smps=n_bs_smps, \n",
    "                                                  include_mean=(not enc_subjects))"
   ]
  },
  {
   "cell_type": "markdown",
   "metadata": {},
   "source": [
    "### Wrapper function for plotting"
   ]
  },
  {
   "cell_type": "code",
   "execution_count": null,
   "metadata": {},
   "outputs": [],
   "source": [
    "def display_results(rs, var_strs, ylim, title_str):\n",
    "    \n",
    "    sig_y = .05*(ylim[1] - ylim[0]) + ylim[0]\n",
    "    \n",
    "    ax = visualize_boot_strap_results(bs_values=rs[0],\n",
    "                                      var_strs=var_strs, \n",
    "                                      theta = rs[1],\n",
    "                                      var_clrs=color_grp_vars(var_strs),\n",
    "                                      violin_plots=True,\n",
    "                                      alpha=alpha, \n",
    "                                      sig_y_vl=sig_y)\n",
    " \n",
    "    ph = plt.ylabel('Coef Vls', fontsize=font_size)\n",
    "    ax.tick_params(axis=\"x\", labelsize=font_size)\n",
    "    ax.tick_params(axis=\"y\", labelsize=font_size)\n",
    "    ax.set_ylim(ylim)\n",
    "\n",
    "    plt.title(title_str, fontsize=font_size, pad=50)\n",
    "    fig = plt.gcf()\n",
    "    fig.set_size_inches(12, 8)"
   ]
  },
  {
   "cell_type": "markdown",
   "metadata": {},
   "source": [
    "## Figure out how many subjects went into the analysis"
   ]
  },
  {
   "cell_type": "code",
   "execution_count": null,
   "metadata": {},
   "outputs": [],
   "source": [
    "n_subjects = len(np.unique(g))\n",
    "print('Number of subjects in analysis: ' + str(n_subjects))"
   ]
  },
  {
   "cell_type": "markdown",
   "metadata": {},
   "source": [
    "### Figure out how we are going to end our titles"
   ]
  },
  {
   "cell_type": "code",
   "execution_count": null,
   "metadata": {},
   "outputs": [],
   "source": [
    "if manip_type == 'both':\n",
    "    title_end_str = ', both A4 & A9'\n",
    "else:\n",
    "    title_end_str = ', ' + manip_type"
   ]
  },
  {
   "cell_type": "markdown",
   "metadata": {},
   "source": [
    "### Figure out which vars we are going to show"
   ]
  },
  {
   "cell_type": "code",
   "execution_count": null,
   "metadata": {},
   "outputs": [],
   "source": [
    "if not show_subj_coefs and enc_subjects:\n",
    "    last_ind = len(one_hot_vars) - n_subjects\n",
    "    var_inds = slice(0, last_ind)\n",
    "else:\n",
    "    var_inds = slice(0, len(one_hot_vars))"
   ]
  },
  {
   "cell_type": "code",
   "execution_count": null,
   "metadata": {},
   "outputs": [],
   "source": [
    "plot_pre_reg_rs = copy.deepcopy(pre_reg_rs)\n",
    "plot_pre_reg_rs[0] = plot_pre_reg_rs[0][:, var_inds]\n",
    "\n",
    "plot_post_reg_rs = copy.deepcopy(post_reg_rs)\n",
    "plot_post_reg_rs[0] = plot_post_reg_rs[0][:, var_inds]\n",
    "\n",
    "plot_one_hot_vars = one_hot_vars[var_inds]"
   ]
  },
  {
   "cell_type": "markdown",
   "metadata": {},
   "source": [
    "## Display pre-manipulation $\\Delta F/F$ Results"
   ]
  },
  {
   "cell_type": "code",
   "execution_count": null,
   "metadata": {},
   "outputs": [],
   "source": [
    "title_str = 'Encoding for Pre Manipulation $\\Delta F /F$ Activity' + title_end_str\n",
    "display_results(rs=plot_pre_reg_rs, var_strs=plot_one_hot_vars, ylim=[-.05, .05], \n",
    "                title_str=title_str)"
   ]
  },
  {
   "cell_type": "markdown",
   "metadata": {},
   "source": [
    "## Display post-manipulation $\\Delta F/F$ Results"
   ]
  },
  {
   "cell_type": "code",
   "execution_count": null,
   "metadata": {},
   "outputs": [],
   "source": [
    "title_str = 'Encoding for Post Manipulation $\\Delta F /F$ Activity' + title_end_str\n",
    "display_results(rs=plot_post_reg_rs, var_strs=plot_one_hot_vars, ylim=[-.5, .5], \n",
    "                title_str=title_str)"
   ]
  },
  {
   "cell_type": "code",
   "execution_count": null,
   "metadata": {},
   "outputs": [],
   "source": []
  }
 ],
 "metadata": {
  "kernelspec": {
   "display_name": "Python 3",
   "language": "python",
   "name": "python3"
  },
  "language_info": {
   "codemirror_mode": {
    "name": "ipython",
    "version": 3
   },
   "file_extension": ".py",
   "mimetype": "text/x-python",
   "name": "python",
   "nbconvert_exporter": "python",
   "pygments_lexer": "ipython3",
   "version": "3.7.3"
  }
 },
 "nbformat": 4,
 "nbformat_minor": 2
}
