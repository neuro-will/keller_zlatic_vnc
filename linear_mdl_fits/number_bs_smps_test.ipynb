{
 "cells": [
  {
   "cell_type": "markdown",
   "metadata": {},
   "source": [
    "This is a notebook to see how many bootstrap samples we need to run in the linear modeling analysis so that every p-value is larger than the smallest value possible.\n",
    "\n",
    "We examine p-values for the coefficients of encoding models of dff after a perturbation, as these dff values are large. \n",
    "\n",
    "The user can supply options specifying the cell type to look at, as well as events to consider, etc as well as importantly the number of bootstrap samples to perform.  The script will then do a full analysis, fitting linear models and calculating p-values for each coefficient in the model. The smallest p-value will be reported. We want this to be greater than 2/(# of bootstrap samples). "
   ]
  },
  {
   "cell_type": "code",
   "execution_count": 1,
   "metadata": {},
   "outputs": [],
   "source": [
    "%load_ext autoreload\n",
    "%autoreload 2"
   ]
  },
  {
   "cell_type": "code",
   "execution_count": 2,
   "metadata": {},
   "outputs": [],
   "source": [
    "import copy\n",
    "import numpy as np\n",
    "import pandas as pd\n",
    "from pathlib import Path\n",
    "import pickle\n",
    "import time\n",
    "\n",
    "from janelia_core.stats.regression import grouped_linear_regression_boot_strap\n",
    "from janelia_core.stats.regression import grouped_linear_regression_boot_strap_stats\n",
    "\n",
    "from keller_zlatic_vnc.linear_modeling import one_hot_from_table"
   ]
  },
  {
   "cell_type": "markdown",
   "metadata": {},
   "source": [
    "## Parameters go here"
   ]
  },
  {
   "cell_type": "code",
   "execution_count": 3,
   "metadata": {},
   "outputs": [],
   "source": [
    "data_dir = r'\\\\dm11\\bishoplab\\projects\\keller_vnc\\data\\extracted_dff\\A00c'\n",
    "data_file = 'A00c_activity.pkl'\n",
    "\n",
    "# Specify variables that we predict from\n",
    "beh_before = ['Q', 'F', 'B']\n",
    "beh_after = ['Q', 'F', 'B']\n",
    "enc_beh_interactions = True\n",
    "enc_subjects = True\n",
    "closure = True # True if the only events we consider must start with a before_beh \n",
    "               # behavior and end with an beh_after behavior\n",
    "\n",
    "# How many boot strap samples we use in each analysis\n",
    "n_bs_smps = 10000000\n",
    "\n",
    "# Determine what type of manipulation events we look at\n",
    "manip_type = 'both' # 'both', 'A4' or 'A9'"
   ]
  },
  {
   "cell_type": "markdown",
   "metadata": {},
   "source": [
    "## Load the data"
   ]
  },
  {
   "cell_type": "code",
   "execution_count": 4,
   "metadata": {},
   "outputs": [],
   "source": [
    "data_path = Path(data_dir) / data_file\n",
    "with open(data_path, 'rb') as f:\n",
    "    data = pickle.load(f)\n",
    "data = pd.DataFrame(data)"
   ]
  },
  {
   "cell_type": "markdown",
   "metadata": {},
   "source": [
    "## Down select to only the manipulation events we want to consider"
   ]
  },
  {
   "cell_type": "code",
   "execution_count": 5,
   "metadata": {},
   "outputs": [
    {
     "name": "stdout",
     "output_type": "stream",
     "text": [
      "Analyzing all manipulation events.\n"
     ]
    }
   ],
   "source": [
    "if manip_type == 'A4':\n",
    "    print('Analyzing only A4 manipulation events.')\n",
    "    data = data[data['man_tgt'] == 'A4']\n",
    "elif manip_type == 'A9':\n",
    "    print('Analyzing only A9 manipulation events.')\n",
    "    data = data[data['man_tgt'] == 'A9']\n",
    "else:\n",
    "    print('Analyzing all manipulation events.')"
   ]
  },
  {
   "cell_type": "markdown",
   "metadata": {},
   "source": [
    "## Enforce closure if needed"
   ]
  },
  {
   "cell_type": "code",
   "execution_count": 6,
   "metadata": {},
   "outputs": [
    {
     "name": "stdout",
     "output_type": "stream",
     "text": [
      "Enforcing closure.\n"
     ]
    }
   ],
   "source": [
    "if closure:\n",
    "    print('Enforcing closure.')\n",
    "    before_closure = np.asarray([b in set(beh_before) for b in data['beh_before']], \n",
    "                                dtype=bool)\n",
    "    after_closure = np.asarray([b in set(beh_after) for b in data['beh_after']], \n",
    "                                dtype=bool)\n",
    "    closure = np.logical_and(before_closure, after_closure)\n",
    "    \n",
    "    data = data[closure]"
   ]
  },
  {
   "cell_type": "markdown",
   "metadata": {},
   "source": [
    "## Get rid of rows of data that have no behavior of interest"
   ]
  },
  {
   "cell_type": "code",
   "execution_count": 7,
   "metadata": {},
   "outputs": [],
   "source": [
    "before_ignore = np.asarray([b not in set(beh_before) for b in data['beh_before']], \n",
    "                                dtype=bool)\n",
    "after_ignore = np.asarray([b not in set(beh_after) for b in data['beh_after']], \n",
    "                                dtype=bool)\n",
    "\n",
    "ignore_rows = np.logical_and(before_ignore, after_ignore)\n",
    "\n",
    "data = data[np.logical_not(ignore_rows)]"
   ]
  },
  {
   "cell_type": "markdown",
   "metadata": {},
   "source": [
    "## Get groups of data (a group corresponds to each subject)"
   ]
  },
  {
   "cell_type": "code",
   "execution_count": 8,
   "metadata": {},
   "outputs": [],
   "source": [
    "unique_ids = data['subject_id'].unique()\n",
    "g = np.zeros(len(data))\n",
    "for u_i, u_id in enumerate(unique_ids):\n",
    "    g[data['subject_id'] == u_id] = u_i"
   ]
  },
  {
   "cell_type": "markdown",
   "metadata": {},
   "source": [
    "## Pull out $\\Delta F / F$"
   ]
  },
  {
   "cell_type": "code",
   "execution_count": 9,
   "metadata": {},
   "outputs": [],
   "source": [
    "dff = data['dff_after'].to_numpy()"
   ]
  },
  {
   "cell_type": "markdown",
   "metadata": {},
   "source": [
    "## Now we fit linear models with user specified options"
   ]
  },
  {
   "cell_type": "code",
   "execution_count": 10,
   "metadata": {},
   "outputs": [],
   "source": [
    "one_hot_data, one_hot_vars = one_hot_from_table(data, \n",
    "                                                beh_before=beh_before, \n",
    "                                                beh_after=beh_after,\n",
    "                                                enc_subjects=enc_subjects, \n",
    "                                                enc_beh_interactions=enc_beh_interactions)\n",
    "if not enc_subjects:\n",
    "    one_hot_vars.append('mean')"
   ]
  },
  {
   "cell_type": "code",
   "execution_count": 11,
   "metadata": {},
   "outputs": [],
   "source": [
    "t_start = time.time()\n",
    "reg_rs = grouped_linear_regression_boot_strap(x=one_hot_data, y=dff, g=g, n_bs_smps=n_bs_smps, include_mean=(not enc_subjects))\n",
    "t_stop = time.time()"
   ]
  },
  {
   "cell_type": "markdown",
   "metadata": {},
   "source": [
    "## Get statistics"
   ]
  },
  {
   "cell_type": "code",
   "execution_count": 12,
   "metadata": {},
   "outputs": [],
   "source": [
    "stats = grouped_linear_regression_boot_strap_stats(reg_rs[0])"
   ]
  },
  {
   "cell_type": "markdown",
   "metadata": {},
   "source": [
    "## Print results"
   ]
  },
  {
   "cell_type": "code",
   "execution_count": 13,
   "metadata": {},
   "outputs": [
    {
     "name": "stdout",
     "output_type": "stream",
     "text": [
      "Performed 10000000 bootstrap samples in 25144.7517683506 seconds.\n",
      "Smallest p-value: 2e-07\n"
     ]
    }
   ],
   "source": [
    "comp_time = t_stop - t_start\n",
    "smallest_p_vl = np.min(stats['non_zero_p'])\n",
    "\n",
    "print('Performed ' + str(n_bs_smps) + ' bootstrap samples in ' + str(comp_time) + ' seconds.')\n",
    "print('Smallest p-value: ' + str(smallest_p_vl))"
   ]
  },
  {
   "cell_type": "code",
   "execution_count": 14,
   "metadata": {},
   "outputs": [
    {
     "data": {
      "text/plain": [
       "array([2.7946600e-01, 6.1826000e-03, 1.0200000e-05, 1.2166000e-03,\n",
       "       2.0000000e-07, 1.6292000e-03, 1.8914460e-01, 5.9930580e-01,\n",
       "       9.8274220e-01, 1.0296086e+00, 6.7662600e-02, 3.8470000e-01,\n",
       "       8.0931520e-01, 1.3114360e-01, 2.9795840e-01, 3.8682200e-01,\n",
       "       9.5472940e-01, 4.8350280e-01, 7.0462820e-01, 6.0632400e-01,\n",
       "       3.9099080e-01, 8.2364200e-01, 5.8610200e-01, 8.5840780e-01,\n",
       "       4.7769820e-01, 3.9948460e-01, 4.0053700e-01, 6.5321380e-01,\n",
       "       8.3633660e-01, 9.6939380e-01, 9.1711180e-01, 8.0633120e-01,\n",
       "       4.1299320e-01, 7.7146020e-01, 6.3875940e-01, 7.1180120e-01,\n",
       "       4.4948980e-01, 6.1988460e-01, 9.5792640e-01, 1.0677572e+00,\n",
       "       5.7302040e-01, 5.3390720e-01, 5.7672480e-01, 5.9279080e-01,\n",
       "       6.3670260e-01, 1.1420252e+00, 7.1598460e-01, 7.0768800e-01,\n",
       "       7.1696060e-01, 7.3127860e-01, 1.2725548e+00, 9.2470940e-01,\n",
       "       7.6938600e-01, 1.1914636e+00, 1.3423810e+00, 1.1254466e+00,\n",
       "       7.2885900e-01, 7.2934480e-01, 7.2853800e-01, 7.2979180e-01,\n",
       "       1.0032748e+00, 1.1240846e+00, 1.1293014e+00, 7.2875820e-01,\n",
       "       1.3004548e+00, 7.3634740e-01, 8.2463760e-01, 7.4714920e-01,\n",
       "       7.3308240e-01, 7.2964300e-01])"
      ]
     },
     "execution_count": 14,
     "metadata": {},
     "output_type": "execute_result"
    }
   ],
   "source": [
    "stats['non_zero_p']"
   ]
  },
  {
   "cell_type": "code",
   "execution_count": null,
   "metadata": {},
   "outputs": [],
   "source": []
  }
 ],
 "metadata": {
  "kernelspec": {
   "display_name": "Python 3",
   "language": "python",
   "name": "python3"
  },
  "language_info": {
   "codemirror_mode": {
    "name": "ipython",
    "version": 3
   },
   "file_extension": ".py",
   "mimetype": "text/x-python",
   "name": "python",
   "nbconvert_exporter": "python",
   "pygments_lexer": "ipython3",
   "version": "3.7.3"
  }
 },
 "nbformat": 4,
 "nbformat_minor": 2
}
