{
 "cells": [
  {
   "cell_type": "markdown",
   "metadata": {},
   "source": [
    "A notebook to make p-value images from the results of whole_bain_linear_mdl_fit"
   ]
  },
  {
   "cell_type": "code",
   "execution_count": 1,
   "metadata": {},
   "outputs": [],
   "source": [
    "%load_ext autoreload\n",
    "%autoreload 2"
   ]
  },
  {
   "cell_type": "code",
   "execution_count": 2,
   "metadata": {},
   "outputs": [],
   "source": [
    "import glob\n",
    "import os\n",
    "from pathlib import Path\n",
    "import pickle\n",
    "\n",
    "import imageio\n",
    "import numpy as np\n",
    "import pandas as pd\n",
    "import pyqtgraph as pg\n",
    "\n",
    "from janelia_core.stats.regression import grouped_linear_regression_boot_strap_stats\n",
    "from janelia_core.dataprocessing.dataset import ROIDataset\n",
    "from janelia_core.utils.data_saving import append_ts"
   ]
  },
  {
   "cell_type": "code",
   "execution_count": 3,
   "metadata": {},
   "outputs": [],
   "source": [
    "%matplotlib qt"
   ]
  },
  {
   "cell_type": "markdown",
   "metadata": {},
   "source": [
    "## Parameters go here"
   ]
  },
  {
   "cell_type": "code",
   "execution_count": 62,
   "metadata": {},
   "outputs": [],
   "source": [
    "ps = {}\n",
    "\n",
    "# Location of results of whole_brain_linear_mdl_fit\n",
    "ps['results_folder'] = r'\\\\dm11\\bishoplab\\projects\\keller_vnc\\results\\whole_brain_stats'\n",
    "#ps['results_file'] = 'whole_brain_boot_strap_2019_10_29_10_19_57_489328.pkl'\n",
    "ps['results_file'] = 'whole_brain_boot_strap_2020_01_25_15_30_35_692930.pkl'\n",
    "\n",
    "# The alpha level for forming confidence intervals (we don't look at confidence intervals but still compute them)\n",
    "ps['alpha'] = .01\n",
    "\n",
    "# Specify type of images we generate\n",
    "ps['type'] = 'threshold' # threshold or p-value\n",
    "\n",
    "# Threshold p-value if we are making threshold images\n",
    "ps['threshold'] = .05\n",
    "\n",
    "# Specify where the original datasets are located - we use these for determining the position of the rois\n",
    "ps['data_loc_file'] = r'A:\\projects\\keller_vnc\\data\\experiment_data_locations.xlsx'\n",
    "ps['dataset_folder'] = 'extracted'\n",
    "ps['dataset_base_folder'] = r'K:\\\\SV4'\n",
    "ps['roi_group'] = 'rois_1_5_5'\n",
    "\n",
    "# Specify where we save images\n",
    "ps['save_folder'] = r'\\\\dm11\\bishoplab\\projects\\keller_vnc\\results\\whole_brain_stats'\n",
    "ps['save_str'] = 'whole_brain_stats_images'\n"
   ]
  },
  {
   "cell_type": "markdown",
   "metadata": {},
   "source": [
    "## Load the results"
   ]
  },
  {
   "cell_type": "code",
   "execution_count": 5,
   "metadata": {},
   "outputs": [],
   "source": [
    "rs_file = Path(ps['results_folder']) / ps['results_file']\n",
    "with open(rs_file, 'rb') as f:\n",
    "    rs = pickle.load(f)\n",
    "    \n",
    "one_hot_vars = rs['one_hot_vars']\n",
    "before_bs_rs = rs['before_bs_rs']\n",
    "after_bs_rs = rs['after_bs_rs']"
   ]
  },
  {
   "cell_type": "markdown",
   "metadata": {},
   "source": [
    "## Load a dataset\n",
    "\n",
    "Because the rois are in the same location for each dataset, we can just look at the first dataset to find the position of the rois"
   ]
  },
  {
   "cell_type": "code",
   "execution_count": 6,
   "metadata": {},
   "outputs": [],
   "source": [
    "# Read in dataset locations\n",
    "def c_fcn(str):\n",
    "    return str.replace(\"'\", \"\")\n",
    "converters = {0:c_fcn, 1:c_fcn}\n",
    "\n",
    "data_locs = pd.read_excel(ps['data_loc_file'], header=1, usecols=[1, 2], converters=converters)\n",
    "\n",
    "# Read in the first dataset\n",
    "dataset_path = (Path(ps['dataset_base_folder']) / data_locs['Main folder'][0] / data_locs['Subfolder'][0] / \n",
    "                    Path(ps['dataset_folder']) / '*.pkl')\n",
    "dataset_file = glob.glob(str(dataset_path))[0]\n",
    "\n",
    "with open(dataset_file, 'rb') as f:\n",
    "    dataset = ROIDataset.from_dict(pickle.load(f))"
   ]
  },
  {
   "cell_type": "code",
   "execution_count": 7,
   "metadata": {},
   "outputs": [
    {
     "data": {
      "text/plain": [
       "'K:\\\\SV4\\\\CW_17-08-23\\\\L1-561nm-ROIMonitoring_20170823_145226.corrected\\\\extracted\\\\CW_17-08-23-L1_dataset.pkl'"
      ]
     },
     "execution_count": 7,
     "metadata": {},
     "output_type": "execute_result"
    }
   ],
   "source": [
    "dataset_file"
   ]
  },
  {
   "cell_type": "markdown",
   "metadata": {},
   "source": [
    "## Get ROI locations for first dataset"
   ]
  },
  {
   "cell_type": "code",
   "execution_count": 8,
   "metadata": {},
   "outputs": [],
   "source": [
    "rois = dataset.roi_groups[ps['roi_group']]['rois']\n",
    "if len(rois) != len(before_bs_rs):\n",
    "    raise(RuntimeError('Number of rois in dataset does not match number of rois statistics are calculated for.'))\n",
    "n_rois = len(rois)"
   ]
  },
  {
   "cell_type": "markdown",
   "metadata": {},
   "source": [
    "## Calculate statistics"
   ]
  },
  {
   "cell_type": "code",
   "execution_count": 14,
   "metadata": {},
   "outputs": [
    {
     "name": "stdout",
     "output_type": "stream",
     "text": [
      "Done with 0 rois.\n",
      "Done with 10000 rois.\n",
      "Done with 20000 rois.\n",
      "Done with 30000 rois.\n",
      "Done with 40000 rois.\n",
      "Done with 50000 rois.\n",
      "Done with 60000 rois.\n",
      "Done with 70000 rois.\n",
      "Done with 80000 rois.\n",
      "Done with 90000 rois.\n",
      "Done with 100000 rois.\n",
      "Done with 110000 rois.\n",
      "Done with 120000 rois.\n",
      "Done with 130000 rois.\n",
      "Done with 140000 rois.\n",
      "Done with 150000 rois.\n",
      "Done with 160000 rois.\n",
      "Done with 170000 rois.\n",
      "Done with 180000 rois.\n",
      "Done with 190000 rois.\n",
      "Done with 200000 rois.\n",
      "Done with 210000 rois.\n",
      "Done with 220000 rois.\n",
      "Done with 230000 rois.\n",
      "Done with 240000 rois.\n",
      "Done with 250000 rois.\n",
      "Done with 260000 rois.\n",
      "Done with 270000 rois.\n",
      "Done with 280000 rois.\n",
      "Done with 290000 rois.\n",
      "Done with 300000 rois.\n",
      "Done with 310000 rois.\n",
      "Done with 320000 rois.\n",
      "Done with 330000 rois.\n",
      "Done with 340000 rois.\n",
      "Done with 350000 rois.\n",
      "Done with 360000 rois.\n",
      "Done with 370000 rois.\n",
      "Done with 380000 rois.\n"
     ]
    }
   ],
   "source": [
    "before_stats = [None]*n_rois\n",
    "after_stats = [None]*n_rois\n",
    "for rs_i, (before_rs, after_rs) in enumerate(zip(before_bs_rs, after_bs_rs)):\n",
    "    before_stats[rs_i] = grouped_linear_regression_boot_strap_stats(before_rs[0], ps['alpha'])\n",
    "    after_stats[rs_i] = grouped_linear_regression_boot_strap_stats(after_rs[0], ps['alpha'])\n",
    "    if rs_i % 10000 == 0: \n",
    "        print('Done with ' + str(rs_i) + ' rois.')"
   ]
  },
  {
   "cell_type": "markdown",
   "metadata": {},
   "source": [
    "## Load mean image"
   ]
  },
  {
   "cell_type": "code",
   "execution_count": 15,
   "metadata": {},
   "outputs": [],
   "source": [
    "mn_img = dataset.stats['mean']"
   ]
  },
  {
   "cell_type": "markdown",
   "metadata": {},
   "source": [
    "## Generate and save images"
   ]
  },
  {
   "cell_type": "code",
   "execution_count": 63,
   "metadata": {},
   "outputs": [],
   "source": [
    "# Make folder to save results into\n",
    "image_folder = append_ts(ps['save_str'])\n",
    "save_folder_path= Path(ps['save_folder']) / image_folder\n",
    "os.makedirs(save_folder_path)"
   ]
  },
  {
   "cell_type": "code",
   "execution_count": 64,
   "metadata": {},
   "outputs": [],
   "source": [
    "# Save the mean image\n",
    "mn_image_path = save_folder_path / 'mean.tiff'\n",
    "imageio.mimwrite(mn_image_path, mn_img)"
   ]
  },
  {
   "cell_type": "code",
   "execution_count": 65,
   "metadata": {},
   "outputs": [
    {
     "name": "stdout",
     "output_type": "stream",
     "text": [
      "Done with variable 0\n",
      "Done with variable 1\n",
      "Done with variable 2\n",
      "Done with variable 3\n",
      "Done with variable 4\n",
      "Done with variable 5\n",
      "Done with variable 6\n",
      "Done with variable 7\n",
      "Done with variable 8\n",
      "Done with variable 9\n",
      "Done with variable 10\n",
      "Done with variable 11\n",
      "Done with variable 12\n",
      "Done with variable 13\n",
      "Done with variable 14\n",
      "Done with variable 15\n"
     ]
    }
   ],
   "source": [
    "# Generate p-value images\n",
    "im_shape = mn_img.shape\n",
    "\n",
    "n_vars = len(one_hot_vars)\n",
    "\n",
    "before_p_images = [None]*n_vars\n",
    "after_p_images = [None]*n_vars\n",
    "\n",
    "for v_i in range(n_vars):\n",
    "    after_im = np.zeros(im_shape, dtype=np.float32)\n",
    "    before_im = np.zeros(im_shape, dtype=np.float32)\n",
    "    cur_var = one_hot_vars[v_i]\n",
    "    for r_i in range(n_rois):\n",
    "        cur_voxel_inds = rois[r_i].voxel_inds\n",
    "        if ps['type'] == 'p-value':\n",
    "            after_im[cur_voxel_inds] = 1*np.log10(after_stats[r_i]['non_zero_p'][v_i])\n",
    "            before_im[cur_voxel_inds] = 1*np.log10(before_stats[r_i]['non_zero_p'][v_i])\n",
    "        elif ps['type'] == 'threshold':\n",
    "            if after_stats[r_i]['non_zero_p'][v_i] < ps['threshold']:\n",
    "                after_im[cur_voxel_inds] = after_bs_rs[r_i][1][v_i]\n",
    "            if before_stats[r_i]['non_zero_p'][v_i] < ps['threshold']:\n",
    "                before_im[cur_voxel_inds] = before_bs_rs[r_i][1][v_i]\n",
    "        else:\n",
    "            raise(ValueError('type not recogonized'))\n",
    "    \n",
    "    after_p_images[v_i] = after_im \n",
    "    before_p_images[v_i] = before_im\n",
    "    print('Done with variable ' + str(v_i))"
   ]
  },
  {
   "cell_type": "code",
   "execution_count": 66,
   "metadata": {},
   "outputs": [],
   "source": [
    "# Save p-value images\n",
    "\n",
    "after_folder_path = save_folder_path / 'after'\n",
    "before_folder_path = save_folder_path / 'before'\n",
    "\n",
    "os.makedirs(after_folder_path)\n",
    "os.makedirs(before_folder_path)\n",
    "\n",
    "for v_i in range(n_vars):\n",
    "    after_im_name = one_hot_vars[v_i] + '_after.tiff'\n",
    "    before_im_name = one_hot_vars[v_i] + '_before.tiff'\n",
    "    \n",
    "    after_im_path = after_folder_path/after_im_name\n",
    "    before_im_path = before_folder_path/before_im_name\n",
    "    \n",
    "    imageio.mimwrite(after_im_path, after_p_images[v_i])\n",
    "    imageio.mimwrite(before_im_path, before_p_images[v_i])"
   ]
  },
  {
   "cell_type": "code",
   "execution_count": 67,
   "metadata": {},
   "outputs": [],
   "source": [
    "# Save parameters\n",
    "param_path = save_folder_path / 'params.pkl'\n",
    "with open(param_path, 'wb') as f:\n",
    "    pickle.dump(ps, f)"
   ]
  },
  {
   "cell_type": "code",
   "execution_count": 68,
   "metadata": {},
   "outputs": [
    {
     "data": {
      "text/plain": [
       "['beh_before_Q',\n",
       " 'beh_before_F',\n",
       " 'beh_before_B',\n",
       " 'beh_after_Q',\n",
       " 'beh_after_F',\n",
       " 'beh_after_B',\n",
       " 'beh_interact_QQ',\n",
       " 'beh_interact_QF',\n",
       " 'beh_interact_QB',\n",
       " 'beh_interact_FQ',\n",
       " 'beh_interact_FF',\n",
       " 'beh_interact_FB',\n",
       " 'beh_interact_BQ',\n",
       " 'beh_interact_BF',\n",
       " 'beh_interact_BB',\n",
       " 'mean']"
      ]
     },
     "execution_count": 68,
     "metadata": {},
     "output_type": "execute_result"
    }
   ],
   "source": [
    "one_hot_vars"
   ]
  },
  {
   "cell_type": "code",
   "execution_count": 55,
   "metadata": {},
   "outputs": [
    {
     "data": {
      "text/plain": [
       "WindowsPath('//dm11/bishoplab/projects/keller_vnc/results/whole_brain_stats/whole_brain_stats_images_2020_01_27_17_12_32_247326')"
      ]
     },
     "execution_count": 55,
     "metadata": {},
     "output_type": "execute_result"
    }
   ],
   "source": [
    "save_folder_path"
   ]
  },
  {
   "cell_type": "code",
   "execution_count": null,
   "metadata": {},
   "outputs": [],
   "source": [
    "-np.log(.002)"
   ]
  },
  {
   "cell_type": "code",
   "execution_count": 31,
   "metadata": {},
   "outputs": [
    {
     "data": {
      "text/plain": [
       "9614250"
      ]
     },
     "execution_count": 31,
     "metadata": {},
     "output_type": "execute_result"
    }
   ],
   "source": [
    "len(np.where(after_p_images[0] != 0)[0])"
   ]
  },
  {
   "cell_type": "code",
   "execution_count": 33,
   "metadata": {},
   "outputs": [
    {
     "data": {
      "text/plain": [
       "-0.0019980026"
      ]
     },
     "execution_count": 33,
     "metadata": {},
     "output_type": "execute_result"
    }
   ],
   "source": [
    "np.min(after_p_images[0])"
   ]
  },
  {
   "cell_type": "code",
   "execution_count": 35,
   "metadata": {},
   "outputs": [
    {
     "data": {
      "text/plain": [
       "-1.0"
      ]
     },
     "execution_count": 35,
     "metadata": {},
     "output_type": "execute_result"
    }
   ],
   "source": [
    "np.log10(.1)"
   ]
  },
  {
   "cell_type": "code",
   "execution_count": 46,
   "metadata": {},
   "outputs": [
    {
     "data": {
      "text/plain": [
       "[array([[-0.00506909,  0.01081913,  0.00747783, ..., -0.00392158,\n",
       "          0.00539139,  0.01322787],\n",
       "        [ 0.0002863 ,  0.01168858,  0.00331868, ...,  0.00669039,\n",
       "         -0.0033717 ,  0.01529356],\n",
       "        [-0.00324385,  0.00775177,  0.00725069, ...,  0.00022119,\n",
       "          0.0070295 ,  0.01175862],\n",
       "        ...,\n",
       "        [-0.00767275,  0.01340322,  0.0083324 , ...,  0.00101086,\n",
       "          0.00105604,  0.01406287],\n",
       "        [-0.00282925,  0.01345026,  0.00492187, ...,  0.00047838,\n",
       "         -0.00213395,  0.01554288],\n",
       "        [-0.00208054,  0.01035475,  0.0063716 , ...,  0.00094513,\n",
       "          0.00542647,  0.0146458 ]]),\n",
       " array([-0.00333398,  0.01202381,  0.00692496,  0.00738006,  0.00465503,\n",
       "         0.0035797 ,  0.00253408, -0.00094464, -0.00492342,  0.        ,\n",
       "         0.00408508,  0.00793872,  0.00484598,  0.00151458,  0.0005644 ,\n",
       "         0.01561478])]"
      ]
     },
     "execution_count": 46,
     "metadata": {},
     "output_type": "execute_result"
    }
   ],
   "source": [
    "before_bs_rs[0]"
   ]
  },
  {
   "cell_type": "code",
   "execution_count": null,
   "metadata": {},
   "outputs": [],
   "source": []
  }
 ],
 "metadata": {
  "kernelspec": {
   "display_name": "Python 3",
   "language": "python",
   "name": "python3"
  },
  "language_info": {
   "codemirror_mode": {
    "name": "ipython",
    "version": 3
   },
   "file_extension": ".py",
   "mimetype": "text/x-python",
   "name": "python",
   "nbconvert_exporter": "python",
   "pygments_lexer": "ipython3",
   "version": "3.7.3"
  }
 },
 "nbformat": 4,
 "nbformat_minor": 2
}
