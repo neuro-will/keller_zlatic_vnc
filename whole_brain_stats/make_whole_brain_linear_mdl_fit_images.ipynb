{
 "cells": [
  {
   "cell_type": "markdown",
   "metadata": {},
   "source": [
    "A notebook to make p-value images from the results of whole_bain_linear_mdl_fit"
   ]
  },
  {
   "cell_type": "code",
   "execution_count": 1,
   "metadata": {},
   "outputs": [],
   "source": [
    "%load_ext autoreload\n",
    "%autoreload 2"
   ]
  },
  {
   "cell_type": "code",
   "execution_count": 2,
   "metadata": {},
   "outputs": [],
   "source": [
    "import glob\n",
    "import os\n",
    "from pathlib import Path\n",
    "import pickle\n",
    "\n",
    "import imageio\n",
    "import numpy as np\n",
    "import pandas as pd\n",
    "import pyqtgraph as pg\n",
    "\n",
    "from janelia_core.stats.regression import grouped_linear_regression_boot_strap_stats\n",
    "from janelia_core.dataprocessing.dataset import ROIDataset\n",
    "from janelia_core.utils.data_saving import append_ts"
   ]
  },
  {
   "cell_type": "code",
   "execution_count": 3,
   "metadata": {},
   "outputs": [],
   "source": [
    "%matplotlib qt"
   ]
  },
  {
   "cell_type": "markdown",
   "metadata": {},
   "source": [
    "## Parameters go here"
   ]
  },
  {
   "cell_type": "code",
   "execution_count": 4,
   "metadata": {},
   "outputs": [],
   "source": [
    "ps = {}\n",
    "\n",
    "# Location of results of whole_brain_linear_mdl_fit\n",
    "ps['results_folder'] = r'\\\\dm11\\bishoplab\\projects\\keller_vnc\\results\\whole_brain_stats'\n",
    "ps['results_file'] = 'whole_brain_boot_strap_2019_10_29_10_19_57_489328.pkl'\n",
    "\n",
    "# The alpha level for forming confidence intervals (we don't look at confidence intervals but still compute them)\n",
    "ps['alpha'] = .01\n",
    "\n",
    "# Specify where the original datasets are located - we use these for determining the position of the rois\n",
    "ps['data_loc_file'] = r'A:\\projects\\keller_vnc\\data\\experiment_data_locations.xlsx'\n",
    "ps['dataset_folder'] = 'extracted'\n",
    "ps['dataset_base_folder'] = r'K:\\\\SV4'\n",
    "ps['roi_group'] = 'rois_5_25_25'\n",
    "\n",
    "# Specify where we save images\n",
    "ps['save_folder'] = r'\\\\dm11\\bishoplab\\projects\\keller_vnc\\results\\whole_brain_stats'\n",
    "ps['save_str'] = 'whole_brain_stats_images'"
   ]
  },
  {
   "cell_type": "markdown",
   "metadata": {},
   "source": [
    "## Load the results"
   ]
  },
  {
   "cell_type": "code",
   "execution_count": 5,
   "metadata": {},
   "outputs": [],
   "source": [
    "rs_file = Path(ps['results_folder']) / ps['results_file']\n",
    "with open(rs_file, 'rb') as f:\n",
    "    rs = pickle.load(f)\n",
    "    \n",
    "one_hot_vars = rs['one_hot_vars']\n",
    "before_bs_rs = rs['before_bs_rs']\n",
    "after_bs_rs = rs['after_bs_rs']"
   ]
  },
  {
   "cell_type": "markdown",
   "metadata": {},
   "source": [
    "## Load a dataset\n",
    "\n",
    "Because the rois are in the same location for each dataset, we can just look at the first dataset to find the position of the rois"
   ]
  },
  {
   "cell_type": "code",
   "execution_count": 6,
   "metadata": {},
   "outputs": [],
   "source": [
    "# Read in dataset locations\n",
    "def c_fcn(str):\n",
    "    return str.replace(\"'\", \"\")\n",
    "converters = {0:c_fcn, 1:c_fcn}\n",
    "\n",
    "data_locs = pd.read_excel(ps['data_loc_file'], header=1, usecols=[1, 2], converters=converters)\n",
    "\n",
    "# Read in the first dataset\n",
    "dataset_path = (Path(ps['dataset_base_folder']) / data_locs['Main folder'][0] / data_locs['Subfolder'][0] / \n",
    "                    Path(ps['dataset_folder']) / '*.pkl')\n",
    "dataset_file = glob.glob(str(dataset_path))[0]\n",
    "\n",
    "with open(dataset_file, 'rb') as f:\n",
    "    dataset = ROIDataset.from_dict(pickle.load(f))"
   ]
  },
  {
   "cell_type": "code",
   "execution_count": 28,
   "metadata": {},
   "outputs": [
    {
     "data": {
      "text/plain": [
       "'K:\\\\SV4\\\\CW_17-08-23\\\\L1-561nm-ROIMonitoring_20170823_145226.corrected\\\\extracted\\\\CW_17-08-23-L1_dataset.pkl'"
      ]
     },
     "execution_count": 28,
     "metadata": {},
     "output_type": "execute_result"
    }
   ],
   "source": [
    "dataset_file"
   ]
  },
  {
   "cell_type": "markdown",
   "metadata": {},
   "source": [
    "## Get ROI locations for first dataset"
   ]
  },
  {
   "cell_type": "code",
   "execution_count": 7,
   "metadata": {},
   "outputs": [],
   "source": [
    "rois = dataset.roi_groups[ps['roi_group']]['rois']\n",
    "if len(rois) != len(before_bs_rs):\n",
    "    raise(RuntimeError('Number of rois in dataset does not match number of rois statistics are calculated for.'))\n",
    "n_rois = len(rois)"
   ]
  },
  {
   "cell_type": "markdown",
   "metadata": {},
   "source": [
    "## Calculate statistics"
   ]
  },
  {
   "cell_type": "code",
   "execution_count": 8,
   "metadata": {},
   "outputs": [],
   "source": [
    "before_stats = [grouped_linear_regression_boot_strap_stats(rs[0], ps['alpha']) for rs in before_bs_rs]\n",
    "after_stats = [grouped_linear_regression_boot_strap_stats(rs[0], ps['alpha']) for rs in before_bs_rs]"
   ]
  },
  {
   "cell_type": "markdown",
   "metadata": {},
   "source": [
    "## Load mean image"
   ]
  },
  {
   "cell_type": "code",
   "execution_count": 9,
   "metadata": {},
   "outputs": [],
   "source": [
    "mn_img = dataset.stats['mean']"
   ]
  },
  {
   "cell_type": "markdown",
   "metadata": {},
   "source": [
    "## Generate and save images"
   ]
  },
  {
   "cell_type": "code",
   "execution_count": 23,
   "metadata": {},
   "outputs": [],
   "source": [
    "# Make folder to save results into\n",
    "image_folder = append_ts(ps['save_str'])\n",
    "save_folder_path= Path(ps['save_folder']) / image_folder\n",
    "os.makedirs(save_folder_path)"
   ]
  },
  {
   "cell_type": "code",
   "execution_count": 24,
   "metadata": {},
   "outputs": [],
   "source": [
    "# Save the mean image\n",
    "mn_image_path = save_folder_path / 'mean.tiff'\n",
    "imageio.mimwrite(mn_image_path, mn_img)"
   ]
  },
  {
   "cell_type": "code",
   "execution_count": 25,
   "metadata": {},
   "outputs": [],
   "source": [
    "# Generate p-value images\n",
    "im_shape = mn_img.shape\n",
    "\n",
    "n_vars = len(one_hot_vars)\n",
    "\n",
    "before_p_images = [None]*n_vars\n",
    "after_p_images = [None]*n_vars\n",
    "\n",
    "for v_i in range(n_vars):\n",
    "    after_im = np.zeros(im_shape, dtype=np.float32)\n",
    "    before_im = np.zeros(im_shape, dtype=np.float32)\n",
    "    cur_var = one_hot_vars[v_i]\n",
    "    for r_i in range(n_rois):\n",
    "        cur_voxel_inds = rois[r_i].voxel_inds\n",
    "        after_im[cur_voxel_inds] = -1*np.log(after_stats[r_i]['non_zero_p'][v_i])\n",
    "        before_im[cur_voxel_inds] = -1*np.log(before_stats[r_i]['non_zero_p'][v_i])\n",
    "        \n",
    "    after_p_images[v_i] = after_im \n",
    "    before_p_images[v_i] = before_im"
   ]
  },
  {
   "cell_type": "code",
   "execution_count": 26,
   "metadata": {},
   "outputs": [],
   "source": [
    "# Save p-value images\n",
    "\n",
    "after_folder_path = save_folder_path / 'after'\n",
    "before_folder_path = save_folder_path / 'before'\n",
    "\n",
    "os.makedirs(after_folder_path)\n",
    "os.makedirs(before_folder_path)\n",
    "\n",
    "for v_i in range(n_vars):\n",
    "    after_im_name = one_hot_vars[v_i] + '_after.tiff'\n",
    "    before_im_name = one_hot_vars[v_i] + '_before.tiff'\n",
    "    \n",
    "    after_im_path = after_folder_path/after_im_name\n",
    "    before_im_path = before_folder_path/before_im_name\n",
    "    \n",
    "    imageio.mimwrite(after_im_path, after_p_images[v_i])\n",
    "    imageio.mimwrite(before_im_path, before_p_images[v_i])"
   ]
  },
  {
   "cell_type": "code",
   "execution_count": 27,
   "metadata": {},
   "outputs": [],
   "source": [
    "# Save parameters\n",
    "param_path = save_folder_path / 'params.pkl'\n",
    "with open(param_path, 'wb') as f:\n",
    "    pickle.dump(ps, f)"
   ]
  },
  {
   "cell_type": "code",
   "execution_count": 30,
   "metadata": {},
   "outputs": [
    {
     "data": {
      "text/plain": [
       "['beh_before_Q',\n",
       " 'beh_before_F',\n",
       " 'beh_before_B',\n",
       " 'beh_after_Q',\n",
       " 'beh_after_F',\n",
       " 'beh_after_B',\n",
       " 'beh_interact_QQ',\n",
       " 'beh_interact_QF',\n",
       " 'beh_interact_QB',\n",
       " 'beh_interact_FQ',\n",
       " 'beh_interact_FF',\n",
       " 'beh_interact_FB',\n",
       " 'beh_interact_BQ',\n",
       " 'beh_interact_BF',\n",
       " 'beh_interact_BB',\n",
       " 'subject_CW_17-08-23-L2',\n",
       " 'subject_CW_17-08-23-L4',\n",
       " 'subject_CW_17-08-24-L4',\n",
       " 'subject_CW_17-08-24-L5',\n",
       " 'subject_CW_17-08-26-L1',\n",
       " 'subject_CW_17-08-26-L2',\n",
       " 'subject_CW_17-08-26-L4',\n",
       " 'subject_CW_17-08-26-L5',\n",
       " 'subject_CW_17-08-26-L6',\n",
       " 'subject_CW_17-08-27-L5',\n",
       " 'subject_CW_17-08-28-L1',\n",
       " 'subject_CW_17-08-28-L2',\n",
       " 'subject_CW_17-08-29-L2',\n",
       " 'subject_CW_17-09-01-L1',\n",
       " 'subject_CW_17-09-01-L3',\n",
       " 'subject_CW_17-11-02-L3',\n",
       " 'subject_CW_17-11-03-L1',\n",
       " 'subject_CW_17-11-03-L3',\n",
       " 'subject_CW_17-11-03-L6',\n",
       " 'subject_CW_17-11-03-L7',\n",
       " 'subject_CW_17-11-04-L1',\n",
       " 'subject_CW_17-11-04-L3',\n",
       " 'subject_CW_17-11-04-L4',\n",
       " 'subject_CW_17-11-05-L6',\n",
       " 'subject_CW_17-11-06-L3',\n",
       " 'subject_CW_17-11-07-L3',\n",
       " 'subject_CW_17-11-07-L5',\n",
       " 'subject_CW_17-11-08-L1',\n",
       " 'subject_CW_17-11-08-L3',\n",
       " 'subject_CW_17-11-26-L1',\n",
       " 'subject_CW_17-11-26-L2',\n",
       " 'subject_CW_17-11-26-L3',\n",
       " 'subject_CW_17-11-26-L4',\n",
       " 'subject_CW_17-11-26-L5',\n",
       " 'subject_CW_17-11-27-L1',\n",
       " 'subject_CW_17-11-27-L3',\n",
       " 'subject_CW_17-11-27-L4',\n",
       " 'subject_CW_17-11-28-L4',\n",
       " 'subject_CW_17-11-28-L6',\n",
       " 'subject_CW_17-11-29-L1',\n",
       " 'subject_CW_17-11-29-L2',\n",
       " 'subject_CW_17-11-29-L3',\n",
       " 'subject_CW_17-11-29-L4',\n",
       " 'subject_CW_17-11-29-L5',\n",
       " 'subject_CW_17-11-29-L6',\n",
       " 'subject_CW_17-11-30-L2',\n",
       " 'subject_CW_17-12-11-L3']"
      ]
     },
     "execution_count": 30,
     "metadata": {},
     "output_type": "execute_result"
    }
   ],
   "source": [
    "one_hot_vars"
   ]
  },
  {
   "cell_type": "code",
   "execution_count": 31,
   "metadata": {},
   "outputs": [
    {
     "data": {
      "text/plain": [
       "47"
      ]
     },
     "execution_count": 31,
     "metadata": {},
     "output_type": "execute_result"
    }
   ],
   "source": [
    "62-15"
   ]
  },
  {
   "cell_type": "code",
   "execution_count": 32,
   "metadata": {},
   "outputs": [
    {
     "data": {
      "text/plain": [
       "6.214608098422191"
      ]
     },
     "execution_count": 32,
     "metadata": {},
     "output_type": "execute_result"
    }
   ],
   "source": [
    "-np.log(.002)"
   ]
  },
  {
   "cell_type": "code",
   "execution_count": null,
   "metadata": {},
   "outputs": [],
   "source": []
  }
 ],
 "metadata": {
  "kernelspec": {
   "display_name": "Python 3",
   "language": "python",
   "name": "python3"
  },
  "language_info": {
   "codemirror_mode": {
    "name": "ipython",
    "version": 3
   },
   "file_extension": ".py",
   "mimetype": "text/x-python",
   "name": "python",
   "nbconvert_exporter": "python",
   "pygments_lexer": "ipython3",
   "version": "3.7.3"
  }
 },
 "nbformat": 4,
 "nbformat_minor": 2
}
