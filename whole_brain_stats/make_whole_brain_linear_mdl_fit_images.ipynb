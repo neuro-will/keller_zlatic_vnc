{
 "cells": [
  {
   "cell_type": "markdown",
   "metadata": {},
   "source": [
    "A notebook to make p-value images from the results of whole_bain_linear_mdl_fit"
   ]
  },
  {
   "cell_type": "code",
   "execution_count": 1,
   "metadata": {},
   "outputs": [],
   "source": [
    "%load_ext autoreload\n",
    "%autoreload 2"
   ]
  },
  {
   "cell_type": "code",
   "execution_count": 2,
   "metadata": {},
   "outputs": [],
   "source": [
    "import copy\n",
    "import glob\n",
    "import os\n",
    "from pathlib import Path\n",
    "import pickle\n",
    "\n",
    "import imageio\n",
    "import matplotlib.pyplot as plt\n",
    "import numpy as np\n",
    "import pandas as pd\n",
    "import pyqtgraph as pg\n",
    "import tifffile\n",
    "\n",
    "from janelia_core.stats.regression import grouped_linear_regression_boot_strap_stats\n",
    "from janelia_core.dataprocessing.dataset import ROIDataset\n",
    "from janelia_core.utils.data_saving import append_ts\n",
    "from janelia_core.visualization.volume_visualization import make_z_plane_movie\n",
    "from janelia_core.visualization.custom_color_maps import make_red_green_c_map\n",
    "from janelia_core.visualization.volume_visualization import make_rgb_z_plane_movie\n",
    "from janelia_core.visualization.image_generation import rgb_3d_max_project\n",
    "from janelia_core.visualization.volume_visualization import visualize_rgb_max_project\n",
    "\n",
    "from keller_zlatic_vnc.visualization import gen_coef_p_vl_cmap\n",
    "from keller_zlatic_vnc.visualization import visualize_coef_p_vl_max_projs\n"
   ]
  },
  {
   "cell_type": "code",
   "execution_count": 3,
   "metadata": {},
   "outputs": [],
   "source": [
    "%matplotlib qt"
   ]
  },
  {
   "cell_type": "markdown",
   "metadata": {},
   "source": [
    "## Parameters go here"
   ]
  },
  {
   "cell_type": "code",
   "execution_count": 4,
   "metadata": {},
   "outputs": [],
   "source": [
    "ps = {}\n",
    "\n",
    "# Location of results of whole_brain_linear_mdl_fit\n",
    "ps['results_folder'] = r'A:\\projects\\keller_vnc\\results\\whole_brain_stats\\v7\\dff_2_10_10_long_bl'\n",
    "ps['results_file'] = 'after_reporting_ref_O_cut_off_time_3_231_mt_A9_dff_2_10_10_long_bl.pkl'\n",
    "\n",
    "# Specify type of images we generate\n",
    "ps['gen_coef_movies'] = True\n",
    "ps['gen_coef_tiffs'] = False\n",
    "\n",
    "ps['gen_p_value_movies'] = True\n",
    "ps['gen_p_value_tiffs'] = False\n",
    "\n",
    "ps['gen_filtered_coef_movies'] = False\n",
    "ps['gen_filtered_coef_tiffs'] = True\n",
    "\n",
    "ps['gen_combined_movies'] = True\n",
    "ps['gen_combined_tiffs'] = False\n",
    "ps['gen_combined_projs'] = True\n",
    "\n",
    "# Threshold p-values if we are making threshold images - we will make an image for each p-value\n",
    "ps['thresholds'] = [.05, .01, .002]\n",
    "\n",
    "# Specify percentiles we use for mapping min and max values to colors\n",
    "ps['data_clim_percs'] = [0.1, 99.9]\n",
    "\n",
    "# Specify the largest log p value that is assigned a non-black color in the combined maps\n",
    "ps['log_p_vl_cmap_max_vl'] = np.log10(.05)\n",
    "\n",
    "# Specify limits when plotting colormap of log p-values (this is for the colormap legend only, it does not affect the range\n",
    "# of p-values that are shown in the generated maps)\n",
    "ps['log_p_vls_cmap_range'] = (0, -3, -.01)\n",
    "\n",
    "\n",
    "# Specify percentiles we use for mapping min and max values to colors for mean image\n",
    "ps['mean_img_clim_percs'] = [0.1, 99.9]\n",
    "\n",
    "# Specify where the original datasets are located - we use these for determining the position of the rois\n",
    "ps['data_loc_file'] = r'A:\\projects\\keller_vnc\\data\\experiment_data_locations.xlsx'\n",
    "ps['dataset_folder'] = 'extracted'\n",
    "ps['dataset_base_folder'] = r'K:\\\\SV4'\n",
    "ps['roi_group'] = 'rois_1_5_5'\n",
    "\n",
    "# Specify where we save images\n",
    "ps['save_folder'] = r'C:\\Users\\bishopw\\Desktop\\test'\n",
    "ps['save_str'] = 'whole_brain_stats_images'\n"
   ]
  },
  {
   "cell_type": "markdown",
   "metadata": {},
   "source": [
    "## Load the results"
   ]
  },
  {
   "cell_type": "code",
   "execution_count": 5,
   "metadata": {},
   "outputs": [
    {
     "ename": "KeyError",
     "evalue": "'one_hot_vars'",
     "output_type": "error",
     "traceback": [
      "\u001b[1;31m---------------------------------------------------------------------------\u001b[0m",
      "\u001b[1;31mKeyError\u001b[0m                                  Traceback (most recent call last)",
      "\u001b[1;32m<ipython-input-5-c2d0317c89d5>\u001b[0m in \u001b[0;36m<module>\u001b[1;34m\u001b[0m\n\u001b[0;32m      3\u001b[0m     \u001b[0mrs\u001b[0m \u001b[1;33m=\u001b[0m \u001b[0mpickle\u001b[0m\u001b[1;33m.\u001b[0m\u001b[0mload\u001b[0m\u001b[1;33m(\u001b[0m\u001b[0mf\u001b[0m\u001b[1;33m)\u001b[0m\u001b[1;33m\u001b[0m\u001b[1;33m\u001b[0m\u001b[0m\n\u001b[0;32m      4\u001b[0m \u001b[1;33m\u001b[0m\u001b[0m\n\u001b[1;32m----> 5\u001b[1;33m \u001b[0mone_hot_vars\u001b[0m \u001b[1;33m=\u001b[0m \u001b[0mrs\u001b[0m\u001b[1;33m[\u001b[0m\u001b[1;34m'one_hot_vars'\u001b[0m\u001b[1;33m]\u001b[0m\u001b[1;33m\u001b[0m\u001b[1;33m\u001b[0m\u001b[0m\n\u001b[0m\u001b[0;32m      6\u001b[0m \u001b[0mbefore_bs_rs\u001b[0m \u001b[1;33m=\u001b[0m \u001b[0mrs\u001b[0m\u001b[1;33m[\u001b[0m\u001b[1;34m'before_bs_rs'\u001b[0m\u001b[1;33m]\u001b[0m\u001b[1;33m\u001b[0m\u001b[1;33m\u001b[0m\u001b[0m\n\u001b[0;32m      7\u001b[0m \u001b[0mafter_bs_rs\u001b[0m \u001b[1;33m=\u001b[0m \u001b[0mrs\u001b[0m\u001b[1;33m[\u001b[0m\u001b[1;34m'after_bs_rs'\u001b[0m\u001b[1;33m]\u001b[0m\u001b[1;33m\u001b[0m\u001b[1;33m\u001b[0m\u001b[0m\n",
      "\u001b[1;31mKeyError\u001b[0m: 'one_hot_vars'"
     ]
    }
   ],
   "source": [
    "rs_file = Path(ps['results_folder']) / ps['results_file']\n",
    "with open(rs_file, 'rb') as f:\n",
    "    rs = pickle.load(f)\n",
    "    \n",
    "one_hot_vars = rs['one_hot_vars']\n",
    "before_bs_rs = rs['before_bs_rs']\n",
    "after_bs_rs = rs['after_bs_rs']"
   ]
  },
  {
   "cell_type": "markdown",
   "metadata": {},
   "source": [
    "## Change the name of the mean variable to baseline"
   ]
  },
  {
   "cell_type": "code",
   "execution_count": null,
   "metadata": {},
   "outputs": [],
   "source": [
    "one_hot_vars[-1] = 'baseline'"
   ]
  },
  {
   "cell_type": "markdown",
   "metadata": {},
   "source": [
    "## Load a dataset\n",
    "\n",
    "Because the rois are in the same location for each dataset, we can just look at the first dataset to find the position of the rois"
   ]
  },
  {
   "cell_type": "code",
   "execution_count": null,
   "metadata": {},
   "outputs": [],
   "source": [
    "# Read in dataset locations\n",
    "def c_fcn(str):\n",
    "    return str.replace(\"'\", \"\")\n",
    "converters = {0:c_fcn, 1:c_fcn}\n",
    "\n",
    "data_locs = pd.read_excel(ps['data_loc_file'], header=1, usecols=[1, 2], converters=converters)\n",
    "\n",
    "# Read in the first dataset\n",
    "dataset_path = (Path(ps['dataset_base_folder']) / data_locs['Main folder'][0] / data_locs['Subfolder'][0] / \n",
    "                    Path(ps['dataset_folder']) / '*.pkl')\n",
    "dataset_file = glob.glob(str(dataset_path))[0]\n",
    "\n",
    "with open(dataset_file, 'rb') as f:\n",
    "    dataset = ROIDataset.from_dict(pickle.load(f))"
   ]
  },
  {
   "cell_type": "markdown",
   "metadata": {},
   "source": [
    "## Get ROI locations for first dataset"
   ]
  },
  {
   "cell_type": "code",
   "execution_count": null,
   "metadata": {},
   "outputs": [],
   "source": [
    "rois = dataset.roi_groups[ps['roi_group']]['rois']\n",
    "if len(rois) != len(before_bs_rs):\n",
    "    raise(RuntimeError('Number of rois in dataset does not match number of rois statistics are calculated for.'))\n",
    "n_rois = len(rois)"
   ]
  },
  {
   "cell_type": "markdown",
   "metadata": {},
   "source": [
    "## Calculate statistics"
   ]
  },
  {
   "cell_type": "code",
   "execution_count": null,
   "metadata": {},
   "outputs": [],
   "source": [
    "before_stats = [None]*n_rois\n",
    "after_stats = [None]*n_rois\n",
    "for rs_i, (before_rs, after_rs) in enumerate(zip(before_bs_rs, after_bs_rs)):\n",
    "    before_stats[rs_i] = grouped_linear_regression_boot_strap_stats(before_rs[0], .01)\n",
    "    after_stats[rs_i] = grouped_linear_regression_boot_strap_stats(after_rs[0], .01)\n",
    "    if rs_i % 10000 == 0: \n",
    "        print('Done with ' + str(rs_i) + ' rois.')"
   ]
  },
  {
   "cell_type": "markdown",
   "metadata": {},
   "source": [
    "## Load mean image"
   ]
  },
  {
   "cell_type": "code",
   "execution_count": null,
   "metadata": {},
   "outputs": [],
   "source": [
    "mn_img = dataset.stats['mean']"
   ]
  },
  {
   "cell_type": "markdown",
   "metadata": {},
   "source": [
    "## Generate and save images"
   ]
  },
  {
   "cell_type": "code",
   "execution_count": null,
   "metadata": {},
   "outputs": [],
   "source": [
    "# Make folders to save results into\n",
    "image_folder = append_ts(ps['save_str'])\n",
    "save_folder_path= Path(ps['save_folder']) / image_folder\n",
    "before_stim_folder = save_folder_path / 'before_pert_mdls'\n",
    "after_stim_folder = save_folder_path / 'after_pert_mdls'\n",
    "\n",
    "os.makedirs(save_folder_path)\n",
    "os.makedirs(before_stim_folder)\n",
    "os.makedirs(after_stim_folder)"
   ]
  },
  {
   "cell_type": "code",
   "execution_count": null,
   "metadata": {},
   "outputs": [],
   "source": [
    "# Save the mean image\n",
    "mn_image_path = save_folder_path / 'mean.tiff'\n",
    "\n",
    "imageio.mimwrite(mn_image_path, mn_img)\n",
    "\n",
    "mn_img_min_c_lim = np.percentile(mn_img,  ps['mean_img_clim_percs'][0])\n",
    "mn_img_max_c_lim = np.percentile(mn_img, ps['mean_img_clim_percs'][1])\n",
    "\n",
    "make_z_plane_movie(volume=mn_img, save_path= str(save_folder_path /  'mean.mp4'), \n",
    "                   cmap='gray', clim=(mn_img_min_c_lim, mn_img_max_c_lim),\n",
    "                   title = 'Mean Image', cbar_label='$F$')"
   ]
  },
  {
   "cell_type": "code",
   "execution_count": null,
   "metadata": {},
   "outputs": [],
   "source": [
    "im_shape = mn_img.shape\n",
    "\n",
    "n_vars = len(one_hot_vars)\n",
    "min_log_p_vl = np.log10(1/rs['ps']['n_bs_smps'])\n",
    "\n",
    "coef_cmap = make_red_green_c_map(1024)\n",
    "\n",
    "for v_i in range(n_vars):\n",
    "    var_name = one_hot_vars[v_i]\n",
    "    before_stim_base_name = var_name + '_before_pert_mdl'\n",
    "    after_stim_base_name = var_name + '_after_pert_mdl'\n",
    "    before_stim_title = var_name + ', before_pert_mdl'\n",
    "    after_stim_title = var_name + ', after_pert_mdl'\n",
    "    \n",
    "    var_before_stim_folder = before_stim_folder / var_name\n",
    "    var_after_stim_folder = after_stim_folder / var_name\n",
    "    os.makedirs(var_before_stim_folder)\n",
    "    os.makedirs(var_after_stim_folder)\n",
    "    \n",
    "    \n",
    "    before_stim_coefs = np.zeros(im_shape, dtype=np.float32) \n",
    "    after_stim_coefs = np.zeros(im_shape, dtype=np.float32) \n",
    "    \n",
    "    before_stim_p_vls = np.zeros(im_shape, dtype=np.float32)\n",
    "    after_stim_p_vls = np.zeros(im_shape, dtype=np.float32) \n",
    "    \n",
    "    for r_i in range(n_rois):\n",
    "        cur_voxel_inds = rois[r_i].voxel_inds\n",
    "        \n",
    "        before_stim_coefs[cur_voxel_inds] = before_bs_rs[r_i][1][v_i]\n",
    "        after_stim_coefs[cur_voxel_inds] = after_bs_rs[r_i][1][v_i]\n",
    "        \n",
    "        before_stim_p_vls[cur_voxel_inds] = before_stats[r_i]['non_zero_p'][v_i]\n",
    "        after_stim_p_vls[cur_voxel_inds] = after_stats[r_i]['non_zero_p'][v_i]\n",
    "        \n",
    "    if ps['gen_coef_movies'] or ps['gen_coef_tiffs']:\n",
    "        before_stim_file_name = before_stim_base_name + '_coefs'\n",
    "        after_stim_file_name = after_stim_base_name + '_coefs'\n",
    "        \n",
    "        if ps['gen_coef_tiffs']:\n",
    "            tifffile.imwrite(var_before_stim_folder / (before_stim_file_name + '.tiff'), before_stim_coefs, compress=6)\n",
    "            tifffile.imwrite(var_after_stim_folder / (after_stim_file_name + '.tiff'), after_stim_coefs, compress=6)\n",
    "    \n",
    "        if ps['gen_coef_movies']:\n",
    "            make_z_plane_movie(volume=before_stim_coefs, save_path=str(var_before_stim_folder / (before_stim_file_name + '.mp4')), \n",
    "                               cmap=coef_cmap, clim=None, clim_percs = ps['data_clim_percs'],\n",
    "                               title = before_stim_title, cbar_label='${\\Delta F}/{F}$')\n",
    "        \n",
    "            make_z_plane_movie(volume=after_stim_coefs, save_path=str(var_after_stim_folder / (after_stim_file_name + '.mp4')), \n",
    "                               cmap=coef_cmap, clim=None, clim_percs = ps['data_clim_percs'],\n",
    "                               title = after_stim_title, cbar_label='${\\Delta F}/{F}$')\n",
    "        \n",
    "    if ps['gen_p_value_movies'] or ps['gen_p_value_tiffs']:\n",
    "        before_stim_file_name = before_stim_base_name + '_p_vls'\n",
    "        after_stim_file_name = after_stim_base_name + '_p_vls'\n",
    "        \n",
    "        if ps['gen_p_value_tiffs']:\n",
    "            tifffile.imwrite(var_before_stim_folder / (before_stim_file_name + '.tiff'), before_stim_p_vls, compress=6)\n",
    "            tifffile.imwrite(var_after_stim_folder / (after_stim_file_name + '.tiff'), after_stim_p_vls, compress=6)\n",
    "             \n",
    "        if ps['gen_p_value_movies']:\n",
    "            before_stim_log_p_vls = np.log10(before_stim_p_vls)\n",
    "            before_stim_log_p_vls[before_stim_p_vls == 0] = 0\n",
    "            after_stim_log_p_vls = np.log10(after_stim_p_vls)\n",
    "            after_stim_log_p_vls[after_stim_p_vls == 0] = 0\n",
    "        \n",
    "            make_z_plane_movie(volume=before_stim_log_p_vls, save_path=str(var_before_stim_folder / (before_stim_file_name + '.mp4')), \n",
    "                               cmap='magma_r', clim=(min_log_p_vl, 0), title = before_stim_title, cbar_label='$\\log_{10}(p)$')\n",
    "            make_z_plane_movie(volume=after_stim_log_p_vls, save_path=str(var_after_stim_folder / (after_stim_file_name + '.mp4')), \n",
    "                               cmap='magma_r', clim=(min_log_p_vl, 0), title = after_stim_title, cbar_label='$\\log_{10}(p)$')\n",
    "    \n",
    "    if ps['gen_filtered_coef_movies'] or ps['gen_filtered_coef_tiffs']:\n",
    "        for th in ps['thresholds']:\n",
    "            before_stim_file_name = before_stim_base_name + '_coefs_p_th_' + str(th)\n",
    "            after_stim_file_name = after_stim_base_name + '_coefs_p_th_' + str(th)\n",
    "            \n",
    "            before_stim_coefs_th = copy.deepcopy(before_stim_coefs)\n",
    "            after_stim_coefs_th = copy.deepcopy(after_stim_coefs)\n",
    "            \n",
    "            before_stim_coefs_th[before_stim_p_vls > th] = 0\n",
    "            after_stim_coefs_th[after_stim_p_vls > th] = 0\n",
    "            \n",
    "            if ps['gen_filtered_coef_tiffs']:\n",
    "                tifffile.imwrite(var_before_stim_folder / (before_stim_file_name + '.tiff'), before_stim_coefs_th, compress=6)\n",
    "                tifffile.imwrite(var_after_stim_folder / (after_stim_file_name + '.tiff'), after_stim_coefs_th, compress=6)\n",
    "               \n",
    "            if ps['gen_filtered_coef_movies']:\n",
    "                make_z_plane_movie(volume=before_stim_coefs_th, save_path=str(var_before_stim_folder / (before_stim_file_name + '.mp4')), \n",
    "                                   cmap=coef_cmap, clim=None, clim_percs = ps['data_clim_percs'],\n",
    "                                   title = before_stim_title + '$, p \\leq$' + str(th), cbar_label='${\\Delta F}/{F}$')\n",
    "            \n",
    "                make_z_plane_movie(volume=after_stim_coefs_th, save_path=str(var_after_stim_folder / (after_stim_file_name + '.mp4')), \n",
    "                                   cmap=coef_cmap, clim=None, clim_percs = ps['data_clim_percs'],\n",
    "                                   title = after_stim_title + '$, p \\leq$' + str(th), cbar_label='${\\Delta F}/{F}$')\n",
    "            \n",
    "    if ps['gen_combined_movies'] or ps['gen_combined_tiffs'] or ps['gen_combined_projs']:\n",
    "        before_stim_file_name = before_stim_base_name + '_combined'\n",
    "        after_stim_file_name = after_stim_base_name + '_combined' \n",
    "        \n",
    "        before_stim_log_p_vls = np.log10(before_stim_p_vls)\n",
    "        before_stim_log_p_vls[before_stim_p_vls == 0] = 0\n",
    "        after_stim_log_p_vls = np.log10(after_stim_p_vls)\n",
    "        after_stim_log_p_vls[after_stim_p_vls == 0] = 0\n",
    "        \n",
    "        # Generate color maps for before and after variables\n",
    "        before_cmap = gen_coef_p_vl_cmap(coef_vls = before_stim_coefs, p_vls=before_stim_log_p_vls, \n",
    "                                         clim_percs = ps['data_clim_percs'], \n",
    "                                         max_p_vl=ps['log_p_vl_cmap_max_vl'])\n",
    "        after_cmap =  gen_coef_p_vl_cmap(coef_vls = after_stim_coefs, p_vls=after_stim_log_p_vls, \n",
    "                                         clim_percs = ps['data_clim_percs'],\n",
    "                                         max_p_vl=ps['log_p_vl_cmap_max_vl'])\n",
    "        \n",
    "        # Make RGB volumes \n",
    "        before_combined_vol = before_cmap[before_stim_coefs, before_stim_log_p_vls]\n",
    "        after_combined_vol = after_cmap[after_stim_coefs, after_stim_log_p_vls]\n",
    "        \n",
    "        before_combined_vol_uint8 = (before_combined_vol*255).astype(np.uint8)\n",
    "        after_combined_vol_uint8 = (after_combined_vol*255).astype(np.uint8)\n",
    "        \n",
    "        n_z_planes = before_stim_coefs.shape[0]\n",
    "        before_combined_planes = [np.squeeze(before_combined_vol[z, :,:,:]) for z in range(n_z_planes)]\n",
    "        after_combined_planes = [np.squeeze(after_combined_vol[z, :,:,:]) for z in range(n_z_planes)]\n",
    "        \n",
    "        # Save tiff stacks of RGB volumes\n",
    "        if ps['gen_combined_tiffs']:\n",
    "            tifffile.imwrite(var_before_stim_folder / (before_stim_file_name + '.tiff'), before_combined_vol_uint8, compress=6)\n",
    "            tifffile.imwrite(var_after_stim_folder / (after_stim_file_name + '.tiff'), after_combined_vol_uint8, compress=6)\n",
    "   \n",
    "            # Save colormaps for combined tiffs\n",
    "            before_combined_cmap_file = var_before_stim_folder / (before_stim_file_name + '_cmap.pkl')\n",
    "            with open(before_combined_cmap_file, 'wb') as f:\n",
    "                pickle.dump(before_cmap.to_dict(), f)\n",
    "            after_combined_cmap_file = var_after_stim_folder / (after_stim_file_name + '_cmap.pkl')\n",
    "            with open(after_combined_cmap_file, 'wb') as f:\n",
    "                pickle.dump(after_cmap.to_dict(), f)\n",
    "\n",
    "        # Make videos of RGB volumes\n",
    "        if ps['gen_combined_movies']:\n",
    "            make_rgb_z_plane_movie(z_imgs=before_combined_planes, \n",
    "                                   save_path=str(var_before_stim_folder / (before_stim_file_name + '.mp4')),\n",
    "                                   cmap=before_cmap, \n",
    "                                   title=before_stim_title,\n",
    "                                   cmap_param_vls=(None, np.arange(*ps['log_p_vls_cmap_range'])),\n",
    "                                   cmap_param_strs = ['coef vl ($\\Delta F / F$)', '$\\log(p)$'],\n",
    "                                   one_index_z_plane=True)\n",
    "                               \n",
    "            make_rgb_z_plane_movie(z_imgs=after_combined_planes, \n",
    "                                   save_path=str(var_after_stim_folder / (after_stim_file_name + '.mp4')),\n",
    "                                   cmap=after_cmap, \n",
    "                                   title=after_stim_title,\n",
    "                                   cmap_param_vls=(None, np.arange(*ps['log_p_vls_cmap_range'])),\n",
    "                                   cmap_param_strs = ['coef vl ($\\Delta F / F$)', '$\\log(p)$'], \n",
    "                                   one_index_z_plane=True)\n",
    "            \n",
    "        if ps['gen_combined_projs']:\n",
    "            \n",
    "            visualize_coef_p_vl_max_projs(vol=np.moveaxis(before_combined_vol, 0, 2), dim_m=np.asarray([1, 1, 5]), \n",
    "                                          cmap=before_cmap,\n",
    "                                          cmap_coef_range=None, cmap_p_vl_range=ps['log_p_vls_cmap_range'],\n",
    "                                          title=before_stim_title)\n",
    "            plt.savefig(var_before_stim_folder / (before_stim_file_name + '.png'), facecolor=(0,0,0))\n",
    "            plt.close()\n",
    "            \n",
    "            visualize_coef_p_vl_max_projs(vol=np.moveaxis(after_combined_vol, 0, 2), dim_m=np.asarray([1, 1, 5]), \n",
    "                                          cmap=after_cmap,\n",
    "                                          cmap_coef_range=None, cmap_p_vl_range=ps['log_p_vls_cmap_range'],\n",
    "                                          title=after_stim_title)\n",
    "            plt.savefig(var_after_stim_folder / (after_stim_file_name + '.png'), facecolor=(0,0,0))\n",
    "            plt.close()\n",
    "    \n",
    "    print('Done with making images for variable: ' + var_name)\n",
    "        \n",
    "        \n",
    "    "
   ]
  },
  {
   "cell_type": "code",
   "execution_count": null,
   "metadata": {},
   "outputs": [],
   "source": [
    "vars(before_cmap)"
   ]
  },
  {
   "cell_type": "code",
   "execution_count": null,
   "metadata": {},
   "outputs": [],
   "source": [
    "before_combined_vol_uint8 = (before_combined_vol*255).astype(np.uint8)"
   ]
  },
  {
   "cell_type": "code",
   "execution_count": null,
   "metadata": {},
   "outputs": [],
   "source": [
    "np.max(before_combined_vol_uint8)"
   ]
  },
  {
   "cell_type": "code",
   "execution_count": null,
   "metadata": {},
   "outputs": [],
   "source": [
    "ps['log_p_vls_cmap_range']"
   ]
  },
  {
   "cell_type": "code",
   "execution_count": null,
   "metadata": {},
   "outputs": [],
   "source": [
    "visualize_coef_p_vl_max_projs(vol=np.moveaxis(before_combined_vol, 0, 2), cmap=before_cmap,\n",
    "                                        cmap_coef_range=None, cmap_p_vl_range=(0, -3, -.01))\n",
    "plt.savefig(var_after_stim_folder / (after_stim_file_name + '.png'), facecolor=(0,0,0))"
   ]
  },
  {
   "cell_type": "code",
   "execution_count": null,
   "metadata": {},
   "outputs": [],
   "source": [
    "## Save debug stuff"
   ]
  },
  {
   "cell_type": "code",
   "execution_count": null,
   "metadata": {},
   "outputs": [],
   "source": [
    "save_file = r'C:\\Users\\bishopw\\Desktop\\debug.pkl'\n",
    "rs = {'before_stim_p_vls': before_stim_p_vls, \n",
    "      'after_stim_p_vls': after_stim_p_vls,\n",
    "      'before_stim_ceofs': before_stim_coefs,\n",
    "      'after_stim_coesfs': after_stim_coefs}\n",
    "\n",
    "with open(save_file, 'wb') as f:\n",
    "    pickle.dump(rs, f)"
   ]
  },
  {
   "cell_type": "markdown",
   "metadata": {},
   "source": [
    "## Load debug stuff"
   ]
  },
  {
   "cell_type": "code",
   "execution_count": null,
   "metadata": {},
   "outputs": [],
   "source": [
    "debug_file = r'C:\\Users\\bishopw\\Desktop\\debug.pkl'\n",
    "with open(debug_file, 'rb') as f:\n",
    "    rs = pickle.load(f)"
   ]
  },
  {
   "cell_type": "code",
   "execution_count": null,
   "metadata": {},
   "outputs": [],
   "source": [
    "before_stim_p_vls = rs['before_stim_p_vls']\n",
    "before_stim_coefs = rs['before_stim_ceofs']\n",
    "after_stim_p_vls = rs['after_stim_p_vls']\n",
    "after_stim_coefs = rs['after_stim_coesfs']"
   ]
  },
  {
   "cell_type": "code",
   "execution_count": null,
   "metadata": {},
   "outputs": [],
   "source": [
    "before_stim_log_p_vls = np.log10(before_stim_p_vls)\n",
    "before_stim_log_p_vls[before_stim_p_vls == 0] = 0\n",
    "after_stim_log_p_vls = np.log10(after_stim_p_vls)\n",
    "after_stim_log_p_vls[after_stim_p_vls == 0] = 0"
   ]
  },
  {
   "cell_type": "code",
   "execution_count": null,
   "metadata": {},
   "outputs": [],
   "source": [
    "# Generate color maps for before and after variables\n",
    "before_cmap = gen_coef_p_vl_cmap(coef_vls = before_stim_coefs, p_vls=before_stim_log_p_vls, max_p_vl=-2)\n",
    "after_cmap =  gen_coef_p_vl_cmap(coef_vls = after_stim_coefs, p_vls=after_stim_log_p_vls, max_p_vl=-2)\n",
    "\n",
    "before_combined_vol = before_cmap[before_stim_coefs, before_stim_log_p_vls]\n",
    "after_combined_vol = after_cmap[after_stim_coefs, after_stim_log_p_vls]\n",
    "\n",
    "n_z_planes = before_stim_coefs.shape[0]\n",
    "before_combined_planes = [np.squeeze(before_combined_vol[z, :,:,:]) for z in range(n_z_planes)]\n",
    "after_combined_planes = [np.squeeze(after_combined_vol[z, :,:,:]) for z in range(n_z_planes)]"
   ]
  },
  {
   "cell_type": "code",
   "execution_count": null,
   "metadata": {},
   "outputs": [],
   "source": [
    "cmap_im = visualize_coef_p_vl_max_projs(vol=np.moveaxis(before_combined_vol, 0, 2), dim_m = np.asarray([1, 1, 5]), cmap=before_cmap,\n",
    "                                        cmap_coef_range=None, cmap_p_vl_range=(0, -3, -.01))"
   ]
  },
  {
   "cell_type": "code",
   "execution_count": null,
   "metadata": {},
   "outputs": [],
   "source": [
    "make_rgb_z_plane_movie(z_imgs=before_combined_planes, \n",
    "                                   save_path=r'C:\\Users\\bishopw\\Desktop\\test1.mp4',\n",
    "                                   cmap=before_cmap, \n",
    "                                   title='test_title',\n",
    "                                   cmap_param_vls=(None, np.arange(*ps['log_p_vls_cmap_range'])),\n",
    "                                   cmap_param_strs = ['coef vl ($\\Delta F / F$)', '$\\log(p)$'],\n",
    "                                   one_index_z_plane=True)"
   ]
  },
  {
   "cell_type": "code",
   "execution_count": null,
   "metadata": {},
   "outputs": [],
   "source": []
  }
 ],
 "metadata": {
  "kernelspec": {
   "display_name": "Python 3",
   "language": "python",
   "name": "python3"
  },
  "language_info": {
   "codemirror_mode": {
    "name": "ipython",
    "version": 3
   },
   "file_extension": ".py",
   "mimetype": "text/x-python",
   "name": "python",
   "nbconvert_exporter": "python",
   "pygments_lexer": "ipython3",
   "version": "3.7.3"
  }
 },
 "nbformat": 4,
 "nbformat_minor": 2
}
