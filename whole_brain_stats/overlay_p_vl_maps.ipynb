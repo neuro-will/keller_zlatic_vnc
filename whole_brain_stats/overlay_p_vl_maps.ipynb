{
 "cells": [
  {
   "cell_type": "markdown",
   "metadata": {},
   "source": [
    "## Overlays maps of p-values.\n",
    "\n",
    "We assume the p-value maps have already been saved as tiff files."
   ]
  },
  {
   "cell_type": "code",
   "execution_count": 2,
   "metadata": {},
   "outputs": [
    {
     "name": "stdout",
     "output_type": "stream",
     "text": [
      "The autoreload extension is already loaded. To reload it, use:\n",
      "  %reload_ext autoreload\n"
     ]
    }
   ],
   "source": [
    "%load_ext autoreload\n",
    "%autoreload 2"
   ]
  },
  {
   "cell_type": "code",
   "execution_count": 3,
   "metadata": {},
   "outputs": [
    {
     "name": "stdout",
     "output_type": "stream",
     "text": [
      "Unable to import moviepy.  Minor functionality will not be available.\n"
     ]
    }
   ],
   "source": [
    "import matplotlib.pyplot as plt\n",
    "import numpy as np\n",
    "\n",
    "import tifffile\n",
    "\n",
    "from janelia_core.visualization.volume_visualization import make_rgb_three_ch_z_plane_movie"
   ]
  },
  {
   "cell_type": "code",
   "execution_count": 4,
   "metadata": {},
   "outputs": [],
   "source": [
    "%matplotlib qt"
   ]
  },
  {
   "cell_type": "code",
   "execution_count": 5,
   "metadata": {},
   "outputs": [],
   "source": [
    "# Paths to .tiff files to generate maps for\n",
    "r_file = '/Volumes/bishoplab/projects/keller_vnc/results/whole_brain_stats/organized/state_dependence/B/B_state_dependence_ref_Q_cut_off_time_5_4997_mt_both_dff_1_5_5_long_bl_p_vls.tiff'\n",
    "g_file = r'/Volumes/bishoplab/projects/keller_vnc/results/whole_brain_stats/organized/state_dependence/F/F_state_dependence_ref_Q_cut_off_time_5_4997_mt_both_dff_1_5_5_long_bl_p_vls.tiff'\n",
    "b_file = r'/Volumes/bishoplab/projects/keller_vnc/results/whole_brain_stats/organized/state_dependence/TL/TL_state_dependence_ref_Q_cut_off_time_5_4997_mt_both_dff_1_5_5_long_bl_p_vls.tiff'\n",
    "\n",
    "# Labels to associate with each color\n",
    "r_label = 'Backwards'\n",
    "g_label = 'Forwards'\n",
    "b_label = 'Turn Left'\n",
    "\n",
    "# Specify max p-value that receives a non-black color\n",
    "max_p_vl = .05\n",
    "\n",
    "# Specify lower percentile we use for choosing p-values that colors saturate at (values should be between 0 and 100)\n",
    "min_p_val_percentile = 1.0"
   ]
  },
  {
   "cell_type": "markdown",
   "metadata": {},
   "source": [
    "## Load the maps"
   ]
  },
  {
   "cell_type": "code",
   "execution_count": 6,
   "metadata": {},
   "outputs": [],
   "source": [
    "maps = [tifffile.imread(f) if f is not None else None for f in [r_file, g_file, b_file] ]"
   ]
  },
  {
   "cell_type": "markdown",
   "metadata": {},
   "source": [
    "## Convert the maps to log values"
   ]
  },
  {
   "cell_type": "code",
   "execution_count": 7,
   "metadata": {},
   "outputs": [],
   "source": [
    "log_maps = [np.log10(m) if m is not None else None for m in maps]"
   ]
  },
  {
   "cell_type": "markdown",
   "metadata": {},
   "source": [
    "## Merge the maps into an RGB color image"
   ]
  },
  {
   "cell_type": "code",
   "execution_count": 8,
   "metadata": {},
   "outputs": [],
   "source": [
    "for m in log_maps:\n",
    "    if m is not None:\n",
    "        map_shape = m.shape\n",
    "        \n",
    "rgb_map_shape = list(map_shape) + [3]"
   ]
  },
  {
   "cell_type": "code",
   "execution_count": 9,
   "metadata": {},
   "outputs": [],
   "source": [
    "labels = [r_label, g_label, b_label]\n",
    "\n",
    "rgb_map = np.zeros(rgb_map_shape)\n",
    "cmaps = [None]*3\n",
    "\n",
    "for m_i, m in enumerate(log_maps):\n",
    "    if m is not None:\n",
    "        p_min = np.nanpercentile(m, min_p_val_percentile)\n",
    "        p_max = np.log10(max_p_vl)\n",
    "        p_range = p_max - p_min\n",
    "    \n",
    "        norm_m = 1 - (m - p_min)/p_range\n",
    "        norm_m[norm_m > 1.0] = 1.0\n",
    "        norm_m[norm_m < 0.0] = 0.0\n",
    "        norm_m[np.isnan(norm_m)] = 0.0\n",
    "    \n",
    "        rgb_map[:,:,:, m_i] = norm_m\n",
    "        \n",
    "        cmaps[m_i] = {'label': labels[m_i], 'dark_vl': p_max, 'bright_vl': p_min}\n",
    "    \n",
    "    "
   ]
  },
  {
   "cell_type": "markdown",
   "metadata": {},
   "source": [
    "## Generate movie"
   ]
  },
  {
   "cell_type": "code",
   "execution_count": 10,
   "metadata": {},
   "outputs": [],
   "source": [
    "rgb_planes = [rgb_map[z_i, :,:,:] for z_i in range(rgb_map.shape[0])]"
   ]
  },
  {
   "cell_type": "code",
   "execution_count": 34,
   "metadata": {},
   "outputs": [
    {
     "name": "stdout",
     "output_type": "stream",
     "text": [
      "Unable to import moviepy.  Minor functionality will not be available.\n"
     ]
    },
    {
     "ename": "RuntimeError",
     "evalue": "Requested MovieWriter (ffmpeg) not available",
     "output_type": "error",
     "traceback": [
      "\u001b[0;31m---------------------------------------------------------------------------\u001b[0m",
      "\u001b[0;31mRuntimeError\u001b[0m                              Traceback (most recent call last)",
      "\u001b[0;32m<ipython-input-34-38a303349b41>\u001b[0m in \u001b[0;36m<module>\u001b[0;34m\u001b[0m\n\u001b[1;32m      1\u001b[0m make_rgb_three_ch_z_plane_movie(z_imgs=rgb_planes, save_path = r'/Users/bishopw/Desktop/movies/test.mp4', \n\u001b[0;32m----> 2\u001b[0;31m                                 cmaps=cmaps)\n\u001b[0m",
      "\u001b[0;32m~/Documents/Janelia_Research/Projects/janelia_core/janelia_core/visualization/volume_visualization.py\u001b[0m in \u001b[0;36mmake_rgb_three_ch_z_plane_movie\u001b[0;34m(z_imgs, save_path, fps, title, cmaps, figsize, facecolor, text_color, bitrate, one_index_z_plane)\u001b[0m\n\u001b[1;32m    110\u001b[0m \u001b[0;34m\u001b[0m\u001b[0m\n\u001b[1;32m    111\u001b[0m     \u001b[0;31m# Generate the movie\u001b[0m\u001b[0;34m\u001b[0m\u001b[0;34m\u001b[0m\u001b[0;34m\u001b[0m\u001b[0m\n\u001b[0;32m--> 112\u001b[0;31m     \u001b[0mWriter\u001b[0m \u001b[0;34m=\u001b[0m \u001b[0mmatplotlib\u001b[0m\u001b[0;34m.\u001b[0m\u001b[0manimation\u001b[0m\u001b[0;34m.\u001b[0m\u001b[0mwriters\u001b[0m\u001b[0;34m[\u001b[0m\u001b[0;34m'ffmpeg'\u001b[0m\u001b[0;34m]\u001b[0m\u001b[0;34m\u001b[0m\u001b[0;34m\u001b[0m\u001b[0m\n\u001b[0m\u001b[1;32m    113\u001b[0m     writer = Writer(fps=fps, bitrate=bitrate, codec='libx264', extra_args=['-pix_fmt', 'yuv420p',\n\u001b[1;32m    114\u001b[0m                                                                           '-crf', '18'])\n",
      "\u001b[0;32m~/opt/anaconda3/envs/keller_zlatic_vnc/lib/python3.7/site-packages/matplotlib/animation.py\u001b[0m in \u001b[0;36m__getitem__\u001b[0;34m(self, name)\u001b[0m\n\u001b[1;32m    164\u001b[0m         \u001b[0;32mif\u001b[0m \u001b[0mself\u001b[0m\u001b[0;34m.\u001b[0m\u001b[0mis_available\u001b[0m\u001b[0;34m(\u001b[0m\u001b[0mname\u001b[0m\u001b[0;34m)\u001b[0m\u001b[0;34m:\u001b[0m\u001b[0;34m\u001b[0m\u001b[0;34m\u001b[0m\u001b[0m\n\u001b[1;32m    165\u001b[0m             \u001b[0;32mreturn\u001b[0m \u001b[0mself\u001b[0m\u001b[0;34m.\u001b[0m\u001b[0m_registered\u001b[0m\u001b[0;34m[\u001b[0m\u001b[0mname\u001b[0m\u001b[0;34m]\u001b[0m\u001b[0;34m\u001b[0m\u001b[0;34m\u001b[0m\u001b[0m\n\u001b[0;32m--> 166\u001b[0;31m         \u001b[0;32mraise\u001b[0m \u001b[0mRuntimeError\u001b[0m\u001b[0;34m(\u001b[0m\u001b[0;34mf\"Requested MovieWriter ({name}) not available\"\u001b[0m\u001b[0;34m)\u001b[0m\u001b[0;34m\u001b[0m\u001b[0;34m\u001b[0m\u001b[0m\n\u001b[0m\u001b[1;32m    167\u001b[0m \u001b[0;34m\u001b[0m\u001b[0m\n\u001b[1;32m    168\u001b[0m \u001b[0;34m\u001b[0m\u001b[0m\n",
      "\u001b[0;31mRuntimeError\u001b[0m: Requested MovieWriter (ffmpeg) not available"
     ]
    }
   ],
   "source": [
    "make_rgb_three_ch_z_plane_movie(z_imgs=rgb_planes, save_path = r'/Users/bishopw/Desktop/movies/test.mp4', \n",
    "                                cmaps=cmaps)"
   ]
  },
  {
   "cell_type": "code",
   "execution_count": null,
   "metadata": {},
   "outputs": [],
   "source": [
    "plt.figure()\n",
    "plt.imshow(rgb_map[12,:,:])"
   ]
  },
  {
   "cell_type": "code",
   "execution_count": null,
   "metadata": {},
   "outputs": [],
   "source": [
    "plt.figure()\n",
    "plt.imshow(log_maps[1][16, :,:])\n",
    "plt.colorbar()"
   ]
  },
  {
   "cell_type": "code",
   "execution_count": null,
   "metadata": {},
   "outputs": [],
   "source": [
    "plt.figure()\n",
    "plt.imshow(rgb_map[16,:,:,1])"
   ]
  },
  {
   "cell_type": "code",
   "execution_count": null,
   "metadata": {},
   "outputs": [],
   "source": [
    "cmaps"
   ]
  },
  {
   "cell_type": "code",
   "execution_count": 17,
   "metadata": {},
   "outputs": [
    {
     "name": "stdout",
     "output_type": "stream",
     "text": [
      "Unable to import moviepy.  Minor functionality will not be available.\n"
     ]
    },
    {
     "data": {
      "text/plain": [
       "array([0.        , 0.11111111, 0.22222222, 0.33333333, 0.44444444,\n",
       "       0.55555556, 0.66666667, 0.77777778, 0.88888889, 1.        ])"
      ]
     },
     "execution_count": 17,
     "metadata": {},
     "output_type": "execute_result"
    }
   ],
   "source": [
    "np.linspace(0, 1, 10)"
   ]
  },
  {
   "cell_type": "code",
   "execution_count": null,
   "metadata": {},
   "outputs": [],
   "source": []
  }
 ],
 "metadata": {
  "kernelspec": {
   "display_name": "Python 3",
   "language": "python",
   "name": "python3"
  },
  "language_info": {
   "codemirror_mode": {
    "name": "ipython",
    "version": 3
   },
   "file_extension": ".py",
   "mimetype": "text/x-python",
   "name": "python",
   "nbconvert_exporter": "python",
   "pygments_lexer": "ipython3",
   "version": "3.7.3"
  }
 },
 "nbformat": 4,
 "nbformat_minor": 4
}
