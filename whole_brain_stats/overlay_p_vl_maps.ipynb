{
 "cells": [
  {
   "cell_type": "markdown",
   "metadata": {},
   "source": [
    "## Overlays maps of p-values.\n",
    "\n",
    "We assume the p-value maps have already been saved as tiff files."
   ]
  },
  {
   "cell_type": "code",
   "execution_count": 1,
   "metadata": {},
   "outputs": [],
   "source": [
    "%load_ext autoreload\n",
    "%autoreload 2"
   ]
  },
  {
   "cell_type": "code",
   "execution_count": 2,
   "metadata": {},
   "outputs": [],
   "source": [
    "import matplotlib.pyplot as plt\n",
    "import numpy as np\n",
    "\n",
    "from pathlib import Path\n",
    "import tifffile\n",
    "\n",
    "from janelia_core.visualization.volume_visualization import make_rgb_three_ch_z_plane_movie"
   ]
  },
  {
   "cell_type": "code",
   "execution_count": 3,
   "metadata": {},
   "outputs": [],
   "source": [
    "%matplotlib qt"
   ]
  },
  {
   "cell_type": "code",
   "execution_count": 12,
   "metadata": {},
   "outputs": [],
   "source": [
    "# Paths to .tiff files to generate maps for\n",
    "r_file = r'A:\\projects\\keller_vnc\\results\\whole_brain_stats\\v10_organized\\before_reporting\\T\\T_before_reporting_ref_O_cut_off_time_5_4997_mt_A4_dff_1_5_5_long_bl_p_vls.tiff'\n",
    "g_file = None #r'A:\\projects\\keller_vnc\\results\\whole_brain_stats\\v10_organized\\after_reporting\\F\\F_after_reporting_ref_O_cut_off_time_5_4997_mt_A4_dff_1_5_5_long_bl_p_vls.tiff'\n",
    "b_file = r'A:\\projects\\keller_vnc\\results\\whole_brain_stats\\v10_organized\\after_reporting\\T\\T_after_reporting_ref_O_cut_off_time_5_4997_mt_A4_dff_1_5_5_long_bl_p_vls.tiff'\n",
    "\n",
    "\n",
    "# Labels to associate with each color\n",
    "r_label = 'Before T'\n",
    "g_label = '' #'Forward'\n",
    "b_label = 'After T'\n",
    "\n",
    "\n",
    "# Specify max p-value that receives a non-black color\n",
    "max_p_vl = .05\n",
    "\n",
    "# Specify lower percentile we use for choosing p-values that colors saturate at (values should be between 0 and 100)\n",
    "min_p_val_percentile = 1.0\n",
    "\n",
    "# Folder to save results in \n",
    "save_folder = r'A:\\projects\\keller_vnc\\results\\whole_brain_stats\\overlays'\n",
    "save_name = 'before_v_after_T_1_5_5_co5_4997.mp4'"
   ]
  },
  {
   "cell_type": "markdown",
   "metadata": {},
   "source": [
    "## Load the maps"
   ]
  },
  {
   "cell_type": "code",
   "execution_count": 13,
   "metadata": {
    "scrolled": true
   },
   "outputs": [],
   "source": [
    "maps = [tifffile.imread(f) if f is not None else None for f in [r_file, g_file, b_file] ]"
   ]
  },
  {
   "cell_type": "markdown",
   "metadata": {},
   "source": [
    "## Convert the maps to log values"
   ]
  },
  {
   "cell_type": "code",
   "execution_count": 14,
   "metadata": {},
   "outputs": [],
   "source": [
    "log_maps = [np.log10(m) if m is not None else None for m in maps]"
   ]
  },
  {
   "cell_type": "markdown",
   "metadata": {},
   "source": [
    "## Merge the maps into an RGB color image"
   ]
  },
  {
   "cell_type": "code",
   "execution_count": 15,
   "metadata": {},
   "outputs": [],
   "source": [
    "for m in log_maps:\n",
    "    if m is not None:\n",
    "        map_shape = m.shape\n",
    "        \n",
    "rgb_map_shape = list(map_shape) + [3]"
   ]
  },
  {
   "cell_type": "code",
   "execution_count": 16,
   "metadata": {},
   "outputs": [],
   "source": [
    "labels = [r_label, g_label, b_label]\n",
    "\n",
    "rgb_map = np.zeros(rgb_map_shape)\n",
    "cmaps = [None]*3\n",
    "\n",
    "for m_i, m in enumerate(log_maps):\n",
    "    if m is not None:\n",
    "        p_min = np.nanpercentile(m, min_p_val_percentile)\n",
    "        p_max = np.log10(max_p_vl)\n",
    "        p_range = p_max - p_min\n",
    "    \n",
    "        norm_m = 1 - (m - p_min)/p_range\n",
    "        norm_m[norm_m > 1.0] = 1.0\n",
    "        norm_m[norm_m < 0.0] = 0.0\n",
    "        norm_m[np.isnan(norm_m)] = 0.0\n",
    "    \n",
    "        rgb_map[:,:,:, m_i] = norm_m\n",
    "        \n",
    "        cmaps[m_i] = {'label': labels[m_i], 'dark_vl': p_max, 'bright_vl': p_min}\n",
    "    \n",
    "    "
   ]
  },
  {
   "cell_type": "markdown",
   "metadata": {},
   "source": [
    "## Generate movie"
   ]
  },
  {
   "cell_type": "code",
   "execution_count": 17,
   "metadata": {},
   "outputs": [],
   "source": [
    "rgb_planes = [rgb_map[z_i, :,:,:] for z_i in range(rgb_map.shape[0])]"
   ]
  },
  {
   "cell_type": "code",
   "execution_count": 18,
   "metadata": {},
   "outputs": [],
   "source": [
    "save_path = str(Path(save_folder) / save_name)"
   ]
  },
  {
   "cell_type": "code",
   "execution_count": 19,
   "metadata": {},
   "outputs": [],
   "source": [
    "make_rgb_three_ch_z_plane_movie(z_imgs=rgb_planes, save_path=save_path, \n",
    "                                cmaps=cmaps)"
   ]
  },
  {
   "cell_type": "code",
   "execution_count": null,
   "metadata": {},
   "outputs": [],
   "source": []
  }
 ],
 "metadata": {
  "kernelspec": {
   "display_name": "Python 3",
   "language": "python",
   "name": "python3"
  },
  "language_info": {
   "codemirror_mode": {
    "name": "ipython",
    "version": 3
   },
   "file_extension": ".py",
   "mimetype": "text/x-python",
   "name": "python",
   "nbconvert_exporter": "python",
   "pygments_lexer": "ipython3",
   "version": "3.7.3"
  }
 },
 "nbformat": 4,
 "nbformat_minor": 4
}
