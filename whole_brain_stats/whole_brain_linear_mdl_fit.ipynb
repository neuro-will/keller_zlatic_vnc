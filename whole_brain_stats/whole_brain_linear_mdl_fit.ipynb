{
 "cells": [
  {
   "cell_type": "markdown",
   "metadata": {},
   "source": [
    "Code for fitting linear models "
   ]
  },
  {
   "cell_type": "code",
   "execution_count": 1,
   "metadata": {},
   "outputs": [],
   "source": [
    "%load_ext autoreload\n",
    "%autoreload 2 "
   ]
  },
  {
   "cell_type": "code",
   "execution_count": 2,
   "metadata": {},
   "outputs": [],
   "source": [
    "from pathlib import Path\n",
    "import pickle\n",
    "import time\n",
    "\n",
    "import matplotlib.pyplot as plt\n",
    "import numpy as np\n",
    "import pandas as pd\n",
    "\n",
    "from janelia_core.stats.regression import grouped_linear_regression_boot_strap\n",
    "from janelia_core.stats.regression import grouped_linear_regression_boot_strap_stats\n",
    "from janelia_core.utils.data_saving import append_ts\n",
    "\n",
    "from keller_zlatic_vnc.linear_modeling import format_whole_brain_annots_table\n",
    "from keller_zlatic_vnc.linear_modeling import one_hot_from_table"
   ]
  },
  {
   "cell_type": "markdown",
   "metadata": {},
   "source": [
    "## Parameters go here"
   ]
  },
  {
   "cell_type": "code",
   "execution_count": 3,
   "metadata": {},
   "outputs": [],
   "source": [
    "ps = {}\n",
    "ps['data_folder'] = r'\\\\dm11\\bishoplab\\projects\\keller_vnc\\results\\whole_brain_stats'\n",
    "#ps['data_file'] = r'dff_5_25_25_2019_10_22_10_58_11_107249.pkl'\n",
    "ps['data_file'] = r'dff_1_5_5_with_ep_2020_01_20_15_52_29_105309.pkl'\n",
    "\n",
    "# Specify variables that we predict from\n",
    "ps['beh_before'] = ['Q', 'F', 'B']\n",
    "ps['beh_after'] = ['Q', 'F', 'B']\n",
    "ps['enc_beh_interactions'] = True\n",
    "ps['enc_subjects'] = False\n",
    "ps['closure'] = True # True if the only events we consider must start with a before_beh \n",
    "                     # behavior and end with an beh_after behavior\n",
    "    \n",
    "# How many bootstrap samples we use in each analysis\n",
    "ps['n_bs_smps'] = 1000\n",
    "\n",
    "ps['save_folder'] = r'\\\\dm11\\bishoplab\\projects\\keller_vnc\\results\\whole_brain_stats'\n",
    "ps['save_str'] = 'whole_brain_boot_strap'"
   ]
  },
  {
   "cell_type": "markdown",
   "metadata": {},
   "source": [
    "## Load data"
   ]
  },
  {
   "cell_type": "code",
   "execution_count": 4,
   "metadata": {},
   "outputs": [],
   "source": [
    "data_path = Path(ps['data_folder']) / Path(ps['data_file'])\n",
    "with open(data_path, 'rb') as f:\n",
    "    data = pickle.load(f)\n",
    "event_annots = data['event_annots']"
   ]
  },
  {
   "cell_type": "code",
   "execution_count": 5,
   "metadata": {},
   "outputs": [
    {
     "data": {
      "text/html": [
       "<div>\n",
       "<style scoped>\n",
       "    .dataframe tbody tr th:only-of-type {\n",
       "        vertical-align: middle;\n",
       "    }\n",
       "\n",
       "    .dataframe tbody tr th {\n",
       "        vertical-align: top;\n",
       "    }\n",
       "\n",
       "    .dataframe thead th {\n",
       "        text-align: right;\n",
       "    }\n",
       "</style>\n",
       "<table border=\"1\" class=\"dataframe\">\n",
       "  <thead>\n",
       "    <tr style=\"text-align: right;\">\n",
       "      <th></th>\n",
       "      <th>Date and sample</th>\n",
       "      <th>Manipulation Start</th>\n",
       "      <th>Manipulation End</th>\n",
       "      <th>Precede Behavior</th>\n",
       "      <th>Time differ between end of PB from Stimulus ONSET</th>\n",
       "      <th>Time differ between start of PB from Stimulus ONSET</th>\n",
       "      <th>Succeed Behavior</th>\n",
       "      <th>Time difference between start of SB from Stimus ONSET</th>\n",
       "      <th>Interval Time</th>\n",
       "      <th>Transtion Time</th>\n",
       "      <th>dff_before</th>\n",
       "      <th>dff_after</th>\n",
       "    </tr>\n",
       "  </thead>\n",
       "  <tbody>\n",
       "    <tr>\n",
       "      <td>0</td>\n",
       "      <td>CW_17-08-23-L1</td>\n",
       "      <td>216</td>\n",
       "      <td>220</td>\n",
       "      <td>forward</td>\n",
       "      <td>1.0</td>\n",
       "      <td>34.0</td>\n",
       "      <td>back hunch</td>\n",
       "      <td>12.0</td>\n",
       "      <td>0.4010</td>\n",
       "      <td>4.8120</td>\n",
       "      <td>[0.054598767, 0.06078657, 0.03721669, 0.038682...</td>\n",
       "      <td>[0.048961718, 0.069584034, 0.03722217, 0.01916...</td>\n",
       "    </tr>\n",
       "    <tr>\n",
       "      <td>1</td>\n",
       "      <td>CW_17-08-23-L1</td>\n",
       "      <td>1795</td>\n",
       "      <td>1799</td>\n",
       "      <td>forward</td>\n",
       "      <td>2.0</td>\n",
       "      <td>18.0</td>\n",
       "      <td>back hunch</td>\n",
       "      <td>10.0</td>\n",
       "      <td>0.4010</td>\n",
       "      <td>4.0100</td>\n",
       "      <td>[0.03240184, 0.044733804, 0.024001548, 0.02218...</td>\n",
       "      <td>[0.036694378, -0.010718676, 0.025001233, 0.004...</td>\n",
       "    </tr>\n",
       "    <tr>\n",
       "      <td>2</td>\n",
       "      <td>CW_17-08-23-L2</td>\n",
       "      <td>114</td>\n",
       "      <td>119</td>\n",
       "      <td>forward</td>\n",
       "      <td>1.0</td>\n",
       "      <td>4.0</td>\n",
       "      <td>backward</td>\n",
       "      <td>6.0</td>\n",
       "      <td>0.3634</td>\n",
       "      <td>2.1804</td>\n",
       "      <td>[0.04760842, 0.080916405, 0.06997735, 0.038695...</td>\n",
       "      <td>[0.07838976, 0.093723916, 0.11073011, 0.063612...</td>\n",
       "    </tr>\n",
       "    <tr>\n",
       "      <td>3</td>\n",
       "      <td>CW_17-08-23-L2</td>\n",
       "      <td>2471</td>\n",
       "      <td>2476</td>\n",
       "      <td>forward</td>\n",
       "      <td>4.0</td>\n",
       "      <td>19.0</td>\n",
       "      <td>backward</td>\n",
       "      <td>6.0</td>\n",
       "      <td>0.3634</td>\n",
       "      <td>2.1804</td>\n",
       "      <td>[0.014568833, 0.018858666, 0.015992953, 0.0200...</td>\n",
       "      <td>[0.044470083, 0.04860921, 0.0775243, 0.0778435...</td>\n",
       "    </tr>\n",
       "    <tr>\n",
       "      <td>4</td>\n",
       "      <td>CW_17-08-23-L2</td>\n",
       "      <td>4644</td>\n",
       "      <td>4649</td>\n",
       "      <td>forward</td>\n",
       "      <td>5.0</td>\n",
       "      <td>10.0</td>\n",
       "      <td>backward</td>\n",
       "      <td>5.0</td>\n",
       "      <td>0.3634</td>\n",
       "      <td>1.8170</td>\n",
       "      <td>[0.05529377, 0.004222768, 0.028083421, 0.04188...</td>\n",
       "      <td>[0.14517678, 0.12293305, 0.1137105, 0.08082393...</td>\n",
       "    </tr>\n",
       "    <tr>\n",
       "      <td>...</td>\n",
       "      <td>...</td>\n",
       "      <td>...</td>\n",
       "      <td>...</td>\n",
       "      <td>...</td>\n",
       "      <td>...</td>\n",
       "      <td>...</td>\n",
       "      <td>...</td>\n",
       "      <td>...</td>\n",
       "      <td>...</td>\n",
       "      <td>...</td>\n",
       "      <td>...</td>\n",
       "      <td>...</td>\n",
       "    </tr>\n",
       "    <tr>\n",
       "      <td>273</td>\n",
       "      <td>CW_17-12-11-L3</td>\n",
       "      <td>2724</td>\n",
       "      <td>2729</td>\n",
       "      <td>quiet</td>\n",
       "      <td>NaN</td>\n",
       "      <td>NaN</td>\n",
       "      <td>forward</td>\n",
       "      <td>6.0</td>\n",
       "      <td>0.3756</td>\n",
       "      <td>2.2536</td>\n",
       "      <td>[0.044009406, 0.035009526, 0.06686162, 0.08253...</td>\n",
       "      <td>[0.06621941, 0.07362655, 0.051485617, 0.078565...</td>\n",
       "    </tr>\n",
       "    <tr>\n",
       "      <td>274</td>\n",
       "      <td>CW_17-12-11-L3</td>\n",
       "      <td>3445</td>\n",
       "      <td>3450</td>\n",
       "      <td>quiet</td>\n",
       "      <td>NaN</td>\n",
       "      <td>NaN</td>\n",
       "      <td>forward</td>\n",
       "      <td>9.0</td>\n",
       "      <td>0.3756</td>\n",
       "      <td>3.3804</td>\n",
       "      <td>[0.028829338, 0.019474708, 0.049133588, 0.0383...</td>\n",
       "      <td>[0.064021826, 0.076009095, 0.066019125, 0.0738...</td>\n",
       "    </tr>\n",
       "    <tr>\n",
       "      <td>275</td>\n",
       "      <td>CW_17-12-11-L3</td>\n",
       "      <td>4144</td>\n",
       "      <td>4149</td>\n",
       "      <td>quiet</td>\n",
       "      <td>NaN</td>\n",
       "      <td>NaN</td>\n",
       "      <td>forward</td>\n",
       "      <td>9.0</td>\n",
       "      <td>0.3756</td>\n",
       "      <td>3.3804</td>\n",
       "      <td>[0.014759668, 0.010661985, 0.03287143, 0.00906...</td>\n",
       "      <td>[0.030296793, 0.08557811, 0.091722935, 0.08743...</td>\n",
       "    </tr>\n",
       "    <tr>\n",
       "      <td>276</td>\n",
       "      <td>CW_17-12-11-L3</td>\n",
       "      <td>4845</td>\n",
       "      <td>4850</td>\n",
       "      <td>quiet</td>\n",
       "      <td>NaN</td>\n",
       "      <td>NaN</td>\n",
       "      <td>forward</td>\n",
       "      <td>10.0</td>\n",
       "      <td>0.3756</td>\n",
       "      <td>3.7560</td>\n",
       "      <td>[0.0056119356, -0.0070766318, 0.028791232, 0.0...</td>\n",
       "      <td>[0.052880257, 0.048214655, 0.0755431, 0.049634...</td>\n",
       "    </tr>\n",
       "    <tr>\n",
       "      <td>277</td>\n",
       "      <td>CW_17-12-11-L3</td>\n",
       "      <td>5545</td>\n",
       "      <td>5550</td>\n",
       "      <td>quiet</td>\n",
       "      <td>NaN</td>\n",
       "      <td>NaN</td>\n",
       "      <td>forward</td>\n",
       "      <td>10.0</td>\n",
       "      <td>0.3756</td>\n",
       "      <td>3.7560</td>\n",
       "      <td>[-0.0006676965, 0.039572056, 0.05991927, 0.015...</td>\n",
       "      <td>[0.059236363, 0.070986636, 0.095575005, 0.0753...</td>\n",
       "    </tr>\n",
       "  </tbody>\n",
       "</table>\n",
       "<p>242 rows × 12 columns</p>\n",
       "</div>"
      ],
      "text/plain": [
       "    Date and sample  Manipulation Start  Manipulation End Precede Behavior  \\\n",
       "0    CW_17-08-23-L1                 216               220          forward   \n",
       "1    CW_17-08-23-L1                1795              1799          forward   \n",
       "2    CW_17-08-23-L2                 114               119          forward   \n",
       "3    CW_17-08-23-L2                2471              2476          forward   \n",
       "4    CW_17-08-23-L2                4644              4649          forward   \n",
       "..              ...                 ...               ...              ...   \n",
       "273  CW_17-12-11-L3                2724              2729            quiet   \n",
       "274  CW_17-12-11-L3                3445              3450            quiet   \n",
       "275  CW_17-12-11-L3                4144              4149            quiet   \n",
       "276  CW_17-12-11-L3                4845              4850            quiet   \n",
       "277  CW_17-12-11-L3                5545              5550            quiet   \n",
       "\n",
       "     Time differ between end of PB from Stimulus ONSET  \\\n",
       "0                                                  1.0   \n",
       "1                                                  2.0   \n",
       "2                                                  1.0   \n",
       "3                                                  4.0   \n",
       "4                                                  5.0   \n",
       "..                                                 ...   \n",
       "273                                                NaN   \n",
       "274                                                NaN   \n",
       "275                                                NaN   \n",
       "276                                                NaN   \n",
       "277                                                NaN   \n",
       "\n",
       "     Time differ between start of PB from Stimulus ONSET Succeed Behavior   \\\n",
       "0                                                 34.0          back hunch   \n",
       "1                                                 18.0          back hunch   \n",
       "2                                                  4.0            backward   \n",
       "3                                                 19.0            backward   \n",
       "4                                                 10.0            backward   \n",
       "..                                                 ...                 ...   \n",
       "273                                                NaN             forward   \n",
       "274                                                NaN             forward   \n",
       "275                                                NaN             forward   \n",
       "276                                                NaN             forward   \n",
       "277                                                NaN             forward   \n",
       "\n",
       "     Time difference between start of SB from Stimus ONSET  Interval Time  \\\n",
       "0                                                 12.0             0.4010   \n",
       "1                                                 10.0             0.4010   \n",
       "2                                                  6.0             0.3634   \n",
       "3                                                  6.0             0.3634   \n",
       "4                                                  5.0             0.3634   \n",
       "..                                                 ...                ...   \n",
       "273                                                6.0             0.3756   \n",
       "274                                                9.0             0.3756   \n",
       "275                                                9.0             0.3756   \n",
       "276                                               10.0             0.3756   \n",
       "277                                               10.0             0.3756   \n",
       "\n",
       "     Transtion Time                                         dff_before  \\\n",
       "0            4.8120  [0.054598767, 0.06078657, 0.03721669, 0.038682...   \n",
       "1            4.0100  [0.03240184, 0.044733804, 0.024001548, 0.02218...   \n",
       "2            2.1804  [0.04760842, 0.080916405, 0.06997735, 0.038695...   \n",
       "3            2.1804  [0.014568833, 0.018858666, 0.015992953, 0.0200...   \n",
       "4            1.8170  [0.05529377, 0.004222768, 0.028083421, 0.04188...   \n",
       "..              ...                                                ...   \n",
       "273          2.2536  [0.044009406, 0.035009526, 0.06686162, 0.08253...   \n",
       "274          3.3804  [0.028829338, 0.019474708, 0.049133588, 0.0383...   \n",
       "275          3.3804  [0.014759668, 0.010661985, 0.03287143, 0.00906...   \n",
       "276          3.7560  [0.0056119356, -0.0070766318, 0.028791232, 0.0...   \n",
       "277          3.7560  [-0.0006676965, 0.039572056, 0.05991927, 0.015...   \n",
       "\n",
       "                                             dff_after  \n",
       "0    [0.048961718, 0.069584034, 0.03722217, 0.01916...  \n",
       "1    [0.036694378, -0.010718676, 0.025001233, 0.004...  \n",
       "2    [0.07838976, 0.093723916, 0.11073011, 0.063612...  \n",
       "3    [0.044470083, 0.04860921, 0.0775243, 0.0778435...  \n",
       "4    [0.14517678, 0.12293305, 0.1137105, 0.08082393...  \n",
       "..                                                 ...  \n",
       "273  [0.06621941, 0.07362655, 0.051485617, 0.078565...  \n",
       "274  [0.064021826, 0.076009095, 0.066019125, 0.0738...  \n",
       "275  [0.030296793, 0.08557811, 0.091722935, 0.08743...  \n",
       "276  [0.052880257, 0.048214655, 0.0755431, 0.049634...  \n",
       "277  [0.059236363, 0.070986636, 0.095575005, 0.0753...  \n",
       "\n",
       "[242 rows x 12 columns]"
      ]
     },
     "execution_count": 5,
     "metadata": {},
     "output_type": "execute_result"
    }
   ],
   "source": [
    "event_annots"
   ]
  },
  {
   "cell_type": "markdown",
   "metadata": {},
   "source": [
    "## Drop columns we don't need in the event annotation table"
   ]
  },
  {
   "cell_type": "code",
   "execution_count": 5,
   "metadata": {},
   "outputs": [],
   "source": [
    "event_annots = event_annots.drop(['Manipulation Start', \n",
    "                                  'Manipulation End',\n",
    "                                  'Time differ between end of PB from Stimulus ONSET',\n",
    "                                  'Time differ between start of PB from Stimulus ONSET',\n",
    "                                  'Time difference between start of SB from Stimus ONSET',\n",
    "                                  'Interval Time',\n",
    "                                  'Transtion Time'], axis='columns')"
   ]
  },
  {
   "cell_type": "markdown",
   "metadata": {},
   "source": [
    "## Format the event annotation table so it is ready to be passed to one_hot_from_table"
   ]
  },
  {
   "cell_type": "code",
   "execution_count": 6,
   "metadata": {},
   "outputs": [],
   "source": [
    "event_annots = format_whole_brain_annots_table(event_annots)"
   ]
  },
  {
   "cell_type": "markdown",
   "metadata": {},
   "source": [
    "## Enforce closure if needed"
   ]
  },
  {
   "cell_type": "code",
   "execution_count": 7,
   "metadata": {},
   "outputs": [
    {
     "name": "stdout",
     "output_type": "stream",
     "text": [
      "Enforcing closure.\n"
     ]
    }
   ],
   "source": [
    "if ps['closure']:\n",
    "    print('Enforcing closure.')\n",
    "    before_closure = np.asarray([b in set(ps['beh_before']) for b in event_annots['beh_before']], \n",
    "                                dtype=bool)\n",
    "    after_closure = np.asarray([b in set(ps['beh_after']) for b in event_annots['beh_after']], \n",
    "                                dtype=bool)\n",
    "    closure = np.logical_and(before_closure, after_closure)\n",
    "    \n",
    "    event_annots = event_annots[closure]"
   ]
  },
  {
   "cell_type": "markdown",
   "metadata": {},
   "source": [
    "## Get rid of events that have no behaviors of interest"
   ]
  },
  {
   "cell_type": "code",
   "execution_count": 8,
   "metadata": {},
   "outputs": [],
   "source": [
    "before_ignore = np.asarray([b not in set(ps['beh_before']) for b in event_annots['beh_before']], \n",
    "                                dtype=bool)\n",
    "after_ignore = np.asarray([b not in set(ps['beh_after']) for b in event_annots['beh_after']], \n",
    "                                dtype=bool)\n",
    "\n",
    "ignore_rows = np.logical_and(before_ignore, after_ignore)\n",
    "\n",
    "event_annots = event_annots[np.logical_not(ignore_rows)]"
   ]
  },
  {
   "cell_type": "markdown",
   "metadata": {},
   "source": [
    "## Get groups of data (a group corresponds to each subject)"
   ]
  },
  {
   "cell_type": "code",
   "execution_count": 9,
   "metadata": {},
   "outputs": [],
   "source": [
    "unique_ids = event_annots['subject_id'].unique()\n",
    "g = np.zeros(len(event_annots))\n",
    "for u_i, u_id in enumerate(unique_ids):\n",
    "    g[event_annots['subject_id'] == u_id] = u_i"
   ]
  },
  {
   "cell_type": "markdown",
   "metadata": {},
   "source": [
    "## Now get a one-hot encoding of variables we will fit too"
   ]
  },
  {
   "cell_type": "code",
   "execution_count": 10,
   "metadata": {},
   "outputs": [],
   "source": [
    "one_hot_data, one_hot_vars = one_hot_from_table(table=event_annots, beh_before=ps['beh_before'], beh_after=ps['beh_after'], \n",
    "                                                enc_subjects=ps['enc_subjects'], \n",
    "                                                enc_beh_interactions=ps['enc_beh_interactions'])\n",
    "\n",
    "# If we are not encoding subjects, we will include a mean in the regression, so we note that in the variable names\n",
    "if not ps['enc_subjects']:\n",
    "    one_hot_vars.append('mean')"
   ]
  },
  {
   "cell_type": "markdown",
   "metadata": {},
   "source": [
    "## Now perform regression, with a bootstrap, for all supervoxels"
   ]
  },
  {
   "cell_type": "code",
   "execution_count": 11,
   "metadata": {},
   "outputs": [],
   "source": [
    "dff_before = np.stack(event_annots['dff_before'].to_numpy())\n",
    "dff_after = np.stack(event_annots['dff_after'].to_numpy())\n",
    "\n",
    "n_supervoxels = dff_before.shape[1]\n",
    "\n",
    "par_data_before = [(dff_before[:, n_i], one_hot_data, g, ps['n_bs_smps'], not ps['enc_subjects']) \n",
    "                   for n_i in range(n_supervoxels)]\n",
    "\n",
    "par_data_after = [(dff_after[:, n_i], one_hot_data, g, ps['n_bs_smps'], not ps['enc_subjects']) \n",
    "                   for n_i in range(n_supervoxels)]"
   ]
  },
  {
   "cell_type": "code",
   "execution_count": 12,
   "metadata": {
    "scrolled": true
   },
   "outputs": [
    {
     "name": "stdout",
     "output_type": "stream",
     "text": [
      "Computaton time for 384628 super voxels: 143647.04658269882\n"
     ]
    }
   ],
   "source": [
    "t0 = time.time()\n",
    "\n",
    "before_bs_rs = [grouped_linear_regression_boot_strap(*args) for args in par_data_before]\n",
    "\n",
    "t1 = time.time()\n",
    "print('Computaton time for ' + str(n_supervoxels) + ' super voxels: ' + str(t1 - t0))"
   ]
  },
  {
   "cell_type": "code",
   "execution_count": 13,
   "metadata": {},
   "outputs": [
    {
     "name": "stdout",
     "output_type": "stream",
     "text": [
      "Computaton time for 384628 super voxels: 187455.83397960663\n"
     ]
    }
   ],
   "source": [
    "t0 = time.time()\n",
    "\n",
    "after_bs_rs = [grouped_linear_regression_boot_strap(*args) for args in par_data_after]\n",
    "\n",
    "t1 = time.time()\n",
    "print('Computaton time for ' + str(n_supervoxels) + ' super voxels: ' + str(t1 - t0))"
   ]
  },
  {
   "cell_type": "markdown",
   "metadata": {},
   "source": [
    "## Save results"
   ]
  },
  {
   "cell_type": "code",
   "execution_count": 14,
   "metadata": {},
   "outputs": [],
   "source": [
    "rs = {'ps': ps, 'one_hot_vars': one_hot_vars, 'before_bs_rs': before_bs_rs, 'after_bs_rs': after_bs_rs}\n",
    "\n",
    "save_name = append_ts(ps['save_str']) + '.pkl'\n",
    "save_path = Path(ps['save_folder']) / save_name\n",
    "with open(save_path, 'wb') as f:\n",
    "    pickle.dump(rs, f)"
   ]
  },
  {
   "cell_type": "code",
   "execution_count": 15,
   "metadata": {},
   "outputs": [
    {
     "data": {
      "text/plain": [
       "WindowsPath('//dm11/bishoplab/projects/keller_vnc/results/whole_brain_stats/whole_brain_boot_strap_2020_01_25_15_30_35_692930.pkl')"
      ]
     },
     "execution_count": 15,
     "metadata": {},
     "output_type": "execute_result"
    }
   ],
   "source": [
    "save_path"
   ]
  },
  {
   "cell_type": "code",
   "execution_count": null,
   "metadata": {},
   "outputs": [],
   "source": []
  }
 ],
 "metadata": {
  "kernelspec": {
   "display_name": "Python 3",
   "language": "python",
   "name": "python3"
  },
  "language_info": {
   "codemirror_mode": {
    "name": "ipython",
    "version": 3
   },
   "file_extension": ".py",
   "mimetype": "text/x-python",
   "name": "python",
   "nbconvert_exporter": "python",
   "pygments_lexer": "ipython3",
   "version": "3.7.3"
  }
 },
 "nbformat": 4,
 "nbformat_minor": 2
}
