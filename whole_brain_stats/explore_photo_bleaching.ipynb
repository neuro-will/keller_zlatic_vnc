{
 "cells": [
  {
   "cell_type": "markdown",
   "metadata": {},
   "source": [
    "This is a notebook to visualize photobleaching in our experiments"
   ]
  },
  {
   "cell_type": "code",
   "execution_count": 1,
   "metadata": {},
   "outputs": [],
   "source": [
    "%load_ext autoreload\n",
    "%autoreload 2"
   ]
  },
  {
   "cell_type": "code",
   "execution_count": 2,
   "metadata": {},
   "outputs": [],
   "source": [
    "%matplotlib qt"
   ]
  },
  {
   "cell_type": "code",
   "execution_count": 7,
   "metadata": {},
   "outputs": [],
   "source": [
    "import glob\n",
    "from pathlib import Path\n",
    "import pickle\n",
    "\n",
    "import matplotlib.pyplot as plt\n",
    "import numpy as np\n",
    "import pandas as pd\n",
    "\n",
    "from janelia_core.dataprocessing.baseline import percentile_filter_1d\n",
    "from janelia_core.dataprocessing.dataset import ROIDataset"
   ]
  },
  {
   "cell_type": "markdown",
   "metadata": {},
   "source": [
    "## Parameters go here"
   ]
  },
  {
   "cell_type": "code",
   "execution_count": 4,
   "metadata": {},
   "outputs": [],
   "source": [
    "ps = dict()\n",
    "\n",
    "# Location of excel file specifying where the data for each experiment is saved relative to the base folder\n",
    "ps['data_loc_file'] = r'A:\\projects\\keller_vnc\\data\\experiment_data_locations.xlsx'\n",
    "\n",
    "# Subfolder containing the dataset for each subject\n",
    "ps['dataset_folder'] = 'extracted'\n",
    "\n",
    "# Base folder where datasets are stored \n",
    "ps['dataset_base_folder'] =r'K:\\\\SV4'\n",
    "\n",
    "# Key in each dataset with flouresence data\n",
    "ps['fl_key'] = 'f_5_25_25'\n",
    "\n",
    "# Key in each dataset with baseline data\n",
    "ps['bl_key'] = 'bl_5_25_25'"
   ]
  },
  {
   "cell_type": "markdown",
   "metadata": {},
   "source": [
    "## Read in excel file specifying location of datasets"
   ]
  },
  {
   "cell_type": "code",
   "execution_count": 5,
   "metadata": {},
   "outputs": [],
   "source": [
    "def c_fcn(str):\n",
    "    return str.replace(\"'\", \"\")\n",
    "converters = {0:c_fcn, 1:c_fcn}\n",
    "\n",
    "data_locs = pd.read_excel(ps['data_loc_file'], header=1, usecols=[1, 2], converters=converters)"
   ]
  },
  {
   "cell_type": "markdown",
   "metadata": {},
   "source": [
    "## Calculate average $\\Delta F / F$ in all ROIS across time for each dataset"
   ]
  },
  {
   "cell_type": "code",
   "execution_count": 37,
   "metadata": {},
   "outputs": [
    {
     "name": "stdout",
     "output_type": "stream",
     "text": [
      "Done with dataset 1 of 5.\n",
      "Done with dataset 2 of 5.\n",
      "Done with dataset 3 of 5.\n",
      "Done with dataset 4 of 5.\n",
      "Done with dataset 5 of 5.\n"
     ]
    }
   ],
   "source": [
    "n_datasets = 5 #len(data_locs)\n",
    "vls = [None]*n_datasets\n",
    "for d_i in range(n_datasets):\n",
    "    # Read in the data for this subject\n",
    "    \n",
    "    data_main_folder = data_locs['Main folder'][d_i]\n",
    "    data_sub_folder = data_locs['Subfolder'][d_i]\n",
    "    \n",
    "    dataset_path = (Path(ps['dataset_base_folder']) / data_main_folder / data_sub_folder / Path(ps['dataset_folder']) / '*.pkl')\n",
    "    dataset_file = glob.glob(str(dataset_path))[0]\n",
    "    \n",
    "    with open(dataset_file, 'rb') as f:\n",
    "        dataset = ROIDataset.from_dict(pickle.load(f))\n",
    "        \n",
    "    fl_ts = dataset.ts_data[ps['fl_key']]['ts']\n",
    "    \n",
    "    fl_vls = dataset.ts_data[ps['fl_key']]['vls'][:]\n",
    "    fl_mean = np.mean(fl_vls, axis=1)\n",
    "    \n",
    "    bl_vls = dataset.ts_data[ps['bl_key']]['vls'][:]\n",
    "    bl_mean = np.mean(bl_vls, axis=1)\n",
    "    \n",
    "    new_bl = percentile_filter_1d(data=fl_mean, window_length=1001, filter_start=-500, write_offset=500, p=.5)\n",
    "    \n",
    "    vls[d_i] = {'fl_mean': fl_mean, 'bl_mean': bl_mean, 'new_bl': new_bl}\n",
    "    \n",
    "    print('Done with dataset ' + str(d_i + 1) + ' of ' + str(n_datasets) + '.')\n"
   ]
  },
  {
   "cell_type": "markdown",
   "metadata": {},
   "source": [
    "## View all time courses"
   ]
  },
  {
   "cell_type": "code",
   "execution_count": 36,
   "metadata": {},
   "outputs": [],
   "source": [
    "plt.figure(figsize=(12, 3))\n",
    "for s_i, s_vls in enumerate(vls):\n",
    "    plt.subplot(1, 5, s_i+1)\n",
    "    plt.plot(s_vls['fl_mean'])\n",
    "    plt.plot(s_vls['bl_mean'])\n",
    "    plt.plot(s_vls['new_bl'])"
   ]
  },
  {
   "cell_type": "code",
   "execution_count": null,
   "metadata": {},
   "outputs": [],
   "source": []
  }
 ],
 "metadata": {
  "kernelspec": {
   "display_name": "Python 3",
   "language": "python",
   "name": "python3"
  },
  "language_info": {
   "codemirror_mode": {
    "name": "ipython",
    "version": 3
   },
   "file_extension": ".py",
   "mimetype": "text/x-python",
   "name": "python",
   "nbconvert_exporter": "python",
   "pygments_lexer": "ipython3",
   "version": "3.7.3"
  }
 },
 "nbformat": 4,
 "nbformat_minor": 2
}
