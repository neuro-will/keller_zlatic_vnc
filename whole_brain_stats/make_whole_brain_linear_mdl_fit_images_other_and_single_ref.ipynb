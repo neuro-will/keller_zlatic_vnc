{
 "cells": [
  {
   "cell_type": "markdown",
   "metadata": {},
   "source": [
    "A notebook to make p-value images from the results of whole_bain_linear_mdl_fit"
   ]
  },
  {
   "cell_type": "code",
   "execution_count": 1,
   "metadata": {},
   "outputs": [],
   "source": [
    "%load_ext autoreload\n",
    "%autoreload 2"
   ]
  },
  {
   "cell_type": "code",
   "execution_count": 2,
   "metadata": {},
   "outputs": [],
   "source": [
    "import copy\n",
    "import glob\n",
    "import os\n",
    "from pathlib import Path\n",
    "import pickle\n",
    "\n",
    "import imageio\n",
    "import matplotlib.colors\n",
    "import matplotlib.pyplot as plt\n",
    "import numpy as np\n",
    "import pandas as pd\n",
    "import pyqtgraph as pg\n",
    "import tifffile\n",
    "\n",
    "from janelia_core.dataprocessing.dataset import ROIDataset\n",
    "from janelia_core.utils.data_saving import append_ts\n",
    "from janelia_core.visualization.volume_visualization import make_z_plane_movie\n",
    "from janelia_core.visualization.custom_color_maps import make_red_green_c_map\n",
    "from janelia_core.visualization.custom_color_maps import make_red_blue_green_c_map\n",
    "from janelia_core.visualization.volume_visualization import make_rgb_z_plane_movie\n",
    "from janelia_core.visualization.image_generation import rgb_3d_max_project\n",
    "from janelia_core.visualization.volume_visualization import comb_movies\n",
    "from janelia_core.visualization.volume_visualization import visualize_rgb_max_project\n",
    "\n",
    "from keller_zlatic_vnc.visualization import gen_coef_p_vl_cmap\n",
    "from keller_zlatic_vnc.visualization import visualize_coef_p_vl_max_projs\n"
   ]
  },
  {
   "cell_type": "code",
   "execution_count": 3,
   "metadata": {},
   "outputs": [],
   "source": [
    "%matplotlib qt"
   ]
  },
  {
   "cell_type": "markdown",
   "metadata": {},
   "source": [
    "## Parameters go here"
   ]
  },
  {
   "cell_type": "code",
   "execution_count": 4,
   "metadata": {},
   "outputs": [],
   "source": [
    "ps = {}\n",
    "\n",
    "# Location of results of whole_brain_linear_mdl_fit\n",
    "ps['results_folder'] = r'\\\\dm11\\bishoplab\\projects\\keller_vnc\\results\\whole_brain_stats'\n",
    "ps['results_file'] = 'decision_dependence_quiet_ref_2020_08_31_11_16_07_024481.pkl' # Quiet reference\n",
    "\n",
    "# A string to add to saved file names\n",
    "ps['save_supp_str'] = 'decision_dep_quiet_ref'\n",
    "\n",
    "# Specify type of images we generate\n",
    "ps['gen_coef_movies'] = False\n",
    "ps['gen_coef_tiffs'] =  False\n",
    "\n",
    "ps['gen_p_value_movies'] = False\n",
    "ps['gen_p_value_tiffs'] = False\n",
    "\n",
    "ps['gen_filtered_coef_movies'] = False\n",
    "ps['gen_filtered_coef_tiffs'] = False\n",
    "\n",
    "ps['gen_combined_movies'] =False\n",
    "ps['gen_combined_tiffs'] = False\n",
    "ps['gen_combined_projs'] = True\n",
    "\n",
    "ps['gen_uber_movies'] = True\n",
    "\n",
    "# Threshold p-values if we are making threshold images - we will make an image for each p-value\n",
    "ps['thresholds'] = [.05, .01, .001]\n",
    "\n",
    "# Specify percentiles we use for mapping min and max coef values to colors - value should be between 0 and 100\n",
    "ps['coef_clim_percs'] = [1, 99]\n",
    "\n",
    "# Specify fixed limits for coefficients; if provided coef_clim_percs is ignored.  None indicates this parameter is not used\n",
    "# and limits for coefficients are calculated based on coef_clim_percs. \n",
    "\n",
    "ps['coef_lims'] = [-1, 1]\n",
    "\n",
    "# Specify the type of colormap we use for coefficients\n",
    "ps['coef_cmap'] = 'gbr' # gr: green to red; gbr: green to blue to red\n",
    "\n",
    "# Specify lower percentile we use for mapping p-values to colors - should be between 0 and 100\n",
    "ps['min_p_val_perc'] = 1\n",
    "\n",
    "# Specify limits when plotting colormap of log p-values (this is for the colormap legend only, it does not affect the range\n",
    "# of p-values that are shown in the generated maps)\n",
    "#ps['log_p_vls_cmap_range'] = (0, -4, -.01)\n",
    "\n",
    "# Specify percentiles we use for mapping min and max values to colors for mean image - values should be between 0 and 100\n",
    "ps['mean_img_clim_percs'] = [0.1, 99.9]\n",
    "\n",
    "# Specify where the original datasets are located - we use these for determining the position of the rois\n",
    "ps['data_loc_file'] = r'A:\\projects\\keller_vnc\\data\\experiment_data_locations.xlsx'\n",
    "ps['dataset_folder'] = 'extracted'\n",
    "ps['dataset_base_folder'] = r'K:\\\\SV4'\n",
    "ps['roi_group'] = 'rois_1_5_5'\n",
    "\n",
    "# Specify where we save images\n",
    "ps['save_folder'] = ps['results_folder']\n",
    "\n",
    "\n"
   ]
  },
  {
   "cell_type": "markdown",
   "metadata": {},
   "source": [
    "## Load the results"
   ]
  },
  {
   "cell_type": "code",
   "execution_count": 5,
   "metadata": {},
   "outputs": [],
   "source": [
    "rs_file = Path(ps['results_folder']) / ps['results_file']\n",
    "with open(rs_file, 'rb') as f:\n",
    "    rs = pickle.load(f)"
   ]
  },
  {
   "cell_type": "code",
   "execution_count": 6,
   "metadata": {},
   "outputs": [],
   "source": [
    "test_behs = list(rs['beh_stats'].keys())\n",
    "n_rois = len(rs['beh_stats'][test_behs[0]]['p_values'])"
   ]
  },
  {
   "cell_type": "markdown",
   "metadata": {},
   "source": [
    "## Load a dataset\n",
    "\n",
    "Because the rois are in the same location for each dataset, we can just look at the first dataset to find the position of the rois"
   ]
  },
  {
   "cell_type": "code",
   "execution_count": 7,
   "metadata": {},
   "outputs": [],
   "source": [
    "# Read in dataset locations\n",
    "def c_fcn(str):\n",
    "    return str.replace(\"'\", \"\")\n",
    "converters = {0:c_fcn, 1:c_fcn}\n",
    "\n",
    "data_locs = pd.read_excel(ps['data_loc_file'], header=1, usecols=[1, 2], converters=converters)\n",
    "\n",
    "# Read in the first dataset\n",
    "dataset_path = (Path(ps['dataset_base_folder']) / data_locs['Main folder'][0] / data_locs['Subfolder'][0] / \n",
    "                    Path(ps['dataset_folder']) / '*.pkl')\n",
    "dataset_file = glob.glob(str(dataset_path))[0]\n",
    "\n",
    "with open(dataset_file, 'rb') as f:\n",
    "    dataset = ROIDataset.from_dict(pickle.load(f))"
   ]
  },
  {
   "cell_type": "markdown",
   "metadata": {},
   "source": [
    "## Get ROI locations for first dataset"
   ]
  },
  {
   "cell_type": "code",
   "execution_count": 8,
   "metadata": {},
   "outputs": [],
   "source": [
    "rois = dataset.roi_groups[ps['roi_group']]['rois']\n",
    "if len(rois) != n_rois:\n",
    "    raise(RuntimeError('Number of rois in dataset does not match number of rois statistics are calculated for.'))"
   ]
  },
  {
   "cell_type": "markdown",
   "metadata": {},
   "source": [
    "## Load mean image"
   ]
  },
  {
   "cell_type": "code",
   "execution_count": 9,
   "metadata": {},
   "outputs": [],
   "source": [
    "mn_img = dataset.stats['mean']"
   ]
  },
  {
   "cell_type": "markdown",
   "metadata": {},
   "source": [
    "## Define helper functions"
   ]
  },
  {
   "cell_type": "code",
   "execution_count": 10,
   "metadata": {},
   "outputs": [],
   "source": [
    "def coef_clims(vls, perc):\n",
    "    if ps['coef_lims'] is not None:\n",
    "        print('Using fixed coeficient color limits.')\n",
    "        return ps['coef_lims']\n",
    "    else:\n",
    "        small_v = np.percentile(vls, perc[0])\n",
    "        large_v = np.percentile(vls, perc[1])\n",
    "        v = np.max([np.abs(small_v), np.abs(large_v)])\n",
    "        return [-v, v]\n",
    "\n",
    "def p_vl_clims(vls, perc):\n",
    "    small_v = np.percentile(vls, perc)\n",
    "    return [small_v, 0]"
   ]
  },
  {
   "cell_type": "markdown",
   "metadata": {},
   "source": [
    "## Generate and save images"
   ]
  },
  {
   "cell_type": "code",
   "execution_count": 11,
   "metadata": {},
   "outputs": [],
   "source": [
    "# Make folder to save results into\n",
    "image_folder = Path(ps['results_file']).stem # Save images under a folder with the same name as the results\n",
    "\n",
    "if ps['coef_lims'] is not None:\n",
    "    extra_str = '_w_fixed_coef_lims'\n",
    "else:\n",
    "    extra_str = ''\n",
    "\n",
    "save_folder_path= Path(ps['save_folder']) / (image_folder + '_cmap_' + ps['coef_cmap'] + extra_str)\n",
    "\n",
    "os.makedirs(save_folder_path)\n"
   ]
  },
  {
   "cell_type": "code",
   "execution_count": 12,
   "metadata": {},
   "outputs": [
    {
     "data": {
      "text/plain": [
       "Bbox([[0.125, 0.19266371971185325], [0.7450000000000001, 0.7973362802881467]])"
      ]
     },
     "execution_count": 12,
     "metadata": {},
     "output_type": "execute_result"
    }
   ],
   "source": [
    "# Save the mean image\n",
    "mn_image_path = save_folder_path / 'mean.tiff'\n",
    "\n",
    "imageio.mimwrite(mn_image_path, mn_img)\n",
    "\n",
    "mn_img_min_c_lim = np.percentile(mn_img,  ps['mean_img_clim_percs'][0])\n",
    "mn_img_max_c_lim = np.percentile(mn_img, ps['mean_img_clim_percs'][1])\n",
    "\n",
    "make_z_plane_movie(volume=mn_img, save_path= str(save_folder_path /  'mean.mp4'), \n",
    "                   cmap='gray', clim=(mn_img_min_c_lim, mn_img_max_c_lim),\n",
    "                   title = 'Mean Image', cbar_label='$F$')"
   ]
  },
  {
   "cell_type": "code",
   "execution_count": 13,
   "metadata": {
    "scrolled": true
   },
   "outputs": [
    {
     "name": "stdout",
     "output_type": "stream",
     "text": [
      "Using fixed coeficient color limits.\n",
      "Using fixed coeficient color limits.\n"
     ]
    },
    {
     "name": "stderr",
     "output_type": "stream",
     "text": [
      "\r",
      "t:   0%|                                                                              | 0/86 [00:00<?, ?it/s, now=None]"
     ]
    },
    {
     "name": "stdout",
     "output_type": "stream",
     "text": [
      "Moviepy - Building video \\\\dm11\\bishoplab\\projects\\keller_vnc\\results\\whole_brain_stats\\decision_dependence_quiet_ref_2020_08_31_11_16_07_024481_cmap_gbr_w_fixed_coef_lims\\B_decision_dep_quiet_ref_coef_p_vls_comb.mp4.\n",
      "Moviepy - Writing video \\\\dm11\\bishoplab\\projects\\keller_vnc\\results\\whole_brain_stats\\decision_dependence_quiet_ref_2020_08_31_11_16_07_024481_cmap_gbr_w_fixed_coef_lims\\B_decision_dep_quiet_ref_coef_p_vls_comb.mp4\n",
      "\n"
     ]
    },
    {
     "name": "stderr",
     "output_type": "stream",
     "text": [
      "                                                                                                                       \r"
     ]
    },
    {
     "name": "stdout",
     "output_type": "stream",
     "text": [
      "Moviepy - Done !\n",
      "Moviepy - video ready \\\\dm11\\bishoplab\\projects\\keller_vnc\\results\\whole_brain_stats\\decision_dependence_quiet_ref_2020_08_31_11_16_07_024481_cmap_gbr_w_fixed_coef_lims\\B_decision_dep_quiet_ref_coef_p_vls_comb.mp4\n",
      "Done with making images for variable: B\n",
      "Using fixed coeficient color limits.\n",
      "Using fixed coeficient color limits.\n"
     ]
    },
    {
     "name": "stderr",
     "output_type": "stream",
     "text": [
      "\r",
      "t:   0%|                                                                              | 0/86 [00:00<?, ?it/s, now=None]"
     ]
    },
    {
     "name": "stdout",
     "output_type": "stream",
     "text": [
      "Moviepy - Building video \\\\dm11\\bishoplab\\projects\\keller_vnc\\results\\whole_brain_stats\\decision_dependence_quiet_ref_2020_08_31_11_16_07_024481_cmap_gbr_w_fixed_coef_lims\\F_decision_dep_quiet_ref_coef_p_vls_comb.mp4.\n",
      "Moviepy - Writing video \\\\dm11\\bishoplab\\projects\\keller_vnc\\results\\whole_brain_stats\\decision_dependence_quiet_ref_2020_08_31_11_16_07_024481_cmap_gbr_w_fixed_coef_lims\\F_decision_dep_quiet_ref_coef_p_vls_comb.mp4\n",
      "\n"
     ]
    },
    {
     "name": "stderr",
     "output_type": "stream",
     "text": [
      "                                                                                                                       \r"
     ]
    },
    {
     "name": "stdout",
     "output_type": "stream",
     "text": [
      "Moviepy - Done !\n",
      "Moviepy - video ready \\\\dm11\\bishoplab\\projects\\keller_vnc\\results\\whole_brain_stats\\decision_dependence_quiet_ref_2020_08_31_11_16_07_024481_cmap_gbr_w_fixed_coef_lims\\F_decision_dep_quiet_ref_coef_p_vls_comb.mp4\n",
      "Done with making images for variable: F\n",
      "Using fixed coeficient color limits.\n",
      "Using fixed coeficient color limits.\n"
     ]
    },
    {
     "name": "stderr",
     "output_type": "stream",
     "text": [
      "\r",
      "t:   0%|                                                                              | 0/86 [00:00<?, ?it/s, now=None]"
     ]
    },
    {
     "name": "stdout",
     "output_type": "stream",
     "text": [
      "Moviepy - Building video \\\\dm11\\bishoplab\\projects\\keller_vnc\\results\\whole_brain_stats\\decision_dependence_quiet_ref_2020_08_31_11_16_07_024481_cmap_gbr_w_fixed_coef_lims\\O_decision_dep_quiet_ref_coef_p_vls_comb.mp4.\n",
      "Moviepy - Writing video \\\\dm11\\bishoplab\\projects\\keller_vnc\\results\\whole_brain_stats\\decision_dependence_quiet_ref_2020_08_31_11_16_07_024481_cmap_gbr_w_fixed_coef_lims\\O_decision_dep_quiet_ref_coef_p_vls_comb.mp4\n",
      "\n"
     ]
    },
    {
     "name": "stderr",
     "output_type": "stream",
     "text": [
      "                                                                                                                       \r"
     ]
    },
    {
     "name": "stdout",
     "output_type": "stream",
     "text": [
      "Moviepy - Done !\n",
      "Moviepy - video ready \\\\dm11\\bishoplab\\projects\\keller_vnc\\results\\whole_brain_stats\\decision_dependence_quiet_ref_2020_08_31_11_16_07_024481_cmap_gbr_w_fixed_coef_lims\\O_decision_dep_quiet_ref_coef_p_vls_comb.mp4\n",
      "Done with making images for variable: O\n",
      "Using fixed coeficient color limits.\n",
      "Using fixed coeficient color limits.\n"
     ]
    },
    {
     "name": "stderr",
     "output_type": "stream",
     "text": [
      "\r",
      "t:   0%|                                                                              | 0/86 [00:00<?, ?it/s, now=None]"
     ]
    },
    {
     "name": "stdout",
     "output_type": "stream",
     "text": [
      "Moviepy - Building video \\\\dm11\\bishoplab\\projects\\keller_vnc\\results\\whole_brain_stats\\decision_dependence_quiet_ref_2020_08_31_11_16_07_024481_cmap_gbr_w_fixed_coef_lims\\P_decision_dep_quiet_ref_coef_p_vls_comb.mp4.\n",
      "Moviepy - Writing video \\\\dm11\\bishoplab\\projects\\keller_vnc\\results\\whole_brain_stats\\decision_dependence_quiet_ref_2020_08_31_11_16_07_024481_cmap_gbr_w_fixed_coef_lims\\P_decision_dep_quiet_ref_coef_p_vls_comb.mp4\n",
      "\n"
     ]
    },
    {
     "name": "stderr",
     "output_type": "stream",
     "text": [
      "                                                                                                                       \r"
     ]
    },
    {
     "name": "stdout",
     "output_type": "stream",
     "text": [
      "Moviepy - Done !\n",
      "Moviepy - video ready \\\\dm11\\bishoplab\\projects\\keller_vnc\\results\\whole_brain_stats\\decision_dependence_quiet_ref_2020_08_31_11_16_07_024481_cmap_gbr_w_fixed_coef_lims\\P_decision_dep_quiet_ref_coef_p_vls_comb.mp4\n",
      "Done with making images for variable: P\n",
      "Using fixed coeficient color limits.\n",
      "Using fixed coeficient color limits.\n"
     ]
    },
    {
     "name": "stderr",
     "output_type": "stream",
     "text": [
      "\r",
      "t:   0%|                                                                              | 0/86 [00:00<?, ?it/s, now=None]"
     ]
    },
    {
     "name": "stdout",
     "output_type": "stream",
     "text": [
      "Moviepy - Building video \\\\dm11\\bishoplab\\projects\\keller_vnc\\results\\whole_brain_stats\\decision_dependence_quiet_ref_2020_08_31_11_16_07_024481_cmap_gbr_w_fixed_coef_lims\\T_decision_dep_quiet_ref_coef_p_vls_comb.mp4.\n",
      "Moviepy - Writing video \\\\dm11\\bishoplab\\projects\\keller_vnc\\results\\whole_brain_stats\\decision_dependence_quiet_ref_2020_08_31_11_16_07_024481_cmap_gbr_w_fixed_coef_lims\\T_decision_dep_quiet_ref_coef_p_vls_comb.mp4\n",
      "\n"
     ]
    },
    {
     "name": "stderr",
     "output_type": "stream",
     "text": [
      "                                                                                                                       \r"
     ]
    },
    {
     "name": "stdout",
     "output_type": "stream",
     "text": [
      "Moviepy - Done !\n",
      "Moviepy - video ready \\\\dm11\\bishoplab\\projects\\keller_vnc\\results\\whole_brain_stats\\decision_dependence_quiet_ref_2020_08_31_11_16_07_024481_cmap_gbr_w_fixed_coef_lims\\T_decision_dep_quiet_ref_coef_p_vls_comb.mp4\n",
      "Done with making images for variable: T\n"
     ]
    }
   ],
   "source": [
    "im_shape = mn_img.shape\n",
    "\n",
    "n_vars = len(test_behs)\n",
    "\n",
    "#coef_cmap = make_red_green_c_map(10000)\n",
    "#coef_cmap = make_red_blue_green_c_map(n=10000)\n",
    "\n",
    "if ps['coef_cmap']  == 'gr':\n",
    "    coef_cmap = matplotlib.colors.LinearSegmentedColormap.from_list(name='red_to_green', \n",
    "                                                                colors=[(.00,  [1.0, 0.0, 0.0, 1.0]),\n",
    "                                                                        (.48,  [0.2, 0.0, 0.0, 1.0]),\n",
    "                                                                        (.50,  [0.0, 0.0, 0.0, 1.0]),\n",
    "                                                                        (.52,  [0.0, 0.2, 0.0, 1.0]),\n",
    "                                                                        (1.0,  [0.0, 1.0, 0.0, 1.0])],\n",
    "                                                                        N=10000)\n",
    "elif ps['coef_cmap'] == 'gbr':\n",
    "    coef_cmap = matplotlib.colors.LinearSegmentedColormap.from_list(name='red_to_blue_to_green', \n",
    "                                                                colors=[(.00,  [1.0, 0.0, 0.0, 1.0]),\n",
    "                                                                        (.45,  [0.2, 0.0, 0.0, 1.0]),\n",
    "                                                                        (.50,  [0.0, 0.0, 1.0, 1.0]),\n",
    "                                                                        (.55,  [0.0, 0.2, 0.0, 1.0]),\n",
    "                                                                        (1.0,  [0.0, 1.0, 0.0, 1.0])],\n",
    "                                                                        N=10000)\n",
    "else:\n",
    "    raise(ValueError('Unrecogonized value for ps[coef_cmap]'))\n",
    "\n",
    "for v_i in range(n_vars):\n",
    "    var_name = test_behs[v_i]\n",
    "    \n",
    "    coefs_image = np.zeros(im_shape, dtype=np.float32) \n",
    "    p_vls_image = np.zeros(im_shape, dtype=np.float32) \n",
    "\n",
    "    coefs = rs['beh_stats'][var_name]['beta']\n",
    "    p_vls = rs['beh_stats'][var_name]['p_values']\n",
    "    log_p_vls = np.log10(p_vls)\n",
    "    \n",
    "    for r_i in range(n_rois):\n",
    "        cur_voxel_inds = rois[r_i].voxel_inds\n",
    "        \n",
    "        coefs_image[cur_voxel_inds] = coefs[r_i]\n",
    "        p_vls_image[cur_voxel_inds] = p_vls[r_i]\n",
    "                \n",
    "    if ps['gen_coef_movies'] or ps['gen_coef_tiffs'] or ps['gen_uber_movies']:\n",
    "        coef_file_name = var_name + '_' + ps['save_supp_str'] + '_coefs'\n",
    "\n",
    "        if ps['gen_coef_tiffs']:\n",
    "            tifffile.imwrite(save_folder_path / (coef_file_name + '.tiff'), coefs_image, compress=6)\n",
    " \n",
    "        if ps['gen_coef_movies'] or ps['gen_uber_movies']:\n",
    "            coef_movie_path = str(save_folder_path / (coef_file_name + '.mp4'))\n",
    "            coef_movie_ax_pos = make_z_plane_movie(volume=coefs_image, save_path=coef_movie_path, \n",
    "                               cmap=coef_cmap, clim=coef_clims(coefs, ps['coef_clim_percs']), \n",
    "                               title = var_name, cbar_label='${\\Delta F}/{F}$',\n",
    "                               one_index_z_plane=True)\n",
    "        \n",
    "    if ps['gen_p_value_movies'] or ps['gen_p_value_tiffs'] or ps['gen_uber_movies']:\n",
    "        p_vl_file_name = var_name + '_' + ps['save_supp_str'] + '_p_vls'\n",
    "        \n",
    "        if ps['gen_p_value_tiffs']:\n",
    "            tifffile.imwrite(save_folder_path / (p_vl_file_name + '.tiff'), p_vls_image, compress=6)\n",
    "       \n",
    "        if ps['gen_p_value_movies'] or ps['gen_uber_movies']:\n",
    "            log_p_vls_image = np.log10(p_vls_image)\n",
    "            log_p_vls_image[p_vls_image == 0] = 0\n",
    "        \n",
    "            p_vl_movie_path = str(save_folder_path / (p_vl_file_name + '.mp4'))\n",
    "            make_z_plane_movie(volume=log_p_vls_image, save_path=p_vl_movie_path, \n",
    "                               cmap='magma_r', clim=p_vl_clims(log_p_vls, ps['min_p_val_perc']), \n",
    "                               title = var_name, cbar_label='$\\log_{10}(p)$',\n",
    "                               one_index_z_plane=True)\n",
    "    \n",
    "    if ps['gen_filtered_coef_movies'] or ps['gen_filtered_coef_tiffs']:\n",
    "        for th in ps['thresholds']:\n",
    "            filtered_coef_file_name = var_name + '_' + ps['save_supp_str'] + '_coefs_p_th_' + str(th)\n",
    "            \n",
    "            coefs_image_th = copy.deepcopy(coefs_image)\n",
    "            \n",
    "            coefs_image_th[p_vls_image > th] = 0\n",
    "            \n",
    "            if ps['gen_filtered_coef_tiffs']:\n",
    "                tifffile.imwrite(save_folder_path / (filtered_coef_file_name + '.tiff'), coefs_image_th, compress=6)\n",
    "     \n",
    "            if ps['gen_filtered_coef_movies']:\n",
    "                ax_pos = make_z_plane_movie(volume=coefs_image_th, save_path=str(save_folder_path / (filtered_coef_file_name + '.mp4')), \n",
    "                                   cmap=coef_cmap, clim=coef_clims(coefs, ps['coef_clim_percs']),\n",
    "                                   title = var_name + '$, p \\leq$' + str(th), cbar_label='${\\Delta F}/{F}$')\n",
    "            \n",
    "    if ps['gen_combined_movies'] or ps['gen_combined_tiffs'] or ps['gen_combined_projs'] or ps['gen_uber_movies']:\n",
    "        combined_file_name = var_name + '_' + ps['save_supp_str'] + '_combined'\n",
    "        \n",
    "        \n",
    "        \n",
    "        log_p_vls_image = np.log10(p_vls_image)\n",
    "        log_p_vls_image[p_vls_image == 0] = 0\n",
    "        \n",
    "        # Generate combined color map\n",
    "        combined_cmap = gen_coef_p_vl_cmap(coef_cmap=coef_cmap, \n",
    "                                           positive_clim=coef_clims(coefs, ps['coef_clim_percs'])[1],\n",
    "                                           plims=p_vl_clims(log_p_vls, ps['min_p_val_perc']))\n",
    "\n",
    "        # Make RGB volumes \n",
    "        combined_vol = combined_cmap[coefs_image, log_p_vls_image]\n",
    "        \n",
    "        combined_vol_uint8 = (combined_vol*255).astype(np.uint8)\n",
    "        \n",
    "        n_z_planes = coefs_image.shape[0]\n",
    "        combined_planes = [np.squeeze(combined_vol[z, :,:,:]) for z in range(n_z_planes)]\n",
    "        \n",
    "        # Save tiff stacks of RGB volumes\n",
    "        if ps['gen_combined_tiffs']:\n",
    "            tifffile.imwrite(save_folder_path / (combined_file_name + '.tiff'), combined_vol_uint8, compress=6)\n",
    "\n",
    "            # Save colormaps for combined tiffs\n",
    "            combined_cmap_file = save_folder_path / (combined_file_name + '_cmap.pkl')\n",
    "            with open(combined_cmap_file, 'wb') as f:\n",
    "                pickle.dump(combined_cmap.to_dict(), f)\n",
    "\n",
    "        # Make videos of RGB volumes\n",
    "        if ps['gen_combined_movies'] or ps['gen_uber_movies']:\n",
    "            comb_movie_path = str(save_folder_path / (combined_file_name + '.mp4'))\n",
    "            make_rgb_z_plane_movie(z_imgs=combined_planes, \n",
    "                                   save_path=comb_movie_path,\n",
    "                                   cmap=combined_cmap, \n",
    "                                   title=var_name,\n",
    "                                   cmap_param_vls=(None, np.arange(combined_cmap.param_vl_ranges[1][1], \n",
    "                                                                   combined_cmap.param_vl_ranges[1][0], .01)),\n",
    "                                   cmap_param_strs = ['coef vl ($\\Delta F / F$)', '$\\log(p)$'],\n",
    "                                   one_index_z_plane=True, \n",
    "                                   ax_position=coef_movie_ax_pos)\n",
    "                                           \n",
    "        if ps['gen_combined_projs']:\n",
    "            \n",
    "            visualize_coef_p_vl_max_projs(vol=np.moveaxis(combined_vol, 0, 2), dim_m=np.asarray([1, 1, 5]), \n",
    "                                          cmap=combined_cmap,\n",
    "                                          cmap_coef_range=None, cmap_p_vl_range=None, #ps['log_p_vls_cmap_range'],\n",
    "                                          title=var_name)\n",
    "            plt.savefig(save_folder_path / (combined_file_name + '.png'), facecolor=(0,0,0))\n",
    "            plt.close()\n",
    "                \n",
    "    if ps['gen_uber_movies']:\n",
    "        uber_file_name = var_name + '_' + ps['save_supp_str'] + '_coef_p_vls_comb'\n",
    "        uber_movie_path = save_folder_path / (uber_file_name + '.mp4')\n",
    "        comb_movies(movie_paths=[coef_movie_path, p_vl_movie_path, comb_movie_path], save_path=uber_movie_path)\n",
    "        \n",
    "        if not ps['gen_coef_movies']:\n",
    "            os.remove(coef_movie_path)\n",
    "        if not ps['gen_p_value_movies']:\n",
    "            os.remove(p_vl_movie_path)\n",
    "        if not ps['gen_combined_movies']:\n",
    "            os.remove(comb_movie_path)\n",
    "                \n",
    "    print('Done with making images for variable: ' + var_name)\n",
    "        \n",
    "        \n",
    "    "
   ]
  },
  {
   "cell_type": "code",
   "execution_count": 14,
   "metadata": {},
   "outputs": [
    {
     "data": {
      "text/plain": [
       "1"
      ]
     },
     "execution_count": 14,
     "metadata": {},
     "output_type": "execute_result"
    }
   ],
   "source": [
    "1"
   ]
  },
  {
   "cell_type": "code",
   "execution_count": 15,
   "metadata": {},
   "outputs": [
    {
     "data": {
      "text/plain": [
       "{'data_folder': 'A:\\\\projects\\\\keller_vnc\\\\results\\\\whole_brain_stats',\n",
       " 'data_file': 'dff_1_5_5_with_ep_2020_08_27_12_32_48_526097.pkl',\n",
       " 'cut_off_time': 3.656,\n",
       " 'manip_type': 'both',\n",
       " 'min_n_subjects_per_beh': 3,\n",
       " 'test_type': 'decision_dependence',\n",
       " 'beh_ref': 'Q',\n",
       " 'alpha': 0.05,\n",
       " 'save_folder': '\\\\\\\\dm11\\\\bishoplab\\\\projects\\\\keller_vnc\\\\results\\\\whole_brain_stats',\n",
       " 'save_str': 'decision_dep_quiet_ref'}"
      ]
     },
     "execution_count": 15,
     "metadata": {},
     "output_type": "execute_result"
    }
   ],
   "source": [
    "rs['ps']"
   ]
  },
  {
   "cell_type": "code",
   "execution_count": null,
   "metadata": {},
   "outputs": [],
   "source": []
  }
 ],
 "metadata": {
  "kernelspec": {
   "display_name": "Python 3",
   "language": "python",
   "name": "python3"
  },
  "language_info": {
   "codemirror_mode": {
    "name": "ipython",
    "version": 3
   },
   "file_extension": ".py",
   "mimetype": "text/x-python",
   "name": "python",
   "nbconvert_exporter": "python",
   "pygments_lexer": "ipython3",
   "version": "3.7.3"
  }
 },
 "nbformat": 4,
 "nbformat_minor": 2
}
