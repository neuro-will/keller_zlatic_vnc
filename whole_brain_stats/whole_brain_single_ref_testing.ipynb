{
 "cells": [
  {
   "cell_type": "markdown",
   "metadata": {},
   "source": [
    "Tests for state, decision or reporting dependence in DFF, referencing each behavior to another single condition (such as quiet) across all voxels in the brain"
   ]
  },
  {
   "cell_type": "code",
   "execution_count": 1,
   "metadata": {},
   "outputs": [],
   "source": [
    "%load_ext autoreload\n",
    "%autoreload 2"
   ]
  },
  {
   "cell_type": "code",
   "execution_count": 2,
   "metadata": {},
   "outputs": [],
   "source": [
    "from pathlib import Path\n",
    "import pickle\n",
    "from time import time\n",
    "\n",
    "import numpy as np\n",
    "import pandas as pd\n",
    "\n",
    "from janelia_core.utils.data_saving import append_ts\n",
    "from janelia_core.stats.regression import grouped_linear_regression_ols_estimator\n",
    "from janelia_core.stats.regression import grouped_linear_regression_acm_stats\n",
    "\n",
    "from keller_zlatic_vnc.data_processing import count_unique_subjs_per_transition\n",
    "from keller_zlatic_vnc.data_processing import extract_transitions\n",
    "from keller_zlatic_vnc.linear_modeling import one_hot_from_table"
   ]
  },
  {
   "cell_type": "markdown",
   "metadata": {},
   "source": [
    "## Parameters go here"
   ]
  },
  {
   "cell_type": "code",
   "execution_count": 3,
   "metadata": {},
   "outputs": [],
   "source": [
    "ps = {}\n",
    "\n",
    "# Specigy where the processed data (the produced of dff_extraction.ipynb) is stored\n",
    "ps['data_folder'] = r'A:\\projects\\keller_vnc\\results\\whole_brain_stats'\n",
    "ps['data_file'] = r'dff_1_5_5_with_ep_2020_08_27_12_32_48_526097.pkl'\n",
    "\n",
    "# Speccify a cut-off time\n",
    "ps['cut_off_time'] = 3.656\n",
    "\n",
    "# Specify manipulation target\n",
    "ps['manip_type'] = 'A4' # 'both', 'A4' or 'A9'\n",
    "\n",
    "# Specify thresholds for number of subjects we need for each behavior\n",
    "ps['min_n_subjects_per_beh'] = 3\n",
    "\n",
    "# Specify the test type  Options are:\n",
    "#\n",
    "#   state_dependence - tests if dff after manipulation is sensitive to behavior before\n",
    "#   prediction_dependence - tests if dff before manipulation is sensitive to behavior after\n",
    "#   decision_dependence - tests if dff during manipulation is sensitive to behavior after\n",
    "#   before_reporting - tests if dff before manipulation is sensitive to behavior before\n",
    "#   after_reporting - tests if dff after manipulation is sensitive to behavior after\n",
    "#\n",
    "ps['test_type'] = 'prediction_dependence'\n",
    "\n",
    "# Specify reference behavior\n",
    "ps['beh_ref'] = 'Q'\n",
    "\n",
    "# Alpha value for thresholding significance\n",
    "ps['alpha'] = .05\n",
    "\n",
    "# Specify where we save results\n",
    "ps['save_folder'] = r'\\\\dm11\\bishoplab\\projects\\keller_vnc\\results\\whole_brain_stats'\n",
    "ps['save_str'] = 'quiet_ref_A4'"
   ]
  },
  {
   "cell_type": "markdown",
   "metadata": {},
   "source": [
    "## Load the data"
   ]
  },
  {
   "cell_type": "code",
   "execution_count": 4,
   "metadata": {},
   "outputs": [],
   "source": [
    "data_path = Path(ps['data_folder']) / Path(ps['data_file'])\n",
    "with open(data_path, 'rb') as f:\n",
    "    file_data = pickle.load(f)\n",
    "data = file_data['event_annots']"
   ]
  },
  {
   "cell_type": "markdown",
   "metadata": {},
   "source": [
    "## Rename a few columns"
   ]
  },
  {
   "cell_type": "code",
   "execution_count": 5,
   "metadata": {},
   "outputs": [],
   "source": [
    "data.rename(columns = {'Smp ID':'subject_id', 'Beh Before':'beh_before', 'Beh After':'beh_after'}, inplace = True) "
   ]
  },
  {
   "cell_type": "markdown",
   "metadata": {},
   "source": [
    "## Apply cut-off time to define succeeding quiet behaviors"
   ]
  },
  {
   "cell_type": "code",
   "execution_count": 6,
   "metadata": {},
   "outputs": [],
   "source": [
    "_, data = extract_transitions(data, ps['cut_off_time'])"
   ]
  },
  {
   "cell_type": "markdown",
   "metadata": {},
   "source": [
    "## Down select for manipulation target if needed"
   ]
  },
  {
   "cell_type": "code",
   "execution_count": 7,
   "metadata": {},
   "outputs": [],
   "source": [
    "if ps['manip_type'] == 'A4':\n",
    "    data = data[data['Tgt Site'] == 'A4']\n",
    "elif ps['manip_type'] == 'A9':\n",
    "    data = data[data['Tgt Site'] == 'A9']"
   ]
  },
  {
   "cell_type": "markdown",
   "metadata": {},
   "source": [
    "## Remove behaviors which are not present in enough subjects\n",
    "\n",
    "After removing these behaviors, we keep only events which start and stop with retained behaviors"
   ]
  },
  {
   "cell_type": "code",
   "execution_count": 8,
   "metadata": {},
   "outputs": [],
   "source": [
    "trans_subj_cnts = count_unique_subjs_per_transition(data)"
   ]
  },
  {
   "cell_type": "code",
   "execution_count": 9,
   "metadata": {},
   "outputs": [],
   "source": [
    "if (ps['test_type'] == 'state_dependence') or (ps['test_type'] == 'before_reporting'):\n",
    "    after_beh_th = 0\n",
    "    before_beh_th = ps['min_n_subjects_per_beh']\n",
    "elif ((ps['test_type'] == 'prediction_dependence') or (ps['test_type'] == 'after_reporting') or \n",
    "      (ps['test_type'] == 'decision_dependence')):\n",
    "    after_beh_th = ps['min_n_subjects_per_beh']\n",
    "    before_beh_th = 0\n",
    "else:\n",
    "    raise(ValueError('The test_type ' + ps['test_type'] + ' is not recognized.'))"
   ]
  },
  {
   "cell_type": "code",
   "execution_count": 10,
   "metadata": {},
   "outputs": [],
   "source": [
    "after_beh_sum = trans_subj_cnts.sum()\n",
    "after_behs = [b for b in after_beh_sum[after_beh_sum >= after_beh_th].index]\n",
    "\n",
    "before_beh_sum = trans_subj_cnts.sum(1)\n",
    "before_behs = [b for b in before_beh_sum[before_beh_sum >= before_beh_th].index]\n",
    "\n",
    "before_keep_rows = data['beh_before'].apply(lambda x: x in set(before_behs))\n",
    "after_keep_rows = data['beh_after'].apply(lambda x: x in set(after_behs))\n",
    "data = data[before_keep_rows & after_keep_rows]"
   ]
  },
  {
   "cell_type": "markdown",
   "metadata": {},
   "source": [
    "## Update our list of before and after behaviors\n",
    "\n",
    "We do this since by removing rows, some of our control behaviors may no longer be present"
   ]
  },
  {
   "cell_type": "code",
   "execution_count": 11,
   "metadata": {},
   "outputs": [
    {
     "name": "stdout",
     "output_type": "stream",
     "text": [
      "Using the following before behaviors: ['B', 'F', 'H', 'O', 'Q', 'T']\n",
      "Using the following after behaviors: ['B', 'F', 'O', 'P', 'Q', 'T']\n",
      "['Number of rows remaining in data: 154']\n"
     ]
    }
   ],
   "source": [
    "new_trans_sub_cnts = count_unique_subjs_per_transition(data)\n",
    "new_after_beh_sum = new_trans_sub_cnts.sum()\n",
    "after_behs = [b for b in new_after_beh_sum[new_after_beh_sum > 0].index]\n",
    "new_before_beh_sum = new_trans_sub_cnts.sum(1)\n",
    "before_behs = [b for b in new_before_beh_sum[new_before_beh_sum>0].index]\n",
    "print('Using the following before behaviors: ' + str(before_behs))\n",
    "print('Using the following after behaviors: ' + str(after_behs))\n",
    "print(['Number of rows remaining in data: ' + str(len(data))])"
   ]
  },
  {
   "cell_type": "markdown",
   "metadata": {},
   "source": [
    "## Pull out $\\Delta F/F$"
   ]
  },
  {
   "cell_type": "code",
   "execution_count": 12,
   "metadata": {},
   "outputs": [
    {
     "name": "stdout",
     "output_type": "stream",
     "text": [
      "Extracting dff before the manipulation.\n"
     ]
    }
   ],
   "source": [
    "if (ps['test_type'] == 'state_dependence') or (ps['test_type'] == 'after_reporting'):\n",
    "    dff = np.stack(data['dff_after'].to_numpy())\n",
    "    print('Extracting dff after the manipulation.')\n",
    "elif (ps['test_type'] == 'prediction_dependence') or (ps['test_type'] == 'before_reporting'):\n",
    "    dff = np.stack(data['dff_before'].to_numpy())\n",
    "    print('Extracting dff before the manipulation.')\n",
    "elif ps['test_type'] == 'decision_dependence':\n",
    "    dff = np.stack(data['dff_during'].to_numpy())\n",
    "    print('Extracting dff during the manipulation.')\n",
    "else:\n",
    "    raise(ValueError('The test_type ' + ps['test_type'] + ' is not recognized.'))"
   ]
  },
  {
   "cell_type": "markdown",
   "metadata": {},
   "source": [
    "## Find grouping of data by subject"
   ]
  },
  {
   "cell_type": "code",
   "execution_count": 13,
   "metadata": {},
   "outputs": [],
   "source": [
    "unique_ids = data['subject_id'].unique()\n",
    "g = np.zeros(len(data))\n",
    "for u_i, u_id in enumerate(unique_ids):\n",
    "    g[data['subject_id'] == u_id] = u_i"
   ]
  },
  {
   "cell_type": "markdown",
   "metadata": {},
   "source": [
    "## Define a function for calculating stats"
   ]
  },
  {
   "cell_type": "code",
   "execution_count": 14,
   "metadata": {},
   "outputs": [],
   "source": [
    "def stats_f(x_i, y_i, g_i, alpha_i):\n",
    "    beta, acm, n_grps = grouped_linear_regression_ols_estimator(x=x_i, y=y_i, g=g_i)\n",
    "    stats = grouped_linear_regression_acm_stats(beta=beta, acm=acm, n_grps=n_grps, alpha=alpha_i)\n",
    "    stats['beta'] = beta\n",
    "    return stats"
   ]
  },
  {
   "cell_type": "markdown",
   "metadata": {},
   "source": [
    "## Fit models and calculate stats"
   ]
  },
  {
   "cell_type": "code",
   "execution_count": 15,
   "metadata": {},
   "outputs": [],
   "source": [
    "before_behs_ref = list(set(before_behs).difference(ps['beh_ref']))\n",
    "after_behs_ref = list(set(after_behs).difference(ps['beh_ref']))\n",
    "before_behs_ref = sorted(before_behs_ref)\n",
    "after_behs_ref = sorted(after_behs_ref)\n",
    "\n",
    "n_before_behs = len(before_behs_ref)\n",
    "n_after_behs = len(after_behs_ref)\n",
    "\n",
    "one_hot_data_ref, one_hot_vars_ref = one_hot_from_table(data, beh_before=before_behs_ref, beh_after=after_behs_ref)\n",
    "one_hot_data_ref = np.concatenate([one_hot_data_ref, np.ones([one_hot_data_ref.shape[0], 1])], axis=1)\n",
    "one_hot_vars_ref = one_hot_vars_ref + ['ref']"
   ]
  },
  {
   "cell_type": "code",
   "execution_count": 16,
   "metadata": {},
   "outputs": [],
   "source": [
    "n_rois = dff.shape[1]\n",
    "full_stats = [stats_f(x_i=one_hot_data_ref, y_i=dff[:, r_i], g_i=g, alpha_i=ps['alpha']) for r_i in range(n_rois)]"
   ]
  },
  {
   "cell_type": "markdown",
   "metadata": {},
   "source": [
    "## Package results"
   ]
  },
  {
   "cell_type": "code",
   "execution_count": 17,
   "metadata": {},
   "outputs": [],
   "source": [
    "if (ps['test_type'] == 'state_dependence') or (ps['test_type'] == 'before_reporting'):\n",
    "        test_behs = before_behs_ref\n",
    "        pull_inds = range(0, n_before_behs)\n",
    "        #test_betas = beta[0:n_before_behs]\n",
    "       # test_c_ints = stats['c_ints'][:, 0:n_before_behs]\n",
    "        #test_sig = stats['non_zero'][0:n_before_behs]\n",
    "elif ((ps['test_type'] == 'prediction_dependence') or (ps['test_type'] == 'after_reporting') or\n",
    "      (ps['test_type'] == 'decision_dependence')):\n",
    "        test_behs = after_behs_ref\n",
    "        pull_inds = range(n_before_behs, n_before_behs+n_after_behs)\n",
    "       # test_betas = beta[n_before_behs:n_before_behs+n_after_behs]\n",
    "        #test_c_ints = stats['c_ints'][:, n_before_behs:n_before_behs+n_after_behs]\n",
    "       # test_sig = stats['non_zero'][n_before_behs:n_before_behs+n_after_behs]\n",
    "else:\n",
    "        raise(ValueError('The test_type ' + ps['test_type'] + ' is not recognized.'))\n",
    "        \n",
    "beh_stats = dict()\n",
    "for b, p_i in zip(test_behs, pull_inds):\n",
    "    beh_stats[b] = dict()\n",
    "    beh_stats[b]['p_values'] = [rs_dict['non_zero_p'][p_i] for rs_dict in full_stats]\n",
    "    beh_stats[b]['beta'] = [rs_dict['beta'][p_i] for rs_dict in full_stats]"
   ]
  },
  {
   "cell_type": "markdown",
   "metadata": {},
   "source": [
    "## Save results"
   ]
  },
  {
   "cell_type": "code",
   "execution_count": 18,
   "metadata": {},
   "outputs": [],
   "source": [
    "save_name = append_ts(ps['test_type'] + '_' + ps['save_str']) + '.pkl'\n",
    "save_path = Path(ps['save_folder']) / save_name"
   ]
  },
  {
   "cell_type": "code",
   "execution_count": 19,
   "metadata": {},
   "outputs": [],
   "source": [
    "rs = dict()\n",
    "rs['beh_stats'] = beh_stats\n",
    "rs['full_stats'] = full_stats\n",
    "rs['ps'] = ps"
   ]
  },
  {
   "cell_type": "code",
   "execution_count": 20,
   "metadata": {},
   "outputs": [],
   "source": [
    "with open(save_path, 'wb') as f:\n",
    "    pickle.dump(rs, f)"
   ]
  },
  {
   "cell_type": "code",
   "execution_count": 21,
   "metadata": {},
   "outputs": [
    {
     "name": "stdout",
     "output_type": "stream",
     "text": [
      "Saved results to: \\\\dm11\\bishoplab\\projects\\keller_vnc\\results\\whole_brain_stats\\prediction_dependence_quiet_ref_A4_2020_09_26_22_03_44_324504.pkl\n"
     ]
    }
   ],
   "source": [
    "print('Saved results to: ' + str(save_path))"
   ]
  },
  {
   "cell_type": "code",
   "execution_count": 22,
   "metadata": {},
   "outputs": [
    {
     "data": {
      "text/plain": [
       "{'ps': {'data_loc_file': 'A:\\\\projects\\\\keller_vnc\\\\data\\\\experiment_data_locations.xlsx',\n",
       "  'trans_file': 'A:\\\\projects\\\\keller_vnc\\\\data\\\\extracted_dff_v2\\\\transition_list.xlsx',\n",
       "  'dataset_folder': 'extracted',\n",
       "  'dataset_base_folder': 'K:\\\\\\\\SV4',\n",
       "  'f_ts_str': 'f_1_5_5',\n",
       "  'bl_ts_str': 'bl_1_5_5',\n",
       "  'n_smps': 3,\n",
       "  'background': 100,\n",
       "  'ep': 20,\n",
       "  'save_folder': 'A:\\\\projects\\\\keller_vnc\\\\results\\\\whole_brain_stats',\n",
       "  'save_str': 'dff_1_5_5_with_ep'},\n",
       " 'event_annots':          subject_id beh_before beh_after Tgt Site  Trans Time  Int Time  \\\n",
       " 0    CW_17-08-23-L1          F         P       A4      4.8120    0.4010   \n",
       " 1    CW_17-08-23-L1          F         P       A4      4.0100    0.4010   \n",
       " 2    CW_17-08-23-L2          F         B       A4      2.1804    0.3634   \n",
       " 3    CW_17-08-23-L2          F         B       A4      2.1804    0.3634   \n",
       " 4    CW_17-08-23-L2          F         B       A4      1.8170    0.3634   \n",
       " ..              ...        ...       ...      ...         ...       ...   \n",
       " 256  CW_17-12-11-L3          Q         F       A4      2.2536    0.3756   \n",
       " 257  CW_17-12-11-L3          Q         F       A4      3.3804    0.3756   \n",
       " 258  CW_17-12-11-L3          Q         F       A4      3.3804    0.3756   \n",
       " 259  CW_17-12-11-L3          Q         F       A4      3.7560    0.3756   \n",
       " 260  CW_17-12-11-L3          Q         F       A4      3.7560    0.3756   \n",
       " \n",
       "      Manipulation Start  Manipulation End  \\\n",
       " 0                   216               220   \n",
       " 1                  1795              1799   \n",
       " 2                   114               119   \n",
       " 3                  2471              2476   \n",
       " 4                  4644              4649   \n",
       " ..                  ...               ...   \n",
       " 256                2724              2729   \n",
       " 257                3445              3450   \n",
       " 258                4144              4149   \n",
       " 259                4845              4850   \n",
       " 260                5545              5550   \n",
       " \n",
       "                                             dff_before  \\\n",
       " 0    [0.054598767, 0.06078657, 0.03721669, 0.038682...   \n",
       " 1    [0.03240184, 0.044733804, 0.024001548, 0.02218...   \n",
       " 2    [0.04760842, 0.080916405, 0.06997735, 0.038695...   \n",
       " 3    [0.014568833, 0.018858666, 0.015992953, 0.0200...   \n",
       " 4    [0.05529377, 0.004222768, 0.028083421, 0.04188...   \n",
       " ..                                                 ...   \n",
       " 256  [0.044009406, 0.035009526, 0.06686162, 0.08253...   \n",
       " 257  [0.028829338, 0.019474708, 0.049133588, 0.0383...   \n",
       " 258  [0.014759668, 0.010661985, 0.03287143, 0.00906...   \n",
       " 259  [0.0056119356, -0.0070766318, 0.028791232, 0.0...   \n",
       " 260  [-0.0006676965, 0.039572056, 0.05991927, 0.015...   \n",
       " \n",
       "                                             dff_during  \\\n",
       " 0    [0.28766456, 0.24877402, 0.26846957, 0.2516567...   \n",
       " 1    [0.29176104, 0.27571318, 0.2897124, 0.26651302...   \n",
       " 2    [0.14971407, 0.18007009, 0.15042888, 0.1721421...   \n",
       " 3    [0.1111679, 0.12800837, 0.15158093, 0.20281744...   \n",
       " 4    [0.24753499, 0.20144881, 0.19169109, 0.2008562...   \n",
       " ..                                                 ...   \n",
       " 256  [0.25202844, 0.21468548, 0.21533735, 0.2225115...   \n",
       " 257  [0.22193277, 0.22653557, 0.22970651, 0.2373035...   \n",
       " 258  [0.23620765, 0.2368687, 0.25733522, 0.23845643...   \n",
       " 259  [0.23995449, 0.2587208, 0.25128087, 0.25022483...   \n",
       " 260  [0.22458196, 0.23466712, 0.26457468, 0.2366433...   \n",
       " \n",
       "                                              dff_after  \n",
       " 0    [0.048961718, 0.069584034, 0.03722217, 0.01916...  \n",
       " 1    [0.036694378, -0.010718676, 0.025001233, 0.004...  \n",
       " 2    [0.07838976, 0.093723916, 0.11073011, 0.063612...  \n",
       " 3    [0.044470083, 0.04860921, 0.0775243, 0.0778435...  \n",
       " 4    [0.14517678, 0.12293305, 0.1137105, 0.08082393...  \n",
       " ..                                                 ...  \n",
       " 256  [0.06621941, 0.07362655, 0.051485617, 0.078565...  \n",
       " 257  [0.064021826, 0.076009095, 0.066019125, 0.0738...  \n",
       " 258  [0.030296793, 0.08557811, 0.091722935, 0.08743...  \n",
       " 259  [0.052880257, 0.048214655, 0.0755431, 0.049634...  \n",
       " 260  [0.059236363, 0.070986636, 0.095575005, 0.0753...  \n",
       " \n",
       " [218 rows x 11 columns],\n",
       " 'ignored_trans_subjs': array(['CW_17-08-24-L1', 'CW_17-08-24-L2-1', 'CW_17-08-24-L2-2',\n",
       "        'CW_17-08-27-L3', 'CW_17-08-28-L3', 'CW_17-11-28-L3',\n",
       "        'CW_17-11-30-L3', 'CW_17-12-11-L2'], dtype=object),\n",
       " 'ignored_vol_subjs':     Main folder                                         Subfolder\n",
       " 20  CW_17-09-01            L3-561nm-ROI_20170901_162644.corrected\n",
       " 25  CW_17-11-03  L5-561nm-ROImonitoring_20171103_164908.corrected\n",
       " 27  CW_17-11-03  L7-561nm-ROImonitoring_20171103_201021.corrected\n",
       " 32  CW_17-11-05  L6-561nm-ROImonitoring_20171105_163422.corrected\n",
       " 33  CW_17-11-05  L7-561nm-ROImonitoring_20171105_180850.corrected\n",
       " 34  CW_17-11-06  L1-561nm-ROImonitoring_20171106_141140.corrected\n",
       " 36  CW_17-11-06  L3-561nm-ROImonitoring_20171106_174549.corrected\n",
       " 38  CW_17-11-07  L3-561nm-ROImonitoring_20171107_134028.corrected}"
      ]
     },
     "execution_count": 22,
     "metadata": {},
     "output_type": "execute_result"
    }
   ],
   "source": [
    "file_data"
   ]
  },
  {
   "cell_type": "code",
   "execution_count": null,
   "metadata": {},
   "outputs": [],
   "source": []
  }
 ],
 "metadata": {
  "kernelspec": {
   "display_name": "Python 3",
   "language": "python",
   "name": "python3"
  },
  "language_info": {
   "codemirror_mode": {
    "name": "ipython",
    "version": 3
   },
   "file_extension": ".py",
   "mimetype": "text/x-python",
   "name": "python",
   "nbconvert_exporter": "python",
   "pygments_lexer": "ipython3",
   "version": "3.7.3"
  }
 },
 "nbformat": 4,
 "nbformat_minor": 2
}
