{
 "cells": [
  {
   "cell_type": "markdown",
   "metadata": {},
   "source": [
    "This is a script to read in data provided by Chen in MATLAB files and save it in a Pandas DataFrame.\n",
    "\n",
    "The data it will read in is the extracted $\\Delta F/F$ before, during or after a manipulation and the annotations associated with each manipulation event (e.g., the behavior before and after the manipulation). \n",
    "\n",
    "The main purpose of this script is to save the data in a format for later linear encoding model work. \n"
   ]
  },
  {
   "cell_type": "code",
   "execution_count": 1,
   "metadata": {},
   "outputs": [],
   "source": [
    "%load_ext autoreload\n",
    "%autoreload 2"
   ]
  },
  {
   "cell_type": "code",
   "execution_count": 2,
   "metadata": {},
   "outputs": [
    {
     "name": "stderr",
     "output_type": "stream",
     "text": [
      "/Users/williambishop/Documents/Janelia_Research/Projects/janelia_core/janelia_core/fileio/exp_reader.py:21: UserWarning: Unable to locate pyklb module.  Will not be able to read in .klb files.\n",
      "  warnings.warn('Unable to locate pyklb module.  Will not be able to read in .klb files.')\n"
     ]
    }
   ],
   "source": [
    "from pathlib import Path\n",
    "import pickle\n",
    "\n",
    "import numpy as np\n",
    "import pandas as pd\n",
    "import scipy.io\n",
    "\n",
    "from keller_zlatic_vnc.data_processing import produce_table_of_extracted_data"
   ]
  },
  {
   "cell_type": "markdown",
   "metadata": {},
   "source": [
    "## Parameters are below"
   ]
  },
  {
   "cell_type": "code",
   "execution_count": 3,
   "metadata": {},
   "outputs": [],
   "source": [
    "ps = dict()\n",
    "\n",
    "#ps['data_dir'] = r'/groups/bishop/bishoplab/projects/keller_vnc/data/extracted_dff/Handle'\n",
    "ps['data_dir'] = r'/Volumes/bishoplab/projects/keller_vnc/data/extracted_dff/Handle'\n",
    "\n",
    "# Specify file names\n",
    "ps['a4_act_file'] = r'Handle-activity-A4.mat' # File containing activity for A4 manipulation events\n",
    "ps['a4_annot_file'] = r'Handle-transition-A4.mat' # File containing annotations for A4 manipulation events\n",
    "\n",
    "ps['a9_act_file'] = r'Handle-activity-A9.mat' # File containing activity for A9 manipulation events\n",
    "ps['a9_annot_file'] = r'Handle-transition-A9.mat' # File containing annotations for A9 manipulation events\n",
    "\n",
    "ps['nan_neuron_id_error'] = False\n",
    "\n",
    "# Specify name to save table under \n",
    "ps['save_name'] = 'Handle_activity'"
   ]
  },
  {
   "cell_type": "markdown",
   "metadata": {},
   "source": [
    "## Process A4 data"
   ]
  },
  {
   "cell_type": "code",
   "execution_count": 4,
   "metadata": {},
   "outputs": [],
   "source": [
    "a4_act_file = Path(ps['data_dir']) / ps['a4_act_file']\n",
    "a4_annot_file = Path(ps['data_dir']) / ps['a4_annot_file']\n",
    "\n",
    "a4_act_data = scipy.io.loadmat(a4_act_file, squeeze_me=True)\n",
    "a4_annot_data = scipy.io.loadmat(a4_annot_file, squeeze_me=True)"
   ]
  },
  {
   "cell_type": "code",
   "execution_count": 5,
   "metadata": {},
   "outputs": [],
   "source": [
    "a4_table = produce_table_of_extracted_data(act_data=a4_act_data, annot_data=a4_annot_data,\n",
    "                                           nan_neuron_id_error=ps['nan_neuron_id_error'])"
   ]
  },
  {
   "cell_type": "code",
   "execution_count": 6,
   "metadata": {},
   "outputs": [],
   "source": [
    "a4_table['man_tgt'] = 'A4'"
   ]
  },
  {
   "cell_type": "markdown",
   "metadata": {},
   "source": [
    "## Process A9 data"
   ]
  },
  {
   "cell_type": "code",
   "execution_count": 7,
   "metadata": {},
   "outputs": [],
   "source": [
    "a9_act_file = Path(ps['data_dir']) / ps['a9_act_file']\n",
    "a9_annot_file = Path(ps['data_dir']) / ps['a9_annot_file']\n",
    "\n",
    "a9_act_data = scipy.io.loadmat(a9_act_file, squeeze_me=True)\n",
    "a9_annot_data = scipy.io.loadmat(a9_annot_file, squeeze_me=True)"
   ]
  },
  {
   "cell_type": "code",
   "execution_count": 8,
   "metadata": {},
   "outputs": [],
   "source": [
    "a9_table = produce_table_of_extracted_data(act_data=a9_act_data, annot_data=a9_annot_data, \n",
    "                                           nan_neuron_id_error=ps['nan_neuron_id_error'])"
   ]
  },
  {
   "cell_type": "code",
   "execution_count": 9,
   "metadata": {},
   "outputs": [],
   "source": [
    "a9_table['man_tgt'] = 'A9'"
   ]
  },
  {
   "cell_type": "markdown",
   "metadata": {},
   "source": [
    "## Put tables together"
   ]
  },
  {
   "cell_type": "code",
   "execution_count": 10,
   "metadata": {},
   "outputs": [],
   "source": [
    "table = a4_table.append(a9_table, ignore_index=True)"
   ]
  },
  {
   "cell_type": "markdown",
   "metadata": {},
   "source": [
    "## Save the table"
   ]
  },
  {
   "cell_type": "code",
   "execution_count": 11,
   "metadata": {},
   "outputs": [],
   "source": [
    "save_path = Path(ps['data_dir']) / (ps['save_name'] + '.pkl')"
   ]
  },
  {
   "cell_type": "code",
   "execution_count": 12,
   "metadata": {},
   "outputs": [],
   "source": [
    "dataframe_dict = table.to_dict()\n",
    "with open(save_path, 'wb') as f:\n",
    "    pickle.dump(dataframe_dict, f)"
   ]
  },
  {
   "cell_type": "markdown",
   "metadata": {},
   "source": [
    "## Load the table"
   ]
  },
  {
   "cell_type": "code",
   "execution_count": null,
   "metadata": {},
   "outputs": [],
   "source": [
    "with open(save_path, 'rb') as f:\n",
    "    dt = pickle.load(f)\n",
    "table2 = pd.DataFrame(dt)"
   ]
  },
  {
   "cell_type": "code",
   "execution_count": null,
   "metadata": {},
   "outputs": [],
   "source": [
    "table2[table2['subject_id'] == '1106L2']"
   ]
  },
  {
   "cell_type": "code",
   "execution_count": null,
   "metadata": {},
   "outputs": [],
   "source": [
    "a9_annot_data['transitions'][10]"
   ]
  },
  {
   "cell_type": "code",
   "execution_count": null,
   "metadata": {},
   "outputs": [],
   "source": [
    "a9_act_data['activityPreManipulationSet'][10]"
   ]
  },
  {
   "cell_type": "code",
   "execution_count": null,
   "metadata": {},
   "outputs": [],
   "source": [
    "a4_table"
   ]
  },
  {
   "cell_type": "code",
   "execution_count": null,
   "metadata": {},
   "outputs": [],
   "source": [
    "a = np.asarray([0, 1, 1, 0], dtype=np.bool)"
   ]
  },
  {
   "cell_type": "code",
   "execution_count": null,
   "metadata": {},
   "outputs": [],
   "source": [
    "np.logical_not(a)"
   ]
  },
  {
   "cell_type": "code",
   "execution_count": null,
   "metadata": {},
   "outputs": [],
   "source": []
  }
 ],
 "metadata": {
  "kernelspec": {
   "display_name": "Python 3",
   "language": "python",
   "name": "python3"
  },
  "language_info": {
   "codemirror_mode": {
    "name": "ipython",
    "version": 3
   },
   "file_extension": ".py",
   "mimetype": "text/x-python",
   "name": "python",
   "nbconvert_exporter": "python",
   "pygments_lexer": "ipython3",
   "version": "3.7.3"
  }
 },
 "nbformat": 4,
 "nbformat_minor": 2
}
