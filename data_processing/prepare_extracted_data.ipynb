{
 "cells": [
  {
   "cell_type": "markdown",
   "metadata": {},
   "source": [
    "This is a script to read in data provided by Chen in MATLAB files and save it in a Pandas DataFrame.\n",
    "\n",
    "The data it will read in is the extracted $\\Delta F/F$ before, during or after a manipulation and the annotations associated with each manipulation event (e.g., the behavior before and after the manipulation). \n",
    "\n",
    "The main purpose of this script is to save the data in a format for later linear encoding model work. \n"
   ]
  },
  {
   "cell_type": "code",
   "execution_count": 1,
   "metadata": {},
   "outputs": [],
   "source": [
    "%load_ext autoreload\n",
    "%autoreload 2"
   ]
  },
  {
   "cell_type": "code",
   "execution_count": 2,
   "metadata": {},
   "outputs": [],
   "source": [
    "from pathlib import Path\n",
    "import pickle\n",
    "\n",
    "import numpy as np\n",
    "import pandas as pd\n",
    "import scipy.io\n",
    "\n",
    "from keller_zlatic_vnc.data_processing import produce_table_of_extracted_data"
   ]
  },
  {
   "cell_type": "markdown",
   "metadata": {},
   "source": [
    "## Parameters are below"
   ]
  },
  {
   "cell_type": "code",
   "execution_count": 3,
   "metadata": {},
   "outputs": [],
   "source": [
    "ps = dict()\n",
    "\n",
    "ps['data_dir'] = r'/groups/bishop/bishoplab/projects/keller_vnc/data/extracted_dff'\n",
    "\n",
    "# Specify file names\n",
    "ps['a4_act_file'] = r'A00c-activity-A4.mat' # File containing activity for A4 manipulation events\n",
    "ps['a4_annot_file'] = r'A00c-transition-A4.mat' # File containing annotations for A4 manipulation events\n",
    "\n",
    "ps['a9_act_file'] = r'A00c-activity-A9.mat' # File containing activity for A9 manipulation events\n",
    "ps['a9_annot_file'] = r'A00c-transition-A9.mat' # File containing annotations for A9 manipulation events\n",
    "\n",
    "# Specify name to save table under \n",
    "ps['save_name'] = 'A00c_activity'"
   ]
  },
  {
   "cell_type": "markdown",
   "metadata": {},
   "source": [
    "## Process A4 data"
   ]
  },
  {
   "cell_type": "code",
   "execution_count": 4,
   "metadata": {},
   "outputs": [],
   "source": [
    "a4_act_file = Path(ps['data_dir']) / ps['a4_act_file']\n",
    "a4_annot_file = Path(ps['data_dir']) / ps['a4_annot_file']\n",
    "\n",
    "a4_act_data = scipy.io.loadmat(a4_act_file, squeeze_me=True)\n",
    "a4_annot_data = scipy.io.loadmat(a4_annot_file, squeeze_me=True)"
   ]
  },
  {
   "cell_type": "code",
   "execution_count": 5,
   "metadata": {},
   "outputs": [],
   "source": [
    "a4_table = produce_table_of_extracted_data(act_data=a4_act_data, annot_data=a4_annot_data)"
   ]
  },
  {
   "cell_type": "code",
   "execution_count": 6,
   "metadata": {},
   "outputs": [],
   "source": [
    "a4_table['man_tgt'] = 'A4'"
   ]
  },
  {
   "cell_type": "markdown",
   "metadata": {},
   "source": [
    "## Process A9 data"
   ]
  },
  {
   "cell_type": "code",
   "execution_count": 7,
   "metadata": {},
   "outputs": [],
   "source": [
    "a9_act_file = Path(ps['data_dir']) / ps['a9_act_file']\n",
    "a9_annot_file = Path(ps['data_dir']) / ps['a9_annot_file']\n",
    "\n",
    "a9_act_data = scipy.io.loadmat(a9_act_file, squeeze_me=True)\n",
    "a9_annot_data = scipy.io.loadmat(a9_annot_file, squeeze_me=True)"
   ]
  },
  {
   "cell_type": "code",
   "execution_count": 8,
   "metadata": {},
   "outputs": [],
   "source": [
    "a9_table = produce_table_of_extracted_data(act_data=a9_act_data, annot_data=a9_annot_data)"
   ]
  },
  {
   "cell_type": "code",
   "execution_count": 9,
   "metadata": {},
   "outputs": [],
   "source": [
    "a9_table['man_tgt'] = 'A9'"
   ]
  },
  {
   "cell_type": "markdown",
   "metadata": {},
   "source": [
    "## Put tables together"
   ]
  },
  {
   "cell_type": "code",
   "execution_count": 10,
   "metadata": {},
   "outputs": [],
   "source": [
    "table = a4_table.append(a9_table, ignore_index=True)"
   ]
  },
  {
   "cell_type": "markdown",
   "metadata": {},
   "source": [
    "## Save the table"
   ]
  },
  {
   "cell_type": "code",
   "execution_count": 11,
   "metadata": {},
   "outputs": [],
   "source": [
    "save_path = Path(ps['data_dir']) / (ps['save_name'] + '.pkl')"
   ]
  },
  {
   "cell_type": "code",
   "execution_count": 12,
   "metadata": {},
   "outputs": [],
   "source": [
    "dataframe_dict = table.to_dict()\n",
    "with open(save_path, 'wb') as f:\n",
    "    pickle.dump(dataframe_dict, f)"
   ]
  },
  {
   "cell_type": "markdown",
   "metadata": {},
   "source": [
    "## Load the table"
   ]
  },
  {
   "cell_type": "code",
   "execution_count": 13,
   "metadata": {},
   "outputs": [],
   "source": [
    "with open(save_path, 'rb') as f:\n",
    "    dt = pickle.load(f)\n",
    "table2 = pd.DataFrame(dt)"
   ]
  },
  {
   "cell_type": "code",
   "execution_count": 19,
   "metadata": {},
   "outputs": [
    {
     "data": {
      "text/html": [
       "<div>\n",
       "<style scoped>\n",
       "    .dataframe tbody tr th:only-of-type {\n",
       "        vertical-align: middle;\n",
       "    }\n",
       "\n",
       "    .dataframe tbody tr th {\n",
       "        vertical-align: top;\n",
       "    }\n",
       "\n",
       "    .dataframe thead th {\n",
       "        text-align: right;\n",
       "    }\n",
       "</style>\n",
       "<table border=\"1\" class=\"dataframe\">\n",
       "  <thead>\n",
       "    <tr style=\"text-align: right;\">\n",
       "      <th></th>\n",
       "      <th>subject_id</th>\n",
       "      <th>cell_id</th>\n",
       "      <th>event_id</th>\n",
       "      <th>beh_before</th>\n",
       "      <th>beh_after</th>\n",
       "      <th>dff_before</th>\n",
       "      <th>dff_during</th>\n",
       "      <th>dff_after</th>\n",
       "      <th>man_tgt</th>\n",
       "    </tr>\n",
       "  </thead>\n",
       "  <tbody>\n",
       "    <tr>\n",
       "      <td>1352</td>\n",
       "      <td>1106L2</td>\n",
       "      <td>1.0</td>\n",
       "      <td>0</td>\n",
       "      <td>O</td>\n",
       "      <td>F</td>\n",
       "      <td>0.009442</td>\n",
       "      <td>0.060708</td>\n",
       "      <td>0.077567</td>\n",
       "      <td>A9</td>\n",
       "    </tr>\n",
       "    <tr>\n",
       "      <td>1353</td>\n",
       "      <td>1106L2</td>\n",
       "      <td>2.0</td>\n",
       "      <td>0</td>\n",
       "      <td>O</td>\n",
       "      <td>F</td>\n",
       "      <td>0.013435</td>\n",
       "      <td>0.063870</td>\n",
       "      <td>0.089291</td>\n",
       "      <td>A9</td>\n",
       "    </tr>\n",
       "    <tr>\n",
       "      <td>1354</td>\n",
       "      <td>1106L2</td>\n",
       "      <td>3.0</td>\n",
       "      <td>0</td>\n",
       "      <td>O</td>\n",
       "      <td>F</td>\n",
       "      <td>0.015323</td>\n",
       "      <td>0.146777</td>\n",
       "      <td>0.202122</td>\n",
       "      <td>A9</td>\n",
       "    </tr>\n",
       "    <tr>\n",
       "      <td>1355</td>\n",
       "      <td>1106L2</td>\n",
       "      <td>4.0</td>\n",
       "      <td>0</td>\n",
       "      <td>O</td>\n",
       "      <td>F</td>\n",
       "      <td>0.007441</td>\n",
       "      <td>0.103510</td>\n",
       "      <td>0.141089</td>\n",
       "      <td>A9</td>\n",
       "    </tr>\n",
       "    <tr>\n",
       "      <td>1356</td>\n",
       "      <td>1106L2</td>\n",
       "      <td>5.0</td>\n",
       "      <td>0</td>\n",
       "      <td>O</td>\n",
       "      <td>F</td>\n",
       "      <td>0.014490</td>\n",
       "      <td>0.081152</td>\n",
       "      <td>0.110498</td>\n",
       "      <td>A9</td>\n",
       "    </tr>\n",
       "    <tr>\n",
       "      <td>1357</td>\n",
       "      <td>1106L2</td>\n",
       "      <td>6.0</td>\n",
       "      <td>0</td>\n",
       "      <td>O</td>\n",
       "      <td>F</td>\n",
       "      <td>0.019713</td>\n",
       "      <td>0.076331</td>\n",
       "      <td>0.111956</td>\n",
       "      <td>A9</td>\n",
       "    </tr>\n",
       "  </tbody>\n",
       "</table>\n",
       "</div>"
      ],
      "text/plain": [
       "     subject_id  cell_id  event_id beh_before beh_after  dff_before  \\\n",
       "1352     1106L2      1.0         0          O         F    0.009442   \n",
       "1353     1106L2      2.0         0          O         F    0.013435   \n",
       "1354     1106L2      3.0         0          O         F    0.015323   \n",
       "1355     1106L2      4.0         0          O         F    0.007441   \n",
       "1356     1106L2      5.0         0          O         F    0.014490   \n",
       "1357     1106L2      6.0         0          O         F    0.019713   \n",
       "\n",
       "      dff_during  dff_after man_tgt  \n",
       "1352    0.060708   0.077567      A9  \n",
       "1353    0.063870   0.089291      A9  \n",
       "1354    0.146777   0.202122      A9  \n",
       "1355    0.103510   0.141089      A9  \n",
       "1356    0.081152   0.110498      A9  \n",
       "1357    0.076331   0.111956      A9  "
      ]
     },
     "execution_count": 19,
     "metadata": {},
     "output_type": "execute_result"
    }
   ],
   "source": [
    "table2[table2['subject_id'] == '1106L2']"
   ]
  },
  {
   "cell_type": "code",
   "execution_count": 18,
   "metadata": {},
   "outputs": [
    {
     "data": {
      "text/plain": [
       "array(['OF', '1106L2'], dtype=object)"
      ]
     },
     "execution_count": 18,
     "metadata": {},
     "output_type": "execute_result"
    }
   ],
   "source": [
    "a9_annot_data['transitions'][10]"
   ]
  },
  {
   "cell_type": "code",
   "execution_count": 20,
   "metadata": {},
   "outputs": [
    {
     "data": {
      "text/plain": [
       "array([[1.        , 0.00944208],\n",
       "       [2.        , 0.01343484],\n",
       "       [3.        , 0.01532282],\n",
       "       [4.        , 0.00744148],\n",
       "       [5.        , 0.01449016],\n",
       "       [6.        , 0.01971278]])"
      ]
     },
     "execution_count": 20,
     "metadata": {},
     "output_type": "execute_result"
    }
   ],
   "source": [
    "a9_act_data['activityPreManipulationSet'][10]"
   ]
  },
  {
   "cell_type": "code",
   "execution_count": null,
   "metadata": {},
   "outputs": [],
   "source": []
  }
 ],
 "metadata": {
  "kernelspec": {
   "display_name": "Python 3",
   "language": "python",
   "name": "python3"
  },
  "language_info": {
   "codemirror_mode": {
    "name": "ipython",
    "version": 3
   },
   "file_extension": ".py",
   "mimetype": "text/x-python",
   "name": "python",
   "nbconvert_exporter": "python",
   "pygments_lexer": "ipython3",
   "version": "3.7.3"
  }
 },
 "nbformat": 4,
 "nbformat_minor": 2
}
